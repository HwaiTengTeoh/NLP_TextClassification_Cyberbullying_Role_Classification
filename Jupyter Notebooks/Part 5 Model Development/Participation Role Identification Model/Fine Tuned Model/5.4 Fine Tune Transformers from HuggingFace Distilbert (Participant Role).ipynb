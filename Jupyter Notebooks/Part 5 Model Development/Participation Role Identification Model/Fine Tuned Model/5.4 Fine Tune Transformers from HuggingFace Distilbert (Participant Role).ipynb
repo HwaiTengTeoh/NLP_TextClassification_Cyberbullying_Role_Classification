{
 "cells": [
  {
   "cell_type": "markdown",
   "id": "a0aff953",
   "metadata": {
    "id": "a0aff953"
   },
   "source": [
    "<div class=\"alert alert-info\" style=\"background-color:#5d3a8e; color:white; padding:0px 10px; border-radius:5px;\"><h2 style='margin:10px 5px'>Required Libraries and Modules</h2>\n",
    "</div>"
   ]
  },
  {
   "cell_type": "markdown",
   "id": "b5aba6b4",
   "metadata": {},
   "source": [
    "**Note: This notebook is run in Paperspace platform**"
   ]
  },
  {
   "cell_type": "code",
   "execution_count": 1,
   "id": "A8qAxltS-XJv",
   "metadata": {
    "id": "A8qAxltS-XJv"
   },
   "outputs": [
    {
     "name": "stdout",
     "output_type": "stream",
     "text": [
      "\u001b[33mWARNING: The directory '/home/jovyan/.cache/pip' or its parent directory is not owned or is not writable by the current user. The cache has been disabled. Check the permissions and owner of that directory. If executing pip with sudo, you should use sudo's -H flag.\u001b[0m\u001b[33m\n",
      "\u001b[0mCollecting transformers\n",
      "  Downloading transformers-4.18.0-py3-none-any.whl (4.0 MB)\n",
      "\u001b[2K     \u001b[90m━━━━━━━━━━━━━━━━━━━━━━━━━━━━━━━━━━━━━━━━\u001b[0m \u001b[32m4.0/4.0 MB\u001b[0m \u001b[31m24.1 MB/s\u001b[0m eta \u001b[36m0:00:00\u001b[0ma \u001b[36m0:00:01\u001b[0m\n",
      "\u001b[?25hRequirement already satisfied: packaging>=20.0 in /opt/conda/lib/python3.9/site-packages (from transformers) (21.3)\n",
      "Requirement already satisfied: requests in /opt/conda/lib/python3.9/site-packages (from transformers) (2.27.1)\n",
      "Requirement already satisfied: tqdm>=4.27 in /opt/conda/lib/python3.9/site-packages (from transformers) (4.62.3)\n",
      "Collecting regex!=2019.12.17\n",
      "  Downloading regex-2022.4.24-cp39-cp39-manylinux_2_17_x86_64.manylinux2014_x86_64.whl (763 kB)\n",
      "\u001b[2K     \u001b[90m━━━━━━━━━━━━━━━━━━━━━━━━━━━━━━━━━━━━━━\u001b[0m \u001b[32m763.2/763.2 KB\u001b[0m \u001b[31m26.1 MB/s\u001b[0m eta \u001b[36m0:00:00\u001b[0m\n",
      "\u001b[?25hCollecting filelock\n",
      "  Downloading filelock-3.6.0-py3-none-any.whl (10.0 kB)\n",
      "Requirement already satisfied: pyyaml>=5.1 in /opt/conda/lib/python3.9/site-packages (from transformers) (5.4.1)\n",
      "Collecting tokenizers!=0.11.3,<0.13,>=0.11.1\n",
      "  Downloading tokenizers-0.12.1-cp39-cp39-manylinux_2_12_x86_64.manylinux2010_x86_64.whl (6.6 MB)\n",
      "\u001b[2K     \u001b[90m━━━━━━━━━━━━━━━━━━━━━━━━━━━━━━━━━━━━━━━━\u001b[0m \u001b[32m6.6/6.6 MB\u001b[0m \u001b[31m24.1 MB/s\u001b[0m eta \u001b[36m0:00:00\u001b[0ma \u001b[36m0:00:01\u001b[0m\n",
      "\u001b[?25hCollecting huggingface-hub<1.0,>=0.1.0\n",
      "  Downloading huggingface_hub-0.5.1-py3-none-any.whl (77 kB)\n",
      "\u001b[2K     \u001b[90m━━━━━━━━━━━━━━━━━━━━━━━━━━━━━━━━━━━━━━━\u001b[0m \u001b[32m77.9/77.9 KB\u001b[0m \u001b[31m183.0 MB/s\u001b[0m eta \u001b[36m0:00:00\u001b[0m\n",
      "\u001b[?25hRequirement already satisfied: numpy>=1.17 in /opt/conda/lib/python3.9/site-packages (from transformers) (1.21.5)\n",
      "Collecting sacremoses\n",
      "  Downloading sacremoses-0.0.53.tar.gz (880 kB)\n",
      "\u001b[2K     \u001b[90m━━━━━━━━━━━━━━━━━━━━━━━━━━━━━━━━━━━━━━\u001b[0m \u001b[32m880.6/880.6 KB\u001b[0m \u001b[31m24.5 MB/s\u001b[0m eta \u001b[36m0:00:00\u001b[0m00:01\u001b[0m\n",
      "\u001b[?25h  Preparing metadata (setup.py) ... \u001b[?25ldone\n",
      "\u001b[?25hRequirement already satisfied: typing-extensions>=3.7.4.3 in /opt/conda/lib/python3.9/site-packages (from huggingface-hub<1.0,>=0.1.0->transformers) (4.1.1)\n",
      "Requirement already satisfied: pyparsing!=3.0.5,>=2.0.2 in /opt/conda/lib/python3.9/site-packages (from packaging>=20.0->transformers) (3.0.7)\n",
      "Requirement already satisfied: charset-normalizer~=2.0.0 in /opt/conda/lib/python3.9/site-packages (from requests->transformers) (2.0.12)\n",
      "Requirement already satisfied: urllib3<1.27,>=1.21.1 in /opt/conda/lib/python3.9/site-packages (from requests->transformers) (1.26.8)\n",
      "Requirement already satisfied: certifi>=2017.4.17 in /opt/conda/lib/python3.9/site-packages (from requests->transformers) (2021.10.8)\n",
      "Requirement already satisfied: idna<4,>=2.5 in /opt/conda/lib/python3.9/site-packages (from requests->transformers) (3.3)\n",
      "Requirement already satisfied: six in /opt/conda/lib/python3.9/site-packages (from sacremoses->transformers) (1.16.0)\n",
      "Requirement already satisfied: click in /opt/conda/lib/python3.9/site-packages (from sacremoses->transformers) (8.0.4)\n",
      "Requirement already satisfied: joblib in /opt/conda/lib/python3.9/site-packages (from sacremoses->transformers) (1.1.0)\n",
      "Building wheels for collected packages: sacremoses\n",
      "  Building wheel for sacremoses (setup.py) ... \u001b[?25ldone\n",
      "\u001b[?25h  Created wheel for sacremoses: filename=sacremoses-0.0.53-py3-none-any.whl size=895261 sha256=4baefdeafb9267781d20b0d2346ba5bf6f76f8d9e102b83a46e5050cd978ded7\n",
      "  Stored in directory: /tmp/pip-ephem-wheel-cache-xvlrvknb/wheels/12/1c/3d/46cf06718d63a32ff798a89594b61e7f345ab6b36d909ce033\n",
      "Successfully built sacremoses\n",
      "Installing collected packages: tokenizers, regex, filelock, sacremoses, huggingface-hub, transformers\n",
      "Successfully installed filelock-3.6.0 huggingface-hub-0.5.1 regex-2022.4.24 sacremoses-0.0.53 tokenizers-0.12.1 transformers-4.18.0\n",
      "\u001b[33mWARNING: Running pip as the 'root' user can result in broken permissions and conflicting behaviour with the system package manager. It is recommended to use a virtual environment instead: https://pip.pypa.io/warnings/venv\u001b[0m\u001b[33m\n",
      "\u001b[0m\u001b[33mWARNING: The directory '/home/jovyan/.cache/pip' or its parent directory is not owned or is not writable by the current user. The cache has been disabled. Check the permissions and owner of that directory. If executing pip with sudo, you should use sudo's -H flag.\u001b[0m\u001b[33m\n",
      "\u001b[0mCollecting imblearn\n",
      "  Downloading imblearn-0.0-py2.py3-none-any.whl (1.9 kB)\n",
      "Collecting imbalanced-learn\n",
      "  Downloading imbalanced_learn-0.9.0-py3-none-any.whl (199 kB)\n",
      "\u001b[2K     \u001b[90m━━━━━━━━━━━━━━━━━━━━━━━━━━━━━━━━━━━━━━\u001b[0m \u001b[32m199.1/199.1 KB\u001b[0m \u001b[31m31.0 MB/s\u001b[0m eta \u001b[36m0:00:00\u001b[0m\n",
      "\u001b[?25hRequirement already satisfied: scipy>=1.1.0 in /opt/conda/lib/python3.9/site-packages (from imbalanced-learn->imblearn) (1.8.0)\n",
      "Requirement already satisfied: scikit-learn>=1.0.1 in /opt/conda/lib/python3.9/site-packages (from imbalanced-learn->imblearn) (1.0.2)\n",
      "Requirement already satisfied: threadpoolctl>=2.0.0 in /opt/conda/lib/python3.9/site-packages (from imbalanced-learn->imblearn) (3.1.0)\n",
      "Requirement already satisfied: numpy>=1.14.6 in /opt/conda/lib/python3.9/site-packages (from imbalanced-learn->imblearn) (1.21.5)\n",
      "Requirement already satisfied: joblib>=0.11 in /opt/conda/lib/python3.9/site-packages (from imbalanced-learn->imblearn) (1.1.0)\n",
      "Installing collected packages: imbalanced-learn, imblearn\n",
      "Successfully installed imbalanced-learn-0.9.0 imblearn-0.0\n",
      "\u001b[33mWARNING: Running pip as the 'root' user can result in broken permissions and conflicting behaviour with the system package manager. It is recommended to use a virtual environment instead: https://pip.pypa.io/warnings/venv\u001b[0m\u001b[33m\n",
      "\u001b[0m\u001b[33mWARNING: The directory '/home/jovyan/.cache/pip' or its parent directory is not owned or is not writable by the current user. The cache has been disabled. Check the permissions and owner of that directory. If executing pip with sudo, you should use sudo's -H flag.\u001b[0m\u001b[33m\n",
      "\u001b[0mCollecting torch\n",
      "  Downloading torch-1.11.0-cp39-cp39-manylinux1_x86_64.whl (750.6 MB)\n",
      "\u001b[2K     \u001b[90m━━━━━━━━━━━━━━━━━━━━━━━━━━━━━━━━━━━━━━\u001b[0m \u001b[32m750.6/750.6 MB\u001b[0m \u001b[31m24.3 MB/s\u001b[0m eta \u001b[36m0:00:00\u001b[0m00:01\u001b[0m00:01\u001b[0m\n",
      "\u001b[?25hRequirement already satisfied: typing-extensions in /opt/conda/lib/python3.9/site-packages (from torch) (4.1.1)\n",
      "Installing collected packages: torch\n",
      "Successfully installed torch-1.11.0\n",
      "\u001b[33mWARNING: Running pip as the 'root' user can result in broken permissions and conflicting behaviour with the system package manager. It is recommended to use a virtual environment instead: https://pip.pypa.io/warnings/venv\u001b[0m\u001b[33m\n",
      "\u001b[0m"
     ]
    }
   ],
   "source": [
    "!pip install transformers\n",
    "!pip install imblearn\n",
    "!pip install torch"
   ]
  },
  {
   "cell_type": "code",
   "execution_count": 2,
   "id": "02505ed3",
   "metadata": {
    "id": "02505ed3"
   },
   "outputs": [
    {
     "name": "stderr",
     "output_type": "stream",
     "text": [
      "/tmp/ipykernel_52/1605486461.py:16: TqdmDeprecationWarning: This function will be removed in tqdm==5.0.0\n",
      "Please use `tqdm.notebook.*` instead of `tqdm._tqdm_notebook.*`\n",
      "  from tqdm._tqdm_notebook import tqdm_notebook\n"
     ]
    }
   ],
   "source": [
    "import numpy as np\n",
    "import pandas as pd\n",
    "\n",
    "from sklearn.model_selection import train_test_split, StratifiedKFold, StratifiedShuffleSplit\n",
    "from sklearn.metrics import accuracy_score, recall_score, precision_score, f1_score,  classification_report\n",
    "from imblearn.under_sampling import RandomUnderSampler\n",
    "\n",
    "import torch\n",
    "from collections import Counter\n",
    "from transformers import AutoTokenizer, AutoModelForSequenceClassification\n",
    "from transformers import TrainingArguments, Trainer\n",
    "from transformers import BertTokenizer, BertForSequenceClassification\n",
    "from transformers import EarlyStoppingCallback, set_seed\n",
    "\n",
    "# Progress bar\n",
    "from tqdm._tqdm_notebook import tqdm_notebook\n",
    "from tqdm import tqdm\n",
    "tqdm_notebook.pandas()"
   ]
  },
  {
   "cell_type": "markdown",
   "id": "5a8c1621",
   "metadata": {
    "id": "5a8c1621"
   },
   "source": [
    "<div class=\"alert alert-info\" style=\"background-color:#5d3a8e; color:white; padding:0px 10px; border-radius:5px;\"><h2 style='margin:10px 5px'>Import Clean Text Data</h2>\n",
    "</div>"
   ]
  },
  {
   "cell_type": "code",
   "execution_count": 3,
   "id": "c58048aa",
   "metadata": {
    "id": "c58048aa"
   },
   "outputs": [
    {
     "data": {
      "application/vnd.jupyter.widget-view+json": {
       "model_id": "2c988d719a6e48dea0a947cd83ec0aff",
       "version_major": 2,
       "version_minor": 0
      },
      "text/plain": [
       "  0%|          | 0/112247 [00:00<?, ?it/s]"
      ]
     },
     "metadata": {},
     "output_type": "display_data"
    }
   ],
   "source": [
    "###############################################################\n",
    "# Note: Change the name of data set used for feature creation\n",
    "###############################################################\n",
    "data_set='bully_data_clean_with_stopword'\n",
    "    \n",
    "    \n",
    "###################\n",
    "# Import Data Set #\n",
    "###################\n",
    "bully_data_cleaned = pd.read_csv('/datasets/data/bully_data_clean_with_stopword_short.csv', encoding='utf8')\n",
    "bully_data_cleaned = bully_data_cleaned[~bully_data_cleaned['text_check'].isna()]\n",
    "bully_data_cleaned = bully_data_cleaned[bully_data_cleaned['text_check'] != \"\"]\n",
    "#bully_data_cleaned = bully_data_cleaned[bully_data_cleaned['role']!='None']\n",
    "bully_data_cleaned = bully_data_cleaned[['role','text_check']]\n",
    "\n",
    "def convert_role_label(x):\n",
    "    if x == \"None\":\n",
    "        return int(0)\n",
    "    elif x == \"Harasser\":\n",
    "        return int(1)\n",
    "    elif x == \"Victim\":\n",
    "        return int(2)\n",
    "    elif x == \"Bystander_defender\":\n",
    "        return int(3)\n",
    "    elif x == \"Bystander_assistant\":\n",
    "        return int(1)\n",
    "\n",
    "bully_data_cleaned['label'] = bully_data_cleaned['role'].progress_apply(lambda x: convert_role_label(x)).astype(int)\n",
    "bully_data_cleaned.rename(columns = {'text_check':'text'}, inplace = True)\n",
    "bully_data_cleaned = bully_data_cleaned.reset_index(drop=True)"
   ]
  },
  {
   "cell_type": "code",
   "execution_count": 4,
   "id": "f1ad3546",
   "metadata": {
    "id": "f1ad3546",
    "scrolled": true
   },
   "outputs": [
    {
     "name": "stdout",
     "output_type": "stream",
     "text": [
      "<class 'pandas.core.frame.DataFrame'>\n",
      "RangeIndex: 112247 entries, 0 to 112246\n",
      "Data columns (total 3 columns):\n",
      " #   Column  Non-Null Count   Dtype \n",
      "---  ------  --------------   ----- \n",
      " 0   role    112247 non-null  object\n",
      " 1   text    112247 non-null  object\n",
      " 2   label   112247 non-null  int64 \n",
      "dtypes: int64(1), object(2)\n",
      "memory usage: 2.6+ MB\n"
     ]
    }
   ],
   "source": [
    "bully_data_cleaned.info()"
   ]
  },
  {
   "cell_type": "code",
   "execution_count": 5,
   "id": "9VC9n29lfCQs",
   "metadata": {
    "id": "9VC9n29lfCQs"
   },
   "outputs": [
    {
     "data": {
      "text/plain": [
       "0    106872\n",
       "1      3596\n",
       "2      1354\n",
       "3       425\n",
       "Name: label, dtype: int64"
      ]
     },
     "execution_count": 5,
     "metadata": {},
     "output_type": "execute_result"
    }
   ],
   "source": [
    "bully_data_cleaned['label'].value_counts()"
   ]
  },
  {
   "cell_type": "markdown",
   "id": "61d6da90",
   "metadata": {
    "id": "61d6da90"
   },
   "source": [
    "<div class=\"alert alert-info\" style=\"background-color:#5d3a8e; color:white; padding:0px 10px; border-radius:5px;\"><h2 style='margin:10px 5px'>Define pretrained tokenizer and model</h2>\n",
    "</div>\n",
    "\n",
    "model_name = \"bert-base-uncased\"\n",
    "tokenizer = BertTokenizer.from_pretrained(model_name)\n",
    "model = BertForSequenceClassification.from_pretrained(model_name, num_labels=2)"
   ]
  },
  {
   "cell_type": "code",
   "execution_count": 6,
   "id": "b09bcba2",
   "metadata": {
    "id": "b09bcba2"
   },
   "outputs": [
    {
     "data": {
      "application/vnd.jupyter.widget-view+json": {
       "model_id": "493ca7974d3a41e6849ae91daf7daa39",
       "version_major": 2,
       "version_minor": 0
      },
      "text/plain": [
       "Downloading:   0%|          | 0.00/28.0 [00:00<?, ?B/s]"
      ]
     },
     "metadata": {},
     "output_type": "display_data"
    },
    {
     "data": {
      "application/vnd.jupyter.widget-view+json": {
       "model_id": "3ca854e5a1fc4261a4785ad6dd4f460f",
       "version_major": 2,
       "version_minor": 0
      },
      "text/plain": [
       "Downloading:   0%|          | 0.00/483 [00:00<?, ?B/s]"
      ]
     },
     "metadata": {},
     "output_type": "display_data"
    },
    {
     "data": {
      "application/vnd.jupyter.widget-view+json": {
       "model_id": "74b1e1a31a51455285c411c59fea017e",
       "version_major": 2,
       "version_minor": 0
      },
      "text/plain": [
       "Downloading:   0%|          | 0.00/226k [00:00<?, ?B/s]"
      ]
     },
     "metadata": {},
     "output_type": "display_data"
    },
    {
     "data": {
      "application/vnd.jupyter.widget-view+json": {
       "model_id": "ee2e1c8f8dcd4b1c9dd713c9a96f8b47",
       "version_major": 2,
       "version_minor": 0
      },
      "text/plain": [
       "Downloading:   0%|          | 0.00/455k [00:00<?, ?B/s]"
      ]
     },
     "metadata": {},
     "output_type": "display_data"
    },
    {
     "data": {
      "application/vnd.jupyter.widget-view+json": {
       "model_id": "09c1e7a7fc614894995bfc0ee895ece8",
       "version_major": 2,
       "version_minor": 0
      },
      "text/plain": [
       "Downloading:   0%|          | 0.00/256M [00:00<?, ?B/s]"
      ]
     },
     "metadata": {},
     "output_type": "display_data"
    },
    {
     "name": "stderr",
     "output_type": "stream",
     "text": [
      "Some weights of the model checkpoint at distilbert-base-uncased were not used when initializing DistilBertForSequenceClassification: ['vocab_projector.weight', 'vocab_projector.bias', 'vocab_layer_norm.weight', 'vocab_layer_norm.bias', 'vocab_transform.weight', 'vocab_transform.bias']\n",
      "- This IS expected if you are initializing DistilBertForSequenceClassification from the checkpoint of a model trained on another task or with another architecture (e.g. initializing a BertForSequenceClassification model from a BertForPreTraining model).\n",
      "- This IS NOT expected if you are initializing DistilBertForSequenceClassification from the checkpoint of a model that you expect to be exactly identical (initializing a BertForSequenceClassification model from a BertForSequenceClassification model).\n",
      "Some weights of DistilBertForSequenceClassification were not initialized from the model checkpoint at distilbert-base-uncased and are newly initialized: ['classifier.weight', 'pre_classifier.weight', 'pre_classifier.bias', 'classifier.bias']\n",
      "You should probably TRAIN this model on a down-stream task to be able to use it for predictions and inference.\n"
     ]
    }
   ],
   "source": [
    "from transformers import AutoTokenizer, AutoModelForSequenceClassification\n",
    "\n",
    "# Define pretrained tokenizer and model\n",
    "model_name = \"distilbert-base-uncased\"\n",
    "tokenizer = AutoTokenizer.from_pretrained(model_name)\n",
    "\n",
    "# Set Seed for reproducibility\n",
    "set_seed(1127)\n",
    "model = AutoModelForSequenceClassification.from_pretrained(model_name, num_labels=4, ignore_mismatched_sizes=True)"
   ]
  },
  {
   "cell_type": "markdown",
   "id": "fe8c063e",
   "metadata": {
    "id": "fe8c063e"
   },
   "source": [
    "<div class=\"alert alert-info\" style=\"background-color:#5d3a8e; color:white; padding:0px 10px; border-radius:5px;\"><h2 style='margin:10px 5px'>Preprocess data</h2>\n",
    "</div>"
   ]
  },
  {
   "cell_type": "code",
   "execution_count": 7,
   "id": "bdqooD-cRI56",
   "metadata": {
    "id": "bdqooD-cRI56"
   },
   "outputs": [],
   "source": [
    "##############################\n",
    "# Data: Text Input and Label #\n",
    "##############################\n",
    "X = list(bully_data_cleaned[\"text\"])\n",
    "y = list(bully_data_cleaned[\"label\"])\n",
    "\n",
    "\n",
    "########################\n",
    "# Create torch dataset #\n",
    "########################\n",
    "class Dataset(torch.utils.data.Dataset):\n",
    "    def __init__(self, encodings, labels=None):\n",
    "        self.encodings = encodings\n",
    "        self.labels = labels\n",
    "\n",
    "    def __getitem__(self, idx):\n",
    "        item = {key: torch.tensor(val[idx]) for key, val in self.encodings.items()}\n",
    "        if self.labels:\n",
    "            item[\"labels\"] = torch.tensor(self.labels[idx])\n",
    "        return item\n",
    "\n",
    "    def __len__(self):\n",
    "        return len(self.encodings[\"input_ids\"])\n",
    "\n",
    "\n",
    "#############################\n",
    "# Define Trainer parameters #\n",
    "#############################\n",
    "average_method = 'macro'\n",
    "def compute_metrics(p):\n",
    "    pred, labels = p\n",
    "    pred = np.argmax(pred, axis=1)\n",
    "\n",
    "    accuracy = accuracy_score(y_true=labels, y_pred=pred)\n",
    "    recall = recall_score(y_true=labels, y_pred=pred, average=average_method)\n",
    "    precision = precision_score(y_true=labels, y_pred=pred, average=average_method)\n",
    "    f1 = f1_score(y_true=labels, y_pred=pred, average=average_method)\n",
    "    \n",
    "    recall0 = recall_score(y_true=labels, y_pred=pred, average=None)[0]\n",
    "    precision0 = precision_score(y_true=labels, y_pred=pred, average=None)[0]\n",
    "    f10 = f1_score(y_true=labels, y_pred=pred, average=None)[0]\n",
    "    \n",
    "    recall1 = recall_score(y_true=labels, y_pred=pred, average=None)[1]\n",
    "    precision1 = precision_score(y_true=labels, y_pred=pred, average=None)[1]\n",
    "    f11 = f1_score(y_true=labels, y_pred=pred, average=None)[1]\n",
    "    \n",
    "    recall2 = recall_score(y_true=labels, y_pred=pred, average=None)[2]\n",
    "    precision2 = precision_score(y_true=labels, y_pred=pred, average=None)[2]\n",
    "    f12 = f1_score(y_true=labels, y_pred=pred, average=None)[2]\n",
    "    \n",
    "    recall3 = recall_score(y_true=labels, y_pred=pred, average=None)[3]\n",
    "    precision3 = precision_score(y_true=labels, y_pred=pred, average=None)[3]\n",
    "    f13 = f1_score(y_true=labels, y_pred=pred, average=None)[3]\n",
    "\n",
    "    return {\"accuracy\": accuracy, \"precision\": precision, \"recall\": recall, \"f1\": f1,\n",
    "           \"precision_nonbully\": precision0, \"recall_nonbully\": recall0, \"f1_nonbully\": f10,\n",
    "           \"precision_harasser\": precision1, \"recall_harasser\": recall1, \"f1_harasser\": f11,\n",
    "           \"precision_victim\": precision2, \"recall_victim\": recall2, \"f1_victim\": f12,\n",
    "           \"precision_bydefender\": precision3, \"recall_bydefender\": recall3, \"f1_bydefender\": f13}\n",
    "\n",
    "\n",
    "#########################\n",
    "# Plot Confusion Matrix #\n",
    "#########################\n",
    "import numpy as np\n",
    "import matplotlib.pyplot as plt\n",
    "import seaborn as sns\n",
    "\n",
    "def make_confusion_matrix(cf,\n",
    "                          group_names=None,\n",
    "                          categories='auto',\n",
    "                          count=True,\n",
    "                          percent=True,\n",
    "                          cbar=True,\n",
    "                          xyticks=True,\n",
    "                          xyplotlabels=True,\n",
    "                          sum_stats=True,\n",
    "                          figsize=None,\n",
    "                          cmap='Blues',\n",
    "                          title=None):\n",
    "    '''\n",
    "    This function will make a pretty plot of an sklearn Confusion Matrix cm using a Seaborn heatmap visualization.\n",
    "\n",
    "    Arguments\n",
    "    ---------\n",
    "    cf:            confusion matrix to be passed in\n",
    "\n",
    "    group_names:   List of strings that represent the labels row by row to be shown in each square.\n",
    "\n",
    "    categories:    List of strings containing the categories to be displayed on the x,y axis. Default is 'auto'\n",
    "\n",
    "    count:         If True, show the raw number in the confusion matrix. Default is True.\n",
    "\n",
    "    normalize:     If True, show the proportions for each category. Default is True.\n",
    "\n",
    "    cbar:          If True, show the color bar. The cbar values are based off the values in the confusion matrix.\n",
    "                   Default is True.\n",
    "\n",
    "    xyticks:       If True, show x and y ticks. Default is True.\n",
    "\n",
    "    xyplotlabels:  If True, show 'True Label' and 'Predicted Label' on the figure. Default is True.\n",
    "\n",
    "    sum_stats:     If True, display summary statistics below the figure. Default is True.\n",
    "\n",
    "    figsize:       Tuple representing the figure size. Default will be the matplotlib rcParams value.\n",
    "\n",
    "    cmap:          Colormap of the values displayed from matplotlib.pyplot.cm. Default is 'Blues'\n",
    "                   See http://matplotlib.org/examples/color/colormaps_reference.html\n",
    "                   \n",
    "    title:         Title for the heatmap. Default is None.\n",
    "\n",
    "    '''\n",
    "\n",
    "\n",
    "    # CONFUSION MATRIX IN PERCENTAGE\n",
    "    cf_pct = cf.astype('float')/cf.sum(axis=1)[:, np.newaxis]\n",
    "    # CODE TO GENERATE TEXT INSIDE EACH SQUARE\n",
    "    blanks = ['' for i in range(cf.size)]\n",
    "\n",
    "    if group_names and len(group_names)==cf.size:\n",
    "        group_labels = [\"{}\\n\".format(value) for value in group_names]\n",
    "    else:\n",
    "        group_labels = blanks\n",
    "\n",
    "    if count:\n",
    "        group_counts = [\"{0:0.0f}\\n\".format(value) for value in cf.flatten()]\n",
    "    else:\n",
    "        group_counts = blanks\n",
    "\n",
    "    if percent:\n",
    "        group_percentages = [\"{0:.2%}\".format(value) for value in cf_pct.flatten()]\n",
    "    else:\n",
    "        group_percentages = blanks\n",
    "\n",
    "    box_labels = [f\"{v1}{v2}{v3}\".strip() for v1, v2, v3 in zip(group_labels,group_counts,group_percentages)]\n",
    "    box_labels = np.asarray(box_labels).reshape(cf.shape[0],cf.shape[1])\n",
    "\n",
    "\n",
    "    # CODE TO GENERATE SUMMARY STATISTICS & TEXT FOR SUMMARY STATS\n",
    "    if sum_stats:\n",
    "        #Accuracy is sum of diagonal divided by total observations\n",
    "        accuracy  = np.trace(cf) / float(np.sum(cf))\n",
    "\n",
    "        #if it is a binary confusion matrix, show some more stats\n",
    "        if len(cf)==2:\n",
    "            #Metrics for Binary Confusion Matrices\n",
    "            precision = cf[1,1] / sum(cf[:,1])\n",
    "            recall    = cf[1,1] / sum(cf[1,:])\n",
    "            f1_score  = 2*precision*recall / (precision + recall)\n",
    "            stats_text = \"\\n\\nAccuracy={:0.3f}\\nPrecision={:0.3f}\\nRecall={:0.3f}\\nF1 Score={:0.3f}\".format(\n",
    "                accuracy,precision,recall,f1_score)\n",
    "        else:\n",
    "            stats_text = \"\\n\\nAccuracy={:0.3f}\".format(accuracy)\n",
    "    else:\n",
    "        stats_text = \"\"\n",
    "\n",
    "\n",
    "    # SET FIGURE PARAMETERS ACCORDING TO OTHER ARGUMENTS\n",
    "    if figsize==None:\n",
    "        #Get default figure size if not set\n",
    "        figsize = plt.rcParams.get('figure.figsize')\n",
    "\n",
    "    if xyticks==False:\n",
    "        #Do not show categories if xyticks is False\n",
    "        categories=False\n",
    "\n",
    "\n",
    "    # MAKE THE HEATMAP VISUALIZATION\n",
    "    plt.figure(figsize=figsize)\n",
    "    sns.heatmap(cf_pct,annot=box_labels,fmt=\"\",cmap=cmap,cbar=cbar,xticklabels=categories,yticklabels=categories)\n",
    "\n",
    "    if xyplotlabels:\n",
    "        plt.ylabel('True label')\n",
    "        plt.xlabel('Predicted label' + stats_text)\n",
    "    else:\n",
    "        plt.xlabel(stats_text)\n",
    "    \n",
    "    if title:\n",
    "        plt.title(title)\n",
    "\n",
    "\n",
    "########################\n",
    "# Run cross-validation #\n",
    "########################\n",
    "def run_cross_validation(model_name='RoBerta',\n",
    "                         X=X,\n",
    "                         y=y, \n",
    "                         splits=5,\n",
    "                         epoch=8,\n",
    "                         checkpoint=False):\n",
    "  \n",
    "    kfold = StratifiedShuffleSplit(n_splits=splits, test_size=0.1, random_state=1127)\n",
    "    # kfold = StratifiedKFold(n_splits=splits, shuffle=True, random_state=1127)\n",
    "    n_fold = 1\n",
    "\n",
    "    print(\"Developing Model with Cross validation for: \" + model_name)\n",
    "    for train, test in tqdm(kfold.split(X, y)):\n",
    "\n",
    "        print(\"Running for Fold: \",n_fold)\n",
    "\n",
    "        # Split to train and test set for each fold\n",
    "        train_index = list(train)\n",
    "        test_index = list(test)\n",
    "\n",
    "        X_train = [X[i] for i in train_index]\n",
    "        y_train = [y[i] for i in train_index]\n",
    "        X_val = [X[i] for i in test_index]\n",
    "        y_val = [y[i] for i in test_index]\n",
    "\n",
    "\n",
    "        # Obtain undersampled index \n",
    "        X_temp = bully_data_cleaned[\"text\"].values\n",
    "        y_temp = bully_data_cleaned[\"label\"].values\n",
    "\n",
    "        X_temp_train = X_temp[train] \n",
    "        y_temp_train = y_temp[train] \n",
    "\n",
    "        resample = RandomUnderSampler(random_state=1127,sampling_strategy={0:33363})\n",
    "        X_temp_resampled, y_temp_resampled = resample.fit_resample(X_temp_train.reshape(-1,1), y_temp_train)\n",
    "\n",
    "        resample_index = list(resample.sample_indices_)\n",
    "        print(len(resample_index))\n",
    "\n",
    "\n",
    "        # Undersample train set\n",
    "        X_train_resample = [X_train[i] for i in resample_index]\n",
    "        y_train_resample = [y_train[i] for i in resample_index]\n",
    "\n",
    "\n",
    "        # Checking proportion\n",
    "        print(Counter(y))\n",
    "        print(Counter(y_train))\n",
    "        print(Counter(y_temp_resampled))\n",
    "        print(Counter(y_train_resample))\n",
    "\n",
    "        \n",
    "        # Tokenize\n",
    "        X_train_tokenized = tokenizer(X_train_resample, padding=True, truncation=True, max_length=512)\n",
    "        X_val_tokenized = tokenizer(X_val, padding=True, truncation=True, max_length=512)\n",
    "\n",
    "\n",
    "        # Create torch dataset\n",
    "        train_dataset = Dataset(X_train_tokenized, y_train_resample)\n",
    "        val_dataset = Dataset(X_val_tokenized, y_val)  \n",
    "\n",
    "        # Fine Tune Transformer\n",
    "        # Define Trainer\n",
    "        args = TrainingArguments(\n",
    "                output_dir=\"content/drive/MyDrive/output_\" + model_name + \"/fold\"+str(n_fold),\n",
    "                evaluation_strategy=\"epoch\",\n",
    "                save_strategy=\"epoch\",\n",
    "                #eval_steps=500,\n",
    "                #per_device_train_batch_size=1,\n",
    "                #per_device_eval_batch_size=1,\n",
    "                num_train_epochs=epoch, #1 was okay\n",
    "                seed=1127,\n",
    "                load_best_model_at_end=True,\n",
    "            )\n",
    "        \n",
    "        trainer = Trainer(\n",
    "                  model=model,\n",
    "                  args=args,\n",
    "                  train_dataset=train_dataset,\n",
    "                  eval_dataset=val_dataset,\n",
    "                  compute_metrics=compute_metrics,\n",
    "                  callbacks=[EarlyStoppingCallback(early_stopping_patience=3)],\n",
    "              )\n",
    "        \n",
    "        checkpoint_temp = checkpoint\n",
    "        if n_fold <= 2:\n",
    "            checkpoint_temp=True\n",
    "        else:\n",
    "            checkpoint_temp=False\n",
    "            \n",
    "        trainer.train(resume_from_checkpoint=checkpoint)\n",
    "        print(\"Complete for fold\", n_fold)\n",
    "        n_fold= n_fold + 1\n"
   ]
  },
  {
   "cell_type": "markdown",
   "id": "1oWlGGdkn5m-",
   "metadata": {
    "id": "1oWlGGdkn5m-",
    "tags": []
   },
   "source": [
    "<div class=\"alert alert-info\" style=\"background-color:#5d3a8e; color:white; padding:0px 10px; border-radius:5px;\"><h2 style='margin:10px 5px'>Cross Validation (K = 5)</h2>\n",
    "</div>"
   ]
  },
  {
   "cell_type": "code",
   "execution_count": null,
   "id": "AA4wbVb3SKqi",
   "metadata": {
    "id": "AA4wbVb3SKqi"
   },
   "outputs": [
    {
     "name": "stdout",
     "output_type": "stream",
     "text": [
      "Developing Model with Cross validation for: DistilBert\n"
     ]
    },
    {
     "name": "stderr",
     "output_type": "stream",
     "text": [
      "0it [00:00, ?it/s]"
     ]
    },
    {
     "name": "stdout",
     "output_type": "stream",
     "text": [
      "Running for Fold:  1\n",
      "38200\n",
      "Counter({0: 106872, 1: 3596, 2: 1354, 3: 425})\n",
      "Counter({0: 96185, 1: 3236, 2: 1219, 3: 382})\n",
      "Counter({0: 33363, 1: 3236, 2: 1219, 3: 382})\n",
      "Counter({0: 33363, 1: 3236, 2: 1219, 3: 382})\n"
     ]
    },
    {
     "name": "stderr",
     "output_type": "stream",
     "text": [
      "/opt/conda/lib/python3.9/site-packages/transformers/optimization.py:306: FutureWarning: This implementation of AdamW is deprecated and will be removed in a future version. Use the PyTorch implementation torch.optim.AdamW instead, or set `no_deprecation_warning=True` to disable this warning\n",
      "  warnings.warn(\n",
      "***** Running training *****\n",
      "  Num examples = 38200\n",
      "  Num Epochs = 4\n",
      "  Instantaneous batch size per device = 8\n",
      "  Total train batch size (w. parallel, distributed & accumulation) = 8\n",
      "  Gradient Accumulation steps = 1\n",
      "  Total optimization steps = 19100\n"
     ]
    },
    {
     "data": {
      "text/html": [
       "\n",
       "    <div>\n",
       "      \n",
       "      <progress value='19100' max='19100' style='width:300px; height:20px; vertical-align: middle;'></progress>\n",
       "      [19100/19100 1:10:05, Epoch 4/4]\n",
       "    </div>\n",
       "    <table border=\"1\" class=\"dataframe\">\n",
       "  <thead>\n",
       " <tr style=\"text-align: left;\">\n",
       "      <th>Epoch</th>\n",
       "      <th>Training Loss</th>\n",
       "      <th>Validation Loss</th>\n",
       "      <th>Accuracy</th>\n",
       "      <th>Precision</th>\n",
       "      <th>Recall</th>\n",
       "      <th>F1</th>\n",
       "      <th>Precision Nonbully</th>\n",
       "      <th>Recall Nonbully</th>\n",
       "      <th>F1 Nonbully</th>\n",
       "      <th>Precision Harasser</th>\n",
       "      <th>Recall Harasser</th>\n",
       "      <th>F1 Harasser</th>\n",
       "      <th>Precision Victim</th>\n",
       "      <th>Recall Victim</th>\n",
       "      <th>F1 Victim</th>\n",
       "      <th>Precision Bydefender</th>\n",
       "      <th>Recall Bydefender</th>\n",
       "      <th>F1 Bydefender</th>\n",
       "    </tr>\n",
       "  </thead>\n",
       "  <tbody>\n",
       "    <tr>\n",
       "      <td>1</td>\n",
       "      <td>0.290800</td>\n",
       "      <td>0.162368</td>\n",
       "      <td>0.949399</td>\n",
       "      <td>0.460820</td>\n",
       "      <td>0.499818</td>\n",
       "      <td>0.476101</td>\n",
       "      <td>0.982348</td>\n",
       "      <td>0.973800</td>\n",
       "      <td>0.978056</td>\n",
       "      <td>0.461698</td>\n",
       "      <td>0.619444</td>\n",
       "      <td>0.529063</td>\n",
       "      <td>0.144330</td>\n",
       "      <td>0.103704</td>\n",
       "      <td>0.120690</td>\n",
       "      <td>0.254902</td>\n",
       "      <td>0.302326</td>\n",
       "      <td>0.276596</td>\n",
       "    </tr>\n",
       "    <tr>\n",
       "      <td>2</td>\n",
       "      <td>0.242900</td>\n",
       "      <td>0.162908</td>\n",
       "      <td>0.952160</td>\n",
       "      <td>0.528474</td>\n",
       "      <td>0.570284</td>\n",
       "      <td>0.543114</td>\n",
       "      <td>0.983735</td>\n",
       "      <td>0.973426</td>\n",
       "      <td>0.978553</td>\n",
       "      <td>0.477318</td>\n",
       "      <td>0.672222</td>\n",
       "      <td>0.558247</td>\n",
       "      <td>0.244681</td>\n",
       "      <td>0.170370</td>\n",
       "      <td>0.200873</td>\n",
       "      <td>0.408163</td>\n",
       "      <td>0.465116</td>\n",
       "      <td>0.434783</td>\n",
       "    </tr>\n",
       "    <tr>\n",
       "      <td>3</td>\n",
       "      <td>0.167200</td>\n",
       "      <td>0.187208</td>\n",
       "      <td>0.951982</td>\n",
       "      <td>0.539035</td>\n",
       "      <td>0.580654</td>\n",
       "      <td>0.554299</td>\n",
       "      <td>0.983546</td>\n",
       "      <td>0.973239</td>\n",
       "      <td>0.978365</td>\n",
       "      <td>0.469758</td>\n",
       "      <td>0.647222</td>\n",
       "      <td>0.544393</td>\n",
       "      <td>0.310680</td>\n",
       "      <td>0.237037</td>\n",
       "      <td>0.268908</td>\n",
       "      <td>0.392157</td>\n",
       "      <td>0.465116</td>\n",
       "      <td>0.425532</td>\n",
       "    </tr>\n",
       "    <tr>\n",
       "      <td>4</td>\n",
       "      <td>0.110800</td>\n",
       "      <td>0.253702</td>\n",
       "      <td>0.949310</td>\n",
       "      <td>0.548094</td>\n",
       "      <td>0.607013</td>\n",
       "      <td>0.573381</td>\n",
       "      <td>0.984228</td>\n",
       "      <td>0.969309</td>\n",
       "      <td>0.976711</td>\n",
       "      <td>0.462151</td>\n",
       "      <td>0.644444</td>\n",
       "      <td>0.538283</td>\n",
       "      <td>0.289474</td>\n",
       "      <td>0.325926</td>\n",
       "      <td>0.306620</td>\n",
       "      <td>0.456522</td>\n",
       "      <td>0.488372</td>\n",
       "      <td>0.471910</td>\n",
       "    </tr>\n",
       "  </tbody>\n",
       "</table><p>"
      ],
      "text/plain": [
       "<IPython.core.display.HTML object>"
      ]
     },
     "metadata": {},
     "output_type": "display_data"
    },
    {
     "name": "stderr",
     "output_type": "stream",
     "text": [
      "***** Running Evaluation *****\n",
      "  Num examples = 11225\n",
      "  Batch size = 8\n",
      "Saving model checkpoint to content/drive/MyDrive/output_DistilBert/fold1/checkpoint-4775\n",
      "Configuration saved in content/drive/MyDrive/output_DistilBert/fold1/checkpoint-4775/config.json\n",
      "Model weights saved in content/drive/MyDrive/output_DistilBert/fold1/checkpoint-4775/pytorch_model.bin\n",
      "***** Running Evaluation *****\n",
      "  Num examples = 11225\n",
      "  Batch size = 8\n",
      "Saving model checkpoint to content/drive/MyDrive/output_DistilBert/fold1/checkpoint-9550\n",
      "Configuration saved in content/drive/MyDrive/output_DistilBert/fold1/checkpoint-9550/config.json\n",
      "Model weights saved in content/drive/MyDrive/output_DistilBert/fold1/checkpoint-9550/pytorch_model.bin\n",
      "***** Running Evaluation *****\n",
      "  Num examples = 11225\n",
      "  Batch size = 8\n",
      "Saving model checkpoint to content/drive/MyDrive/output_DistilBert/fold1/checkpoint-14325\n",
      "Configuration saved in content/drive/MyDrive/output_DistilBert/fold1/checkpoint-14325/config.json\n",
      "Model weights saved in content/drive/MyDrive/output_DistilBert/fold1/checkpoint-14325/pytorch_model.bin\n",
      "***** Running Evaluation *****\n",
      "  Num examples = 11225\n",
      "  Batch size = 8\n",
      "Saving model checkpoint to content/drive/MyDrive/output_DistilBert/fold1/checkpoint-19100\n",
      "Configuration saved in content/drive/MyDrive/output_DistilBert/fold1/checkpoint-19100/config.json\n",
      "Model weights saved in content/drive/MyDrive/output_DistilBert/fold1/checkpoint-19100/pytorch_model.bin\n",
      "\n",
      "\n",
      "Training completed. Do not forget to share your model on huggingface.co/models =)\n",
      "\n",
      "\n",
      "Loading best model from content/drive/MyDrive/output_DistilBert/fold1/checkpoint-4775 (score: 0.16236844658851624).\n",
      "1it [1:10:15, 4215.29s/it]"
     ]
    },
    {
     "name": "stdout",
     "output_type": "stream",
     "text": [
      "Complete for fold 1\n",
      "Running for Fold:  2\n",
      "38200\n",
      "Counter({0: 106872, 1: 3596, 2: 1354, 3: 425})\n",
      "Counter({0: 96185, 1: 3236, 2: 1219, 3: 382})\n",
      "Counter({0: 33363, 1: 3236, 2: 1219, 3: 382})\n",
      "Counter({0: 33363, 1: 3236, 2: 1219, 3: 382})\n"
     ]
    },
    {
     "name": "stderr",
     "output_type": "stream",
     "text": [
      "PyTorch: setting up devices\n",
      "The default value for the training argument `--report_to` will change in v5 (from all installed integrations to none). In v5, you will need to use `--report_to all` to get the same behavior as now. You should start updating your code and make this info disappear :-).\n",
      "/opt/conda/lib/python3.9/site-packages/transformers/optimization.py:306: FutureWarning: This implementation of AdamW is deprecated and will be removed in a future version. Use the PyTorch implementation torch.optim.AdamW instead, or set `no_deprecation_warning=True` to disable this warning\n",
      "  warnings.warn(\n",
      "***** Running training *****\n",
      "  Num examples = 38200\n",
      "  Num Epochs = 4\n",
      "  Instantaneous batch size per device = 8\n",
      "  Total train batch size (w. parallel, distributed & accumulation) = 8\n",
      "  Gradient Accumulation steps = 1\n",
      "  Total optimization steps = 19100\n"
     ]
    },
    {
     "data": {
      "text/html": [
       "\n",
       "    <div>\n",
       "      \n",
       "      <progress value='19100' max='19100' style='width:300px; height:20px; vertical-align: middle;'></progress>\n",
       "      [19100/19100 1:10:01, Epoch 4/4]\n",
       "    </div>\n",
       "    <table border=\"1\" class=\"dataframe\">\n",
       "  <thead>\n",
       " <tr style=\"text-align: left;\">\n",
       "      <th>Epoch</th>\n",
       "      <th>Training Loss</th>\n",
       "      <th>Validation Loss</th>\n",
       "      <th>Accuracy</th>\n",
       "      <th>Precision</th>\n",
       "      <th>Recall</th>\n",
       "      <th>F1</th>\n",
       "      <th>Precision Nonbully</th>\n",
       "      <th>Recall Nonbully</th>\n",
       "      <th>F1 Nonbully</th>\n",
       "      <th>Precision Harasser</th>\n",
       "      <th>Recall Harasser</th>\n",
       "      <th>F1 Harasser</th>\n",
       "      <th>Precision Victim</th>\n",
       "      <th>Recall Victim</th>\n",
       "      <th>F1 Victim</th>\n",
       "      <th>Precision Bydefender</th>\n",
       "      <th>Recall Bydefender</th>\n",
       "      <th>F1 Bydefender</th>\n",
       "    </tr>\n",
       "  </thead>\n",
       "  <tbody>\n",
       "    <tr>\n",
       "      <td>1</td>\n",
       "      <td>0.289100</td>\n",
       "      <td>0.139565</td>\n",
       "      <td>0.953051</td>\n",
       "      <td>0.614451</td>\n",
       "      <td>0.632511</td>\n",
       "      <td>0.614487</td>\n",
       "      <td>0.986314</td>\n",
       "      <td>0.971086</td>\n",
       "      <td>0.978641</td>\n",
       "      <td>0.452763</td>\n",
       "      <td>0.705556</td>\n",
       "      <td>0.551574</td>\n",
       "      <td>0.413462</td>\n",
       "      <td>0.318519</td>\n",
       "      <td>0.359833</td>\n",
       "      <td>0.605263</td>\n",
       "      <td>0.534884</td>\n",
       "      <td>0.567901</td>\n",
       "    </tr>\n",
       "    <tr>\n",
       "      <td>2</td>\n",
       "      <td>0.215400</td>\n",
       "      <td>0.166848</td>\n",
       "      <td>0.957595</td>\n",
       "      <td>0.646498</td>\n",
       "      <td>0.574030</td>\n",
       "      <td>0.588631</td>\n",
       "      <td>0.984826</td>\n",
       "      <td>0.977730</td>\n",
       "      <td>0.981265</td>\n",
       "      <td>0.509165</td>\n",
       "      <td>0.694444</td>\n",
       "      <td>0.587544</td>\n",
       "      <td>0.330097</td>\n",
       "      <td>0.251852</td>\n",
       "      <td>0.285714</td>\n",
       "      <td>0.761905</td>\n",
       "      <td>0.372093</td>\n",
       "      <td>0.500000</td>\n",
       "    </tr>\n",
       "    <tr>\n",
       "      <td>3</td>\n",
       "      <td>0.116600</td>\n",
       "      <td>0.196352</td>\n",
       "      <td>0.956258</td>\n",
       "      <td>0.601075</td>\n",
       "      <td>0.614704</td>\n",
       "      <td>0.601020</td>\n",
       "      <td>0.986921</td>\n",
       "      <td>0.974361</td>\n",
       "      <td>0.980601</td>\n",
       "      <td>0.518072</td>\n",
       "      <td>0.716667</td>\n",
       "      <td>0.601399</td>\n",
       "      <td>0.305556</td>\n",
       "      <td>0.325926</td>\n",
       "      <td>0.315412</td>\n",
       "      <td>0.593750</td>\n",
       "      <td>0.441860</td>\n",
       "      <td>0.506667</td>\n",
       "    </tr>\n",
       "    <tr>\n",
       "      <td>4</td>\n",
       "      <td>0.084500</td>\n",
       "      <td>0.243276</td>\n",
       "      <td>0.954477</td>\n",
       "      <td>0.593096</td>\n",
       "      <td>0.624776</td>\n",
       "      <td>0.603901</td>\n",
       "      <td>0.986151</td>\n",
       "      <td>0.972771</td>\n",
       "      <td>0.979415</td>\n",
       "      <td>0.515400</td>\n",
       "      <td>0.697222</td>\n",
       "      <td>0.592680</td>\n",
       "      <td>0.287500</td>\n",
       "      <td>0.340741</td>\n",
       "      <td>0.311864</td>\n",
       "      <td>0.583333</td>\n",
       "      <td>0.488372</td>\n",
       "      <td>0.531646</td>\n",
       "    </tr>\n",
       "  </tbody>\n",
       "</table><p>"
      ],
      "text/plain": [
       "<IPython.core.display.HTML object>"
      ]
     },
     "metadata": {},
     "output_type": "display_data"
    },
    {
     "name": "stderr",
     "output_type": "stream",
     "text": [
      "***** Running Evaluation *****\n",
      "  Num examples = 11225\n",
      "  Batch size = 8\n",
      "Saving model checkpoint to content/drive/MyDrive/output_DistilBert/fold2/checkpoint-4775\n",
      "Configuration saved in content/drive/MyDrive/output_DistilBert/fold2/checkpoint-4775/config.json\n",
      "Model weights saved in content/drive/MyDrive/output_DistilBert/fold2/checkpoint-4775/pytorch_model.bin\n",
      "***** Running Evaluation *****\n",
      "  Num examples = 11225\n",
      "  Batch size = 8\n",
      "Saving model checkpoint to content/drive/MyDrive/output_DistilBert/fold2/checkpoint-9550\n",
      "Configuration saved in content/drive/MyDrive/output_DistilBert/fold2/checkpoint-9550/config.json\n",
      "Model weights saved in content/drive/MyDrive/output_DistilBert/fold2/checkpoint-9550/pytorch_model.bin\n",
      "Saving model checkpoint to content/drive/MyDrive/output_DistilBert/fold2/checkpoint-14325\n",
      "Configuration saved in content/drive/MyDrive/output_DistilBert/fold2/checkpoint-14325/config.json\n",
      "Model weights saved in content/drive/MyDrive/output_DistilBert/fold2/checkpoint-14325/pytorch_model.bin\n",
      "***** Running Evaluation *****\n",
      "  Num examples = 11225\n",
      "  Batch size = 8\n",
      "Saving model checkpoint to content/drive/MyDrive/output_DistilBert/fold2/checkpoint-19100\n",
      "Configuration saved in content/drive/MyDrive/output_DistilBert/fold2/checkpoint-19100/config.json\n",
      "Model weights saved in content/drive/MyDrive/output_DistilBert/fold2/checkpoint-19100/pytorch_model.bin\n",
      "\n",
      "\n",
      "Training completed. Do not forget to share your model on huggingface.co/models =)\n",
      "\n",
      "\n",
      "Loading best model from content/drive/MyDrive/output_DistilBert/fold2/checkpoint-4775 (score: 0.1395651400089264).\n",
      "2it [2:20:24, 4211.64s/it]"
     ]
    },
    {
     "name": "stdout",
     "output_type": "stream",
     "text": [
      "Complete for fold 2\n",
      "Running for Fold:  3\n",
      "38200\n",
      "Counter({0: 106872, 1: 3596, 2: 1354, 3: 425})\n",
      "Counter({0: 96185, 1: 3236, 2: 1219, 3: 382})\n",
      "Counter({0: 33363, 1: 3236, 2: 1219, 3: 382})\n",
      "Counter({0: 33363, 1: 3236, 2: 1219, 3: 382})\n"
     ]
    },
    {
     "name": "stderr",
     "output_type": "stream",
     "text": [
      "PyTorch: setting up devices\n",
      "The default value for the training argument `--report_to` will change in v5 (from all installed integrations to none). In v5, you will need to use `--report_to all` to get the same behavior as now. You should start updating your code and make this info disappear :-).\n",
      "/opt/conda/lib/python3.9/site-packages/transformers/optimization.py:306: FutureWarning: This implementation of AdamW is deprecated and will be removed in a future version. Use the PyTorch implementation torch.optim.AdamW instead, or set `no_deprecation_warning=True` to disable this warning\n",
      "  warnings.warn(\n",
      "***** Running training *****\n",
      "  Num examples = 38200\n",
      "  Num Epochs = 4\n",
      "  Instantaneous batch size per device = 8\n",
      "  Total train batch size (w. parallel, distributed & accumulation) = 8\n",
      "  Gradient Accumulation steps = 1\n",
      "  Total optimization steps = 19100\n"
     ]
    },
    {
     "data": {
      "text/html": [
       "\n",
       "    <div>\n",
       "      \n",
       "      <progress value='19100' max='19100' style='width:300px; height:20px; vertical-align: middle;'></progress>\n",
       "      [19100/19100 1:09:57, Epoch 4/4]\n",
       "    </div>\n",
       "    <table border=\"1\" class=\"dataframe\">\n",
       "  <thead>\n",
       " <tr style=\"text-align: left;\">\n",
       "      <th>Epoch</th>\n",
       "      <th>Training Loss</th>\n",
       "      <th>Validation Loss</th>\n",
       "      <th>Accuracy</th>\n",
       "      <th>Precision</th>\n",
       "      <th>Recall</th>\n",
       "      <th>F1</th>\n",
       "      <th>Precision Nonbully</th>\n",
       "      <th>Recall Nonbully</th>\n",
       "      <th>F1 Nonbully</th>\n",
       "      <th>Precision Harasser</th>\n",
       "      <th>Recall Harasser</th>\n",
       "      <th>F1 Harasser</th>\n",
       "      <th>Precision Victim</th>\n",
       "      <th>Recall Victim</th>\n",
       "      <th>F1 Victim</th>\n",
       "      <th>Precision Bydefender</th>\n",
       "      <th>Recall Bydefender</th>\n",
       "      <th>F1 Bydefender</th>\n",
       "    </tr>\n",
       "  </thead>\n",
       "  <tbody>\n",
       "    <tr>\n",
       "      <td>1</td>\n",
       "      <td>0.254300</td>\n",
       "      <td>0.146784</td>\n",
       "      <td>0.959109</td>\n",
       "      <td>0.585202</td>\n",
       "      <td>0.632717</td>\n",
       "      <td>0.597856</td>\n",
       "      <td>0.989192</td>\n",
       "      <td>0.976326</td>\n",
       "      <td>0.982717</td>\n",
       "      <td>0.513711</td>\n",
       "      <td>0.780556</td>\n",
       "      <td>0.619625</td>\n",
       "      <td>0.317073</td>\n",
       "      <td>0.192593</td>\n",
       "      <td>0.239631</td>\n",
       "      <td>0.520833</td>\n",
       "      <td>0.581395</td>\n",
       "      <td>0.549451</td>\n",
       "    </tr>\n",
       "    <tr>\n",
       "      <td>2</td>\n",
       "      <td>0.183700</td>\n",
       "      <td>0.158420</td>\n",
       "      <td>0.957238</td>\n",
       "      <td>0.572798</td>\n",
       "      <td>0.651121</td>\n",
       "      <td>0.599210</td>\n",
       "      <td>0.989635</td>\n",
       "      <td>0.973800</td>\n",
       "      <td>0.981654</td>\n",
       "      <td>0.501786</td>\n",
       "      <td>0.780556</td>\n",
       "      <td>0.610870</td>\n",
       "      <td>0.326087</td>\n",
       "      <td>0.222222</td>\n",
       "      <td>0.264317</td>\n",
       "      <td>0.473684</td>\n",
       "      <td>0.627907</td>\n",
       "      <td>0.540000</td>\n",
       "    </tr>\n",
       "    <tr>\n",
       "      <td>3</td>\n",
       "      <td>0.110000</td>\n",
       "      <td>0.182355</td>\n",
       "      <td>0.960713</td>\n",
       "      <td>0.580130</td>\n",
       "      <td>0.620317</td>\n",
       "      <td>0.597954</td>\n",
       "      <td>0.986816</td>\n",
       "      <td>0.980537</td>\n",
       "      <td>0.983667</td>\n",
       "      <td>0.566820</td>\n",
       "      <td>0.683333</td>\n",
       "      <td>0.619647</td>\n",
       "      <td>0.286885</td>\n",
       "      <td>0.259259</td>\n",
       "      <td>0.272374</td>\n",
       "      <td>0.480000</td>\n",
       "      <td>0.558140</td>\n",
       "      <td>0.516129</td>\n",
       "    </tr>\n",
       "    <tr>\n",
       "      <td>4</td>\n",
       "      <td>0.088000</td>\n",
       "      <td>0.212958</td>\n",
       "      <td>0.959198</td>\n",
       "      <td>0.557523</td>\n",
       "      <td>0.644488</td>\n",
       "      <td>0.593682</td>\n",
       "      <td>0.988928</td>\n",
       "      <td>0.977824</td>\n",
       "      <td>0.983344</td>\n",
       "      <td>0.554585</td>\n",
       "      <td>0.705556</td>\n",
       "      <td>0.621027</td>\n",
       "      <td>0.264706</td>\n",
       "      <td>0.266667</td>\n",
       "      <td>0.265683</td>\n",
       "      <td>0.421875</td>\n",
       "      <td>0.627907</td>\n",
       "      <td>0.504673</td>\n",
       "    </tr>\n",
       "  </tbody>\n",
       "</table><p>"
      ],
      "text/plain": [
       "<IPython.core.display.HTML object>"
      ]
     },
     "metadata": {},
     "output_type": "display_data"
    },
    {
     "name": "stderr",
     "output_type": "stream",
     "text": [
      "***** Running Evaluation *****\n",
      "  Num examples = 11225\n",
      "  Batch size = 8\n",
      "Saving model checkpoint to content/drive/MyDrive/output_DistilBert/fold3/checkpoint-4775\n",
      "Configuration saved in content/drive/MyDrive/output_DistilBert/fold3/checkpoint-4775/config.json\n",
      "Model weights saved in content/drive/MyDrive/output_DistilBert/fold3/checkpoint-4775/pytorch_model.bin\n",
      "***** Running Evaluation *****\n",
      "  Num examples = 11225\n",
      "  Batch size = 8\n",
      "Saving model checkpoint to content/drive/MyDrive/output_DistilBert/fold3/checkpoint-9550\n",
      "Configuration saved in content/drive/MyDrive/output_DistilBert/fold3/checkpoint-9550/config.json\n",
      "Model weights saved in content/drive/MyDrive/output_DistilBert/fold3/checkpoint-9550/pytorch_model.bin\n",
      "***** Running Evaluation *****\n",
      "  Num examples = 11225\n",
      "  Batch size = 8\n",
      "Saving model checkpoint to content/drive/MyDrive/output_DistilBert/fold3/checkpoint-14325\n",
      "Configuration saved in content/drive/MyDrive/output_DistilBert/fold3/checkpoint-14325/config.json\n",
      "Model weights saved in content/drive/MyDrive/output_DistilBert/fold3/checkpoint-14325/pytorch_model.bin\n",
      "***** Running Evaluation *****\n",
      "  Num examples = 11225\n",
      "  Batch size = 8\n",
      "Saving model checkpoint to content/drive/MyDrive/output_DistilBert/fold3/checkpoint-19100\n",
      "Configuration saved in content/drive/MyDrive/output_DistilBert/fold3/checkpoint-19100/config.json\n",
      "Model weights saved in content/drive/MyDrive/output_DistilBert/fold3/checkpoint-19100/pytorch_model.bin\n",
      "\n",
      "\n",
      "Training completed. Do not forget to share your model on huggingface.co/models =)\n",
      "\n",
      "\n",
      "Loading best model from content/drive/MyDrive/output_DistilBert/fold3/checkpoint-4775 (score: 0.1467844843864441).\n",
      "3it [3:30:28, 4208.12s/it]"
     ]
    },
    {
     "name": "stdout",
     "output_type": "stream",
     "text": [
      "Complete for fold 3\n",
      "Running for Fold:  4\n",
      "38200\n",
      "Counter({0: 106872, 1: 3596, 2: 1354, 3: 425})\n",
      "Counter({0: 96185, 1: 3236, 2: 1219, 3: 382})\n",
      "Counter({0: 33363, 1: 3236, 2: 1219, 3: 382})\n",
      "Counter({0: 33363, 1: 3236, 2: 1219, 3: 382})\n"
     ]
    },
    {
     "name": "stderr",
     "output_type": "stream",
     "text": [
      "PyTorch: setting up devices\n",
      "The default value for the training argument `--report_to` will change in v5 (from all installed integrations to none). In v5, you will need to use `--report_to all` to get the same behavior as now. You should start updating your code and make this info disappear :-).\n",
      "/opt/conda/lib/python3.9/site-packages/transformers/optimization.py:306: FutureWarning: This implementation of AdamW is deprecated and will be removed in a future version. Use the PyTorch implementation torch.optim.AdamW instead, or set `no_deprecation_warning=True` to disable this warning\n",
      "  warnings.warn(\n",
      "***** Running training *****\n",
      "  Num examples = 38200\n",
      "  Num Epochs = 4\n",
      "  Instantaneous batch size per device = 8\n",
      "  Total train batch size (w. parallel, distributed & accumulation) = 8\n",
      "  Gradient Accumulation steps = 1\n",
      "  Total optimization steps = 19100\n"
     ]
    },
    {
     "data": {
      "text/html": [
       "\n",
       "    <div>\n",
       "      \n",
       "      <progress value='19100' max='19100' style='width:300px; height:20px; vertical-align: middle;'></progress>\n",
       "      [19100/19100 1:09:50, Epoch 4/4]\n",
       "    </div>\n",
       "    <table border=\"1\" class=\"dataframe\">\n",
       "  <thead>\n",
       " <tr style=\"text-align: left;\">\n",
       "      <th>Epoch</th>\n",
       "      <th>Training Loss</th>\n",
       "      <th>Validation Loss</th>\n",
       "      <th>Accuracy</th>\n",
       "      <th>Precision</th>\n",
       "      <th>Recall</th>\n",
       "      <th>F1</th>\n",
       "      <th>Precision Nonbully</th>\n",
       "      <th>Recall Nonbully</th>\n",
       "      <th>F1 Nonbully</th>\n",
       "      <th>Precision Harasser</th>\n",
       "      <th>Recall Harasser</th>\n",
       "      <th>F1 Harasser</th>\n",
       "      <th>Precision Victim</th>\n",
       "      <th>Recall Victim</th>\n",
       "      <th>F1 Victim</th>\n",
       "      <th>Precision Bydefender</th>\n",
       "      <th>Recall Bydefender</th>\n",
       "      <th>F1 Bydefender</th>\n",
       "    </tr>\n",
       "  </thead>\n",
       "  <tbody>\n",
       "    <tr>\n",
       "      <td>1</td>\n",
       "      <td>0.230800</td>\n",
       "      <td>0.134130</td>\n",
       "      <td>0.955189</td>\n",
       "      <td>0.591219</td>\n",
       "      <td>0.701617</td>\n",
       "      <td>0.625240</td>\n",
       "      <td>0.993561</td>\n",
       "      <td>0.967344</td>\n",
       "      <td>0.980277</td>\n",
       "      <td>0.473525</td>\n",
       "      <td>0.869444</td>\n",
       "      <td>0.613124</td>\n",
       "      <td>0.438776</td>\n",
       "      <td>0.318519</td>\n",
       "      <td>0.369099</td>\n",
       "      <td>0.459016</td>\n",
       "      <td>0.651163</td>\n",
       "      <td>0.538462</td>\n",
       "    </tr>\n",
       "    <tr>\n",
       "      <td>2</td>\n",
       "      <td>0.163200</td>\n",
       "      <td>0.137170</td>\n",
       "      <td>0.966236</td>\n",
       "      <td>0.645544</td>\n",
       "      <td>0.691339</td>\n",
       "      <td>0.663072</td>\n",
       "      <td>0.991482</td>\n",
       "      <td>0.980256</td>\n",
       "      <td>0.985837</td>\n",
       "      <td>0.586345</td>\n",
       "      <td>0.811111</td>\n",
       "      <td>0.680653</td>\n",
       "      <td>0.460870</td>\n",
       "      <td>0.392593</td>\n",
       "      <td>0.424000</td>\n",
       "      <td>0.543478</td>\n",
       "      <td>0.581395</td>\n",
       "      <td>0.561798</td>\n",
       "    </tr>\n",
       "    <tr>\n",
       "      <td>3</td>\n",
       "      <td>0.116500</td>\n",
       "      <td>0.170131</td>\n",
       "      <td>0.961069</td>\n",
       "      <td>0.588900</td>\n",
       "      <td>0.715274</td>\n",
       "      <td>0.640850</td>\n",
       "      <td>0.992946</td>\n",
       "      <td>0.974642</td>\n",
       "      <td>0.983709</td>\n",
       "      <td>0.563851</td>\n",
       "      <td>0.797222</td>\n",
       "      <td>0.660529</td>\n",
       "      <td>0.345679</td>\n",
       "      <td>0.414815</td>\n",
       "      <td>0.377104</td>\n",
       "      <td>0.453125</td>\n",
       "      <td>0.674419</td>\n",
       "      <td>0.542056</td>\n",
       "    </tr>\n",
       "    <tr>\n",
       "      <td>4</td>\n",
       "      <td>0.072600</td>\n",
       "      <td>0.186919</td>\n",
       "      <td>0.962494</td>\n",
       "      <td>0.586878</td>\n",
       "      <td>0.707849</td>\n",
       "      <td>0.635323</td>\n",
       "      <td>0.992581</td>\n",
       "      <td>0.976420</td>\n",
       "      <td>0.984434</td>\n",
       "      <td>0.578000</td>\n",
       "      <td>0.802778</td>\n",
       "      <td>0.672093</td>\n",
       "      <td>0.356643</td>\n",
       "      <td>0.377778</td>\n",
       "      <td>0.366906</td>\n",
       "      <td>0.420290</td>\n",
       "      <td>0.674419</td>\n",
       "      <td>0.517857</td>\n",
       "    </tr>\n",
       "  </tbody>\n",
       "</table><p>"
      ],
      "text/plain": [
       "<IPython.core.display.HTML object>"
      ]
     },
     "metadata": {},
     "output_type": "display_data"
    },
    {
     "name": "stderr",
     "output_type": "stream",
     "text": [
      "***** Running Evaluation *****\n",
      "  Num examples = 11225\n",
      "  Batch size = 8\n",
      "Saving model checkpoint to content/drive/MyDrive/output_DistilBert/fold4/checkpoint-4775\n",
      "Configuration saved in content/drive/MyDrive/output_DistilBert/fold4/checkpoint-4775/config.json\n",
      "Model weights saved in content/drive/MyDrive/output_DistilBert/fold4/checkpoint-4775/pytorch_model.bin\n",
      "***** Running Evaluation *****\n",
      "  Num examples = 11225\n",
      "  Batch size = 8\n",
      "Saving model checkpoint to content/drive/MyDrive/output_DistilBert/fold4/checkpoint-9550\n",
      "Configuration saved in content/drive/MyDrive/output_DistilBert/fold4/checkpoint-9550/config.json\n",
      "Model weights saved in content/drive/MyDrive/output_DistilBert/fold4/checkpoint-9550/pytorch_model.bin\n",
      "***** Running Evaluation *****\n",
      "  Num examples = 11225\n",
      "  Batch size = 8\n",
      "Saving model checkpoint to content/drive/MyDrive/output_DistilBert/fold4/checkpoint-14325\n",
      "Configuration saved in content/drive/MyDrive/output_DistilBert/fold4/checkpoint-14325/config.json\n",
      "Model weights saved in content/drive/MyDrive/output_DistilBert/fold4/checkpoint-14325/pytorch_model.bin\n",
      "***** Running Evaluation *****\n",
      "  Num examples = 11225\n",
      "  Batch size = 8\n",
      "Saving model checkpoint to content/drive/MyDrive/output_DistilBert/fold4/checkpoint-19100\n",
      "Configuration saved in content/drive/MyDrive/output_DistilBert/fold4/checkpoint-19100/config.json\n",
      "Model weights saved in content/drive/MyDrive/output_DistilBert/fold4/checkpoint-19100/pytorch_model.bin\n",
      "\n",
      "\n",
      "Training completed. Do not forget to share your model on huggingface.co/models =)\n",
      "\n",
      "\n",
      "Loading best model from content/drive/MyDrive/output_DistilBert/fold4/checkpoint-4775 (score: 0.13413041830062866).\n",
      "4it [4:40:25, 4203.92s/it]"
     ]
    },
    {
     "name": "stdout",
     "output_type": "stream",
     "text": [
      "Complete for fold 4\n",
      "Running for Fold:  5\n",
      "38200\n",
      "Counter({0: 106872, 1: 3596, 2: 1354, 3: 425})\n",
      "Counter({0: 96185, 1: 3236, 2: 1219, 3: 382})\n",
      "Counter({0: 33363, 1: 3236, 2: 1219, 3: 382})\n",
      "Counter({0: 33363, 1: 3236, 2: 1219, 3: 382})\n"
     ]
    },
    {
     "name": "stderr",
     "output_type": "stream",
     "text": [
      "PyTorch: setting up devices\n",
      "The default value for the training argument `--report_to` will change in v5 (from all installed integrations to none). In v5, you will need to use `--report_to all` to get the same behavior as now. You should start updating your code and make this info disappear :-).\n",
      "/opt/conda/lib/python3.9/site-packages/transformers/optimization.py:306: FutureWarning: This implementation of AdamW is deprecated and will be removed in a future version. Use the PyTorch implementation torch.optim.AdamW instead, or set `no_deprecation_warning=True` to disable this warning\n",
      "  warnings.warn(\n",
      "***** Running training *****\n",
      "  Num examples = 38200\n",
      "  Num Epochs = 4\n",
      "  Instantaneous batch size per device = 8\n",
      "  Total train batch size (w. parallel, distributed & accumulation) = 8\n",
      "  Gradient Accumulation steps = 1\n",
      "  Total optimization steps = 19100\n"
     ]
    },
    {
     "data": {
      "text/html": [
       "\n",
       "    <div>\n",
       "      \n",
       "      <progress value='15189' max='19100' style='width:300px; height:20px; vertical-align: middle;'></progress>\n",
       "      [15189/19100 55:26 < 14:16, 4.56 it/s, Epoch 3.18/4]\n",
       "    </div>\n",
       "    <table border=\"1\" class=\"dataframe\">\n",
       "  <thead>\n",
       " <tr style=\"text-align: left;\">\n",
       "      <th>Epoch</th>\n",
       "      <th>Training Loss</th>\n",
       "      <th>Validation Loss</th>\n",
       "      <th>Accuracy</th>\n",
       "      <th>Precision</th>\n",
       "      <th>Recall</th>\n",
       "      <th>F1</th>\n",
       "      <th>Precision Nonbully</th>\n",
       "      <th>Recall Nonbully</th>\n",
       "      <th>F1 Nonbully</th>\n",
       "      <th>Precision Harasser</th>\n",
       "      <th>Recall Harasser</th>\n",
       "      <th>F1 Harasser</th>\n",
       "      <th>Precision Victim</th>\n",
       "      <th>Recall Victim</th>\n",
       "      <th>F1 Victim</th>\n",
       "      <th>Precision Bydefender</th>\n",
       "      <th>Recall Bydefender</th>\n",
       "      <th>F1 Bydefender</th>\n",
       "    </tr>\n",
       "  </thead>\n",
       "  <tbody>\n",
       "    <tr>\n",
       "      <td>1</td>\n",
       "      <td>0.196900</td>\n",
       "      <td>0.098015</td>\n",
       "      <td>0.971047</td>\n",
       "      <td>0.666408</td>\n",
       "      <td>0.723327</td>\n",
       "      <td>0.691449</td>\n",
       "      <td>0.992355</td>\n",
       "      <td>0.983812</td>\n",
       "      <td>0.988065</td>\n",
       "      <td>0.664459</td>\n",
       "      <td>0.836111</td>\n",
       "      <td>0.740467</td>\n",
       "      <td>0.448819</td>\n",
       "      <td>0.422222</td>\n",
       "      <td>0.435115</td>\n",
       "      <td>0.560000</td>\n",
       "      <td>0.651163</td>\n",
       "      <td>0.602151</td>\n",
       "    </tr>\n",
       "    <tr>\n",
       "      <td>2</td>\n",
       "      <td>0.156900</td>\n",
       "      <td>0.129398</td>\n",
       "      <td>0.969443</td>\n",
       "      <td>0.724115</td>\n",
       "      <td>0.713714</td>\n",
       "      <td>0.705470</td>\n",
       "      <td>0.992712</td>\n",
       "      <td>0.981473</td>\n",
       "      <td>0.987061</td>\n",
       "      <td>0.598131</td>\n",
       "      <td>0.888889</td>\n",
       "      <td>0.715084</td>\n",
       "      <td>0.505618</td>\n",
       "      <td>0.333333</td>\n",
       "      <td>0.401786</td>\n",
       "      <td>0.800000</td>\n",
       "      <td>0.651163</td>\n",
       "      <td>0.717949</td>\n",
       "    </tr>\n",
       "    <tr>\n",
       "      <td>3</td>\n",
       "      <td>0.102100</td>\n",
       "      <td>0.135293</td>\n",
       "      <td>0.972739</td>\n",
       "      <td>0.688668</td>\n",
       "      <td>0.737912</td>\n",
       "      <td>0.702616</td>\n",
       "      <td>0.991532</td>\n",
       "      <td>0.986058</td>\n",
       "      <td>0.988787</td>\n",
       "      <td>0.669663</td>\n",
       "      <td>0.827778</td>\n",
       "      <td>0.740373</td>\n",
       "      <td>0.543478</td>\n",
       "      <td>0.370370</td>\n",
       "      <td>0.440529</td>\n",
       "      <td>0.550000</td>\n",
       "      <td>0.767442</td>\n",
       "      <td>0.640777</td>\n",
       "    </tr>\n",
       "  </tbody>\n",
       "</table><p>"
      ],
      "text/plain": [
       "<IPython.core.display.HTML object>"
      ]
     },
     "metadata": {},
     "output_type": "display_data"
    },
    {
     "name": "stderr",
     "output_type": "stream",
     "text": [
      "***** Running Evaluation *****\n",
      "  Num examples = 11225\n",
      "  Batch size = 8\n",
      "Saving model checkpoint to content/drive/MyDrive/output_DistilBert/fold5/checkpoint-4775\n",
      "Configuration saved in content/drive/MyDrive/output_DistilBert/fold5/checkpoint-4775/config.json\n",
      "Model weights saved in content/drive/MyDrive/output_DistilBert/fold5/checkpoint-4775/pytorch_model.bin\n",
      "***** Running Evaluation *****\n",
      "  Num examples = 11225\n",
      "  Batch size = 8\n",
      "Saving model checkpoint to content/drive/MyDrive/output_DistilBert/fold5/checkpoint-9550\n",
      "Configuration saved in content/drive/MyDrive/output_DistilBert/fold5/checkpoint-9550/config.json\n",
      "Model weights saved in content/drive/MyDrive/output_DistilBert/fold5/checkpoint-9550/pytorch_model.bin\n",
      "***** Running Evaluation *****\n",
      "  Num examples = 11225\n",
      "  Batch size = 8\n",
      "Saving model checkpoint to content/drive/MyDrive/output_DistilBert/fold5/checkpoint-14325\n",
      "Configuration saved in content/drive/MyDrive/output_DistilBert/fold5/checkpoint-14325/config.json\n",
      "Model weights saved in content/drive/MyDrive/output_DistilBert/fold5/checkpoint-14325/pytorch_model.bin\n"
     ]
    }
   ],
   "source": [
    "run_cross_validation(model_name='DistilBert',\n",
    "                         X=X,\n",
    "                         y=y, \n",
    "                         splits=5,\n",
    "                         epoch=4,\n",
    "                         checkpoint=False)"
   ]
  },
  {
   "cell_type": "markdown",
   "id": "86de121d-bd06-4819-87d1-ae2ff4b56fc0",
   "metadata": {
    "jp-MarkdownHeadingCollapsed": true,
    "tags": []
   },
   "source": [
    "### [Continue] Cross Validation (K = 5)"
   ]
  },
  {
   "cell_type": "code",
   "execution_count": 9,
   "id": "ccee2feb-2174-4cb3-8892-dec4d689294d",
   "metadata": {},
   "outputs": [
    {
     "name": "stdout",
     "output_type": "stream",
     "text": [
      "Developing Model with Cross validation for: DistilBert\n"
     ]
    },
    {
     "name": "stderr",
     "output_type": "stream",
     "text": [
      "0it [00:00, ?it/s]"
     ]
    },
    {
     "name": "stdout",
     "output_type": "stream",
     "text": [
      "Running for Fold:  1\n",
      "38200\n",
      "Counter({0: 106872, 1: 3596, 2: 1354, 3: 425})\n",
      "Counter({0: 96185, 1: 3236, 2: 1219, 3: 382})\n",
      "Counter({0: 33363, 1: 3236, 2: 1219, 3: 382})\n",
      "Counter({0: 33363, 1: 3236, 2: 1219, 3: 382})\n"
     ]
    },
    {
     "name": "stderr",
     "output_type": "stream",
     "text": [
      "Loading model from content/drive/MyDrive/output_DistilBert/fold1/checkpoint-19100).\n",
      "/opt/conda/lib/python3.9/site-packages/transformers/optimization.py:306: FutureWarning: This implementation of AdamW is deprecated and will be removed in a future version. Use the PyTorch implementation torch.optim.AdamW instead, or set `no_deprecation_warning=True` to disable this warning\n",
      "  warnings.warn(\n",
      "***** Running training *****\n",
      "  Num examples = 38200\n",
      "  Num Epochs = 8\n",
      "  Instantaneous batch size per device = 8\n",
      "  Total train batch size (w. parallel, distributed & accumulation) = 8\n",
      "  Gradient Accumulation steps = 1\n",
      "  Total optimization steps = 38200\n",
      "  Continuing training from checkpoint, will skip to saved global_step\n",
      "  Continuing training from epoch 4\n",
      "  Continuing training from global step 19100\n",
      "  Will skip the first 4 epochs then the first 0 batches in the first epoch. If this takes a lot of time, you can add the `--ignore_data_skip` flag to your launch command, but you will resume the training on data already seen by your model.\n"
     ]
    },
    {
     "data": {
      "application/vnd.jupyter.widget-view+json": {
       "model_id": "3e52a262433e47f0a1c4b26448ed4af0",
       "version_major": 2,
       "version_minor": 0
      },
      "text/plain": [
       "0it [00:00, ?it/s]"
      ]
     },
     "metadata": {},
     "output_type": "display_data"
    },
    {
     "data": {
      "text/html": [
       "\n",
       "    <div>\n",
       "      \n",
       "      <progress value='33425' max='38200' style='width:300px; height:20px; vertical-align: middle;'></progress>\n",
       "      [33425/38200 52:29 < 17:29, 4.55 it/s, Epoch 7/8]\n",
       "    </div>\n",
       "    <table border=\"1\" class=\"dataframe\">\n",
       "  <thead>\n",
       " <tr style=\"text-align: left;\">\n",
       "      <th>Epoch</th>\n",
       "      <th>Training Loss</th>\n",
       "      <th>Validation Loss</th>\n",
       "      <th>Accuracy</th>\n",
       "      <th>Precision</th>\n",
       "      <th>Recall</th>\n",
       "      <th>F1</th>\n",
       "      <th>Precision Nonbully</th>\n",
       "      <th>Recall Nonbully</th>\n",
       "      <th>F1 Nonbully</th>\n",
       "      <th>Precision Harasser</th>\n",
       "      <th>Recall Harasser</th>\n",
       "      <th>F1 Harasser</th>\n",
       "      <th>Precision Victim</th>\n",
       "      <th>Recall Victim</th>\n",
       "      <th>F1 Victim</th>\n",
       "      <th>Precision Bydefender</th>\n",
       "      <th>Recall Bydefender</th>\n",
       "      <th>F1 Bydefender</th>\n",
       "    </tr>\n",
       "  </thead>\n",
       "  <tbody>\n",
       "    <tr>\n",
       "      <td>5</td>\n",
       "      <td>0.128800</td>\n",
       "      <td>0.264323</td>\n",
       "      <td>0.948241</td>\n",
       "      <td>0.530906</td>\n",
       "      <td>0.583754</td>\n",
       "      <td>0.551638</td>\n",
       "      <td>0.985338</td>\n",
       "      <td>0.968373</td>\n",
       "      <td>0.976782</td>\n",
       "      <td>0.479592</td>\n",
       "      <td>0.652778</td>\n",
       "      <td>0.552941</td>\n",
       "      <td>0.222798</td>\n",
       "      <td>0.318519</td>\n",
       "      <td>0.262195</td>\n",
       "      <td>0.435897</td>\n",
       "      <td>0.395349</td>\n",
       "      <td>0.414634</td>\n",
       "    </tr>\n",
       "    <tr>\n",
       "      <td>6</td>\n",
       "      <td>0.087200</td>\n",
       "      <td>0.304232</td>\n",
       "      <td>0.946815</td>\n",
       "      <td>0.504070</td>\n",
       "      <td>0.621596</td>\n",
       "      <td>0.549929</td>\n",
       "      <td>0.985589</td>\n",
       "      <td>0.966314</td>\n",
       "      <td>0.975856</td>\n",
       "      <td>0.472505</td>\n",
       "      <td>0.644444</td>\n",
       "      <td>0.545241</td>\n",
       "      <td>0.255556</td>\n",
       "      <td>0.340741</td>\n",
       "      <td>0.292063</td>\n",
       "      <td>0.302632</td>\n",
       "      <td>0.534884</td>\n",
       "      <td>0.386555</td>\n",
       "    </tr>\n",
       "    <tr>\n",
       "      <td>7</td>\n",
       "      <td>0.051400</td>\n",
       "      <td>0.314969</td>\n",
       "      <td>0.953942</td>\n",
       "      <td>0.559878</td>\n",
       "      <td>0.585127</td>\n",
       "      <td>0.570762</td>\n",
       "      <td>0.982284</td>\n",
       "      <td>0.975391</td>\n",
       "      <td>0.978825</td>\n",
       "      <td>0.512360</td>\n",
       "      <td>0.633333</td>\n",
       "      <td>0.566460</td>\n",
       "      <td>0.290323</td>\n",
       "      <td>0.266667</td>\n",
       "      <td>0.277992</td>\n",
       "      <td>0.454545</td>\n",
       "      <td>0.465116</td>\n",
       "      <td>0.459770</td>\n",
       "    </tr>\n",
       "  </tbody>\n",
       "</table><p>"
      ],
      "text/plain": [
       "<IPython.core.display.HTML object>"
      ]
     },
     "metadata": {},
     "output_type": "display_data"
    },
    {
     "name": "stderr",
     "output_type": "stream",
     "text": [
      "***** Running Evaluation *****\n",
      "  Num examples = 11225\n",
      "  Batch size = 8\n",
      "Saving model checkpoint to content/drive/MyDrive/output_DistilBert/fold1/checkpoint-23875\n",
      "Configuration saved in content/drive/MyDrive/output_DistilBert/fold1/checkpoint-23875/config.json\n",
      "Model weights saved in content/drive/MyDrive/output_DistilBert/fold1/checkpoint-23875/pytorch_model.bin\n",
      "***** Running Evaluation *****\n",
      "  Num examples = 11225\n",
      "  Batch size = 8\n",
      "Saving model checkpoint to content/drive/MyDrive/output_DistilBert/fold1/checkpoint-28650\n",
      "Configuration saved in content/drive/MyDrive/output_DistilBert/fold1/checkpoint-28650/config.json\n",
      "Model weights saved in content/drive/MyDrive/output_DistilBert/fold1/checkpoint-28650/pytorch_model.bin\n",
      "***** Running Evaluation *****\n",
      "  Num examples = 11225\n",
      "  Batch size = 8\n",
      "Saving model checkpoint to content/drive/MyDrive/output_DistilBert/fold1/checkpoint-33425\n",
      "Configuration saved in content/drive/MyDrive/output_DistilBert/fold1/checkpoint-33425/config.json\n",
      "Model weights saved in content/drive/MyDrive/output_DistilBert/fold1/checkpoint-33425/pytorch_model.bin\n",
      "\n",
      "\n",
      "Training completed. Do not forget to share your model on huggingface.co/models =)\n",
      "\n",
      "\n",
      "Loading best model from content/drive/MyDrive/output_DistilBert/fold1/checkpoint-4775 (score: 0.16236844658851624).\n",
      "1it [52:44, 3164.86s/it]"
     ]
    },
    {
     "name": "stdout",
     "output_type": "stream",
     "text": [
      "Complete for fold 1\n",
      "Running for Fold:  2\n",
      "38200\n",
      "Counter({0: 106872, 1: 3596, 2: 1354, 3: 425})\n",
      "Counter({0: 96185, 1: 3236, 2: 1219, 3: 382})\n",
      "Counter({0: 33363, 1: 3236, 2: 1219, 3: 382})\n",
      "Counter({0: 33363, 1: 3236, 2: 1219, 3: 382})\n"
     ]
    },
    {
     "name": "stderr",
     "output_type": "stream",
     "text": [
      "PyTorch: setting up devices\n",
      "The default value for the training argument `--report_to` will change in v5 (from all installed integrations to none). In v5, you will need to use `--report_to all` to get the same behavior as now. You should start updating your code and make this info disappear :-).\n",
      "Loading model from content/drive/MyDrive/output_DistilBert/fold2/checkpoint-19100).\n",
      "/opt/conda/lib/python3.9/site-packages/transformers/optimization.py:306: FutureWarning: This implementation of AdamW is deprecated and will be removed in a future version. Use the PyTorch implementation torch.optim.AdamW instead, or set `no_deprecation_warning=True` to disable this warning\n",
      "  warnings.warn(\n",
      "***** Running training *****\n",
      "  Num examples = 38200\n",
      "  Num Epochs = 8\n",
      "  Instantaneous batch size per device = 8\n",
      "  Total train batch size (w. parallel, distributed & accumulation) = 8\n",
      "  Gradient Accumulation steps = 1\n",
      "  Total optimization steps = 38200\n",
      "  Continuing training from checkpoint, will skip to saved global_step\n",
      "  Continuing training from epoch 4\n",
      "  Continuing training from global step 19100\n",
      "  Will skip the first 4 epochs then the first 0 batches in the first epoch. If this takes a lot of time, you can add the `--ignore_data_skip` flag to your launch command, but you will resume the training on data already seen by your model.\n"
     ]
    },
    {
     "data": {
      "application/vnd.jupyter.widget-view+json": {
       "model_id": "a253ce24434b4bc0930b20ab1e2fcf6e",
       "version_major": 2,
       "version_minor": 0
      },
      "text/plain": [
       "0it [00:00, ?it/s]"
      ]
     },
     "metadata": {},
     "output_type": "display_data"
    },
    {
     "data": {
      "text/html": [
       "\n",
       "    <div>\n",
       "      \n",
       "      <progress value='33425' max='38200' style='width:300px; height:20px; vertical-align: middle;'></progress>\n",
       "      [33425/38200 52:29 < 17:30, 4.55 it/s, Epoch 7/8]\n",
       "    </div>\n",
       "    <table border=\"1\" class=\"dataframe\">\n",
       "  <thead>\n",
       " <tr style=\"text-align: left;\">\n",
       "      <th>Epoch</th>\n",
       "      <th>Training Loss</th>\n",
       "      <th>Validation Loss</th>\n",
       "      <th>Accuracy</th>\n",
       "      <th>Precision</th>\n",
       "      <th>Recall</th>\n",
       "      <th>F1</th>\n",
       "      <th>Precision Nonbully</th>\n",
       "      <th>Recall Nonbully</th>\n",
       "      <th>F1 Nonbully</th>\n",
       "      <th>Precision Harasser</th>\n",
       "      <th>Recall Harasser</th>\n",
       "      <th>F1 Harasser</th>\n",
       "      <th>Precision Victim</th>\n",
       "      <th>Recall Victim</th>\n",
       "      <th>F1 Victim</th>\n",
       "      <th>Precision Bydefender</th>\n",
       "      <th>Recall Bydefender</th>\n",
       "      <th>F1 Bydefender</th>\n",
       "    </tr>\n",
       "  </thead>\n",
       "  <tbody>\n",
       "    <tr>\n",
       "      <td>5</td>\n",
       "      <td>0.088600</td>\n",
       "      <td>0.242863</td>\n",
       "      <td>0.955546</td>\n",
       "      <td>0.633402</td>\n",
       "      <td>0.651254</td>\n",
       "      <td>0.634701</td>\n",
       "      <td>0.986269</td>\n",
       "      <td>0.974549</td>\n",
       "      <td>0.980374</td>\n",
       "      <td>0.562044</td>\n",
       "      <td>0.641667</td>\n",
       "      <td>0.599222</td>\n",
       "      <td>0.250000</td>\n",
       "      <td>0.407407</td>\n",
       "      <td>0.309859</td>\n",
       "      <td>0.735294</td>\n",
       "      <td>0.581395</td>\n",
       "      <td>0.649351</td>\n",
       "    </tr>\n",
       "    <tr>\n",
       "      <td>6</td>\n",
       "      <td>0.060400</td>\n",
       "      <td>0.287275</td>\n",
       "      <td>0.957238</td>\n",
       "      <td>0.589129</td>\n",
       "      <td>0.628600</td>\n",
       "      <td>0.607368</td>\n",
       "      <td>0.985658</td>\n",
       "      <td>0.977449</td>\n",
       "      <td>0.981536</td>\n",
       "      <td>0.540793</td>\n",
       "      <td>0.644444</td>\n",
       "      <td>0.588086</td>\n",
       "      <td>0.274510</td>\n",
       "      <td>0.311111</td>\n",
       "      <td>0.291667</td>\n",
       "      <td>0.555556</td>\n",
       "      <td>0.581395</td>\n",
       "      <td>0.568182</td>\n",
       "    </tr>\n",
       "    <tr>\n",
       "      <td>7</td>\n",
       "      <td>0.056900</td>\n",
       "      <td>0.299920</td>\n",
       "      <td>0.954744</td>\n",
       "      <td>0.569106</td>\n",
       "      <td>0.596071</td>\n",
       "      <td>0.579103</td>\n",
       "      <td>0.985993</td>\n",
       "      <td>0.974829</td>\n",
       "      <td>0.980379</td>\n",
       "      <td>0.510684</td>\n",
       "      <td>0.663889</td>\n",
       "      <td>0.577295</td>\n",
       "      <td>0.266234</td>\n",
       "      <td>0.303704</td>\n",
       "      <td>0.283737</td>\n",
       "      <td>0.513514</td>\n",
       "      <td>0.441860</td>\n",
       "      <td>0.475000</td>\n",
       "    </tr>\n",
       "  </tbody>\n",
       "</table><p>"
      ],
      "text/plain": [
       "<IPython.core.display.HTML object>"
      ]
     },
     "metadata": {},
     "output_type": "display_data"
    },
    {
     "name": "stderr",
     "output_type": "stream",
     "text": [
      "***** Running Evaluation *****\n",
      "  Num examples = 11225\n",
      "  Batch size = 8\n",
      "Saving model checkpoint to content/drive/MyDrive/output_DistilBert/fold2/checkpoint-23875\n",
      "Configuration saved in content/drive/MyDrive/output_DistilBert/fold2/checkpoint-23875/config.json\n",
      "Model weights saved in content/drive/MyDrive/output_DistilBert/fold2/checkpoint-23875/pytorch_model.bin\n",
      "***** Running Evaluation *****\n",
      "  Num examples = 11225\n",
      "  Batch size = 8\n",
      "Saving model checkpoint to content/drive/MyDrive/output_DistilBert/fold2/checkpoint-28650\n",
      "Configuration saved in content/drive/MyDrive/output_DistilBert/fold2/checkpoint-28650/config.json\n",
      "Model weights saved in content/drive/MyDrive/output_DistilBert/fold2/checkpoint-28650/pytorch_model.bin\n",
      "***** Running Evaluation *****\n",
      "  Num examples = 11225\n",
      "  Batch size = 8\n",
      "Saving model checkpoint to content/drive/MyDrive/output_DistilBert/fold2/checkpoint-33425\n",
      "Configuration saved in content/drive/MyDrive/output_DistilBert/fold2/checkpoint-33425/config.json\n",
      "Model weights saved in content/drive/MyDrive/output_DistilBert/fold2/checkpoint-33425/pytorch_model.bin\n",
      "\n",
      "\n",
      "Training completed. Do not forget to share your model on huggingface.co/models =)\n",
      "\n",
      "\n",
      "Loading best model from content/drive/MyDrive/output_DistilBert/fold2/checkpoint-4775 (score: 0.1395651400089264).\n",
      "2it [1:45:29, 3164.64s/it]"
     ]
    },
    {
     "name": "stdout",
     "output_type": "stream",
     "text": [
      "Complete for fold 2\n",
      "Running for Fold:  3\n",
      "38200\n",
      "Counter({0: 106872, 1: 3596, 2: 1354, 3: 425})\n",
      "Counter({0: 96185, 1: 3236, 2: 1219, 3: 382})\n",
      "Counter({0: 33363, 1: 3236, 2: 1219, 3: 382})\n",
      "Counter({0: 33363, 1: 3236, 2: 1219, 3: 382})\n"
     ]
    },
    {
     "name": "stderr",
     "output_type": "stream",
     "text": [
      "PyTorch: setting up devices\n",
      "The default value for the training argument `--report_to` will change in v5 (from all installed integrations to none). In v5, you will need to use `--report_to all` to get the same behavior as now. You should start updating your code and make this info disappear :-).\n",
      "Loading model from content/drive/MyDrive/output_DistilBert/fold3/checkpoint-19100).\n",
      "/opt/conda/lib/python3.9/site-packages/transformers/optimization.py:306: FutureWarning: This implementation of AdamW is deprecated and will be removed in a future version. Use the PyTorch implementation torch.optim.AdamW instead, or set `no_deprecation_warning=True` to disable this warning\n",
      "  warnings.warn(\n",
      "***** Running training *****\n",
      "  Num examples = 38200\n",
      "  Num Epochs = 8\n",
      "  Instantaneous batch size per device = 8\n",
      "  Total train batch size (w. parallel, distributed & accumulation) = 8\n",
      "  Gradient Accumulation steps = 1\n",
      "  Total optimization steps = 38200\n",
      "  Continuing training from checkpoint, will skip to saved global_step\n",
      "  Continuing training from epoch 4\n",
      "  Continuing training from global step 19100\n",
      "  Will skip the first 4 epochs then the first 0 batches in the first epoch. If this takes a lot of time, you can add the `--ignore_data_skip` flag to your launch command, but you will resume the training on data already seen by your model.\n"
     ]
    },
    {
     "data": {
      "application/vnd.jupyter.widget-view+json": {
       "model_id": "7900ac987516453992969861de7ebd02",
       "version_major": 2,
       "version_minor": 0
      },
      "text/plain": [
       "0it [00:00, ?it/s]"
      ]
     },
     "metadata": {},
     "output_type": "display_data"
    },
    {
     "data": {
      "text/html": [
       "\n",
       "    <div>\n",
       "      \n",
       "      <progress value='33425' max='38200' style='width:300px; height:20px; vertical-align: middle;'></progress>\n",
       "      [33425/38200 52:37 < 17:32, 4.54 it/s, Epoch 7/8]\n",
       "    </div>\n",
       "    <table border=\"1\" class=\"dataframe\">\n",
       "  <thead>\n",
       " <tr style=\"text-align: left;\">\n",
       "      <th>Epoch</th>\n",
       "      <th>Training Loss</th>\n",
       "      <th>Validation Loss</th>\n",
       "      <th>Accuracy</th>\n",
       "      <th>Precision</th>\n",
       "      <th>Recall</th>\n",
       "      <th>F1</th>\n",
       "      <th>Precision Nonbully</th>\n",
       "      <th>Recall Nonbully</th>\n",
       "      <th>F1 Nonbully</th>\n",
       "      <th>Precision Harasser</th>\n",
       "      <th>Recall Harasser</th>\n",
       "      <th>F1 Harasser</th>\n",
       "      <th>Precision Victim</th>\n",
       "      <th>Recall Victim</th>\n",
       "      <th>F1 Victim</th>\n",
       "      <th>Precision Bydefender</th>\n",
       "      <th>Recall Bydefender</th>\n",
       "      <th>F1 Bydefender</th>\n",
       "    </tr>\n",
       "  </thead>\n",
       "  <tbody>\n",
       "    <tr>\n",
       "      <td>5</td>\n",
       "      <td>0.075200</td>\n",
       "      <td>0.219756</td>\n",
       "      <td>0.957060</td>\n",
       "      <td>0.557305</td>\n",
       "      <td>0.619166</td>\n",
       "      <td>0.584555</td>\n",
       "      <td>0.988077</td>\n",
       "      <td>0.977075</td>\n",
       "      <td>0.982545</td>\n",
       "      <td>0.562802</td>\n",
       "      <td>0.647222</td>\n",
       "      <td>0.602067</td>\n",
       "      <td>0.238342</td>\n",
       "      <td>0.340741</td>\n",
       "      <td>0.280488</td>\n",
       "      <td>0.440000</td>\n",
       "      <td>0.511628</td>\n",
       "      <td>0.473118</td>\n",
       "    </tr>\n",
       "    <tr>\n",
       "      <td>6</td>\n",
       "      <td>0.060500</td>\n",
       "      <td>0.259911</td>\n",
       "      <td>0.957773</td>\n",
       "      <td>0.587309</td>\n",
       "      <td>0.618871</td>\n",
       "      <td>0.600608</td>\n",
       "      <td>0.987524</td>\n",
       "      <td>0.977636</td>\n",
       "      <td>0.982555</td>\n",
       "      <td>0.558140</td>\n",
       "      <td>0.666667</td>\n",
       "      <td>0.607595</td>\n",
       "      <td>0.228571</td>\n",
       "      <td>0.296296</td>\n",
       "      <td>0.258065</td>\n",
       "      <td>0.575000</td>\n",
       "      <td>0.534884</td>\n",
       "      <td>0.554217</td>\n",
       "    </tr>\n",
       "    <tr>\n",
       "      <td>7</td>\n",
       "      <td>0.044300</td>\n",
       "      <td>0.277390</td>\n",
       "      <td>0.957416</td>\n",
       "      <td>0.562980</td>\n",
       "      <td>0.654376</td>\n",
       "      <td>0.601811</td>\n",
       "      <td>0.988256</td>\n",
       "      <td>0.976420</td>\n",
       "      <td>0.982303</td>\n",
       "      <td>0.541020</td>\n",
       "      <td>0.677778</td>\n",
       "      <td>0.601726</td>\n",
       "      <td>0.254902</td>\n",
       "      <td>0.288889</td>\n",
       "      <td>0.270833</td>\n",
       "      <td>0.467742</td>\n",
       "      <td>0.674419</td>\n",
       "      <td>0.552381</td>\n",
       "    </tr>\n",
       "  </tbody>\n",
       "</table><p>"
      ],
      "text/plain": [
       "<IPython.core.display.HTML object>"
      ]
     },
     "metadata": {},
     "output_type": "display_data"
    },
    {
     "name": "stderr",
     "output_type": "stream",
     "text": [
      "***** Running Evaluation *****\n",
      "  Num examples = 11225\n",
      "  Batch size = 8\n",
      "Saving model checkpoint to content/drive/MyDrive/output_DistilBert/fold3/checkpoint-23875\n",
      "Configuration saved in content/drive/MyDrive/output_DistilBert/fold3/checkpoint-23875/config.json\n",
      "Model weights saved in content/drive/MyDrive/output_DistilBert/fold3/checkpoint-23875/pytorch_model.bin\n",
      "***** Running Evaluation *****\n",
      "  Num examples = 11225\n",
      "  Batch size = 8\n",
      "Saving model checkpoint to content/drive/MyDrive/output_DistilBert/fold3/checkpoint-28650\n",
      "Configuration saved in content/drive/MyDrive/output_DistilBert/fold3/checkpoint-28650/config.json\n",
      "Model weights saved in content/drive/MyDrive/output_DistilBert/fold3/checkpoint-28650/pytorch_model.bin\n",
      "***** Running Evaluation *****\n",
      "  Num examples = 11225\n",
      "  Batch size = 8\n",
      "Saving model checkpoint to content/drive/MyDrive/output_DistilBert/fold3/checkpoint-33425\n",
      "Configuration saved in content/drive/MyDrive/output_DistilBert/fold3/checkpoint-33425/config.json\n",
      "Model weights saved in content/drive/MyDrive/output_DistilBert/fold3/checkpoint-33425/pytorch_model.bin\n",
      "\n",
      "\n",
      "Training completed. Do not forget to share your model on huggingface.co/models =)\n",
      "\n",
      "\n",
      "Loading best model from content/drive/MyDrive/output_DistilBert/fold3/checkpoint-4775 (score: 0.1467844843864441).\n",
      "3it [2:38:21, 3168.01s/it]"
     ]
    },
    {
     "name": "stdout",
     "output_type": "stream",
     "text": [
      "Complete for fold 3\n",
      "Running for Fold:  4\n",
      "38200\n",
      "Counter({0: 106872, 1: 3596, 2: 1354, 3: 425})\n",
      "Counter({0: 96185, 1: 3236, 2: 1219, 3: 382})\n",
      "Counter({0: 33363, 1: 3236, 2: 1219, 3: 382})\n",
      "Counter({0: 33363, 1: 3236, 2: 1219, 3: 382})\n"
     ]
    },
    {
     "name": "stderr",
     "output_type": "stream",
     "text": [
      "PyTorch: setting up devices\n",
      "The default value for the training argument `--report_to` will change in v5 (from all installed integrations to none). In v5, you will need to use `--report_to all` to get the same behavior as now. You should start updating your code and make this info disappear :-).\n",
      "Loading model from content/drive/MyDrive/output_DistilBert/fold4/checkpoint-19100).\n",
      "/opt/conda/lib/python3.9/site-packages/transformers/optimization.py:306: FutureWarning: This implementation of AdamW is deprecated and will be removed in a future version. Use the PyTorch implementation torch.optim.AdamW instead, or set `no_deprecation_warning=True` to disable this warning\n",
      "  warnings.warn(\n",
      "***** Running training *****\n",
      "  Num examples = 38200\n",
      "  Num Epochs = 8\n",
      "  Instantaneous batch size per device = 8\n",
      "  Total train batch size (w. parallel, distributed & accumulation) = 8\n",
      "  Gradient Accumulation steps = 1\n",
      "  Total optimization steps = 38200\n",
      "  Continuing training from checkpoint, will skip to saved global_step\n",
      "  Continuing training from epoch 4\n",
      "  Continuing training from global step 19100\n",
      "  Will skip the first 4 epochs then the first 0 batches in the first epoch. If this takes a lot of time, you can add the `--ignore_data_skip` flag to your launch command, but you will resume the training on data already seen by your model.\n"
     ]
    },
    {
     "data": {
      "application/vnd.jupyter.widget-view+json": {
       "model_id": "e57bc84635194056b1ca02ffb1f00e4f",
       "version_major": 2,
       "version_minor": 0
      },
      "text/plain": [
       "0it [00:00, ?it/s]"
      ]
     },
     "metadata": {},
     "output_type": "display_data"
    },
    {
     "data": {
      "text/html": [
       "\n",
       "    <div>\n",
       "      \n",
       "      <progress value='33425' max='38200' style='width:300px; height:20px; vertical-align: middle;'></progress>\n",
       "      [33425/38200 52:35 < 17:31, 4.54 it/s, Epoch 7/8]\n",
       "    </div>\n",
       "    <table border=\"1\" class=\"dataframe\">\n",
       "  <thead>\n",
       " <tr style=\"text-align: left;\">\n",
       "      <th>Epoch</th>\n",
       "      <th>Training Loss</th>\n",
       "      <th>Validation Loss</th>\n",
       "      <th>Accuracy</th>\n",
       "      <th>Precision</th>\n",
       "      <th>Recall</th>\n",
       "      <th>F1</th>\n",
       "      <th>Precision Nonbully</th>\n",
       "      <th>Recall Nonbully</th>\n",
       "      <th>F1 Nonbully</th>\n",
       "      <th>Precision Harasser</th>\n",
       "      <th>Recall Harasser</th>\n",
       "      <th>F1 Harasser</th>\n",
       "      <th>Precision Victim</th>\n",
       "      <th>Recall Victim</th>\n",
       "      <th>F1 Victim</th>\n",
       "      <th>Precision Bydefender</th>\n",
       "      <th>Recall Bydefender</th>\n",
       "      <th>F1 Bydefender</th>\n",
       "    </tr>\n",
       "  </thead>\n",
       "  <tbody>\n",
       "    <tr>\n",
       "      <td>5</td>\n",
       "      <td>0.079100</td>\n",
       "      <td>0.219904</td>\n",
       "      <td>0.955367</td>\n",
       "      <td>0.571535</td>\n",
       "      <td>0.732072</td>\n",
       "      <td>0.632596</td>\n",
       "      <td>0.993657</td>\n",
       "      <td>0.967437</td>\n",
       "      <td>0.980372</td>\n",
       "      <td>0.508418</td>\n",
       "      <td>0.838889</td>\n",
       "      <td>0.633124</td>\n",
       "      <td>0.326923</td>\n",
       "      <td>0.377778</td>\n",
       "      <td>0.350515</td>\n",
       "      <td>0.457143</td>\n",
       "      <td>0.744186</td>\n",
       "      <td>0.566372</td>\n",
       "    </tr>\n",
       "    <tr>\n",
       "      <td>6</td>\n",
       "      <td>0.069100</td>\n",
       "      <td>0.204272</td>\n",
       "      <td>0.963653</td>\n",
       "      <td>0.610972</td>\n",
       "      <td>0.696448</td>\n",
       "      <td>0.648591</td>\n",
       "      <td>0.991459</td>\n",
       "      <td>0.977543</td>\n",
       "      <td>0.984452</td>\n",
       "      <td>0.604211</td>\n",
       "      <td>0.797222</td>\n",
       "      <td>0.687425</td>\n",
       "      <td>0.358025</td>\n",
       "      <td>0.429630</td>\n",
       "      <td>0.390572</td>\n",
       "      <td>0.490196</td>\n",
       "      <td>0.581395</td>\n",
       "      <td>0.531915</td>\n",
       "    </tr>\n",
       "    <tr>\n",
       "      <td>7</td>\n",
       "      <td>0.048100</td>\n",
       "      <td>0.244732</td>\n",
       "      <td>0.964811</td>\n",
       "      <td>0.619786</td>\n",
       "      <td>0.688216</td>\n",
       "      <td>0.649494</td>\n",
       "      <td>0.990352</td>\n",
       "      <td>0.979695</td>\n",
       "      <td>0.984995</td>\n",
       "      <td>0.601279</td>\n",
       "      <td>0.783333</td>\n",
       "      <td>0.680338</td>\n",
       "      <td>0.396947</td>\n",
       "      <td>0.385185</td>\n",
       "      <td>0.390977</td>\n",
       "      <td>0.490566</td>\n",
       "      <td>0.604651</td>\n",
       "      <td>0.541667</td>\n",
       "    </tr>\n",
       "  </tbody>\n",
       "</table><p>"
      ],
      "text/plain": [
       "<IPython.core.display.HTML object>"
      ]
     },
     "metadata": {},
     "output_type": "display_data"
    },
    {
     "name": "stderr",
     "output_type": "stream",
     "text": [
      "***** Running Evaluation *****\n",
      "  Num examples = 11225\n",
      "  Batch size = 8\n",
      "Saving model checkpoint to content/drive/MyDrive/output_DistilBert/fold4/checkpoint-23875\n",
      "Configuration saved in content/drive/MyDrive/output_DistilBert/fold4/checkpoint-23875/config.json\n",
      "Model weights saved in content/drive/MyDrive/output_DistilBert/fold4/checkpoint-23875/pytorch_model.bin\n",
      "***** Running Evaluation *****\n",
      "  Num examples = 11225\n",
      "  Batch size = 8\n",
      "Saving model checkpoint to content/drive/MyDrive/output_DistilBert/fold4/checkpoint-28650\n",
      "Configuration saved in content/drive/MyDrive/output_DistilBert/fold4/checkpoint-28650/config.json\n",
      "Model weights saved in content/drive/MyDrive/output_DistilBert/fold4/checkpoint-28650/pytorch_model.bin\n",
      "***** Running Evaluation *****\n",
      "  Num examples = 11225\n",
      "  Batch size = 8\n",
      "Saving model checkpoint to content/drive/MyDrive/output_DistilBert/fold4/checkpoint-33425\n",
      "Configuration saved in content/drive/MyDrive/output_DistilBert/fold4/checkpoint-33425/config.json\n",
      "Model weights saved in content/drive/MyDrive/output_DistilBert/fold4/checkpoint-33425/pytorch_model.bin\n",
      "\n",
      "\n",
      "Training completed. Do not forget to share your model on huggingface.co/models =)\n",
      "\n",
      "\n",
      "Loading best model from content/drive/MyDrive/output_DistilBert/fold4/checkpoint-4775 (score: 0.13413041830062866).\n",
      "4it [3:31:09, 3168.09s/it]"
     ]
    },
    {
     "name": "stdout",
     "output_type": "stream",
     "text": [
      "Complete for fold 4\n",
      "Running for Fold:  5\n",
      "38200\n",
      "Counter({0: 106872, 1: 3596, 2: 1354, 3: 425})\n",
      "Counter({0: 96185, 1: 3236, 2: 1219, 3: 382})\n",
      "Counter({0: 33363, 1: 3236, 2: 1219, 3: 382})\n",
      "Counter({0: 33363, 1: 3236, 2: 1219, 3: 382})\n"
     ]
    },
    {
     "name": "stderr",
     "output_type": "stream",
     "text": [
      "PyTorch: setting up devices\n",
      "The default value for the training argument `--report_to` will change in v5 (from all installed integrations to none). In v5, you will need to use `--report_to all` to get the same behavior as now. You should start updating your code and make this info disappear :-).\n",
      "Loading model from content/drive/MyDrive/output_DistilBert/fold5/checkpoint-14325).\n",
      "/opt/conda/lib/python3.9/site-packages/transformers/optimization.py:306: FutureWarning: This implementation of AdamW is deprecated and will be removed in a future version. Use the PyTorch implementation torch.optim.AdamW instead, or set `no_deprecation_warning=True` to disable this warning\n",
      "  warnings.warn(\n",
      "***** Running training *****\n",
      "  Num examples = 38200\n",
      "  Num Epochs = 8\n",
      "  Instantaneous batch size per device = 8\n",
      "  Total train batch size (w. parallel, distributed & accumulation) = 8\n",
      "  Gradient Accumulation steps = 1\n",
      "  Total optimization steps = 38200\n",
      "  Continuing training from checkpoint, will skip to saved global_step\n",
      "  Continuing training from epoch 3\n",
      "  Continuing training from global step 14325\n",
      "  Will skip the first 3 epochs then the first 0 batches in the first epoch. If this takes a lot of time, you can add the `--ignore_data_skip` flag to your launch command, but you will resume the training on data already seen by your model.\n"
     ]
    },
    {
     "data": {
      "application/vnd.jupyter.widget-view+json": {
       "model_id": "1f293796a90b4c028c88ebb8acf2ec32",
       "version_major": 2,
       "version_minor": 0
      },
      "text/plain": [
       "0it [00:00, ?it/s]"
      ]
     },
     "metadata": {},
     "output_type": "display_data"
    },
    {
     "data": {
      "text/html": [
       "\n",
       "    <div>\n",
       "      \n",
       "      <progress value='28650' max='38200' style='width:300px; height:20px; vertical-align: middle;'></progress>\n",
       "      [28650/38200 52:42 < 35:08, 4.53 it/s, Epoch 6/8]\n",
       "    </div>\n",
       "    <table border=\"1\" class=\"dataframe\">\n",
       "  <thead>\n",
       " <tr style=\"text-align: left;\">\n",
       "      <th>Epoch</th>\n",
       "      <th>Training Loss</th>\n",
       "      <th>Validation Loss</th>\n",
       "      <th>Accuracy</th>\n",
       "      <th>Precision</th>\n",
       "      <th>Recall</th>\n",
       "      <th>F1</th>\n",
       "      <th>Precision Nonbully</th>\n",
       "      <th>Recall Nonbully</th>\n",
       "      <th>F1 Nonbully</th>\n",
       "      <th>Precision Harasser</th>\n",
       "      <th>Recall Harasser</th>\n",
       "      <th>F1 Harasser</th>\n",
       "      <th>Precision Victim</th>\n",
       "      <th>Recall Victim</th>\n",
       "      <th>F1 Victim</th>\n",
       "      <th>Precision Bydefender</th>\n",
       "      <th>Recall Bydefender</th>\n",
       "      <th>F1 Bydefender</th>\n",
       "    </tr>\n",
       "  </thead>\n",
       "  <tbody>\n",
       "    <tr>\n",
       "      <td>4</td>\n",
       "      <td>0.093700</td>\n",
       "      <td>0.164673</td>\n",
       "      <td>0.970780</td>\n",
       "      <td>0.695784</td>\n",
       "      <td>0.736719</td>\n",
       "      <td>0.714645</td>\n",
       "      <td>0.991704</td>\n",
       "      <td>0.984280</td>\n",
       "      <td>0.987978</td>\n",
       "      <td>0.664352</td>\n",
       "      <td>0.797222</td>\n",
       "      <td>0.724747</td>\n",
       "      <td>0.422535</td>\n",
       "      <td>0.444444</td>\n",
       "      <td>0.433213</td>\n",
       "      <td>0.704545</td>\n",
       "      <td>0.720930</td>\n",
       "      <td>0.712644</td>\n",
       "    </tr>\n",
       "    <tr>\n",
       "      <td>5</td>\n",
       "      <td>0.077500</td>\n",
       "      <td>0.191267</td>\n",
       "      <td>0.962762</td>\n",
       "      <td>0.605363</td>\n",
       "      <td>0.755703</td>\n",
       "      <td>0.665666</td>\n",
       "      <td>0.994085</td>\n",
       "      <td>0.974923</td>\n",
       "      <td>0.984410</td>\n",
       "      <td>0.572565</td>\n",
       "      <td>0.800000</td>\n",
       "      <td>0.667439</td>\n",
       "      <td>0.397661</td>\n",
       "      <td>0.503704</td>\n",
       "      <td>0.444444</td>\n",
       "      <td>0.457143</td>\n",
       "      <td>0.744186</td>\n",
       "      <td>0.566372</td>\n",
       "    </tr>\n",
       "    <tr>\n",
       "      <td>6</td>\n",
       "      <td>0.039500</td>\n",
       "      <td>0.198751</td>\n",
       "      <td>0.969889</td>\n",
       "      <td>0.672134</td>\n",
       "      <td>0.721435</td>\n",
       "      <td>0.692992</td>\n",
       "      <td>0.991509</td>\n",
       "      <td>0.983438</td>\n",
       "      <td>0.987457</td>\n",
       "      <td>0.644105</td>\n",
       "      <td>0.819444</td>\n",
       "      <td>0.721271</td>\n",
       "      <td>0.440678</td>\n",
       "      <td>0.385185</td>\n",
       "      <td>0.411067</td>\n",
       "      <td>0.612245</td>\n",
       "      <td>0.697674</td>\n",
       "      <td>0.652174</td>\n",
       "    </tr>\n",
       "  </tbody>\n",
       "</table><p>"
      ],
      "text/plain": [
       "<IPython.core.display.HTML object>"
      ]
     },
     "metadata": {},
     "output_type": "display_data"
    },
    {
     "name": "stderr",
     "output_type": "stream",
     "text": [
      "***** Running Evaluation *****\n",
      "  Num examples = 11225\n",
      "  Batch size = 8\n",
      "Saving model checkpoint to content/drive/MyDrive/output_DistilBert/fold5/checkpoint-19100\n",
      "Configuration saved in content/drive/MyDrive/output_DistilBert/fold5/checkpoint-19100/config.json\n",
      "Model weights saved in content/drive/MyDrive/output_DistilBert/fold5/checkpoint-19100/pytorch_model.bin\n",
      "***** Running Evaluation *****\n",
      "  Num examples = 11225\n",
      "  Batch size = 8\n",
      "Saving model checkpoint to content/drive/MyDrive/output_DistilBert/fold5/checkpoint-23875\n",
      "Configuration saved in content/drive/MyDrive/output_DistilBert/fold5/checkpoint-23875/config.json\n",
      "Model weights saved in content/drive/MyDrive/output_DistilBert/fold5/checkpoint-23875/pytorch_model.bin\n",
      "***** Running Evaluation *****\n",
      "  Num examples = 11225\n",
      "  Batch size = 8\n",
      "Saving model checkpoint to content/drive/MyDrive/output_DistilBert/fold5/checkpoint-28650\n",
      "Configuration saved in content/drive/MyDrive/output_DistilBert/fold5/checkpoint-28650/config.json\n",
      "Model weights saved in content/drive/MyDrive/output_DistilBert/fold5/checkpoint-28650/pytorch_model.bin\n",
      "\n",
      "\n",
      "Training completed. Do not forget to share your model on huggingface.co/models =)\n",
      "\n",
      "\n",
      "Loading best model from content/drive/MyDrive/output_DistilBert/fold5/checkpoint-4775 (score: 0.09801505506038666).\n",
      "5it [4:24:09, 3169.87s/it]"
     ]
    },
    {
     "name": "stdout",
     "output_type": "stream",
     "text": [
      "Complete for fold 5\n"
     ]
    },
    {
     "name": "stderr",
     "output_type": "stream",
     "text": [
      "\n"
     ]
    }
   ],
   "source": [
    "run_cross_validation(model_name='DistilBert',\n",
    "                         X=X,\n",
    "                         y=y, \n",
    "                         splits=5,\n",
    "                         epoch=8,\n",
    "                         checkpoint=True)"
   ]
  },
  {
   "cell_type": "markdown",
   "id": "726b10b8-2eab-4fe3-962a-a75a2908098b",
   "metadata": {
    "jp-MarkdownHeadingCollapsed": true,
    "tags": []
   },
   "source": [
    "### [Continue] Cross Validation (K = 5)"
   ]
  },
  {
   "cell_type": "code",
   "execution_count": 9,
   "id": "42122eef-3022-45e1-8fb6-74fa71eba278",
   "metadata": {},
   "outputs": [
    {
     "name": "stdout",
     "output_type": "stream",
     "text": [
      "Developing Model with Cross validation for: DistilBert\n"
     ]
    },
    {
     "name": "stderr",
     "output_type": "stream",
     "text": [
      "0it [00:00, ?it/s]"
     ]
    },
    {
     "name": "stdout",
     "output_type": "stream",
     "text": [
      "Running for Fold:  1\n",
      "38200\n",
      "Counter({0: 106872, 1: 3596, 2: 1354, 3: 425})\n",
      "Counter({0: 96185, 1: 3236, 2: 1219, 3: 382})\n",
      "Counter({0: 33363, 1: 3236, 2: 1219, 3: 382})\n",
      "Counter({0: 33363, 1: 3236, 2: 1219, 3: 382})\n"
     ]
    },
    {
     "name": "stderr",
     "output_type": "stream",
     "text": [
      "Loading model from content/drive/MyDrive/output_DistilBert/fold1/checkpoint-33425).\n",
      "/opt/conda/lib/python3.9/site-packages/transformers/optimization.py:306: FutureWarning: This implementation of AdamW is deprecated and will be removed in a future version. Use the PyTorch implementation torch.optim.AdamW instead, or set `no_deprecation_warning=True` to disable this warning\n",
      "  warnings.warn(\n",
      "***** Running training *****\n",
      "  Num examples = 38200\n",
      "  Num Epochs = 8\n",
      "  Instantaneous batch size per device = 8\n",
      "  Total train batch size (w. parallel, distributed & accumulation) = 8\n",
      "  Gradient Accumulation steps = 1\n",
      "  Total optimization steps = 38200\n",
      "  Continuing training from checkpoint, will skip to saved global_step\n",
      "  Continuing training from epoch 7\n",
      "  Continuing training from global step 33425\n",
      "  Will skip the first 7 epochs then the first 0 batches in the first epoch. If this takes a lot of time, you can add the `--ignore_data_skip` flag to your launch command, but you will resume the training on data already seen by your model.\n"
     ]
    },
    {
     "data": {
      "application/vnd.jupyter.widget-view+json": {
       "model_id": "c74fe2e30c1247118d6af79d537be846",
       "version_major": 2,
       "version_minor": 0
      },
      "text/plain": [
       "0it [00:00, ?it/s]"
      ]
     },
     "metadata": {},
     "output_type": "display_data"
    },
    {
     "data": {
      "text/html": [
       "\n",
       "    <div>\n",
       "      \n",
       "      <progress value='38200' max='38200' style='width:300px; height:20px; vertical-align: middle;'></progress>\n",
       "      [38200/38200 17:23, Epoch 8/8]\n",
       "    </div>\n",
       "    <table border=\"1\" class=\"dataframe\">\n",
       "  <thead>\n",
       " <tr style=\"text-align: left;\">\n",
       "      <th>Epoch</th>\n",
       "      <th>Training Loss</th>\n",
       "      <th>Validation Loss</th>\n",
       "      <th>Accuracy</th>\n",
       "      <th>Precision</th>\n",
       "      <th>Recall</th>\n",
       "      <th>F1</th>\n",
       "      <th>Precision Nonbully</th>\n",
       "      <th>Recall Nonbully</th>\n",
       "      <th>F1 Nonbully</th>\n",
       "      <th>Precision Harasser</th>\n",
       "      <th>Recall Harasser</th>\n",
       "      <th>F1 Harasser</th>\n",
       "      <th>Precision Victim</th>\n",
       "      <th>Recall Victim</th>\n",
       "      <th>F1 Victim</th>\n",
       "      <th>Precision Bydefender</th>\n",
       "      <th>Recall Bydefender</th>\n",
       "      <th>F1 Bydefender</th>\n",
       "    </tr>\n",
       "  </thead>\n",
       "  <tbody>\n",
       "    <tr>\n",
       "      <td>8</td>\n",
       "      <td>0.039900</td>\n",
       "      <td>0.366202</td>\n",
       "      <td>0.949310</td>\n",
       "      <td>0.526149</td>\n",
       "      <td>0.601041</td>\n",
       "      <td>0.557672</td>\n",
       "      <td>0.984325</td>\n",
       "      <td>0.969496</td>\n",
       "      <td>0.976854</td>\n",
       "      <td>0.466135</td>\n",
       "      <td>0.650000</td>\n",
       "      <td>0.542923</td>\n",
       "      <td>0.285714</td>\n",
       "      <td>0.296296</td>\n",
       "      <td>0.290909</td>\n",
       "      <td>0.368421</td>\n",
       "      <td>0.488372</td>\n",
       "      <td>0.420000</td>\n",
       "    </tr>\n",
       "  </tbody>\n",
       "</table><p>"
      ],
      "text/plain": [
       "<IPython.core.display.HTML object>"
      ]
     },
     "metadata": {},
     "output_type": "display_data"
    },
    {
     "name": "stderr",
     "output_type": "stream",
     "text": [
      "***** Running Evaluation *****\n",
      "  Num examples = 11225\n",
      "  Batch size = 8\n",
      "Saving model checkpoint to content/drive/MyDrive/output_DistilBert/fold1/checkpoint-38200\n",
      "Configuration saved in content/drive/MyDrive/output_DistilBert/fold1/checkpoint-38200/config.json\n",
      "Model weights saved in content/drive/MyDrive/output_DistilBert/fold1/checkpoint-38200/pytorch_model.bin\n",
      "\n",
      "\n",
      "Training completed. Do not forget to share your model on huggingface.co/models =)\n",
      "\n",
      "\n",
      "Loading best model from content/drive/MyDrive/output_DistilBert/fold1/checkpoint-4775 (score: 0.16236844658851624).\n",
      "1it [17:39, 1059.42s/it]"
     ]
    },
    {
     "name": "stdout",
     "output_type": "stream",
     "text": [
      "Complete for fold 1\n",
      "Running for Fold:  2\n",
      "38200\n",
      "Counter({0: 106872, 1: 3596, 2: 1354, 3: 425})\n",
      "Counter({0: 96185, 1: 3236, 2: 1219, 3: 382})\n",
      "Counter({0: 33363, 1: 3236, 2: 1219, 3: 382})\n",
      "Counter({0: 33363, 1: 3236, 2: 1219, 3: 382})\n"
     ]
    },
    {
     "name": "stderr",
     "output_type": "stream",
     "text": [
      "PyTorch: setting up devices\n",
      "The default value for the training argument `--report_to` will change in v5 (from all installed integrations to none). In v5, you will need to use `--report_to all` to get the same behavior as now. You should start updating your code and make this info disappear :-).\n",
      "Loading model from content/drive/MyDrive/output_DistilBert/fold2/checkpoint-33425).\n",
      "/opt/conda/lib/python3.9/site-packages/transformers/optimization.py:306: FutureWarning: This implementation of AdamW is deprecated and will be removed in a future version. Use the PyTorch implementation torch.optim.AdamW instead, or set `no_deprecation_warning=True` to disable this warning\n",
      "  warnings.warn(\n",
      "***** Running training *****\n",
      "  Num examples = 38200\n",
      "  Num Epochs = 8\n",
      "  Instantaneous batch size per device = 8\n",
      "  Total train batch size (w. parallel, distributed & accumulation) = 8\n",
      "  Gradient Accumulation steps = 1\n",
      "  Total optimization steps = 38200\n",
      "  Continuing training from checkpoint, will skip to saved global_step\n",
      "  Continuing training from epoch 7\n",
      "  Continuing training from global step 33425\n",
      "  Will skip the first 7 epochs then the first 0 batches in the first epoch. If this takes a lot of time, you can add the `--ignore_data_skip` flag to your launch command, but you will resume the training on data already seen by your model.\n"
     ]
    },
    {
     "data": {
      "application/vnd.jupyter.widget-view+json": {
       "model_id": "3ccad53fb38b49aea8f309ade47cb819",
       "version_major": 2,
       "version_minor": 0
      },
      "text/plain": [
       "0it [00:00, ?it/s]"
      ]
     },
     "metadata": {},
     "output_type": "display_data"
    },
    {
     "data": {
      "text/html": [
       "\n",
       "    <div>\n",
       "      \n",
       "      <progress value='38200' max='38200' style='width:300px; height:20px; vertical-align: middle;'></progress>\n",
       "      [38200/38200 17:25, Epoch 8/8]\n",
       "    </div>\n",
       "    <table border=\"1\" class=\"dataframe\">\n",
       "  <thead>\n",
       " <tr style=\"text-align: left;\">\n",
       "      <th>Epoch</th>\n",
       "      <th>Training Loss</th>\n",
       "      <th>Validation Loss</th>\n",
       "      <th>Accuracy</th>\n",
       "      <th>Precision</th>\n",
       "      <th>Recall</th>\n",
       "      <th>F1</th>\n",
       "      <th>Precision Nonbully</th>\n",
       "      <th>Recall Nonbully</th>\n",
       "      <th>F1 Nonbully</th>\n",
       "      <th>Precision Harasser</th>\n",
       "      <th>Recall Harasser</th>\n",
       "      <th>F1 Harasser</th>\n",
       "      <th>Precision Victim</th>\n",
       "      <th>Recall Victim</th>\n",
       "      <th>F1 Victim</th>\n",
       "      <th>Precision Bydefender</th>\n",
       "      <th>Recall Bydefender</th>\n",
       "      <th>F1 Bydefender</th>\n",
       "    </tr>\n",
       "  </thead>\n",
       "  <tbody>\n",
       "    <tr>\n",
       "      <td>8</td>\n",
       "      <td>0.026000</td>\n",
       "      <td>0.335926</td>\n",
       "      <td>0.955100</td>\n",
       "      <td>0.582802</td>\n",
       "      <td>0.618904</td>\n",
       "      <td>0.597298</td>\n",
       "      <td>0.986264</td>\n",
       "      <td>0.974174</td>\n",
       "      <td>0.980182</td>\n",
       "      <td>0.508230</td>\n",
       "      <td>0.686111</td>\n",
       "      <td>0.583924</td>\n",
       "      <td>0.286713</td>\n",
       "      <td>0.303704</td>\n",
       "      <td>0.294964</td>\n",
       "      <td>0.550000</td>\n",
       "      <td>0.511628</td>\n",
       "      <td>0.530120</td>\n",
       "    </tr>\n",
       "  </tbody>\n",
       "</table><p>"
      ],
      "text/plain": [
       "<IPython.core.display.HTML object>"
      ]
     },
     "metadata": {},
     "output_type": "display_data"
    },
    {
     "name": "stderr",
     "output_type": "stream",
     "text": [
      "***** Running Evaluation *****\n",
      "  Num examples = 11225\n",
      "  Batch size = 8\n",
      "Saving model checkpoint to content/drive/MyDrive/output_DistilBert/fold2/checkpoint-38200\n",
      "Configuration saved in content/drive/MyDrive/output_DistilBert/fold2/checkpoint-38200/config.json\n",
      "Model weights saved in content/drive/MyDrive/output_DistilBert/fold2/checkpoint-38200/pytorch_model.bin\n",
      "\n",
      "\n",
      "Training completed. Do not forget to share your model on huggingface.co/models =)\n",
      "\n",
      "\n",
      "Loading best model from content/drive/MyDrive/output_DistilBert/fold2/checkpoint-4775 (score: 0.1395651400089264).\n",
      "2it [35:17, 1058.40s/it]"
     ]
    },
    {
     "name": "stdout",
     "output_type": "stream",
     "text": [
      "Complete for fold 2\n",
      "Running for Fold:  3\n",
      "38200\n",
      "Counter({0: 106872, 1: 3596, 2: 1354, 3: 425})\n",
      "Counter({0: 96185, 1: 3236, 2: 1219, 3: 382})\n",
      "Counter({0: 33363, 1: 3236, 2: 1219, 3: 382})\n",
      "Counter({0: 33363, 1: 3236, 2: 1219, 3: 382})\n"
     ]
    },
    {
     "name": "stderr",
     "output_type": "stream",
     "text": [
      "PyTorch: setting up devices\n",
      "The default value for the training argument `--report_to` will change in v5 (from all installed integrations to none). In v5, you will need to use `--report_to all` to get the same behavior as now. You should start updating your code and make this info disappear :-).\n",
      "Loading model from content/drive/MyDrive/output_DistilBert/fold3/checkpoint-33425).\n",
      "/opt/conda/lib/python3.9/site-packages/transformers/optimization.py:306: FutureWarning: This implementation of AdamW is deprecated and will be removed in a future version. Use the PyTorch implementation torch.optim.AdamW instead, or set `no_deprecation_warning=True` to disable this warning\n",
      "  warnings.warn(\n",
      "***** Running training *****\n",
      "  Num examples = 38200\n",
      "  Num Epochs = 8\n",
      "  Instantaneous batch size per device = 8\n",
      "  Total train batch size (w. parallel, distributed & accumulation) = 8\n",
      "  Gradient Accumulation steps = 1\n",
      "  Total optimization steps = 38200\n",
      "  Continuing training from checkpoint, will skip to saved global_step\n",
      "  Continuing training from epoch 7\n",
      "  Continuing training from global step 33425\n",
      "  Will skip the first 7 epochs then the first 0 batches in the first epoch. If this takes a lot of time, you can add the `--ignore_data_skip` flag to your launch command, but you will resume the training on data already seen by your model.\n"
     ]
    },
    {
     "data": {
      "application/vnd.jupyter.widget-view+json": {
       "model_id": "b7df49eced154aa8b5fe0747028ac681",
       "version_major": 2,
       "version_minor": 0
      },
      "text/plain": [
       "0it [00:00, ?it/s]"
      ]
     },
     "metadata": {},
     "output_type": "display_data"
    },
    {
     "data": {
      "text/html": [
       "\n",
       "    <div>\n",
       "      \n",
       "      <progress value='38200' max='38200' style='width:300px; height:20px; vertical-align: middle;'></progress>\n",
       "      [38200/38200 17:25, Epoch 8/8]\n",
       "    </div>\n",
       "    <table border=\"1\" class=\"dataframe\">\n",
       "  <thead>\n",
       " <tr style=\"text-align: left;\">\n",
       "      <th>Epoch</th>\n",
       "      <th>Training Loss</th>\n",
       "      <th>Validation Loss</th>\n",
       "      <th>Accuracy</th>\n",
       "      <th>Precision</th>\n",
       "      <th>Recall</th>\n",
       "      <th>F1</th>\n",
       "      <th>Precision Nonbully</th>\n",
       "      <th>Recall Nonbully</th>\n",
       "      <th>F1 Nonbully</th>\n",
       "      <th>Precision Harasser</th>\n",
       "      <th>Recall Harasser</th>\n",
       "      <th>F1 Harasser</th>\n",
       "      <th>Precision Victim</th>\n",
       "      <th>Recall Victim</th>\n",
       "      <th>F1 Victim</th>\n",
       "      <th>Precision Bydefender</th>\n",
       "      <th>Recall Bydefender</th>\n",
       "      <th>F1 Bydefender</th>\n",
       "    </tr>\n",
       "  </thead>\n",
       "  <tbody>\n",
       "    <tr>\n",
       "      <td>8</td>\n",
       "      <td>0.022700</td>\n",
       "      <td>0.312532</td>\n",
       "      <td>0.957951</td>\n",
       "      <td>0.564358</td>\n",
       "      <td>0.630872</td>\n",
       "      <td>0.593265</td>\n",
       "      <td>0.987144</td>\n",
       "      <td>0.977169</td>\n",
       "      <td>0.982131</td>\n",
       "      <td>0.545652</td>\n",
       "      <td>0.697222</td>\n",
       "      <td>0.612195</td>\n",
       "      <td>0.251908</td>\n",
       "      <td>0.244444</td>\n",
       "      <td>0.248120</td>\n",
       "      <td>0.472727</td>\n",
       "      <td>0.604651</td>\n",
       "      <td>0.530612</td>\n",
       "    </tr>\n",
       "  </tbody>\n",
       "</table><p>"
      ],
      "text/plain": [
       "<IPython.core.display.HTML object>"
      ]
     },
     "metadata": {},
     "output_type": "display_data"
    },
    {
     "name": "stderr",
     "output_type": "stream",
     "text": [
      "***** Running Evaluation *****\n",
      "  Num examples = 11225\n",
      "  Batch size = 8\n",
      "Saving model checkpoint to content/drive/MyDrive/output_DistilBert/fold3/checkpoint-38200\n",
      "Configuration saved in content/drive/MyDrive/output_DistilBert/fold3/checkpoint-38200/config.json\n",
      "Model weights saved in content/drive/MyDrive/output_DistilBert/fold3/checkpoint-38200/pytorch_model.bin\n",
      "\n",
      "\n",
      "Training completed. Do not forget to share your model on huggingface.co/models =)\n",
      "\n",
      "\n",
      "Loading best model from content/drive/MyDrive/output_DistilBert/fold3/checkpoint-4775 (score: 0.1467844843864441).\n",
      "3it [53:02, 1061.50s/it]"
     ]
    },
    {
     "name": "stdout",
     "output_type": "stream",
     "text": [
      "Complete for fold 3\n",
      "Running for Fold:  4\n",
      "38200\n",
      "Counter({0: 106872, 1: 3596, 2: 1354, 3: 425})\n",
      "Counter({0: 96185, 1: 3236, 2: 1219, 3: 382})\n",
      "Counter({0: 33363, 1: 3236, 2: 1219, 3: 382})\n",
      "Counter({0: 33363, 1: 3236, 2: 1219, 3: 382})\n"
     ]
    },
    {
     "name": "stderr",
     "output_type": "stream",
     "text": [
      "PyTorch: setting up devices\n",
      "The default value for the training argument `--report_to` will change in v5 (from all installed integrations to none). In v5, you will need to use `--report_to all` to get the same behavior as now. You should start updating your code and make this info disappear :-).\n",
      "Loading model from content/drive/MyDrive/output_DistilBert/fold4/checkpoint-33425).\n",
      "/opt/conda/lib/python3.9/site-packages/transformers/optimization.py:306: FutureWarning: This implementation of AdamW is deprecated and will be removed in a future version. Use the PyTorch implementation torch.optim.AdamW instead, or set `no_deprecation_warning=True` to disable this warning\n",
      "  warnings.warn(\n",
      "***** Running training *****\n",
      "  Num examples = 38200\n",
      "  Num Epochs = 8\n",
      "  Instantaneous batch size per device = 8\n",
      "  Total train batch size (w. parallel, distributed & accumulation) = 8\n",
      "  Gradient Accumulation steps = 1\n",
      "  Total optimization steps = 38200\n",
      "  Continuing training from checkpoint, will skip to saved global_step\n",
      "  Continuing training from epoch 7\n",
      "  Continuing training from global step 33425\n",
      "  Will skip the first 7 epochs then the first 0 batches in the first epoch. If this takes a lot of time, you can add the `--ignore_data_skip` flag to your launch command, but you will resume the training on data already seen by your model.\n"
     ]
    },
    {
     "data": {
      "application/vnd.jupyter.widget-view+json": {
       "model_id": "ad485a85c3d8425bbea8cde3d3b900ea",
       "version_major": 2,
       "version_minor": 0
      },
      "text/plain": [
       "0it [00:00, ?it/s]"
      ]
     },
     "metadata": {},
     "output_type": "display_data"
    },
    {
     "data": {
      "text/html": [
       "\n",
       "    <div>\n",
       "      \n",
       "      <progress value='38200' max='38200' style='width:300px; height:20px; vertical-align: middle;'></progress>\n",
       "      [38200/38200 17:24, Epoch 8/8]\n",
       "    </div>\n",
       "    <table border=\"1\" class=\"dataframe\">\n",
       "  <thead>\n",
       " <tr style=\"text-align: left;\">\n",
       "      <th>Epoch</th>\n",
       "      <th>Training Loss</th>\n",
       "      <th>Validation Loss</th>\n",
       "      <th>Accuracy</th>\n",
       "      <th>Precision</th>\n",
       "      <th>Recall</th>\n",
       "      <th>F1</th>\n",
       "      <th>Precision Nonbully</th>\n",
       "      <th>Recall Nonbully</th>\n",
       "      <th>F1 Nonbully</th>\n",
       "      <th>Precision Harasser</th>\n",
       "      <th>Recall Harasser</th>\n",
       "      <th>F1 Harasser</th>\n",
       "      <th>Precision Victim</th>\n",
       "      <th>Recall Victim</th>\n",
       "      <th>F1 Victim</th>\n",
       "      <th>Precision Bydefender</th>\n",
       "      <th>Recall Bydefender</th>\n",
       "      <th>F1 Bydefender</th>\n",
       "    </tr>\n",
       "  </thead>\n",
       "  <tbody>\n",
       "    <tr>\n",
       "      <td>8</td>\n",
       "      <td>0.029100</td>\n",
       "      <td>0.278551</td>\n",
       "      <td>0.961960</td>\n",
       "      <td>0.606475</td>\n",
       "      <td>0.700089</td>\n",
       "      <td>0.645932</td>\n",
       "      <td>0.991540</td>\n",
       "      <td>0.976046</td>\n",
       "      <td>0.983732</td>\n",
       "      <td>0.565558</td>\n",
       "      <td>0.802778</td>\n",
       "      <td>0.663605</td>\n",
       "      <td>0.359712</td>\n",
       "      <td>0.370370</td>\n",
       "      <td>0.364964</td>\n",
       "      <td>0.509091</td>\n",
       "      <td>0.651163</td>\n",
       "      <td>0.571429</td>\n",
       "    </tr>\n",
       "  </tbody>\n",
       "</table><p>"
      ],
      "text/plain": [
       "<IPython.core.display.HTML object>"
      ]
     },
     "metadata": {},
     "output_type": "display_data"
    },
    {
     "name": "stderr",
     "output_type": "stream",
     "text": [
      "***** Running Evaluation *****\n",
      "  Num examples = 11225\n",
      "  Batch size = 8\n",
      "Saving model checkpoint to content/drive/MyDrive/output_DistilBert/fold4/checkpoint-38200\n",
      "Configuration saved in content/drive/MyDrive/output_DistilBert/fold4/checkpoint-38200/config.json\n",
      "Model weights saved in content/drive/MyDrive/output_DistilBert/fold4/checkpoint-38200/pytorch_model.bin\n",
      "\n",
      "\n",
      "Training completed. Do not forget to share your model on huggingface.co/models =)\n",
      "\n",
      "\n",
      "Loading best model from content/drive/MyDrive/output_DistilBert/fold4/checkpoint-4775 (score: 0.13413041830062866).\n",
      "4it [1:10:38, 1059.34s/it]"
     ]
    },
    {
     "name": "stdout",
     "output_type": "stream",
     "text": [
      "Complete for fold 4\n",
      "Running for Fold:  5\n",
      "38200\n",
      "Counter({0: 106872, 1: 3596, 2: 1354, 3: 425})\n",
      "Counter({0: 96185, 1: 3236, 2: 1219, 3: 382})\n",
      "Counter({0: 33363, 1: 3236, 2: 1219, 3: 382})\n",
      "Counter({0: 33363, 1: 3236, 2: 1219, 3: 382})\n"
     ]
    },
    {
     "name": "stderr",
     "output_type": "stream",
     "text": [
      "PyTorch: setting up devices\n",
      "The default value for the training argument `--report_to` will change in v5 (from all installed integrations to none). In v5, you will need to use `--report_to all` to get the same behavior as now. You should start updating your code and make this info disappear :-).\n",
      "Loading model from content/drive/MyDrive/output_DistilBert/fold5/checkpoint-28650).\n",
      "/opt/conda/lib/python3.9/site-packages/transformers/optimization.py:306: FutureWarning: This implementation of AdamW is deprecated and will be removed in a future version. Use the PyTorch implementation torch.optim.AdamW instead, or set `no_deprecation_warning=True` to disable this warning\n",
      "  warnings.warn(\n",
      "***** Running training *****\n",
      "  Num examples = 38200\n",
      "  Num Epochs = 8\n",
      "  Instantaneous batch size per device = 8\n",
      "  Total train batch size (w. parallel, distributed & accumulation) = 8\n",
      "  Gradient Accumulation steps = 1\n",
      "  Total optimization steps = 38200\n",
      "  Continuing training from checkpoint, will skip to saved global_step\n",
      "  Continuing training from epoch 6\n",
      "  Continuing training from global step 28650\n",
      "  Will skip the first 6 epochs then the first 0 batches in the first epoch. If this takes a lot of time, you can add the `--ignore_data_skip` flag to your launch command, but you will resume the training on data already seen by your model.\n"
     ]
    },
    {
     "data": {
      "application/vnd.jupyter.widget-view+json": {
       "model_id": "b1d4507185384c2597ec5b9815bab103",
       "version_major": 2,
       "version_minor": 0
      },
      "text/plain": [
       "0it [00:00, ?it/s]"
      ]
     },
     "metadata": {},
     "output_type": "display_data"
    },
    {
     "data": {
      "text/html": [
       "\n",
       "    <div>\n",
       "      \n",
       "      <progress value='38200' max='38200' style='width:300px; height:20px; vertical-align: middle;'></progress>\n",
       "      [38200/38200 34:48, Epoch 8/8]\n",
       "    </div>\n",
       "    <table border=\"1\" class=\"dataframe\">\n",
       "  <thead>\n",
       " <tr style=\"text-align: left;\">\n",
       "      <th>Epoch</th>\n",
       "      <th>Training Loss</th>\n",
       "      <th>Validation Loss</th>\n",
       "      <th>Accuracy</th>\n",
       "      <th>Precision</th>\n",
       "      <th>Recall</th>\n",
       "      <th>F1</th>\n",
       "      <th>Precision Nonbully</th>\n",
       "      <th>Recall Nonbully</th>\n",
       "      <th>F1 Nonbully</th>\n",
       "      <th>Precision Harasser</th>\n",
       "      <th>Recall Harasser</th>\n",
       "      <th>F1 Harasser</th>\n",
       "      <th>Precision Victim</th>\n",
       "      <th>Recall Victim</th>\n",
       "      <th>F1 Victim</th>\n",
       "      <th>Precision Bydefender</th>\n",
       "      <th>Recall Bydefender</th>\n",
       "      <th>F1 Bydefender</th>\n",
       "    </tr>\n",
       "  </thead>\n",
       "  <tbody>\n",
       "    <tr>\n",
       "      <td>7</td>\n",
       "      <td>0.026200</td>\n",
       "      <td>0.253626</td>\n",
       "      <td>0.964009</td>\n",
       "      <td>0.639274</td>\n",
       "      <td>0.740623</td>\n",
       "      <td>0.681330</td>\n",
       "      <td>0.994560</td>\n",
       "      <td>0.975110</td>\n",
       "      <td>0.984739</td>\n",
       "      <td>0.566728</td>\n",
       "      <td>0.861111</td>\n",
       "      <td>0.683572</td>\n",
       "      <td>0.403974</td>\n",
       "      <td>0.451852</td>\n",
       "      <td>0.426573</td>\n",
       "      <td>0.591837</td>\n",
       "      <td>0.674419</td>\n",
       "      <td>0.630435</td>\n",
       "    </tr>\n",
       "    <tr>\n",
       "      <td>8</td>\n",
       "      <td>0.026500</td>\n",
       "      <td>0.251446</td>\n",
       "      <td>0.968641</td>\n",
       "      <td>0.673957</td>\n",
       "      <td>0.719159</td>\n",
       "      <td>0.692499</td>\n",
       "      <td>0.992340</td>\n",
       "      <td>0.981847</td>\n",
       "      <td>0.987066</td>\n",
       "      <td>0.616977</td>\n",
       "      <td>0.827778</td>\n",
       "      <td>0.706999</td>\n",
       "      <td>0.427419</td>\n",
       "      <td>0.392593</td>\n",
       "      <td>0.409266</td>\n",
       "      <td>0.659091</td>\n",
       "      <td>0.674419</td>\n",
       "      <td>0.666667</td>\n",
       "    </tr>\n",
       "  </tbody>\n",
       "</table><p>"
      ],
      "text/plain": [
       "<IPython.core.display.HTML object>"
      ]
     },
     "metadata": {},
     "output_type": "display_data"
    },
    {
     "name": "stderr",
     "output_type": "stream",
     "text": [
      "***** Running Evaluation *****\n",
      "  Num examples = 11225\n",
      "  Batch size = 8\n",
      "Saving model checkpoint to content/drive/MyDrive/output_DistilBert/fold5/checkpoint-33425\n",
      "Configuration saved in content/drive/MyDrive/output_DistilBert/fold5/checkpoint-33425/config.json\n",
      "Model weights saved in content/drive/MyDrive/output_DistilBert/fold5/checkpoint-33425/pytorch_model.bin\n",
      "***** Running Evaluation *****\n",
      "  Num examples = 11225\n",
      "  Batch size = 8\n",
      "Saving model checkpoint to content/drive/MyDrive/output_DistilBert/fold5/checkpoint-38200\n",
      "Configuration saved in content/drive/MyDrive/output_DistilBert/fold5/checkpoint-38200/config.json\n",
      "Model weights saved in content/drive/MyDrive/output_DistilBert/fold5/checkpoint-38200/pytorch_model.bin\n",
      "\n",
      "\n",
      "Training completed. Do not forget to share your model on huggingface.co/models =)\n",
      "\n",
      "\n",
      "Loading best model from content/drive/MyDrive/output_DistilBert/fold5/checkpoint-4775 (score: 0.09801505506038666).\n",
      "5it [1:45:39, 1267.98s/it]"
     ]
    },
    {
     "name": "stdout",
     "output_type": "stream",
     "text": [
      "Complete for fold 5\n"
     ]
    },
    {
     "name": "stderr",
     "output_type": "stream",
     "text": [
      "\n"
     ]
    }
   ],
   "source": [
    "run_cross_validation(model_name='DistilBert',\n",
    "                         X=X,\n",
    "                         y=y, \n",
    "                         splits=5,\n",
    "                         epoch=8,\n",
    "                         checkpoint=True)"
   ]
  },
  {
   "cell_type": "markdown",
   "id": "540d5664-435e-4355-82e9-fff2edc3c9f4",
   "metadata": {
    "jp-MarkdownHeadingCollapsed": true,
    "tags": []
   },
   "source": [
    "### [Continue] Cross Validation (K = 5)"
   ]
  },
  {
   "cell_type": "code",
   "execution_count": 12,
   "id": "7b3d5896-219e-4098-8645-a5906d65d57f",
   "metadata": {},
   "outputs": [
    {
     "name": "stdout",
     "output_type": "stream",
     "text": [
      "Developing Model with Cross validation for: DistilBert\n"
     ]
    },
    {
     "name": "stderr",
     "output_type": "stream",
     "text": [
      "0it [00:00, ?it/s]"
     ]
    },
    {
     "name": "stdout",
     "output_type": "stream",
     "text": [
      "Running for Fold:  1\n",
      "38200\n",
      "Counter({0: 106872, 1: 3596, 2: 1354, 3: 425})\n",
      "Counter({0: 96185, 1: 3236, 2: 1219, 3: 382})\n",
      "Counter({0: 33363, 1: 3236, 2: 1219, 3: 382})\n",
      "Counter({0: 33363, 1: 3236, 2: 1219, 3: 382})\n"
     ]
    },
    {
     "name": "stderr",
     "output_type": "stream",
     "text": [
      "PyTorch: setting up devices\n",
      "The default value for the training argument `--report_to` will change in v5 (from all installed integrations to none). In v5, you will need to use `--report_to all` to get the same behavior as now. You should start updating your code and make this info disappear :-).\n",
      "Loading model from content/drive/MyDrive/output_DistilBert/fold1/checkpoint-38200).\n",
      "/opt/conda/lib/python3.9/site-packages/transformers/optimization.py:306: FutureWarning: This implementation of AdamW is deprecated and will be removed in a future version. Use the PyTorch implementation torch.optim.AdamW instead, or set `no_deprecation_warning=True` to disable this warning\n",
      "  warnings.warn(\n",
      "***** Running training *****\n",
      "  Num examples = 38200\n",
      "  Num Epochs = 9\n",
      "  Instantaneous batch size per device = 8\n",
      "  Total train batch size (w. parallel, distributed & accumulation) = 8\n",
      "  Gradient Accumulation steps = 1\n",
      "  Total optimization steps = 42975\n",
      "  Continuing training from checkpoint, will skip to saved global_step\n",
      "  Continuing training from epoch 8\n",
      "  Continuing training from global step 38200\n",
      "  Will skip the first 8 epochs then the first 0 batches in the first epoch. If this takes a lot of time, you can add the `--ignore_data_skip` flag to your launch command, but you will resume the training on data already seen by your model.\n"
     ]
    },
    {
     "data": {
      "application/vnd.jupyter.widget-view+json": {
       "model_id": "0ff3b70c0040430bb5cd288f014722fc",
       "version_major": 2,
       "version_minor": 0
      },
      "text/plain": [
       "0it [00:00, ?it/s]"
      ]
     },
     "metadata": {},
     "output_type": "display_data"
    },
    {
     "data": {
      "text/html": [
       "\n",
       "    <div>\n",
       "      \n",
       "      <progress value='42975' max='42975' style='width:300px; height:20px; vertical-align: middle;'></progress>\n",
       "      [42975/42975 17:28, Epoch 9/9]\n",
       "    </div>\n",
       "    <table border=\"1\" class=\"dataframe\">\n",
       "  <thead>\n",
       " <tr style=\"text-align: left;\">\n",
       "      <th>Epoch</th>\n",
       "      <th>Training Loss</th>\n",
       "      <th>Validation Loss</th>\n",
       "      <th>Accuracy</th>\n",
       "      <th>Precision</th>\n",
       "      <th>Recall</th>\n",
       "      <th>F1</th>\n",
       "      <th>Precision Nonbully</th>\n",
       "      <th>Recall Nonbully</th>\n",
       "      <th>F1 Nonbully</th>\n",
       "      <th>Precision Harasser</th>\n",
       "      <th>Recall Harasser</th>\n",
       "      <th>F1 Harasser</th>\n",
       "      <th>Precision Victim</th>\n",
       "      <th>Recall Victim</th>\n",
       "      <th>F1 Victim</th>\n",
       "      <th>Precision Bydefender</th>\n",
       "      <th>Recall Bydefender</th>\n",
       "      <th>F1 Bydefender</th>\n",
       "    </tr>\n",
       "  </thead>\n",
       "  <tbody>\n",
       "    <tr>\n",
       "      <td>9</td>\n",
       "      <td>0.048800</td>\n",
       "      <td>0.397635</td>\n",
       "      <td>0.945033</td>\n",
       "      <td>0.501744</td>\n",
       "      <td>0.602904</td>\n",
       "      <td>0.542321</td>\n",
       "      <td>0.985003</td>\n",
       "      <td>0.964911</td>\n",
       "      <td>0.974853</td>\n",
       "      <td>0.437970</td>\n",
       "      <td>0.647222</td>\n",
       "      <td>0.522422</td>\n",
       "      <td>0.265823</td>\n",
       "      <td>0.311111</td>\n",
       "      <td>0.286689</td>\n",
       "      <td>0.318182</td>\n",
       "      <td>0.488372</td>\n",
       "      <td>0.385321</td>\n",
       "    </tr>\n",
       "  </tbody>\n",
       "</table><p>"
      ],
      "text/plain": [
       "<IPython.core.display.HTML object>"
      ]
     },
     "metadata": {},
     "output_type": "display_data"
    },
    {
     "name": "stderr",
     "output_type": "stream",
     "text": [
      "***** Running Evaluation *****\n",
      "  Num examples = 11225\n",
      "  Batch size = 8\n",
      "Saving model checkpoint to content/drive/MyDrive/output_DistilBert/fold1/checkpoint-42975\n",
      "Configuration saved in content/drive/MyDrive/output_DistilBert/fold1/checkpoint-42975/config.json\n",
      "Model weights saved in content/drive/MyDrive/output_DistilBert/fold1/checkpoint-42975/pytorch_model.bin\n",
      "\n",
      "\n",
      "Training completed. Do not forget to share your model on huggingface.co/models =)\n",
      "\n",
      "\n",
      "Loading best model from content/drive/MyDrive/output_DistilBert/fold1/checkpoint-4775 (score: 0.16236844658851624).\n",
      "1it [17:40, 1060.26s/it]"
     ]
    },
    {
     "name": "stdout",
     "output_type": "stream",
     "text": [
      "Complete for fold 1\n",
      "Running for Fold:  2\n",
      "38200\n",
      "Counter({0: 106872, 1: 3596, 2: 1354, 3: 425})\n",
      "Counter({0: 96185, 1: 3236, 2: 1219, 3: 382})\n",
      "Counter({0: 33363, 1: 3236, 2: 1219, 3: 382})\n",
      "Counter({0: 33363, 1: 3236, 2: 1219, 3: 382})\n"
     ]
    },
    {
     "name": "stderr",
     "output_type": "stream",
     "text": [
      "PyTorch: setting up devices\n",
      "The default value for the training argument `--report_to` will change in v5 (from all installed integrations to none). In v5, you will need to use `--report_to all` to get the same behavior as now. You should start updating your code and make this info disappear :-).\n",
      "Loading model from content/drive/MyDrive/output_DistilBert/fold2/checkpoint-38200).\n",
      "/opt/conda/lib/python3.9/site-packages/transformers/optimization.py:306: FutureWarning: This implementation of AdamW is deprecated and will be removed in a future version. Use the PyTorch implementation torch.optim.AdamW instead, or set `no_deprecation_warning=True` to disable this warning\n",
      "  warnings.warn(\n",
      "***** Running training *****\n",
      "  Num examples = 38200\n",
      "  Num Epochs = 9\n",
      "  Instantaneous batch size per device = 8\n",
      "  Total train batch size (w. parallel, distributed & accumulation) = 8\n",
      "  Gradient Accumulation steps = 1\n",
      "  Total optimization steps = 42975\n",
      "  Continuing training from checkpoint, will skip to saved global_step\n",
      "  Continuing training from epoch 8\n",
      "  Continuing training from global step 38200\n",
      "  Will skip the first 8 epochs then the first 0 batches in the first epoch. If this takes a lot of time, you can add the `--ignore_data_skip` flag to your launch command, but you will resume the training on data already seen by your model.\n"
     ]
    },
    {
     "data": {
      "application/vnd.jupyter.widget-view+json": {
       "model_id": "0ed763bd7163463e8a71d94f3bf68c8a",
       "version_major": 2,
       "version_minor": 0
      },
      "text/plain": [
       "0it [00:00, ?it/s]"
      ]
     },
     "metadata": {},
     "output_type": "display_data"
    },
    {
     "data": {
      "text/html": [
       "\n",
       "    <div>\n",
       "      \n",
       "      <progress value='42975' max='42975' style='width:300px; height:20px; vertical-align: middle;'></progress>\n",
       "      [42975/42975 17:27, Epoch 9/9]\n",
       "    </div>\n",
       "    <table border=\"1\" class=\"dataframe\">\n",
       "  <thead>\n",
       " <tr style=\"text-align: left;\">\n",
       "      <th>Epoch</th>\n",
       "      <th>Training Loss</th>\n",
       "      <th>Validation Loss</th>\n",
       "      <th>Accuracy</th>\n",
       "      <th>Precision</th>\n",
       "      <th>Recall</th>\n",
       "      <th>F1</th>\n",
       "      <th>Precision Nonbully</th>\n",
       "      <th>Recall Nonbully</th>\n",
       "      <th>F1 Nonbully</th>\n",
       "      <th>Precision Harasser</th>\n",
       "      <th>Recall Harasser</th>\n",
       "      <th>F1 Harasser</th>\n",
       "      <th>Precision Victim</th>\n",
       "      <th>Recall Victim</th>\n",
       "      <th>F1 Victim</th>\n",
       "      <th>Precision Bydefender</th>\n",
       "      <th>Recall Bydefender</th>\n",
       "      <th>F1 Bydefender</th>\n",
       "    </tr>\n",
       "  </thead>\n",
       "  <tbody>\n",
       "    <tr>\n",
       "      <td>9</td>\n",
       "      <td>0.034700</td>\n",
       "      <td>0.338625</td>\n",
       "      <td>0.955546</td>\n",
       "      <td>0.586694</td>\n",
       "      <td>0.617310</td>\n",
       "      <td>0.599163</td>\n",
       "      <td>0.985812</td>\n",
       "      <td>0.975204</td>\n",
       "      <td>0.980479</td>\n",
       "      <td>0.522976</td>\n",
       "      <td>0.663889</td>\n",
       "      <td>0.585067</td>\n",
       "      <td>0.273885</td>\n",
       "      <td>0.318519</td>\n",
       "      <td>0.294521</td>\n",
       "      <td>0.564103</td>\n",
       "      <td>0.511628</td>\n",
       "      <td>0.536585</td>\n",
       "    </tr>\n",
       "  </tbody>\n",
       "</table><p>"
      ],
      "text/plain": [
       "<IPython.core.display.HTML object>"
      ]
     },
     "metadata": {},
     "output_type": "display_data"
    },
    {
     "name": "stderr",
     "output_type": "stream",
     "text": [
      "***** Running Evaluation *****\n",
      "  Num examples = 11225\n",
      "  Batch size = 8\n",
      "Saving model checkpoint to content/drive/MyDrive/output_DistilBert/fold2/checkpoint-42975\n",
      "Configuration saved in content/drive/MyDrive/output_DistilBert/fold2/checkpoint-42975/config.json\n",
      "Model weights saved in content/drive/MyDrive/output_DistilBert/fold2/checkpoint-42975/pytorch_model.bin\n",
      "\n",
      "\n",
      "Training completed. Do not forget to share your model on huggingface.co/models =)\n",
      "\n",
      "\n",
      "Loading best model from content/drive/MyDrive/output_DistilBert/fold2/checkpoint-4775 (score: 0.1395651400089264).\n",
      "2it [35:18, 1059.13s/it]"
     ]
    },
    {
     "name": "stdout",
     "output_type": "stream",
     "text": [
      "Complete for fold 2\n",
      "Running for Fold:  3\n",
      "38200\n",
      "Counter({0: 106872, 1: 3596, 2: 1354, 3: 425})\n",
      "Counter({0: 96185, 1: 3236, 2: 1219, 3: 382})\n",
      "Counter({0: 33363, 1: 3236, 2: 1219, 3: 382})\n",
      "Counter({0: 33363, 1: 3236, 2: 1219, 3: 382})\n"
     ]
    },
    {
     "name": "stderr",
     "output_type": "stream",
     "text": [
      "PyTorch: setting up devices\n",
      "The default value for the training argument `--report_to` will change in v5 (from all installed integrations to none). In v5, you will need to use `--report_to all` to get the same behavior as now. You should start updating your code and make this info disappear :-).\n",
      "Loading model from content/drive/MyDrive/output_DistilBert/fold3/checkpoint-38200).\n",
      "/opt/conda/lib/python3.9/site-packages/transformers/optimization.py:306: FutureWarning: This implementation of AdamW is deprecated and will be removed in a future version. Use the PyTorch implementation torch.optim.AdamW instead, or set `no_deprecation_warning=True` to disable this warning\n",
      "  warnings.warn(\n",
      "***** Running training *****\n",
      "  Num examples = 38200\n",
      "  Num Epochs = 9\n",
      "  Instantaneous batch size per device = 8\n",
      "  Total train batch size (w. parallel, distributed & accumulation) = 8\n",
      "  Gradient Accumulation steps = 1\n",
      "  Total optimization steps = 42975\n",
      "  Continuing training from checkpoint, will skip to saved global_step\n",
      "  Continuing training from epoch 8\n",
      "  Continuing training from global step 38200\n",
      "  Will skip the first 8 epochs then the first 0 batches in the first epoch. If this takes a lot of time, you can add the `--ignore_data_skip` flag to your launch command, but you will resume the training on data already seen by your model.\n"
     ]
    },
    {
     "data": {
      "application/vnd.jupyter.widget-view+json": {
       "model_id": "2a6950dd72774ce7a52c55bfeedd2e0a",
       "version_major": 2,
       "version_minor": 0
      },
      "text/plain": [
       "0it [00:00, ?it/s]"
      ]
     },
     "metadata": {},
     "output_type": "display_data"
    },
    {
     "data": {
      "text/html": [
       "\n",
       "    <div>\n",
       "      \n",
       "      <progress value='42975' max='42975' style='width:300px; height:20px; vertical-align: middle;'></progress>\n",
       "      [42975/42975 17:26, Epoch 9/9]\n",
       "    </div>\n",
       "    <table border=\"1\" class=\"dataframe\">\n",
       "  <thead>\n",
       " <tr style=\"text-align: left;\">\n",
       "      <th>Epoch</th>\n",
       "      <th>Training Loss</th>\n",
       "      <th>Validation Loss</th>\n",
       "      <th>Accuracy</th>\n",
       "      <th>Precision</th>\n",
       "      <th>Recall</th>\n",
       "      <th>F1</th>\n",
       "      <th>Precision Nonbully</th>\n",
       "      <th>Recall Nonbully</th>\n",
       "      <th>F1 Nonbully</th>\n",
       "      <th>Precision Harasser</th>\n",
       "      <th>Recall Harasser</th>\n",
       "      <th>F1 Harasser</th>\n",
       "      <th>Precision Victim</th>\n",
       "      <th>Recall Victim</th>\n",
       "      <th>F1 Victim</th>\n",
       "      <th>Precision Bydefender</th>\n",
       "      <th>Recall Bydefender</th>\n",
       "      <th>F1 Bydefender</th>\n",
       "    </tr>\n",
       "  </thead>\n",
       "  <tbody>\n",
       "    <tr>\n",
       "      <td>9</td>\n",
       "      <td>0.029400</td>\n",
       "      <td>0.325465</td>\n",
       "      <td>0.957951</td>\n",
       "      <td>0.581044</td>\n",
       "      <td>0.652568</td>\n",
       "      <td>0.612999</td>\n",
       "      <td>0.987699</td>\n",
       "      <td>0.976701</td>\n",
       "      <td>0.982169</td>\n",
       "      <td>0.550111</td>\n",
       "      <td>0.686111</td>\n",
       "      <td>0.610630</td>\n",
       "      <td>0.258065</td>\n",
       "      <td>0.296296</td>\n",
       "      <td>0.275862</td>\n",
       "      <td>0.528302</td>\n",
       "      <td>0.651163</td>\n",
       "      <td>0.583333</td>\n",
       "    </tr>\n",
       "  </tbody>\n",
       "</table><p>"
      ],
      "text/plain": [
       "<IPython.core.display.HTML object>"
      ]
     },
     "metadata": {},
     "output_type": "display_data"
    },
    {
     "name": "stderr",
     "output_type": "stream",
     "text": [
      "***** Running Evaluation *****\n",
      "  Num examples = 11225\n",
      "  Batch size = 8\n",
      "Saving model checkpoint to content/drive/MyDrive/output_DistilBert/fold3/checkpoint-42975\n",
      "Configuration saved in content/drive/MyDrive/output_DistilBert/fold3/checkpoint-42975/config.json\n",
      "Model weights saved in content/drive/MyDrive/output_DistilBert/fold3/checkpoint-42975/pytorch_model.bin\n",
      "\n",
      "\n",
      "Training completed. Do not forget to share your model on huggingface.co/models =)\n",
      "\n",
      "\n",
      "Loading best model from content/drive/MyDrive/output_DistilBert/fold3/checkpoint-4775 (score: 0.1467844843864441).\n",
      "3it [52:54, 1057.47s/it]"
     ]
    },
    {
     "name": "stdout",
     "output_type": "stream",
     "text": [
      "Complete for fold 3\n",
      "Running for Fold:  4\n",
      "38200\n",
      "Counter({0: 106872, 1: 3596, 2: 1354, 3: 425})\n",
      "Counter({0: 96185, 1: 3236, 2: 1219, 3: 382})\n",
      "Counter({0: 33363, 1: 3236, 2: 1219, 3: 382})\n",
      "Counter({0: 33363, 1: 3236, 2: 1219, 3: 382})\n"
     ]
    },
    {
     "name": "stderr",
     "output_type": "stream",
     "text": [
      "PyTorch: setting up devices\n",
      "The default value for the training argument `--report_to` will change in v5 (from all installed integrations to none). In v5, you will need to use `--report_to all` to get the same behavior as now. You should start updating your code and make this info disappear :-).\n",
      "Loading model from content/drive/MyDrive/output_DistilBert/fold4/checkpoint-38200).\n",
      "/opt/conda/lib/python3.9/site-packages/transformers/optimization.py:306: FutureWarning: This implementation of AdamW is deprecated and will be removed in a future version. Use the PyTorch implementation torch.optim.AdamW instead, or set `no_deprecation_warning=True` to disable this warning\n",
      "  warnings.warn(\n",
      "***** Running training *****\n",
      "  Num examples = 38200\n",
      "  Num Epochs = 9\n",
      "  Instantaneous batch size per device = 8\n",
      "  Total train batch size (w. parallel, distributed & accumulation) = 8\n",
      "  Gradient Accumulation steps = 1\n",
      "  Total optimization steps = 42975\n",
      "  Continuing training from checkpoint, will skip to saved global_step\n",
      "  Continuing training from epoch 8\n",
      "  Continuing training from global step 38200\n",
      "  Will skip the first 8 epochs then the first 0 batches in the first epoch. If this takes a lot of time, you can add the `--ignore_data_skip` flag to your launch command, but you will resume the training on data already seen by your model.\n"
     ]
    },
    {
     "data": {
      "application/vnd.jupyter.widget-view+json": {
       "model_id": "d15948737c3c430e997f6010f0ec612a",
       "version_major": 2,
       "version_minor": 0
      },
      "text/plain": [
       "0it [00:00, ?it/s]"
      ]
     },
     "metadata": {},
     "output_type": "display_data"
    },
    {
     "data": {
      "text/html": [
       "\n",
       "    <div>\n",
       "      \n",
       "      <progress value='42975' max='42975' style='width:300px; height:20px; vertical-align: middle;'></progress>\n",
       "      [42975/42975 17:26, Epoch 9/9]\n",
       "    </div>\n",
       "    <table border=\"1\" class=\"dataframe\">\n",
       "  <thead>\n",
       " <tr style=\"text-align: left;\">\n",
       "      <th>Epoch</th>\n",
       "      <th>Training Loss</th>\n",
       "      <th>Validation Loss</th>\n",
       "      <th>Accuracy</th>\n",
       "      <th>Precision</th>\n",
       "      <th>Recall</th>\n",
       "      <th>F1</th>\n",
       "      <th>Precision Nonbully</th>\n",
       "      <th>Recall Nonbully</th>\n",
       "      <th>F1 Nonbully</th>\n",
       "      <th>Precision Harasser</th>\n",
       "      <th>Recall Harasser</th>\n",
       "      <th>F1 Harasser</th>\n",
       "      <th>Precision Victim</th>\n",
       "      <th>Recall Victim</th>\n",
       "      <th>F1 Victim</th>\n",
       "      <th>Precision Bydefender</th>\n",
       "      <th>Recall Bydefender</th>\n",
       "      <th>F1 Bydefender</th>\n",
       "    </tr>\n",
       "  </thead>\n",
       "  <tbody>\n",
       "    <tr>\n",
       "      <td>9</td>\n",
       "      <td>0.029400</td>\n",
       "      <td>0.291772</td>\n",
       "      <td>0.961871</td>\n",
       "      <td>0.595814</td>\n",
       "      <td>0.695131</td>\n",
       "      <td>0.637750</td>\n",
       "      <td>0.991443</td>\n",
       "      <td>0.975765</td>\n",
       "      <td>0.983542</td>\n",
       "      <td>0.580198</td>\n",
       "      <td>0.813889</td>\n",
       "      <td>0.677457</td>\n",
       "      <td>0.337931</td>\n",
       "      <td>0.362963</td>\n",
       "      <td>0.350000</td>\n",
       "      <td>0.473684</td>\n",
       "      <td>0.627907</td>\n",
       "      <td>0.540000</td>\n",
       "    </tr>\n",
       "  </tbody>\n",
       "</table><p>"
      ],
      "text/plain": [
       "<IPython.core.display.HTML object>"
      ]
     },
     "metadata": {},
     "output_type": "display_data"
    },
    {
     "name": "stderr",
     "output_type": "stream",
     "text": [
      "Saving model checkpoint to content/drive/MyDrive/output_DistilBert/fold4/checkpoint-42975\n",
      "Configuration saved in content/drive/MyDrive/output_DistilBert/fold4/checkpoint-42975/config.json\n",
      "Model weights saved in content/drive/MyDrive/output_DistilBert/fold4/checkpoint-42975/pytorch_model.bin\n",
      "\n",
      "\n",
      "Training completed. Do not forget to share your model on huggingface.co/models =)\n",
      "\n",
      "\n",
      "Loading best model from content/drive/MyDrive/output_DistilBert/fold4/checkpoint-4775 (score: 0.13413041830062866).\n",
      "4it [1:10:30, 1057.08s/it]"
     ]
    },
    {
     "name": "stdout",
     "output_type": "stream",
     "text": [
      "Complete for fold 4\n",
      "Running for Fold:  5\n",
      "38200\n",
      "Counter({0: 106872, 1: 3596, 2: 1354, 3: 425})\n",
      "Counter({0: 96185, 1: 3236, 2: 1219, 3: 382})\n",
      "Counter({0: 33363, 1: 3236, 2: 1219, 3: 382})\n",
      "Counter({0: 33363, 1: 3236, 2: 1219, 3: 382})\n"
     ]
    },
    {
     "name": "stderr",
     "output_type": "stream",
     "text": [
      "PyTorch: setting up devices\n",
      "The default value for the training argument `--report_to` will change in v5 (from all installed integrations to none). In v5, you will need to use `--report_to all` to get the same behavior as now. You should start updating your code and make this info disappear :-).\n",
      "Loading model from content/drive/MyDrive/output_DistilBert/fold5/checkpoint-38200).\n",
      "/opt/conda/lib/python3.9/site-packages/transformers/optimization.py:306: FutureWarning: This implementation of AdamW is deprecated and will be removed in a future version. Use the PyTorch implementation torch.optim.AdamW instead, or set `no_deprecation_warning=True` to disable this warning\n",
      "  warnings.warn(\n",
      "***** Running training *****\n",
      "  Num examples = 38200\n",
      "  Num Epochs = 9\n",
      "  Instantaneous batch size per device = 8\n",
      "  Total train batch size (w. parallel, distributed & accumulation) = 8\n",
      "  Gradient Accumulation steps = 1\n",
      "  Total optimization steps = 42975\n",
      "  Continuing training from checkpoint, will skip to saved global_step\n",
      "  Continuing training from epoch 8\n",
      "  Continuing training from global step 38200\n",
      "  Will skip the first 8 epochs then the first 0 batches in the first epoch. If this takes a lot of time, you can add the `--ignore_data_skip` flag to your launch command, but you will resume the training on data already seen by your model.\n"
     ]
    },
    {
     "data": {
      "application/vnd.jupyter.widget-view+json": {
       "model_id": "b8a796ef02664657b15a45a3c5305320",
       "version_major": 2,
       "version_minor": 0
      },
      "text/plain": [
       "0it [00:00, ?it/s]"
      ]
     },
     "metadata": {},
     "output_type": "display_data"
    },
    {
     "data": {
      "text/html": [
       "\n",
       "    <div>\n",
       "      \n",
       "      <progress value='42975' max='42975' style='width:300px; height:20px; vertical-align: middle;'></progress>\n",
       "      [42975/42975 17:26, Epoch 9/9]\n",
       "    </div>\n",
       "    <table border=\"1\" class=\"dataframe\">\n",
       "  <thead>\n",
       " <tr style=\"text-align: left;\">\n",
       "      <th>Epoch</th>\n",
       "      <th>Training Loss</th>\n",
       "      <th>Validation Loss</th>\n",
       "      <th>Accuracy</th>\n",
       "      <th>Precision</th>\n",
       "      <th>Recall</th>\n",
       "      <th>F1</th>\n",
       "      <th>Precision Nonbully</th>\n",
       "      <th>Recall Nonbully</th>\n",
       "      <th>F1 Nonbully</th>\n",
       "      <th>Precision Harasser</th>\n",
       "      <th>Recall Harasser</th>\n",
       "      <th>F1 Harasser</th>\n",
       "      <th>Precision Victim</th>\n",
       "      <th>Recall Victim</th>\n",
       "      <th>F1 Victim</th>\n",
       "      <th>Precision Bydefender</th>\n",
       "      <th>Recall Bydefender</th>\n",
       "      <th>F1 Bydefender</th>\n",
       "    </tr>\n",
       "  </thead>\n",
       "  <tbody>\n",
       "    <tr>\n",
       "      <td>9</td>\n",
       "      <td>0.030200</td>\n",
       "      <td>0.240475</td>\n",
       "      <td>0.969265</td>\n",
       "      <td>0.649261</td>\n",
       "      <td>0.723711</td>\n",
       "      <td>0.677186</td>\n",
       "      <td>0.991787</td>\n",
       "      <td>0.983064</td>\n",
       "      <td>0.987406</td>\n",
       "      <td>0.633047</td>\n",
       "      <td>0.819444</td>\n",
       "      <td>0.714286</td>\n",
       "      <td>0.447619</td>\n",
       "      <td>0.348148</td>\n",
       "      <td>0.391667</td>\n",
       "      <td>0.524590</td>\n",
       "      <td>0.744186</td>\n",
       "      <td>0.615385</td>\n",
       "    </tr>\n",
       "  </tbody>\n",
       "</table><p>"
      ],
      "text/plain": [
       "<IPython.core.display.HTML object>"
      ]
     },
     "metadata": {},
     "output_type": "display_data"
    },
    {
     "name": "stderr",
     "output_type": "stream",
     "text": [
      "***** Running Evaluation *****\n",
      "  Num examples = 11225\n",
      "  Batch size = 8\n",
      "Saving model checkpoint to content/drive/MyDrive/output_DistilBert/fold5/checkpoint-42975\n",
      "Configuration saved in content/drive/MyDrive/output_DistilBert/fold5/checkpoint-42975/config.json\n",
      "Model weights saved in content/drive/MyDrive/output_DistilBert/fold5/checkpoint-42975/pytorch_model.bin\n",
      "\n",
      "\n",
      "Training completed. Do not forget to share your model on huggingface.co/models =)\n",
      "\n",
      "\n",
      "Loading best model from content/drive/MyDrive/output_DistilBert/fold5/checkpoint-4775 (score: 0.09801505506038666).\n",
      "5it [1:28:06, 1057.35s/it]"
     ]
    },
    {
     "name": "stdout",
     "output_type": "stream",
     "text": [
      "Complete for fold 5\n"
     ]
    },
    {
     "name": "stderr",
     "output_type": "stream",
     "text": [
      "\n"
     ]
    }
   ],
   "source": [
    "run_cross_validation(model_name='DistilBert',\n",
    "                         X=X,\n",
    "                         y=y, \n",
    "                         splits=5,\n",
    "                         epoch=9,\n",
    "                         checkpoint=True)"
   ]
  },
  {
   "cell_type": "markdown",
   "id": "6224e5f0-ed63-40ae-8777-3b0ba318b532",
   "metadata": {
    "tags": []
   },
   "source": [
    "<div class=\"alert alert-info\" style=\"background-color:#5d3a8e; color:white; padding:0px 10px; border-radius:5px;\"><h2 style='margin:10px 5px'>Hold Out Split</h2>\n",
    "</div>"
   ]
  },
  {
   "cell_type": "code",
   "execution_count": 9,
   "id": "8755b42b-4150-476f-94bc-7a274b6f3ee3",
   "metadata": {},
   "outputs": [
    {
     "name": "stdout",
     "output_type": "stream",
     "text": [
      "Counter({0: 96185, 1: 3236, 2: 1219, 3: 382})\n",
      "Counter({0: 33363, 1: 3236, 2: 1219, 3: 382})\n",
      "Counter({0: 33363, 1: 3236, 2: 1219, 3: 382})\n"
     ]
    }
   ],
   "source": [
    "#####################\n",
    "# Run Hold Out Test #\n",
    "#####################\n",
    "\n",
    "# Obtain undersample index \n",
    "X_temp = bully_data_cleaned[\"text\"].values\n",
    "y_temp = bully_data_cleaned[\"label\"].values\n",
    "\n",
    "X_temp_train, X_temp_val, y_temp_train, y_temp_val =  train_test_split(X_temp,y_temp, test_size=0.1, random_state=1127, stratify=y_temp) \n",
    "resample = RandomUnderSampler(random_state=1127,sampling_strategy={0:33363})\n",
    "X_temp_resampled, y_temp_resampled = resample.fit_resample(X_temp_train.reshape(-1,1), y_temp_train)\n",
    "resample_index = list(resample.sample_indices_)\n",
    "\n",
    "# Split to train and test set\n",
    "X = list(bully_data_cleaned[\"text\"])\n",
    "y = list(bully_data_cleaned[\"label\"])\n",
    "\n",
    "X_train, X_test, y_train, y_test = train_test_split(X, y, test_size=0.1, stratify=y, random_state=1127)\n",
    "\n",
    "# Undersample train set\n",
    "X_train_resample = [X_train[i] for i in resample_index]\n",
    "y_train_resample = [y_train[i] for i in resample_index]\n",
    "\n",
    "# Checking proportion\n",
    "print(Counter(y_temp_train))\n",
    "print(Counter(y_temp_resampled))\n",
    "print(Counter(y_train_resample))\n",
    "\n",
    "X_train_tokenized = tokenizer(X_train_resample, padding=True, truncation=True, max_length=512)\n",
    "X_val_tokenized = tokenizer(X_test, padding=True, truncation=True, max_length=512)\n",
    "\n",
    "train_dataset = Dataset(X_train_tokenized, y_train_resample)\n",
    "val_dataset = Dataset(X_val_tokenized, y_test)\n",
    "\n",
    "def run_hold_out_split(model_name='Roberta',\n",
    "                       epoch=8,\n",
    "                       train_dataset=train_dataset,\n",
    "                       eval_dataset=val_dataset,\n",
    "                       checkpoint=False):\n",
    "  \n",
    "    print(\"Developing Model with Hold Out Splits for: \" + model_name)\n",
    "    \n",
    "    # Fine Tune Transformer\n",
    "    # Define Trainer\n",
    "    \n",
    "    args = TrainingArguments(\n",
    "    output_dir=\"content/drive/MyDrive/output_\" + model_name + \"/holdout_test\",\n",
    "    evaluation_strategy=\"epoch\",\n",
    "    save_strategy=\"epoch\",\n",
    "    #eval_steps=500,\n",
    "    #per_device_train_batch_size=1,\n",
    "    #per_device_eval_batch_size=1,\n",
    "    num_train_epochs=epoch, #1 was okay\n",
    "    seed=1127,\n",
    "    load_best_model_at_end=True,\n",
    "    )\n",
    "    \n",
    "    trainer = Trainer(\n",
    "    model=model,\n",
    "    args=args,\n",
    "    train_dataset=train_dataset,\n",
    "    eval_dataset=val_dataset,\n",
    "    compute_metrics=compute_metrics,\n",
    "    callbacks=[EarlyStoppingCallback(early_stopping_patience=5)],\n",
    "    )\n",
    "\n",
    "    trainer.train(resume_from_checkpoint=checkpoint)\n",
    "    print(\"Complete for hold-out test set\")"
   ]
  },
  {
   "cell_type": "code",
   "execution_count": null,
   "id": "49c8bad7-c2df-4d0d-861b-555103b1d750",
   "metadata": {},
   "outputs": [
    {
     "name": "stderr",
     "output_type": "stream",
     "text": [
      "PyTorch: setting up devices\n",
      "The default value for the training argument `--report_to` will change in v5 (from all installed integrations to none). In v5, you will need to use `--report_to all` to get the same behavior as now. You should start updating your code and make this info disappear :-).\n",
      "/opt/conda/lib/python3.9/site-packages/transformers/optimization.py:306: FutureWarning: This implementation of AdamW is deprecated and will be removed in a future version. Use the PyTorch implementation torch.optim.AdamW instead, or set `no_deprecation_warning=True` to disable this warning\n",
      "  warnings.warn(\n",
      "***** Running training *****\n",
      "  Num examples = 38200\n",
      "  Num Epochs = 8\n",
      "  Instantaneous batch size per device = 8\n",
      "  Total train batch size (w. parallel, distributed & accumulation) = 8\n",
      "  Gradient Accumulation steps = 1\n",
      "  Total optimization steps = 38200\n"
     ]
    },
    {
     "name": "stdout",
     "output_type": "stream",
     "text": [
      "Developing Model with Hold Out Splits for: DistilBert\n"
     ]
    },
    {
     "data": {
      "text/html": [
       "\n",
       "    <div>\n",
       "      \n",
       "      <progress value='28650' max='38200' style='width:300px; height:20px; vertical-align: middle;'></progress>\n",
       "      [28650/38200 1:44:42 < 34:54, 4.56 it/s, Epoch 6/8]\n",
       "    </div>\n",
       "    <table border=\"1\" class=\"dataframe\">\n",
       "  <thead>\n",
       " <tr style=\"text-align: left;\">\n",
       "      <th>Epoch</th>\n",
       "      <th>Training Loss</th>\n",
       "      <th>Validation Loss</th>\n",
       "      <th>Accuracy</th>\n",
       "      <th>Precision</th>\n",
       "      <th>Recall</th>\n",
       "      <th>F1</th>\n",
       "      <th>Precision Nonbully</th>\n",
       "      <th>Recall Nonbully</th>\n",
       "      <th>F1 Nonbully</th>\n",
       "      <th>Precision Harasser</th>\n",
       "      <th>Recall Harasser</th>\n",
       "      <th>F1 Harasser</th>\n",
       "      <th>Precision Victim</th>\n",
       "      <th>Recall Victim</th>\n",
       "      <th>F1 Victim</th>\n",
       "      <th>Precision Bydefender</th>\n",
       "      <th>Recall Bydefender</th>\n",
       "      <th>F1 Bydefender</th>\n",
       "    </tr>\n",
       "  </thead>\n",
       "  <tbody>\n",
       "    <tr>\n",
       "      <td>1</td>\n",
       "      <td>0.153900</td>\n",
       "      <td>0.113316</td>\n",
       "      <td>0.973898</td>\n",
       "      <td>0.698308</td>\n",
       "      <td>0.730119</td>\n",
       "      <td>0.700482</td>\n",
       "      <td>0.991904</td>\n",
       "      <td>0.985871</td>\n",
       "      <td>0.988878</td>\n",
       "      <td>0.683297</td>\n",
       "      <td>0.875000</td>\n",
       "      <td>0.767357</td>\n",
       "      <td>0.626506</td>\n",
       "      <td>0.385185</td>\n",
       "      <td>0.477064</td>\n",
       "      <td>0.491525</td>\n",
       "      <td>0.674419</td>\n",
       "      <td>0.568627</td>\n",
       "    </tr>\n",
       "    <tr>\n",
       "      <td>2</td>\n",
       "      <td>0.176800</td>\n",
       "      <td>0.127284</td>\n",
       "      <td>0.971849</td>\n",
       "      <td>0.689800</td>\n",
       "      <td>0.722746</td>\n",
       "      <td>0.703870</td>\n",
       "      <td>0.991891</td>\n",
       "      <td>0.984374</td>\n",
       "      <td>0.988118</td>\n",
       "      <td>0.674833</td>\n",
       "      <td>0.841667</td>\n",
       "      <td>0.749073</td>\n",
       "      <td>0.464567</td>\n",
       "      <td>0.437037</td>\n",
       "      <td>0.450382</td>\n",
       "      <td>0.627907</td>\n",
       "      <td>0.627907</td>\n",
       "      <td>0.627907</td>\n",
       "    </tr>\n",
       "    <tr>\n",
       "      <td>3</td>\n",
       "      <td>0.122100</td>\n",
       "      <td>0.135227</td>\n",
       "      <td>0.969978</td>\n",
       "      <td>0.698282</td>\n",
       "      <td>0.711353</td>\n",
       "      <td>0.696408</td>\n",
       "      <td>0.992897</td>\n",
       "      <td>0.981005</td>\n",
       "      <td>0.986915</td>\n",
       "      <td>0.635458</td>\n",
       "      <td>0.886111</td>\n",
       "      <td>0.740139</td>\n",
       "      <td>0.477273</td>\n",
       "      <td>0.466667</td>\n",
       "      <td>0.471910</td>\n",
       "      <td>0.687500</td>\n",
       "      <td>0.511628</td>\n",
       "      <td>0.586667</td>\n",
       "    </tr>\n",
       "    <tr>\n",
       "      <td>4</td>\n",
       "      <td>0.094400</td>\n",
       "      <td>0.151329</td>\n",
       "      <td>0.972918</td>\n",
       "      <td>0.693016</td>\n",
       "      <td>0.723027</td>\n",
       "      <td>0.705712</td>\n",
       "      <td>0.991154</td>\n",
       "      <td>0.985496</td>\n",
       "      <td>0.988317</td>\n",
       "      <td>0.698157</td>\n",
       "      <td>0.841667</td>\n",
       "      <td>0.763224</td>\n",
       "      <td>0.495798</td>\n",
       "      <td>0.437037</td>\n",
       "      <td>0.464567</td>\n",
       "      <td>0.586957</td>\n",
       "      <td>0.627907</td>\n",
       "      <td>0.606742</td>\n",
       "    </tr>\n",
       "    <tr>\n",
       "      <td>5</td>\n",
       "      <td>0.059100</td>\n",
       "      <td>0.180254</td>\n",
       "      <td>0.966771</td>\n",
       "      <td>0.645649</td>\n",
       "      <td>0.744022</td>\n",
       "      <td>0.687264</td>\n",
       "      <td>0.993063</td>\n",
       "      <td>0.977917</td>\n",
       "      <td>0.985432</td>\n",
       "      <td>0.667411</td>\n",
       "      <td>0.830556</td>\n",
       "      <td>0.740099</td>\n",
       "      <td>0.368932</td>\n",
       "      <td>0.562963</td>\n",
       "      <td>0.445748</td>\n",
       "      <td>0.553191</td>\n",
       "      <td>0.604651</td>\n",
       "      <td>0.577778</td>\n",
       "    </tr>\n",
       "    <tr>\n",
       "      <td>6</td>\n",
       "      <td>0.034100</td>\n",
       "      <td>0.196585</td>\n",
       "      <td>0.970245</td>\n",
       "      <td>0.684436</td>\n",
       "      <td>0.726287</td>\n",
       "      <td>0.699373</td>\n",
       "      <td>0.991690</td>\n",
       "      <td>0.982689</td>\n",
       "      <td>0.987169</td>\n",
       "      <td>0.632568</td>\n",
       "      <td>0.841667</td>\n",
       "      <td>0.722288</td>\n",
       "      <td>0.542056</td>\n",
       "      <td>0.429630</td>\n",
       "      <td>0.479339</td>\n",
       "      <td>0.571429</td>\n",
       "      <td>0.651163</td>\n",
       "      <td>0.608696</td>\n",
       "    </tr>\n",
       "  </tbody>\n",
       "</table><p>"
      ],
      "text/plain": [
       "<IPython.core.display.HTML object>"
      ]
     },
     "metadata": {},
     "output_type": "display_data"
    },
    {
     "name": "stderr",
     "output_type": "stream",
     "text": [
      "***** Running Evaluation *****\n",
      "  Num examples = 11225\n",
      "  Batch size = 8\n",
      "Saving model checkpoint to content/drive/MyDrive/output_DistilBert/holdout_test/checkpoint-4775\n",
      "Configuration saved in content/drive/MyDrive/output_DistilBert/holdout_test/checkpoint-4775/config.json\n",
      "Model weights saved in content/drive/MyDrive/output_DistilBert/holdout_test/checkpoint-4775/pytorch_model.bin\n",
      "***** Running Evaluation *****\n",
      "  Num examples = 11225\n",
      "  Batch size = 8\n",
      "Saving model checkpoint to content/drive/MyDrive/output_DistilBert/holdout_test/checkpoint-9550\n",
      "Configuration saved in content/drive/MyDrive/output_DistilBert/holdout_test/checkpoint-9550/config.json\n",
      "Model weights saved in content/drive/MyDrive/output_DistilBert/holdout_test/checkpoint-9550/pytorch_model.bin\n",
      "***** Running Evaluation *****\n",
      "  Num examples = 11225\n",
      "  Batch size = 8\n",
      "Saving model checkpoint to content/drive/MyDrive/output_DistilBert/holdout_test/checkpoint-14325\n",
      "Configuration saved in content/drive/MyDrive/output_DistilBert/holdout_test/checkpoint-14325/config.json\n",
      "Model weights saved in content/drive/MyDrive/output_DistilBert/holdout_test/checkpoint-14325/pytorch_model.bin\n",
      "***** Running Evaluation *****\n",
      "  Num examples = 11225\n",
      "  Batch size = 8\n",
      "Saving model checkpoint to content/drive/MyDrive/output_DistilBert/holdout_test/checkpoint-19100\n",
      "Configuration saved in content/drive/MyDrive/output_DistilBert/holdout_test/checkpoint-19100/config.json\n",
      "Model weights saved in content/drive/MyDrive/output_DistilBert/holdout_test/checkpoint-19100/pytorch_model.bin\n",
      "***** Running Evaluation *****\n",
      "  Num examples = 11225\n",
      "  Batch size = 8\n",
      "Saving model checkpoint to content/drive/MyDrive/output_DistilBert/holdout_test/checkpoint-23875\n",
      "Configuration saved in content/drive/MyDrive/output_DistilBert/holdout_test/checkpoint-23875/config.json\n",
      "Model weights saved in content/drive/MyDrive/output_DistilBert/holdout_test/checkpoint-23875/pytorch_model.bin\n",
      "***** Running Evaluation *****\n",
      "  Num examples = 11225\n",
      "  Batch size = 8\n",
      "Saving model checkpoint to content/drive/MyDrive/output_DistilBert/holdout_test/checkpoint-28650\n",
      "Configuration saved in content/drive/MyDrive/output_DistilBert/holdout_test/checkpoint-28650/config.json\n",
      "Model weights saved in content/drive/MyDrive/output_DistilBert/holdout_test/checkpoint-28650/pytorch_model.bin\n",
      "\n",
      "\n",
      "Training completed. Do not forget to share your model on huggingface.co/models =)\n",
      "\n",
      "\n",
      "Loading best model from content/drive/MyDrive/output_DistilBert/holdout_test/checkpoint-4775 (score: 0.11331614851951599).\n"
     ]
    },
    {
     "name": "stdout",
     "output_type": "stream",
     "text": [
      "Complete for hold-out test set\n"
     ]
    }
   ],
   "source": [
    "run_hold_out_split(model_name='DistilBert',\n",
    "                       epoch=8,\n",
    "                       train_dataset=train_dataset,\n",
    "                       eval_dataset=val_dataset,\n",
    "                       checkpoint=False)"
   ]
  },
  {
   "cell_type": "code",
   "execution_count": null,
   "id": "74f34dcf-6b3a-42b7-bc64-a869706fa5dc",
   "metadata": {},
   "outputs": [
    {
     "name": "stderr",
     "output_type": "stream",
     "text": [
      "PyTorch: setting up devices\n",
      "The default value for the training argument `--report_to` will change in v5 (from all installed integrations to none). In v5, you will need to use `--report_to all` to get the same behavior as now. You should start updating your code and make this info disappear :-).\n",
      "Loading model from content/drive/MyDrive/output_DistilBert/holdout_test/checkpoint-28650).\n"
     ]
    },
    {
     "name": "stdout",
     "output_type": "stream",
     "text": [
      "Developing Model with Hold Out Splits for: DistilBert\n"
     ]
    },
    {
     "name": "stderr",
     "output_type": "stream",
     "text": [
      "/opt/conda/lib/python3.9/site-packages/transformers/optimization.py:306: FutureWarning: This implementation of AdamW is deprecated and will be removed in a future version. Use the PyTorch implementation torch.optim.AdamW instead, or set `no_deprecation_warning=True` to disable this warning\n",
      "  warnings.warn(\n",
      "***** Running training *****\n",
      "  Num examples = 38200\n",
      "  Num Epochs = 8\n",
      "  Instantaneous batch size per device = 8\n",
      "  Total train batch size (w. parallel, distributed & accumulation) = 8\n",
      "  Gradient Accumulation steps = 1\n",
      "  Total optimization steps = 38200\n",
      "  Continuing training from checkpoint, will skip to saved global_step\n",
      "  Continuing training from epoch 6\n",
      "  Continuing training from global step 28650\n",
      "  Will skip the first 6 epochs then the first 0 batches in the first epoch. If this takes a lot of time, you can add the `--ignore_data_skip` flag to your launch command, but you will resume the training on data already seen by your model.\n"
     ]
    },
    {
     "data": {
      "application/vnd.jupyter.widget-view+json": {
       "model_id": "1ec2dcaf4b9447ac86c0179aa3297fd3",
       "version_major": 2,
       "version_minor": 0
      },
      "text/plain": [
       "0it [00:00, ?it/s]"
      ]
     },
     "metadata": {},
     "output_type": "display_data"
    },
    {
     "data": {
      "text/html": [
       "\n",
       "    <div>\n",
       "      \n",
       "      <progress value='37963' max='38200' style='width:300px; height:20px; vertical-align: middle;'></progress>\n",
       "      [37963/38200 32:51 < 00:50, 4.72 it/s, Epoch 7.95/8]\n",
       "    </div>\n",
       "    <table border=\"1\" class=\"dataframe\">\n",
       "  <thead>\n",
       " <tr style=\"text-align: left;\">\n",
       "      <th>Epoch</th>\n",
       "      <th>Training Loss</th>\n",
       "      <th>Validation Loss</th>\n",
       "      <th>Accuracy</th>\n",
       "      <th>Precision</th>\n",
       "      <th>Recall</th>\n",
       "      <th>F1</th>\n",
       "      <th>Precision Nonbully</th>\n",
       "      <th>Recall Nonbully</th>\n",
       "      <th>F1 Nonbully</th>\n",
       "      <th>Precision Harasser</th>\n",
       "      <th>Recall Harasser</th>\n",
       "      <th>F1 Harasser</th>\n",
       "      <th>Precision Victim</th>\n",
       "      <th>Recall Victim</th>\n",
       "      <th>F1 Victim</th>\n",
       "      <th>Precision Bydefender</th>\n",
       "      <th>Recall Bydefender</th>\n",
       "      <th>F1 Bydefender</th>\n",
       "    </tr>\n",
       "  </thead>\n",
       "  <tbody>\n",
       "    <tr>\n",
       "      <td>7</td>\n",
       "      <td>0.037200</td>\n",
       "      <td>0.211192</td>\n",
       "      <td>0.970780</td>\n",
       "      <td>0.689607</td>\n",
       "      <td>0.718383</td>\n",
       "      <td>0.699999</td>\n",
       "      <td>0.992066</td>\n",
       "      <td>0.982876</td>\n",
       "      <td>0.987450</td>\n",
       "      <td>0.644211</td>\n",
       "      <td>0.850000</td>\n",
       "      <td>0.732934</td>\n",
       "      <td>0.512397</td>\n",
       "      <td>0.459259</td>\n",
       "      <td>0.484375</td>\n",
       "      <td>0.609756</td>\n",
       "      <td>0.581395</td>\n",
       "      <td>0.595238</td>\n",
       "    </tr>\n",
       "  </tbody>\n",
       "</table><p>"
      ],
      "text/plain": [
       "<IPython.core.display.HTML object>"
      ]
     },
     "metadata": {},
     "output_type": "display_data"
    },
    {
     "name": "stderr",
     "output_type": "stream",
     "text": [
      "***** Running Evaluation *****\n",
      "  Num examples = 11225\n",
      "  Batch size = 8\n",
      "Saving model checkpoint to content/drive/MyDrive/output_DistilBert/holdout_test/checkpoint-33425\n",
      "Configuration saved in content/drive/MyDrive/output_DistilBert/holdout_test/checkpoint-33425/config.json\n",
      "Model weights saved in content/drive/MyDrive/output_DistilBert/holdout_test/checkpoint-33425/pytorch_model.bin\n"
     ]
    }
   ],
   "source": [
    "run_hold_out_split(model_name='DistilBert',\n",
    "                       epoch=8,\n",
    "                       train_dataset=train_dataset,\n",
    "                       eval_dataset=val_dataset,\n",
    "                       checkpoint=True)"
   ]
  },
  {
   "cell_type": "code",
   "execution_count": 10,
   "id": "b01bcdc7-571e-48ee-a0f7-c697cd7c4698",
   "metadata": {},
   "outputs": [
    {
     "name": "stdout",
     "output_type": "stream",
     "text": [
      "Developing Model with Hold Out Splits for: DistilBert\n"
     ]
    },
    {
     "name": "stderr",
     "output_type": "stream",
     "text": [
      "Loading model from content/drive/MyDrive/output_DistilBert/holdout_test/checkpoint-33425).\n",
      "/opt/conda/lib/python3.9/site-packages/transformers/optimization.py:306: FutureWarning: This implementation of AdamW is deprecated and will be removed in a future version. Use the PyTorch implementation torch.optim.AdamW instead, or set `no_deprecation_warning=True` to disable this warning\n",
      "  warnings.warn(\n",
      "***** Running training *****\n",
      "  Num examples = 38200\n",
      "  Num Epochs = 8\n",
      "  Instantaneous batch size per device = 8\n",
      "  Total train batch size (w. parallel, distributed & accumulation) = 8\n",
      "  Gradient Accumulation steps = 1\n",
      "  Total optimization steps = 38200\n",
      "  Continuing training from checkpoint, will skip to saved global_step\n",
      "  Continuing training from epoch 7\n",
      "  Continuing training from global step 33425\n",
      "  Will skip the first 7 epochs then the first 0 batches in the first epoch. If this takes a lot of time, you can add the `--ignore_data_skip` flag to your launch command, but you will resume the training on data already seen by your model.\n"
     ]
    },
    {
     "data": {
      "application/vnd.jupyter.widget-view+json": {
       "model_id": "c211a37086fd49bd8db4f82c3399fd03",
       "version_major": 2,
       "version_minor": 0
      },
      "text/plain": [
       "0it [00:00, ?it/s]"
      ]
     },
     "metadata": {},
     "output_type": "display_data"
    },
    {
     "data": {
      "text/html": [
       "\n",
       "    <div>\n",
       "      \n",
       "      <progress value='38200' max='38200' style='width:300px; height:20px; vertical-align: middle;'></progress>\n",
       "      [38200/38200 36:41, Epoch 8/8]\n",
       "    </div>\n",
       "    <table border=\"1\" class=\"dataframe\">\n",
       "  <thead>\n",
       " <tr style=\"text-align: left;\">\n",
       "      <th>Epoch</th>\n",
       "      <th>Training Loss</th>\n",
       "      <th>Validation Loss</th>\n",
       "      <th>Accuracy</th>\n",
       "      <th>Precision</th>\n",
       "      <th>Recall</th>\n",
       "      <th>F1</th>\n",
       "      <th>Precision Nonbully</th>\n",
       "      <th>Recall Nonbully</th>\n",
       "      <th>F1 Nonbully</th>\n",
       "      <th>Precision Harasser</th>\n",
       "      <th>Recall Harasser</th>\n",
       "      <th>F1 Harasser</th>\n",
       "      <th>Precision Victim</th>\n",
       "      <th>Recall Victim</th>\n",
       "      <th>F1 Victim</th>\n",
       "      <th>Precision Bydefender</th>\n",
       "      <th>Recall Bydefender</th>\n",
       "      <th>F1 Bydefender</th>\n",
       "    </tr>\n",
       "  </thead>\n",
       "  <tbody>\n",
       "    <tr>\n",
       "      <td>8</td>\n",
       "      <td>0.027200</td>\n",
       "      <td>0.222254</td>\n",
       "      <td>0.970601</td>\n",
       "      <td>0.688177</td>\n",
       "      <td>0.736262</td>\n",
       "      <td>0.706205</td>\n",
       "      <td>0.992527</td>\n",
       "      <td>0.981847</td>\n",
       "      <td>0.987158</td>\n",
       "      <td>0.637652</td>\n",
       "      <td>0.875000</td>\n",
       "      <td>0.737705</td>\n",
       "      <td>0.526786</td>\n",
       "      <td>0.437037</td>\n",
       "      <td>0.477733</td>\n",
       "      <td>0.595745</td>\n",
       "      <td>0.651163</td>\n",
       "      <td>0.622222</td>\n",
       "    </tr>\n",
       "  </tbody>\n",
       "</table><p>"
      ],
      "text/plain": [
       "<IPython.core.display.HTML object>"
      ]
     },
     "metadata": {},
     "output_type": "display_data"
    },
    {
     "name": "stderr",
     "output_type": "stream",
     "text": [
      "***** Running Evaluation *****\n",
      "  Num examples = 11225\n",
      "  Batch size = 8\n",
      "Saving model checkpoint to content/drive/MyDrive/output_DistilBert/holdout_test/checkpoint-38200\n",
      "Configuration saved in content/drive/MyDrive/output_DistilBert/holdout_test/checkpoint-38200/config.json\n",
      "Model weights saved in content/drive/MyDrive/output_DistilBert/holdout_test/checkpoint-38200/pytorch_model.bin\n",
      "\n",
      "\n",
      "Training completed. Do not forget to share your model on huggingface.co/models =)\n",
      "\n",
      "\n",
      "Loading best model from content/drive/MyDrive/output_DistilBert/holdout_test/checkpoint-4775 (score: 0.11331614851951599).\n"
     ]
    },
    {
     "name": "stdout",
     "output_type": "stream",
     "text": [
      "Complete for hold-out test set\n"
     ]
    }
   ],
   "source": [
    "run_hold_out_split(model_name='DistilBert',\n",
    "                       epoch=8,\n",
    "                       train_dataset=train_dataset,\n",
    "                       eval_dataset=val_dataset,\n",
    "                       checkpoint=True)"
   ]
  },
  {
   "cell_type": "markdown",
   "id": "66d4bebb-9c01-4093-b1ca-9308b4993ef6",
   "metadata": {
    "jp-MarkdownHeadingCollapsed": true,
    "tags": []
   },
   "source": [
    "#### Old Record"
   ]
  },
  {
   "cell_type": "code",
   "execution_count": 11,
   "id": "120ce111-2136-47c4-9b1e-9814a2f0c72e",
   "metadata": {},
   "outputs": [
    {
     "name": "stderr",
     "output_type": "stream",
     "text": [
      "PyTorch: setting up devices\n",
      "The default value for the training argument `--report_to` will change in v5 (from all installed integrations to none). In v5, you will need to use `--report_to all` to get the same behavior as now. You should start updating your code and make this info disappear :-).\n",
      "Loading model from content/drive/MyDrive/output_DistilBert/holdout_test/checkpoint-23875).\n"
     ]
    },
    {
     "name": "stdout",
     "output_type": "stream",
     "text": [
      "Developing Model with Hold Out Splits for: DistilBert\n"
     ]
    },
    {
     "name": "stderr",
     "output_type": "stream",
     "text": [
      "***** Running training *****\n",
      "  Num examples = 38200\n",
      "  Num Epochs = 8\n",
      "  Instantaneous batch size per device = 8\n",
      "  Total train batch size (w. parallel, distributed & accumulation) = 8\n",
      "  Gradient Accumulation steps = 1\n",
      "  Total optimization steps = 38200\n",
      "  Continuing training from checkpoint, will skip to saved global_step\n",
      "  Continuing training from epoch 5\n",
      "  Continuing training from global step 23875\n",
      "  Will skip the first 5 epochs then the first 0 batches in the first epoch. If this takes a lot of time, you can add the `--ignore_data_skip` flag to your launch command, but you will resume the training on data already seen by your model.\n"
     ]
    },
    {
     "data": {
      "application/vnd.jupyter.widget-view+json": {
       "model_id": "c9715b721d444ce697fd843ea4edd2cf",
       "version_major": 2,
       "version_minor": 0
      },
      "text/plain": [
       "0it [00:00, ?it/s]"
      ]
     },
     "metadata": {},
     "output_type": "display_data"
    },
    {
     "data": {
      "text/html": [
       "\n",
       "    <div>\n",
       "      \n",
       "      <progress value='38200' max='38200' style='width:300px; height:20px; vertical-align: middle;'></progress>\n",
       "      [38200/38200 52:34, Epoch 8/8]\n",
       "    </div>\n",
       "    <table border=\"1\" class=\"dataframe\">\n",
       "  <thead>\n",
       " <tr style=\"text-align: left;\">\n",
       "      <th>Epoch</th>\n",
       "      <th>Training Loss</th>\n",
       "      <th>Validation Loss</th>\n",
       "      <th>Accuracy</th>\n",
       "      <th>Precision</th>\n",
       "      <th>Recall</th>\n",
       "      <th>F1</th>\n",
       "      <th>Precision Nonbully</th>\n",
       "      <th>Recall Nonbully</th>\n",
       "      <th>F1 Nonbully</th>\n",
       "      <th>Precision Harasser</th>\n",
       "      <th>Recall Harasser</th>\n",
       "      <th>F1 Harasser</th>\n",
       "      <th>Precision Victim</th>\n",
       "      <th>Recall Victim</th>\n",
       "      <th>F1 Victim</th>\n",
       "      <th>Precision Bydefender</th>\n",
       "      <th>Recall Bydefender</th>\n",
       "      <th>F1 Bydefender</th>\n",
       "    </tr>\n",
       "  </thead>\n",
       "  <tbody>\n",
       "    <tr>\n",
       "      <td>6</td>\n",
       "      <td>0.044600</td>\n",
       "      <td>0.195073</td>\n",
       "      <td>0.967751</td>\n",
       "      <td>0.663804</td>\n",
       "      <td>0.731536</td>\n",
       "      <td>0.694274</td>\n",
       "      <td>0.991766</td>\n",
       "      <td>0.980537</td>\n",
       "      <td>0.986120</td>\n",
       "      <td>0.627706</td>\n",
       "      <td>0.805556</td>\n",
       "      <td>0.705596</td>\n",
       "      <td>0.440000</td>\n",
       "      <td>0.488889</td>\n",
       "      <td>0.463158</td>\n",
       "      <td>0.595745</td>\n",
       "      <td>0.651163</td>\n",
       "      <td>0.622222</td>\n",
       "    </tr>\n",
       "    <tr>\n",
       "      <td>7</td>\n",
       "      <td>0.033400</td>\n",
       "      <td>0.210882</td>\n",
       "      <td>0.969354</td>\n",
       "      <td>0.680809</td>\n",
       "      <td>0.697214</td>\n",
       "      <td>0.685611</td>\n",
       "      <td>0.990849</td>\n",
       "      <td>0.982783</td>\n",
       "      <td>0.986799</td>\n",
       "      <td>0.643016</td>\n",
       "      <td>0.805556</td>\n",
       "      <td>0.715166</td>\n",
       "      <td>0.478261</td>\n",
       "      <td>0.488889</td>\n",
       "      <td>0.483516</td>\n",
       "      <td>0.611111</td>\n",
       "      <td>0.511628</td>\n",
       "      <td>0.556962</td>\n",
       "    </tr>\n",
       "    <tr>\n",
       "      <td>8</td>\n",
       "      <td>0.033400</td>\n",
       "      <td>0.228369</td>\n",
       "      <td>0.968731</td>\n",
       "      <td>0.664368</td>\n",
       "      <td>0.726613</td>\n",
       "      <td>0.689819</td>\n",
       "      <td>0.991029</td>\n",
       "      <td>0.982034</td>\n",
       "      <td>0.986511</td>\n",
       "      <td>0.626350</td>\n",
       "      <td>0.805556</td>\n",
       "      <td>0.704739</td>\n",
       "      <td>0.512821</td>\n",
       "      <td>0.444444</td>\n",
       "      <td>0.476190</td>\n",
       "      <td>0.527273</td>\n",
       "      <td>0.674419</td>\n",
       "      <td>0.591837</td>\n",
       "    </tr>\n",
       "  </tbody>\n",
       "</table><p>"
      ],
      "text/plain": [
       "<IPython.core.display.HTML object>"
      ]
     },
     "metadata": {},
     "output_type": "display_data"
    },
    {
     "name": "stderr",
     "output_type": "stream",
     "text": [
      "***** Running Evaluation *****\n",
      "  Num examples = 11225\n",
      "  Batch size = 8\n",
      "Saving model checkpoint to content/drive/MyDrive/output_DistilBert/holdout_test/checkpoint-28650\n",
      "Configuration saved in content/drive/MyDrive/output_DistilBert/holdout_test/checkpoint-28650/config.json\n",
      "Model weights saved in content/drive/MyDrive/output_DistilBert/holdout_test/checkpoint-28650/pytorch_model.bin\n",
      "***** Running Evaluation *****\n",
      "  Num examples = 11225\n",
      "  Batch size = 8\n",
      "Saving model checkpoint to content/drive/MyDrive/output_DistilBert/holdout_test/checkpoint-33425\n",
      "Configuration saved in content/drive/MyDrive/output_DistilBert/holdout_test/checkpoint-33425/config.json\n",
      "Model weights saved in content/drive/MyDrive/output_DistilBert/holdout_test/checkpoint-33425/pytorch_model.bin\n",
      "***** Running Evaluation *****\n",
      "  Num examples = 11225\n",
      "  Batch size = 8\n",
      "Saving model checkpoint to content/drive/MyDrive/output_DistilBert/holdout_test/checkpoint-38200\n",
      "Configuration saved in content/drive/MyDrive/output_DistilBert/holdout_test/checkpoint-38200/config.json\n",
      "Model weights saved in content/drive/MyDrive/output_DistilBert/holdout_test/checkpoint-38200/pytorch_model.bin\n",
      "\n",
      "\n",
      "Training completed. Do not forget to share your model on huggingface.co/models =)\n",
      "\n",
      "\n",
      "Loading best model from content/drive/MyDrive/output_DistilBert/holdout_test/checkpoint-4775 (score: 0.13224035501480103).\n"
     ]
    },
    {
     "name": "stdout",
     "output_type": "stream",
     "text": [
      "Complete for hold-out test set\n"
     ]
    }
   ],
   "source": [
    "run_hold_out_split(model_name='DistilBert',\n",
    "                       epoch=8,\n",
    "                       train_dataset=train_dataset,\n",
    "                       eval_dataset=val_dataset,\n",
    "                       checkpoint=True)"
   ]
  },
  {
   "cell_type": "markdown",
   "id": "a7e53e3c-3a56-42c8-b9ff-6c45eb685544",
   "metadata": {
    "tags": []
   },
   "source": [
    "### Test Split Confusion Matrix"
   ]
  },
  {
   "cell_type": "code",
   "execution_count": 11,
   "id": "6JeiiXYzj3cE",
   "metadata": {
    "id": "6JeiiXYzj3cE"
   },
   "outputs": [],
   "source": [
    "###########################\n",
    "# Predict (Hold Out Test) #\n",
    "###########################\n",
    "\n",
    "from sklearn.metrics import confusion_matrix\n",
    "\n",
    "def compute_metrics_holdout(model_name='DistilBert',\n",
    "                            model_path='/content/drive/MyDrive/output_DistilBert/holdout/checkpoint-3820', \n",
    "                            average_method='macro',\n",
    "                            X_test=X_test):\n",
    "  \n",
    "    X_test_tokenized = tokenizer(X_test, padding=True, truncation=True, max_length=512)\n",
    "\n",
    "    # Create torch dataset\n",
    "    test_dataset = Dataset(X_test_tokenized)\n",
    "\n",
    "    # Load trained model\n",
    "    model_pred = AutoModelForSequenceClassification.from_pretrained(model_path, num_labels=4)\n",
    "\n",
    "    # Define test trainer\n",
    "    test_trainer = Trainer(model_pred)\n",
    "\n",
    "    # Make prediction\n",
    "    raw_pred, _, _ = test_trainer.predict(test_dataset)\n",
    "\n",
    "    # Preprocess raw predictions\n",
    "    y_pred = np.argmax(raw_pred, axis=1)\n",
    "\n",
    "    # Compute metrics\n",
    "    precision = precision_score(y_test, y_pred, average=average_method)\n",
    "    recall = recall_score(y_test, y_pred, average=average_method)\n",
    "    f1 = f1_score(y_test, y_pred, average=average_method)\n",
    "\n",
    "    precision0 = precision_score(y_test, y_pred, average=None)[0]\n",
    "    recall0 = recall_score(y_test, y_pred, average=None)[0]\n",
    "    f10 = f1_score(y_test, y_pred, average=None)[0]\n",
    "\n",
    "    precision1 = precision_score(y_test, y_pred, average=None)[1]\n",
    "    recall1 = recall_score(y_test, y_pred, average=None)[1]\n",
    "    f11 = f1_score(y_test, y_pred, average=None)[1]\n",
    "\n",
    "    precision2 = precision_score(y_test, y_pred, average=None)[2]\n",
    "    recall2 = recall_score(y_test, y_pred, average=None)[2]\n",
    "    f12 = f1_score(y_test, y_pred, average=None)[2]\n",
    "\n",
    "    precision3 = precision_score(y_test, y_pred, average=None)[3]\n",
    "    recall3 = recall_score(y_test, y_pred, average=None)[3]\n",
    "    f13 = f1_score(y_test, y_pred, average=None)[3]\n",
    "\n",
    "\n",
    "    # Print Results\n",
    "    print(\"Classification Report:\")\n",
    "    print(classification_report(y_test,y_pred))\n",
    "    print()\n",
    "    print(\"Macro Metrics:\")\n",
    "    print(\"Precision: \", precision)\n",
    "    print(\"Recall: \", recall)\n",
    "    print(\"F-measure: \", f1)\n",
    "    print()\n",
    "    print(\"Label 0: Non-bully\")\n",
    "    print(\"Precision: \", precision0)\n",
    "    print(\"Recall: \", recall0)\n",
    "    print(\"F-measure: \", f10)\n",
    "    print()\n",
    "    print(\"Label 1: Harasser\")\n",
    "    print(\"Precision: \", precision1)\n",
    "    print(\"Recall: \", recall1)\n",
    "    print(\"F-measure: \", f11)\n",
    "    print()\n",
    "    print(\"Label 2: Victim\")\n",
    "    print(\"Precision: \", precision2)\n",
    "    print(\"Recall: \", recall2)\n",
    "    print(\"F-measure: \", f12)\n",
    "    print()\n",
    "    print(\"Label 3: Bystander-defender\")\n",
    "    print(\"Precision: \", precision3)\n",
    "    print(\"Recall: \", recall3)\n",
    "    print(\"F-measure: \", f13)\n",
    "    print()\n",
    "\n",
    "    conf_mat = confusion_matrix(y_test,y_pred)\n",
    "    categories = ['Non-bully', 'Harasser','Victim','Bystander-defender']\n",
    "    labels = ['True Non-bully','','','',\n",
    "            '','True Harasser','','',\n",
    "            '','','True Victim','',\n",
    "            '','','','True Bystander-defender']\n",
    "    make_confusion_matrix(conf_mat, \n",
    "                        group_names=labels,\n",
    "                        categories=categories, \n",
    "                        figsize=(12,8), \n",
    "                        cbar=True, \n",
    "                        title='Fine Tuned' + model_name + ' for Participant Roles Identification', \n",
    "                        cmap='YlGnBu', \n",
    "                        sum_stats=False)\n"
   ]
  },
  {
   "cell_type": "markdown",
   "id": "0a59a0c1-3365-4b3f-90a4-04f21107cf2e",
   "metadata": {
    "id": "QDcKJB-xpELh",
    "tags": []
   },
   "source": [
    "#### Epoch 1"
   ]
  },
  {
   "cell_type": "code",
   "execution_count": 12,
   "id": "5ff75b1c-29f4-49ed-b087-35caa840b086",
   "metadata": {
    "id": "tVxy16Oqj4qa"
   },
   "outputs": [
    {
     "name": "stderr",
     "output_type": "stream",
     "text": [
      "loading configuration file content/drive/MyDrive/output_DistilBert/holdout_test/checkpoint-4775/config.json\n",
      "Model config DistilBertConfig {\n",
      "  \"_name_or_path\": \"content/drive/MyDrive/output_DistilBert/holdout_test/checkpoint-4775\",\n",
      "  \"activation\": \"gelu\",\n",
      "  \"architectures\": [\n",
      "    \"DistilBertForSequenceClassification\"\n",
      "  ],\n",
      "  \"attention_dropout\": 0.1,\n",
      "  \"dim\": 768,\n",
      "  \"dropout\": 0.1,\n",
      "  \"hidden_dim\": 3072,\n",
      "  \"id2label\": {\n",
      "    \"0\": \"LABEL_0\",\n",
      "    \"1\": \"LABEL_1\",\n",
      "    \"2\": \"LABEL_2\",\n",
      "    \"3\": \"LABEL_3\"\n",
      "  },\n",
      "  \"initializer_range\": 0.02,\n",
      "  \"label2id\": {\n",
      "    \"LABEL_0\": 0,\n",
      "    \"LABEL_1\": 1,\n",
      "    \"LABEL_2\": 2,\n",
      "    \"LABEL_3\": 3\n",
      "  },\n",
      "  \"max_position_embeddings\": 512,\n",
      "  \"model_type\": \"distilbert\",\n",
      "  \"n_heads\": 12,\n",
      "  \"n_layers\": 6,\n",
      "  \"pad_token_id\": 0,\n",
      "  \"problem_type\": \"single_label_classification\",\n",
      "  \"qa_dropout\": 0.1,\n",
      "  \"seq_classif_dropout\": 0.2,\n",
      "  \"sinusoidal_pos_embds\": false,\n",
      "  \"tie_weights_\": true,\n",
      "  \"torch_dtype\": \"float32\",\n",
      "  \"transformers_version\": \"4.18.0\",\n",
      "  \"vocab_size\": 30522\n",
      "}\n",
      "\n",
      "loading weights file content/drive/MyDrive/output_DistilBert/holdout_test/checkpoint-4775/pytorch_model.bin\n",
      "All model checkpoint weights were used when initializing DistilBertForSequenceClassification.\n",
      "\n",
      "All the weights of DistilBertForSequenceClassification were initialized from the model checkpoint at content/drive/MyDrive/output_DistilBert/holdout_test/checkpoint-4775.\n",
      "If your task is similar to the task the model of the checkpoint was trained on, you can already use DistilBertForSequenceClassification for predictions without further training.\n",
      "No `TrainingArguments` passed, using `output_dir=tmp_trainer`.\n",
      "PyTorch: setting up devices\n",
      "The default value for the training argument `--report_to` will change in v5 (from all installed integrations to none). In v5, you will need to use `--report_to all` to get the same behavior as now. You should start updating your code and make this info disappear :-).\n",
      "***** Running Prediction *****\n",
      "  Num examples = 11225\n",
      "  Batch size = 8\n"
     ]
    },
    {
     "data": {
      "text/html": [
       "\n",
       "    <div>\n",
       "      \n",
       "      <progress value='1404' max='1404' style='width:300px; height:20px; vertical-align: middle;'></progress>\n",
       "      [1404/1404 01:29]\n",
       "    </div>\n",
       "    "
      ],
      "text/plain": [
       "<IPython.core.display.HTML object>"
      ]
     },
     "metadata": {},
     "output_type": "display_data"
    },
    {
     "name": "stdout",
     "output_type": "stream",
     "text": [
      "Classification Report:\n",
      "              precision    recall  f1-score   support\n",
      "\n",
      "           0       0.99      0.99      0.99     10687\n",
      "           1       0.68      0.88      0.77       360\n",
      "           2       0.63      0.39      0.48       135\n",
      "           3       0.49      0.67      0.57        43\n",
      "\n",
      "    accuracy                           0.97     11225\n",
      "   macro avg       0.70      0.73      0.70     11225\n",
      "weighted avg       0.98      0.97      0.97     11225\n",
      "\n",
      "\n",
      "Macro Metrics:\n",
      "Precision:  0.6983080560445324\n",
      "Recall:  0.7301186184612392\n",
      "F-measure:  0.7004816229785841\n",
      "\n",
      "Label 0: Non-bully\n",
      "Precision:  0.9919035963095463\n",
      "Recall:  0.9858706840086086\n",
      "F-measure:  0.9888779388990567\n",
      "\n",
      "Label 1: Harasser\n",
      "Precision:  0.6832971800433839\n",
      "Recall:  0.875\n",
      "F-measure:  0.7673568818514007\n",
      "\n",
      "Label 2: Victim\n",
      "Precision:  0.6265060240963856\n",
      "Recall:  0.3851851851851852\n",
      "F-measure:  0.4770642201834863\n",
      "\n",
      "Label 3: Bystander-defender\n",
      "Precision:  0.4915254237288136\n",
      "Recall:  0.6744186046511628\n",
      "F-measure:  0.5686274509803922\n",
      "\n"
     ]
    },
    {
     "data": {
      "image/png": "[encoded data removed]",
      "text/plain": [
       "<Figure size 864x576 with 2 Axes>"
      ]
     },
     "metadata": {
      "needs_background": "light"
     },
     "output_type": "display_data"
    }
   ],
   "source": [
    "compute_metrics_holdout(model_name='DistilBert',\n",
    "                        model_path='content/drive/MyDrive/output_DistilBert/holdout_test/checkpoint-4775', \n",
    "                        average_method='macro',\n",
    "                        X_test=X_test)"
   ]
  },
  {
   "cell_type": "markdown",
   "id": "5abd8e9a-02a3-4a70-b110-aac54bdf6755",
   "metadata": {
    "id": "vHPsS5ygoKsl",
    "tags": []
   },
   "source": [
    "#### Epoch 2"
   ]
  },
  {
   "cell_type": "code",
   "execution_count": 13,
   "id": "8689b881-2fdb-41b1-abf7-0a9d46355893",
   "metadata": {
    "id": "jOxijXVBoKsm"
   },
   "outputs": [
    {
     "name": "stderr",
     "output_type": "stream",
     "text": [
      "loading configuration file content/drive/MyDrive/output_DistilBert/holdout_test/checkpoint-9550/config.json\n",
      "Model config DistilBertConfig {\n",
      "  \"_name_or_path\": \"content/drive/MyDrive/output_DistilBert/holdout_test/checkpoint-9550\",\n",
      "  \"activation\": \"gelu\",\n",
      "  \"architectures\": [\n",
      "    \"DistilBertForSequenceClassification\"\n",
      "  ],\n",
      "  \"attention_dropout\": 0.1,\n",
      "  \"dim\": 768,\n",
      "  \"dropout\": 0.1,\n",
      "  \"hidden_dim\": 3072,\n",
      "  \"id2label\": {\n",
      "    \"0\": \"LABEL_0\",\n",
      "    \"1\": \"LABEL_1\",\n",
      "    \"2\": \"LABEL_2\",\n",
      "    \"3\": \"LABEL_3\"\n",
      "  },\n",
      "  \"initializer_range\": 0.02,\n",
      "  \"label2id\": {\n",
      "    \"LABEL_0\": 0,\n",
      "    \"LABEL_1\": 1,\n",
      "    \"LABEL_2\": 2,\n",
      "    \"LABEL_3\": 3\n",
      "  },\n",
      "  \"max_position_embeddings\": 512,\n",
      "  \"model_type\": \"distilbert\",\n",
      "  \"n_heads\": 12,\n",
      "  \"n_layers\": 6,\n",
      "  \"pad_token_id\": 0,\n",
      "  \"problem_type\": \"single_label_classification\",\n",
      "  \"qa_dropout\": 0.1,\n",
      "  \"seq_classif_dropout\": 0.2,\n",
      "  \"sinusoidal_pos_embds\": false,\n",
      "  \"tie_weights_\": true,\n",
      "  \"torch_dtype\": \"float32\",\n",
      "  \"transformers_version\": \"4.18.0\",\n",
      "  \"vocab_size\": 30522\n",
      "}\n",
      "\n",
      "loading weights file content/drive/MyDrive/output_DistilBert/holdout_test/checkpoint-9550/pytorch_model.bin\n",
      "All model checkpoint weights were used when initializing DistilBertForSequenceClassification.\n",
      "\n",
      "All the weights of DistilBertForSequenceClassification were initialized from the model checkpoint at content/drive/MyDrive/output_DistilBert/holdout_test/checkpoint-9550.\n",
      "If your task is similar to the task the model of the checkpoint was trained on, you can already use DistilBertForSequenceClassification for predictions without further training.\n",
      "No `TrainingArguments` passed, using `output_dir=tmp_trainer`.\n",
      "PyTorch: setting up devices\n",
      "The default value for the training argument `--report_to` will change in v5 (from all installed integrations to none). In v5, you will need to use `--report_to all` to get the same behavior as now. You should start updating your code and make this info disappear :-).\n",
      "***** Running Prediction *****\n",
      "  Num examples = 11225\n",
      "  Batch size = 8\n"
     ]
    },
    {
     "data": {
      "text/html": [
       "\n",
       "    <div>\n",
       "      \n",
       "      <progress value='1404' max='1404' style='width:300px; height:20px; vertical-align: middle;'></progress>\n",
       "      [1404/1404 01:29]\n",
       "    </div>\n",
       "    "
      ],
      "text/plain": [
       "<IPython.core.display.HTML object>"
      ]
     },
     "metadata": {},
     "output_type": "display_data"
    },
    {
     "name": "stdout",
     "output_type": "stream",
     "text": [
      "Classification Report:\n",
      "              precision    recall  f1-score   support\n",
      "\n",
      "           0       0.99      0.98      0.99     10687\n",
      "           1       0.67      0.84      0.75       360\n",
      "           2       0.46      0.44      0.45       135\n",
      "           3       0.63      0.63      0.63        43\n",
      "\n",
      "    accuracy                           0.97     11225\n",
      "   macro avg       0.69      0.72      0.70     11225\n",
      "weighted avg       0.97      0.97      0.97     11225\n",
      "\n",
      "\n",
      "Macro Metrics:\n",
      "Precision:  0.6897995625631497\n",
      "Recall:  0.7227460545977964\n",
      "F-measure:  0.703869936643523\n",
      "\n",
      "Label 0: Non-bully\n",
      "Precision:  0.9918913822364699\n",
      "Recall:  0.9843735379432956\n",
      "F-measure:  0.9881181608979477\n",
      "\n",
      "Label 1: Harasser\n",
      "Precision:  0.6748329621380846\n",
      "Recall:  0.8416666666666667\n",
      "F-measure:  0.7490729295426451\n",
      "\n",
      "Label 2: Victim\n",
      "Precision:  0.4645669291338583\n",
      "Recall:  0.43703703703703706\n",
      "F-measure:  0.450381679389313\n",
      "\n",
      "Label 3: Bystander-defender\n",
      "Precision:  0.627906976744186\n",
      "Recall:  0.627906976744186\n",
      "F-measure:  0.627906976744186\n",
      "\n"
     ]
    },
    {
     "data": {
      "image/png": "[encoded data removed]",
      "text/plain": [
       "<Figure size 864x576 with 2 Axes>"
      ]
     },
     "metadata": {
      "needs_background": "light"
     },
     "output_type": "display_data"
    }
   ],
   "source": [
    "compute_metrics_holdout(model_name='DistilBert',\n",
    "                        model_path='content/drive/MyDrive/output_DistilBert/holdout_test/checkpoint-9550', \n",
    "                        average_method='macro',\n",
    "                        X_test=X_test)"
   ]
  },
  {
   "cell_type": "markdown",
   "id": "3bacfab7-db9a-4e2b-b7a4-4b2ac84506c4",
   "metadata": {
    "id": "b2vwnX1CoK65",
    "tags": []
   },
   "source": [
    "#### Epoch 3"
   ]
  },
  {
   "cell_type": "code",
   "execution_count": 14,
   "id": "f0fd9f55-79e9-4115-994c-0add79a958e0",
   "metadata": {
    "id": "oQRlv9GqoK65"
   },
   "outputs": [
    {
     "name": "stderr",
     "output_type": "stream",
     "text": [
      "loading configuration file content/drive/MyDrive/output_DistilBert/holdout_test/checkpoint-14325/config.json\n",
      "Model config DistilBertConfig {\n",
      "  \"_name_or_path\": \"content/drive/MyDrive/output_DistilBert/holdout_test/checkpoint-14325\",\n",
      "  \"activation\": \"gelu\",\n",
      "  \"architectures\": [\n",
      "    \"DistilBertForSequenceClassification\"\n",
      "  ],\n",
      "  \"attention_dropout\": 0.1,\n",
      "  \"dim\": 768,\n",
      "  \"dropout\": 0.1,\n",
      "  \"hidden_dim\": 3072,\n",
      "  \"id2label\": {\n",
      "    \"0\": \"LABEL_0\",\n",
      "    \"1\": \"LABEL_1\",\n",
      "    \"2\": \"LABEL_2\",\n",
      "    \"3\": \"LABEL_3\"\n",
      "  },\n",
      "  \"initializer_range\": 0.02,\n",
      "  \"label2id\": {\n",
      "    \"LABEL_0\": 0,\n",
      "    \"LABEL_1\": 1,\n",
      "    \"LABEL_2\": 2,\n",
      "    \"LABEL_3\": 3\n",
      "  },\n",
      "  \"max_position_embeddings\": 512,\n",
      "  \"model_type\": \"distilbert\",\n",
      "  \"n_heads\": 12,\n",
      "  \"n_layers\": 6,\n",
      "  \"pad_token_id\": 0,\n",
      "  \"problem_type\": \"single_label_classification\",\n",
      "  \"qa_dropout\": 0.1,\n",
      "  \"seq_classif_dropout\": 0.2,\n",
      "  \"sinusoidal_pos_embds\": false,\n",
      "  \"tie_weights_\": true,\n",
      "  \"torch_dtype\": \"float32\",\n",
      "  \"transformers_version\": \"4.18.0\",\n",
      "  \"vocab_size\": 30522\n",
      "}\n",
      "\n",
      "loading weights file content/drive/MyDrive/output_DistilBert/holdout_test/checkpoint-14325/pytorch_model.bin\n",
      "All model checkpoint weights were used when initializing DistilBertForSequenceClassification.\n",
      "\n",
      "All the weights of DistilBertForSequenceClassification were initialized from the model checkpoint at content/drive/MyDrive/output_DistilBert/holdout_test/checkpoint-14325.\n",
      "If your task is similar to the task the model of the checkpoint was trained on, you can already use DistilBertForSequenceClassification for predictions without further training.\n",
      "No `TrainingArguments` passed, using `output_dir=tmp_trainer`.\n",
      "PyTorch: setting up devices\n",
      "The default value for the training argument `--report_to` will change in v5 (from all installed integrations to none). In v5, you will need to use `--report_to all` to get the same behavior as now. You should start updating your code and make this info disappear :-).\n",
      "***** Running Prediction *****\n",
      "  Num examples = 11225\n",
      "  Batch size = 8\n"
     ]
    },
    {
     "data": {
      "text/html": [
       "\n",
       "    <div>\n",
       "      \n",
       "      <progress value='1404' max='1404' style='width:300px; height:20px; vertical-align: middle;'></progress>\n",
       "      [1404/1404 01:28]\n",
       "    </div>\n",
       "    "
      ],
      "text/plain": [
       "<IPython.core.display.HTML object>"
      ]
     },
     "metadata": {},
     "output_type": "display_data"
    },
    {
     "name": "stdout",
     "output_type": "stream",
     "text": [
      "Classification Report:\n",
      "              precision    recall  f1-score   support\n",
      "\n",
      "           0       0.99      0.98      0.99     10687\n",
      "           1       0.64      0.89      0.74       360\n",
      "           2       0.48      0.47      0.47       135\n",
      "           3       0.69      0.51      0.59        43\n",
      "\n",
      "    accuracy                           0.97     11225\n",
      "   macro avg       0.70      0.71      0.70     11225\n",
      "weighted avg       0.97      0.97      0.97     11225\n",
      "\n",
      "\n",
      "Macro Metrics:\n",
      "Precision:  0.6982819873121827\n",
      "Recall:  0.7113526610127159\n",
      "F-measure:  0.6964077935494375\n",
      "\n",
      "Label 0: Non-bully\n",
      "Precision:  0.9928970546453263\n",
      "Recall:  0.9810049592963414\n",
      "F-measure:  0.9869151840346418\n",
      "\n",
      "Label 1: Harasser\n",
      "Precision:  0.6354581673306773\n",
      "Recall:  0.8861111111111111\n",
      "F-measure:  0.7401392111368911\n",
      "\n",
      "Label 2: Victim\n",
      "Precision:  0.4772727272727273\n",
      "Recall:  0.4666666666666667\n",
      "F-measure:  0.4719101123595506\n",
      "\n",
      "Label 3: Bystander-defender\n",
      "Precision:  0.6875\n",
      "Recall:  0.5116279069767442\n",
      "F-measure:  0.5866666666666667\n",
      "\n"
     ]
    },
    {
     "data": {
      "image/png": "[encoded data removed]",
      "text/plain": [
       "<Figure size 864x576 with 2 Axes>"
      ]
     },
     "metadata": {
      "needs_background": "light"
     },
     "output_type": "display_data"
    }
   ],
   "source": [
    "compute_metrics_holdout(model_name='DistilBert',\n",
    "                        model_path='content/drive/MyDrive/output_DistilBert/holdout_test/checkpoint-14325', \n",
    "                        average_method='macro',\n",
    "                        X_test=X_test)"
   ]
  },
  {
   "cell_type": "markdown",
   "id": "45c11cf2-3e9c-434b-8cee-fdafb555b6b8",
   "metadata": {
    "id": "2i5rAbFSoLHp",
    "tags": []
   },
   "source": [
    "#### Epoch 4"
   ]
  },
  {
   "cell_type": "code",
   "execution_count": 15,
   "id": "7bad2279-960c-4533-8b8e-87b174a34d57",
   "metadata": {
    "id": "_dX4I2MGoLHp",
    "scrolled": false
   },
   "outputs": [
    {
     "name": "stderr",
     "output_type": "stream",
     "text": [
      "loading configuration file content/drive/MyDrive/output_DistilBert/holdout_test/checkpoint-19100/config.json\n",
      "Model config DistilBertConfig {\n",
      "  \"_name_or_path\": \"content/drive/MyDrive/output_DistilBert/holdout_test/checkpoint-19100\",\n",
      "  \"activation\": \"gelu\",\n",
      "  \"architectures\": [\n",
      "    \"DistilBertForSequenceClassification\"\n",
      "  ],\n",
      "  \"attention_dropout\": 0.1,\n",
      "  \"dim\": 768,\n",
      "  \"dropout\": 0.1,\n",
      "  \"hidden_dim\": 3072,\n",
      "  \"id2label\": {\n",
      "    \"0\": \"LABEL_0\",\n",
      "    \"1\": \"LABEL_1\",\n",
      "    \"2\": \"LABEL_2\",\n",
      "    \"3\": \"LABEL_3\"\n",
      "  },\n",
      "  \"initializer_range\": 0.02,\n",
      "  \"label2id\": {\n",
      "    \"LABEL_0\": 0,\n",
      "    \"LABEL_1\": 1,\n",
      "    \"LABEL_2\": 2,\n",
      "    \"LABEL_3\": 3\n",
      "  },\n",
      "  \"max_position_embeddings\": 512,\n",
      "  \"model_type\": \"distilbert\",\n",
      "  \"n_heads\": 12,\n",
      "  \"n_layers\": 6,\n",
      "  \"pad_token_id\": 0,\n",
      "  \"problem_type\": \"single_label_classification\",\n",
      "  \"qa_dropout\": 0.1,\n",
      "  \"seq_classif_dropout\": 0.2,\n",
      "  \"sinusoidal_pos_embds\": false,\n",
      "  \"tie_weights_\": true,\n",
      "  \"torch_dtype\": \"float32\",\n",
      "  \"transformers_version\": \"4.18.0\",\n",
      "  \"vocab_size\": 30522\n",
      "}\n",
      "\n",
      "loading weights file content/drive/MyDrive/output_DistilBert/holdout_test/checkpoint-19100/pytorch_model.bin\n",
      "All model checkpoint weights were used when initializing DistilBertForSequenceClassification.\n",
      "\n",
      "All the weights of DistilBertForSequenceClassification were initialized from the model checkpoint at content/drive/MyDrive/output_DistilBert/holdout_test/checkpoint-19100.\n",
      "If your task is similar to the task the model of the checkpoint was trained on, you can already use DistilBertForSequenceClassification for predictions without further training.\n",
      "No `TrainingArguments` passed, using `output_dir=tmp_trainer`.\n",
      "PyTorch: setting up devices\n",
      "The default value for the training argument `--report_to` will change in v5 (from all installed integrations to none). In v5, you will need to use `--report_to all` to get the same behavior as now. You should start updating your code and make this info disappear :-).\n",
      "***** Running Prediction *****\n",
      "  Num examples = 11225\n",
      "  Batch size = 8\n"
     ]
    },
    {
     "data": {
      "text/html": [
       "\n",
       "    <div>\n",
       "      \n",
       "      <progress value='1404' max='1404' style='width:300px; height:20px; vertical-align: middle;'></progress>\n",
       "      [1404/1404 01:28]\n",
       "    </div>\n",
       "    "
      ],
      "text/plain": [
       "<IPython.core.display.HTML object>"
      ]
     },
     "metadata": {},
     "output_type": "display_data"
    },
    {
     "name": "stdout",
     "output_type": "stream",
     "text": [
      "Classification Report:\n",
      "              precision    recall  f1-score   support\n",
      "\n",
      "           0       0.99      0.99      0.99     10687\n",
      "           1       0.70      0.84      0.76       360\n",
      "           2       0.50      0.44      0.46       135\n",
      "           3       0.59      0.63      0.61        43\n",
      "\n",
      "    accuracy                           0.97     11225\n",
      "   macro avg       0.69      0.72      0.71     11225\n",
      "weighted avg       0.97      0.97      0.97     11225\n",
      "\n",
      "\n",
      "Macro Metrics:\n",
      "Precision:  0.6930163242142452\n",
      "Recall:  0.7230267694850425\n",
      "F-measure:  0.7057124182896273\n",
      "\n",
      "Label 0: Non-bully\n",
      "Precision:  0.9911537737624694\n",
      "Recall:  0.9854963974922804\n",
      "F-measure:  0.9883169896307418\n",
      "\n",
      "Label 1: Harasser\n",
      "Precision:  0.6981566820276498\n",
      "Recall:  0.8416666666666667\n",
      "F-measure:  0.7632241813602015\n",
      "\n",
      "Label 2: Victim\n",
      "Precision:  0.4957983193277311\n",
      "Recall:  0.43703703703703706\n",
      "F-measure:  0.4645669291338583\n",
      "\n",
      "Label 3: Bystander-defender\n",
      "Precision:  0.5869565217391305\n",
      "Recall:  0.627906976744186\n",
      "F-measure:  0.6067415730337078\n",
      "\n"
     ]
    },
    {
     "data": {
      "image/png": "[encoded data removed]",
      "text/plain": [
       "<Figure size 864x576 with 2 Axes>"
      ]
     },
     "metadata": {
      "needs_background": "light"
     },
     "output_type": "display_data"
    }
   ],
   "source": [
    "compute_metrics_holdout(model_name='DistilBert',\n",
    "                        model_path='content/drive/MyDrive/output_DistilBert/holdout_test/checkpoint-19100', \n",
    "                        average_method='macro',\n",
    "                        X_test=X_test)"
   ]
  },
  {
   "cell_type": "markdown",
   "id": "2ae39263-a7ee-4748-90b2-9a05ff1363cd",
   "metadata": {
    "id": "SYBy_9KLoLWP",
    "tags": []
   },
   "source": [
    "#### Epoch 5"
   ]
  },
  {
   "cell_type": "code",
   "execution_count": 16,
   "id": "0a81fa5b-28fe-4ff2-b354-d1e5a91d6478",
   "metadata": {
    "id": "wpGHwymKoLWP"
   },
   "outputs": [
    {
     "name": "stderr",
     "output_type": "stream",
     "text": [
      "loading configuration file content/drive/MyDrive/output_DistilBert/holdout_test/checkpoint-23875/config.json\n",
      "Model config DistilBertConfig {\n",
      "  \"_name_or_path\": \"content/drive/MyDrive/output_DistilBert/holdout_test/checkpoint-23875\",\n",
      "  \"activation\": \"gelu\",\n",
      "  \"architectures\": [\n",
      "    \"DistilBertForSequenceClassification\"\n",
      "  ],\n",
      "  \"attention_dropout\": 0.1,\n",
      "  \"dim\": 768,\n",
      "  \"dropout\": 0.1,\n",
      "  \"hidden_dim\": 3072,\n",
      "  \"id2label\": {\n",
      "    \"0\": \"LABEL_0\",\n",
      "    \"1\": \"LABEL_1\",\n",
      "    \"2\": \"LABEL_2\",\n",
      "    \"3\": \"LABEL_3\"\n",
      "  },\n",
      "  \"initializer_range\": 0.02,\n",
      "  \"label2id\": {\n",
      "    \"LABEL_0\": 0,\n",
      "    \"LABEL_1\": 1,\n",
      "    \"LABEL_2\": 2,\n",
      "    \"LABEL_3\": 3\n",
      "  },\n",
      "  \"max_position_embeddings\": 512,\n",
      "  \"model_type\": \"distilbert\",\n",
      "  \"n_heads\": 12,\n",
      "  \"n_layers\": 6,\n",
      "  \"pad_token_id\": 0,\n",
      "  \"problem_type\": \"single_label_classification\",\n",
      "  \"qa_dropout\": 0.1,\n",
      "  \"seq_classif_dropout\": 0.2,\n",
      "  \"sinusoidal_pos_embds\": false,\n",
      "  \"tie_weights_\": true,\n",
      "  \"torch_dtype\": \"float32\",\n",
      "  \"transformers_version\": \"4.18.0\",\n",
      "  \"vocab_size\": 30522\n",
      "}\n",
      "\n",
      "loading weights file content/drive/MyDrive/output_DistilBert/holdout_test/checkpoint-23875/pytorch_model.bin\n",
      "All model checkpoint weights were used when initializing DistilBertForSequenceClassification.\n",
      "\n",
      "All the weights of DistilBertForSequenceClassification were initialized from the model checkpoint at content/drive/MyDrive/output_DistilBert/holdout_test/checkpoint-23875.\n",
      "If your task is similar to the task the model of the checkpoint was trained on, you can already use DistilBertForSequenceClassification for predictions without further training.\n",
      "No `TrainingArguments` passed, using `output_dir=tmp_trainer`.\n",
      "PyTorch: setting up devices\n",
      "The default value for the training argument `--report_to` will change in v5 (from all installed integrations to none). In v5, you will need to use `--report_to all` to get the same behavior as now. You should start updating your code and make this info disappear :-).\n",
      "***** Running Prediction *****\n",
      "  Num examples = 11225\n",
      "  Batch size = 8\n"
     ]
    },
    {
     "data": {
      "text/html": [
       "\n",
       "    <div>\n",
       "      \n",
       "      <progress value='1404' max='1404' style='width:300px; height:20px; vertical-align: middle;'></progress>\n",
       "      [1404/1404 01:28]\n",
       "    </div>\n",
       "    "
      ],
      "text/plain": [
       "<IPython.core.display.HTML object>"
      ]
     },
     "metadata": {},
     "output_type": "display_data"
    },
    {
     "name": "stdout",
     "output_type": "stream",
     "text": [
      "Classification Report:\n",
      "              precision    recall  f1-score   support\n",
      "\n",
      "           0       0.99      0.98      0.99     10687\n",
      "           1       0.67      0.83      0.74       360\n",
      "           2       0.37      0.56      0.45       135\n",
      "           3       0.55      0.60      0.58        43\n",
      "\n",
      "    accuracy                           0.97     11225\n",
      "   macro avg       0.65      0.74      0.69     11225\n",
      "weighted avg       0.97      0.97      0.97     11225\n",
      "\n",
      "\n",
      "Macro Metrics:\n",
      "Precision:  0.64564942911166\n",
      "Recall:  0.7440216942114624\n",
      "F-measure:  0.6872641688474709\n",
      "\n",
      "Label 0: Non-bully\n",
      "Precision:  0.9930634739642722\n",
      "Recall:  0.9779170955366333\n",
      "F-measure:  0.9854320871246053\n",
      "\n",
      "Label 1: Harasser\n",
      "Precision:  0.6674107142857143\n",
      "Recall:  0.8305555555555556\n",
      "F-measure:  0.7400990099009901\n",
      "\n",
      "Label 2: Victim\n",
      "Precision:  0.36893203883495146\n",
      "Recall:  0.562962962962963\n",
      "F-measure:  0.4457478005865103\n",
      "\n",
      "Label 3: Bystander-defender\n",
      "Precision:  0.5531914893617021\n",
      "Recall:  0.6046511627906976\n",
      "F-measure:  0.5777777777777778\n",
      "\n"
     ]
    },
    {
     "data": {
      "image/png": "[encoded data removed]",
      "text/plain": [
       "<Figure size 864x576 with 2 Axes>"
      ]
     },
     "metadata": {
      "needs_background": "light"
     },
     "output_type": "display_data"
    }
   ],
   "source": [
    "compute_metrics_holdout(model_name='DistilBert',\n",
    "                        model_path='content/drive/MyDrive/output_DistilBert/holdout_test/checkpoint-23875', \n",
    "                        average_method='macro',\n",
    "                        X_test=X_test)"
   ]
  },
  {
   "cell_type": "markdown",
   "id": "7013584b-ac29-4af7-8a2b-fbd8fa5920e9",
   "metadata": {
    "id": "Cu90yLCeoLkg",
    "tags": []
   },
   "source": [
    "#### Epoch 6"
   ]
  },
  {
   "cell_type": "code",
   "execution_count": 17,
   "id": "27f7a31e-9aa9-4b32-b735-86ddf4d3b2a0",
   "metadata": {
    "id": "aYM9zqSioLkg"
   },
   "outputs": [
    {
     "name": "stderr",
     "output_type": "stream",
     "text": [
      "loading configuration file content/drive/MyDrive/output_DistilBert/holdout_test/checkpoint-28650/config.json\n",
      "Model config DistilBertConfig {\n",
      "  \"_name_or_path\": \"content/drive/MyDrive/output_DistilBert/holdout_test/checkpoint-28650\",\n",
      "  \"activation\": \"gelu\",\n",
      "  \"architectures\": [\n",
      "    \"DistilBertForSequenceClassification\"\n",
      "  ],\n",
      "  \"attention_dropout\": 0.1,\n",
      "  \"dim\": 768,\n",
      "  \"dropout\": 0.1,\n",
      "  \"hidden_dim\": 3072,\n",
      "  \"id2label\": {\n",
      "    \"0\": \"LABEL_0\",\n",
      "    \"1\": \"LABEL_1\",\n",
      "    \"2\": \"LABEL_2\",\n",
      "    \"3\": \"LABEL_3\"\n",
      "  },\n",
      "  \"initializer_range\": 0.02,\n",
      "  \"label2id\": {\n",
      "    \"LABEL_0\": 0,\n",
      "    \"LABEL_1\": 1,\n",
      "    \"LABEL_2\": 2,\n",
      "    \"LABEL_3\": 3\n",
      "  },\n",
      "  \"max_position_embeddings\": 512,\n",
      "  \"model_type\": \"distilbert\",\n",
      "  \"n_heads\": 12,\n",
      "  \"n_layers\": 6,\n",
      "  \"pad_token_id\": 0,\n",
      "  \"problem_type\": \"single_label_classification\",\n",
      "  \"qa_dropout\": 0.1,\n",
      "  \"seq_classif_dropout\": 0.2,\n",
      "  \"sinusoidal_pos_embds\": false,\n",
      "  \"tie_weights_\": true,\n",
      "  \"torch_dtype\": \"float32\",\n",
      "  \"transformers_version\": \"4.18.0\",\n",
      "  \"vocab_size\": 30522\n",
      "}\n",
      "\n",
      "loading weights file content/drive/MyDrive/output_DistilBert/holdout_test/checkpoint-28650/pytorch_model.bin\n",
      "All model checkpoint weights were used when initializing DistilBertForSequenceClassification.\n",
      "\n",
      "All the weights of DistilBertForSequenceClassification were initialized from the model checkpoint at content/drive/MyDrive/output_DistilBert/holdout_test/checkpoint-28650.\n",
      "If your task is similar to the task the model of the checkpoint was trained on, you can already use DistilBertForSequenceClassification for predictions without further training.\n",
      "No `TrainingArguments` passed, using `output_dir=tmp_trainer`.\n",
      "PyTorch: setting up devices\n",
      "The default value for the training argument `--report_to` will change in v5 (from all installed integrations to none). In v5, you will need to use `--report_to all` to get the same behavior as now. You should start updating your code and make this info disappear :-).\n",
      "***** Running Prediction *****\n",
      "  Num examples = 11225\n",
      "  Batch size = 8\n"
     ]
    },
    {
     "data": {
      "text/html": [
       "\n",
       "    <div>\n",
       "      \n",
       "      <progress value='1404' max='1404' style='width:300px; height:20px; vertical-align: middle;'></progress>\n",
       "      [1404/1404 01:37]\n",
       "    </div>\n",
       "    "
      ],
      "text/plain": [
       "<IPython.core.display.HTML object>"
      ]
     },
     "metadata": {},
     "output_type": "display_data"
    },
    {
     "name": "stdout",
     "output_type": "stream",
     "text": [
      "Classification Report:\n",
      "              precision    recall  f1-score   support\n",
      "\n",
      "           0       0.99      0.98      0.99     10687\n",
      "           1       0.63      0.84      0.72       360\n",
      "           2       0.54      0.43      0.48       135\n",
      "           3       0.57      0.65      0.61        43\n",
      "\n",
      "    accuracy                           0.97     11225\n",
      "   macro avg       0.68      0.73      0.70     11225\n",
      "weighted avg       0.97      0.97      0.97     11225\n",
      "\n",
      "\n",
      "Macro Metrics:\n",
      "Precision:  0.6844356924312556\n",
      "Recall:  0.7262870839034472\n",
      "F-measure:  0.6993730443877224\n",
      "\n",
      "Label 0: Non-bully\n",
      "Precision:  0.9916902738432484\n",
      "Recall:  0.9826892486198184\n",
      "F-measure:  0.987169243784368\n",
      "\n",
      "Label 1: Harasser\n",
      "Precision:  0.6325678496868476\n",
      "Recall:  0.8416666666666667\n",
      "F-measure:  0.7222884386174018\n",
      "\n",
      "Label 2: Victim\n",
      "Precision:  0.5420560747663551\n",
      "Recall:  0.42962962962962964\n",
      "F-measure:  0.47933884297520657\n",
      "\n",
      "Label 3: Bystander-defender\n",
      "Precision:  0.5714285714285714\n",
      "Recall:  0.6511627906976745\n",
      "F-measure:  0.6086956521739131\n",
      "\n"
     ]
    },
    {
     "data": {
      "image/png": "[encoded data removed]",
      "text/plain": [
       "<Figure size 864x576 with 2 Axes>"
      ]
     },
     "metadata": {
      "needs_background": "light"
     },
     "output_type": "display_data"
    }
   ],
   "source": [
    "compute_metrics_holdout(model_name='DistilBert',\n",
    "                        model_path='content/drive/MyDrive/output_DistilBert/holdout_test/checkpoint-28650', \n",
    "                        average_method='macro',\n",
    "                        X_test=X_test)"
   ]
  },
  {
   "cell_type": "markdown",
   "id": "9fdc1505-9d0b-4d70-bded-f11a3b96e00b",
   "metadata": {
    "id": "OK-hp0pSoLyC",
    "tags": []
   },
   "source": [
    "#### Epoch 7"
   ]
  },
  {
   "cell_type": "code",
   "execution_count": 18,
   "id": "0699fb14-3a6c-4cab-876e-1aae35487dfc",
   "metadata": {
    "id": "dQ9nE9xBoLyC"
   },
   "outputs": [
    {
     "name": "stderr",
     "output_type": "stream",
     "text": [
      "loading configuration file content/drive/MyDrive/output_DistilBert/holdout_test/checkpoint-33425/config.json\n",
      "Model config DistilBertConfig {\n",
      "  \"_name_or_path\": \"content/drive/MyDrive/output_DistilBert/holdout_test/checkpoint-33425\",\n",
      "  \"activation\": \"gelu\",\n",
      "  \"architectures\": [\n",
      "    \"DistilBertForSequenceClassification\"\n",
      "  ],\n",
      "  \"attention_dropout\": 0.1,\n",
      "  \"dim\": 768,\n",
      "  \"dropout\": 0.1,\n",
      "  \"hidden_dim\": 3072,\n",
      "  \"id2label\": {\n",
      "    \"0\": \"LABEL_0\",\n",
      "    \"1\": \"LABEL_1\",\n",
      "    \"2\": \"LABEL_2\",\n",
      "    \"3\": \"LABEL_3\"\n",
      "  },\n",
      "  \"initializer_range\": 0.02,\n",
      "  \"label2id\": {\n",
      "    \"LABEL_0\": 0,\n",
      "    \"LABEL_1\": 1,\n",
      "    \"LABEL_2\": 2,\n",
      "    \"LABEL_3\": 3\n",
      "  },\n",
      "  \"max_position_embeddings\": 512,\n",
      "  \"model_type\": \"distilbert\",\n",
      "  \"n_heads\": 12,\n",
      "  \"n_layers\": 6,\n",
      "  \"pad_token_id\": 0,\n",
      "  \"problem_type\": \"single_label_classification\",\n",
      "  \"qa_dropout\": 0.1,\n",
      "  \"seq_classif_dropout\": 0.2,\n",
      "  \"sinusoidal_pos_embds\": false,\n",
      "  \"tie_weights_\": true,\n",
      "  \"torch_dtype\": \"float32\",\n",
      "  \"transformers_version\": \"4.18.0\",\n",
      "  \"vocab_size\": 30522\n",
      "}\n",
      "\n",
      "loading weights file content/drive/MyDrive/output_DistilBert/holdout_test/checkpoint-33425/pytorch_model.bin\n",
      "All model checkpoint weights were used when initializing DistilBertForSequenceClassification.\n",
      "\n",
      "All the weights of DistilBertForSequenceClassification were initialized from the model checkpoint at content/drive/MyDrive/output_DistilBert/holdout_test/checkpoint-33425.\n",
      "If your task is similar to the task the model of the checkpoint was trained on, you can already use DistilBertForSequenceClassification for predictions without further training.\n",
      "No `TrainingArguments` passed, using `output_dir=tmp_trainer`.\n",
      "PyTorch: setting up devices\n",
      "The default value for the training argument `--report_to` will change in v5 (from all installed integrations to none). In v5, you will need to use `--report_to all` to get the same behavior as now. You should start updating your code and make this info disappear :-).\n",
      "***** Running Prediction *****\n",
      "  Num examples = 11225\n",
      "  Batch size = 8\n"
     ]
    },
    {
     "data": {
      "text/html": [
       "\n",
       "    <div>\n",
       "      \n",
       "      <progress value='1404' max='1404' style='width:300px; height:20px; vertical-align: middle;'></progress>\n",
       "      [1404/1404 01:30]\n",
       "    </div>\n",
       "    "
      ],
      "text/plain": [
       "<IPython.core.display.HTML object>"
      ]
     },
     "metadata": {},
     "output_type": "display_data"
    },
    {
     "name": "stdout",
     "output_type": "stream",
     "text": [
      "Classification Report:\n",
      "              precision    recall  f1-score   support\n",
      "\n",
      "           0       0.99      0.98      0.99     10687\n",
      "           1       0.64      0.85      0.73       360\n",
      "           2       0.51      0.46      0.48       135\n",
      "           3       0.61      0.58      0.60        43\n",
      "\n",
      "    accuracy                           0.97     11225\n",
      "   macro avg       0.69      0.72      0.70     11225\n",
      "weighted avg       0.97      0.97      0.97     11225\n",
      "\n",
      "\n",
      "Macro Metrics:\n",
      "Precision:  0.6896074521145235\n",
      "Recall:  0.7183827499936128\n",
      "F-measure:  0.6999993214322572\n",
      "\n",
      "Label 0: Non-bully\n",
      "Precision:  0.9920664903664526\n",
      "Recall:  0.9828763918779826\n",
      "F-measure:  0.9874500587544065\n",
      "\n",
      "Label 1: Harasser\n",
      "Precision:  0.6442105263157895\n",
      "Recall:  0.85\n",
      "F-measure:  0.732934131736527\n",
      "\n",
      "Label 2: Victim\n",
      "Precision:  0.512396694214876\n",
      "Recall:  0.45925925925925926\n",
      "F-measure:  0.48437499999999994\n",
      "\n",
      "Label 3: Bystander-defender\n",
      "Precision:  0.6097560975609756\n",
      "Recall:  0.5813953488372093\n",
      "F-measure:  0.5952380952380952\n",
      "\n"
     ]
    },
    {
     "data": {
      "image/png": "[encoded data removed]",
      "text/plain": [
       "<Figure size 864x576 with 2 Axes>"
      ]
     },
     "metadata": {
      "needs_background": "light"
     },
     "output_type": "display_data"
    }
   ],
   "source": [
    "compute_metrics_holdout(model_name='DistilBert',\n",
    "                        model_path='content/drive/MyDrive/output_DistilBert/holdout_test/checkpoint-33425', \n",
    "                        average_method='macro',\n",
    "                        X_test=X_test)"
   ]
  },
  {
   "cell_type": "markdown",
   "id": "e7ab55ac-145d-41a2-86c3-4280e0b4435a",
   "metadata": {
    "id": "JIrTxiy0oL_9",
    "tags": []
   },
   "source": [
    "#### Epoch 8"
   ]
  },
  {
   "cell_type": "code",
   "execution_count": 19,
   "id": "2ab6e26a-479b-4dd8-b4b2-d5ec86fe5938",
   "metadata": {},
   "outputs": [
    {
     "name": "stderr",
     "output_type": "stream",
     "text": [
      "loading configuration file content/drive/MyDrive/output_DistilBert/holdout_test/checkpoint-38200/config.json\n",
      "Model config DistilBertConfig {\n",
      "  \"_name_or_path\": \"content/drive/MyDrive/output_DistilBert/holdout_test/checkpoint-38200\",\n",
      "  \"activation\": \"gelu\",\n",
      "  \"architectures\": [\n",
      "    \"DistilBertForSequenceClassification\"\n",
      "  ],\n",
      "  \"attention_dropout\": 0.1,\n",
      "  \"dim\": 768,\n",
      "  \"dropout\": 0.1,\n",
      "  \"hidden_dim\": 3072,\n",
      "  \"id2label\": {\n",
      "    \"0\": \"LABEL_0\",\n",
      "    \"1\": \"LABEL_1\",\n",
      "    \"2\": \"LABEL_2\",\n",
      "    \"3\": \"LABEL_3\"\n",
      "  },\n",
      "  \"initializer_range\": 0.02,\n",
      "  \"label2id\": {\n",
      "    \"LABEL_0\": 0,\n",
      "    \"LABEL_1\": 1,\n",
      "    \"LABEL_2\": 2,\n",
      "    \"LABEL_3\": 3\n",
      "  },\n",
      "  \"max_position_embeddings\": 512,\n",
      "  \"model_type\": \"distilbert\",\n",
      "  \"n_heads\": 12,\n",
      "  \"n_layers\": 6,\n",
      "  \"pad_token_id\": 0,\n",
      "  \"problem_type\": \"single_label_classification\",\n",
      "  \"qa_dropout\": 0.1,\n",
      "  \"seq_classif_dropout\": 0.2,\n",
      "  \"sinusoidal_pos_embds\": false,\n",
      "  \"tie_weights_\": true,\n",
      "  \"torch_dtype\": \"float32\",\n",
      "  \"transformers_version\": \"4.18.0\",\n",
      "  \"vocab_size\": 30522\n",
      "}\n",
      "\n",
      "loading weights file content/drive/MyDrive/output_DistilBert/holdout_test/checkpoint-38200/pytorch_model.bin\n",
      "All model checkpoint weights were used when initializing DistilBertForSequenceClassification.\n",
      "\n",
      "All the weights of DistilBertForSequenceClassification were initialized from the model checkpoint at content/drive/MyDrive/output_DistilBert/holdout_test/checkpoint-38200.\n",
      "If your task is similar to the task the model of the checkpoint was trained on, you can already use DistilBertForSequenceClassification for predictions without further training.\n",
      "No `TrainingArguments` passed, using `output_dir=tmp_trainer`.\n",
      "PyTorch: setting up devices\n",
      "The default value for the training argument `--report_to` will change in v5 (from all installed integrations to none). In v5, you will need to use `--report_to all` to get the same behavior as now. You should start updating your code and make this info disappear :-).\n",
      "***** Running Prediction *****\n",
      "  Num examples = 11225\n",
      "  Batch size = 8\n"
     ]
    },
    {
     "data": {
      "text/html": [
       "\n",
       "    <div>\n",
       "      \n",
       "      <progress value='1404' max='1404' style='width:300px; height:20px; vertical-align: middle;'></progress>\n",
       "      [1404/1404 01:29]\n",
       "    </div>\n",
       "    "
      ],
      "text/plain": [
       "<IPython.core.display.HTML object>"
      ]
     },
     "metadata": {},
     "output_type": "display_data"
    },
    {
     "name": "stdout",
     "output_type": "stream",
     "text": [
      "Classification Report:\n",
      "              precision    recall  f1-score   support\n",
      "\n",
      "           0       0.99      0.98      0.99     10687\n",
      "           1       0.64      0.88      0.74       360\n",
      "           2       0.53      0.44      0.48       135\n",
      "           3       0.60      0.65      0.62        43\n",
      "\n",
      "    accuracy                           0.97     11225\n",
      "   macro avg       0.69      0.74      0.71     11225\n",
      "weighted avg       0.97      0.97      0.97     11225\n",
      "\n",
      "\n",
      "Macro Metrics:\n",
      "Precision:  0.6881774119872012\n",
      "Recall:  0.736261732923198\n",
      "F-measure:  0.7062045784393801\n",
      "\n",
      "Label 0: Non-bully\n",
      "Precision:  0.9925274309496784\n",
      "Recall:  0.98184710395808\n",
      "F-measure:  0.9871583799802437\n",
      "\n",
      "Label 1: Harasser\n",
      "Precision:  0.6376518218623481\n",
      "Recall:  0.875\n",
      "F-measure:  0.7377049180327869\n",
      "\n",
      "Label 2: Victim\n",
      "Precision:  0.5267857142857143\n",
      "Recall:  0.43703703703703706\n",
      "F-measure:  0.4777327935222673\n",
      "\n",
      "Label 3: Bystander-defender\n",
      "Precision:  0.5957446808510638\n",
      "Recall:  0.6511627906976745\n",
      "F-measure:  0.6222222222222222\n",
      "\n"
     ]
    },
    {
     "data": {
      "image/png": "[encoded data removed]",
      "text/plain": [
       "<Figure size 864x576 with 2 Axes>"
      ]
     },
     "metadata": {
      "needs_background": "light"
     },
     "output_type": "display_data"
    }
   ],
   "source": [
    "compute_metrics_holdout(model_name='DistilBert',\n",
    "                        model_path='content/drive/MyDrive/output_DistilBert/holdout_test/checkpoint-38200', \n",
    "                        average_method='macro',\n",
    "                        X_test=X_test)"
   ]
  }
 ],
 "metadata": {
  "accelerator": "GPU",
  "colab": {
   "collapsed_sections": [
    "QDcKJB-xpELh",
    "vHPsS5ygoKsl",
    "b2vwnX1CoK65",
    "2i5rAbFSoLHp",
    "SYBy_9KLoLWP",
    "Cu90yLCeoLkg",
    "OK-hp0pSoLyC",
    "JIrTxiy0oL_9",
    "IQV79SfdoMNk",
    "U8k35H3XoMZ6",
    "thmj2fO9opmo",
    "NA9L5rR1oupA",
    "KSAu4IZKou1F",
    "fXix2ZxJovAV",
    "IIlNer1novK0",
    "KBLqUiQ1ovVZ",
    "L7EmY1j1ovfu",
    "4z8pT4GNovqG",
    "kNI_yrqsov0D",
    "lzcPyw53ov-h"
   ],
   "name": "Fine Tune Transformers from HuggingFace - Distilbert (Participant Role Sample).ipynb",
   "provenance": []
  },
  "kernelspec": {
   "display_name": "Python 3 (ipykernel)",
   "language": "python",
   "name": "python3"
  },
  "language_info": {
   "codemirror_mode": {
    "name": "ipython",
    "version": 3
   },
   "file_extension": ".py",
   "mimetype": "text/x-python",
   "name": "python",
   "nbconvert_exporter": "python",
   "pygments_lexer": "ipython3",
   "version": "3.9.7"
  }
 },
 "nbformat": 4,
 "nbformat_minor": 5
}
