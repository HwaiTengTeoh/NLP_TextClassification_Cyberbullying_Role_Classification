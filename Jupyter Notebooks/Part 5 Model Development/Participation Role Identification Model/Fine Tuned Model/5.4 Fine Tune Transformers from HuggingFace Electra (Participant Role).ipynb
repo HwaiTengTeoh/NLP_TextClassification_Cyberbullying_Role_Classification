{
 "cells": [
  {
   "cell_type": "markdown",
   "id": "a0aff953",
   "metadata": {
    "id": "a0aff953"
   },
   "source": [
    "<div class=\"alert alert-info\" style=\"background-color:#5d3a8e; color:white; padding:0px 10px; border-radius:5px;\"><h2 style='margin:10px 5px'>Required Libraries and Modules</h2>\n",
    "</div>"
   ]
  },
  {
   "cell_type": "markdown",
   "id": "915b0a46",
   "metadata": {},
   "source": [
    "**Note: This notebook is run in Paperspace platform**"
   ]
  },
  {
   "cell_type": "code",
   "execution_count": 1,
   "id": "A8qAxltS-XJv",
   "metadata": {
    "id": "A8qAxltS-XJv"
   },
   "outputs": [
    {
     "name": "stdout",
     "output_type": "stream",
     "text": [
      "\u001b[33mWARNING: The directory '/home/jovyan/.cache/pip' or its parent directory is not owned or is not writable by the current user. The cache has been disabled. Check the permissions and owner of that directory. If executing pip with sudo, you should use sudo's -H flag.\u001b[0m\u001b[33m\n",
      "\u001b[0mRequirement already satisfied: transformers in /opt/conda/lib/python3.9/site-packages (4.18.0)\n",
      "Requirement already satisfied: huggingface-hub<1.0,>=0.1.0 in /opt/conda/lib/python3.9/site-packages (from transformers) (0.5.1)\n",
      "Requirement already satisfied: packaging>=20.0 in /opt/conda/lib/python3.9/site-packages (from transformers) (21.3)\n",
      "Requirement already satisfied: requests in /opt/conda/lib/python3.9/site-packages (from transformers) (2.27.1)\n",
      "Requirement already satisfied: tokenizers!=0.11.3,<0.13,>=0.11.1 in /opt/conda/lib/python3.9/site-packages (from transformers) (0.12.1)\n",
      "Requirement already satisfied: tqdm>=4.27 in /opt/conda/lib/python3.9/site-packages (from transformers) (4.62.3)\n",
      "Requirement already satisfied: sacremoses in /opt/conda/lib/python3.9/site-packages (from transformers) (0.0.53)\n",
      "Requirement already satisfied: filelock in /opt/conda/lib/python3.9/site-packages (from transformers) (3.6.0)\n",
      "Requirement already satisfied: numpy>=1.17 in /opt/conda/lib/python3.9/site-packages (from transformers) (1.21.5)\n",
      "Requirement already satisfied: pyyaml>=5.1 in /opt/conda/lib/python3.9/site-packages (from transformers) (5.4.1)\n",
      "Requirement already satisfied: regex!=2019.12.17 in /opt/conda/lib/python3.9/site-packages (from transformers) (2022.4.24)\n",
      "Requirement already satisfied: typing-extensions>=3.7.4.3 in /opt/conda/lib/python3.9/site-packages (from huggingface-hub<1.0,>=0.1.0->transformers) (4.1.1)\n",
      "Requirement already satisfied: pyparsing!=3.0.5,>=2.0.2 in /opt/conda/lib/python3.9/site-packages (from packaging>=20.0->transformers) (3.0.7)\n",
      "Requirement already satisfied: charset-normalizer~=2.0.0 in /opt/conda/lib/python3.9/site-packages (from requests->transformers) (2.0.12)\n",
      "Requirement already satisfied: urllib3<1.27,>=1.21.1 in /opt/conda/lib/python3.9/site-packages (from requests->transformers) (1.26.8)\n",
      "Requirement already satisfied: certifi>=2017.4.17 in /opt/conda/lib/python3.9/site-packages (from requests->transformers) (2021.10.8)\n",
      "Requirement already satisfied: idna<4,>=2.5 in /opt/conda/lib/python3.9/site-packages (from requests->transformers) (3.3)\n",
      "Requirement already satisfied: joblib in /opt/conda/lib/python3.9/site-packages (from sacremoses->transformers) (1.1.0)\n",
      "Requirement already satisfied: click in /opt/conda/lib/python3.9/site-packages (from sacremoses->transformers) (8.0.4)\n",
      "Requirement already satisfied: six in /opt/conda/lib/python3.9/site-packages (from sacremoses->transformers) (1.16.0)\n",
      "\u001b[33mWARNING: Running pip as the 'root' user can result in broken permissions and conflicting behaviour with the system package manager. It is recommended to use a virtual environment instead: https://pip.pypa.io/warnings/venv\u001b[0m\u001b[33m\n",
      "\u001b[0m\u001b[33mWARNING: The directory '/home/jovyan/.cache/pip' or its parent directory is not owned or is not writable by the current user. The cache has been disabled. Check the permissions and owner of that directory. If executing pip with sudo, you should use sudo's -H flag.\u001b[0m\u001b[33m\n",
      "\u001b[0mRequirement already satisfied: imblearn in /opt/conda/lib/python3.9/site-packages (0.0)\n",
      "Requirement already satisfied: imbalanced-learn in /opt/conda/lib/python3.9/site-packages (from imblearn) (0.9.0)\n",
      "Requirement already satisfied: threadpoolctl>=2.0.0 in /opt/conda/lib/python3.9/site-packages (from imbalanced-learn->imblearn) (3.1.0)\n",
      "Requirement already satisfied: numpy>=1.14.6 in /opt/conda/lib/python3.9/site-packages (from imbalanced-learn->imblearn) (1.21.5)\n",
      "Requirement already satisfied: scipy>=1.1.0 in /opt/conda/lib/python3.9/site-packages (from imbalanced-learn->imblearn) (1.8.0)\n",
      "Requirement already satisfied: scikit-learn>=1.0.1 in /opt/conda/lib/python3.9/site-packages (from imbalanced-learn->imblearn) (1.0.2)\n",
      "Requirement already satisfied: joblib>=0.11 in /opt/conda/lib/python3.9/site-packages (from imbalanced-learn->imblearn) (1.1.0)\n",
      "\u001b[33mWARNING: Running pip as the 'root' user can result in broken permissions and conflicting behaviour with the system package manager. It is recommended to use a virtual environment instead: https://pip.pypa.io/warnings/venv\u001b[0m\u001b[33m\n",
      "\u001b[0m\u001b[33mWARNING: The directory '/home/jovyan/.cache/pip' or its parent directory is not owned or is not writable by the current user. The cache has been disabled. Check the permissions and owner of that directory. If executing pip with sudo, you should use sudo's -H flag.\u001b[0m\u001b[33m\n",
      "\u001b[0mRequirement already satisfied: torch in /opt/conda/lib/python3.9/site-packages (1.11.0)\n",
      "Requirement already satisfied: typing-extensions in /opt/conda/lib/python3.9/site-packages (from torch) (4.1.1)\n",
      "\u001b[33mWARNING: Running pip as the 'root' user can result in broken permissions and conflicting behaviour with the system package manager. It is recommended to use a virtual environment instead: https://pip.pypa.io/warnings/venv\u001b[0m\u001b[33m\n",
      "\u001b[0m"
     ]
    }
   ],
   "source": [
    "!pip install transformers\n",
    "!pip install imblearn\n",
    "!pip install torch"
   ]
  },
  {
   "cell_type": "code",
   "execution_count": 2,
   "id": "02505ed3",
   "metadata": {
    "id": "02505ed3"
   },
   "outputs": [
    {
     "name": "stderr",
     "output_type": "stream",
     "text": [
      "/tmp/ipykernel_587/1605486461.py:16: TqdmDeprecationWarning: This function will be removed in tqdm==5.0.0\n",
      "Please use `tqdm.notebook.*` instead of `tqdm._tqdm_notebook.*`\n",
      "  from tqdm._tqdm_notebook import tqdm_notebook\n"
     ]
    }
   ],
   "source": [
    "import numpy as np\n",
    "import pandas as pd\n",
    "\n",
    "from sklearn.model_selection import train_test_split, StratifiedKFold, StratifiedShuffleSplit\n",
    "from sklearn.metrics import accuracy_score, recall_score, precision_score, f1_score,  classification_report\n",
    "from imblearn.under_sampling import RandomUnderSampler\n",
    "\n",
    "import torch\n",
    "from collections import Counter\n",
    "from transformers import AutoTokenizer, AutoModelForSequenceClassification\n",
    "from transformers import TrainingArguments, Trainer\n",
    "from transformers import BertTokenizer, BertForSequenceClassification\n",
    "from transformers import EarlyStoppingCallback, set_seed\n",
    "\n",
    "# Progress bar\n",
    "from tqdm._tqdm_notebook import tqdm_notebook\n",
    "from tqdm import tqdm\n",
    "tqdm_notebook.pandas()"
   ]
  },
  {
   "cell_type": "markdown",
   "id": "5a8c1621",
   "metadata": {
    "id": "5a8c1621"
   },
   "source": [
    "<div class=\"alert alert-info\" style=\"background-color:#5d3a8e; color:white; padding:0px 10px; border-radius:5px;\"><h2 style='margin:10px 5px'>Import Clean Text Data</h2>\n",
    "</div>"
   ]
  },
  {
   "cell_type": "code",
   "execution_count": 3,
   "id": "c58048aa",
   "metadata": {
    "id": "c58048aa"
   },
   "outputs": [
    {
     "data": {
      "application/vnd.jupyter.widget-view+json": {
       "model_id": "a172fb4497df404baf46ced60ec14c04",
       "version_major": 2,
       "version_minor": 0
      },
      "text/plain": [
       "  0%|          | 0/112247 [00:00<?, ?it/s]"
      ]
     },
     "metadata": {},
     "output_type": "display_data"
    }
   ],
   "source": [
    "###############################################################\n",
    "# Note: Change the name of data set used for feature creation\n",
    "###############################################################\n",
    "data_set='bully_data_clean_with_stopword'\n",
    "    \n",
    "    \n",
    "###################\n",
    "# Import Data Set #\n",
    "###################\n",
    "bully_data_cleaned = pd.read_csv('/datasets/data/bully_data_clean_with_stopword_short.csv', encoding='utf8')\n",
    "bully_data_cleaned = bully_data_cleaned[~bully_data_cleaned['text_check'].isna()]\n",
    "bully_data_cleaned = bully_data_cleaned[bully_data_cleaned['text_check'] != \"\"]\n",
    "#bully_data_cleaned = bully_data_cleaned[bully_data_cleaned['role']!='None']\n",
    "bully_data_cleaned = bully_data_cleaned[['role','text_check']]\n",
    "\n",
    "def convert_role_label(x):\n",
    "    if x == \"None\":\n",
    "        return int(0)\n",
    "    elif x == \"Harasser\":\n",
    "        return int(1)\n",
    "    elif x == \"Victim\":\n",
    "        return int(2)\n",
    "    elif x == \"Bystander_defender\":\n",
    "        return int(3)\n",
    "    elif x == \"Bystander_assistant\":\n",
    "        return int(1)\n",
    "\n",
    "bully_data_cleaned['label'] = bully_data_cleaned['role'].progress_apply(lambda x: convert_role_label(x)).astype(int)\n",
    "bully_data_cleaned.rename(columns = {'text_check':'text'}, inplace = True)\n",
    "bully_data_cleaned = bully_data_cleaned.reset_index(drop=True)"
   ]
  },
  {
   "cell_type": "code",
   "execution_count": 4,
   "id": "f1ad3546",
   "metadata": {
    "id": "f1ad3546",
    "scrolled": true
   },
   "outputs": [
    {
     "name": "stdout",
     "output_type": "stream",
     "text": [
      "<class 'pandas.core.frame.DataFrame'>\n",
      "RangeIndex: 112247 entries, 0 to 112246\n",
      "Data columns (total 3 columns):\n",
      " #   Column  Non-Null Count   Dtype \n",
      "---  ------  --------------   ----- \n",
      " 0   role    112247 non-null  object\n",
      " 1   text    112247 non-null  object\n",
      " 2   label   112247 non-null  int64 \n",
      "dtypes: int64(1), object(2)\n",
      "memory usage: 2.6+ MB\n"
     ]
    }
   ],
   "source": [
    "bully_data_cleaned.info()"
   ]
  },
  {
   "cell_type": "code",
   "execution_count": 5,
   "id": "9VC9n29lfCQs",
   "metadata": {
    "id": "9VC9n29lfCQs"
   },
   "outputs": [
    {
     "data": {
      "text/plain": [
       "0    106872\n",
       "1      3596\n",
       "2      1354\n",
       "3       425\n",
       "Name: label, dtype: int64"
      ]
     },
     "execution_count": 5,
     "metadata": {},
     "output_type": "execute_result"
    }
   ],
   "source": [
    "bully_data_cleaned['label'].value_counts()"
   ]
  },
  {
   "cell_type": "markdown",
   "id": "61d6da90",
   "metadata": {
    "id": "61d6da90"
   },
   "source": [
    "<div class=\"alert alert-info\" style=\"background-color:#5d3a8e; color:white; padding:0px 10px; border-radius:5px;\"><h2 style='margin:10px 5px'>Define pretrained tokenizer and model</h2>\n",
    "</div>\n",
    "\n",
    "model_name = \"bert-base-uncased\"\n",
    "tokenizer = BertTokenizer.from_pretrained(model_name)\n",
    "model = BertForSequenceClassification.from_pretrained(model_name, num_labels=2)"
   ]
  },
  {
   "cell_type": "code",
   "execution_count": 6,
   "id": "b09bcba2",
   "metadata": {
    "id": "b09bcba2"
   },
   "outputs": [
    {
     "data": {
      "application/vnd.jupyter.widget-view+json": {
       "model_id": "7619457e6e5e4f1796a4e3e140c77e54",
       "version_major": 2,
       "version_minor": 0
      },
      "text/plain": [
       "Downloading:   0%|          | 0.00/29.0 [00:00<?, ?B/s]"
      ]
     },
     "metadata": {},
     "output_type": "display_data"
    },
    {
     "data": {
      "application/vnd.jupyter.widget-view+json": {
       "model_id": "5cffe6e51efd47c0bba4d2613286667b",
       "version_major": 2,
       "version_minor": 0
      },
      "text/plain": [
       "Downloading:   0%|          | 0.00/665 [00:00<?, ?B/s]"
      ]
     },
     "metadata": {},
     "output_type": "display_data"
    },
    {
     "data": {
      "application/vnd.jupyter.widget-view+json": {
       "model_id": "7cf43c02e4a94a198390b45f57259334",
       "version_major": 2,
       "version_minor": 0
      },
      "text/plain": [
       "Downloading:   0%|          | 0.00/226k [00:00<?, ?B/s]"
      ]
     },
     "metadata": {},
     "output_type": "display_data"
    },
    {
     "data": {
      "application/vnd.jupyter.widget-view+json": {
       "model_id": "f588db579a51436b9aab5267702ab3ca",
       "version_major": 2,
       "version_minor": 0
      },
      "text/plain": [
       "Downloading:   0%|          | 0.00/455k [00:00<?, ?B/s]"
      ]
     },
     "metadata": {},
     "output_type": "display_data"
    },
    {
     "data": {
      "application/vnd.jupyter.widget-view+json": {
       "model_id": "e2a853b997ae42e4990572411b396d0a",
       "version_major": 2,
       "version_minor": 0
      },
      "text/plain": [
       "Downloading:   0%|          | 0.00/51.7M [00:00<?, ?B/s]"
      ]
     },
     "metadata": {},
     "output_type": "display_data"
    },
    {
     "name": "stderr",
     "output_type": "stream",
     "text": [
      "Some weights of the model checkpoint at google/electra-small-discriminator were not used when initializing ElectraForSequenceClassification: ['discriminator_predictions.dense.bias', 'discriminator_predictions.dense_prediction.bias', 'discriminator_predictions.dense_prediction.weight', 'discriminator_predictions.dense.weight']\n",
      "- This IS expected if you are initializing ElectraForSequenceClassification from the checkpoint of a model trained on another task or with another architecture (e.g. initializing a BertForSequenceClassification model from a BertForPreTraining model).\n",
      "- This IS NOT expected if you are initializing ElectraForSequenceClassification from the checkpoint of a model that you expect to be exactly identical (initializing a BertForSequenceClassification model from a BertForSequenceClassification model).\n",
      "Some weights of ElectraForSequenceClassification were not initialized from the model checkpoint at google/electra-small-discriminator and are newly initialized: ['classifier.dense.weight', 'classifier.dense.bias', 'classifier.out_proj.bias', 'classifier.out_proj.weight']\n",
      "You should probably TRAIN this model on a down-stream task to be able to use it for predictions and inference.\n"
     ]
    }
   ],
   "source": [
    "from transformers import AutoTokenizer, AutoModelForSequenceClassification\n",
    "# Define pretrained tokenizer and model\n",
    "\n",
    "model_name = \"google/electra-small-discriminator\"\n",
    "tokenizer = AutoTokenizer.from_pretrained(model_name)\n",
    "set_seed(1127)\n",
    "model= AutoModelForSequenceClassification.from_pretrained(model_name, \n",
    "                                                            num_labels=4,  \n",
    "                                                            ignore_mismatched_sizes=True)\n",
    "# def model_init():\n",
    "#     return AutoModelForSequenceClassification.from_pretrained(model_name, \n",
    "#                                                             num_labels=4,  \n",
    "#                                                             ignore_mismatched_sizes=True,\n",
    "#                                                             output_attentions = False, # Whether the model returns attentions weights.\n",
    "#                                                             output_hidden_states = False,\n",
    "#                                                             return_dict=True )"
   ]
  },
  {
   "cell_type": "markdown",
   "id": "fe8c063e",
   "metadata": {
    "id": "fe8c063e"
   },
   "source": [
    "<div class=\"alert alert-info\" style=\"background-color:#5d3a8e; color:white; padding:0px 10px; border-radius:5px;\"><h2 style='margin:10px 5px'>Preprocess data</h2>\n",
    "</div>"
   ]
  },
  {
   "cell_type": "code",
   "execution_count": 7,
   "id": "bdqooD-cRI56",
   "metadata": {
    "id": "bdqooD-cRI56"
   },
   "outputs": [
    {
     "name": "stdout",
     "output_type": "stream",
     "text": [
      "Counter({0: 33363, 1: 3236, 2: 1219, 3: 382})\n",
      "Counter({0: 33363, 1: 3236, 2: 1219, 3: 382})\n"
     ]
    }
   ],
   "source": [
    "##############################\n",
    "# Data: Text Input and Label #\n",
    "##############################\n",
    "X = list(bully_data_cleaned[\"text\"])\n",
    "y = list(bully_data_cleaned[\"label\"])\n",
    "\n",
    "\n",
    "########################\n",
    "# Create torch dataset #\n",
    "########################\n",
    "class Dataset(torch.utils.data.Dataset):\n",
    "    def __init__(self, encodings, labels=None):\n",
    "        self.encodings = encodings\n",
    "        self.labels = labels\n",
    "\n",
    "    def __getitem__(self, idx):\n",
    "        item = {key: torch.tensor(val[idx]) for key, val in self.encodings.items()}\n",
    "        if self.labels:\n",
    "            item[\"labels\"] = torch.tensor(self.labels[idx])\n",
    "        return item\n",
    "\n",
    "    def __len__(self):\n",
    "        return len(self.encodings[\"input_ids\"])\n",
    "\n",
    "\n",
    "#############################\n",
    "# Define Trainer parameters #\n",
    "#############################\n",
    "average_method = 'macro'\n",
    "def compute_metrics(p):\n",
    "    pred, labels = p\n",
    "    pred = np.argmax(pred, axis=1)\n",
    "\n",
    "    accuracy = accuracy_score(y_true=labels, y_pred=pred)\n",
    "    recall = recall_score(y_true=labels, y_pred=pred, average=average_method)\n",
    "    precision = precision_score(y_true=labels, y_pred=pred, average=average_method)\n",
    "    f1 = f1_score(y_true=labels, y_pred=pred, average=average_method)\n",
    "    \n",
    "    recall0 = recall_score(y_true=labels, y_pred=pred, average=None)[0]\n",
    "    precision0 = precision_score(y_true=labels, y_pred=pred, average=None)[0]\n",
    "    f10 = f1_score(y_true=labels, y_pred=pred, average=None)[0]\n",
    "    \n",
    "    recall1 = recall_score(y_true=labels, y_pred=pred, average=None)[1]\n",
    "    precision1 = precision_score(y_true=labels, y_pred=pred, average=None)[1]\n",
    "    f11 = f1_score(y_true=labels, y_pred=pred, average=None)[1]\n",
    "    \n",
    "    recall2 = recall_score(y_true=labels, y_pred=pred, average=None)[2]\n",
    "    precision2 = precision_score(y_true=labels, y_pred=pred, average=None)[2]\n",
    "    f12 = f1_score(y_true=labels, y_pred=pred, average=None)[2]\n",
    "    \n",
    "    recall3 = recall_score(y_true=labels, y_pred=pred, average=None)[3]\n",
    "    precision3 = precision_score(y_true=labels, y_pred=pred, average=None)[3]\n",
    "    f13 = f1_score(y_true=labels, y_pred=pred, average=None)[3]\n",
    "\n",
    "    return {\"accuracy\": accuracy, \"precision\": precision, \"recall\": recall, \"f1\": f1,\n",
    "           \"precision_nonbully\": precision0, \"recall_nonbully\": recall0, \"f1_nonbully\": f10,\n",
    "           \"precision_harasser\": precision1, \"recall_harasser\": recall1, \"f1_harasser\": f11,\n",
    "           \"precision_victim\": precision2, \"recall_victim\": recall2, \"f1_victim\": f12,\n",
    "           \"precision_bydefender\": precision3, \"recall_bydefender\": recall3, \"f1_bydefender\": f13}\n",
    "\n",
    "\n",
    "\n",
    "#########################\n",
    "# Plot Confusion Matrix #\n",
    "#########################\n",
    "import numpy as np\n",
    "import matplotlib.pyplot as plt\n",
    "import seaborn as sns\n",
    "\n",
    "def make_confusion_matrix(cf,\n",
    "                          group_names=None,\n",
    "                          categories='auto',\n",
    "                          count=True,\n",
    "                          percent=True,\n",
    "                          cbar=True,\n",
    "                          xyticks=True,\n",
    "                          xyplotlabels=True,\n",
    "                          sum_stats=True,\n",
    "                          figsize=None,\n",
    "                          cmap='Blues',\n",
    "                          title=None):\n",
    "    '''\n",
    "    This function will make a pretty plot of an sklearn Confusion Matrix cm using a Seaborn heatmap visualization.\n",
    "\n",
    "    Arguments\n",
    "    ---------\n",
    "    cf:            confusion matrix to be passed in\n",
    "\n",
    "    group_names:   List of strings that represent the labels row by row to be shown in each square.\n",
    "\n",
    "    categories:    List of strings containing the categories to be displayed on the x,y axis. Default is 'auto'\n",
    "\n",
    "    count:         If True, show the raw number in the confusion matrix. Default is True.\n",
    "\n",
    "    normalize:     If True, show the proportions for each category. Default is True.\n",
    "\n",
    "    cbar:          If True, show the color bar. The cbar values are based off the values in the confusion matrix.\n",
    "                   Default is True.\n",
    "\n",
    "    xyticks:       If True, show x and y ticks. Default is True.\n",
    "\n",
    "    xyplotlabels:  If True, show 'True Label' and 'Predicted Label' on the figure. Default is True.\n",
    "\n",
    "    sum_stats:     If True, display summary statistics below the figure. Default is True.\n",
    "\n",
    "    figsize:       Tuple representing the figure size. Default will be the matplotlib rcParams value.\n",
    "\n",
    "    cmap:          Colormap of the values displayed from matplotlib.pyplot.cm. Default is 'Blues'\n",
    "                   See http://matplotlib.org/examples/color/colormaps_reference.html\n",
    "                   \n",
    "    title:         Title for the heatmap. Default is None.\n",
    "\n",
    "    '''\n",
    "\n",
    "\n",
    "    # CONFUSION MATRIX IN PERCENTAGE\n",
    "    cf_pct = cf.astype('float')/cf.sum(axis=1)[:, np.newaxis]\n",
    "    # CODE TO GENERATE TEXT INSIDE EACH SQUARE\n",
    "    blanks = ['' for i in range(cf.size)]\n",
    "\n",
    "    if group_names and len(group_names)==cf.size:\n",
    "        group_labels = [\"{}\\n\".format(value) for value in group_names]\n",
    "    else:\n",
    "        group_labels = blanks\n",
    "\n",
    "    if count:\n",
    "        group_counts = [\"{0:0.0f}\\n\".format(value) for value in cf.flatten()]\n",
    "    else:\n",
    "        group_counts = blanks\n",
    "\n",
    "    if percent:\n",
    "        group_percentages = [\"{0:.2%}\".format(value) for value in cf_pct.flatten()]\n",
    "    else:\n",
    "        group_percentages = blanks\n",
    "\n",
    "    box_labels = [f\"{v1}{v2}{v3}\".strip() for v1, v2, v3 in zip(group_labels,group_counts,group_percentages)]\n",
    "    box_labels = np.asarray(box_labels).reshape(cf.shape[0],cf.shape[1])\n",
    "\n",
    "\n",
    "    # CODE TO GENERATE SUMMARY STATISTICS & TEXT FOR SUMMARY STATS\n",
    "    if sum_stats:\n",
    "        #Accuracy is sum of diagonal divided by total observations\n",
    "        accuracy  = np.trace(cf) / float(np.sum(cf))\n",
    "\n",
    "        #if it is a binary confusion matrix, show some more stats\n",
    "        if len(cf)==2:\n",
    "            #Metrics for Binary Confusion Matrices\n",
    "            precision = cf[1,1] / sum(cf[:,1])\n",
    "            recall    = cf[1,1] / sum(cf[1,:])\n",
    "            f1_score  = 2*precision*recall / (precision + recall)\n",
    "            stats_text = \"\\n\\nAccuracy={:0.3f}\\nPrecision={:0.3f}\\nRecall={:0.3f}\\nF1 Score={:0.3f}\".format(\n",
    "                accuracy,precision,recall,f1_score)\n",
    "        else:\n",
    "            stats_text = \"\\n\\nAccuracy={:0.3f}\".format(accuracy)\n",
    "    else:\n",
    "        stats_text = \"\"\n",
    "\n",
    "\n",
    "    # SET FIGURE PARAMETERS ACCORDING TO OTHER ARGUMENTS\n",
    "    if figsize==None:\n",
    "        #Get default figure size if not set\n",
    "        figsize = plt.rcParams.get('figure.figsize')\n",
    "\n",
    "    if xyticks==False:\n",
    "        #Do not show categories if xyticks is False\n",
    "        categories=False\n",
    "\n",
    "\n",
    "    # MAKE THE HEATMAP VISUALIZATION\n",
    "    plt.figure(figsize=figsize)\n",
    "    sns.heatmap(cf_pct,annot=box_labels,fmt=\"\",cmap=cmap,cbar=cbar,xticklabels=categories,yticklabels=categories)\n",
    "\n",
    "    if xyplotlabels:\n",
    "        plt.ylabel('True label')\n",
    "        plt.xlabel('Predicted label' + stats_text)\n",
    "    else:\n",
    "        plt.xlabel(stats_text)\n",
    "    \n",
    "    if title:\n",
    "        plt.title(title)\n",
    "\n",
    "\n",
    "########################\n",
    "# Run cross-validation #\n",
    "########################\n",
    "def run_cross_validation(model_name='RoBerta',\n",
    "                         X=X,\n",
    "                         y=y, \n",
    "                         splits=5,\n",
    "                         epoch=8,\n",
    "                         checkpoint=False):\n",
    "  \n",
    "    kfold = StratifiedShuffleSplit(n_splits=splits, test_size=0.1, random_state=1127)\n",
    "    # kfold = StratifiedKFold(n_splits=splits, shuffle=True, random_state=1127)\n",
    "    n_fold = 1\n",
    "\n",
    "    print(\"Developing Model with Cross validation for: \" + model_name)\n",
    "    for train, test in tqdm(kfold.split(X, y)):\n",
    "\n",
    "        print(\"Running for Fold: \",n_fold)\n",
    "\n",
    "        # Split to train and test set for each fold\n",
    "        train_index = list(train)\n",
    "        test_index = list(test)\n",
    "\n",
    "        X_train = [X[i] for i in train_index]\n",
    "        y_train = [y[i] for i in train_index]\n",
    "        X_val = [X[i] for i in test_index]\n",
    "        y_val = [y[i] for i in test_index]\n",
    "\n",
    "\n",
    "        # Obtain undersampled index \n",
    "        X_temp = bully_data_cleaned[\"text\"].values\n",
    "        y_temp = bully_data_cleaned[\"label\"].values\n",
    "\n",
    "        X_temp_train = X_temp[train] \n",
    "        y_temp_train = y_temp[train] \n",
    "\n",
    "        resample = RandomUnderSampler(random_state=1127,sampling_strategy={0:33363})\n",
    "        X_temp_resampled, y_temp_resampled = resample.fit_resample(X_temp_train.reshape(-1,1), y_temp_train)\n",
    "\n",
    "        resample_index = list(resample.sample_indices_)\n",
    "        print(len(resample_index))\n",
    "\n",
    "\n",
    "        # Undersample train set\n",
    "        X_train_resample = [X_train[i] for i in resample_index]\n",
    "        y_train_resample = [y_train[i] for i in resample_index]\n",
    "\n",
    "\n",
    "        # Checking proportion\n",
    "        print(Counter(y))\n",
    "        print(Counter(y_train))\n",
    "        print(Counter(y_temp_resampled))\n",
    "        print(Counter(y_train_resample))\n",
    "\n",
    "        \n",
    "        # Tokenize\n",
    "        X_train_tokenized = tokenizer(X_train_resample, padding=True, truncation=True, max_length=512)\n",
    "        X_val_tokenized = tokenizer(X_val, padding=True, truncation=True, max_length=512)\n",
    "\n",
    "\n",
    "        # Create torch dataset\n",
    "        train_dataset = Dataset(X_train_tokenized, y_train_resample)\n",
    "        val_dataset = Dataset(X_val_tokenized, y_val)  \n",
    "\n",
    "        # Fine Tune Transformer\n",
    "        # Define Trainer\n",
    "        args = TrainingArguments(\n",
    "                output_dir=\"content/drive/MyDrive/output_\" + model_name + \"/fold\"+str(n_fold),\n",
    "                evaluation_strategy=\"epoch\",\n",
    "                save_strategy=\"epoch\",\n",
    "                #eval_steps=500,\n",
    "                #per_device_train_batch_size=1,\n",
    "                #per_device_eval_batch_size=1,\n",
    "                num_train_epochs=epoch, #1 was okay\n",
    "                seed=1127,\n",
    "                load_best_model_at_end=True,\n",
    "            )\n",
    "\n",
    "        trainer = Trainer(\n",
    "                  # model_init=model_init,\n",
    "                  model=model,\n",
    "                  args=args,\n",
    "                  train_dataset=train_dataset,\n",
    "                  eval_dataset=val_dataset,\n",
    "                  compute_metrics=compute_metrics,\n",
    "                  callbacks=[EarlyStoppingCallback(early_stopping_patience=3)],\n",
    "              )\n",
    "\n",
    "        trainer.train(resume_from_checkpoint=checkpoint)\n",
    "        print(\"Complete for fold\", n_fold)\n",
    "        n_fold= n_fold + 1\n",
    "\n",
    "\n",
    "#####################\n",
    "# Run Hold Out Test #\n",
    "#####################\n",
    "\n",
    "# Obtain undersample index \n",
    "X_temp = bully_data_cleaned[\"text\"].values\n",
    "y_temp = bully_data_cleaned[\"label\"].values\n",
    "\n",
    "X_temp_train, X_temp_val, y_temp_train, y_temp_val =  train_test_split(X_temp,y_temp, test_size=0.1, random_state=1127, stratify=y_temp) \n",
    "resample = RandomUnderSampler(random_state=1127,sampling_strategy={0:33363})\n",
    "X_temp_resampled, y_temp_resampled = resample.fit_resample(X_temp_train.reshape(-1,1), y_temp_train)\n",
    "resample_index = list(resample.sample_indices_)\n",
    "\n",
    "# Split to train and test set\n",
    "X = list(bully_data_cleaned[\"text\"])\n",
    "y = list(bully_data_cleaned[\"label\"])\n",
    "\n",
    "X_train, X_test, y_train, y_test = train_test_split(X, y, test_size=0.1, stratify=y, random_state=1127)\n",
    "\n",
    "# Undersample train set\n",
    "X_train_resample = [X_train[i] for i in resample_index]\n",
    "y_train_resample = [y_train[i] for i in resample_index]\n",
    "\n",
    "# Checking proportion\n",
    "print(Counter(y_temp_resampled))\n",
    "print(Counter(y_train_resample))\n",
    "\n",
    "# Split to train and validate set\n",
    "# X_train_resample, X_val, y_train_resample, y_val = train_test_split(X_train_resample, y_train_resample, test_size=0.1, stratify=y_train_resample, random_state=1127)\n",
    "\n",
    "X_train_tokenized = tokenizer(X_train_resample, padding=True, truncation=True, max_length=512)\n",
    "X_val_tokenized = tokenizer(X_test, padding=True, truncation=True, max_length=512)\n",
    "\n",
    "train_dataset = Dataset(X_train_tokenized, y_train_resample)\n",
    "val_dataset = Dataset(X_val_tokenized, y_test)\n",
    "\n",
    "def run_hold_out_split(model_name='Electra',\n",
    "                       epoch=8,\n",
    "                       train_dataset=train_dataset,\n",
    "                       eval_dataset=val_dataset,\n",
    "                       checkpoint=False):\n",
    "  \n",
    "    print(\"Developing Model with Hold Out Splits for: \" + model_name)\n",
    "    \n",
    "    # Fine Tune Transformer\n",
    "    # Define Trainer\n",
    "    \n",
    "    args = TrainingArguments(\n",
    "    output_dir=\"content/drive/MyDrive/output_\" + model_name + \"/holdout\",\n",
    "    evaluation_strategy=\"epoch\",\n",
    "    save_strategy=\"epoch\",\n",
    "    #eval_steps=500,\n",
    "    #per_device_train_batch_size=1,\n",
    "    #per_device_eval_batch_size=1,\n",
    "    num_train_epochs=epoch, #1 was okay\n",
    "    seed=1127,\n",
    "    load_best_model_at_end=True,\n",
    "    )\n",
    "\n",
    "    trainer = Trainer(\n",
    "    #model_init=model_init,\n",
    "    model=model,\n",
    "    args=args,\n",
    "    train_dataset=train_dataset,\n",
    "    eval_dataset=val_dataset,\n",
    "    compute_metrics=compute_metrics,\n",
    "    callbacks=[EarlyStoppingCallback(early_stopping_patience=5)],\n",
    "    )\n",
    "\n",
    "    trainer.train(resume_from_checkpoint=checkpoint)\n",
    "    print(\"Complete for hold-out validate set\")"
   ]
  },
  {
   "cell_type": "code",
   "execution_count": 8,
   "id": "6JeiiXYzj3cE",
   "metadata": {
    "id": "6JeiiXYzj3cE"
   },
   "outputs": [],
   "source": [
    "###########################\n",
    "# Predict (Hold Out Test) #\n",
    "###########################\n",
    "\n",
    "from sklearn.metrics import confusion_matrix\n",
    "\n",
    "def compute_metrics_holdout(model_name='Electra',\n",
    "                            model_path='content/drive/MyDrive/output_Electra/holdout/checkpoint-3820', \n",
    "                            average_method='macro',\n",
    "                            X_test=X_test):\n",
    "  \n",
    "    X_test_tokenized = tokenizer(X_test, padding=True, truncation=True, max_length=512)\n",
    "\n",
    "    # Create torch dataset\n",
    "    test_dataset = Dataset(X_test_tokenized)\n",
    "\n",
    "    # Load trained model\n",
    "    model_pred = AutoModelForSequenceClassification.from_pretrained(model_path, num_labels=4)\n",
    "\n",
    "    # Define test trainer\n",
    "    test_trainer = Trainer(model_pred)\n",
    "\n",
    "    # Make prediction\n",
    "    raw_pred, _, _ = test_trainer.predict(test_dataset)\n",
    "\n",
    "    # Preprocess raw predictions\n",
    "    y_pred = np.argmax(raw_pred, axis=1)\n",
    "\n",
    "    # Compute metrics\n",
    "    precision = precision_score(y_test, y_pred, average=average_method)\n",
    "    recall = recall_score(y_test, y_pred, average=average_method)\n",
    "    f1 = f1_score(y_test, y_pred, average=average_method)\n",
    "\n",
    "    precision0 = precision_score(y_test, y_pred, average=None)[0]\n",
    "    recall0 = recall_score(y_test, y_pred, average=None)[0]\n",
    "    f10 = f1_score(y_test, y_pred, average=None)[0]\n",
    "\n",
    "    precision1 = precision_score(y_test, y_pred, average=None)[1]\n",
    "    recall1 = recall_score(y_test, y_pred, average=None)[1]\n",
    "    f11 = f1_score(y_test, y_pred, average=None)[1]\n",
    "\n",
    "    precision2 = precision_score(y_test, y_pred, average=None)[2]\n",
    "    recall2 = recall_score(y_test, y_pred, average=None)[2]\n",
    "    f12 = f1_score(y_test, y_pred, average=None)[2]\n",
    "\n",
    "    precision3 = precision_score(y_test, y_pred, average=None)[3]\n",
    "    recall3 = recall_score(y_test, y_pred, average=None)[3]\n",
    "    f13 = f1_score(y_test, y_pred, average=None)[3]\n",
    "\n",
    "\n",
    "    # Print Results\n",
    "    print(\"Classification Report:\")\n",
    "    print(classification_report(y_test,y_pred))\n",
    "    print()\n",
    "    print(\"Macro Metrics:\")\n",
    "    print(\"Precision: \", precision)\n",
    "    print(\"Recall: \", recall)\n",
    "    print(\"F-measure: \", f1)\n",
    "    print()\n",
    "    print(\"Label 0: Non-bully\")\n",
    "    print(\"Precision: \", precision0)\n",
    "    print(\"Recall: \", recall0)\n",
    "    print(\"F-measure: \", f10)\n",
    "    print()\n",
    "    print(\"Label 1: Harasser\")\n",
    "    print(\"Precision: \", precision1)\n",
    "    print(\"Recall: \", recall1)\n",
    "    print(\"F-measure: \", f11)\n",
    "    print()\n",
    "    print(\"Label 2: Victim\")\n",
    "    print(\"Precision: \", precision2)\n",
    "    print(\"Recall: \", recall2)\n",
    "    print(\"F-measure: \", f12)\n",
    "    print()\n",
    "    print(\"Label 3: Bystander-defender\")\n",
    "    print(\"Precision: \", precision3)\n",
    "    print(\"Recall: \", recall3)\n",
    "    print(\"F-measure: \", f13)\n",
    "    print()\n",
    "\n",
    "    conf_mat = confusion_matrix(y_test,y_pred)\n",
    "    categories = ['Non-bully', 'Harasser','Victim','Bystander-defender']\n",
    "    labels = ['True Non-bully','','','',\n",
    "            '','True Harasser','','',\n",
    "            '','','True Victim','',\n",
    "            '','','','True Bystander-defender']\n",
    "    make_confusion_matrix(conf_mat, \n",
    "                        group_names=labels,\n",
    "                        categories=categories, \n",
    "                        figsize=(12,8), \n",
    "                        cbar=True, \n",
    "                        title='Fine Tuned' + model_name + ' for Participant Roles Identification', \n",
    "                        cmap='YlGnBu', \n",
    "                        sum_stats=False)\n"
   ]
  },
  {
   "cell_type": "markdown",
   "id": "1oWlGGdkn5m-",
   "metadata": {
    "id": "1oWlGGdkn5m-"
   },
   "source": [
    "<div class=\"alert alert-info\" style=\"background-color:#5d3a8e; color:white; padding:0px 10px; border-radius:5px;\"><h2 style='margin:10px 5px'>Cross Validation (K = 5)</h2>\n",
    "</div>"
   ]
  },
  {
   "cell_type": "code",
   "execution_count": 9,
   "id": "AA4wbVb3SKqi",
   "metadata": {
    "id": "AA4wbVb3SKqi"
   },
   "outputs": [
    {
     "name": "stdout",
     "output_type": "stream",
     "text": [
      "Developing Model with Cross validation for: Electra\n"
     ]
    },
    {
     "name": "stderr",
     "output_type": "stream",
     "text": [
      "0it [00:00, ?it/s]"
     ]
    },
    {
     "name": "stdout",
     "output_type": "stream",
     "text": [
      "Running for Fold:  1\n",
      "38200\n",
      "Counter({0: 106872, 1: 3596, 2: 1354, 3: 425})\n",
      "Counter({0: 96185, 1: 3236, 2: 1219, 3: 382})\n",
      "Counter({0: 33363, 1: 3236, 2: 1219, 3: 382})\n",
      "Counter({0: 33363, 1: 3236, 2: 1219, 3: 382})\n"
     ]
    },
    {
     "name": "stderr",
     "output_type": "stream",
     "text": [
      "/opt/conda/lib/python3.9/site-packages/transformers/optimization.py:306: FutureWarning: This implementation of AdamW is deprecated and will be removed in a future version. Use the PyTorch implementation torch.optim.AdamW instead, or set `no_deprecation_warning=True` to disable this warning\n",
      "  warnings.warn(\n",
      "***** Running training *****\n",
      "  Num examples = 38200\n",
      "  Num Epochs = 4\n",
      "  Instantaneous batch size per device = 8\n",
      "  Total train batch size (w. parallel, distributed & accumulation) = 8\n",
      "  Gradient Accumulation steps = 1\n",
      "  Total optimization steps = 19100\n"
     ]
    },
    {
     "data": {
      "text/html": [
       "\n",
       "    <div>\n",
       "      \n",
       "      <progress value='19100' max='19100' style='width:300px; height:20px; vertical-align: middle;'></progress>\n",
       "      [19100/19100 37:15, Epoch 4/4]\n",
       "    </div>\n",
       "    <table border=\"1\" class=\"dataframe\">\n",
       "  <thead>\n",
       " <tr style=\"text-align: left;\">\n",
       "      <th>Epoch</th>\n",
       "      <th>Training Loss</th>\n",
       "      <th>Validation Loss</th>\n",
       "      <th>Accuracy</th>\n",
       "      <th>Precision</th>\n",
       "      <th>Recall</th>\n",
       "      <th>F1</th>\n",
       "      <th>Precision Nonbully</th>\n",
       "      <th>Recall Nonbully</th>\n",
       "      <th>F1 Nonbully</th>\n",
       "      <th>Precision Harasser</th>\n",
       "      <th>Recall Harasser</th>\n",
       "      <th>F1 Harasser</th>\n",
       "      <th>Precision Victim</th>\n",
       "      <th>Recall Victim</th>\n",
       "      <th>F1 Victim</th>\n",
       "      <th>Precision Bydefender</th>\n",
       "      <th>Recall Bydefender</th>\n",
       "      <th>F1 Bydefender</th>\n",
       "    </tr>\n",
       "  </thead>\n",
       "  <tbody>\n",
       "    <tr>\n",
       "      <td>1</td>\n",
       "      <td>0.315200</td>\n",
       "      <td>0.166005</td>\n",
       "      <td>0.948775</td>\n",
       "      <td>0.442442</td>\n",
       "      <td>0.507217</td>\n",
       "      <td>0.455687</td>\n",
       "      <td>0.981321</td>\n",
       "      <td>0.973332</td>\n",
       "      <td>0.977310</td>\n",
       "      <td>0.439922</td>\n",
       "      <td>0.630556</td>\n",
       "      <td>0.518265</td>\n",
       "      <td>0.133333</td>\n",
       "      <td>0.029630</td>\n",
       "      <td>0.048485</td>\n",
       "      <td>0.215190</td>\n",
       "      <td>0.395349</td>\n",
       "      <td>0.278689</td>\n",
       "    </tr>\n",
       "    <tr>\n",
       "      <td>2</td>\n",
       "      <td>0.299800</td>\n",
       "      <td>0.181251</td>\n",
       "      <td>0.944499</td>\n",
       "      <td>0.457198</td>\n",
       "      <td>0.461244</td>\n",
       "      <td>0.432798</td>\n",
       "      <td>0.984283</td>\n",
       "      <td>0.966876</td>\n",
       "      <td>0.975502</td>\n",
       "      <td>0.422559</td>\n",
       "      <td>0.697222</td>\n",
       "      <td>0.526205</td>\n",
       "      <td>0.121951</td>\n",
       "      <td>0.111111</td>\n",
       "      <td>0.116279</td>\n",
       "      <td>0.300000</td>\n",
       "      <td>0.069767</td>\n",
       "      <td>0.113208</td>\n",
       "    </tr>\n",
       "    <tr>\n",
       "      <td>3</td>\n",
       "      <td>0.232000</td>\n",
       "      <td>0.162128</td>\n",
       "      <td>0.954031</td>\n",
       "      <td>0.497542</td>\n",
       "      <td>0.491112</td>\n",
       "      <td>0.482486</td>\n",
       "      <td>0.981856</td>\n",
       "      <td>0.977262</td>\n",
       "      <td>0.979554</td>\n",
       "      <td>0.488048</td>\n",
       "      <td>0.680556</td>\n",
       "      <td>0.568445</td>\n",
       "      <td>0.175439</td>\n",
       "      <td>0.074074</td>\n",
       "      <td>0.104167</td>\n",
       "      <td>0.344828</td>\n",
       "      <td>0.232558</td>\n",
       "      <td>0.277778</td>\n",
       "    </tr>\n",
       "    <tr>\n",
       "      <td>4</td>\n",
       "      <td>0.215200</td>\n",
       "      <td>0.195407</td>\n",
       "      <td>0.947528</td>\n",
       "      <td>0.505378</td>\n",
       "      <td>0.549076</td>\n",
       "      <td>0.521411</td>\n",
       "      <td>0.985060</td>\n",
       "      <td>0.968654</td>\n",
       "      <td>0.976788</td>\n",
       "      <td>0.453532</td>\n",
       "      <td>0.677778</td>\n",
       "      <td>0.543430</td>\n",
       "      <td>0.172662</td>\n",
       "      <td>0.177778</td>\n",
       "      <td>0.175182</td>\n",
       "      <td>0.410256</td>\n",
       "      <td>0.372093</td>\n",
       "      <td>0.390244</td>\n",
       "    </tr>\n",
       "  </tbody>\n",
       "</table><p>"
      ],
      "text/plain": [
       "<IPython.core.display.HTML object>"
      ]
     },
     "metadata": {},
     "output_type": "display_data"
    },
    {
     "name": "stderr",
     "output_type": "stream",
     "text": [
      "***** Running Evaluation *****\n",
      "  Num examples = 11225\n",
      "  Batch size = 8\n",
      "Saving model checkpoint to content/drive/MyDrive/output_Electra/fold1/checkpoint-4775\n",
      "Configuration saved in content/drive/MyDrive/output_Electra/fold1/checkpoint-4775/config.json\n",
      "Model weights saved in content/drive/MyDrive/output_Electra/fold1/checkpoint-4775/pytorch_model.bin\n",
      "***** Running Evaluation *****\n",
      "  Num examples = 11225\n",
      "  Batch size = 8\n",
      "Saving model checkpoint to content/drive/MyDrive/output_Electra/fold1/checkpoint-9550\n",
      "Configuration saved in content/drive/MyDrive/output_Electra/fold1/checkpoint-9550/config.json\n",
      "Model weights saved in content/drive/MyDrive/output_Electra/fold1/checkpoint-9550/pytorch_model.bin\n",
      "***** Running Evaluation *****\n",
      "  Num examples = 11225\n",
      "  Batch size = 8\n",
      "Saving model checkpoint to content/drive/MyDrive/output_Electra/fold1/checkpoint-14325\n",
      "Configuration saved in content/drive/MyDrive/output_Electra/fold1/checkpoint-14325/config.json\n",
      "Model weights saved in content/drive/MyDrive/output_Electra/fold1/checkpoint-14325/pytorch_model.bin\n",
      "***** Running Evaluation *****\n",
      "  Num examples = 11225\n",
      "  Batch size = 8\n",
      "Saving model checkpoint to content/drive/MyDrive/output_Electra/fold1/checkpoint-19100\n",
      "Configuration saved in content/drive/MyDrive/output_Electra/fold1/checkpoint-19100/config.json\n",
      "Model weights saved in content/drive/MyDrive/output_Electra/fold1/checkpoint-19100/pytorch_model.bin\n",
      "\n",
      "\n",
      "Training completed. Do not forget to share your model on huggingface.co/models =)\n",
      "\n",
      "\n",
      "Loading best model from content/drive/MyDrive/output_Electra/fold1/checkpoint-14325 (score: 0.1621275246143341).\n",
      "1it [37:29, 2249.21s/it]"
     ]
    },
    {
     "name": "stdout",
     "output_type": "stream",
     "text": [
      "Complete for fold 1\n",
      "Running for Fold:  2\n",
      "38200\n",
      "Counter({0: 106872, 1: 3596, 2: 1354, 3: 425})\n",
      "Counter({0: 96185, 1: 3236, 2: 1219, 3: 382})\n",
      "Counter({0: 33363, 1: 3236, 2: 1219, 3: 382})\n",
      "Counter({0: 33363, 1: 3236, 2: 1219, 3: 382})\n"
     ]
    },
    {
     "name": "stderr",
     "output_type": "stream",
     "text": [
      "PyTorch: setting up devices\n",
      "The default value for the training argument `--report_to` will change in v5 (from all installed integrations to none). In v5, you will need to use `--report_to all` to get the same behavior as now. You should start updating your code and make this info disappear :-).\n",
      "/opt/conda/lib/python3.9/site-packages/transformers/optimization.py:306: FutureWarning: This implementation of AdamW is deprecated and will be removed in a future version. Use the PyTorch implementation torch.optim.AdamW instead, or set `no_deprecation_warning=True` to disable this warning\n",
      "  warnings.warn(\n",
      "***** Running training *****\n",
      "  Num examples = 38200\n",
      "  Num Epochs = 4\n",
      "  Instantaneous batch size per device = 8\n",
      "  Total train batch size (w. parallel, distributed & accumulation) = 8\n",
      "  Gradient Accumulation steps = 1\n",
      "  Total optimization steps = 19100\n"
     ]
    },
    {
     "data": {
      "text/html": [
       "\n",
       "    <div>\n",
       "      \n",
       "      <progress value='19100' max='19100' style='width:300px; height:20px; vertical-align: middle;'></progress>\n",
       "      [19100/19100 37:21, Epoch 4/4]\n",
       "    </div>\n",
       "    <table border=\"1\" class=\"dataframe\">\n",
       "  <thead>\n",
       " <tr style=\"text-align: left;\">\n",
       "      <th>Epoch</th>\n",
       "      <th>Training Loss</th>\n",
       "      <th>Validation Loss</th>\n",
       "      <th>Accuracy</th>\n",
       "      <th>Precision</th>\n",
       "      <th>Recall</th>\n",
       "      <th>F1</th>\n",
       "      <th>Precision Nonbully</th>\n",
       "      <th>Recall Nonbully</th>\n",
       "      <th>F1 Nonbully</th>\n",
       "      <th>Precision Harasser</th>\n",
       "      <th>Recall Harasser</th>\n",
       "      <th>F1 Harasser</th>\n",
       "      <th>Precision Victim</th>\n",
       "      <th>Recall Victim</th>\n",
       "      <th>F1 Victim</th>\n",
       "      <th>Precision Bydefender</th>\n",
       "      <th>Recall Bydefender</th>\n",
       "      <th>F1 Bydefender</th>\n",
       "    </tr>\n",
       "  </thead>\n",
       "  <tbody>\n",
       "    <tr>\n",
       "      <td>1</td>\n",
       "      <td>0.295600</td>\n",
       "      <td>0.167429</td>\n",
       "      <td>0.942094</td>\n",
       "      <td>0.486251</td>\n",
       "      <td>0.635428</td>\n",
       "      <td>0.539619</td>\n",
       "      <td>0.989385</td>\n",
       "      <td>0.959390</td>\n",
       "      <td>0.974157</td>\n",
       "      <td>0.421824</td>\n",
       "      <td>0.719444</td>\n",
       "      <td>0.531828</td>\n",
       "      <td>0.228916</td>\n",
       "      <td>0.281481</td>\n",
       "      <td>0.252492</td>\n",
       "      <td>0.304878</td>\n",
       "      <td>0.581395</td>\n",
       "      <td>0.400000</td>\n",
       "    </tr>\n",
       "    <tr>\n",
       "      <td>2</td>\n",
       "      <td>0.230100</td>\n",
       "      <td>0.159635</td>\n",
       "      <td>0.957951</td>\n",
       "      <td>0.588482</td>\n",
       "      <td>0.579921</td>\n",
       "      <td>0.573501</td>\n",
       "      <td>0.985477</td>\n",
       "      <td>0.977824</td>\n",
       "      <td>0.981635</td>\n",
       "      <td>0.509804</td>\n",
       "      <td>0.722222</td>\n",
       "      <td>0.597701</td>\n",
       "      <td>0.315789</td>\n",
       "      <td>0.177778</td>\n",
       "      <td>0.227488</td>\n",
       "      <td>0.542857</td>\n",
       "      <td>0.441860</td>\n",
       "      <td>0.487179</td>\n",
       "    </tr>\n",
       "    <tr>\n",
       "      <td>3</td>\n",
       "      <td>0.179700</td>\n",
       "      <td>0.177914</td>\n",
       "      <td>0.954922</td>\n",
       "      <td>0.552854</td>\n",
       "      <td>0.632889</td>\n",
       "      <td>0.581026</td>\n",
       "      <td>0.987646</td>\n",
       "      <td>0.972490</td>\n",
       "      <td>0.980009</td>\n",
       "      <td>0.496283</td>\n",
       "      <td>0.741667</td>\n",
       "      <td>0.594655</td>\n",
       "      <td>0.346535</td>\n",
       "      <td>0.259259</td>\n",
       "      <td>0.296610</td>\n",
       "      <td>0.380952</td>\n",
       "      <td>0.558140</td>\n",
       "      <td>0.452830</td>\n",
       "    </tr>\n",
       "    <tr>\n",
       "      <td>4</td>\n",
       "      <td>0.176400</td>\n",
       "      <td>0.193594</td>\n",
       "      <td>0.955813</td>\n",
       "      <td>0.589518</td>\n",
       "      <td>0.651106</td>\n",
       "      <td>0.614002</td>\n",
       "      <td>0.988394</td>\n",
       "      <td>0.972209</td>\n",
       "      <td>0.980235</td>\n",
       "      <td>0.505576</td>\n",
       "      <td>0.755556</td>\n",
       "      <td>0.605791</td>\n",
       "      <td>0.330769</td>\n",
       "      <td>0.318519</td>\n",
       "      <td>0.324528</td>\n",
       "      <td>0.533333</td>\n",
       "      <td>0.558140</td>\n",
       "      <td>0.545455</td>\n",
       "    </tr>\n",
       "  </tbody>\n",
       "</table><p>"
      ],
      "text/plain": [
       "<IPython.core.display.HTML object>"
      ]
     },
     "metadata": {},
     "output_type": "display_data"
    },
    {
     "name": "stderr",
     "output_type": "stream",
     "text": [
      "***** Running Evaluation *****\n",
      "  Num examples = 11225\n",
      "  Batch size = 8\n",
      "Saving model checkpoint to content/drive/MyDrive/output_Electra/fold2/checkpoint-4775\n",
      "Configuration saved in content/drive/MyDrive/output_Electra/fold2/checkpoint-4775/config.json\n",
      "Model weights saved in content/drive/MyDrive/output_Electra/fold2/checkpoint-4775/pytorch_model.bin\n",
      "***** Running Evaluation *****\n",
      "  Num examples = 11225\n",
      "  Batch size = 8\n",
      "Saving model checkpoint to content/drive/MyDrive/output_Electra/fold2/checkpoint-9550\n",
      "Configuration saved in content/drive/MyDrive/output_Electra/fold2/checkpoint-9550/config.json\n",
      "Model weights saved in content/drive/MyDrive/output_Electra/fold2/checkpoint-9550/pytorch_model.bin\n",
      "***** Running Evaluation *****\n",
      "  Num examples = 11225\n",
      "  Batch size = 8\n",
      "Saving model checkpoint to content/drive/MyDrive/output_Electra/fold2/checkpoint-14325\n",
      "Configuration saved in content/drive/MyDrive/output_Electra/fold2/checkpoint-14325/config.json\n",
      "Model weights saved in content/drive/MyDrive/output_Electra/fold2/checkpoint-14325/pytorch_model.bin\n",
      "***** Running Evaluation *****\n",
      "  Num examples = 11225\n",
      "  Batch size = 8\n",
      "Saving model checkpoint to content/drive/MyDrive/output_Electra/fold2/checkpoint-19100\n",
      "Configuration saved in content/drive/MyDrive/output_Electra/fold2/checkpoint-19100/config.json\n",
      "Model weights saved in content/drive/MyDrive/output_Electra/fold2/checkpoint-19100/pytorch_model.bin\n",
      "\n",
      "\n",
      "Training completed. Do not forget to share your model on huggingface.co/models =)\n",
      "\n",
      "\n",
      "Loading best model from content/drive/MyDrive/output_Electra/fold2/checkpoint-9550 (score: 0.1596347987651825).\n",
      "2it [1:15:00, 2250.39s/it]"
     ]
    },
    {
     "name": "stdout",
     "output_type": "stream",
     "text": [
      "Complete for fold 2\n",
      "Running for Fold:  3\n",
      "38200\n",
      "Counter({0: 106872, 1: 3596, 2: 1354, 3: 425})\n",
      "Counter({0: 96185, 1: 3236, 2: 1219, 3: 382})\n",
      "Counter({0: 33363, 1: 3236, 2: 1219, 3: 382})\n",
      "Counter({0: 33363, 1: 3236, 2: 1219, 3: 382})\n"
     ]
    },
    {
     "name": "stderr",
     "output_type": "stream",
     "text": [
      "PyTorch: setting up devices\n",
      "The default value for the training argument `--report_to` will change in v5 (from all installed integrations to none). In v5, you will need to use `--report_to all` to get the same behavior as now. You should start updating your code and make this info disappear :-).\n",
      "/opt/conda/lib/python3.9/site-packages/transformers/optimization.py:306: FutureWarning: This implementation of AdamW is deprecated and will be removed in a future version. Use the PyTorch implementation torch.optim.AdamW instead, or set `no_deprecation_warning=True` to disable this warning\n",
      "  warnings.warn(\n",
      "***** Running training *****\n",
      "  Num examples = 38200\n",
      "  Num Epochs = 4\n",
      "  Instantaneous batch size per device = 8\n",
      "  Total train batch size (w. parallel, distributed & accumulation) = 8\n",
      "  Gradient Accumulation steps = 1\n",
      "  Total optimization steps = 19100\n"
     ]
    },
    {
     "data": {
      "text/html": [
       "\n",
       "    <div>\n",
       "      \n",
       "      <progress value='19100' max='19100' style='width:300px; height:20px; vertical-align: middle;'></progress>\n",
       "      [19100/19100 37:31, Epoch 4/4]\n",
       "    </div>\n",
       "    <table border=\"1\" class=\"dataframe\">\n",
       "  <thead>\n",
       " <tr style=\"text-align: left;\">\n",
       "      <th>Epoch</th>\n",
       "      <th>Training Loss</th>\n",
       "      <th>Validation Loss</th>\n",
       "      <th>Accuracy</th>\n",
       "      <th>Precision</th>\n",
       "      <th>Recall</th>\n",
       "      <th>F1</th>\n",
       "      <th>Precision Nonbully</th>\n",
       "      <th>Recall Nonbully</th>\n",
       "      <th>F1 Nonbully</th>\n",
       "      <th>Precision Harasser</th>\n",
       "      <th>Recall Harasser</th>\n",
       "      <th>F1 Harasser</th>\n",
       "      <th>Precision Victim</th>\n",
       "      <th>Recall Victim</th>\n",
       "      <th>F1 Victim</th>\n",
       "      <th>Precision Bydefender</th>\n",
       "      <th>Recall Bydefender</th>\n",
       "      <th>F1 Bydefender</th>\n",
       "    </tr>\n",
       "  </thead>\n",
       "  <tbody>\n",
       "    <tr>\n",
       "      <td>1</td>\n",
       "      <td>0.261300</td>\n",
       "      <td>0.132129</td>\n",
       "      <td>0.961158</td>\n",
       "      <td>0.623687</td>\n",
       "      <td>0.627028</td>\n",
       "      <td>0.619992</td>\n",
       "      <td>0.987921</td>\n",
       "      <td>0.979601</td>\n",
       "      <td>0.983744</td>\n",
       "      <td>0.546584</td>\n",
       "      <td>0.733333</td>\n",
       "      <td>0.626335</td>\n",
       "      <td>0.293578</td>\n",
       "      <td>0.237037</td>\n",
       "      <td>0.262295</td>\n",
       "      <td>0.666667</td>\n",
       "      <td>0.558140</td>\n",
       "      <td>0.607595</td>\n",
       "    </tr>\n",
       "    <tr>\n",
       "      <td>2</td>\n",
       "      <td>0.221000</td>\n",
       "      <td>0.150609</td>\n",
       "      <td>0.959465</td>\n",
       "      <td>0.595493</td>\n",
       "      <td>0.640125</td>\n",
       "      <td>0.608283</td>\n",
       "      <td>0.988724</td>\n",
       "      <td>0.976326</td>\n",
       "      <td>0.982486</td>\n",
       "      <td>0.524254</td>\n",
       "      <td>0.780556</td>\n",
       "      <td>0.627232</td>\n",
       "      <td>0.337079</td>\n",
       "      <td>0.222222</td>\n",
       "      <td>0.267857</td>\n",
       "      <td>0.531915</td>\n",
       "      <td>0.581395</td>\n",
       "      <td>0.555556</td>\n",
       "    </tr>\n",
       "    <tr>\n",
       "      <td>3</td>\n",
       "      <td>0.164600</td>\n",
       "      <td>0.158270</td>\n",
       "      <td>0.962227</td>\n",
       "      <td>0.595302</td>\n",
       "      <td>0.657049</td>\n",
       "      <td>0.622096</td>\n",
       "      <td>0.987561</td>\n",
       "      <td>0.980631</td>\n",
       "      <td>0.984084</td>\n",
       "      <td>0.593533</td>\n",
       "      <td>0.713889</td>\n",
       "      <td>0.648172</td>\n",
       "      <td>0.282258</td>\n",
       "      <td>0.259259</td>\n",
       "      <td>0.270270</td>\n",
       "      <td>0.517857</td>\n",
       "      <td>0.674419</td>\n",
       "      <td>0.585859</td>\n",
       "    </tr>\n",
       "    <tr>\n",
       "      <td>4</td>\n",
       "      <td>0.133900</td>\n",
       "      <td>0.183346</td>\n",
       "      <td>0.959376</td>\n",
       "      <td>0.590048</td>\n",
       "      <td>0.652282</td>\n",
       "      <td>0.617347</td>\n",
       "      <td>0.988915</td>\n",
       "      <td>0.976701</td>\n",
       "      <td>0.982770</td>\n",
       "      <td>0.553015</td>\n",
       "      <td>0.738889</td>\n",
       "      <td>0.632580</td>\n",
       "      <td>0.276596</td>\n",
       "      <td>0.288889</td>\n",
       "      <td>0.282609</td>\n",
       "      <td>0.541667</td>\n",
       "      <td>0.604651</td>\n",
       "      <td>0.571429</td>\n",
       "    </tr>\n",
       "  </tbody>\n",
       "</table><p>"
      ],
      "text/plain": [
       "<IPython.core.display.HTML object>"
      ]
     },
     "metadata": {},
     "output_type": "display_data"
    },
    {
     "name": "stderr",
     "output_type": "stream",
     "text": [
      "***** Running Evaluation *****\n",
      "  Num examples = 11225\n",
      "  Batch size = 8\n",
      "Saving model checkpoint to content/drive/MyDrive/output_Electra/fold3/checkpoint-4775\n",
      "Configuration saved in content/drive/MyDrive/output_Electra/fold3/checkpoint-4775/config.json\n",
      "Model weights saved in content/drive/MyDrive/output_Electra/fold3/checkpoint-4775/pytorch_model.bin\n",
      "***** Running Evaluation *****\n",
      "  Num examples = 11225\n",
      "  Batch size = 8\n",
      "Saving model checkpoint to content/drive/MyDrive/output_Electra/fold3/checkpoint-9550\n",
      "Configuration saved in content/drive/MyDrive/output_Electra/fold3/checkpoint-9550/config.json\n",
      "Model weights saved in content/drive/MyDrive/output_Electra/fold3/checkpoint-9550/pytorch_model.bin\n",
      "***** Running Evaluation *****\n",
      "  Num examples = 11225\n",
      "  Batch size = 8\n",
      "Saving model checkpoint to content/drive/MyDrive/output_Electra/fold3/checkpoint-14325\n",
      "Configuration saved in content/drive/MyDrive/output_Electra/fold3/checkpoint-14325/config.json\n",
      "Model weights saved in content/drive/MyDrive/output_Electra/fold3/checkpoint-14325/pytorch_model.bin\n",
      "***** Running Evaluation *****\n",
      "  Num examples = 11225\n",
      "  Batch size = 8\n",
      "Saving model checkpoint to content/drive/MyDrive/output_Electra/fold3/checkpoint-19100\n",
      "Configuration saved in content/drive/MyDrive/output_Electra/fold3/checkpoint-19100/config.json\n",
      "Model weights saved in content/drive/MyDrive/output_Electra/fold3/checkpoint-19100/pytorch_model.bin\n",
      "\n",
      "\n",
      "Training completed. Do not forget to share your model on huggingface.co/models =)\n",
      "\n",
      "\n",
      "Loading best model from content/drive/MyDrive/output_Electra/fold3/checkpoint-4775 (score: 0.1321289986371994).\n",
      "3it [1:52:39, 2254.42s/it]"
     ]
    },
    {
     "name": "stdout",
     "output_type": "stream",
     "text": [
      "Complete for fold 3\n",
      "Running for Fold:  4\n",
      "38200\n",
      "Counter({0: 106872, 1: 3596, 2: 1354, 3: 425})\n",
      "Counter({0: 96185, 1: 3236, 2: 1219, 3: 382})\n",
      "Counter({0: 33363, 1: 3236, 2: 1219, 3: 382})\n",
      "Counter({0: 33363, 1: 3236, 2: 1219, 3: 382})\n"
     ]
    },
    {
     "name": "stderr",
     "output_type": "stream",
     "text": [
      "PyTorch: setting up devices\n",
      "The default value for the training argument `--report_to` will change in v5 (from all installed integrations to none). In v5, you will need to use `--report_to all` to get the same behavior as now. You should start updating your code and make this info disappear :-).\n",
      "/opt/conda/lib/python3.9/site-packages/transformers/optimization.py:306: FutureWarning: This implementation of AdamW is deprecated and will be removed in a future version. Use the PyTorch implementation torch.optim.AdamW instead, or set `no_deprecation_warning=True` to disable this warning\n",
      "  warnings.warn(\n",
      "***** Running training *****\n",
      "  Num examples = 38200\n",
      "  Num Epochs = 4\n",
      "  Instantaneous batch size per device = 8\n",
      "  Total train batch size (w. parallel, distributed & accumulation) = 8\n",
      "  Gradient Accumulation steps = 1\n",
      "  Total optimization steps = 19100\n"
     ]
    },
    {
     "data": {
      "text/html": [
       "\n",
       "    <div>\n",
       "      \n",
       "      <progress value='19100' max='19100' style='width:300px; height:20px; vertical-align: middle;'></progress>\n",
       "      [19100/19100 37:30, Epoch 4/4]\n",
       "    </div>\n",
       "    <table border=\"1\" class=\"dataframe\">\n",
       "  <thead>\n",
       " <tr style=\"text-align: left;\">\n",
       "      <th>Epoch</th>\n",
       "      <th>Training Loss</th>\n",
       "      <th>Validation Loss</th>\n",
       "      <th>Accuracy</th>\n",
       "      <th>Precision</th>\n",
       "      <th>Recall</th>\n",
       "      <th>F1</th>\n",
       "      <th>Precision Nonbully</th>\n",
       "      <th>Recall Nonbully</th>\n",
       "      <th>F1 Nonbully</th>\n",
       "      <th>Precision Harasser</th>\n",
       "      <th>Recall Harasser</th>\n",
       "      <th>F1 Harasser</th>\n",
       "      <th>Precision Victim</th>\n",
       "      <th>Recall Victim</th>\n",
       "      <th>F1 Victim</th>\n",
       "      <th>Precision Bydefender</th>\n",
       "      <th>Recall Bydefender</th>\n",
       "      <th>F1 Bydefender</th>\n",
       "    </tr>\n",
       "  </thead>\n",
       "  <tbody>\n",
       "    <tr>\n",
       "      <td>1</td>\n",
       "      <td>0.235200</td>\n",
       "      <td>0.129389</td>\n",
       "      <td>0.963653</td>\n",
       "      <td>0.653538</td>\n",
       "      <td>0.678778</td>\n",
       "      <td>0.657998</td>\n",
       "      <td>0.991552</td>\n",
       "      <td>0.977449</td>\n",
       "      <td>0.984450</td>\n",
       "      <td>0.555140</td>\n",
       "      <td>0.825000</td>\n",
       "      <td>0.663687</td>\n",
       "      <td>0.428571</td>\n",
       "      <td>0.377778</td>\n",
       "      <td>0.401575</td>\n",
       "      <td>0.638889</td>\n",
       "      <td>0.534884</td>\n",
       "      <td>0.582278</td>\n",
       "    </tr>\n",
       "    <tr>\n",
       "      <td>2</td>\n",
       "      <td>0.199500</td>\n",
       "      <td>0.142258</td>\n",
       "      <td>0.959020</td>\n",
       "      <td>0.589111</td>\n",
       "      <td>0.714676</td>\n",
       "      <td>0.637985</td>\n",
       "      <td>0.992081</td>\n",
       "      <td>0.972958</td>\n",
       "      <td>0.982426</td>\n",
       "      <td>0.525735</td>\n",
       "      <td>0.794444</td>\n",
       "      <td>0.632743</td>\n",
       "      <td>0.375940</td>\n",
       "      <td>0.370370</td>\n",
       "      <td>0.373134</td>\n",
       "      <td>0.462687</td>\n",
       "      <td>0.720930</td>\n",
       "      <td>0.563636</td>\n",
       "    </tr>\n",
       "    <tr>\n",
       "      <td>3</td>\n",
       "      <td>0.180500</td>\n",
       "      <td>0.154404</td>\n",
       "      <td>0.962762</td>\n",
       "      <td>0.606556</td>\n",
       "      <td>0.698652</td>\n",
       "      <td>0.645821</td>\n",
       "      <td>0.991830</td>\n",
       "      <td>0.976888</td>\n",
       "      <td>0.984302</td>\n",
       "      <td>0.572854</td>\n",
       "      <td>0.797222</td>\n",
       "      <td>0.666667</td>\n",
       "      <td>0.370629</td>\n",
       "      <td>0.392593</td>\n",
       "      <td>0.381295</td>\n",
       "      <td>0.490909</td>\n",
       "      <td>0.627907</td>\n",
       "      <td>0.551020</td>\n",
       "    </tr>\n",
       "    <tr>\n",
       "      <td>4</td>\n",
       "      <td>0.142500</td>\n",
       "      <td>0.166893</td>\n",
       "      <td>0.961514</td>\n",
       "      <td>0.622503</td>\n",
       "      <td>0.698755</td>\n",
       "      <td>0.653777</td>\n",
       "      <td>0.991906</td>\n",
       "      <td>0.974736</td>\n",
       "      <td>0.983246</td>\n",
       "      <td>0.547486</td>\n",
       "      <td>0.816667</td>\n",
       "      <td>0.655518</td>\n",
       "      <td>0.407143</td>\n",
       "      <td>0.422222</td>\n",
       "      <td>0.414545</td>\n",
       "      <td>0.543478</td>\n",
       "      <td>0.581395</td>\n",
       "      <td>0.561798</td>\n",
       "    </tr>\n",
       "  </tbody>\n",
       "</table><p>"
      ],
      "text/plain": [
       "<IPython.core.display.HTML object>"
      ]
     },
     "metadata": {},
     "output_type": "display_data"
    },
    {
     "name": "stderr",
     "output_type": "stream",
     "text": [
      "***** Running Evaluation *****\n",
      "  Num examples = 11225\n",
      "  Batch size = 8\n",
      "Saving model checkpoint to content/drive/MyDrive/output_Electra/fold4/checkpoint-4775\n",
      "Configuration saved in content/drive/MyDrive/output_Electra/fold4/checkpoint-4775/config.json\n",
      "Model weights saved in content/drive/MyDrive/output_Electra/fold4/checkpoint-4775/pytorch_model.bin\n",
      "***** Running Evaluation *****\n",
      "  Num examples = 11225\n",
      "  Batch size = 8\n",
      "Saving model checkpoint to content/drive/MyDrive/output_Electra/fold4/checkpoint-9550\n",
      "Configuration saved in content/drive/MyDrive/output_Electra/fold4/checkpoint-9550/config.json\n",
      "Model weights saved in content/drive/MyDrive/output_Electra/fold4/checkpoint-9550/pytorch_model.bin\n",
      "***** Running Evaluation *****\n",
      "  Num examples = 11225\n",
      "  Batch size = 8\n",
      "Saving model checkpoint to content/drive/MyDrive/output_Electra/fold4/checkpoint-14325\n",
      "Configuration saved in content/drive/MyDrive/output_Electra/fold4/checkpoint-14325/config.json\n",
      "Model weights saved in content/drive/MyDrive/output_Electra/fold4/checkpoint-14325/pytorch_model.bin\n",
      "***** Running Evaluation *****\n",
      "  Num examples = 11225\n",
      "  Batch size = 8\n",
      "Saving model checkpoint to content/drive/MyDrive/output_Electra/fold4/checkpoint-19100\n",
      "Configuration saved in content/drive/MyDrive/output_Electra/fold4/checkpoint-19100/config.json\n",
      "Model weights saved in content/drive/MyDrive/output_Electra/fold4/checkpoint-19100/pytorch_model.bin\n",
      "\n",
      "\n",
      "Training completed. Do not forget to share your model on huggingface.co/models =)\n",
      "\n",
      "\n",
      "Loading best model from content/drive/MyDrive/output_Electra/fold4/checkpoint-4775 (score: 0.12938901782035828).\n",
      "4it [2:30:18, 2256.01s/it]"
     ]
    },
    {
     "name": "stdout",
     "output_type": "stream",
     "text": [
      "Complete for fold 4\n",
      "Running for Fold:  5\n",
      "38200\n",
      "Counter({0: 106872, 1: 3596, 2: 1354, 3: 425})\n",
      "Counter({0: 96185, 1: 3236, 2: 1219, 3: 382})\n",
      "Counter({0: 33363, 1: 3236, 2: 1219, 3: 382})\n",
      "Counter({0: 33363, 1: 3236, 2: 1219, 3: 382})\n"
     ]
    },
    {
     "name": "stderr",
     "output_type": "stream",
     "text": [
      "PyTorch: setting up devices\n",
      "The default value for the training argument `--report_to` will change in v5 (from all installed integrations to none). In v5, you will need to use `--report_to all` to get the same behavior as now. You should start updating your code and make this info disappear :-).\n",
      "/opt/conda/lib/python3.9/site-packages/transformers/optimization.py:306: FutureWarning: This implementation of AdamW is deprecated and will be removed in a future version. Use the PyTorch implementation torch.optim.AdamW instead, or set `no_deprecation_warning=True` to disable this warning\n",
      "  warnings.warn(\n",
      "***** Running training *****\n",
      "  Num examples = 38200\n",
      "  Num Epochs = 4\n",
      "  Instantaneous batch size per device = 8\n",
      "  Total train batch size (w. parallel, distributed & accumulation) = 8\n",
      "  Gradient Accumulation steps = 1\n",
      "  Total optimization steps = 19100\n"
     ]
    },
    {
     "data": {
      "text/html": [
       "\n",
       "    <div>\n",
       "      \n",
       "      <progress value='19100' max='19100' style='width:300px; height:20px; vertical-align: middle;'></progress>\n",
       "      [19100/19100 37:30, Epoch 4/4]\n",
       "    </div>\n",
       "    <table border=\"1\" class=\"dataframe\">\n",
       "  <thead>\n",
       " <tr style=\"text-align: left;\">\n",
       "      <th>Epoch</th>\n",
       "      <th>Training Loss</th>\n",
       "      <th>Validation Loss</th>\n",
       "      <th>Accuracy</th>\n",
       "      <th>Precision</th>\n",
       "      <th>Recall</th>\n",
       "      <th>F1</th>\n",
       "      <th>Precision Nonbully</th>\n",
       "      <th>Recall Nonbully</th>\n",
       "      <th>F1 Nonbully</th>\n",
       "      <th>Precision Harasser</th>\n",
       "      <th>Recall Harasser</th>\n",
       "      <th>F1 Harasser</th>\n",
       "      <th>Precision Victim</th>\n",
       "      <th>Recall Victim</th>\n",
       "      <th>F1 Victim</th>\n",
       "      <th>Precision Bydefender</th>\n",
       "      <th>Recall Bydefender</th>\n",
       "      <th>F1 Bydefender</th>\n",
       "    </tr>\n",
       "  </thead>\n",
       "  <tbody>\n",
       "    <tr>\n",
       "      <td>1</td>\n",
       "      <td>0.236000</td>\n",
       "      <td>0.107106</td>\n",
       "      <td>0.965969</td>\n",
       "      <td>0.628043</td>\n",
       "      <td>0.739851</td>\n",
       "      <td>0.671262</td>\n",
       "      <td>0.991852</td>\n",
       "      <td>0.979601</td>\n",
       "      <td>0.985689</td>\n",
       "      <td>0.603696</td>\n",
       "      <td>0.816667</td>\n",
       "      <td>0.694215</td>\n",
       "      <td>0.379310</td>\n",
       "      <td>0.325926</td>\n",
       "      <td>0.350598</td>\n",
       "      <td>0.537313</td>\n",
       "      <td>0.837209</td>\n",
       "      <td>0.654545</td>\n",
       "    </tr>\n",
       "    <tr>\n",
       "      <td>2</td>\n",
       "      <td>0.204500</td>\n",
       "      <td>0.143349</td>\n",
       "      <td>0.962049</td>\n",
       "      <td>0.687861</td>\n",
       "      <td>0.681293</td>\n",
       "      <td>0.664859</td>\n",
       "      <td>0.993513</td>\n",
       "      <td>0.974549</td>\n",
       "      <td>0.983940</td>\n",
       "      <td>0.532095</td>\n",
       "      <td>0.875000</td>\n",
       "      <td>0.661765</td>\n",
       "      <td>0.373984</td>\n",
       "      <td>0.340741</td>\n",
       "      <td>0.356589</td>\n",
       "      <td>0.851852</td>\n",
       "      <td>0.534884</td>\n",
       "      <td>0.657143</td>\n",
       "    </tr>\n",
       "    <tr>\n",
       "      <td>3</td>\n",
       "      <td>0.150600</td>\n",
       "      <td>0.146164</td>\n",
       "      <td>0.965612</td>\n",
       "      <td>0.649944</td>\n",
       "      <td>0.721357</td>\n",
       "      <td>0.678497</td>\n",
       "      <td>0.992124</td>\n",
       "      <td>0.978385</td>\n",
       "      <td>0.985207</td>\n",
       "      <td>0.590385</td>\n",
       "      <td>0.852778</td>\n",
       "      <td>0.697727</td>\n",
       "      <td>0.384615</td>\n",
       "      <td>0.333333</td>\n",
       "      <td>0.357143</td>\n",
       "      <td>0.632653</td>\n",
       "      <td>0.720930</td>\n",
       "      <td>0.673913</td>\n",
       "    </tr>\n",
       "    <tr>\n",
       "      <td>4</td>\n",
       "      <td>0.123900</td>\n",
       "      <td>0.157405</td>\n",
       "      <td>0.967038</td>\n",
       "      <td>0.652355</td>\n",
       "      <td>0.736716</td>\n",
       "      <td>0.689377</td>\n",
       "      <td>0.991389</td>\n",
       "      <td>0.980350</td>\n",
       "      <td>0.985839</td>\n",
       "      <td>0.630108</td>\n",
       "      <td>0.813889</td>\n",
       "      <td>0.710303</td>\n",
       "      <td>0.376812</td>\n",
       "      <td>0.385185</td>\n",
       "      <td>0.380952</td>\n",
       "      <td>0.611111</td>\n",
       "      <td>0.767442</td>\n",
       "      <td>0.680412</td>\n",
       "    </tr>\n",
       "  </tbody>\n",
       "</table><p>"
      ],
      "text/plain": [
       "<IPython.core.display.HTML object>"
      ]
     },
     "metadata": {},
     "output_type": "display_data"
    },
    {
     "name": "stderr",
     "output_type": "stream",
     "text": [
      "***** Running Evaluation *****\n",
      "  Num examples = 11225\n",
      "  Batch size = 8\n",
      "Saving model checkpoint to content/drive/MyDrive/output_Electra/fold5/checkpoint-4775\n",
      "Configuration saved in content/drive/MyDrive/output_Electra/fold5/checkpoint-4775/config.json\n",
      "Model weights saved in content/drive/MyDrive/output_Electra/fold5/checkpoint-4775/pytorch_model.bin\n",
      "***** Running Evaluation *****\n",
      "  Num examples = 11225\n",
      "  Batch size = 8\n",
      "Saving model checkpoint to content/drive/MyDrive/output_Electra/fold5/checkpoint-9550\n",
      "Configuration saved in content/drive/MyDrive/output_Electra/fold5/checkpoint-9550/config.json\n",
      "Model weights saved in content/drive/MyDrive/output_Electra/fold5/checkpoint-9550/pytorch_model.bin\n",
      "***** Running Evaluation *****\n",
      "  Num examples = 11225\n",
      "  Batch size = 8\n",
      "Saving model checkpoint to content/drive/MyDrive/output_Electra/fold5/checkpoint-14325\n",
      "Configuration saved in content/drive/MyDrive/output_Electra/fold5/checkpoint-14325/config.json\n",
      "Model weights saved in content/drive/MyDrive/output_Electra/fold5/checkpoint-14325/pytorch_model.bin\n",
      "***** Running Evaluation *****\n",
      "  Num examples = 11225\n",
      "  Batch size = 8\n",
      "Saving model checkpoint to content/drive/MyDrive/output_Electra/fold5/checkpoint-19100\n",
      "Configuration saved in content/drive/MyDrive/output_Electra/fold5/checkpoint-19100/config.json\n",
      "Model weights saved in content/drive/MyDrive/output_Electra/fold5/checkpoint-19100/pytorch_model.bin\n",
      "\n",
      "\n",
      "Training completed. Do not forget to share your model on huggingface.co/models =)\n",
      "\n",
      "\n",
      "Loading best model from content/drive/MyDrive/output_Electra/fold5/checkpoint-4775 (score: 0.10710639506578445).\n",
      "5it [3:07:56, 2255.35s/it]\n"
     ]
    },
    {
     "name": "stdout",
     "output_type": "stream",
     "text": [
      "Complete for fold 5\n"
     ]
    }
   ],
   "source": [
    "run_cross_validation(model_name='Electra',\n",
    "                         X=X,\n",
    "                         y=y, \n",
    "                         splits=5,\n",
    "                         epoch=4,\n",
    "                         checkpoint=False)"
   ]
  },
  {
   "cell_type": "markdown",
   "id": "6b715fea-bd3e-4eac-a5fc-b16247dbd098",
   "metadata": {},
   "source": [
    "### [Continue] Cross Validation (K = 5)"
   ]
  },
  {
   "cell_type": "code",
   "execution_count": null,
   "id": "b928c419-9f8a-4103-92f3-3eb2712857c2",
   "metadata": {},
   "outputs": [
    {
     "name": "stdout",
     "output_type": "stream",
     "text": [
      "Developing Model with Cross validation for: Electra\n"
     ]
    },
    {
     "name": "stderr",
     "output_type": "stream",
     "text": [
      "0it [00:00, ?it/s]"
     ]
    },
    {
     "name": "stdout",
     "output_type": "stream",
     "text": [
      "Running for Fold:  1\n",
      "38200\n",
      "Counter({0: 106872, 1: 3596, 2: 1354, 3: 425})\n",
      "Counter({0: 96185, 1: 3236, 2: 1219, 3: 382})\n",
      "Counter({0: 33363, 1: 3236, 2: 1219, 3: 382})\n",
      "Counter({0: 33363, 1: 3236, 2: 1219, 3: 382})\n"
     ]
    },
    {
     "name": "stderr",
     "output_type": "stream",
     "text": [
      "PyTorch: setting up devices\n",
      "The default value for the training argument `--report_to` will change in v5 (from all installed integrations to none). In v5, you will need to use `--report_to all` to get the same behavior as now. You should start updating your code and make this info disappear :-).\n",
      "Loading model from content/drive/MyDrive/output_Electra/fold1/checkpoint-19100).\n",
      "/opt/conda/lib/python3.9/site-packages/transformers/optimization.py:306: FutureWarning: This implementation of AdamW is deprecated and will be removed in a future version. Use the PyTorch implementation torch.optim.AdamW instead, or set `no_deprecation_warning=True` to disable this warning\n",
      "  warnings.warn(\n",
      "***** Running training *****\n",
      "  Num examples = 38200\n",
      "  Num Epochs = 8\n",
      "  Instantaneous batch size per device = 8\n",
      "  Total train batch size (w. parallel, distributed & accumulation) = 8\n",
      "  Gradient Accumulation steps = 1\n",
      "  Total optimization steps = 38200\n",
      "  Continuing training from checkpoint, will skip to saved global_step\n",
      "  Continuing training from epoch 4\n",
      "  Continuing training from global step 19100\n",
      "  Will skip the first 4 epochs then the first 0 batches in the first epoch. If this takes a lot of time, you can add the `--ignore_data_skip` flag to your launch command, but you will resume the training on data already seen by your model.\n"
     ]
    },
    {
     "data": {
      "application/vnd.jupyter.widget-view+json": {
       "model_id": "0eb01a42f99a40318b018e7f10f61588",
       "version_major": 2,
       "version_minor": 0
      },
      "text/plain": [
       "0it [00:00, ?it/s]"
      ]
     },
     "metadata": {},
     "output_type": "display_data"
    },
    {
     "data": {
      "text/html": [
       "\n",
       "    <div>\n",
       "      \n",
       "      <progress value='33425' max='38200' style='width:300px; height:20px; vertical-align: middle;'></progress>\n",
       "      [33425/38200 28:13 < 09:24, 8.46 it/s, Epoch 7/8]\n",
       "    </div>\n",
       "    <table border=\"1\" class=\"dataframe\">\n",
       "  <thead>\n",
       " <tr style=\"text-align: left;\">\n",
       "      <th>Epoch</th>\n",
       "      <th>Training Loss</th>\n",
       "      <th>Validation Loss</th>\n",
       "      <th>Accuracy</th>\n",
       "      <th>Precision</th>\n",
       "      <th>Recall</th>\n",
       "      <th>F1</th>\n",
       "      <th>Precision Nonbully</th>\n",
       "      <th>Recall Nonbully</th>\n",
       "      <th>F1 Nonbully</th>\n",
       "      <th>Precision Harasser</th>\n",
       "      <th>Recall Harasser</th>\n",
       "      <th>F1 Harasser</th>\n",
       "      <th>Precision Victim</th>\n",
       "      <th>Recall Victim</th>\n",
       "      <th>F1 Victim</th>\n",
       "      <th>Precision Bydefender</th>\n",
       "      <th>Recall Bydefender</th>\n",
       "      <th>F1 Bydefender</th>\n",
       "    </tr>\n",
       "  </thead>\n",
       "  <tbody>\n",
       "    <tr>\n",
       "      <td>5</td>\n",
       "      <td>0.226800</td>\n",
       "      <td>0.183163</td>\n",
       "      <td>0.950557</td>\n",
       "      <td>0.533779</td>\n",
       "      <td>0.539255</td>\n",
       "      <td>0.528559</td>\n",
       "      <td>0.984091</td>\n",
       "      <td>0.972396</td>\n",
       "      <td>0.978209</td>\n",
       "      <td>0.480167</td>\n",
       "      <td>0.638889</td>\n",
       "      <td>0.548272</td>\n",
       "      <td>0.226415</td>\n",
       "      <td>0.266667</td>\n",
       "      <td>0.244898</td>\n",
       "      <td>0.444444</td>\n",
       "      <td>0.279070</td>\n",
       "      <td>0.342857</td>\n",
       "    </tr>\n",
       "    <tr>\n",
       "      <td>6</td>\n",
       "      <td>0.181300</td>\n",
       "      <td>0.215123</td>\n",
       "      <td>0.946548</td>\n",
       "      <td>0.498362</td>\n",
       "      <td>0.579294</td>\n",
       "      <td>0.529694</td>\n",
       "      <td>0.984752</td>\n",
       "      <td>0.966876</td>\n",
       "      <td>0.975732</td>\n",
       "      <td>0.442029</td>\n",
       "      <td>0.677778</td>\n",
       "      <td>0.535088</td>\n",
       "      <td>0.233333</td>\n",
       "      <td>0.207407</td>\n",
       "      <td>0.219608</td>\n",
       "      <td>0.333333</td>\n",
       "      <td>0.465116</td>\n",
       "      <td>0.388350</td>\n",
       "    </tr>\n",
       "    <tr>\n",
       "      <td>7</td>\n",
       "      <td>0.170500</td>\n",
       "      <td>0.226283</td>\n",
       "      <td>0.949220</td>\n",
       "      <td>0.517173</td>\n",
       "      <td>0.589677</td>\n",
       "      <td>0.547970</td>\n",
       "      <td>0.983964</td>\n",
       "      <td>0.970338</td>\n",
       "      <td>0.977104</td>\n",
       "      <td>0.469136</td>\n",
       "      <td>0.633333</td>\n",
       "      <td>0.539007</td>\n",
       "      <td>0.253521</td>\n",
       "      <td>0.266667</td>\n",
       "      <td>0.259928</td>\n",
       "      <td>0.362069</td>\n",
       "      <td>0.488372</td>\n",
       "      <td>0.415842</td>\n",
       "    </tr>\n",
       "  </tbody>\n",
       "</table><p>"
      ],
      "text/plain": [
       "<IPython.core.display.HTML object>"
      ]
     },
     "metadata": {},
     "output_type": "display_data"
    },
    {
     "name": "stderr",
     "output_type": "stream",
     "text": [
      "***** Running Evaluation *****\n",
      "  Num examples = 11225\n",
      "  Batch size = 8\n",
      "Saving model checkpoint to content/drive/MyDrive/output_Electra/fold1/checkpoint-23875\n",
      "Configuration saved in content/drive/MyDrive/output_Electra/fold1/checkpoint-23875/config.json\n",
      "Model weights saved in content/drive/MyDrive/output_Electra/fold1/checkpoint-23875/pytorch_model.bin\n",
      "***** Running Evaluation *****\n",
      "  Num examples = 11225\n",
      "  Batch size = 8\n",
      "Saving model checkpoint to content/drive/MyDrive/output_Electra/fold1/checkpoint-28650\n",
      "Configuration saved in content/drive/MyDrive/output_Electra/fold1/checkpoint-28650/config.json\n",
      "Model weights saved in content/drive/MyDrive/output_Electra/fold1/checkpoint-28650/pytorch_model.bin\n",
      "***** Running Evaluation *****\n",
      "  Num examples = 11225\n",
      "  Batch size = 8\n",
      "Saving model checkpoint to content/drive/MyDrive/output_Electra/fold1/checkpoint-33425\n",
      "Configuration saved in content/drive/MyDrive/output_Electra/fold1/checkpoint-33425/config.json\n",
      "Model weights saved in content/drive/MyDrive/output_Electra/fold1/checkpoint-33425/pytorch_model.bin\n",
      "\n",
      "\n",
      "Training completed. Do not forget to share your model on huggingface.co/models =)\n",
      "\n",
      "\n",
      "Loading best model from content/drive/MyDrive/output_Electra/fold1/checkpoint-14325 (score: 0.1621275246143341).\n",
      "1it [28:20, 1700.75s/it]"
     ]
    },
    {
     "name": "stdout",
     "output_type": "stream",
     "text": [
      "Complete for fold 1\n",
      "Running for Fold:  2\n",
      "38200\n",
      "Counter({0: 106872, 1: 3596, 2: 1354, 3: 425})\n",
      "Counter({0: 96185, 1: 3236, 2: 1219, 3: 382})\n",
      "Counter({0: 33363, 1: 3236, 2: 1219, 3: 382})\n",
      "Counter({0: 33363, 1: 3236, 2: 1219, 3: 382})\n"
     ]
    },
    {
     "name": "stderr",
     "output_type": "stream",
     "text": [
      "PyTorch: setting up devices\n",
      "The default value for the training argument `--report_to` will change in v5 (from all installed integrations to none). In v5, you will need to use `--report_to all` to get the same behavior as now. You should start updating your code and make this info disappear :-).\n",
      "Loading model from content/drive/MyDrive/output_Electra/fold2/checkpoint-19100).\n",
      "/opt/conda/lib/python3.9/site-packages/transformers/optimization.py:306: FutureWarning: This implementation of AdamW is deprecated and will be removed in a future version. Use the PyTorch implementation torch.optim.AdamW instead, or set `no_deprecation_warning=True` to disable this warning\n",
      "  warnings.warn(\n",
      "***** Running training *****\n",
      "  Num examples = 38200\n",
      "  Num Epochs = 8\n",
      "  Instantaneous batch size per device = 8\n",
      "  Total train batch size (w. parallel, distributed & accumulation) = 8\n",
      "  Gradient Accumulation steps = 1\n",
      "  Total optimization steps = 38200\n",
      "  Continuing training from checkpoint, will skip to saved global_step\n",
      "  Continuing training from epoch 4\n",
      "  Continuing training from global step 19100\n",
      "  Will skip the first 4 epochs then the first 0 batches in the first epoch. If this takes a lot of time, you can add the `--ignore_data_skip` flag to your launch command, but you will resume the training on data already seen by your model.\n"
     ]
    },
    {
     "data": {
      "application/vnd.jupyter.widget-view+json": {
       "model_id": "6cc51ebc42cf4ddebc42d28667477a68",
       "version_major": 2,
       "version_minor": 0
      },
      "text/plain": [
       "0it [00:00, ?it/s]"
      ]
     },
     "metadata": {},
     "output_type": "display_data"
    },
    {
     "data": {
      "text/html": [
       "\n",
       "    <div>\n",
       "      \n",
       "      <progress value='33425' max='38200' style='width:300px; height:20px; vertical-align: middle;'></progress>\n",
       "      [33425/38200 28:09 < 09:23, 8.48 it/s, Epoch 7/8]\n",
       "    </div>\n",
       "    <table border=\"1\" class=\"dataframe\">\n",
       "  <thead>\n",
       " <tr style=\"text-align: left;\">\n",
       "      <th>Epoch</th>\n",
       "      <th>Training Loss</th>\n",
       "      <th>Validation Loss</th>\n",
       "      <th>Accuracy</th>\n",
       "      <th>Precision</th>\n",
       "      <th>Recall</th>\n",
       "      <th>F1</th>\n",
       "      <th>Precision Nonbully</th>\n",
       "      <th>Recall Nonbully</th>\n",
       "      <th>F1 Nonbully</th>\n",
       "      <th>Precision Harasser</th>\n",
       "      <th>Recall Harasser</th>\n",
       "      <th>F1 Harasser</th>\n",
       "      <th>Precision Victim</th>\n",
       "      <th>Recall Victim</th>\n",
       "      <th>F1 Victim</th>\n",
       "      <th>Precision Bydefender</th>\n",
       "      <th>Recall Bydefender</th>\n",
       "      <th>F1 Bydefender</th>\n",
       "    </tr>\n",
       "  </thead>\n",
       "  <tbody>\n",
       "    <tr>\n",
       "      <td>5</td>\n",
       "      <td>0.190800</td>\n",
       "      <td>0.209419</td>\n",
       "      <td>0.950735</td>\n",
       "      <td>0.615545</td>\n",
       "      <td>0.620514</td>\n",
       "      <td>0.596557</td>\n",
       "      <td>0.989470</td>\n",
       "      <td>0.967156</td>\n",
       "      <td>0.978186</td>\n",
       "      <td>0.483126</td>\n",
       "      <td>0.755556</td>\n",
       "      <td>0.589382</td>\n",
       "      <td>0.239583</td>\n",
       "      <td>0.340741</td>\n",
       "      <td>0.281346</td>\n",
       "      <td>0.750000</td>\n",
       "      <td>0.418605</td>\n",
       "      <td>0.537313</td>\n",
       "    </tr>\n",
       "    <tr>\n",
       "      <td>6</td>\n",
       "      <td>0.147300</td>\n",
       "      <td>0.216284</td>\n",
       "      <td>0.953853</td>\n",
       "      <td>0.554308</td>\n",
       "      <td>0.604926</td>\n",
       "      <td>0.574608</td>\n",
       "      <td>0.987457</td>\n",
       "      <td>0.972396</td>\n",
       "      <td>0.979869</td>\n",
       "      <td>0.530398</td>\n",
       "      <td>0.702778</td>\n",
       "      <td>0.604540</td>\n",
       "      <td>0.237838</td>\n",
       "      <td>0.325926</td>\n",
       "      <td>0.275000</td>\n",
       "      <td>0.461538</td>\n",
       "      <td>0.418605</td>\n",
       "      <td>0.439024</td>\n",
       "    </tr>\n",
       "    <tr>\n",
       "      <td>7</td>\n",
       "      <td>0.132300</td>\n",
       "      <td>0.226952</td>\n",
       "      <td>0.956526</td>\n",
       "      <td>0.581745</td>\n",
       "      <td>0.629714</td>\n",
       "      <td>0.600931</td>\n",
       "      <td>0.987664</td>\n",
       "      <td>0.973894</td>\n",
       "      <td>0.980730</td>\n",
       "      <td>0.524462</td>\n",
       "      <td>0.744444</td>\n",
       "      <td>0.615385</td>\n",
       "      <td>0.291045</td>\n",
       "      <td>0.288889</td>\n",
       "      <td>0.289963</td>\n",
       "      <td>0.523810</td>\n",
       "      <td>0.511628</td>\n",
       "      <td>0.517647</td>\n",
       "    </tr>\n",
       "  </tbody>\n",
       "</table><p>"
      ],
      "text/plain": [
       "<IPython.core.display.HTML object>"
      ]
     },
     "metadata": {},
     "output_type": "display_data"
    },
    {
     "name": "stderr",
     "output_type": "stream",
     "text": [
      "***** Running Evaluation *****\n",
      "  Num examples = 11225\n",
      "  Batch size = 8\n",
      "Saving model checkpoint to content/drive/MyDrive/output_Electra/fold2/checkpoint-23875\n",
      "Configuration saved in content/drive/MyDrive/output_Electra/fold2/checkpoint-23875/config.json\n",
      "Model weights saved in content/drive/MyDrive/output_Electra/fold2/checkpoint-23875/pytorch_model.bin\n",
      "***** Running Evaluation *****\n",
      "  Num examples = 11225\n",
      "  Batch size = 8\n",
      "Saving model checkpoint to content/drive/MyDrive/output_Electra/fold2/checkpoint-28650\n",
      "Configuration saved in content/drive/MyDrive/output_Electra/fold2/checkpoint-28650/config.json\n",
      "Model weights saved in content/drive/MyDrive/output_Electra/fold2/checkpoint-28650/pytorch_model.bin\n",
      "***** Running Evaluation *****\n",
      "  Num examples = 11225\n",
      "  Batch size = 8\n",
      "Saving model checkpoint to content/drive/MyDrive/output_Electra/fold2/checkpoint-33425\n",
      "Configuration saved in content/drive/MyDrive/output_Electra/fold2/checkpoint-33425/config.json\n",
      "Model weights saved in content/drive/MyDrive/output_Electra/fold2/checkpoint-33425/pytorch_model.bin\n",
      "\n",
      "\n",
      "Training completed. Do not forget to share your model on huggingface.co/models =)\n",
      "\n",
      "\n",
      "Loading best model from content/drive/MyDrive/output_Electra/fold2/checkpoint-9550 (score: 0.1596347987651825).\n",
      "2it [56:38, 1699.10s/it]"
     ]
    },
    {
     "name": "stdout",
     "output_type": "stream",
     "text": [
      "Complete for fold 2\n",
      "Running for Fold:  3\n",
      "38200\n",
      "Counter({0: 106872, 1: 3596, 2: 1354, 3: 425})\n",
      "Counter({0: 96185, 1: 3236, 2: 1219, 3: 382})\n",
      "Counter({0: 33363, 1: 3236, 2: 1219, 3: 382})\n",
      "Counter({0: 33363, 1: 3236, 2: 1219, 3: 382})\n"
     ]
    },
    {
     "name": "stderr",
     "output_type": "stream",
     "text": [
      "PyTorch: setting up devices\n",
      "The default value for the training argument `--report_to` will change in v5 (from all installed integrations to none). In v5, you will need to use `--report_to all` to get the same behavior as now. You should start updating your code and make this info disappear :-).\n",
      "Loading model from content/drive/MyDrive/output_Electra/fold3/checkpoint-19100).\n",
      "/opt/conda/lib/python3.9/site-packages/transformers/optimization.py:306: FutureWarning: This implementation of AdamW is deprecated and will be removed in a future version. Use the PyTorch implementation torch.optim.AdamW instead, or set `no_deprecation_warning=True` to disable this warning\n",
      "  warnings.warn(\n",
      "***** Running training *****\n",
      "  Num examples = 38200\n",
      "  Num Epochs = 8\n",
      "  Instantaneous batch size per device = 8\n",
      "  Total train batch size (w. parallel, distributed & accumulation) = 8\n",
      "  Gradient Accumulation steps = 1\n",
      "  Total optimization steps = 38200\n",
      "  Continuing training from checkpoint, will skip to saved global_step\n",
      "  Continuing training from epoch 4\n",
      "  Continuing training from global step 19100\n",
      "  Will skip the first 4 epochs then the first 0 batches in the first epoch. If this takes a lot of time, you can add the `--ignore_data_skip` flag to your launch command, but you will resume the training on data already seen by your model.\n"
     ]
    },
    {
     "data": {
      "application/vnd.jupyter.widget-view+json": {
       "model_id": "4d09f0c7ac4e4ac081e5e82c11a900eb",
       "version_major": 2,
       "version_minor": 0
      },
      "text/plain": [
       "0it [00:00, ?it/s]"
      ]
     },
     "metadata": {},
     "output_type": "display_data"
    },
    {
     "data": {
      "text/html": [
       "\n",
       "    <div>\n",
       "      \n",
       "      <progress value='24350' max='38200' style='width:300px; height:20px; vertical-align: middle;'></progress>\n",
       "      [24350/38200 10:13 < 26:59, 8.55 it/s, Epoch 5.10/8]\n",
       "    </div>\n",
       "    <table border=\"1\" class=\"dataframe\">\n",
       "  <thead>\n",
       " <tr style=\"text-align: left;\">\n",
       "      <th>Epoch</th>\n",
       "      <th>Training Loss</th>\n",
       "      <th>Validation Loss</th>\n",
       "      <th>Accuracy</th>\n",
       "      <th>Precision</th>\n",
       "      <th>Recall</th>\n",
       "      <th>F1</th>\n",
       "      <th>Precision Nonbully</th>\n",
       "      <th>Recall Nonbully</th>\n",
       "      <th>F1 Nonbully</th>\n",
       "      <th>Precision Harasser</th>\n",
       "      <th>Recall Harasser</th>\n",
       "      <th>F1 Harasser</th>\n",
       "      <th>Precision Victim</th>\n",
       "      <th>Recall Victim</th>\n",
       "      <th>F1 Victim</th>\n",
       "      <th>Precision Bydefender</th>\n",
       "      <th>Recall Bydefender</th>\n",
       "      <th>F1 Bydefender</th>\n",
       "    </tr>\n",
       "  </thead>\n",
       "  <tbody>\n",
       "    <tr>\n",
       "      <td>5</td>\n",
       "      <td>0.143500</td>\n",
       "      <td>0.184056</td>\n",
       "      <td>0.960535</td>\n",
       "      <td>0.595875</td>\n",
       "      <td>0.660504</td>\n",
       "      <td>0.625090</td>\n",
       "      <td>0.988183</td>\n",
       "      <td>0.978104</td>\n",
       "      <td>0.983118</td>\n",
       "      <td>0.605201</td>\n",
       "      <td>0.711111</td>\n",
       "      <td>0.653895</td>\n",
       "      <td>0.270115</td>\n",
       "      <td>0.348148</td>\n",
       "      <td>0.304207</td>\n",
       "      <td>0.520000</td>\n",
       "      <td>0.604651</td>\n",
       "      <td>0.559140</td>\n",
       "    </tr>\n",
       "  </tbody>\n",
       "</table><p>"
      ],
      "text/plain": [
       "<IPython.core.display.HTML object>"
      ]
     },
     "metadata": {},
     "output_type": "display_data"
    },
    {
     "name": "stderr",
     "output_type": "stream",
     "text": [
      "***** Running Evaluation *****\n",
      "  Num examples = 11225\n",
      "  Batch size = 8\n",
      "Saving model checkpoint to content/drive/MyDrive/output_Electra/fold3/checkpoint-23875\n",
      "Configuration saved in content/drive/MyDrive/output_Electra/fold3/checkpoint-23875/config.json\n",
      "Model weights saved in content/drive/MyDrive/output_Electra/fold3/checkpoint-23875/pytorch_model.bin\n"
     ]
    }
   ],
   "source": [
    "run_cross_validation(model_name='Electra',\n",
    "                         X=X,\n",
    "                         y=y, \n",
    "                         splits=5,\n",
    "                         epoch=8,\n",
    "                         checkpoint=True)"
   ]
  },
  {
   "cell_type": "markdown",
   "id": "9d97c1ad-8040-4cfb-a288-3051666f7fe1",
   "metadata": {},
   "source": [
    "### [Continue] Cross Validation (K = 5)"
   ]
  },
  {
   "cell_type": "code",
   "execution_count": 9,
   "id": "5f15693f-02fd-41c5-9514-7a6c03fe1865",
   "metadata": {},
   "outputs": [
    {
     "name": "stdout",
     "output_type": "stream",
     "text": [
      "Developing Model with Cross validation for: Electra\n"
     ]
    },
    {
     "name": "stderr",
     "output_type": "stream",
     "text": [
      "0it [00:00, ?it/s]"
     ]
    },
    {
     "name": "stdout",
     "output_type": "stream",
     "text": [
      "Running for Fold:  1\n",
      "38200\n",
      "Counter({0: 106872, 1: 3596, 2: 1354, 3: 425})\n",
      "Counter({0: 96185, 1: 3236, 2: 1219, 3: 382})\n",
      "Counter({0: 33363, 1: 3236, 2: 1219, 3: 382})\n",
      "Counter({0: 33363, 1: 3236, 2: 1219, 3: 382})\n"
     ]
    },
    {
     "name": "stderr",
     "output_type": "stream",
     "text": [
      "Loading model from content/drive/MyDrive/output_Electra/fold1/checkpoint-33425).\n",
      "/opt/conda/lib/python3.9/site-packages/transformers/optimization.py:306: FutureWarning: This implementation of AdamW is deprecated and will be removed in a future version. Use the PyTorch implementation torch.optim.AdamW instead, or set `no_deprecation_warning=True` to disable this warning\n",
      "  warnings.warn(\n",
      "***** Running training *****\n",
      "  Num examples = 38200\n",
      "  Num Epochs = 8\n",
      "  Instantaneous batch size per device = 8\n",
      "  Total train batch size (w. parallel, distributed & accumulation) = 8\n",
      "  Gradient Accumulation steps = 1\n",
      "  Total optimization steps = 38200\n",
      "  Continuing training from checkpoint, will skip to saved global_step\n",
      "  Continuing training from epoch 7\n",
      "  Continuing training from global step 33425\n",
      "  Will skip the first 7 epochs then the first 0 batches in the first epoch. If this takes a lot of time, you can add the `--ignore_data_skip` flag to your launch command, but you will resume the training on data already seen by your model.\n"
     ]
    },
    {
     "data": {
      "application/vnd.jupyter.widget-view+json": {
       "model_id": "0e3ddf4fdc4d4fb1a67a674aea995517",
       "version_major": 2,
       "version_minor": 0
      },
      "text/plain": [
       "0it [00:00, ?it/s]"
      ]
     },
     "metadata": {},
     "output_type": "display_data"
    },
    {
     "data": {
      "text/html": [
       "\n",
       "    <div>\n",
       "      \n",
       "      <progress value='38200' max='38200' style='width:300px; height:20px; vertical-align: middle;'></progress>\n",
       "      [38200/38200 09:19, Epoch 8/8]\n",
       "    </div>\n",
       "    <table border=\"1\" class=\"dataframe\">\n",
       "  <thead>\n",
       " <tr style=\"text-align: left;\">\n",
       "      <th>Epoch</th>\n",
       "      <th>Training Loss</th>\n",
       "      <th>Validation Loss</th>\n",
       "      <th>Accuracy</th>\n",
       "      <th>Precision</th>\n",
       "      <th>Recall</th>\n",
       "      <th>F1</th>\n",
       "      <th>Precision Nonbully</th>\n",
       "      <th>Recall Nonbully</th>\n",
       "      <th>F1 Nonbully</th>\n",
       "      <th>Precision Harasser</th>\n",
       "      <th>Recall Harasser</th>\n",
       "      <th>F1 Harasser</th>\n",
       "      <th>Precision Victim</th>\n",
       "      <th>Recall Victim</th>\n",
       "      <th>F1 Victim</th>\n",
       "      <th>Precision Bydefender</th>\n",
       "      <th>Recall Bydefender</th>\n",
       "      <th>F1 Bydefender</th>\n",
       "    </tr>\n",
       "  </thead>\n",
       "  <tbody>\n",
       "    <tr>\n",
       "      <td>8</td>\n",
       "      <td>0.169200</td>\n",
       "      <td>0.250680</td>\n",
       "      <td>0.946548</td>\n",
       "      <td>0.508796</td>\n",
       "      <td>0.581116</td>\n",
       "      <td>0.539447</td>\n",
       "      <td>0.984753</td>\n",
       "      <td>0.966969</td>\n",
       "      <td>0.975780</td>\n",
       "      <td>0.465209</td>\n",
       "      <td>0.650000</td>\n",
       "      <td>0.542294</td>\n",
       "      <td>0.217877</td>\n",
       "      <td>0.288889</td>\n",
       "      <td>0.248408</td>\n",
       "      <td>0.367347</td>\n",
       "      <td>0.418605</td>\n",
       "      <td>0.391304</td>\n",
       "    </tr>\n",
       "  </tbody>\n",
       "</table><p>"
      ],
      "text/plain": [
       "<IPython.core.display.HTML object>"
      ]
     },
     "metadata": {},
     "output_type": "display_data"
    },
    {
     "name": "stderr",
     "output_type": "stream",
     "text": [
      "***** Running Evaluation *****\n",
      "  Num examples = 11225\n",
      "  Batch size = 8\n",
      "Saving model checkpoint to content/drive/MyDrive/output_Electra/fold1/checkpoint-38200\n",
      "Configuration saved in content/drive/MyDrive/output_Electra/fold1/checkpoint-38200/config.json\n",
      "Model weights saved in content/drive/MyDrive/output_Electra/fold1/checkpoint-38200/pytorch_model.bin\n",
      "\n",
      "\n",
      "Training completed. Do not forget to share your model on huggingface.co/models =)\n",
      "\n",
      "\n",
      "Loading best model from content/drive/MyDrive/output_Electra/fold1/checkpoint-14325 (score: 0.1621275246143341).\n",
      "1it [09:34, 574.37s/it]"
     ]
    },
    {
     "name": "stdout",
     "output_type": "stream",
     "text": [
      "Complete for fold 1\n",
      "Running for Fold:  2\n",
      "38200\n",
      "Counter({0: 106872, 1: 3596, 2: 1354, 3: 425})\n",
      "Counter({0: 96185, 1: 3236, 2: 1219, 3: 382})\n",
      "Counter({0: 33363, 1: 3236, 2: 1219, 3: 382})\n",
      "Counter({0: 33363, 1: 3236, 2: 1219, 3: 382})\n"
     ]
    },
    {
     "name": "stderr",
     "output_type": "stream",
     "text": [
      "PyTorch: setting up devices\n",
      "The default value for the training argument `--report_to` will change in v5 (from all installed integrations to none). In v5, you will need to use `--report_to all` to get the same behavior as now. You should start updating your code and make this info disappear :-).\n",
      "Loading model from content/drive/MyDrive/output_Electra/fold2/checkpoint-33425).\n",
      "/opt/conda/lib/python3.9/site-packages/transformers/optimization.py:306: FutureWarning: This implementation of AdamW is deprecated and will be removed in a future version. Use the PyTorch implementation torch.optim.AdamW instead, or set `no_deprecation_warning=True` to disable this warning\n",
      "  warnings.warn(\n",
      "***** Running training *****\n",
      "  Num examples = 38200\n",
      "  Num Epochs = 8\n",
      "  Instantaneous batch size per device = 8\n",
      "  Total train batch size (w. parallel, distributed & accumulation) = 8\n",
      "  Gradient Accumulation steps = 1\n",
      "  Total optimization steps = 38200\n",
      "  Continuing training from checkpoint, will skip to saved global_step\n",
      "  Continuing training from epoch 7\n",
      "  Continuing training from global step 33425\n",
      "  Will skip the first 7 epochs then the first 0 batches in the first epoch. If this takes a lot of time, you can add the `--ignore_data_skip` flag to your launch command, but you will resume the training on data already seen by your model.\n"
     ]
    },
    {
     "data": {
      "application/vnd.jupyter.widget-view+json": {
       "model_id": "7714f170c02946f58210532eaf8b894f",
       "version_major": 2,
       "version_minor": 0
      },
      "text/plain": [
       "0it [00:00, ?it/s]"
      ]
     },
     "metadata": {},
     "output_type": "display_data"
    },
    {
     "data": {
      "text/html": [
       "\n",
       "    <div>\n",
       "      \n",
       "      <progress value='38200' max='38200' style='width:300px; height:20px; vertical-align: middle;'></progress>\n",
       "      [38200/38200 09:20, Epoch 8/8]\n",
       "    </div>\n",
       "    <table border=\"1\" class=\"dataframe\">\n",
       "  <thead>\n",
       " <tr style=\"text-align: left;\">\n",
       "      <th>Epoch</th>\n",
       "      <th>Training Loss</th>\n",
       "      <th>Validation Loss</th>\n",
       "      <th>Accuracy</th>\n",
       "      <th>Precision</th>\n",
       "      <th>Recall</th>\n",
       "      <th>F1</th>\n",
       "      <th>Precision Nonbully</th>\n",
       "      <th>Recall Nonbully</th>\n",
       "      <th>F1 Nonbully</th>\n",
       "      <th>Precision Harasser</th>\n",
       "      <th>Recall Harasser</th>\n",
       "      <th>F1 Harasser</th>\n",
       "      <th>Precision Victim</th>\n",
       "      <th>Recall Victim</th>\n",
       "      <th>F1 Victim</th>\n",
       "      <th>Precision Bydefender</th>\n",
       "      <th>Recall Bydefender</th>\n",
       "      <th>F1 Bydefender</th>\n",
       "    </tr>\n",
       "  </thead>\n",
       "  <tbody>\n",
       "    <tr>\n",
       "      <td>8</td>\n",
       "      <td>0.130600</td>\n",
       "      <td>0.236152</td>\n",
       "      <td>0.955100</td>\n",
       "      <td>0.558696</td>\n",
       "      <td>0.622263</td>\n",
       "      <td>0.586130</td>\n",
       "      <td>0.987473</td>\n",
       "      <td>0.973613</td>\n",
       "      <td>0.980494</td>\n",
       "      <td>0.518145</td>\n",
       "      <td>0.713889</td>\n",
       "      <td>0.600467</td>\n",
       "      <td>0.250000</td>\n",
       "      <td>0.266667</td>\n",
       "      <td>0.258065</td>\n",
       "      <td>0.479167</td>\n",
       "      <td>0.534884</td>\n",
       "      <td>0.505495</td>\n",
       "    </tr>\n",
       "  </tbody>\n",
       "</table><p>"
      ],
      "text/plain": [
       "<IPython.core.display.HTML object>"
      ]
     },
     "metadata": {},
     "output_type": "display_data"
    },
    {
     "name": "stderr",
     "output_type": "stream",
     "text": [
      "***** Running Evaluation *****\n",
      "  Num examples = 11225\n",
      "  Batch size = 8\n",
      "Saving model checkpoint to content/drive/MyDrive/output_Electra/fold2/checkpoint-38200\n",
      "Configuration saved in content/drive/MyDrive/output_Electra/fold2/checkpoint-38200/config.json\n",
      "Model weights saved in content/drive/MyDrive/output_Electra/fold2/checkpoint-38200/pytorch_model.bin\n",
      "\n",
      "\n",
      "Training completed. Do not forget to share your model on huggingface.co/models =)\n",
      "\n",
      "\n",
      "Loading best model from content/drive/MyDrive/output_Electra/fold2/checkpoint-9550 (score: 0.1596347987651825).\n",
      "2it [19:06, 572.93s/it]"
     ]
    },
    {
     "name": "stdout",
     "output_type": "stream",
     "text": [
      "Complete for fold 2\n",
      "Running for Fold:  3\n",
      "38200\n",
      "Counter({0: 106872, 1: 3596, 2: 1354, 3: 425})\n",
      "Counter({0: 96185, 1: 3236, 2: 1219, 3: 382})\n",
      "Counter({0: 33363, 1: 3236, 2: 1219, 3: 382})\n",
      "Counter({0: 33363, 1: 3236, 2: 1219, 3: 382})\n"
     ]
    },
    {
     "name": "stderr",
     "output_type": "stream",
     "text": [
      "PyTorch: setting up devices\n",
      "The default value for the training argument `--report_to` will change in v5 (from all installed integrations to none). In v5, you will need to use `--report_to all` to get the same behavior as now. You should start updating your code and make this info disappear :-).\n",
      "Loading model from content/drive/MyDrive/output_Electra/fold3/checkpoint-23875).\n",
      "/opt/conda/lib/python3.9/site-packages/transformers/optimization.py:306: FutureWarning: This implementation of AdamW is deprecated and will be removed in a future version. Use the PyTorch implementation torch.optim.AdamW instead, or set `no_deprecation_warning=True` to disable this warning\n",
      "  warnings.warn(\n",
      "***** Running training *****\n",
      "  Num examples = 38200\n",
      "  Num Epochs = 8\n",
      "  Instantaneous batch size per device = 8\n",
      "  Total train batch size (w. parallel, distributed & accumulation) = 8\n",
      "  Gradient Accumulation steps = 1\n",
      "  Total optimization steps = 38200\n",
      "  Continuing training from checkpoint, will skip to saved global_step\n",
      "  Continuing training from epoch 5\n",
      "  Continuing training from global step 23875\n",
      "  Will skip the first 5 epochs then the first 0 batches in the first epoch. If this takes a lot of time, you can add the `--ignore_data_skip` flag to your launch command, but you will resume the training on data already seen by your model.\n"
     ]
    },
    {
     "data": {
      "application/vnd.jupyter.widget-view+json": {
       "model_id": "24cc13e7a80a46aebb9ab2d48d689aae",
       "version_major": 2,
       "version_minor": 0
      },
      "text/plain": [
       "0it [00:00, ?it/s]"
      ]
     },
     "metadata": {},
     "output_type": "display_data"
    },
    {
     "data": {
      "text/html": [
       "\n",
       "    <div>\n",
       "      \n",
       "      <progress value='38200' max='38200' style='width:300px; height:20px; vertical-align: middle;'></progress>\n",
       "      [38200/38200 28:03, Epoch 8/8]\n",
       "    </div>\n",
       "    <table border=\"1\" class=\"dataframe\">\n",
       "  <thead>\n",
       " <tr style=\"text-align: left;\">\n",
       "      <th>Epoch</th>\n",
       "      <th>Training Loss</th>\n",
       "      <th>Validation Loss</th>\n",
       "      <th>Accuracy</th>\n",
       "      <th>Precision</th>\n",
       "      <th>Recall</th>\n",
       "      <th>F1</th>\n",
       "      <th>Precision Nonbully</th>\n",
       "      <th>Recall Nonbully</th>\n",
       "      <th>F1 Nonbully</th>\n",
       "      <th>Precision Harasser</th>\n",
       "      <th>Recall Harasser</th>\n",
       "      <th>F1 Harasser</th>\n",
       "      <th>Precision Victim</th>\n",
       "      <th>Recall Victim</th>\n",
       "      <th>F1 Victim</th>\n",
       "      <th>Precision Bydefender</th>\n",
       "      <th>Recall Bydefender</th>\n",
       "      <th>F1 Bydefender</th>\n",
       "    </tr>\n",
       "  </thead>\n",
       "  <tbody>\n",
       "    <tr>\n",
       "      <td>6</td>\n",
       "      <td>0.150800</td>\n",
       "      <td>0.198749</td>\n",
       "      <td>0.960713</td>\n",
       "      <td>0.587982</td>\n",
       "      <td>0.655921</td>\n",
       "      <td>0.618241</td>\n",
       "      <td>0.988092</td>\n",
       "      <td>0.978291</td>\n",
       "      <td>0.983167</td>\n",
       "      <td>0.581655</td>\n",
       "      <td>0.722222</td>\n",
       "      <td>0.644362</td>\n",
       "      <td>0.300699</td>\n",
       "      <td>0.318519</td>\n",
       "      <td>0.309353</td>\n",
       "      <td>0.481481</td>\n",
       "      <td>0.604651</td>\n",
       "      <td>0.536082</td>\n",
       "    </tr>\n",
       "    <tr>\n",
       "      <td>7</td>\n",
       "      <td>0.114900</td>\n",
       "      <td>0.217953</td>\n",
       "      <td>0.957416</td>\n",
       "      <td>0.585450</td>\n",
       "      <td>0.660658</td>\n",
       "      <td>0.618591</td>\n",
       "      <td>0.988896</td>\n",
       "      <td>0.975016</td>\n",
       "      <td>0.981907</td>\n",
       "      <td>0.545455</td>\n",
       "      <td>0.700000</td>\n",
       "      <td>0.613139</td>\n",
       "      <td>0.276836</td>\n",
       "      <td>0.362963</td>\n",
       "      <td>0.314103</td>\n",
       "      <td>0.530612</td>\n",
       "      <td>0.604651</td>\n",
       "      <td>0.565217</td>\n",
       "    </tr>\n",
       "    <tr>\n",
       "      <td>8</td>\n",
       "      <td>0.084700</td>\n",
       "      <td>0.231821</td>\n",
       "      <td>0.959109</td>\n",
       "      <td>0.586246</td>\n",
       "      <td>0.667933</td>\n",
       "      <td>0.622177</td>\n",
       "      <td>0.989097</td>\n",
       "      <td>0.976233</td>\n",
       "      <td>0.982623</td>\n",
       "      <td>0.554604</td>\n",
       "      <td>0.719444</td>\n",
       "      <td>0.626360</td>\n",
       "      <td>0.301282</td>\n",
       "      <td>0.348148</td>\n",
       "      <td>0.323024</td>\n",
       "      <td>0.500000</td>\n",
       "      <td>0.627907</td>\n",
       "      <td>0.556701</td>\n",
       "    </tr>\n",
       "  </tbody>\n",
       "</table><p>"
      ],
      "text/plain": [
       "<IPython.core.display.HTML object>"
      ]
     },
     "metadata": {},
     "output_type": "display_data"
    },
    {
     "name": "stderr",
     "output_type": "stream",
     "text": [
      "***** Running Evaluation *****\n",
      "  Num examples = 11225\n",
      "  Batch size = 8\n",
      "Saving model checkpoint to content/drive/MyDrive/output_Electra/fold3/checkpoint-28650\n",
      "Configuration saved in content/drive/MyDrive/output_Electra/fold3/checkpoint-28650/config.json\n",
      "Model weights saved in content/drive/MyDrive/output_Electra/fold3/checkpoint-28650/pytorch_model.bin\n",
      "***** Running Evaluation *****\n",
      "  Num examples = 11225\n",
      "  Batch size = 8\n",
      "Saving model checkpoint to content/drive/MyDrive/output_Electra/fold3/checkpoint-33425\n",
      "Configuration saved in content/drive/MyDrive/output_Electra/fold3/checkpoint-33425/config.json\n",
      "Model weights saved in content/drive/MyDrive/output_Electra/fold3/checkpoint-33425/pytorch_model.bin\n",
      "***** Running Evaluation *****\n",
      "  Num examples = 11225\n",
      "  Batch size = 8\n",
      "Saving model checkpoint to content/drive/MyDrive/output_Electra/fold3/checkpoint-38200\n",
      "Configuration saved in content/drive/MyDrive/output_Electra/fold3/checkpoint-38200/config.json\n",
      "Model weights saved in content/drive/MyDrive/output_Electra/fold3/checkpoint-38200/pytorch_model.bin\n",
      "\n",
      "\n",
      "Training completed. Do not forget to share your model on huggingface.co/models =)\n",
      "\n",
      "\n",
      "Loading best model from content/drive/MyDrive/output_Electra/fold3/checkpoint-4775 (score: 0.1321289986371994).\n",
      "3it [47:19, 1084.59s/it]"
     ]
    },
    {
     "name": "stdout",
     "output_type": "stream",
     "text": [
      "Complete for fold 3\n",
      "Running for Fold:  4\n",
      "38200\n",
      "Counter({0: 106872, 1: 3596, 2: 1354, 3: 425})\n",
      "Counter({0: 96185, 1: 3236, 2: 1219, 3: 382})\n",
      "Counter({0: 33363, 1: 3236, 2: 1219, 3: 382})\n",
      "Counter({0: 33363, 1: 3236, 2: 1219, 3: 382})\n"
     ]
    },
    {
     "name": "stderr",
     "output_type": "stream",
     "text": [
      "PyTorch: setting up devices\n",
      "The default value for the training argument `--report_to` will change in v5 (from all installed integrations to none). In v5, you will need to use `--report_to all` to get the same behavior as now. You should start updating your code and make this info disappear :-).\n",
      "Loading model from content/drive/MyDrive/output_Electra/fold4/checkpoint-19100).\n",
      "/opt/conda/lib/python3.9/site-packages/transformers/optimization.py:306: FutureWarning: This implementation of AdamW is deprecated and will be removed in a future version. Use the PyTorch implementation torch.optim.AdamW instead, or set `no_deprecation_warning=True` to disable this warning\n",
      "  warnings.warn(\n",
      "***** Running training *****\n",
      "  Num examples = 38200\n",
      "  Num Epochs = 8\n",
      "  Instantaneous batch size per device = 8\n",
      "  Total train batch size (w. parallel, distributed & accumulation) = 8\n",
      "  Gradient Accumulation steps = 1\n",
      "  Total optimization steps = 38200\n",
      "  Continuing training from checkpoint, will skip to saved global_step\n",
      "  Continuing training from epoch 4\n",
      "  Continuing training from global step 19100\n",
      "  Will skip the first 4 epochs then the first 0 batches in the first epoch. If this takes a lot of time, you can add the `--ignore_data_skip` flag to your launch command, but you will resume the training on data already seen by your model.\n"
     ]
    },
    {
     "data": {
      "application/vnd.jupyter.widget-view+json": {
       "model_id": "a6e3d36262a3420cb1ea600f59d09378",
       "version_major": 2,
       "version_minor": 0
      },
      "text/plain": [
       "0it [00:00, ?it/s]"
      ]
     },
     "metadata": {},
     "output_type": "display_data"
    },
    {
     "data": {
      "text/html": [
       "\n",
       "    <div>\n",
       "      \n",
       "      <progress value='33425' max='38200' style='width:300px; height:20px; vertical-align: middle;'></progress>\n",
       "      [33425/38200 27:50 < 09:17, 8.57 it/s, Epoch 7/8]\n",
       "    </div>\n",
       "    <table border=\"1\" class=\"dataframe\">\n",
       "  <thead>\n",
       " <tr style=\"text-align: left;\">\n",
       "      <th>Epoch</th>\n",
       "      <th>Training Loss</th>\n",
       "      <th>Validation Loss</th>\n",
       "      <th>Accuracy</th>\n",
       "      <th>Precision</th>\n",
       "      <th>Recall</th>\n",
       "      <th>F1</th>\n",
       "      <th>Precision Nonbully</th>\n",
       "      <th>Recall Nonbully</th>\n",
       "      <th>F1 Nonbully</th>\n",
       "      <th>Precision Harasser</th>\n",
       "      <th>Recall Harasser</th>\n",
       "      <th>F1 Harasser</th>\n",
       "      <th>Precision Victim</th>\n",
       "      <th>Recall Victim</th>\n",
       "      <th>F1 Victim</th>\n",
       "      <th>Precision Bydefender</th>\n",
       "      <th>Recall Bydefender</th>\n",
       "      <th>F1 Bydefender</th>\n",
       "    </tr>\n",
       "  </thead>\n",
       "  <tbody>\n",
       "    <tr>\n",
       "      <td>5</td>\n",
       "      <td>0.143600</td>\n",
       "      <td>0.159402</td>\n",
       "      <td>0.962940</td>\n",
       "      <td>0.625676</td>\n",
       "      <td>0.651763</td>\n",
       "      <td>0.633173</td>\n",
       "      <td>0.990343</td>\n",
       "      <td>0.978759</td>\n",
       "      <td>0.984517</td>\n",
       "      <td>0.558416</td>\n",
       "      <td>0.783333</td>\n",
       "      <td>0.652023</td>\n",
       "      <td>0.375000</td>\n",
       "      <td>0.333333</td>\n",
       "      <td>0.352941</td>\n",
       "      <td>0.578947</td>\n",
       "      <td>0.511628</td>\n",
       "      <td>0.543210</td>\n",
       "    </tr>\n",
       "    <tr>\n",
       "      <td>6</td>\n",
       "      <td>0.136800</td>\n",
       "      <td>0.195283</td>\n",
       "      <td>0.959020</td>\n",
       "      <td>0.596164</td>\n",
       "      <td>0.684931</td>\n",
       "      <td>0.632798</td>\n",
       "      <td>0.991609</td>\n",
       "      <td>0.973145</td>\n",
       "      <td>0.982290</td>\n",
       "      <td>0.529412</td>\n",
       "      <td>0.800000</td>\n",
       "      <td>0.637168</td>\n",
       "      <td>0.363636</td>\n",
       "      <td>0.385185</td>\n",
       "      <td>0.374101</td>\n",
       "      <td>0.500000</td>\n",
       "      <td>0.581395</td>\n",
       "      <td>0.537634</td>\n",
       "    </tr>\n",
       "    <tr>\n",
       "      <td>7</td>\n",
       "      <td>0.109300</td>\n",
       "      <td>0.198935</td>\n",
       "      <td>0.963029</td>\n",
       "      <td>0.623976</td>\n",
       "      <td>0.696525</td>\n",
       "      <td>0.655471</td>\n",
       "      <td>0.990050</td>\n",
       "      <td>0.977636</td>\n",
       "      <td>0.983804</td>\n",
       "      <td>0.579381</td>\n",
       "      <td>0.780556</td>\n",
       "      <td>0.665089</td>\n",
       "      <td>0.397059</td>\n",
       "      <td>0.400000</td>\n",
       "      <td>0.398524</td>\n",
       "      <td>0.529412</td>\n",
       "      <td>0.627907</td>\n",
       "      <td>0.574468</td>\n",
       "    </tr>\n",
       "  </tbody>\n",
       "</table><p>"
      ],
      "text/plain": [
       "<IPython.core.display.HTML object>"
      ]
     },
     "metadata": {},
     "output_type": "display_data"
    },
    {
     "name": "stderr",
     "output_type": "stream",
     "text": [
      "***** Running Evaluation *****\n",
      "  Num examples = 11225\n",
      "  Batch size = 8\n",
      "Saving model checkpoint to content/drive/MyDrive/output_Electra/fold4/checkpoint-23875\n",
      "Configuration saved in content/drive/MyDrive/output_Electra/fold4/checkpoint-23875/config.json\n",
      "Model weights saved in content/drive/MyDrive/output_Electra/fold4/checkpoint-23875/pytorch_model.bin\n",
      "***** Running Evaluation *****\n",
      "  Num examples = 11225\n",
      "  Batch size = 8\n",
      "Saving model checkpoint to content/drive/MyDrive/output_Electra/fold4/checkpoint-28650\n",
      "Configuration saved in content/drive/MyDrive/output_Electra/fold4/checkpoint-28650/config.json\n",
      "Model weights saved in content/drive/MyDrive/output_Electra/fold4/checkpoint-28650/pytorch_model.bin\n",
      "***** Running Evaluation *****\n",
      "  Num examples = 11225\n",
      "  Batch size = 8\n",
      "Saving model checkpoint to content/drive/MyDrive/output_Electra/fold4/checkpoint-33425\n",
      "Configuration saved in content/drive/MyDrive/output_Electra/fold4/checkpoint-33425/config.json\n",
      "Model weights saved in content/drive/MyDrive/output_Electra/fold4/checkpoint-33425/pytorch_model.bin\n",
      "\n",
      "\n",
      "Training completed. Do not forget to share your model on huggingface.co/models =)\n",
      "\n",
      "\n",
      "Loading best model from content/drive/MyDrive/output_Electra/fold4/checkpoint-4775 (score: 0.12938901782035828).\n",
      "4it [1:15:21, 1320.50s/it]"
     ]
    },
    {
     "name": "stdout",
     "output_type": "stream",
     "text": [
      "Complete for fold 4\n",
      "Running for Fold:  5\n",
      "38200\n",
      "Counter({0: 106872, 1: 3596, 2: 1354, 3: 425})\n",
      "Counter({0: 96185, 1: 3236, 2: 1219, 3: 382})\n",
      "Counter({0: 33363, 1: 3236, 2: 1219, 3: 382})\n",
      "Counter({0: 33363, 1: 3236, 2: 1219, 3: 382})\n"
     ]
    },
    {
     "name": "stderr",
     "output_type": "stream",
     "text": [
      "PyTorch: setting up devices\n",
      "The default value for the training argument `--report_to` will change in v5 (from all installed integrations to none). In v5, you will need to use `--report_to all` to get the same behavior as now. You should start updating your code and make this info disappear :-).\n",
      "Loading model from content/drive/MyDrive/output_Electra/fold5/checkpoint-19100).\n",
      "/opt/conda/lib/python3.9/site-packages/transformers/optimization.py:306: FutureWarning: This implementation of AdamW is deprecated and will be removed in a future version. Use the PyTorch implementation torch.optim.AdamW instead, or set `no_deprecation_warning=True` to disable this warning\n",
      "  warnings.warn(\n",
      "***** Running training *****\n",
      "  Num examples = 38200\n",
      "  Num Epochs = 8\n",
      "  Instantaneous batch size per device = 8\n",
      "  Total train batch size (w. parallel, distributed & accumulation) = 8\n",
      "  Gradient Accumulation steps = 1\n",
      "  Total optimization steps = 38200\n",
      "  Continuing training from checkpoint, will skip to saved global_step\n",
      "  Continuing training from epoch 4\n",
      "  Continuing training from global step 19100\n",
      "  Will skip the first 4 epochs then the first 0 batches in the first epoch. If this takes a lot of time, you can add the `--ignore_data_skip` flag to your launch command, but you will resume the training on data already seen by your model.\n"
     ]
    },
    {
     "data": {
      "application/vnd.jupyter.widget-view+json": {
       "model_id": "e94f091564ce4d44872f8f49349b0e1d",
       "version_major": 2,
       "version_minor": 0
      },
      "text/plain": [
       "0it [00:00, ?it/s]"
      ]
     },
     "metadata": {},
     "output_type": "display_data"
    },
    {
     "data": {
      "text/html": [
       "\n",
       "    <div>\n",
       "      \n",
       "      <progress value='33425' max='38200' style='width:300px; height:20px; vertical-align: middle;'></progress>\n",
       "      [33425/38200 28:13 < 09:24, 8.46 it/s, Epoch 7/8]\n",
       "    </div>\n",
       "    <table border=\"1\" class=\"dataframe\">\n",
       "  <thead>\n",
       " <tr style=\"text-align: left;\">\n",
       "      <th>Epoch</th>\n",
       "      <th>Training Loss</th>\n",
       "      <th>Validation Loss</th>\n",
       "      <th>Accuracy</th>\n",
       "      <th>Precision</th>\n",
       "      <th>Recall</th>\n",
       "      <th>F1</th>\n",
       "      <th>Precision Nonbully</th>\n",
       "      <th>Recall Nonbully</th>\n",
       "      <th>F1 Nonbully</th>\n",
       "      <th>Precision Harasser</th>\n",
       "      <th>Recall Harasser</th>\n",
       "      <th>F1 Harasser</th>\n",
       "      <th>Precision Victim</th>\n",
       "      <th>Recall Victim</th>\n",
       "      <th>F1 Victim</th>\n",
       "      <th>Precision Bydefender</th>\n",
       "      <th>Recall Bydefender</th>\n",
       "      <th>F1 Bydefender</th>\n",
       "    </tr>\n",
       "  </thead>\n",
       "  <tbody>\n",
       "    <tr>\n",
       "      <td>5</td>\n",
       "      <td>0.139200</td>\n",
       "      <td>0.156019</td>\n",
       "      <td>0.963474</td>\n",
       "      <td>0.631491</td>\n",
       "      <td>0.738273</td>\n",
       "      <td>0.677554</td>\n",
       "      <td>0.991827</td>\n",
       "      <td>0.976607</td>\n",
       "      <td>0.984158</td>\n",
       "      <td>0.622807</td>\n",
       "      <td>0.788889</td>\n",
       "      <td>0.696078</td>\n",
       "      <td>0.326425</td>\n",
       "      <td>0.466667</td>\n",
       "      <td>0.384146</td>\n",
       "      <td>0.584906</td>\n",
       "      <td>0.720930</td>\n",
       "      <td>0.645833</td>\n",
       "    </tr>\n",
       "    <tr>\n",
       "      <td>6</td>\n",
       "      <td>0.110300</td>\n",
       "      <td>0.175497</td>\n",
       "      <td>0.964276</td>\n",
       "      <td>0.645289</td>\n",
       "      <td>0.717764</td>\n",
       "      <td>0.677199</td>\n",
       "      <td>0.991181</td>\n",
       "      <td>0.978011</td>\n",
       "      <td>0.984552</td>\n",
       "      <td>0.598344</td>\n",
       "      <td>0.802778</td>\n",
       "      <td>0.685647</td>\n",
       "      <td>0.353333</td>\n",
       "      <td>0.392593</td>\n",
       "      <td>0.371930</td>\n",
       "      <td>0.638298</td>\n",
       "      <td>0.697674</td>\n",
       "      <td>0.666667</td>\n",
       "    </tr>\n",
       "    <tr>\n",
       "      <td>7</td>\n",
       "      <td>0.102700</td>\n",
       "      <td>0.189856</td>\n",
       "      <td>0.965523</td>\n",
       "      <td>0.646254</td>\n",
       "      <td>0.726133</td>\n",
       "      <td>0.682166</td>\n",
       "      <td>0.991103</td>\n",
       "      <td>0.979789</td>\n",
       "      <td>0.985413</td>\n",
       "      <td>0.620309</td>\n",
       "      <td>0.780556</td>\n",
       "      <td>0.691267</td>\n",
       "      <td>0.346154</td>\n",
       "      <td>0.400000</td>\n",
       "      <td>0.371134</td>\n",
       "      <td>0.627451</td>\n",
       "      <td>0.744186</td>\n",
       "      <td>0.680851</td>\n",
       "    </tr>\n",
       "  </tbody>\n",
       "</table><p>"
      ],
      "text/plain": [
       "<IPython.core.display.HTML object>"
      ]
     },
     "metadata": {},
     "output_type": "display_data"
    },
    {
     "name": "stderr",
     "output_type": "stream",
     "text": [
      "***** Running Evaluation *****\n",
      "  Num examples = 11225\n",
      "  Batch size = 8\n",
      "Saving model checkpoint to content/drive/MyDrive/output_Electra/fold5/checkpoint-23875\n",
      "Configuration saved in content/drive/MyDrive/output_Electra/fold5/checkpoint-23875/config.json\n",
      "Model weights saved in content/drive/MyDrive/output_Electra/fold5/checkpoint-23875/pytorch_model.bin\n",
      "***** Running Evaluation *****\n",
      "  Num examples = 11225\n",
      "  Batch size = 8\n",
      "Saving model checkpoint to content/drive/MyDrive/output_Electra/fold5/checkpoint-28650\n",
      "Configuration saved in content/drive/MyDrive/output_Electra/fold5/checkpoint-28650/config.json\n",
      "Model weights saved in content/drive/MyDrive/output_Electra/fold5/checkpoint-28650/pytorch_model.bin\n",
      "***** Running Evaluation *****\n",
      "  Num examples = 11225\n",
      "  Batch size = 8\n",
      "Saving model checkpoint to content/drive/MyDrive/output_Electra/fold5/checkpoint-33425\n",
      "Configuration saved in content/drive/MyDrive/output_Electra/fold5/checkpoint-33425/config.json\n",
      "Model weights saved in content/drive/MyDrive/output_Electra/fold5/checkpoint-33425/pytorch_model.bin\n",
      "\n",
      "\n",
      "Training completed. Do not forget to share your model on huggingface.co/models =)\n",
      "\n",
      "\n",
      "Loading best model from content/drive/MyDrive/output_Electra/fold5/checkpoint-4775 (score: 0.10710639506578445).\n",
      "5it [1:43:44, 1244.96s/it]"
     ]
    },
    {
     "name": "stdout",
     "output_type": "stream",
     "text": [
      "Complete for fold 5\n"
     ]
    },
    {
     "name": "stderr",
     "output_type": "stream",
     "text": [
      "\n"
     ]
    }
   ],
   "source": [
    "run_cross_validation(model_name='Electra',\n",
    "                         X=X,\n",
    "                         y=y, \n",
    "                         splits=5,\n",
    "                         epoch=8,\n",
    "                         checkpoint=True)"
   ]
  },
  {
   "cell_type": "markdown",
   "id": "f14b0ace-009d-4c04-a63d-02d2fb83c2c0",
   "metadata": {},
   "source": [
    "### [Continue] Cross Validation (K = 5)"
   ]
  },
  {
   "cell_type": "code",
   "execution_count": 9,
   "id": "ff06b430-dc02-4a93-873d-879b0191901a",
   "metadata": {},
   "outputs": [
    {
     "name": "stdout",
     "output_type": "stream",
     "text": [
      "Developing Model with Cross validation for: Electra\n"
     ]
    },
    {
     "name": "stderr",
     "output_type": "stream",
     "text": [
      "0it [00:00, ?it/s]"
     ]
    },
    {
     "name": "stdout",
     "output_type": "stream",
     "text": [
      "Running for Fold:  1\n",
      "38200\n",
      "Counter({0: 106872, 1: 3596, 2: 1354, 3: 425})\n",
      "Counter({0: 96185, 1: 3236, 2: 1219, 3: 382})\n",
      "Counter({0: 33363, 1: 3236, 2: 1219, 3: 382})\n",
      "Counter({0: 33363, 1: 3236, 2: 1219, 3: 382})\n"
     ]
    },
    {
     "name": "stderr",
     "output_type": "stream",
     "text": [
      "Loading model from content/drive/MyDrive/output_Electra/fold1/checkpoint-38200).\n",
      "/opt/conda/lib/python3.9/site-packages/transformers/optimization.py:306: FutureWarning: This implementation of AdamW is deprecated and will be removed in a future version. Use the PyTorch implementation torch.optim.AdamW instead, or set `no_deprecation_warning=True` to disable this warning\n",
      "  warnings.warn(\n",
      "***** Running training *****\n",
      "  Num examples = 38200\n",
      "  Num Epochs = 8\n",
      "  Instantaneous batch size per device = 8\n",
      "  Total train batch size (w. parallel, distributed & accumulation) = 8\n",
      "  Gradient Accumulation steps = 1\n",
      "  Total optimization steps = 38200\n",
      "  Continuing training from checkpoint, will skip to saved global_step\n",
      "  Continuing training from epoch 8\n",
      "  Continuing training from global step 38200\n",
      "  Will skip the first 8 epochs then the first 0 batches in the first epoch. If this takes a lot of time, you can add the `--ignore_data_skip` flag to your launch command, but you will resume the training on data already seen by your model.\n"
     ]
    },
    {
     "data": {
      "application/vnd.jupyter.widget-view+json": {
       "model_id": "3c579d26749a4acd9c8ade2ef3abf1c6",
       "version_major": 2,
       "version_minor": 0
      },
      "text/plain": [
       "0it [00:00, ?it/s]"
      ]
     },
     "metadata": {},
     "output_type": "display_data"
    },
    {
     "name": "stderr",
     "output_type": "stream",
     "text": [
      "\n",
      "\n",
      "Training completed. Do not forget to share your model on huggingface.co/models =)\n",
      "\n",
      "\n",
      "Loading best model from content/drive/MyDrive/output_Electra/fold1/checkpoint-14325 (score: 0.1621275246143341).\n"
     ]
    },
    {
     "data": {
      "text/html": [
       "\n",
       "    <div>\n",
       "      \n",
       "      <progress value='38200' max='38200' style='width:300px; height:20px; vertical-align: middle;'></progress>\n",
       "      [38200/38200 : < :, Epoch 8/8]\n",
       "    </div>\n",
       "    <table border=\"1\" class=\"dataframe\">\n",
       "  <thead>\n",
       " <tr style=\"text-align: left;\">\n",
       "      <th>Epoch</th>\n",
       "      <th>Training Loss</th>\n",
       "      <th>Validation Loss</th>\n",
       "    </tr>\n",
       "  </thead>\n",
       "  <tbody>\n",
       "  </tbody>\n",
       "</table><p>"
      ],
      "text/plain": [
       "<IPython.core.display.HTML object>"
      ]
     },
     "metadata": {},
     "output_type": "display_data"
    },
    {
     "name": "stderr",
     "output_type": "stream",
     "text": [
      "1it [00:19, 19.71s/it]"
     ]
    },
    {
     "name": "stdout",
     "output_type": "stream",
     "text": [
      "Complete for fold 1\n",
      "Running for Fold:  2\n",
      "38200\n",
      "Counter({0: 106872, 1: 3596, 2: 1354, 3: 425})\n",
      "Counter({0: 96185, 1: 3236, 2: 1219, 3: 382})\n",
      "Counter({0: 33363, 1: 3236, 2: 1219, 3: 382})\n",
      "Counter({0: 33363, 1: 3236, 2: 1219, 3: 382})\n"
     ]
    },
    {
     "name": "stderr",
     "output_type": "stream",
     "text": [
      "PyTorch: setting up devices\n",
      "The default value for the training argument `--report_to` will change in v5 (from all installed integrations to none). In v5, you will need to use `--report_to all` to get the same behavior as now. You should start updating your code and make this info disappear :-).\n",
      "Loading model from content/drive/MyDrive/output_Electra/fold2/checkpoint-38200).\n",
      "/opt/conda/lib/python3.9/site-packages/transformers/optimization.py:306: FutureWarning: This implementation of AdamW is deprecated and will be removed in a future version. Use the PyTorch implementation torch.optim.AdamW instead, or set `no_deprecation_warning=True` to disable this warning\n",
      "  warnings.warn(\n",
      "***** Running training *****\n",
      "  Num examples = 38200\n",
      "  Num Epochs = 8\n",
      "  Instantaneous batch size per device = 8\n",
      "  Total train batch size (w. parallel, distributed & accumulation) = 8\n",
      "  Gradient Accumulation steps = 1\n",
      "  Total optimization steps = 38200\n",
      "  Continuing training from checkpoint, will skip to saved global_step\n",
      "  Continuing training from epoch 8\n",
      "  Continuing training from global step 38200\n",
      "  Will skip the first 8 epochs then the first 0 batches in the first epoch. If this takes a lot of time, you can add the `--ignore_data_skip` flag to your launch command, but you will resume the training on data already seen by your model.\n"
     ]
    },
    {
     "data": {
      "application/vnd.jupyter.widget-view+json": {
       "model_id": "8bdf5f2bd4854d2c8dfd28f10436b683",
       "version_major": 2,
       "version_minor": 0
      },
      "text/plain": [
       "0it [00:00, ?it/s]"
      ]
     },
     "metadata": {},
     "output_type": "display_data"
    },
    {
     "name": "stderr",
     "output_type": "stream",
     "text": [
      "\n",
      "\n",
      "Training completed. Do not forget to share your model on huggingface.co/models =)\n",
      "\n",
      "\n",
      "Loading best model from content/drive/MyDrive/output_Electra/fold2/checkpoint-9550 (score: 0.1596347987651825).\n"
     ]
    },
    {
     "data": {
      "text/html": [
       "\n",
       "    <div>\n",
       "      \n",
       "      <progress value='38200' max='38200' style='width:300px; height:20px; vertical-align: middle;'></progress>\n",
       "      [38200/38200 : < :, Epoch 8/8]\n",
       "    </div>\n",
       "    <table border=\"1\" class=\"dataframe\">\n",
       "  <thead>\n",
       " <tr style=\"text-align: left;\">\n",
       "      <th>Epoch</th>\n",
       "      <th>Training Loss</th>\n",
       "      <th>Validation Loss</th>\n",
       "    </tr>\n",
       "  </thead>\n",
       "  <tbody>\n",
       "  </tbody>\n",
       "</table><p>"
      ],
      "text/plain": [
       "<IPython.core.display.HTML object>"
      ]
     },
     "metadata": {},
     "output_type": "display_data"
    },
    {
     "name": "stderr",
     "output_type": "stream",
     "text": [
      "2it [00:33, 16.08s/it]"
     ]
    },
    {
     "name": "stdout",
     "output_type": "stream",
     "text": [
      "Complete for fold 2\n",
      "Running for Fold:  3\n",
      "38200\n",
      "Counter({0: 106872, 1: 3596, 2: 1354, 3: 425})\n",
      "Counter({0: 96185, 1: 3236, 2: 1219, 3: 382})\n",
      "Counter({0: 33363, 1: 3236, 2: 1219, 3: 382})\n",
      "Counter({0: 33363, 1: 3236, 2: 1219, 3: 382})\n"
     ]
    },
    {
     "name": "stderr",
     "output_type": "stream",
     "text": [
      "PyTorch: setting up devices\n",
      "The default value for the training argument `--report_to` will change in v5 (from all installed integrations to none). In v5, you will need to use `--report_to all` to get the same behavior as now. You should start updating your code and make this info disappear :-).\n",
      "Loading model from content/drive/MyDrive/output_Electra/fold3/checkpoint-38200).\n",
      "/opt/conda/lib/python3.9/site-packages/transformers/optimization.py:306: FutureWarning: This implementation of AdamW is deprecated and will be removed in a future version. Use the PyTorch implementation torch.optim.AdamW instead, or set `no_deprecation_warning=True` to disable this warning\n",
      "  warnings.warn(\n",
      "***** Running training *****\n",
      "  Num examples = 38200\n",
      "  Num Epochs = 8\n",
      "  Instantaneous batch size per device = 8\n",
      "  Total train batch size (w. parallel, distributed & accumulation) = 8\n",
      "  Gradient Accumulation steps = 1\n",
      "  Total optimization steps = 38200\n",
      "  Continuing training from checkpoint, will skip to saved global_step\n",
      "  Continuing training from epoch 8\n",
      "  Continuing training from global step 38200\n",
      "  Will skip the first 8 epochs then the first 0 batches in the first epoch. If this takes a lot of time, you can add the `--ignore_data_skip` flag to your launch command, but you will resume the training on data already seen by your model.\n"
     ]
    },
    {
     "data": {
      "application/vnd.jupyter.widget-view+json": {
       "model_id": "8109fd6cf8d042b794f9fed22c9b3e8d",
       "version_major": 2,
       "version_minor": 0
      },
      "text/plain": [
       "0it [00:00, ?it/s]"
      ]
     },
     "metadata": {},
     "output_type": "display_data"
    },
    {
     "name": "stderr",
     "output_type": "stream",
     "text": [
      "\n",
      "\n",
      "Training completed. Do not forget to share your model on huggingface.co/models =)\n",
      "\n",
      "\n",
      "Loading best model from content/drive/MyDrive/output_Electra/fold3/checkpoint-4775 (score: 0.1321289986371994).\n"
     ]
    },
    {
     "data": {
      "text/html": [
       "\n",
       "    <div>\n",
       "      \n",
       "      <progress value='38200' max='38200' style='width:300px; height:20px; vertical-align: middle;'></progress>\n",
       "      [38200/38200 : < :, Epoch 8/8]\n",
       "    </div>\n",
       "    <table border=\"1\" class=\"dataframe\">\n",
       "  <thead>\n",
       " <tr style=\"text-align: left;\">\n",
       "      <th>Epoch</th>\n",
       "      <th>Training Loss</th>\n",
       "      <th>Validation Loss</th>\n",
       "    </tr>\n",
       "  </thead>\n",
       "  <tbody>\n",
       "  </tbody>\n",
       "</table><p>"
      ],
      "text/plain": [
       "<IPython.core.display.HTML object>"
      ]
     },
     "metadata": {},
     "output_type": "display_data"
    },
    {
     "name": "stderr",
     "output_type": "stream",
     "text": [
      "3it [00:47, 15.06s/it]"
     ]
    },
    {
     "name": "stdout",
     "output_type": "stream",
     "text": [
      "Complete for fold 3\n",
      "Running for Fold:  4\n",
      "38200\n",
      "Counter({0: 106872, 1: 3596, 2: 1354, 3: 425})\n",
      "Counter({0: 96185, 1: 3236, 2: 1219, 3: 382})\n",
      "Counter({0: 33363, 1: 3236, 2: 1219, 3: 382})\n",
      "Counter({0: 33363, 1: 3236, 2: 1219, 3: 382})\n"
     ]
    },
    {
     "name": "stderr",
     "output_type": "stream",
     "text": [
      "PyTorch: setting up devices\n",
      "The default value for the training argument `--report_to` will change in v5 (from all installed integrations to none). In v5, you will need to use `--report_to all` to get the same behavior as now. You should start updating your code and make this info disappear :-).\n",
      "Loading model from content/drive/MyDrive/output_Electra/fold4/checkpoint-33425).\n",
      "/opt/conda/lib/python3.9/site-packages/transformers/optimization.py:306: FutureWarning: This implementation of AdamW is deprecated and will be removed in a future version. Use the PyTorch implementation torch.optim.AdamW instead, or set `no_deprecation_warning=True` to disable this warning\n",
      "  warnings.warn(\n",
      "***** Running training *****\n",
      "  Num examples = 38200\n",
      "  Num Epochs = 8\n",
      "  Instantaneous batch size per device = 8\n",
      "  Total train batch size (w. parallel, distributed & accumulation) = 8\n",
      "  Gradient Accumulation steps = 1\n",
      "  Total optimization steps = 38200\n",
      "  Continuing training from checkpoint, will skip to saved global_step\n",
      "  Continuing training from epoch 7\n",
      "  Continuing training from global step 33425\n",
      "  Will skip the first 7 epochs then the first 0 batches in the first epoch. If this takes a lot of time, you can add the `--ignore_data_skip` flag to your launch command, but you will resume the training on data already seen by your model.\n"
     ]
    },
    {
     "data": {
      "application/vnd.jupyter.widget-view+json": {
       "model_id": "6aa675c4ceec4f02a8cf3f4ceb42b520",
       "version_major": 2,
       "version_minor": 0
      },
      "text/plain": [
       "0it [00:00, ?it/s]"
      ]
     },
     "metadata": {},
     "output_type": "display_data"
    },
    {
     "data": {
      "text/html": [
       "\n",
       "    <div>\n",
       "      \n",
       "      <progress value='38200' max='38200' style='width:300px; height:20px; vertical-align: middle;'></progress>\n",
       "      [38200/38200 17:48, Epoch 8/8]\n",
       "    </div>\n",
       "    <table border=\"1\" class=\"dataframe\">\n",
       "  <thead>\n",
       " <tr style=\"text-align: left;\">\n",
       "      <th>Epoch</th>\n",
       "      <th>Training Loss</th>\n",
       "      <th>Validation Loss</th>\n",
       "      <th>Accuracy</th>\n",
       "      <th>Precision</th>\n",
       "      <th>Recall</th>\n",
       "      <th>F1</th>\n",
       "      <th>Precision Nonbully</th>\n",
       "      <th>Recall Nonbully</th>\n",
       "      <th>F1 Nonbully</th>\n",
       "      <th>Precision Harasser</th>\n",
       "      <th>Recall Harasser</th>\n",
       "      <th>F1 Harasser</th>\n",
       "      <th>Precision Victim</th>\n",
       "      <th>Recall Victim</th>\n",
       "      <th>F1 Victim</th>\n",
       "      <th>Precision Bydefender</th>\n",
       "      <th>Recall Bydefender</th>\n",
       "      <th>F1 Bydefender</th>\n",
       "    </tr>\n",
       "  </thead>\n",
       "  <tbody>\n",
       "    <tr>\n",
       "      <td>8</td>\n",
       "      <td>0.081500</td>\n",
       "      <td>0.213976</td>\n",
       "      <td>0.960891</td>\n",
       "      <td>0.605447</td>\n",
       "      <td>0.694923</td>\n",
       "      <td>0.644178</td>\n",
       "      <td>0.990408</td>\n",
       "      <td>0.975859</td>\n",
       "      <td>0.983080</td>\n",
       "      <td>0.558045</td>\n",
       "      <td>0.761111</td>\n",
       "      <td>0.643948</td>\n",
       "      <td>0.373333</td>\n",
       "      <td>0.414815</td>\n",
       "      <td>0.392982</td>\n",
       "      <td>0.500000</td>\n",
       "      <td>0.627907</td>\n",
       "      <td>0.556701</td>\n",
       "    </tr>\n",
       "  </tbody>\n",
       "</table><p>"
      ],
      "text/plain": [
       "<IPython.core.display.HTML object>"
      ]
     },
     "metadata": {},
     "output_type": "display_data"
    },
    {
     "name": "stderr",
     "output_type": "stream",
     "text": [
      "***** Running Evaluation *****\n",
      "  Num examples = 11225\n",
      "  Batch size = 8\n",
      "Saving model checkpoint to content/drive/MyDrive/output_Electra/fold4/checkpoint-38200\n",
      "Configuration saved in content/drive/MyDrive/output_Electra/fold4/checkpoint-38200/config.json\n",
      "Model weights saved in content/drive/MyDrive/output_Electra/fold4/checkpoint-38200/pytorch_model.bin\n",
      "\n",
      "\n",
      "Training completed. Do not forget to share your model on huggingface.co/models =)\n",
      "\n",
      "\n",
      "Loading best model from content/drive/MyDrive/output_Electra/fold4/checkpoint-4775 (score: 0.12938901782035828).\n",
      "4it [18:48, 436.17s/it]"
     ]
    },
    {
     "name": "stdout",
     "output_type": "stream",
     "text": [
      "Complete for fold 4\n",
      "Running for Fold:  5\n",
      "38200\n",
      "Counter({0: 106872, 1: 3596, 2: 1354, 3: 425})\n",
      "Counter({0: 96185, 1: 3236, 2: 1219, 3: 382})\n",
      "Counter({0: 33363, 1: 3236, 2: 1219, 3: 382})\n",
      "Counter({0: 33363, 1: 3236, 2: 1219, 3: 382})\n"
     ]
    },
    {
     "name": "stderr",
     "output_type": "stream",
     "text": [
      "PyTorch: setting up devices\n",
      "The default value for the training argument `--report_to` will change in v5 (from all installed integrations to none). In v5, you will need to use `--report_to all` to get the same behavior as now. You should start updating your code and make this info disappear :-).\n",
      "Loading model from content/drive/MyDrive/output_Electra/fold5/checkpoint-33425).\n",
      "/opt/conda/lib/python3.9/site-packages/transformers/optimization.py:306: FutureWarning: This implementation of AdamW is deprecated and will be removed in a future version. Use the PyTorch implementation torch.optim.AdamW instead, or set `no_deprecation_warning=True` to disable this warning\n",
      "  warnings.warn(\n",
      "***** Running training *****\n",
      "  Num examples = 38200\n",
      "  Num Epochs = 8\n",
      "  Instantaneous batch size per device = 8\n",
      "  Total train batch size (w. parallel, distributed & accumulation) = 8\n",
      "  Gradient Accumulation steps = 1\n",
      "  Total optimization steps = 38200\n",
      "  Continuing training from checkpoint, will skip to saved global_step\n",
      "  Continuing training from epoch 7\n",
      "  Continuing training from global step 33425\n",
      "  Will skip the first 7 epochs then the first 0 batches in the first epoch. If this takes a lot of time, you can add the `--ignore_data_skip` flag to your launch command, but you will resume the training on data already seen by your model.\n"
     ]
    },
    {
     "data": {
      "application/vnd.jupyter.widget-view+json": {
       "model_id": "555a91e6c2354485afc23165d38fb431",
       "version_major": 2,
       "version_minor": 0
      },
      "text/plain": [
       "0it [00:00, ?it/s]"
      ]
     },
     "metadata": {},
     "output_type": "display_data"
    },
    {
     "data": {
      "text/html": [
       "\n",
       "    <div>\n",
       "      \n",
       "      <progress value='38200' max='38200' style='width:300px; height:20px; vertical-align: middle;'></progress>\n",
       "      [38200/38200 17:47, Epoch 8/8]\n",
       "    </div>\n",
       "    <table border=\"1\" class=\"dataframe\">\n",
       "  <thead>\n",
       " <tr style=\"text-align: left;\">\n",
       "      <th>Epoch</th>\n",
       "      <th>Training Loss</th>\n",
       "      <th>Validation Loss</th>\n",
       "      <th>Accuracy</th>\n",
       "      <th>Precision</th>\n",
       "      <th>Recall</th>\n",
       "      <th>F1</th>\n",
       "      <th>Precision Nonbully</th>\n",
       "      <th>Recall Nonbully</th>\n",
       "      <th>F1 Nonbully</th>\n",
       "      <th>Precision Harasser</th>\n",
       "      <th>Recall Harasser</th>\n",
       "      <th>F1 Harasser</th>\n",
       "      <th>Precision Victim</th>\n",
       "      <th>Recall Victim</th>\n",
       "      <th>F1 Victim</th>\n",
       "      <th>Precision Bydefender</th>\n",
       "      <th>Recall Bydefender</th>\n",
       "      <th>F1 Bydefender</th>\n",
       "    </tr>\n",
       "  </thead>\n",
       "  <tbody>\n",
       "    <tr>\n",
       "      <td>8</td>\n",
       "      <td>0.083600</td>\n",
       "      <td>0.205407</td>\n",
       "      <td>0.964187</td>\n",
       "      <td>0.626394</td>\n",
       "      <td>0.720176</td>\n",
       "      <td>0.667447</td>\n",
       "      <td>0.991277</td>\n",
       "      <td>0.978291</td>\n",
       "      <td>0.984741</td>\n",
       "      <td>0.604255</td>\n",
       "      <td>0.788889</td>\n",
       "      <td>0.684337</td>\n",
       "      <td>0.346405</td>\n",
       "      <td>0.392593</td>\n",
       "      <td>0.368056</td>\n",
       "      <td>0.563636</td>\n",
       "      <td>0.720930</td>\n",
       "      <td>0.632653</td>\n",
       "    </tr>\n",
       "  </tbody>\n",
       "</table><p>"
      ],
      "text/plain": [
       "<IPython.core.display.HTML object>"
      ]
     },
     "metadata": {},
     "output_type": "display_data"
    },
    {
     "name": "stderr",
     "output_type": "stream",
     "text": [
      "***** Running Evaluation *****\n",
      "  Num examples = 11225\n",
      "  Batch size = 8\n",
      "Saving model checkpoint to content/drive/MyDrive/output_Electra/fold5/checkpoint-38200\n",
      "Configuration saved in content/drive/MyDrive/output_Electra/fold5/checkpoint-38200/config.json\n",
      "Model weights saved in content/drive/MyDrive/output_Electra/fold5/checkpoint-38200/pytorch_model.bin\n",
      "\n",
      "\n",
      "Training completed. Do not forget to share your model on huggingface.co/models =)\n",
      "\n",
      "\n",
      "Loading best model from content/drive/MyDrive/output_Electra/fold5/checkpoint-4775 (score: 0.10710639506578445).\n",
      "5it [36:47, 441.53s/it]"
     ]
    },
    {
     "name": "stdout",
     "output_type": "stream",
     "text": [
      "Complete for fold 5\n"
     ]
    },
    {
     "name": "stderr",
     "output_type": "stream",
     "text": [
      "\n"
     ]
    }
   ],
   "source": [
    "run_cross_validation(model_name='Electra',\n",
    "                         X=X,\n",
    "                         y=y, \n",
    "                         splits=5,\n",
    "                         epoch=8,\n",
    "                         checkpoint=True)"
   ]
  },
  {
   "cell_type": "markdown",
   "id": "ciW5Qivdn8TA",
   "metadata": {
    "id": "ciW5Qivdn8TA"
   },
   "source": [
    "<div class=\"alert alert-info\" style=\"background-color:#5d3a8e; color:white; padding:0px 10px; border-radius:5px;\"><h2 style='margin:10px 5px'>Hold Out Split)</h2>\n",
    "</div>"
   ]
  },
  {
   "cell_type": "code",
   "execution_count": 10,
   "id": "Gn8AQ9mEghkM",
   "metadata": {
    "id": "Gn8AQ9mEghkM"
   },
   "outputs": [
    {
     "name": "stderr",
     "output_type": "stream",
     "text": [
      "PyTorch: setting up devices\n",
      "The default value for the training argument `--report_to` will change in v5 (from all installed integrations to none). In v5, you will need to use `--report_to all` to get the same behavior as now. You should start updating your code and make this info disappear :-).\n",
      "/opt/conda/lib/python3.9/site-packages/transformers/optimization.py:306: FutureWarning: This implementation of AdamW is deprecated and will be removed in a future version. Use the PyTorch implementation torch.optim.AdamW instead, or set `no_deprecation_warning=True` to disable this warning\n",
      "  warnings.warn(\n",
      "***** Running training *****\n",
      "  Num examples = 38200\n",
      "  Num Epochs = 8\n",
      "  Instantaneous batch size per device = 8\n",
      "  Total train batch size (w. parallel, distributed & accumulation) = 8\n",
      "  Gradient Accumulation steps = 1\n",
      "  Total optimization steps = 38200\n"
     ]
    },
    {
     "name": "stdout",
     "output_type": "stream",
     "text": [
      "Developing Model with Hold Out Splits for: Electra\n"
     ]
    },
    {
     "data": {
      "text/html": [
       "\n",
       "    <div>\n",
       "      \n",
       "      <progress value='28650' max='38200' style='width:300px; height:20px; vertical-align: middle;'></progress>\n",
       "      [28650/38200 56:34 < 18:51, 8.44 it/s, Epoch 6/8]\n",
       "    </div>\n",
       "    <table border=\"1\" class=\"dataframe\">\n",
       "  <thead>\n",
       " <tr style=\"text-align: left;\">\n",
       "      <th>Epoch</th>\n",
       "      <th>Training Loss</th>\n",
       "      <th>Validation Loss</th>\n",
       "      <th>Accuracy</th>\n",
       "      <th>Precision</th>\n",
       "      <th>Recall</th>\n",
       "      <th>F1</th>\n",
       "      <th>Precision Nonbully</th>\n",
       "      <th>Recall Nonbully</th>\n",
       "      <th>F1 Nonbully</th>\n",
       "      <th>Precision Harasser</th>\n",
       "      <th>Recall Harasser</th>\n",
       "      <th>F1 Harasser</th>\n",
       "      <th>Precision Victim</th>\n",
       "      <th>Recall Victim</th>\n",
       "      <th>F1 Victim</th>\n",
       "      <th>Precision Bydefender</th>\n",
       "      <th>Recall Bydefender</th>\n",
       "      <th>F1 Bydefender</th>\n",
       "    </tr>\n",
       "  </thead>\n",
       "  <tbody>\n",
       "    <tr>\n",
       "      <td>1</td>\n",
       "      <td>0.207600</td>\n",
       "      <td>0.153210</td>\n",
       "      <td>0.966236</td>\n",
       "      <td>0.621817</td>\n",
       "      <td>0.704137</td>\n",
       "      <td>0.644382</td>\n",
       "      <td>0.989709</td>\n",
       "      <td>0.980911</td>\n",
       "      <td>0.985291</td>\n",
       "      <td>0.622560</td>\n",
       "      <td>0.797222</td>\n",
       "      <td>0.699147</td>\n",
       "      <td>0.500000</td>\n",
       "      <td>0.340741</td>\n",
       "      <td>0.405286</td>\n",
       "      <td>0.375000</td>\n",
       "      <td>0.697674</td>\n",
       "      <td>0.487805</td>\n",
       "    </tr>\n",
       "    <tr>\n",
       "      <td>2</td>\n",
       "      <td>0.188100</td>\n",
       "      <td>0.163819</td>\n",
       "      <td>0.959287</td>\n",
       "      <td>0.584026</td>\n",
       "      <td>0.710238</td>\n",
       "      <td>0.636371</td>\n",
       "      <td>0.991981</td>\n",
       "      <td>0.972303</td>\n",
       "      <td>0.982043</td>\n",
       "      <td>0.587525</td>\n",
       "      <td>0.811111</td>\n",
       "      <td>0.681447</td>\n",
       "      <td>0.298969</td>\n",
       "      <td>0.429630</td>\n",
       "      <td>0.352584</td>\n",
       "      <td>0.457627</td>\n",
       "      <td>0.627907</td>\n",
       "      <td>0.529412</td>\n",
       "    </tr>\n",
       "    <tr>\n",
       "      <td>3</td>\n",
       "      <td>0.157700</td>\n",
       "      <td>0.171419</td>\n",
       "      <td>0.963831</td>\n",
       "      <td>0.607529</td>\n",
       "      <td>0.656631</td>\n",
       "      <td>0.628148</td>\n",
       "      <td>0.988854</td>\n",
       "      <td>0.979601</td>\n",
       "      <td>0.984206</td>\n",
       "      <td>0.602128</td>\n",
       "      <td>0.786111</td>\n",
       "      <td>0.681928</td>\n",
       "      <td>0.369748</td>\n",
       "      <td>0.325926</td>\n",
       "      <td>0.346457</td>\n",
       "      <td>0.469388</td>\n",
       "      <td>0.534884</td>\n",
       "      <td>0.500000</td>\n",
       "    </tr>\n",
       "    <tr>\n",
       "      <td>4</td>\n",
       "      <td>0.135400</td>\n",
       "      <td>0.189250</td>\n",
       "      <td>0.962940</td>\n",
       "      <td>0.600995</td>\n",
       "      <td>0.683582</td>\n",
       "      <td>0.631889</td>\n",
       "      <td>0.989209</td>\n",
       "      <td>0.977824</td>\n",
       "      <td>0.983483</td>\n",
       "      <td>0.589212</td>\n",
       "      <td>0.788889</td>\n",
       "      <td>0.674584</td>\n",
       "      <td>0.437500</td>\n",
       "      <td>0.362963</td>\n",
       "      <td>0.396761</td>\n",
       "      <td>0.388060</td>\n",
       "      <td>0.604651</td>\n",
       "      <td>0.472727</td>\n",
       "    </tr>\n",
       "    <tr>\n",
       "      <td>5</td>\n",
       "      <td>0.101500</td>\n",
       "      <td>0.200231</td>\n",
       "      <td>0.962316</td>\n",
       "      <td>0.595895</td>\n",
       "      <td>0.695659</td>\n",
       "      <td>0.638721</td>\n",
       "      <td>0.989764</td>\n",
       "      <td>0.977169</td>\n",
       "      <td>0.983426</td>\n",
       "      <td>0.623557</td>\n",
       "      <td>0.750000</td>\n",
       "      <td>0.680958</td>\n",
       "      <td>0.353591</td>\n",
       "      <td>0.474074</td>\n",
       "      <td>0.405063</td>\n",
       "      <td>0.416667</td>\n",
       "      <td>0.581395</td>\n",
       "      <td>0.485437</td>\n",
       "    </tr>\n",
       "    <tr>\n",
       "      <td>6</td>\n",
       "      <td>0.072500</td>\n",
       "      <td>0.230109</td>\n",
       "      <td>0.960267</td>\n",
       "      <td>0.592517</td>\n",
       "      <td>0.711464</td>\n",
       "      <td>0.642563</td>\n",
       "      <td>0.991330</td>\n",
       "      <td>0.973613</td>\n",
       "      <td>0.982392</td>\n",
       "      <td>0.588358</td>\n",
       "      <td>0.786111</td>\n",
       "      <td>0.673008</td>\n",
       "      <td>0.342105</td>\n",
       "      <td>0.481481</td>\n",
       "      <td>0.400000</td>\n",
       "      <td>0.448276</td>\n",
       "      <td>0.604651</td>\n",
       "      <td>0.514851</td>\n",
       "    </tr>\n",
       "  </tbody>\n",
       "</table><p>"
      ],
      "text/plain": [
       "<IPython.core.display.HTML object>"
      ]
     },
     "metadata": {},
     "output_type": "display_data"
    },
    {
     "name": "stderr",
     "output_type": "stream",
     "text": [
      "***** Running Evaluation *****\n",
      "  Num examples = 11225\n",
      "  Batch size = 8\n",
      "Saving model checkpoint to content/drive/MyDrive/output_Electra/holdout/checkpoint-4775\n",
      "Configuration saved in content/drive/MyDrive/output_Electra/holdout/checkpoint-4775/config.json\n",
      "Model weights saved in content/drive/MyDrive/output_Electra/holdout/checkpoint-4775/pytorch_model.bin\n",
      "***** Running Evaluation *****\n",
      "  Num examples = 11225\n",
      "  Batch size = 8\n",
      "Saving model checkpoint to content/drive/MyDrive/output_Electra/holdout/checkpoint-9550\n",
      "Configuration saved in content/drive/MyDrive/output_Electra/holdout/checkpoint-9550/config.json\n",
      "Model weights saved in content/drive/MyDrive/output_Electra/holdout/checkpoint-9550/pytorch_model.bin\n",
      "***** Running Evaluation *****\n",
      "  Num examples = 11225\n",
      "  Batch size = 8\n",
      "Saving model checkpoint to content/drive/MyDrive/output_Electra/holdout/checkpoint-14325\n",
      "Configuration saved in content/drive/MyDrive/output_Electra/holdout/checkpoint-14325/config.json\n",
      "Model weights saved in content/drive/MyDrive/output_Electra/holdout/checkpoint-14325/pytorch_model.bin\n",
      "***** Running Evaluation *****\n",
      "  Num examples = 11225\n",
      "  Batch size = 8\n",
      "Saving model checkpoint to content/drive/MyDrive/output_Electra/holdout/checkpoint-19100\n",
      "Configuration saved in content/drive/MyDrive/output_Electra/holdout/checkpoint-19100/config.json\n",
      "Model weights saved in content/drive/MyDrive/output_Electra/holdout/checkpoint-19100/pytorch_model.bin\n",
      "***** Running Evaluation *****\n",
      "  Num examples = 11225\n",
      "  Batch size = 8\n",
      "Saving model checkpoint to content/drive/MyDrive/output_Electra/holdout/checkpoint-23875\n",
      "Configuration saved in content/drive/MyDrive/output_Electra/holdout/checkpoint-23875/config.json\n",
      "Model weights saved in content/drive/MyDrive/output_Electra/holdout/checkpoint-23875/pytorch_model.bin\n",
      "***** Running Evaluation *****\n",
      "  Num examples = 11225\n",
      "  Batch size = 8\n",
      "Saving model checkpoint to content/drive/MyDrive/output_Electra/holdout/checkpoint-28650\n",
      "Configuration saved in content/drive/MyDrive/output_Electra/holdout/checkpoint-28650/config.json\n",
      "Model weights saved in content/drive/MyDrive/output_Electra/holdout/checkpoint-28650/pytorch_model.bin\n",
      "\n",
      "\n",
      "Training completed. Do not forget to share your model on huggingface.co/models =)\n",
      "\n",
      "\n",
      "Loading best model from content/drive/MyDrive/output_Electra/holdout/checkpoint-4775 (score: 0.15321004390716553).\n"
     ]
    },
    {
     "name": "stdout",
     "output_type": "stream",
     "text": [
      "Complete for hold-out validate set\n"
     ]
    }
   ],
   "source": [
    "run_hold_out_split(model_name='Electra',\n",
    "                       epoch=8,\n",
    "                       train_dataset=train_dataset,\n",
    "                       eval_dataset=val_dataset,\n",
    "                       checkpoint=False)"
   ]
  },
  {
   "cell_type": "code",
   "execution_count": 18,
   "id": "064c6650-b058-46b0-9e6a-1c8829962e38",
   "metadata": {},
   "outputs": [
    {
     "name": "stderr",
     "output_type": "stream",
     "text": [
      "PyTorch: setting up devices\n",
      "The default value for the training argument `--report_to` will change in v5 (from all installed integrations to none). In v5, you will need to use `--report_to all` to get the same behavior as now. You should start updating your code and make this info disappear :-).\n",
      "Loading model from content/drive/MyDrive/output_Electra/holdout/checkpoint-28650).\n"
     ]
    },
    {
     "name": "stdout",
     "output_type": "stream",
     "text": [
      "Developing Model with Hold Out Splits for: Electra\n"
     ]
    },
    {
     "name": "stderr",
     "output_type": "stream",
     "text": [
      "/opt/conda/lib/python3.9/site-packages/transformers/optimization.py:306: FutureWarning: This implementation of AdamW is deprecated and will be removed in a future version. Use the PyTorch implementation torch.optim.AdamW instead, or set `no_deprecation_warning=True` to disable this warning\n",
      "  warnings.warn(\n",
      "***** Running training *****\n",
      "  Num examples = 38200\n",
      "  Num Epochs = 8\n",
      "  Instantaneous batch size per device = 8\n",
      "  Total train batch size (w. parallel, distributed & accumulation) = 8\n",
      "  Gradient Accumulation steps = 1\n",
      "  Total optimization steps = 38200\n",
      "  Continuing training from checkpoint, will skip to saved global_step\n",
      "  Continuing training from epoch 6\n",
      "  Continuing training from global step 28650\n",
      "  Will skip the first 6 epochs then the first 0 batches in the first epoch. If this takes a lot of time, you can add the `--ignore_data_skip` flag to your launch command, but you will resume the training on data already seen by your model.\n"
     ]
    },
    {
     "data": {
      "application/vnd.jupyter.widget-view+json": {
       "model_id": "ec4181e89cda4a5f91c6d64268f4b572",
       "version_major": 2,
       "version_minor": 0
      },
      "text/plain": [
       "0it [00:00, ?it/s]"
      ]
     },
     "metadata": {},
     "output_type": "display_data"
    },
    {
     "data": {
      "text/html": [
       "\n",
       "    <div>\n",
       "      \n",
       "      <progress value='38200' max='38200' style='width:300px; height:20px; vertical-align: middle;'></progress>\n",
       "      [38200/38200 34:18, Epoch 8/8]\n",
       "    </div>\n",
       "    <table border=\"1\" class=\"dataframe\">\n",
       "  <thead>\n",
       " <tr style=\"text-align: left;\">\n",
       "      <th>Epoch</th>\n",
       "      <th>Training Loss</th>\n",
       "      <th>Validation Loss</th>\n",
       "      <th>Accuracy</th>\n",
       "      <th>Precision</th>\n",
       "      <th>Recall</th>\n",
       "      <th>F1</th>\n",
       "      <th>Precision Nonbully</th>\n",
       "      <th>Recall Nonbully</th>\n",
       "      <th>F1 Nonbully</th>\n",
       "      <th>Precision Harasser</th>\n",
       "      <th>Recall Harasser</th>\n",
       "      <th>F1 Harasser</th>\n",
       "      <th>Precision Victim</th>\n",
       "      <th>Recall Victim</th>\n",
       "      <th>F1 Victim</th>\n",
       "      <th>Precision Bydefender</th>\n",
       "      <th>Recall Bydefender</th>\n",
       "      <th>F1 Bydefender</th>\n",
       "    </tr>\n",
       "  </thead>\n",
       "  <tbody>\n",
       "    <tr>\n",
       "      <td>7</td>\n",
       "      <td>0.083700</td>\n",
       "      <td>0.213731</td>\n",
       "      <td>0.964009</td>\n",
       "      <td>0.616178</td>\n",
       "      <td>0.695501</td>\n",
       "      <td>0.651677</td>\n",
       "      <td>0.989964</td>\n",
       "      <td>0.978385</td>\n",
       "      <td>0.984140</td>\n",
       "      <td>0.623608</td>\n",
       "      <td>0.777778</td>\n",
       "      <td>0.692213</td>\n",
       "      <td>0.370370</td>\n",
       "      <td>0.444444</td>\n",
       "      <td>0.404040</td>\n",
       "      <td>0.480769</td>\n",
       "      <td>0.581395</td>\n",
       "      <td>0.526316</td>\n",
       "    </tr>\n",
       "    <tr>\n",
       "      <td>8</td>\n",
       "      <td>0.082100</td>\n",
       "      <td>0.238979</td>\n",
       "      <td>0.961514</td>\n",
       "      <td>0.593721</td>\n",
       "      <td>0.700700</td>\n",
       "      <td>0.639487</td>\n",
       "      <td>0.990872</td>\n",
       "      <td>0.975110</td>\n",
       "      <td>0.982928</td>\n",
       "      <td>0.598326</td>\n",
       "      <td>0.794444</td>\n",
       "      <td>0.682578</td>\n",
       "      <td>0.354651</td>\n",
       "      <td>0.451852</td>\n",
       "      <td>0.397394</td>\n",
       "      <td>0.431034</td>\n",
       "      <td>0.581395</td>\n",
       "      <td>0.495050</td>\n",
       "    </tr>\n",
       "  </tbody>\n",
       "</table><p>"
      ],
      "text/plain": [
       "<IPython.core.display.HTML object>"
      ]
     },
     "metadata": {},
     "output_type": "display_data"
    },
    {
     "name": "stderr",
     "output_type": "stream",
     "text": [
      "***** Running Evaluation *****\n",
      "  Num examples = 11225\n",
      "  Batch size = 8\n",
      "Saving model checkpoint to content/drive/MyDrive/output_Electra/holdout/checkpoint-33425\n",
      "Configuration saved in content/drive/MyDrive/output_Electra/holdout/checkpoint-33425/config.json\n",
      "Model weights saved in content/drive/MyDrive/output_Electra/holdout/checkpoint-33425/pytorch_model.bin\n",
      "***** Running Evaluation *****\n",
      "  Num examples = 11225\n",
      "  Batch size = 8\n",
      "Saving model checkpoint to content/drive/MyDrive/output_Electra/holdout/checkpoint-38200\n",
      "Configuration saved in content/drive/MyDrive/output_Electra/holdout/checkpoint-38200/config.json\n",
      "Model weights saved in content/drive/MyDrive/output_Electra/holdout/checkpoint-38200/pytorch_model.bin\n",
      "\n",
      "\n",
      "Training completed. Do not forget to share your model on huggingface.co/models =)\n",
      "\n",
      "\n",
      "Loading best model from content/drive/MyDrive/output_Electra/holdout/checkpoint-4775 (score: 0.15321004390716553).\n"
     ]
    },
    {
     "name": "stdout",
     "output_type": "stream",
     "text": [
      "Complete for hold-out validate set\n"
     ]
    }
   ],
   "source": [
    "run_hold_out_split(model_name='Electra',\n",
    "                       epoch=8,\n",
    "                       train_dataset=train_dataset,\n",
    "                       eval_dataset=val_dataset,\n",
    "                       checkpoint=True)"
   ]
  },
  {
   "cell_type": "markdown",
   "id": "aLWx6bXFkG5y",
   "metadata": {
    "id": "aLWx6bXFkG5y",
    "tags": []
   },
   "source": [
    "### Test Split Cross Validation"
   ]
  },
  {
   "cell_type": "markdown",
   "id": "QDcKJB-xpELh",
   "metadata": {
    "id": "QDcKJB-xpELh",
    "tags": []
   },
   "source": [
    "#### Epoch 1"
   ]
  },
  {
   "cell_type": "code",
   "execution_count": 11,
   "id": "tVxy16Oqj4qa",
   "metadata": {
    "id": "tVxy16Oqj4qa"
   },
   "outputs": [
    {
     "name": "stderr",
     "output_type": "stream",
     "text": [
      "loading configuration file content/drive/MyDrive/output_Electra/holdout/checkpoint-4775/config.json\n",
      "Model config ElectraConfig {\n",
      "  \"_name_or_path\": \"content/drive/MyDrive/output_Electra/holdout/checkpoint-4775\",\n",
      "  \"architectures\": [\n",
      "    \"ElectraForSequenceClassification\"\n",
      "  ],\n",
      "  \"attention_probs_dropout_prob\": 0.1,\n",
      "  \"classifier_dropout\": null,\n",
      "  \"embedding_size\": 128,\n",
      "  \"hidden_act\": \"gelu\",\n",
      "  \"hidden_dropout_prob\": 0.1,\n",
      "  \"hidden_size\": 256,\n",
      "  \"id2label\": {\n",
      "    \"0\": \"LABEL_0\",\n",
      "    \"1\": \"LABEL_1\",\n",
      "    \"2\": \"LABEL_2\",\n",
      "    \"3\": \"LABEL_3\"\n",
      "  },\n",
      "  \"initializer_range\": 0.02,\n",
      "  \"intermediate_size\": 1024,\n",
      "  \"label2id\": {\n",
      "    \"LABEL_0\": 0,\n",
      "    \"LABEL_1\": 1,\n",
      "    \"LABEL_2\": 2,\n",
      "    \"LABEL_3\": 3\n",
      "  },\n",
      "  \"layer_norm_eps\": 1e-12,\n",
      "  \"max_position_embeddings\": 512,\n",
      "  \"model_type\": \"electra\",\n",
      "  \"num_attention_heads\": 4,\n",
      "  \"num_hidden_layers\": 12,\n",
      "  \"pad_token_id\": 0,\n",
      "  \"position_embedding_type\": \"absolute\",\n",
      "  \"problem_type\": \"single_label_classification\",\n",
      "  \"summary_activation\": \"gelu\",\n",
      "  \"summary_last_dropout\": 0.1,\n",
      "  \"summary_type\": \"first\",\n",
      "  \"summary_use_proj\": true,\n",
      "  \"torch_dtype\": \"float32\",\n",
      "  \"transformers_version\": \"4.18.0\",\n",
      "  \"type_vocab_size\": 2,\n",
      "  \"use_cache\": true,\n",
      "  \"vocab_size\": 30522\n",
      "}\n",
      "\n",
      "loading weights file content/drive/MyDrive/output_Electra/holdout/checkpoint-4775/pytorch_model.bin\n",
      "All model checkpoint weights were used when initializing ElectraForSequenceClassification.\n",
      "\n",
      "All the weights of ElectraForSequenceClassification were initialized from the model checkpoint at content/drive/MyDrive/output_Electra/holdout/checkpoint-4775.\n",
      "If your task is similar to the task the model of the checkpoint was trained on, you can already use ElectraForSequenceClassification for predictions without further training.\n",
      "No `TrainingArguments` passed, using `output_dir=tmp_trainer`.\n",
      "PyTorch: setting up devices\n",
      "The default value for the training argument `--report_to` will change in v5 (from all installed integrations to none). In v5, you will need to use `--report_to all` to get the same behavior as now. You should start updating your code and make this info disappear :-).\n",
      "***** Running Prediction *****\n",
      "  Num examples = 11225\n",
      "  Batch size = 8\n"
     ]
    },
    {
     "data": {
      "text/html": [
       "\n",
       "    <div>\n",
       "      \n",
       "      <progress value='1404' max='1404' style='width:300px; height:20px; vertical-align: middle;'></progress>\n",
       "      [1404/1404 00:42]\n",
       "    </div>\n",
       "    "
      ],
      "text/plain": [
       "<IPython.core.display.HTML object>"
      ]
     },
     "metadata": {},
     "output_type": "display_data"
    },
    {
     "name": "stdout",
     "output_type": "stream",
     "text": [
      "Classification Report:\n",
      "              precision    recall  f1-score   support\n",
      "\n",
      "           0       0.99      0.98      0.99     10687\n",
      "           1       0.62      0.80      0.70       360\n",
      "           2       0.50      0.34      0.41       135\n",
      "           3       0.38      0.70      0.49        43\n",
      "\n",
      "    accuracy                           0.97     11225\n",
      "   macro avg       0.62      0.70      0.64     11225\n",
      "weighted avg       0.97      0.97      0.97     11225\n",
      "\n",
      "\n",
      "Macro Metrics:\n",
      "Precision:  0.6218172168574818\n",
      "Recall:  0.7041371923087183\n",
      "F-measure:  0.6443823162646698\n",
      "\n",
      "Label 0: Non-bully\n",
      "Precision:  0.9897092145015106\n",
      "Recall:  0.9809113876672593\n",
      "F-measure:  0.9852906621551766\n",
      "\n",
      "Label 1: Harasser\n",
      "Precision:  0.6225596529284165\n",
      "Recall:  0.7972222222222223\n",
      "F-measure:  0.6991473812423874\n",
      "\n",
      "Label 2: Victim\n",
      "Precision:  0.5\n",
      "Recall:  0.34074074074074073\n",
      "F-measure:  0.4052863436123348\n",
      "\n",
      "Label 3: Bystander-defender\n",
      "Precision:  0.375\n",
      "Recall:  0.6976744186046512\n",
      "F-measure:  0.4878048780487806\n",
      "\n"
     ]
    },
    {
     "data": {
      "image/png": "[encoded data removed]",
      "text/plain": [
       "<Figure size 864x576 with 2 Axes>"
      ]
     },
     "metadata": {
      "needs_background": "light"
     },
     "output_type": "display_data"
    }
   ],
   "source": [
    "compute_metrics_holdout(model_name='Electra',\n",
    "                        model_path='content/drive/MyDrive/output_Electra/holdout/checkpoint-4775', \n",
    "                        average_method='macro',\n",
    "                        X_test=X_test)"
   ]
  },
  {
   "cell_type": "markdown",
   "id": "vHPsS5ygoKsl",
   "metadata": {
    "id": "vHPsS5ygoKsl"
   },
   "source": [
    "#### Epoch 2"
   ]
  },
  {
   "cell_type": "code",
   "execution_count": 12,
   "id": "jOxijXVBoKsm",
   "metadata": {
    "id": "jOxijXVBoKsm"
   },
   "outputs": [
    {
     "name": "stderr",
     "output_type": "stream",
     "text": [
      "loading configuration file content/drive/MyDrive/output_Electra/holdout/checkpoint-9550/config.json\n",
      "Model config ElectraConfig {\n",
      "  \"_name_or_path\": \"content/drive/MyDrive/output_Electra/holdout/checkpoint-9550\",\n",
      "  \"architectures\": [\n",
      "    \"ElectraForSequenceClassification\"\n",
      "  ],\n",
      "  \"attention_probs_dropout_prob\": 0.1,\n",
      "  \"classifier_dropout\": null,\n",
      "  \"embedding_size\": 128,\n",
      "  \"hidden_act\": \"gelu\",\n",
      "  \"hidden_dropout_prob\": 0.1,\n",
      "  \"hidden_size\": 256,\n",
      "  \"id2label\": {\n",
      "    \"0\": \"LABEL_0\",\n",
      "    \"1\": \"LABEL_1\",\n",
      "    \"2\": \"LABEL_2\",\n",
      "    \"3\": \"LABEL_3\"\n",
      "  },\n",
      "  \"initializer_range\": 0.02,\n",
      "  \"intermediate_size\": 1024,\n",
      "  \"label2id\": {\n",
      "    \"LABEL_0\": 0,\n",
      "    \"LABEL_1\": 1,\n",
      "    \"LABEL_2\": 2,\n",
      "    \"LABEL_3\": 3\n",
      "  },\n",
      "  \"layer_norm_eps\": 1e-12,\n",
      "  \"max_position_embeddings\": 512,\n",
      "  \"model_type\": \"electra\",\n",
      "  \"num_attention_heads\": 4,\n",
      "  \"num_hidden_layers\": 12,\n",
      "  \"pad_token_id\": 0,\n",
      "  \"position_embedding_type\": \"absolute\",\n",
      "  \"problem_type\": \"single_label_classification\",\n",
      "  \"summary_activation\": \"gelu\",\n",
      "  \"summary_last_dropout\": 0.1,\n",
      "  \"summary_type\": \"first\",\n",
      "  \"summary_use_proj\": true,\n",
      "  \"torch_dtype\": \"float32\",\n",
      "  \"transformers_version\": \"4.18.0\",\n",
      "  \"type_vocab_size\": 2,\n",
      "  \"use_cache\": true,\n",
      "  \"vocab_size\": 30522\n",
      "}\n",
      "\n",
      "loading weights file content/drive/MyDrive/output_Electra/holdout/checkpoint-9550/pytorch_model.bin\n",
      "All model checkpoint weights were used when initializing ElectraForSequenceClassification.\n",
      "\n",
      "All the weights of ElectraForSequenceClassification were initialized from the model checkpoint at content/drive/MyDrive/output_Electra/holdout/checkpoint-9550.\n",
      "If your task is similar to the task the model of the checkpoint was trained on, you can already use ElectraForSequenceClassification for predictions without further training.\n",
      "No `TrainingArguments` passed, using `output_dir=tmp_trainer`.\n",
      "PyTorch: setting up devices\n",
      "The default value for the training argument `--report_to` will change in v5 (from all installed integrations to none). In v5, you will need to use `--report_to all` to get the same behavior as now. You should start updating your code and make this info disappear :-).\n",
      "***** Running Prediction *****\n",
      "  Num examples = 11225\n",
      "  Batch size = 8\n"
     ]
    },
    {
     "data": {
      "text/html": [
       "\n",
       "    <div>\n",
       "      \n",
       "      <progress value='1404' max='1404' style='width:300px; height:20px; vertical-align: middle;'></progress>\n",
       "      [1404/1404 00:42]\n",
       "    </div>\n",
       "    "
      ],
      "text/plain": [
       "<IPython.core.display.HTML object>"
      ]
     },
     "metadata": {},
     "output_type": "display_data"
    },
    {
     "name": "stdout",
     "output_type": "stream",
     "text": [
      "Classification Report:\n",
      "              precision    recall  f1-score   support\n",
      "\n",
      "           0       0.99      0.97      0.98     10687\n",
      "           1       0.59      0.81      0.68       360\n",
      "           2       0.30      0.43      0.35       135\n",
      "           3       0.46      0.63      0.53        43\n",
      "\n",
      "    accuracy                           0.96     11225\n",
      "   macro avg       0.58      0.71      0.64     11225\n",
      "weighted avg       0.97      0.96      0.96     11225\n",
      "\n",
      "\n",
      "Macro Metrics:\n",
      "Precision:  0.5840255621589224\n",
      "Recall:  0.7102376288191592\n",
      "F-measure:  0.6363713860709305\n",
      "\n",
      "Label 0: Non-bully\n",
      "Precision:  0.9919809069212411\n",
      "Recall:  0.9723027977917096\n",
      "F-measure:  0.9820432851337303\n",
      "\n",
      "Label 1: Harasser\n",
      "Precision:  0.5875251509054326\n",
      "Recall:  0.8111111111111111\n",
      "F-measure:  0.6814469078179696\n",
      "\n",
      "Label 2: Victim\n",
      "Precision:  0.29896907216494845\n",
      "Recall:  0.42962962962962964\n",
      "F-measure:  0.3525835866261398\n",
      "\n",
      "Label 3: Bystander-defender\n",
      "Precision:  0.4576271186440678\n",
      "Recall:  0.627906976744186\n",
      "F-measure:  0.5294117647058824\n",
      "\n"
     ]
    },
    {
     "data": {
      "image/png": "[encoded data removed]",
      "text/plain": [
       "<Figure size 864x576 with 2 Axes>"
      ]
     },
     "metadata": {
      "needs_background": "light"
     },
     "output_type": "display_data"
    }
   ],
   "source": [
    "compute_metrics_holdout(model_name='Electra',\n",
    "                        model_path='content/drive/MyDrive/output_Electra/holdout/checkpoint-9550', \n",
    "                        average_method='macro',\n",
    "                        X_test=X_test)"
   ]
  },
  {
   "cell_type": "markdown",
   "id": "b2vwnX1CoK65",
   "metadata": {
    "id": "b2vwnX1CoK65"
   },
   "source": [
    "#### Epoch 3"
   ]
  },
  {
   "cell_type": "code",
   "execution_count": 13,
   "id": "oQRlv9GqoK65",
   "metadata": {
    "id": "oQRlv9GqoK65"
   },
   "outputs": [
    {
     "name": "stderr",
     "output_type": "stream",
     "text": [
      "loading configuration file content/drive/MyDrive/output_Electra/holdout/checkpoint-14325/config.json\n",
      "Model config ElectraConfig {\n",
      "  \"_name_or_path\": \"content/drive/MyDrive/output_Electra/holdout/checkpoint-14325\",\n",
      "  \"architectures\": [\n",
      "    \"ElectraForSequenceClassification\"\n",
      "  ],\n",
      "  \"attention_probs_dropout_prob\": 0.1,\n",
      "  \"classifier_dropout\": null,\n",
      "  \"embedding_size\": 128,\n",
      "  \"hidden_act\": \"gelu\",\n",
      "  \"hidden_dropout_prob\": 0.1,\n",
      "  \"hidden_size\": 256,\n",
      "  \"id2label\": {\n",
      "    \"0\": \"LABEL_0\",\n",
      "    \"1\": \"LABEL_1\",\n",
      "    \"2\": \"LABEL_2\",\n",
      "    \"3\": \"LABEL_3\"\n",
      "  },\n",
      "  \"initializer_range\": 0.02,\n",
      "  \"intermediate_size\": 1024,\n",
      "  \"label2id\": {\n",
      "    \"LABEL_0\": 0,\n",
      "    \"LABEL_1\": 1,\n",
      "    \"LABEL_2\": 2,\n",
      "    \"LABEL_3\": 3\n",
      "  },\n",
      "  \"layer_norm_eps\": 1e-12,\n",
      "  \"max_position_embeddings\": 512,\n",
      "  \"model_type\": \"electra\",\n",
      "  \"num_attention_heads\": 4,\n",
      "  \"num_hidden_layers\": 12,\n",
      "  \"pad_token_id\": 0,\n",
      "  \"position_embedding_type\": \"absolute\",\n",
      "  \"problem_type\": \"single_label_classification\",\n",
      "  \"summary_activation\": \"gelu\",\n",
      "  \"summary_last_dropout\": 0.1,\n",
      "  \"summary_type\": \"first\",\n",
      "  \"summary_use_proj\": true,\n",
      "  \"torch_dtype\": \"float32\",\n",
      "  \"transformers_version\": \"4.18.0\",\n",
      "  \"type_vocab_size\": 2,\n",
      "  \"use_cache\": true,\n",
      "  \"vocab_size\": 30522\n",
      "}\n",
      "\n",
      "loading weights file content/drive/MyDrive/output_Electra/holdout/checkpoint-14325/pytorch_model.bin\n",
      "All model checkpoint weights were used when initializing ElectraForSequenceClassification.\n",
      "\n",
      "All the weights of ElectraForSequenceClassification were initialized from the model checkpoint at content/drive/MyDrive/output_Electra/holdout/checkpoint-14325.\n",
      "If your task is similar to the task the model of the checkpoint was trained on, you can already use ElectraForSequenceClassification for predictions without further training.\n",
      "No `TrainingArguments` passed, using `output_dir=tmp_trainer`.\n",
      "PyTorch: setting up devices\n",
      "The default value for the training argument `--report_to` will change in v5 (from all installed integrations to none). In v5, you will need to use `--report_to all` to get the same behavior as now. You should start updating your code and make this info disappear :-).\n",
      "***** Running Prediction *****\n",
      "  Num examples = 11225\n",
      "  Batch size = 8\n"
     ]
    },
    {
     "data": {
      "text/html": [
       "\n",
       "    <div>\n",
       "      \n",
       "      <progress value='1404' max='1404' style='width:300px; height:20px; vertical-align: middle;'></progress>\n",
       "      [1404/1404 00:41]\n",
       "    </div>\n",
       "    "
      ],
      "text/plain": [
       "<IPython.core.display.HTML object>"
      ]
     },
     "metadata": {},
     "output_type": "display_data"
    },
    {
     "name": "stdout",
     "output_type": "stream",
     "text": [
      "Classification Report:\n",
      "              precision    recall  f1-score   support\n",
      "\n",
      "           0       0.99      0.98      0.98     10687\n",
      "           1       0.60      0.79      0.68       360\n",
      "           2       0.37      0.33      0.35       135\n",
      "           3       0.47      0.53      0.50        43\n",
      "\n",
      "    accuracy                           0.96     11225\n",
      "   macro avg       0.61      0.66      0.63     11225\n",
      "weighted avg       0.97      0.96      0.96     11225\n",
      "\n",
      "\n",
      "Macro Metrics:\n",
      "Precision:  0.6075293922637093\n",
      "Recall:  0.656630535706845\n",
      "F-measure:  0.6281476192244206\n",
      "\n",
      "Label 0: Non-bully\n",
      "Precision:  0.9888542552186644\n",
      "Recall:  0.9796013848601104\n",
      "F-measure:  0.9842060731409231\n",
      "\n",
      "Label 1: Harasser\n",
      "Precision:  0.6021276595744681\n",
      "Recall:  0.7861111111111111\n",
      "F-measure:  0.6819277108433736\n",
      "\n",
      "Label 2: Victim\n",
      "Precision:  0.3697478991596639\n",
      "Recall:  0.32592592592592595\n",
      "F-measure:  0.3464566929133859\n",
      "\n",
      "Label 3: Bystander-defender\n",
      "Precision:  0.46938775510204084\n",
      "Recall:  0.5348837209302325\n",
      "F-measure:  0.5\n",
      "\n"
     ]
    },
    {
     "data": {
      "image/png": "[encoded data removed]",
      "text/plain": [
       "<Figure size 864x576 with 2 Axes>"
      ]
     },
     "metadata": {
      "needs_background": "light"
     },
     "output_type": "display_data"
    }
   ],
   "source": [
    "compute_metrics_holdout(model_name='Electra',\n",
    "                        model_path='content/drive/MyDrive/output_Electra/holdout/checkpoint-14325', \n",
    "                        average_method='macro',\n",
    "                        X_test=X_test)"
   ]
  },
  {
   "cell_type": "markdown",
   "id": "2i5rAbFSoLHp",
   "metadata": {
    "id": "2i5rAbFSoLHp"
   },
   "source": [
    "#### Epoch 4"
   ]
  },
  {
   "cell_type": "code",
   "execution_count": 14,
   "id": "_dX4I2MGoLHp",
   "metadata": {
    "id": "_dX4I2MGoLHp"
   },
   "outputs": [
    {
     "name": "stderr",
     "output_type": "stream",
     "text": [
      "loading configuration file content/drive/MyDrive/output_Electra/holdout/checkpoint-19100/config.json\n",
      "Model config ElectraConfig {\n",
      "  \"_name_or_path\": \"content/drive/MyDrive/output_Electra/holdout/checkpoint-19100\",\n",
      "  \"architectures\": [\n",
      "    \"ElectraForSequenceClassification\"\n",
      "  ],\n",
      "  \"attention_probs_dropout_prob\": 0.1,\n",
      "  \"classifier_dropout\": null,\n",
      "  \"embedding_size\": 128,\n",
      "  \"hidden_act\": \"gelu\",\n",
      "  \"hidden_dropout_prob\": 0.1,\n",
      "  \"hidden_size\": 256,\n",
      "  \"id2label\": {\n",
      "    \"0\": \"LABEL_0\",\n",
      "    \"1\": \"LABEL_1\",\n",
      "    \"2\": \"LABEL_2\",\n",
      "    \"3\": \"LABEL_3\"\n",
      "  },\n",
      "  \"initializer_range\": 0.02,\n",
      "  \"intermediate_size\": 1024,\n",
      "  \"label2id\": {\n",
      "    \"LABEL_0\": 0,\n",
      "    \"LABEL_1\": 1,\n",
      "    \"LABEL_2\": 2,\n",
      "    \"LABEL_3\": 3\n",
      "  },\n",
      "  \"layer_norm_eps\": 1e-12,\n",
      "  \"max_position_embeddings\": 512,\n",
      "  \"model_type\": \"electra\",\n",
      "  \"num_attention_heads\": 4,\n",
      "  \"num_hidden_layers\": 12,\n",
      "  \"pad_token_id\": 0,\n",
      "  \"position_embedding_type\": \"absolute\",\n",
      "  \"problem_type\": \"single_label_classification\",\n",
      "  \"summary_activation\": \"gelu\",\n",
      "  \"summary_last_dropout\": 0.1,\n",
      "  \"summary_type\": \"first\",\n",
      "  \"summary_use_proj\": true,\n",
      "  \"torch_dtype\": \"float32\",\n",
      "  \"transformers_version\": \"4.18.0\",\n",
      "  \"type_vocab_size\": 2,\n",
      "  \"use_cache\": true,\n",
      "  \"vocab_size\": 30522\n",
      "}\n",
      "\n",
      "loading weights file content/drive/MyDrive/output_Electra/holdout/checkpoint-19100/pytorch_model.bin\n",
      "All model checkpoint weights were used when initializing ElectraForSequenceClassification.\n",
      "\n",
      "All the weights of ElectraForSequenceClassification were initialized from the model checkpoint at content/drive/MyDrive/output_Electra/holdout/checkpoint-19100.\n",
      "If your task is similar to the task the model of the checkpoint was trained on, you can already use ElectraForSequenceClassification for predictions without further training.\n",
      "No `TrainingArguments` passed, using `output_dir=tmp_trainer`.\n",
      "PyTorch: setting up devices\n",
      "The default value for the training argument `--report_to` will change in v5 (from all installed integrations to none). In v5, you will need to use `--report_to all` to get the same behavior as now. You should start updating your code and make this info disappear :-).\n",
      "***** Running Prediction *****\n",
      "  Num examples = 11225\n",
      "  Batch size = 8\n"
     ]
    },
    {
     "data": {
      "text/html": [
       "\n",
       "    <div>\n",
       "      \n",
       "      <progress value='1404' max='1404' style='width:300px; height:20px; vertical-align: middle;'></progress>\n",
       "      [1404/1404 00:41]\n",
       "    </div>\n",
       "    "
      ],
      "text/plain": [
       "<IPython.core.display.HTML object>"
      ]
     },
     "metadata": {},
     "output_type": "display_data"
    },
    {
     "name": "stdout",
     "output_type": "stream",
     "text": [
      "Classification Report:\n",
      "              precision    recall  f1-score   support\n",
      "\n",
      "           0       0.99      0.98      0.98     10687\n",
      "           1       0.59      0.79      0.67       360\n",
      "           2       0.44      0.36      0.40       135\n",
      "           3       0.39      0.60      0.47        43\n",
      "\n",
      "    accuracy                           0.96     11225\n",
      "   macro avg       0.60      0.68      0.63     11225\n",
      "weighted avg       0.97      0.96      0.96     11225\n",
      "\n",
      "\n",
      "Macro Metrics:\n",
      "Precision:  0.600994988210831\n",
      "Recall:  0.6835816346375252\n",
      "F-measure:  0.6318889648941323\n",
      "\n",
      "Label 0: Non-bully\n",
      "Precision:  0.9892086330935251\n",
      "Recall:  0.9778235239075512\n",
      "F-measure:  0.9834831302056375\n",
      "\n",
      "Label 1: Harasser\n",
      "Precision:  0.5892116182572614\n",
      "Recall:  0.7888888888888889\n",
      "F-measure:  0.6745843230403801\n",
      "\n",
      "Label 2: Victim\n",
      "Precision:  0.4375\n",
      "Recall:  0.362962962962963\n",
      "F-measure:  0.3967611336032389\n",
      "\n",
      "Label 3: Bystander-defender\n",
      "Precision:  0.3880597014925373\n",
      "Recall:  0.6046511627906976\n",
      "F-measure:  0.4727272727272727\n",
      "\n"
     ]
    },
    {
     "data": {
      "image/png": "[encoded data removed]",
      "text/plain": [
       "<Figure size 864x576 with 2 Axes>"
      ]
     },
     "metadata": {
      "needs_background": "light"
     },
     "output_type": "display_data"
    }
   ],
   "source": [
    "compute_metrics_holdout(model_name='Electra',\n",
    "                        model_path='content/drive/MyDrive/output_Electra/holdout/checkpoint-19100', \n",
    "                        average_method='macro',\n",
    "                        X_test=X_test)"
   ]
  },
  {
   "cell_type": "markdown",
   "id": "SYBy_9KLoLWP",
   "metadata": {
    "id": "SYBy_9KLoLWP"
   },
   "source": [
    "#### Epoch 5"
   ]
  },
  {
   "cell_type": "code",
   "execution_count": 15,
   "id": "wpGHwymKoLWP",
   "metadata": {
    "id": "wpGHwymKoLWP"
   },
   "outputs": [
    {
     "name": "stderr",
     "output_type": "stream",
     "text": [
      "loading configuration file content/drive/MyDrive/output_Electra/holdout/checkpoint-23875/config.json\n",
      "Model config ElectraConfig {\n",
      "  \"_name_or_path\": \"content/drive/MyDrive/output_Electra/holdout/checkpoint-23875\",\n",
      "  \"architectures\": [\n",
      "    \"ElectraForSequenceClassification\"\n",
      "  ],\n",
      "  \"attention_probs_dropout_prob\": 0.1,\n",
      "  \"classifier_dropout\": null,\n",
      "  \"embedding_size\": 128,\n",
      "  \"hidden_act\": \"gelu\",\n",
      "  \"hidden_dropout_prob\": 0.1,\n",
      "  \"hidden_size\": 256,\n",
      "  \"id2label\": {\n",
      "    \"0\": \"LABEL_0\",\n",
      "    \"1\": \"LABEL_1\",\n",
      "    \"2\": \"LABEL_2\",\n",
      "    \"3\": \"LABEL_3\"\n",
      "  },\n",
      "  \"initializer_range\": 0.02,\n",
      "  \"intermediate_size\": 1024,\n",
      "  \"label2id\": {\n",
      "    \"LABEL_0\": 0,\n",
      "    \"LABEL_1\": 1,\n",
      "    \"LABEL_2\": 2,\n",
      "    \"LABEL_3\": 3\n",
      "  },\n",
      "  \"layer_norm_eps\": 1e-12,\n",
      "  \"max_position_embeddings\": 512,\n",
      "  \"model_type\": \"electra\",\n",
      "  \"num_attention_heads\": 4,\n",
      "  \"num_hidden_layers\": 12,\n",
      "  \"pad_token_id\": 0,\n",
      "  \"position_embedding_type\": \"absolute\",\n",
      "  \"problem_type\": \"single_label_classification\",\n",
      "  \"summary_activation\": \"gelu\",\n",
      "  \"summary_last_dropout\": 0.1,\n",
      "  \"summary_type\": \"first\",\n",
      "  \"summary_use_proj\": true,\n",
      "  \"torch_dtype\": \"float32\",\n",
      "  \"transformers_version\": \"4.18.0\",\n",
      "  \"type_vocab_size\": 2,\n",
      "  \"use_cache\": true,\n",
      "  \"vocab_size\": 30522\n",
      "}\n",
      "\n",
      "loading weights file content/drive/MyDrive/output_Electra/holdout/checkpoint-23875/pytorch_model.bin\n",
      "All model checkpoint weights were used when initializing ElectraForSequenceClassification.\n",
      "\n",
      "All the weights of ElectraForSequenceClassification were initialized from the model checkpoint at content/drive/MyDrive/output_Electra/holdout/checkpoint-23875.\n",
      "If your task is similar to the task the model of the checkpoint was trained on, you can already use ElectraForSequenceClassification for predictions without further training.\n",
      "No `TrainingArguments` passed, using `output_dir=tmp_trainer`.\n",
      "PyTorch: setting up devices\n",
      "The default value for the training argument `--report_to` will change in v5 (from all installed integrations to none). In v5, you will need to use `--report_to all` to get the same behavior as now. You should start updating your code and make this info disappear :-).\n",
      "***** Running Prediction *****\n",
      "  Num examples = 11225\n",
      "  Batch size = 8\n"
     ]
    },
    {
     "data": {
      "text/html": [
       "\n",
       "    <div>\n",
       "      \n",
       "      <progress value='1404' max='1404' style='width:300px; height:20px; vertical-align: middle;'></progress>\n",
       "      [1404/1404 00:42]\n",
       "    </div>\n",
       "    "
      ],
      "text/plain": [
       "<IPython.core.display.HTML object>"
      ]
     },
     "metadata": {},
     "output_type": "display_data"
    },
    {
     "name": "stdout",
     "output_type": "stream",
     "text": [
      "Classification Report:\n",
      "              precision    recall  f1-score   support\n",
      "\n",
      "           0       0.99      0.98      0.98     10687\n",
      "           1       0.62      0.75      0.68       360\n",
      "           2       0.35      0.47      0.41       135\n",
      "           3       0.42      0.58      0.49        43\n",
      "\n",
      "    accuracy                           0.96     11225\n",
      "   macro avg       0.60      0.70      0.64     11225\n",
      "weighted avg       0.97      0.96      0.96     11225\n",
      "\n",
      "\n",
      "Macro Metrics:\n",
      "Precision:  0.5958946030714508\n",
      "Recall:  0.695659486353815\n",
      "F-measure:  0.6387211262162473\n",
      "\n",
      "Label 0: Non-bully\n",
      "Precision:  0.9897640034119989\n",
      "Recall:  0.9771685225039768\n",
      "F-measure:  0.9834259346454469\n",
      "\n",
      "Label 1: Harasser\n",
      "Precision:  0.6235565819861432\n",
      "Recall:  0.75\n",
      "F-measure:  0.6809583858764188\n",
      "\n",
      "Label 2: Victim\n",
      "Precision:  0.35359116022099446\n",
      "Recall:  0.4740740740740741\n",
      "F-measure:  0.4050632911392405\n",
      "\n",
      "Label 3: Bystander-defender\n",
      "Precision:  0.4166666666666667\n",
      "Recall:  0.5813953488372093\n",
      "F-measure:  0.4854368932038835\n",
      "\n"
     ]
    },
    {
     "data": {
      "image/png": "[encoded data removed]",
      "text/plain": [
       "<Figure size 864x576 with 2 Axes>"
      ]
     },
     "metadata": {
      "needs_background": "light"
     },
     "output_type": "display_data"
    }
   ],
   "source": [
    "compute_metrics_holdout(model_name='Electra',\n",
    "                        model_path='content/drive/MyDrive/output_Electra/holdout/checkpoint-23875', \n",
    "                        average_method='macro',\n",
    "                        X_test=X_test)"
   ]
  },
  {
   "cell_type": "markdown",
   "id": "Cu90yLCeoLkg",
   "metadata": {
    "id": "Cu90yLCeoLkg"
   },
   "source": [
    "#### Epoch 6"
   ]
  },
  {
   "cell_type": "code",
   "execution_count": 16,
   "id": "aYM9zqSioLkg",
   "metadata": {
    "id": "aYM9zqSioLkg"
   },
   "outputs": [
    {
     "name": "stderr",
     "output_type": "stream",
     "text": [
      "loading configuration file content/drive/MyDrive/output_Electra/holdout/checkpoint-28650/config.json\n",
      "Model config ElectraConfig {\n",
      "  \"_name_or_path\": \"content/drive/MyDrive/output_Electra/holdout/checkpoint-28650\",\n",
      "  \"architectures\": [\n",
      "    \"ElectraForSequenceClassification\"\n",
      "  ],\n",
      "  \"attention_probs_dropout_prob\": 0.1,\n",
      "  \"classifier_dropout\": null,\n",
      "  \"embedding_size\": 128,\n",
      "  \"hidden_act\": \"gelu\",\n",
      "  \"hidden_dropout_prob\": 0.1,\n",
      "  \"hidden_size\": 256,\n",
      "  \"id2label\": {\n",
      "    \"0\": \"LABEL_0\",\n",
      "    \"1\": \"LABEL_1\",\n",
      "    \"2\": \"LABEL_2\",\n",
      "    \"3\": \"LABEL_3\"\n",
      "  },\n",
      "  \"initializer_range\": 0.02,\n",
      "  \"intermediate_size\": 1024,\n",
      "  \"label2id\": {\n",
      "    \"LABEL_0\": 0,\n",
      "    \"LABEL_1\": 1,\n",
      "    \"LABEL_2\": 2,\n",
      "    \"LABEL_3\": 3\n",
      "  },\n",
      "  \"layer_norm_eps\": 1e-12,\n",
      "  \"max_position_embeddings\": 512,\n",
      "  \"model_type\": \"electra\",\n",
      "  \"num_attention_heads\": 4,\n",
      "  \"num_hidden_layers\": 12,\n",
      "  \"pad_token_id\": 0,\n",
      "  \"position_embedding_type\": \"absolute\",\n",
      "  \"problem_type\": \"single_label_classification\",\n",
      "  \"summary_activation\": \"gelu\",\n",
      "  \"summary_last_dropout\": 0.1,\n",
      "  \"summary_type\": \"first\",\n",
      "  \"summary_use_proj\": true,\n",
      "  \"torch_dtype\": \"float32\",\n",
      "  \"transformers_version\": \"4.18.0\",\n",
      "  \"type_vocab_size\": 2,\n",
      "  \"use_cache\": true,\n",
      "  \"vocab_size\": 30522\n",
      "}\n",
      "\n",
      "loading weights file content/drive/MyDrive/output_Electra/holdout/checkpoint-28650/pytorch_model.bin\n",
      "All model checkpoint weights were used when initializing ElectraForSequenceClassification.\n",
      "\n",
      "All the weights of ElectraForSequenceClassification were initialized from the model checkpoint at content/drive/MyDrive/output_Electra/holdout/checkpoint-28650.\n",
      "If your task is similar to the task the model of the checkpoint was trained on, you can already use ElectraForSequenceClassification for predictions without further training.\n",
      "No `TrainingArguments` passed, using `output_dir=tmp_trainer`.\n",
      "PyTorch: setting up devices\n",
      "The default value for the training argument `--report_to` will change in v5 (from all installed integrations to none). In v5, you will need to use `--report_to all` to get the same behavior as now. You should start updating your code and make this info disappear :-).\n",
      "***** Running Prediction *****\n",
      "  Num examples = 11225\n",
      "  Batch size = 8\n"
     ]
    },
    {
     "data": {
      "text/html": [
       "\n",
       "    <div>\n",
       "      \n",
       "      <progress value='1404' max='1404' style='width:300px; height:20px; vertical-align: middle;'></progress>\n",
       "      [1404/1404 00:41]\n",
       "    </div>\n",
       "    "
      ],
      "text/plain": [
       "<IPython.core.display.HTML object>"
      ]
     },
     "metadata": {},
     "output_type": "display_data"
    },
    {
     "name": "stdout",
     "output_type": "stream",
     "text": [
      "Classification Report:\n",
      "              precision    recall  f1-score   support\n",
      "\n",
      "           0       0.99      0.97      0.98     10687\n",
      "           1       0.59      0.79      0.67       360\n",
      "           2       0.34      0.48      0.40       135\n",
      "           3       0.45      0.60      0.51        43\n",
      "\n",
      "    accuracy                           0.96     11225\n",
      "   macro avg       0.59      0.71      0.64     11225\n",
      "weighted avg       0.97      0.96      0.96     11225\n",
      "\n",
      "\n",
      "Macro Metrics:\n",
      "Precision:  0.5925171860180634\n",
      "Recall:  0.7114641389955372\n",
      "F-measure:  0.6425628372397921\n",
      "\n",
      "Label 0: Non-bully\n",
      "Precision:  0.9913300304878049\n",
      "Recall:  0.9736128005988585\n",
      "F-measure:  0.9823915403861588\n",
      "\n",
      "Label 1: Harasser\n",
      "Precision:  0.5883575883575883\n",
      "Recall:  0.7861111111111111\n",
      "F-measure:  0.6730083234244947\n",
      "\n",
      "Label 2: Victim\n",
      "Precision:  0.34210526315789475\n",
      "Recall:  0.48148148148148145\n",
      "F-measure:  0.39999999999999997\n",
      "\n",
      "Label 3: Bystander-defender\n",
      "Precision:  0.4482758620689655\n",
      "Recall:  0.6046511627906976\n",
      "F-measure:  0.5148514851485148\n",
      "\n"
     ]
    },
    {
     "data": {
      "image/png": "[encoded data removed]",
      "text/plain": [
       "<Figure size 864x576 with 2 Axes>"
      ]
     },
     "metadata": {
      "needs_background": "light"
     },
     "output_type": "display_data"
    }
   ],
   "source": [
    "compute_metrics_holdout(model_name='Electra',\n",
    "                        model_path='content/drive/MyDrive/output_Electra/holdout/checkpoint-28650', \n",
    "                        average_method='macro',\n",
    "                        X_test=X_test)"
   ]
  },
  {
   "cell_type": "markdown",
   "id": "OK-hp0pSoLyC",
   "metadata": {
    "id": "OK-hp0pSoLyC"
   },
   "source": [
    "#### Epoch 7"
   ]
  },
  {
   "cell_type": "code",
   "execution_count": 19,
   "id": "dQ9nE9xBoLyC",
   "metadata": {
    "id": "dQ9nE9xBoLyC"
   },
   "outputs": [
    {
     "name": "stderr",
     "output_type": "stream",
     "text": [
      "loading configuration file content/drive/MyDrive/output_Electra/holdout/checkpoint-33425/config.json\n",
      "Model config ElectraConfig {\n",
      "  \"_name_or_path\": \"content/drive/MyDrive/output_Electra/holdout/checkpoint-33425\",\n",
      "  \"architectures\": [\n",
      "    \"ElectraForSequenceClassification\"\n",
      "  ],\n",
      "  \"attention_probs_dropout_prob\": 0.1,\n",
      "  \"classifier_dropout\": null,\n",
      "  \"embedding_size\": 128,\n",
      "  \"hidden_act\": \"gelu\",\n",
      "  \"hidden_dropout_prob\": 0.1,\n",
      "  \"hidden_size\": 256,\n",
      "  \"id2label\": {\n",
      "    \"0\": \"LABEL_0\",\n",
      "    \"1\": \"LABEL_1\",\n",
      "    \"2\": \"LABEL_2\",\n",
      "    \"3\": \"LABEL_3\"\n",
      "  },\n",
      "  \"initializer_range\": 0.02,\n",
      "  \"intermediate_size\": 1024,\n",
      "  \"label2id\": {\n",
      "    \"LABEL_0\": 0,\n",
      "    \"LABEL_1\": 1,\n",
      "    \"LABEL_2\": 2,\n",
      "    \"LABEL_3\": 3\n",
      "  },\n",
      "  \"layer_norm_eps\": 1e-12,\n",
      "  \"max_position_embeddings\": 512,\n",
      "  \"model_type\": \"electra\",\n",
      "  \"num_attention_heads\": 4,\n",
      "  \"num_hidden_layers\": 12,\n",
      "  \"pad_token_id\": 0,\n",
      "  \"position_embedding_type\": \"absolute\",\n",
      "  \"problem_type\": \"single_label_classification\",\n",
      "  \"summary_activation\": \"gelu\",\n",
      "  \"summary_last_dropout\": 0.1,\n",
      "  \"summary_type\": \"first\",\n",
      "  \"summary_use_proj\": true,\n",
      "  \"torch_dtype\": \"float32\",\n",
      "  \"transformers_version\": \"4.18.0\",\n",
      "  \"type_vocab_size\": 2,\n",
      "  \"use_cache\": true,\n",
      "  \"vocab_size\": 30522\n",
      "}\n",
      "\n",
      "loading weights file content/drive/MyDrive/output_Electra/holdout/checkpoint-33425/pytorch_model.bin\n",
      "All model checkpoint weights were used when initializing ElectraForSequenceClassification.\n",
      "\n",
      "All the weights of ElectraForSequenceClassification were initialized from the model checkpoint at content/drive/MyDrive/output_Electra/holdout/checkpoint-33425.\n",
      "If your task is similar to the task the model of the checkpoint was trained on, you can already use ElectraForSequenceClassification for predictions without further training.\n",
      "No `TrainingArguments` passed, using `output_dir=tmp_trainer`.\n",
      "PyTorch: setting up devices\n",
      "The default value for the training argument `--report_to` will change in v5 (from all installed integrations to none). In v5, you will need to use `--report_to all` to get the same behavior as now. You should start updating your code and make this info disappear :-).\n",
      "***** Running Prediction *****\n",
      "  Num examples = 11225\n",
      "  Batch size = 8\n"
     ]
    },
    {
     "data": {
      "text/html": [
       "\n",
       "    <div>\n",
       "      \n",
       "      <progress value='1404' max='1404' style='width:300px; height:20px; vertical-align: middle;'></progress>\n",
       "      [1404/1404 01:21]\n",
       "    </div>\n",
       "    "
      ],
      "text/plain": [
       "<IPython.core.display.HTML object>"
      ]
     },
     "metadata": {},
     "output_type": "display_data"
    },
    {
     "name": "stdout",
     "output_type": "stream",
     "text": [
      "Classification Report:\n",
      "              precision    recall  f1-score   support\n",
      "\n",
      "           0       0.99      0.98      0.98     10687\n",
      "           1       0.62      0.78      0.69       360\n",
      "           2       0.37      0.44      0.40       135\n",
      "           3       0.48      0.58      0.53        43\n",
      "\n",
      "    accuracy                           0.96     11225\n",
      "   macro avg       0.62      0.70      0.65     11225\n",
      "weighted avg       0.97      0.96      0.97     11225\n",
      "\n",
      "\n",
      "Macro Metrics:\n",
      "Precision:  0.6161779102306275\n",
      "Recall:  0.6955006311853689\n",
      "F-measure:  0.6516773079525493\n",
      "\n",
      "Label 0: Non-bully\n",
      "Precision:  0.9899640219655368\n",
      "Recall:  0.9783849536820436\n",
      "F-measure:  0.9841404301378889\n",
      "\n",
      "Label 1: Harasser\n",
      "Precision:  0.623608017817372\n",
      "Recall:  0.7777777777777778\n",
      "F-measure:  0.6922126081582202\n",
      "\n",
      "Label 2: Victim\n",
      "Precision:  0.37037037037037035\n",
      "Recall:  0.4444444444444444\n",
      "F-measure:  0.404040404040404\n",
      "\n",
      "Label 3: Bystander-defender\n",
      "Precision:  0.4807692307692308\n",
      "Recall:  0.5813953488372093\n",
      "F-measure:  0.5263157894736843\n",
      "\n"
     ]
    },
    {
     "data": {
      "image/png": "[encoded data removed]",
      "text/plain": [
       "<Figure size 864x576 with 2 Axes>"
      ]
     },
     "metadata": {
      "needs_background": "light"
     },
     "output_type": "display_data"
    }
   ],
   "source": [
    "compute_metrics_holdout(model_name='Electra',\n",
    "                        model_path='content/drive/MyDrive/output_Electra/holdout/checkpoint-33425', \n",
    "                        average_method='macro',\n",
    "                        X_test=X_test)"
   ]
  },
  {
   "cell_type": "markdown",
   "id": "JIrTxiy0oL_9",
   "metadata": {
    "id": "JIrTxiy0oL_9"
   },
   "source": [
    "#### Epoch 8"
   ]
  },
  {
   "cell_type": "code",
   "execution_count": 20,
   "id": "tZwpcUnJoL_9",
   "metadata": {
    "id": "tZwpcUnJoL_9"
   },
   "outputs": [
    {
     "name": "stderr",
     "output_type": "stream",
     "text": [
      "loading configuration file content/drive/MyDrive/output_Electra/holdout/checkpoint-38200/config.json\n",
      "Model config ElectraConfig {\n",
      "  \"_name_or_path\": \"content/drive/MyDrive/output_Electra/holdout/checkpoint-38200\",\n",
      "  \"architectures\": [\n",
      "    \"ElectraForSequenceClassification\"\n",
      "  ],\n",
      "  \"attention_probs_dropout_prob\": 0.1,\n",
      "  \"classifier_dropout\": null,\n",
      "  \"embedding_size\": 128,\n",
      "  \"hidden_act\": \"gelu\",\n",
      "  \"hidden_dropout_prob\": 0.1,\n",
      "  \"hidden_size\": 256,\n",
      "  \"id2label\": {\n",
      "    \"0\": \"LABEL_0\",\n",
      "    \"1\": \"LABEL_1\",\n",
      "    \"2\": \"LABEL_2\",\n",
      "    \"3\": \"LABEL_3\"\n",
      "  },\n",
      "  \"initializer_range\": 0.02,\n",
      "  \"intermediate_size\": 1024,\n",
      "  \"label2id\": {\n",
      "    \"LABEL_0\": 0,\n",
      "    \"LABEL_1\": 1,\n",
      "    \"LABEL_2\": 2,\n",
      "    \"LABEL_3\": 3\n",
      "  },\n",
      "  \"layer_norm_eps\": 1e-12,\n",
      "  \"max_position_embeddings\": 512,\n",
      "  \"model_type\": \"electra\",\n",
      "  \"num_attention_heads\": 4,\n",
      "  \"num_hidden_layers\": 12,\n",
      "  \"pad_token_id\": 0,\n",
      "  \"position_embedding_type\": \"absolute\",\n",
      "  \"problem_type\": \"single_label_classification\",\n",
      "  \"summary_activation\": \"gelu\",\n",
      "  \"summary_last_dropout\": 0.1,\n",
      "  \"summary_type\": \"first\",\n",
      "  \"summary_use_proj\": true,\n",
      "  \"torch_dtype\": \"float32\",\n",
      "  \"transformers_version\": \"4.18.0\",\n",
      "  \"type_vocab_size\": 2,\n",
      "  \"use_cache\": true,\n",
      "  \"vocab_size\": 30522\n",
      "}\n",
      "\n",
      "loading weights file content/drive/MyDrive/output_Electra/holdout/checkpoint-38200/pytorch_model.bin\n",
      "All model checkpoint weights were used when initializing ElectraForSequenceClassification.\n",
      "\n",
      "All the weights of ElectraForSequenceClassification were initialized from the model checkpoint at content/drive/MyDrive/output_Electra/holdout/checkpoint-38200.\n",
      "If your task is similar to the task the model of the checkpoint was trained on, you can already use ElectraForSequenceClassification for predictions without further training.\n",
      "No `TrainingArguments` passed, using `output_dir=tmp_trainer`.\n",
      "PyTorch: setting up devices\n",
      "The default value for the training argument `--report_to` will change in v5 (from all installed integrations to none). In v5, you will need to use `--report_to all` to get the same behavior as now. You should start updating your code and make this info disappear :-).\n",
      "***** Running Prediction *****\n",
      "  Num examples = 11225\n",
      "  Batch size = 8\n"
     ]
    },
    {
     "data": {
      "text/html": [
       "\n",
       "    <div>\n",
       "      \n",
       "      <progress value='1404' max='1404' style='width:300px; height:20px; vertical-align: middle;'></progress>\n",
       "      [1404/1404 01:24]\n",
       "    </div>\n",
       "    "
      ],
      "text/plain": [
       "<IPython.core.display.HTML object>"
      ]
     },
     "metadata": {},
     "output_type": "display_data"
    },
    {
     "name": "stdout",
     "output_type": "stream",
     "text": [
      "Classification Report:\n",
      "              precision    recall  f1-score   support\n",
      "\n",
      "           0       0.99      0.98      0.98     10687\n",
      "           1       0.60      0.79      0.68       360\n",
      "           2       0.35      0.45      0.40       135\n",
      "           3       0.43      0.58      0.50        43\n",
      "\n",
      "    accuracy                           0.96     11225\n",
      "   macro avg       0.59      0.70      0.64     11225\n",
      "weighted avg       0.97      0.96      0.96     11225\n",
      "\n",
      "\n",
      "Macro Metrics:\n",
      "Precision:  0.5937209817581538\n",
      "Recall:  0.7007003979494193\n",
      "F-measure:  0.6394872392180001\n",
      "\n",
      "Label 0: Non-bully\n",
      "Precision:  0.9908719216506608\n",
      "Recall:  0.9751099466641714\n",
      "F-measure:  0.98292774948123\n",
      "\n",
      "Label 1: Harasser\n",
      "Precision:  0.5983263598326359\n",
      "Recall:  0.7944444444444444\n",
      "F-measure:  0.6825775656324582\n",
      "\n",
      "Label 2: Victim\n",
      "Precision:  0.3546511627906977\n",
      "Recall:  0.45185185185185184\n",
      "F-measure:  0.39739413680781754\n",
      "\n",
      "Label 3: Bystander-defender\n",
      "Precision:  0.43103448275862066\n",
      "Recall:  0.5813953488372093\n",
      "F-measure:  0.49504950495049505\n",
      "\n"
     ]
    },
    {
     "data": {
      "image/png": "[encoded data removed]",
      "text/plain": [
       "<Figure size 864x576 with 2 Axes>"
      ]
     },
     "metadata": {
      "needs_background": "light"
     },
     "output_type": "display_data"
    }
   ],
   "source": [
    "compute_metrics_holdout(model_name='Electra',\n",
    "                        model_path='content/drive/MyDrive/output_Electra/holdout/checkpoint-38200', \n",
    "                        average_method='macro',\n",
    "                        X_test=X_test)"
   ]
  },
  {
   "cell_type": "markdown",
   "id": "IQV79SfdoMNk",
   "metadata": {
    "id": "IQV79SfdoMNk",
    "jp-MarkdownHeadingCollapsed": true,
    "tags": []
   },
   "source": [
    "#### Epoch 9"
   ]
  },
  {
   "cell_type": "code",
   "execution_count": null,
   "id": "pXBg40f3oMNm",
   "metadata": {
    "id": "pXBg40f3oMNm"
   },
   "outputs": [],
   "source": [
    "compute_metrics_holdout(model_name='Electra',\n",
    "                        model_path='content/drive/MyDrive/output_Electra/holdout/checkpoint-3820', \n",
    "                        average_method='macro',\n",
    "                        X_test=X_test)"
   ]
  },
  {
   "cell_type": "markdown",
   "id": "U8k35H3XoMZ6",
   "metadata": {
    "id": "U8k35H3XoMZ6",
    "jp-MarkdownHeadingCollapsed": true,
    "tags": []
   },
   "source": [
    "#### Epoch 10"
   ]
  },
  {
   "cell_type": "code",
   "execution_count": null,
   "id": "SSCUzWssoMZ6",
   "metadata": {
    "id": "SSCUzWssoMZ6"
   },
   "outputs": [],
   "source": [
    "compute_metrics_holdout(model_name='Electra',\n",
    "                        model_path='content/drive/MyDrive/output_Electra/holdout/checkpoint-3820', \n",
    "                        average_method='macro',\n",
    "                        X_test=X_test)"
   ]
  }
 ],
 "metadata": {
  "accelerator": "GPU",
  "colab": {
   "collapsed_sections": [
    "QDcKJB-xpELh",
    "vHPsS5ygoKsl",
    "b2vwnX1CoK65",
    "2i5rAbFSoLHp",
    "SYBy_9KLoLWP",
    "Cu90yLCeoLkg",
    "OK-hp0pSoLyC",
    "JIrTxiy0oL_9",
    "IQV79SfdoMNk",
    "U8k35H3XoMZ6",
    "thmj2fO9opmo",
    "NA9L5rR1oupA",
    "KSAu4IZKou1F",
    "fXix2ZxJovAV",
    "IIlNer1novK0",
    "KBLqUiQ1ovVZ",
    "L7EmY1j1ovfu",
    "4z8pT4GNovqG",
    "kNI_yrqsov0D",
    "lzcPyw53ov-h"
   ],
   "name": "Fine Tune Transformers from HuggingFace - Distilbert (Participant Role Sample).ipynb",
   "provenance": []
  },
  "kernelspec": {
   "display_name": "Python 3 (ipykernel)",
   "language": "python",
   "name": "python3"
  },
  "language_info": {
   "codemirror_mode": {
    "name": "ipython",
    "version": 3
   },
   "file_extension": ".py",
   "mimetype": "text/x-python",
   "name": "python",
   "nbconvert_exporter": "python",
   "pygments_lexer": "ipython3",
   "version": "3.9.7"
  }
 },
 "nbformat": 4,
 "nbformat_minor": 5
}
