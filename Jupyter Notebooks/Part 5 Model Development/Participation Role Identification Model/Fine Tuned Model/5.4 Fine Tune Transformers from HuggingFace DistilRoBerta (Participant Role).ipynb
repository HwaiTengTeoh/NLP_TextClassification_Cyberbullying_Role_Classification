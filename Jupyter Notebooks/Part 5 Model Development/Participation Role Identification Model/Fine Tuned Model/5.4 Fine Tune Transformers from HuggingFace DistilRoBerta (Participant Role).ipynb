{
 "cells": [
  {
   "cell_type": "markdown",
   "id": "a0aff953",
   "metadata": {
    "id": "a0aff953"
   },
   "source": [
    "<div class=\"alert alert-info\" style=\"background-color:#5d3a8e; color:white; padding:0px 10px; border-radius:5px;\"><h2 style='margin:10px 5px'>Required Libraries and Modules</h2>\n",
    "</div>"
   ]
  },
  {
   "cell_type": "markdown",
   "id": "12ec757f",
   "metadata": {},
   "source": [
    "**Note: This notebook is run in Paperspace platform**"
   ]
  },
  {
   "cell_type": "code",
   "execution_count": 1,
   "id": "A8qAxltS-XJv",
   "metadata": {
    "id": "A8qAxltS-XJv"
   },
   "outputs": [
    {
     "name": "stdout",
     "output_type": "stream",
     "text": [
      "\u001b[33mWARNING: The directory '/home/jovyan/.cache/pip' or its parent directory is not owned or is not writable by the current user. The cache has been disabled. Check the permissions and owner of that directory. If executing pip with sudo, you should use sudo's -H flag.\u001b[0m\u001b[33m\n",
      "\u001b[0mCollecting transformers\n",
      "  Downloading transformers-4.18.0-py3-none-any.whl (4.0 MB)\n",
      "\u001b[2K     \u001b[90m━━━━━━━━━━━━━━━━━━━━━━━━━━━━━━━━━━━━━━━━\u001b[0m \u001b[32m4.0/4.0 MB\u001b[0m \u001b[31m7.2 MB/s\u001b[0m eta \u001b[36m0:00:00\u001b[0ma \u001b[36m0:00:01\u001b[0mm\n",
      "\u001b[?25hCollecting filelock\n",
      "  Downloading filelock-3.6.0-py3-none-any.whl (10.0 kB)\n",
      "Collecting huggingface-hub<1.0,>=0.1.0\n",
      "  Downloading huggingface_hub-0.5.1-py3-none-any.whl (77 kB)\n",
      "\u001b[2K     \u001b[90m━━━━━━━━━━━━━━━━━━━━━━━━━━━━━━━━━━━━━━━\u001b[0m \u001b[32m77.9/77.9 KB\u001b[0m \u001b[31m178.7 MB/s\u001b[0m eta \u001b[36m0:00:00\u001b[0m\n",
      "\u001b[?25hRequirement already satisfied: requests in /opt/conda/lib/python3.9/site-packages (from transformers) (2.27.1)\n",
      "Requirement already satisfied: pyyaml>=5.1 in /opt/conda/lib/python3.9/site-packages (from transformers) (5.4.1)\n",
      "Requirement already satisfied: tqdm>=4.27 in /opt/conda/lib/python3.9/site-packages (from transformers) (4.62.3)\n",
      "Requirement already satisfied: packaging>=20.0 in /opt/conda/lib/python3.9/site-packages (from transformers) (21.3)\n",
      "Collecting regex!=2019.12.17\n",
      "  Downloading regex-2022.4.24-cp39-cp39-manylinux_2_17_x86_64.manylinux2014_x86_64.whl (763 kB)\n",
      "\u001b[2K     \u001b[90m━━━━━━━━━━━━━━━━━━━━━━━━━━━━━━━━━━━━━━\u001b[0m \u001b[32m763.2/763.2 KB\u001b[0m \u001b[31m26.5 MB/s\u001b[0m eta \u001b[36m0:00:00\u001b[0m\n",
      "\u001b[?25hCollecting tokenizers!=0.11.3,<0.13,>=0.11.1\n",
      "  Downloading tokenizers-0.12.1-cp39-cp39-manylinux_2_12_x86_64.manylinux2010_x86_64.whl (6.6 MB)\n",
      "\u001b[2K     \u001b[90m━━━━━━━━━━━━━━━━━━━━━━━━━━━━━━━━━━━━━━━━\u001b[0m \u001b[32m6.6/6.6 MB\u001b[0m \u001b[31m23.8 MB/s\u001b[0m eta \u001b[36m0:00:00\u001b[0ma \u001b[36m0:00:01\u001b[0m\n",
      "\u001b[?25hCollecting sacremoses\n",
      "  Downloading sacremoses-0.0.53.tar.gz (880 kB)\n",
      "\u001b[2K     \u001b[90m━━━━━━━━━━━━━━━━━━━━━━━━━━━━━━━━━━━━━━\u001b[0m \u001b[32m880.6/880.6 KB\u001b[0m \u001b[31m24.6 MB/s\u001b[0m eta \u001b[36m0:00:00\u001b[0m00:01\u001b[0m\n",
      "\u001b[?25h  Preparing metadata (setup.py) ... \u001b[?25ldone\n",
      "\u001b[?25hRequirement already satisfied: numpy>=1.17 in /opt/conda/lib/python3.9/site-packages (from transformers) (1.21.5)\n",
      "Requirement already satisfied: typing-extensions>=3.7.4.3 in /opt/conda/lib/python3.9/site-packages (from huggingface-hub<1.0,>=0.1.0->transformers) (4.1.1)\n",
      "Requirement already satisfied: pyparsing!=3.0.5,>=2.0.2 in /opt/conda/lib/python3.9/site-packages (from packaging>=20.0->transformers) (3.0.7)\n",
      "Requirement already satisfied: certifi>=2017.4.17 in /opt/conda/lib/python3.9/site-packages (from requests->transformers) (2021.10.8)\n",
      "Requirement already satisfied: charset-normalizer~=2.0.0 in /opt/conda/lib/python3.9/site-packages (from requests->transformers) (2.0.12)\n",
      "Requirement already satisfied: idna<4,>=2.5 in /opt/conda/lib/python3.9/site-packages (from requests->transformers) (3.3)\n",
      "Requirement already satisfied: urllib3<1.27,>=1.21.1 in /opt/conda/lib/python3.9/site-packages (from requests->transformers) (1.26.8)\n",
      "Requirement already satisfied: six in /opt/conda/lib/python3.9/site-packages (from sacremoses->transformers) (1.16.0)\n",
      "Requirement already satisfied: click in /opt/conda/lib/python3.9/site-packages (from sacremoses->transformers) (8.0.4)\n",
      "Requirement already satisfied: joblib in /opt/conda/lib/python3.9/site-packages (from sacremoses->transformers) (1.1.0)\n",
      "Building wheels for collected packages: sacremoses\n",
      "  Building wheel for sacremoses (setup.py) ... \u001b[?25ldone\n",
      "\u001b[?25h  Created wheel for sacremoses: filename=sacremoses-0.0.53-py3-none-any.whl size=895261 sha256=80c4fafde0a6f0b1d573d5cec5c240b0eb8795447c9611b2aae5d4cf4cbf5974\n",
      "  Stored in directory: /tmp/pip-ephem-wheel-cache-hqzba07f/wheels/12/1c/3d/46cf06718d63a32ff798a89594b61e7f345ab6b36d909ce033\n",
      "Successfully built sacremoses\n",
      "Installing collected packages: tokenizers, regex, filelock, sacremoses, huggingface-hub, transformers\n",
      "Successfully installed filelock-3.6.0 huggingface-hub-0.5.1 regex-2022.4.24 sacremoses-0.0.53 tokenizers-0.12.1 transformers-4.18.0\n",
      "\u001b[33mWARNING: Running pip as the 'root' user can result in broken permissions and conflicting behaviour with the system package manager. It is recommended to use a virtual environment instead: https://pip.pypa.io/warnings/venv\u001b[0m\u001b[33m\n",
      "\u001b[0m\u001b[33mWARNING: The directory '/home/jovyan/.cache/pip' or its parent directory is not owned or is not writable by the current user. The cache has been disabled. Check the permissions and owner of that directory. If executing pip with sudo, you should use sudo's -H flag.\u001b[0m\u001b[33m\n",
      "\u001b[0mCollecting imblearn\n",
      "  Downloading imblearn-0.0-py2.py3-none-any.whl (1.9 kB)\n",
      "Collecting imbalanced-learn\n",
      "  Downloading imbalanced_learn-0.9.0-py3-none-any.whl (199 kB)\n",
      "\u001b[2K     \u001b[90m━━━━━━━━━━━━━━━━━━━━━━━━━━━━━━━━━━━━━━\u001b[0m \u001b[32m199.1/199.1 KB\u001b[0m \u001b[31m13.2 MB/s\u001b[0m eta \u001b[36m0:00:00\u001b[0m\n",
      "\u001b[?25hRequirement already satisfied: scikit-learn>=1.0.1 in /opt/conda/lib/python3.9/site-packages (from imbalanced-learn->imblearn) (1.0.2)\n",
      "Requirement already satisfied: numpy>=1.14.6 in /opt/conda/lib/python3.9/site-packages (from imbalanced-learn->imblearn) (1.21.5)\n",
      "Requirement already satisfied: threadpoolctl>=2.0.0 in /opt/conda/lib/python3.9/site-packages (from imbalanced-learn->imblearn) (3.1.0)\n",
      "Requirement already satisfied: scipy>=1.1.0 in /opt/conda/lib/python3.9/site-packages (from imbalanced-learn->imblearn) (1.8.0)\n",
      "Requirement already satisfied: joblib>=0.11 in /opt/conda/lib/python3.9/site-packages (from imbalanced-learn->imblearn) (1.1.0)\n",
      "Installing collected packages: imbalanced-learn, imblearn\n",
      "Successfully installed imbalanced-learn-0.9.0 imblearn-0.0\n",
      "\u001b[33mWARNING: Running pip as the 'root' user can result in broken permissions and conflicting behaviour with the system package manager. It is recommended to use a virtual environment instead: https://pip.pypa.io/warnings/venv\u001b[0m\u001b[33m\n",
      "\u001b[0m\u001b[33mWARNING: The directory '/home/jovyan/.cache/pip' or its parent directory is not owned or is not writable by the current user. The cache has been disabled. Check the permissions and owner of that directory. If executing pip with sudo, you should use sudo's -H flag.\u001b[0m\u001b[33m\n",
      "\u001b[0mCollecting torch\n",
      "  Downloading torch-1.11.0-cp39-cp39-manylinux1_x86_64.whl (750.6 MB)\n",
      "\u001b[2K     \u001b[90m━━━━━━━━━━━━━━━━━━━━━━━━━━━━━━━━━━━━━━\u001b[0m \u001b[32m750.6/750.6 MB\u001b[0m \u001b[31m23.8 MB/s\u001b[0m eta \u001b[36m0:00:00\u001b[0m00:01\u001b[0m00:01\u001b[0m\n",
      "\u001b[?25hRequirement already satisfied: typing-extensions in /opt/conda/lib/python3.9/site-packages (from torch) (4.1.1)\n",
      "Installing collected packages: torch\n",
      "Successfully installed torch-1.11.0\n",
      "\u001b[33mWARNING: Running pip as the 'root' user can result in broken permissions and conflicting behaviour with the system package manager. It is recommended to use a virtual environment instead: https://pip.pypa.io/warnings/venv\u001b[0m\u001b[33m\n",
      "\u001b[0m"
     ]
    }
   ],
   "source": [
    "!pip install transformers\n",
    "!pip install imblearn\n",
    "!pip install torch"
   ]
  },
  {
   "cell_type": "code",
   "execution_count": 2,
   "id": "02505ed3",
   "metadata": {
    "id": "02505ed3"
   },
   "outputs": [
    {
     "name": "stderr",
     "output_type": "stream",
     "text": [
      "/tmp/ipykernel_52/1605486461.py:16: TqdmDeprecationWarning: This function will be removed in tqdm==5.0.0\n",
      "Please use `tqdm.notebook.*` instead of `tqdm._tqdm_notebook.*`\n",
      "  from tqdm._tqdm_notebook import tqdm_notebook\n"
     ]
    }
   ],
   "source": [
    "import numpy as np\n",
    "import pandas as pd\n",
    "\n",
    "from sklearn.model_selection import train_test_split, StratifiedKFold, StratifiedShuffleSplit\n",
    "from sklearn.metrics import accuracy_score, recall_score, precision_score, f1_score,  classification_report\n",
    "from imblearn.under_sampling import RandomUnderSampler\n",
    "\n",
    "import torch\n",
    "from collections import Counter\n",
    "from transformers import AutoTokenizer, AutoModelForSequenceClassification\n",
    "from transformers import TrainingArguments, Trainer\n",
    "from transformers import BertTokenizer, BertForSequenceClassification\n",
    "from transformers import EarlyStoppingCallback, set_seed\n",
    "\n",
    "# Progress bar\n",
    "from tqdm._tqdm_notebook import tqdm_notebook\n",
    "from tqdm import tqdm\n",
    "tqdm_notebook.pandas()"
   ]
  },
  {
   "cell_type": "markdown",
   "id": "5a8c1621",
   "metadata": {
    "id": "5a8c1621"
   },
   "source": [
    "<div class=\"alert alert-info\" style=\"background-color:#5d3a8e; color:white; padding:0px 10px; border-radius:5px;\"><h2 style='margin:10px 5px'>Import Clean Text Data</h2>\n",
    "</div>"
   ]
  },
  {
   "cell_type": "code",
   "execution_count": 3,
   "id": "c58048aa",
   "metadata": {
    "id": "c58048aa"
   },
   "outputs": [
    {
     "data": {
      "application/vnd.jupyter.widget-view+json": {
       "model_id": "b6197db4666644b092022dc4e7b6617e",
       "version_major": 2,
       "version_minor": 0
      },
      "text/plain": [
       "  0%|          | 0/112247 [00:00<?, ?it/s]"
      ]
     },
     "metadata": {},
     "output_type": "display_data"
    }
   ],
   "source": [
    "###############################################################\n",
    "# Note: Change the name of data set used for feature creation\n",
    "###############################################################\n",
    "data_set='bully_data_clean_with_stopword'\n",
    "    \n",
    "    \n",
    "###################\n",
    "# Import Data Set #\n",
    "###################\n",
    "bully_data_cleaned = pd.read_csv('/datasets/data/bully_data_clean_with_stopword_short.csv', encoding='utf8')\n",
    "bully_data_cleaned = bully_data_cleaned[~bully_data_cleaned['text_check'].isna()]\n",
    "bully_data_cleaned = bully_data_cleaned[bully_data_cleaned['text_check'] != \"\"]\n",
    "#bully_data_cleaned = bully_data_cleaned[bully_data_cleaned['role']!='None']\n",
    "bully_data_cleaned = bully_data_cleaned[['role','text_check']]\n",
    "\n",
    "def convert_role_label(x):\n",
    "    if x == \"None\":\n",
    "        return int(0)\n",
    "    elif x == \"Harasser\":\n",
    "        return int(1)\n",
    "    elif x == \"Victim\":\n",
    "        return int(2)\n",
    "    elif x == \"Bystander_defender\":\n",
    "        return int(3)\n",
    "    elif x == \"Bystander_assistant\":\n",
    "        return int(1)\n",
    "\n",
    "bully_data_cleaned['label'] = bully_data_cleaned['role'].progress_apply(lambda x: convert_role_label(x)).astype(int)\n",
    "bully_data_cleaned.rename(columns = {'text_check':'text'}, inplace = True)\n",
    "bully_data_cleaned = bully_data_cleaned.reset_index(drop=True)"
   ]
  },
  {
   "cell_type": "code",
   "execution_count": 4,
   "id": "f1ad3546",
   "metadata": {
    "id": "f1ad3546",
    "scrolled": true
   },
   "outputs": [
    {
     "name": "stdout",
     "output_type": "stream",
     "text": [
      "<class 'pandas.core.frame.DataFrame'>\n",
      "RangeIndex: 112247 entries, 0 to 112246\n",
      "Data columns (total 3 columns):\n",
      " #   Column  Non-Null Count   Dtype \n",
      "---  ------  --------------   ----- \n",
      " 0   role    112247 non-null  object\n",
      " 1   text    112247 non-null  object\n",
      " 2   label   112247 non-null  int64 \n",
      "dtypes: int64(1), object(2)\n",
      "memory usage: 2.6+ MB\n"
     ]
    }
   ],
   "source": [
    "bully_data_cleaned.info()"
   ]
  },
  {
   "cell_type": "code",
   "execution_count": 5,
   "id": "9VC9n29lfCQs",
   "metadata": {
    "id": "9VC9n29lfCQs"
   },
   "outputs": [
    {
     "data": {
      "text/plain": [
       "0    106872\n",
       "1      3596\n",
       "2      1354\n",
       "3       425\n",
       "Name: label, dtype: int64"
      ]
     },
     "execution_count": 5,
     "metadata": {},
     "output_type": "execute_result"
    }
   ],
   "source": [
    "bully_data_cleaned['label'].value_counts()"
   ]
  },
  {
   "cell_type": "markdown",
   "id": "61d6da90",
   "metadata": {
    "id": "61d6da90"
   },
   "source": [
    "<div class=\"alert alert-info\" style=\"background-color:#5d3a8e; color:white; padding:0px 10px; border-radius:5px;\"><h2 style='margin:10px 5px'>Define pretrained tokenizer and model</h2>\n",
    "</div>\n",
    "\n",
    "model_name = \"bert-base-uncased\"\n",
    "tokenizer = BertTokenizer.from_pretrained(model_name)\n",
    "model = BertForSequenceClassification.from_pretrained(model_name, num_labels=2)"
   ]
  },
  {
   "cell_type": "code",
   "execution_count": 6,
   "id": "b09bcba2",
   "metadata": {
    "id": "b09bcba2"
   },
   "outputs": [
    {
     "data": {
      "application/vnd.jupyter.widget-view+json": {
       "model_id": "d81656711c7b4def8a6c7befa410e7b0",
       "version_major": 2,
       "version_minor": 0
      },
      "text/plain": [
       "Downloading:   0%|          | 0.00/480 [00:00<?, ?B/s]"
      ]
     },
     "metadata": {},
     "output_type": "display_data"
    },
    {
     "data": {
      "application/vnd.jupyter.widget-view+json": {
       "model_id": "a35cf4524559489f83ac68f26e546caa",
       "version_major": 2,
       "version_minor": 0
      },
      "text/plain": [
       "Downloading:   0%|          | 0.00/878k [00:00<?, ?B/s]"
      ]
     },
     "metadata": {},
     "output_type": "display_data"
    },
    {
     "data": {
      "application/vnd.jupyter.widget-view+json": {
       "model_id": "21e81b018ec649df9b03d2bdb1afced1",
       "version_major": 2,
       "version_minor": 0
      },
      "text/plain": [
       "Downloading:   0%|          | 0.00/446k [00:00<?, ?B/s]"
      ]
     },
     "metadata": {},
     "output_type": "display_data"
    },
    {
     "data": {
      "application/vnd.jupyter.widget-view+json": {
       "model_id": "3de82c8076b8440abee9ecfe1b573bb9",
       "version_major": 2,
       "version_minor": 0
      },
      "text/plain": [
       "Downloading:   0%|          | 0.00/1.29M [00:00<?, ?B/s]"
      ]
     },
     "metadata": {},
     "output_type": "display_data"
    },
    {
     "data": {
      "application/vnd.jupyter.widget-view+json": {
       "model_id": "0f887b3e1d7549dc830573fa1d0b3aec",
       "version_major": 2,
       "version_minor": 0
      },
      "text/plain": [
       "Downloading:   0%|          | 0.00/316M [00:00<?, ?B/s]"
      ]
     },
     "metadata": {},
     "output_type": "display_data"
    },
    {
     "name": "stderr",
     "output_type": "stream",
     "text": [
      "Some weights of the model checkpoint at distilroberta-base were not used when initializing RobertaForSequenceClassification: ['lm_head.layer_norm.bias', 'lm_head.layer_norm.weight', 'lm_head.dense.bias', 'roberta.pooler.dense.bias', 'lm_head.bias', 'lm_head.dense.weight', 'lm_head.decoder.weight', 'roberta.pooler.dense.weight']\n",
      "- This IS expected if you are initializing RobertaForSequenceClassification from the checkpoint of a model trained on another task or with another architecture (e.g. initializing a BertForSequenceClassification model from a BertForPreTraining model).\n",
      "- This IS NOT expected if you are initializing RobertaForSequenceClassification from the checkpoint of a model that you expect to be exactly identical (initializing a BertForSequenceClassification model from a BertForSequenceClassification model).\n",
      "Some weights of RobertaForSequenceClassification were not initialized from the model checkpoint at distilroberta-base and are newly initialized: ['classifier.out_proj.bias', 'classifier.out_proj.weight', 'classifier.dense.bias', 'classifier.dense.weight']\n",
      "You should probably TRAIN this model on a down-stream task to be able to use it for predictions and inference.\n"
     ]
    }
   ],
   "source": [
    "from transformers import AutoTokenizer, AutoModelForSequenceClassification\n",
    "# Define pretrained tokenizer and model\n",
    "\n",
    "model_name = \"distilroberta-base\"\n",
    "tokenizer = AutoTokenizer.from_pretrained(model_name)\n",
    "set_seed(1127)\n",
    "model = AutoModelForSequenceClassification.from_pretrained(model_name, \n",
    "                                                            num_labels=4,  \n",
    "                                                            ignore_mismatched_sizes=True)\n",
    "# def model_init():\n",
    "#     return AutoModelForSequenceClassification.from_pretrained(model_name, \n",
    "#                                                             num_labels=4,  \n",
    "#                                                             ignore_mismatched_sizes=True,\n",
    "#                                                             output_attentions = False, # Whether the model returns attentions weights.\n",
    "#                                                             output_hidden_states = False,\n",
    "#                                                             return_dict=True )"
   ]
  },
  {
   "cell_type": "markdown",
   "id": "fe8c063e",
   "metadata": {
    "id": "fe8c063e"
   },
   "source": [
    "<div class=\"alert alert-info\" style=\"background-color:#5d3a8e; color:white; padding:0px 10px; border-radius:5px;\"><h2 style='margin:10px 5px'>Preprocess data</h2>\n",
    "</div>"
   ]
  },
  {
   "cell_type": "code",
   "execution_count": 7,
   "id": "bdqooD-cRI56",
   "metadata": {
    "id": "bdqooD-cRI56"
   },
   "outputs": [
    {
     "name": "stdout",
     "output_type": "stream",
     "text": [
      "Counter({0: 33363, 1: 3236, 2: 1219, 3: 382})\n",
      "Counter({0: 33363, 1: 3236, 2: 1219, 3: 382})\n"
     ]
    }
   ],
   "source": [
    "##############################\n",
    "# Data: Text Input and Label #\n",
    "##############################\n",
    "X = list(bully_data_cleaned[\"text\"])\n",
    "y = list(bully_data_cleaned[\"label\"])\n",
    "\n",
    "\n",
    "########################\n",
    "# Create torch dataset #\n",
    "########################\n",
    "class Dataset(torch.utils.data.Dataset):\n",
    "    def __init__(self, encodings, labels=None):\n",
    "        self.encodings = encodings\n",
    "        self.labels = labels\n",
    "\n",
    "    def __getitem__(self, idx):\n",
    "        item = {key: torch.tensor(val[idx]) for key, val in self.encodings.items()}\n",
    "        if self.labels:\n",
    "            item[\"labels\"] = torch.tensor(self.labels[idx])\n",
    "        return item\n",
    "\n",
    "    def __len__(self):\n",
    "        return len(self.encodings[\"input_ids\"])\n",
    "\n",
    "\n",
    "#############################\n",
    "# Define Trainer parameters #\n",
    "#############################\n",
    "average_method = 'macro'\n",
    "def compute_metrics(p):\n",
    "    pred, labels = p\n",
    "    pred = np.argmax(pred, axis=1)\n",
    "\n",
    "    accuracy = accuracy_score(y_true=labels, y_pred=pred)\n",
    "    recall = recall_score(y_true=labels, y_pred=pred, average=average_method)\n",
    "    precision = precision_score(y_true=labels, y_pred=pred, average=average_method)\n",
    "    f1 = f1_score(y_true=labels, y_pred=pred, average=average_method)\n",
    "    \n",
    "    recall0 = recall_score(y_true=labels, y_pred=pred, average=None)[0]\n",
    "    precision0 = precision_score(y_true=labels, y_pred=pred, average=None)[0]\n",
    "    f10 = f1_score(y_true=labels, y_pred=pred, average=None)[0]\n",
    "    \n",
    "    recall1 = recall_score(y_true=labels, y_pred=pred, average=None)[1]\n",
    "    precision1 = precision_score(y_true=labels, y_pred=pred, average=None)[1]\n",
    "    f11 = f1_score(y_true=labels, y_pred=pred, average=None)[1]\n",
    "    \n",
    "    recall2 = recall_score(y_true=labels, y_pred=pred, average=None)[2]\n",
    "    precision2 = precision_score(y_true=labels, y_pred=pred, average=None)[2]\n",
    "    f12 = f1_score(y_true=labels, y_pred=pred, average=None)[2]\n",
    "    \n",
    "    recall3 = recall_score(y_true=labels, y_pred=pred, average=None)[3]\n",
    "    precision3 = precision_score(y_true=labels, y_pred=pred, average=None)[3]\n",
    "    f13 = f1_score(y_true=labels, y_pred=pred, average=None)[3]\n",
    "\n",
    "    return {\"accuracy\": accuracy, \"precision\": precision, \"recall\": recall, \"f1\": f1,\n",
    "           \"precision_nonbully\": precision0, \"recall_nonbully\": recall0, \"f1_nonbully\": f10,\n",
    "           \"precision_harasser\": precision1, \"recall_harasser\": recall1, \"f1_harasser\": f11,\n",
    "           \"precision_victim\": precision2, \"recall_victim\": recall2, \"f1_victim\": f12,\n",
    "           \"precision_bydefender\": precision3, \"recall_bydefender\": recall3, \"f1_bydefender\": f13}\n",
    "\n",
    "\n",
    "\n",
    "#########################\n",
    "# Plot Confusion Matrix #\n",
    "#########################\n",
    "import numpy as np\n",
    "import matplotlib.pyplot as plt\n",
    "import seaborn as sns\n",
    "\n",
    "def make_confusion_matrix(cf,\n",
    "                          group_names=None,\n",
    "                          categories='auto',\n",
    "                          count=True,\n",
    "                          percent=True,\n",
    "                          cbar=True,\n",
    "                          xyticks=True,\n",
    "                          xyplotlabels=True,\n",
    "                          sum_stats=True,\n",
    "                          figsize=None,\n",
    "                          cmap='Blues',\n",
    "                          title=None):\n",
    "    '''\n",
    "    This function will make a pretty plot of an sklearn Confusion Matrix cm using a Seaborn heatmap visualization.\n",
    "\n",
    "    Arguments\n",
    "    ---------\n",
    "    cf:            confusion matrix to be passed in\n",
    "\n",
    "    group_names:   List of strings that represent the labels row by row to be shown in each square.\n",
    "\n",
    "    categories:    List of strings containing the categories to be displayed on the x,y axis. Default is 'auto'\n",
    "\n",
    "    count:         If True, show the raw number in the confusion matrix. Default is True.\n",
    "\n",
    "    normalize:     If True, show the proportions for each category. Default is True.\n",
    "\n",
    "    cbar:          If True, show the color bar. The cbar values are based off the values in the confusion matrix.\n",
    "                   Default is True.\n",
    "\n",
    "    xyticks:       If True, show x and y ticks. Default is True.\n",
    "\n",
    "    xyplotlabels:  If True, show 'True Label' and 'Predicted Label' on the figure. Default is True.\n",
    "\n",
    "    sum_stats:     If True, display summary statistics below the figure. Default is True.\n",
    "\n",
    "    figsize:       Tuple representing the figure size. Default will be the matplotlib rcParams value.\n",
    "\n",
    "    cmap:          Colormap of the values displayed from matplotlib.pyplot.cm. Default is 'Blues'\n",
    "                   See http://matplotlib.org/examples/color/colormaps_reference.html\n",
    "                   \n",
    "    title:         Title for the heatmap. Default is None.\n",
    "\n",
    "    '''\n",
    "\n",
    "\n",
    "    # CONFUSION MATRIX IN PERCENTAGE\n",
    "    cf_pct = cf.astype('float')/cf.sum(axis=1)[:, np.newaxis]\n",
    "    # CODE TO GENERATE TEXT INSIDE EACH SQUARE\n",
    "    blanks = ['' for i in range(cf.size)]\n",
    "\n",
    "    if group_names and len(group_names)==cf.size:\n",
    "        group_labels = [\"{}\\n\".format(value) for value in group_names]\n",
    "    else:\n",
    "        group_labels = blanks\n",
    "\n",
    "    if count:\n",
    "        group_counts = [\"{0:0.0f}\\n\".format(value) for value in cf.flatten()]\n",
    "    else:\n",
    "        group_counts = blanks\n",
    "\n",
    "    if percent:\n",
    "        group_percentages = [\"{0:.2%}\".format(value) for value in cf_pct.flatten()]\n",
    "    else:\n",
    "        group_percentages = blanks\n",
    "\n",
    "    box_labels = [f\"{v1}{v2}{v3}\".strip() for v1, v2, v3 in zip(group_labels,group_counts,group_percentages)]\n",
    "    box_labels = np.asarray(box_labels).reshape(cf.shape[0],cf.shape[1])\n",
    "\n",
    "\n",
    "    # CODE TO GENERATE SUMMARY STATISTICS & TEXT FOR SUMMARY STATS\n",
    "    if sum_stats:\n",
    "        #Accuracy is sum of diagonal divided by total observations\n",
    "        accuracy  = np.trace(cf) / float(np.sum(cf))\n",
    "\n",
    "        #if it is a binary confusion matrix, show some more stats\n",
    "        if len(cf)==2:\n",
    "            #Metrics for Binary Confusion Matrices\n",
    "            precision = cf[1,1] / sum(cf[:,1])\n",
    "            recall    = cf[1,1] / sum(cf[1,:])\n",
    "            f1_score  = 2*precision*recall / (precision + recall)\n",
    "            stats_text = \"\\n\\nAccuracy={:0.3f}\\nPrecision={:0.3f}\\nRecall={:0.3f}\\nF1 Score={:0.3f}\".format(\n",
    "                accuracy,precision,recall,f1_score)\n",
    "        else:\n",
    "            stats_text = \"\\n\\nAccuracy={:0.3f}\".format(accuracy)\n",
    "    else:\n",
    "        stats_text = \"\"\n",
    "\n",
    "\n",
    "    # SET FIGURE PARAMETERS ACCORDING TO OTHER ARGUMENTS\n",
    "    if figsize==None:\n",
    "        #Get default figure size if not set\n",
    "        figsize = plt.rcParams.get('figure.figsize')\n",
    "\n",
    "    if xyticks==False:\n",
    "        #Do not show categories if xyticks is False\n",
    "        categories=False\n",
    "\n",
    "\n",
    "    # MAKE THE HEATMAP VISUALIZATION\n",
    "    plt.figure(figsize=figsize)\n",
    "    sns.heatmap(cf_pct,annot=box_labels,fmt=\"\",cmap=cmap,cbar=cbar,xticklabels=categories,yticklabels=categories)\n",
    "\n",
    "    if xyplotlabels:\n",
    "        plt.ylabel('True label')\n",
    "        plt.xlabel('Predicted label' + stats_text)\n",
    "    else:\n",
    "        plt.xlabel(stats_text)\n",
    "    \n",
    "    if title:\n",
    "        plt.title(title)\n",
    "\n",
    "\n",
    "########################\n",
    "# Run cross-validation #\n",
    "########################\n",
    "def run_cross_validation(model_name='RoBerta',\n",
    "                         X=X,\n",
    "                         y=y, \n",
    "                         splits=5,\n",
    "                         epoch=8,\n",
    "                         checkpoint=False):\n",
    "  \n",
    "    kfold = StratifiedShuffleSplit(n_splits=splits, test_size=0.1, random_state=1127)\n",
    "    # kfold = StratifiedKFold(n_splits=splits, shuffle=True, random_state=1127)\n",
    "    n_fold = 1\n",
    "\n",
    "    print(\"Developing Model with Cross validation for: \" + model_name)\n",
    "    for train, test in tqdm(kfold.split(X, y)):\n",
    "\n",
    "        print(\"Running for Fold: \",n_fold)\n",
    "\n",
    "        # Split to train and test set for each fold\n",
    "        train_index = list(train)\n",
    "        test_index = list(test)\n",
    "\n",
    "        X_train = [X[i] for i in train_index]\n",
    "        y_train = [y[i] for i in train_index]\n",
    "        X_val = [X[i] for i in test_index]\n",
    "        y_val = [y[i] for i in test_index]\n",
    "\n",
    "\n",
    "        # Obtain undersampled index \n",
    "        X_temp = bully_data_cleaned[\"text\"].values\n",
    "        y_temp = bully_data_cleaned[\"label\"].values\n",
    "\n",
    "        X_temp_train = X_temp[train] \n",
    "        y_temp_train = y_temp[train] \n",
    "\n",
    "        resample = RandomUnderSampler(random_state=1127,sampling_strategy={0:33363})\n",
    "        X_temp_resampled, y_temp_resampled = resample.fit_resample(X_temp_train.reshape(-1,1), y_temp_train)\n",
    "\n",
    "        resample_index = list(resample.sample_indices_)\n",
    "        print(len(resample_index))\n",
    "\n",
    "\n",
    "        # Undersample train set\n",
    "        X_train_resample = [X_train[i] for i in resample_index]\n",
    "        y_train_resample = [y_train[i] for i in resample_index]\n",
    "\n",
    "\n",
    "        # Checking proportion\n",
    "        print(Counter(y))\n",
    "        print(Counter(y_train))\n",
    "        print(Counter(y_temp_resampled))\n",
    "        print(Counter(y_train_resample))\n",
    "\n",
    "\n",
    "        # Tokenize\n",
    "        X_train_tokenized = tokenizer(X_train_resample, padding=True, truncation=True, max_length=512)\n",
    "        X_val_tokenized = tokenizer(X_val, padding=True, truncation=True, max_length=512)\n",
    "\n",
    "\n",
    "        # Create torch dataset\n",
    "        train_dataset = Dataset(X_train_tokenized, y_train_resample)\n",
    "        val_dataset = Dataset(X_val_tokenized, y_val)  \n",
    "\n",
    "        # Fine Tune Transformer\n",
    "        # Define Trainer\n",
    "        args = TrainingArguments(\n",
    "                output_dir=\"content/drive/MyDrive/output_\" + model_name + \"/fold\"+str(n_fold),\n",
    "                evaluation_strategy=\"epoch\",\n",
    "                save_strategy=\"epoch\",\n",
    "                #eval_steps=500,\n",
    "                #per_device_train_batch_size=1,\n",
    "                #per_device_eval_batch_size=1,\n",
    "                num_train_epochs=epoch, #1 was okay\n",
    "                seed=1127,\n",
    "                load_best_model_at_end=True,\n",
    "            )\n",
    "\n",
    "        trainer = Trainer(\n",
    "                  #model_init=model_init,\n",
    "                  model=model,\n",
    "                  args=args,\n",
    "                  train_dataset=train_dataset,\n",
    "                  eval_dataset=val_dataset,\n",
    "                  compute_metrics=compute_metrics,\n",
    "                  callbacks=[EarlyStoppingCallback(early_stopping_patience=3)],\n",
    "              )\n",
    "\n",
    "        if n_fold <= 2:\n",
    "            checkpoint_temp=True\n",
    "        else:\n",
    "            checkpoint_temp = False\n",
    "            \n",
    "        trainer.train(resume_from_checkpoint=checkpoint)\n",
    "        print(\"Complete for fold\", n_fold)\n",
    "        n_fold= n_fold + 1\n",
    "\n",
    "\n",
    "#####################\n",
    "# Run Hold Out Test #\n",
    "#####################\n",
    "\n",
    "# Obtain undersample index \n",
    "X_temp = bully_data_cleaned[\"text\"].values\n",
    "y_temp = bully_data_cleaned[\"label\"].values\n",
    "\n",
    "X_temp_train, X_temp_val, y_temp_train, y_temp_val =  train_test_split(X_temp,y_temp, test_size=0.1, random_state=1127, stratify=y_temp) \n",
    "resample = RandomUnderSampler(random_state=1127,sampling_strategy={0:33363})\n",
    "X_temp_resampled, y_temp_resampled = resample.fit_resample(X_temp_train.reshape(-1,1), y_temp_train)\n",
    "resample_index = list(resample.sample_indices_)\n",
    "\n",
    "# Split to train and test set\n",
    "X = list(bully_data_cleaned[\"text\"])\n",
    "y = list(bully_data_cleaned[\"label\"])\n",
    "\n",
    "X_train, X_test, y_train, y_test = train_test_split(X, y, test_size=0.1, stratify=y, random_state=1127)\n",
    "\n",
    "# Undersample train set\n",
    "X_train_resample = [X_train[i] for i in resample_index]\n",
    "y_train_resample = [y_train[i] for i in resample_index]\n",
    "\n",
    "# Checking proportion\n",
    "print(Counter(y_temp_resampled))\n",
    "print(Counter(y_train_resample))\n",
    "\n",
    "# Split to train and validate set\n",
    "# X_train_resample, X_val, y_train_resample, y_val = train_test_split(X_train_resample, y_train_resample, test_size=0.1, stratify=y_train_resample, random_state=1127)\n",
    "\n",
    "X_train_tokenized = tokenizer(X_train_resample, padding=True, truncation=True, max_length=512)\n",
    "X_val_tokenized = tokenizer(X_test, padding=True, truncation=True, max_length=512)\n",
    "\n",
    "train_dataset = Dataset(X_train_tokenized, y_train_resample)\n",
    "val_dataset = Dataset(X_val_tokenized, y_test)\n",
    "\n",
    "def run_hold_out_split(model_name='Roberta',\n",
    "                       epoch=8,\n",
    "                       train_dataset=train_dataset,\n",
    "                       eval_dataset=val_dataset,\n",
    "                       checkpoint=False):\n",
    "  \n",
    "    print(\"Developing Model with Hold Out Splits for: \" + model_name)\n",
    "    # Fine Tune Transformer\n",
    "    # Define Trainer\n",
    "    args = TrainingArguments(\n",
    "    output_dir=\"content/drive/MyDrive/output_\" + model_name + \"/holdout\",\n",
    "    evaluation_strategy=\"epoch\",\n",
    "    save_strategy=\"epoch\",\n",
    "    #eval_steps=500,\n",
    "    #per_device_train_batch_size=1,\n",
    "    #per_device_eval_batch_size=1,\n",
    "    num_train_epochs=epoch, #1 was okay\n",
    "    seed=1127,\n",
    "    load_best_model_at_end=True,\n",
    "    )\n",
    "\n",
    "    trainer = Trainer(\n",
    "    # model_init=model_init,\n",
    "    model=model,\n",
    "    args=args,\n",
    "    train_dataset=train_dataset,\n",
    "    eval_dataset=val_dataset,\n",
    "    compute_metrics=compute_metrics,\n",
    "    callbacks=[EarlyStoppingCallback(early_stopping_patience=5)],\n",
    "    )\n",
    "\n",
    "    trainer.train(resume_from_checkpoint=checkpoint)\n",
    "    print(\"Complete for hold-out validate set\")"
   ]
  },
  {
   "cell_type": "code",
   "execution_count": 8,
   "id": "6JeiiXYzj3cE",
   "metadata": {
    "id": "6JeiiXYzj3cE"
   },
   "outputs": [],
   "source": [
    "###########################\n",
    "# Predict (Hold Out Test) #\n",
    "###########################\n",
    "\n",
    "from sklearn.metrics import confusion_matrix\n",
    "\n",
    "def compute_metrics_holdout(model_name='DistilRoBerta',\n",
    "                            model_path='content/drive/MyDrive/output_DistilRoBerta/holdout/checkpoint-3820', \n",
    "                            average_method='macro',\n",
    "                            X_test=X_test):\n",
    "  \n",
    "    X_test_tokenized = tokenizer(X_test, padding=True, truncation=True, max_length=512)\n",
    "\n",
    "    # Create torch dataset\n",
    "    test_dataset = Dataset(X_test_tokenized)\n",
    "\n",
    "    # Load trained model\n",
    "    model_pred = AutoModelForSequenceClassification.from_pretrained(model_path, num_labels=4)\n",
    "\n",
    "    # Define test trainer\n",
    "    test_trainer = Trainer(model_pred)\n",
    "\n",
    "    # Make prediction\n",
    "    raw_pred, _, _ = test_trainer.predict(test_dataset)\n",
    "\n",
    "    # Preprocess raw predictions\n",
    "    y_pred = np.argmax(raw_pred, axis=1)\n",
    "\n",
    "    # Compute metrics\n",
    "    precision = precision_score(y_test, y_pred, average=average_method)\n",
    "    recall = recall_score(y_test, y_pred, average=average_method)\n",
    "    f1 = f1_score(y_test, y_pred, average=average_method)\n",
    "\n",
    "    precision0 = precision_score(y_test, y_pred, average=None)[0]\n",
    "    recall0 = recall_score(y_test, y_pred, average=None)[0]\n",
    "    f10 = f1_score(y_test, y_pred, average=None)[0]\n",
    "\n",
    "    precision1 = precision_score(y_test, y_pred, average=None)[1]\n",
    "    recall1 = recall_score(y_test, y_pred, average=None)[1]\n",
    "    f11 = f1_score(y_test, y_pred, average=None)[1]\n",
    "\n",
    "    precision2 = precision_score(y_test, y_pred, average=None)[2]\n",
    "    recall2 = recall_score(y_test, y_pred, average=None)[2]\n",
    "    f12 = f1_score(y_test, y_pred, average=None)[2]\n",
    "\n",
    "    precision3 = precision_score(y_test, y_pred, average=None)[3]\n",
    "    recall3 = recall_score(y_test, y_pred, average=None)[3]\n",
    "    f13 = f1_score(y_test, y_pred, average=None)[3]\n",
    "\n",
    "\n",
    "    # Print Results\n",
    "    print(\"Classification Report:\")\n",
    "    print(classification_report(y_test,y_pred))\n",
    "    print()\n",
    "    print(\"Macro Metrics:\")\n",
    "    print(\"Precision: \", precision)\n",
    "    print(\"Recall: \", recall)\n",
    "    print(\"F-measure: \", f1)\n",
    "    print()\n",
    "    print(\"Label 0: Non-bully\")\n",
    "    print(\"Precision: \", precision0)\n",
    "    print(\"Recall: \", recall0)\n",
    "    print(\"F-measure: \", f10)\n",
    "    print()\n",
    "    print(\"Label 1: Harasser\")\n",
    "    print(\"Precision: \", precision1)\n",
    "    print(\"Recall: \", recall1)\n",
    "    print(\"F-measure: \", f11)\n",
    "    print()\n",
    "    print(\"Label 2: Victim\")\n",
    "    print(\"Precision: \", precision2)\n",
    "    print(\"Recall: \", recall2)\n",
    "    print(\"F-measure: \", f12)\n",
    "    print()\n",
    "    print(\"Label 3: Bystander-defender\")\n",
    "    print(\"Precision: \", precision3)\n",
    "    print(\"Recall: \", recall3)\n",
    "    print(\"F-measure: \", f13)\n",
    "    print()\n",
    "\n",
    "    conf_mat = confusion_matrix(y_test,y_pred)\n",
    "    categories = ['Non-bully', 'Harasser','Victim','Bystander-defender']\n",
    "    labels = ['True Non-bully','','','',\n",
    "            '','True Harasser','','',\n",
    "            '','','True Victim','',\n",
    "            '','','','True Bystander-defender']\n",
    "    make_confusion_matrix(conf_mat, \n",
    "                        group_names=labels,\n",
    "                        categories=categories, \n",
    "                        figsize=(12,8), \n",
    "                        cbar=True, \n",
    "                        title='Fine Tuned' + model_name + ' for Participant Roles Identification', \n",
    "                        cmap='YlGnBu', \n",
    "                        sum_stats=False)\n"
   ]
  },
  {
   "cell_type": "markdown",
   "id": "1oWlGGdkn5m-",
   "metadata": {
    "id": "1oWlGGdkn5m-"
   },
   "source": [
    "<div class=\"alert alert-info\" style=\"background-color:#5d3a8e; color:white; padding:0px 10px; border-radius:5px;\"><h2 style='margin:10px 5px'>Cross Validation (K = 5)</h2>\n",
    "</div>"
   ]
  },
  {
   "cell_type": "code",
   "execution_count": null,
   "id": "AA4wbVb3SKqi",
   "metadata": {
    "id": "AA4wbVb3SKqi"
   },
   "outputs": [
    {
     "name": "stdout",
     "output_type": "stream",
     "text": [
      "Developing Model with Cross validation for: DistilRoBerta\n"
     ]
    },
    {
     "name": "stderr",
     "output_type": "stream",
     "text": [
      "0it [00:00, ?it/s]"
     ]
    },
    {
     "name": "stdout",
     "output_type": "stream",
     "text": [
      "Running for Fold:  1\n",
      "38200\n",
      "Counter({0: 106872, 1: 3596, 2: 1354, 3: 425})\n",
      "Counter({0: 96185, 1: 3236, 2: 1219, 3: 382})\n",
      "Counter({0: 33363, 1: 3236, 2: 1219, 3: 382})\n",
      "Counter({0: 33363, 1: 3236, 2: 1219, 3: 382})\n"
     ]
    },
    {
     "name": "stderr",
     "output_type": "stream",
     "text": [
      "/opt/conda/lib/python3.9/site-packages/transformers/optimization.py:306: FutureWarning: This implementation of AdamW is deprecated and will be removed in a future version. Use the PyTorch implementation torch.optim.AdamW instead, or set `no_deprecation_warning=True` to disable this warning\n",
      "  warnings.warn(\n",
      "***** Running training *****\n",
      "  Num examples = 38200\n",
      "  Num Epochs = 4\n",
      "  Instantaneous batch size per device = 8\n",
      "  Total train batch size (w. parallel, distributed & accumulation) = 8\n",
      "  Gradient Accumulation steps = 1\n",
      "  Total optimization steps = 19100\n"
     ]
    },
    {
     "data": {
      "text/html": [
       "\n",
       "    <div>\n",
       "      \n",
       "      <progress value='19100' max='19100' style='width:300px; height:20px; vertical-align: middle;'></progress>\n",
       "      [19100/19100 1:27:49, Epoch 4/4]\n",
       "    </div>\n",
       "    <table border=\"1\" class=\"dataframe\">\n",
       "  <thead>\n",
       " <tr style=\"text-align: left;\">\n",
       "      <th>Epoch</th>\n",
       "      <th>Training Loss</th>\n",
       "      <th>Validation Loss</th>\n",
       "      <th>Accuracy</th>\n",
       "      <th>Precision</th>\n",
       "      <th>Recall</th>\n",
       "      <th>F1</th>\n",
       "      <th>Precision Nonbully</th>\n",
       "      <th>Recall Nonbully</th>\n",
       "      <th>F1 Nonbully</th>\n",
       "      <th>Precision Harasser</th>\n",
       "      <th>Recall Harasser</th>\n",
       "      <th>F1 Harasser</th>\n",
       "      <th>Precision Victim</th>\n",
       "      <th>Recall Victim</th>\n",
       "      <th>F1 Victim</th>\n",
       "      <th>Precision Bydefender</th>\n",
       "      <th>Recall Bydefender</th>\n",
       "      <th>F1 Bydefender</th>\n",
       "    </tr>\n",
       "  </thead>\n",
       "  <tbody>\n",
       "    <tr>\n",
       "      <td>1</td>\n",
       "      <td>0.347500</td>\n",
       "      <td>0.185694</td>\n",
       "      <td>0.948151</td>\n",
       "      <td>0.345230</td>\n",
       "      <td>0.422773</td>\n",
       "      <td>0.372525</td>\n",
       "      <td>0.981846</td>\n",
       "      <td>0.971648</td>\n",
       "      <td>0.976720</td>\n",
       "      <td>0.399076</td>\n",
       "      <td>0.719444</td>\n",
       "      <td>0.513380</td>\n",
       "      <td>0.000000</td>\n",
       "      <td>0.000000</td>\n",
       "      <td>0.000000</td>\n",
       "      <td>0.000000</td>\n",
       "      <td>0.000000</td>\n",
       "      <td>0.000000</td>\n",
       "    </tr>\n",
       "    <tr>\n",
       "      <td>2</td>\n",
       "      <td>0.304100</td>\n",
       "      <td>0.172107</td>\n",
       "      <td>0.947706</td>\n",
       "      <td>0.343244</td>\n",
       "      <td>0.421314</td>\n",
       "      <td>0.370441</td>\n",
       "      <td>0.982398</td>\n",
       "      <td>0.971367</td>\n",
       "      <td>0.976851</td>\n",
       "      <td>0.390578</td>\n",
       "      <td>0.713889</td>\n",
       "      <td>0.504912</td>\n",
       "      <td>0.000000</td>\n",
       "      <td>0.000000</td>\n",
       "      <td>0.000000</td>\n",
       "      <td>0.000000</td>\n",
       "      <td>0.000000</td>\n",
       "      <td>0.000000</td>\n",
       "    </tr>\n",
       "    <tr>\n",
       "      <td>3</td>\n",
       "      <td>0.251600</td>\n",
       "      <td>0.148693</td>\n",
       "      <td>0.958575</td>\n",
       "      <td>0.481087</td>\n",
       "      <td>0.424503</td>\n",
       "      <td>0.427905</td>\n",
       "      <td>0.976219</td>\n",
       "      <td>0.987181</td>\n",
       "      <td>0.981669</td>\n",
       "      <td>0.525907</td>\n",
       "      <td>0.563889</td>\n",
       "      <td>0.544236</td>\n",
       "      <td>0.200000</td>\n",
       "      <td>0.007407</td>\n",
       "      <td>0.014286</td>\n",
       "      <td>0.222222</td>\n",
       "      <td>0.139535</td>\n",
       "      <td>0.171429</td>\n",
       "    </tr>\n",
       "    <tr>\n",
       "      <td>4</td>\n",
       "      <td>0.222500</td>\n",
       "      <td>0.180856</td>\n",
       "      <td>0.947973</td>\n",
       "      <td>0.445182</td>\n",
       "      <td>0.518897</td>\n",
       "      <td>0.467915</td>\n",
       "      <td>0.983510</td>\n",
       "      <td>0.971086</td>\n",
       "      <td>0.977259</td>\n",
       "      <td>0.452290</td>\n",
       "      <td>0.658333</td>\n",
       "      <td>0.536199</td>\n",
       "      <td>0.144928</td>\n",
       "      <td>0.074074</td>\n",
       "      <td>0.098039</td>\n",
       "      <td>0.200000</td>\n",
       "      <td>0.372093</td>\n",
       "      <td>0.260163</td>\n",
       "    </tr>\n",
       "  </tbody>\n",
       "</table><p>"
      ],
      "text/plain": [
       "<IPython.core.display.HTML object>"
      ]
     },
     "metadata": {},
     "output_type": "display_data"
    },
    {
     "name": "stderr",
     "output_type": "stream",
     "text": [
      "***** Running Evaluation *****\n",
      "  Num examples = 11225\n",
      "  Batch size = 8\n",
      "/opt/conda/lib/python3.9/site-packages/sklearn/metrics/_classification.py:1318: UndefinedMetricWarning: Precision is ill-defined and being set to 0.0 in labels with no predicted samples. Use `zero_division` parameter to control this behavior.\n",
      "  _warn_prf(average, modifier, msg_start, len(result))\n",
      "/opt/conda/lib/python3.9/site-packages/sklearn/metrics/_classification.py:1318: UndefinedMetricWarning: Precision is ill-defined and being set to 0.0 in labels with no predicted samples. Use `zero_division` parameter to control this behavior.\n",
      "  _warn_prf(average, modifier, msg_start, len(result))\n",
      "/opt/conda/lib/python3.9/site-packages/sklearn/metrics/_classification.py:1318: UndefinedMetricWarning: Precision is ill-defined and being set to 0.0 in labels with no predicted samples. Use `zero_division` parameter to control this behavior.\n",
      "  _warn_prf(average, modifier, msg_start, len(result))\n",
      "/opt/conda/lib/python3.9/site-packages/sklearn/metrics/_classification.py:1318: UndefinedMetricWarning: Precision is ill-defined and being set to 0.0 in labels with no predicted samples. Use `zero_division` parameter to control this behavior.\n",
      "  _warn_prf(average, modifier, msg_start, len(result))\n",
      "/opt/conda/lib/python3.9/site-packages/sklearn/metrics/_classification.py:1318: UndefinedMetricWarning: Precision is ill-defined and being set to 0.0 in labels with no predicted samples. Use `zero_division` parameter to control this behavior.\n",
      "  _warn_prf(average, modifier, msg_start, len(result))\n",
      "Saving model checkpoint to content/drive/MyDrive/output_DistilRoBerta/fold1/checkpoint-4775\n",
      "Configuration saved in content/drive/MyDrive/output_DistilRoBerta/fold1/checkpoint-4775/config.json\n",
      "Model weights saved in content/drive/MyDrive/output_DistilRoBerta/fold1/checkpoint-4775/pytorch_model.bin\n",
      "***** Running Evaluation *****\n",
      "  Num examples = 11225\n",
      "  Batch size = 8\n",
      "/opt/conda/lib/python3.9/site-packages/sklearn/metrics/_classification.py:1318: UndefinedMetricWarning: Precision is ill-defined and being set to 0.0 in labels with no predicted samples. Use `zero_division` parameter to control this behavior.\n",
      "  _warn_prf(average, modifier, msg_start, len(result))\n",
      "/opt/conda/lib/python3.9/site-packages/sklearn/metrics/_classification.py:1318: UndefinedMetricWarning: Precision is ill-defined and being set to 0.0 in labels with no predicted samples. Use `zero_division` parameter to control this behavior.\n",
      "  _warn_prf(average, modifier, msg_start, len(result))\n",
      "/opt/conda/lib/python3.9/site-packages/sklearn/metrics/_classification.py:1318: UndefinedMetricWarning: Precision is ill-defined and being set to 0.0 in labels with no predicted samples. Use `zero_division` parameter to control this behavior.\n",
      "  _warn_prf(average, modifier, msg_start, len(result))\n",
      "/opt/conda/lib/python3.9/site-packages/sklearn/metrics/_classification.py:1318: UndefinedMetricWarning: Precision is ill-defined and being set to 0.0 in labels with no predicted samples. Use `zero_division` parameter to control this behavior.\n",
      "  _warn_prf(average, modifier, msg_start, len(result))\n",
      "/opt/conda/lib/python3.9/site-packages/sklearn/metrics/_classification.py:1318: UndefinedMetricWarning: Precision is ill-defined and being set to 0.0 in labels with no predicted samples. Use `zero_division` parameter to control this behavior.\n",
      "  _warn_prf(average, modifier, msg_start, len(result))\n",
      "Saving model checkpoint to content/drive/MyDrive/output_DistilRoBerta/fold1/checkpoint-9550\n",
      "Configuration saved in content/drive/MyDrive/output_DistilRoBerta/fold1/checkpoint-9550/config.json\n",
      "Model weights saved in content/drive/MyDrive/output_DistilRoBerta/fold1/checkpoint-9550/pytorch_model.bin\n",
      "***** Running Evaluation *****\n",
      "  Num examples = 11225\n",
      "  Batch size = 8\n",
      "Saving model checkpoint to content/drive/MyDrive/output_DistilRoBerta/fold1/checkpoint-14325\n",
      "Configuration saved in content/drive/MyDrive/output_DistilRoBerta/fold1/checkpoint-14325/config.json\n",
      "Model weights saved in content/drive/MyDrive/output_DistilRoBerta/fold1/checkpoint-14325/pytorch_model.bin\n",
      "***** Running Evaluation *****\n",
      "  Num examples = 11225\n",
      "  Batch size = 8\n",
      "Saving model checkpoint to content/drive/MyDrive/output_DistilRoBerta/fold1/checkpoint-19100\n",
      "Configuration saved in content/drive/MyDrive/output_DistilRoBerta/fold1/checkpoint-19100/config.json\n",
      "Model weights saved in content/drive/MyDrive/output_DistilRoBerta/fold1/checkpoint-19100/pytorch_model.bin\n",
      "\n",
      "\n",
      "Training completed. Do not forget to share your model on huggingface.co/models =)\n",
      "\n",
      "\n",
      "Loading best model from content/drive/MyDrive/output_DistilRoBerta/fold1/checkpoint-14325 (score: 0.14869321882724762).\n",
      "1it [1:28:02, 5282.30s/it]"
     ]
    },
    {
     "name": "stdout",
     "output_type": "stream",
     "text": [
      "Complete for fold 1\n",
      "Running for Fold:  2\n",
      "38200\n",
      "Counter({0: 106872, 1: 3596, 2: 1354, 3: 425})\n",
      "Counter({0: 96185, 1: 3236, 2: 1219, 3: 382})\n",
      "Counter({0: 33363, 1: 3236, 2: 1219, 3: 382})\n",
      "Counter({0: 33363, 1: 3236, 2: 1219, 3: 382})\n"
     ]
    },
    {
     "name": "stderr",
     "output_type": "stream",
     "text": [
      "PyTorch: setting up devices\n",
      "The default value for the training argument `--report_to` will change in v5 (from all installed integrations to none). In v5, you will need to use `--report_to all` to get the same behavior as now. You should start updating your code and make this info disappear :-).\n",
      "/opt/conda/lib/python3.9/site-packages/transformers/optimization.py:306: FutureWarning: This implementation of AdamW is deprecated and will be removed in a future version. Use the PyTorch implementation torch.optim.AdamW instead, or set `no_deprecation_warning=True` to disable this warning\n",
      "  warnings.warn(\n",
      "***** Running training *****\n",
      "  Num examples = 38200\n",
      "  Num Epochs = 4\n",
      "  Instantaneous batch size per device = 8\n",
      "  Total train batch size (w. parallel, distributed & accumulation) = 8\n",
      "  Gradient Accumulation steps = 1\n",
      "  Total optimization steps = 19100\n"
     ]
    },
    {
     "data": {
      "text/html": [
       "\n",
       "    <div>\n",
       "      \n",
       "      <progress value='19100' max='19100' style='width:300px; height:20px; vertical-align: middle;'></progress>\n",
       "      [19100/19100 1:10:41, Epoch 4/4]\n",
       "    </div>\n",
       "    <table border=\"1\" class=\"dataframe\">\n",
       "  <thead>\n",
       " <tr style=\"text-align: left;\">\n",
       "      <th>Epoch</th>\n",
       "      <th>Training Loss</th>\n",
       "      <th>Validation Loss</th>\n",
       "      <th>Accuracy</th>\n",
       "      <th>Precision</th>\n",
       "      <th>Recall</th>\n",
       "      <th>F1</th>\n",
       "      <th>Precision Nonbully</th>\n",
       "      <th>Recall Nonbully</th>\n",
       "      <th>F1 Nonbully</th>\n",
       "      <th>Precision Harasser</th>\n",
       "      <th>Recall Harasser</th>\n",
       "      <th>F1 Harasser</th>\n",
       "      <th>Precision Victim</th>\n",
       "      <th>Recall Victim</th>\n",
       "      <th>F1 Victim</th>\n",
       "      <th>Precision Bydefender</th>\n",
       "      <th>Recall Bydefender</th>\n",
       "      <th>F1 Bydefender</th>\n",
       "    </tr>\n",
       "  </thead>\n",
       "  <tbody>\n",
       "    <tr>\n",
       "      <td>1</td>\n",
       "      <td>0.322300</td>\n",
       "      <td>0.140239</td>\n",
       "      <td>0.951804</td>\n",
       "      <td>0.405733</td>\n",
       "      <td>0.547098</td>\n",
       "      <td>0.444213</td>\n",
       "      <td>0.985981</td>\n",
       "      <td>0.973987</td>\n",
       "      <td>0.979947</td>\n",
       "      <td>0.506000</td>\n",
       "      <td>0.702778</td>\n",
       "      <td>0.588372</td>\n",
       "      <td>0.000000</td>\n",
       "      <td>0.000000</td>\n",
       "      <td>0.000000</td>\n",
       "      <td>0.130952</td>\n",
       "      <td>0.511628</td>\n",
       "      <td>0.208531</td>\n",
       "    </tr>\n",
       "    <tr>\n",
       "      <td>2</td>\n",
       "      <td>0.254100</td>\n",
       "      <td>0.153560</td>\n",
       "      <td>0.957327</td>\n",
       "      <td>0.441107</td>\n",
       "      <td>0.488206</td>\n",
       "      <td>0.460574</td>\n",
       "      <td>0.986314</td>\n",
       "      <td>0.977824</td>\n",
       "      <td>0.982051</td>\n",
       "      <td>0.528112</td>\n",
       "      <td>0.730556</td>\n",
       "      <td>0.613054</td>\n",
       "      <td>0.250000</td>\n",
       "      <td>0.244444</td>\n",
       "      <td>0.247191</td>\n",
       "      <td>0.000000</td>\n",
       "      <td>0.000000</td>\n",
       "      <td>0.000000</td>\n",
       "    </tr>\n",
       "    <tr>\n",
       "      <td>3</td>\n",
       "      <td>0.191400</td>\n",
       "      <td>0.163216</td>\n",
       "      <td>0.951537</td>\n",
       "      <td>0.420862</td>\n",
       "      <td>0.486014</td>\n",
       "      <td>0.446335</td>\n",
       "      <td>0.987169</td>\n",
       "      <td>0.971835</td>\n",
       "      <td>0.979442</td>\n",
       "      <td>0.468694</td>\n",
       "      <td>0.727778</td>\n",
       "      <td>0.570185</td>\n",
       "      <td>0.227586</td>\n",
       "      <td>0.244444</td>\n",
       "      <td>0.235714</td>\n",
       "      <td>0.000000</td>\n",
       "      <td>0.000000</td>\n",
       "      <td>0.000000</td>\n",
       "    </tr>\n",
       "    <tr>\n",
       "      <td>4</td>\n",
       "      <td>0.189800</td>\n",
       "      <td>0.176111</td>\n",
       "      <td>0.952606</td>\n",
       "      <td>0.419791</td>\n",
       "      <td>0.477085</td>\n",
       "      <td>0.443899</td>\n",
       "      <td>0.985982</td>\n",
       "      <td>0.974081</td>\n",
       "      <td>0.979995</td>\n",
       "      <td>0.506048</td>\n",
       "      <td>0.697222</td>\n",
       "      <td>0.586449</td>\n",
       "      <td>0.187135</td>\n",
       "      <td>0.237037</td>\n",
       "      <td>0.209150</td>\n",
       "      <td>0.000000</td>\n",
       "      <td>0.000000</td>\n",
       "      <td>0.000000</td>\n",
       "    </tr>\n",
       "  </tbody>\n",
       "</table><p>"
      ],
      "text/plain": [
       "<IPython.core.display.HTML object>"
      ]
     },
     "metadata": {},
     "output_type": "display_data"
    },
    {
     "name": "stderr",
     "output_type": "stream",
     "text": [
      "***** Running Evaluation *****\n",
      "  Num examples = 11225\n",
      "  Batch size = 8\n",
      "/opt/conda/lib/python3.9/site-packages/sklearn/metrics/_classification.py:1318: UndefinedMetricWarning: Precision is ill-defined and being set to 0.0 in labels with no predicted samples. Use `zero_division` parameter to control this behavior.\n",
      "  _warn_prf(average, modifier, msg_start, len(result))\n",
      "/opt/conda/lib/python3.9/site-packages/sklearn/metrics/_classification.py:1318: UndefinedMetricWarning: Precision is ill-defined and being set to 0.0 in labels with no predicted samples. Use `zero_division` parameter to control this behavior.\n",
      "  _warn_prf(average, modifier, msg_start, len(result))\n",
      "/opt/conda/lib/python3.9/site-packages/sklearn/metrics/_classification.py:1318: UndefinedMetricWarning: Precision is ill-defined and being set to 0.0 in labels with no predicted samples. Use `zero_division` parameter to control this behavior.\n",
      "  _warn_prf(average, modifier, msg_start, len(result))\n",
      "/opt/conda/lib/python3.9/site-packages/sklearn/metrics/_classification.py:1318: UndefinedMetricWarning: Precision is ill-defined and being set to 0.0 in labels with no predicted samples. Use `zero_division` parameter to control this behavior.\n",
      "  _warn_prf(average, modifier, msg_start, len(result))\n",
      "/opt/conda/lib/python3.9/site-packages/sklearn/metrics/_classification.py:1318: UndefinedMetricWarning: Precision is ill-defined and being set to 0.0 in labels with no predicted samples. Use `zero_division` parameter to control this behavior.\n",
      "  _warn_prf(average, modifier, msg_start, len(result))\n",
      "Saving model checkpoint to content/drive/MyDrive/output_DistilRoBerta/fold2/checkpoint-4775\n",
      "Configuration saved in content/drive/MyDrive/output_DistilRoBerta/fold2/checkpoint-4775/config.json\n",
      "Model weights saved in content/drive/MyDrive/output_DistilRoBerta/fold2/checkpoint-4775/pytorch_model.bin\n",
      "***** Running Evaluation *****\n",
      "  Num examples = 11225\n",
      "  Batch size = 8\n",
      "***** Running Evaluation *****\n",
      "  Num examples = 11225\n",
      "  Batch size = 8\n",
      "/opt/conda/lib/python3.9/site-packages/sklearn/metrics/_classification.py:1318: UndefinedMetricWarning: Precision is ill-defined and being set to 0.0 in labels with no predicted samples. Use `zero_division` parameter to control this behavior.\n",
      "  _warn_prf(average, modifier, msg_start, len(result))\n",
      "/opt/conda/lib/python3.9/site-packages/sklearn/metrics/_classification.py:1318: UndefinedMetricWarning: Precision is ill-defined and being set to 0.0 in labels with no predicted samples. Use `zero_division` parameter to control this behavior.\n",
      "  _warn_prf(average, modifier, msg_start, len(result))\n",
      "/opt/conda/lib/python3.9/site-packages/sklearn/metrics/_classification.py:1318: UndefinedMetricWarning: Precision is ill-defined and being set to 0.0 in labels with no predicted samples. Use `zero_division` parameter to control this behavior.\n",
      "  _warn_prf(average, modifier, msg_start, len(result))\n",
      "/opt/conda/lib/python3.9/site-packages/sklearn/metrics/_classification.py:1318: UndefinedMetricWarning: Precision is ill-defined and being set to 0.0 in labels with no predicted samples. Use `zero_division` parameter to control this behavior.\n",
      "  _warn_prf(average, modifier, msg_start, len(result))\n",
      "/opt/conda/lib/python3.9/site-packages/sklearn/metrics/_classification.py:1318: UndefinedMetricWarning: Precision is ill-defined and being set to 0.0 in labels with no predicted samples. Use `zero_division` parameter to control this behavior.\n",
      "  _warn_prf(average, modifier, msg_start, len(result))\n",
      "Saving model checkpoint to content/drive/MyDrive/output_DistilRoBerta/fold2/checkpoint-14325\n",
      "Configuration saved in content/drive/MyDrive/output_DistilRoBerta/fold2/checkpoint-14325/config.json\n",
      "Model weights saved in content/drive/MyDrive/output_DistilRoBerta/fold2/checkpoint-14325/pytorch_model.bin\n",
      "***** Running Evaluation *****\n",
      "  Num examples = 11225\n",
      "  Batch size = 8\n",
      "/opt/conda/lib/python3.9/site-packages/sklearn/metrics/_classification.py:1318: UndefinedMetricWarning: Precision is ill-defined and being set to 0.0 in labels with no predicted samples. Use `zero_division` parameter to control this behavior.\n",
      "  _warn_prf(average, modifier, msg_start, len(result))\n",
      "/opt/conda/lib/python3.9/site-packages/sklearn/metrics/_classification.py:1318: UndefinedMetricWarning: Precision is ill-defined and being set to 0.0 in labels with no predicted samples. Use `zero_division` parameter to control this behavior.\n",
      "  _warn_prf(average, modifier, msg_start, len(result))\n",
      "/opt/conda/lib/python3.9/site-packages/sklearn/metrics/_classification.py:1318: UndefinedMetricWarning: Precision is ill-defined and being set to 0.0 in labels with no predicted samples. Use `zero_division` parameter to control this behavior.\n",
      "  _warn_prf(average, modifier, msg_start, len(result))\n",
      "/opt/conda/lib/python3.9/site-packages/sklearn/metrics/_classification.py:1318: UndefinedMetricWarning: Precision is ill-defined and being set to 0.0 in labels with no predicted samples. Use `zero_division` parameter to control this behavior.\n",
      "  _warn_prf(average, modifier, msg_start, len(result))\n",
      "/opt/conda/lib/python3.9/site-packages/sklearn/metrics/_classification.py:1318: UndefinedMetricWarning: Precision is ill-defined and being set to 0.0 in labels with no predicted samples. Use `zero_division` parameter to control this behavior.\n",
      "  _warn_prf(average, modifier, msg_start, len(result))\n",
      "Saving model checkpoint to content/drive/MyDrive/output_DistilRoBerta/fold2/checkpoint-19100\n",
      "Configuration saved in content/drive/MyDrive/output_DistilRoBerta/fold2/checkpoint-19100/config.json\n",
      "Model weights saved in content/drive/MyDrive/output_DistilRoBerta/fold2/checkpoint-19100/pytorch_model.bin\n",
      "\n",
      "\n",
      "Training completed. Do not forget to share your model on huggingface.co/models =)\n",
      "\n",
      "\n",
      "Loading best model from content/drive/MyDrive/output_DistilRoBerta/fold2/checkpoint-4775 (score: 0.14023877680301666).\n",
      "2it [2:38:52, 4675.23s/it]"
     ]
    },
    {
     "name": "stdout",
     "output_type": "stream",
     "text": [
      "Complete for fold 2\n",
      "Running for Fold:  3\n",
      "38200\n",
      "Counter({0: 106872, 1: 3596, 2: 1354, 3: 425})\n",
      "Counter({0: 96185, 1: 3236, 2: 1219, 3: 382})\n",
      "Counter({0: 33363, 1: 3236, 2: 1219, 3: 382})\n",
      "Counter({0: 33363, 1: 3236, 2: 1219, 3: 382})\n"
     ]
    },
    {
     "name": "stderr",
     "output_type": "stream",
     "text": [
      "PyTorch: setting up devices\n",
      "The default value for the training argument `--report_to` will change in v5 (from all installed integrations to none). In v5, you will need to use `--report_to all` to get the same behavior as now. You should start updating your code and make this info disappear :-).\n",
      "/opt/conda/lib/python3.9/site-packages/transformers/optimization.py:306: FutureWarning: This implementation of AdamW is deprecated and will be removed in a future version. Use the PyTorch implementation torch.optim.AdamW instead, or set `no_deprecation_warning=True` to disable this warning\n",
      "  warnings.warn(\n",
      "***** Running training *****\n",
      "  Num examples = 38200\n",
      "  Num Epochs = 4\n",
      "  Instantaneous batch size per device = 8\n",
      "  Total train batch size (w. parallel, distributed & accumulation) = 8\n",
      "  Gradient Accumulation steps = 1\n",
      "  Total optimization steps = 19100\n"
     ]
    },
    {
     "data": {
      "text/html": [
       "\n",
       "    <div>\n",
       "      \n",
       "      <progress value='582' max='19100' style='width:300px; height:20px; vertical-align: middle;'></progress>\n",
       "      [  582/19100 01:57 < 1:02:44, 4.92 it/s, Epoch 0.12/4]\n",
       "    </div>\n",
       "    <table border=\"1\" class=\"dataframe\">\n",
       "  <thead>\n",
       " <tr style=\"text-align: left;\">\n",
       "      <th>Epoch</th>\n",
       "      <th>Training Loss</th>\n",
       "      <th>Validation Loss</th>\n",
       "    </tr>\n",
       "  </thead>\n",
       "  <tbody>\n",
       "  </tbody>\n",
       "</table><p>"
      ],
      "text/plain": [
       "<IPython.core.display.HTML object>"
      ]
     },
     "metadata": {},
     "output_type": "display_data"
    }
   ],
   "source": [
    "run_cross_validation(model_name='DistilRoBerta',\n",
    "                         X=X,\n",
    "                         y=y, \n",
    "                         splits=5,\n",
    "                         epoch=4,\n",
    "                         checkpoint=False)"
   ]
  },
  {
   "cell_type": "markdown",
   "id": "4b6ee960-a1b4-45c7-9a5e-92b8cc1b56d1",
   "metadata": {},
   "source": [
    "### [Continue] Cross Validation (K = 5)"
   ]
  },
  {
   "cell_type": "code",
   "execution_count": 9,
   "id": "30ab4e1a-8d12-4e7e-99a4-3aea5deaac61",
   "metadata": {},
   "outputs": [
    {
     "name": "stdout",
     "output_type": "stream",
     "text": [
      "Developing Model with Cross validation for: DistilRoBerta\n"
     ]
    },
    {
     "name": "stderr",
     "output_type": "stream",
     "text": [
      "0it [00:00, ?it/s]"
     ]
    },
    {
     "name": "stdout",
     "output_type": "stream",
     "text": [
      "Running for Fold:  1\n",
      "38200\n",
      "Counter({0: 106872, 1: 3596, 2: 1354, 3: 425})\n",
      "Counter({0: 96185, 1: 3236, 2: 1219, 3: 382})\n",
      "Counter({0: 33363, 1: 3236, 2: 1219, 3: 382})\n",
      "Counter({0: 33363, 1: 3236, 2: 1219, 3: 382})\n"
     ]
    },
    {
     "name": "stderr",
     "output_type": "stream",
     "text": [
      "Loading model from content/drive/MyDrive/output_DistilRoBerta/fold1/checkpoint-19100).\n",
      "/opt/conda/lib/python3.9/site-packages/transformers/optimization.py:306: FutureWarning: This implementation of AdamW is deprecated and will be removed in a future version. Use the PyTorch implementation torch.optim.AdamW instead, or set `no_deprecation_warning=True` to disable this warning\n",
      "  warnings.warn(\n",
      "***** Running training *****\n",
      "  Num examples = 38200\n",
      "  Num Epochs = 4\n",
      "  Instantaneous batch size per device = 8\n",
      "  Total train batch size (w. parallel, distributed & accumulation) = 8\n",
      "  Gradient Accumulation steps = 1\n",
      "  Total optimization steps = 19100\n",
      "  Continuing training from checkpoint, will skip to saved global_step\n",
      "  Continuing training from epoch 4\n",
      "  Continuing training from global step 19100\n",
      "  Will skip the first 4 epochs then the first 0 batches in the first epoch. If this takes a lot of time, you can add the `--ignore_data_skip` flag to your launch command, but you will resume the training on data already seen by your model.\n"
     ]
    },
    {
     "data": {
      "application/vnd.jupyter.widget-view+json": {
       "model_id": "285eca3d0d664bd9863a7f987940e80b",
       "version_major": 2,
       "version_minor": 0
      },
      "text/plain": [
       "0it [00:00, ?it/s]"
      ]
     },
     "metadata": {},
     "output_type": "display_data"
    },
    {
     "name": "stderr",
     "output_type": "stream",
     "text": [
      "\n",
      "\n",
      "Training completed. Do not forget to share your model on huggingface.co/models =)\n",
      "\n",
      "\n",
      "Loading best model from content/drive/MyDrive/output_DistilRoBerta/fold1/checkpoint-14325 (score: 0.14869321882724762).\n"
     ]
    },
    {
     "data": {
      "text/html": [
       "\n",
       "    <div>\n",
       "      \n",
       "      <progress value='19100' max='19100' style='width:300px; height:20px; vertical-align: middle;'></progress>\n",
       "      [19100/19100 : < :, Epoch 4/4]\n",
       "    </div>\n",
       "    <table border=\"1\" class=\"dataframe\">\n",
       "  <thead>\n",
       " <tr style=\"text-align: left;\">\n",
       "      <th>Epoch</th>\n",
       "      <th>Training Loss</th>\n",
       "      <th>Validation Loss</th>\n",
       "    </tr>\n",
       "  </thead>\n",
       "  <tbody>\n",
       "  </tbody>\n",
       "</table><p>"
      ],
      "text/plain": [
       "<IPython.core.display.HTML object>"
      ]
     },
     "metadata": {},
     "output_type": "display_data"
    },
    {
     "name": "stderr",
     "output_type": "stream",
     "text": [
      "1it [00:16, 16.57s/it]"
     ]
    },
    {
     "name": "stdout",
     "output_type": "stream",
     "text": [
      "Complete for fold 1\n",
      "Running for Fold:  2\n",
      "38200\n",
      "Counter({0: 106872, 1: 3596, 2: 1354, 3: 425})\n",
      "Counter({0: 96185, 1: 3236, 2: 1219, 3: 382})\n",
      "Counter({0: 33363, 1: 3236, 2: 1219, 3: 382})\n",
      "Counter({0: 33363, 1: 3236, 2: 1219, 3: 382})\n"
     ]
    },
    {
     "name": "stderr",
     "output_type": "stream",
     "text": [
      "PyTorch: setting up devices\n",
      "The default value for the training argument `--report_to` will change in v5 (from all installed integrations to none). In v5, you will need to use `--report_to all` to get the same behavior as now. You should start updating your code and make this info disappear :-).\n",
      "Loading model from content/drive/MyDrive/output_DistilRoBerta/fold2/checkpoint-19100).\n",
      "/opt/conda/lib/python3.9/site-packages/transformers/optimization.py:306: FutureWarning: This implementation of AdamW is deprecated and will be removed in a future version. Use the PyTorch implementation torch.optim.AdamW instead, or set `no_deprecation_warning=True` to disable this warning\n",
      "  warnings.warn(\n",
      "***** Running training *****\n",
      "  Num examples = 38200\n",
      "  Num Epochs = 4\n",
      "  Instantaneous batch size per device = 8\n",
      "  Total train batch size (w. parallel, distributed & accumulation) = 8\n",
      "  Gradient Accumulation steps = 1\n",
      "  Total optimization steps = 19100\n",
      "  Continuing training from checkpoint, will skip to saved global_step\n",
      "  Continuing training from epoch 4\n",
      "  Continuing training from global step 19100\n",
      "  Will skip the first 4 epochs then the first 0 batches in the first epoch. If this takes a lot of time, you can add the `--ignore_data_skip` flag to your launch command, but you will resume the training on data already seen by your model.\n"
     ]
    },
    {
     "data": {
      "application/vnd.jupyter.widget-view+json": {
       "model_id": "70342ea897164633aace3162ea8f6ab7",
       "version_major": 2,
       "version_minor": 0
      },
      "text/plain": [
       "0it [00:00, ?it/s]"
      ]
     },
     "metadata": {},
     "output_type": "display_data"
    },
    {
     "name": "stderr",
     "output_type": "stream",
     "text": [
      "\n",
      "\n",
      "Training completed. Do not forget to share your model on huggingface.co/models =)\n",
      "\n",
      "\n",
      "Loading best model from content/drive/MyDrive/output_DistilRoBerta/fold2/checkpoint-4775 (score: 0.14023877680301666).\n"
     ]
    },
    {
     "data": {
      "text/html": [
       "\n",
       "    <div>\n",
       "      \n",
       "      <progress value='19100' max='19100' style='width:300px; height:20px; vertical-align: middle;'></progress>\n",
       "      [19100/19100 : < :, Epoch 4/4]\n",
       "    </div>\n",
       "    <table border=\"1\" class=\"dataframe\">\n",
       "  <thead>\n",
       " <tr style=\"text-align: left;\">\n",
       "      <th>Epoch</th>\n",
       "      <th>Training Loss</th>\n",
       "      <th>Validation Loss</th>\n",
       "    </tr>\n",
       "  </thead>\n",
       "  <tbody>\n",
       "  </tbody>\n",
       "</table><p>"
      ],
      "text/plain": [
       "<IPython.core.display.HTML object>"
      ]
     },
     "metadata": {},
     "output_type": "display_data"
    },
    {
     "name": "stderr",
     "output_type": "stream",
     "text": [
      "2it [00:34, 17.41s/it]"
     ]
    },
    {
     "name": "stdout",
     "output_type": "stream",
     "text": [
      "Complete for fold 2\n",
      "Running for Fold:  3\n",
      "38200\n",
      "Counter({0: 106872, 1: 3596, 2: 1354, 3: 425})\n",
      "Counter({0: 96185, 1: 3236, 2: 1219, 3: 382})\n",
      "Counter({0: 33363, 1: 3236, 2: 1219, 3: 382})\n",
      "Counter({0: 33363, 1: 3236, 2: 1219, 3: 382})\n"
     ]
    },
    {
     "name": "stderr",
     "output_type": "stream",
     "text": [
      "PyTorch: setting up devices\n",
      "The default value for the training argument `--report_to` will change in v5 (from all installed integrations to none). In v5, you will need to use `--report_to all` to get the same behavior as now. You should start updating your code and make this info disappear :-).\n",
      "/opt/conda/lib/python3.9/site-packages/transformers/optimization.py:306: FutureWarning: This implementation of AdamW is deprecated and will be removed in a future version. Use the PyTorch implementation torch.optim.AdamW instead, or set `no_deprecation_warning=True` to disable this warning\n",
      "  warnings.warn(\n",
      "***** Running training *****\n",
      "  Num examples = 38200\n",
      "  Num Epochs = 4\n",
      "  Instantaneous batch size per device = 8\n",
      "  Total train batch size (w. parallel, distributed & accumulation) = 8\n",
      "  Gradient Accumulation steps = 1\n",
      "  Total optimization steps = 19100\n"
     ]
    },
    {
     "data": {
      "text/html": [
       "\n",
       "    <div>\n",
       "      \n",
       "      <progress value='19100' max='19100' style='width:300px; height:20px; vertical-align: middle;'></progress>\n",
       "      [19100/19100 1:10:47, Epoch 4/4]\n",
       "    </div>\n",
       "    <table border=\"1\" class=\"dataframe\">\n",
       "  <thead>\n",
       " <tr style=\"text-align: left;\">\n",
       "      <th>Epoch</th>\n",
       "      <th>Training Loss</th>\n",
       "      <th>Validation Loss</th>\n",
       "      <th>Accuracy</th>\n",
       "      <th>Precision</th>\n",
       "      <th>Recall</th>\n",
       "      <th>F1</th>\n",
       "      <th>Precision Nonbully</th>\n",
       "      <th>Recall Nonbully</th>\n",
       "      <th>F1 Nonbully</th>\n",
       "      <th>Precision Harasser</th>\n",
       "      <th>Recall Harasser</th>\n",
       "      <th>F1 Harasser</th>\n",
       "      <th>Precision Victim</th>\n",
       "      <th>Recall Victim</th>\n",
       "      <th>F1 Victim</th>\n",
       "      <th>Precision Bydefender</th>\n",
       "      <th>Recall Bydefender</th>\n",
       "      <th>F1 Bydefender</th>\n",
       "    </tr>\n",
       "  </thead>\n",
       "  <tbody>\n",
       "    <tr>\n",
       "      <td>1</td>\n",
       "      <td>0.285100</td>\n",
       "      <td>0.149381</td>\n",
       "      <td>0.951804</td>\n",
       "      <td>0.417834</td>\n",
       "      <td>0.488818</td>\n",
       "      <td>0.446449</td>\n",
       "      <td>0.989342</td>\n",
       "      <td>0.972864</td>\n",
       "      <td>0.981034</td>\n",
       "      <td>0.463415</td>\n",
       "      <td>0.686111</td>\n",
       "      <td>0.553191</td>\n",
       "      <td>0.218579</td>\n",
       "      <td>0.296296</td>\n",
       "      <td>0.251572</td>\n",
       "      <td>0.000000</td>\n",
       "      <td>0.000000</td>\n",
       "      <td>0.000000</td>\n",
       "    </tr>\n",
       "    <tr>\n",
       "      <td>2</td>\n",
       "      <td>0.231700</td>\n",
       "      <td>0.147003</td>\n",
       "      <td>0.957862</td>\n",
       "      <td>0.428991</td>\n",
       "      <td>0.477813</td>\n",
       "      <td>0.443800</td>\n",
       "      <td>0.988742</td>\n",
       "      <td>0.977917</td>\n",
       "      <td>0.983300</td>\n",
       "      <td>0.496454</td>\n",
       "      <td>0.777778</td>\n",
       "      <td>0.606061</td>\n",
       "      <td>0.230769</td>\n",
       "      <td>0.155556</td>\n",
       "      <td>0.185841</td>\n",
       "      <td>0.000000</td>\n",
       "      <td>0.000000</td>\n",
       "      <td>0.000000</td>\n",
       "    </tr>\n",
       "    <tr>\n",
       "      <td>3</td>\n",
       "      <td>0.187900</td>\n",
       "      <td>0.152782</td>\n",
       "      <td>0.956971</td>\n",
       "      <td>0.434970</td>\n",
       "      <td>0.499268</td>\n",
       "      <td>0.461899</td>\n",
       "      <td>0.989290</td>\n",
       "      <td>0.976701</td>\n",
       "      <td>0.982955</td>\n",
       "      <td>0.530938</td>\n",
       "      <td>0.738889</td>\n",
       "      <td>0.617886</td>\n",
       "      <td>0.219653</td>\n",
       "      <td>0.281481</td>\n",
       "      <td>0.246753</td>\n",
       "      <td>0.000000</td>\n",
       "      <td>0.000000</td>\n",
       "      <td>0.000000</td>\n",
       "    </tr>\n",
       "    <tr>\n",
       "      <td>4</td>\n",
       "      <td>0.173700</td>\n",
       "      <td>0.159640</td>\n",
       "      <td>0.958218</td>\n",
       "      <td>0.628925</td>\n",
       "      <td>0.512639</td>\n",
       "      <td>0.496076</td>\n",
       "      <td>0.988182</td>\n",
       "      <td>0.978011</td>\n",
       "      <td>0.983070</td>\n",
       "      <td>0.534274</td>\n",
       "      <td>0.736111</td>\n",
       "      <td>0.619159</td>\n",
       "      <td>0.243243</td>\n",
       "      <td>0.266667</td>\n",
       "      <td>0.254417</td>\n",
       "      <td>0.750000</td>\n",
       "      <td>0.069767</td>\n",
       "      <td>0.127660</td>\n",
       "    </tr>\n",
       "  </tbody>\n",
       "</table><p>"
      ],
      "text/plain": [
       "<IPython.core.display.HTML object>"
      ]
     },
     "metadata": {},
     "output_type": "display_data"
    },
    {
     "name": "stderr",
     "output_type": "stream",
     "text": [
      "***** Running Evaluation *****\n",
      "  Num examples = 11225\n",
      "  Batch size = 8\n",
      "/opt/conda/lib/python3.9/site-packages/sklearn/metrics/_classification.py:1318: UndefinedMetricWarning: Precision is ill-defined and being set to 0.0 in labels with no predicted samples. Use `zero_division` parameter to control this behavior.\n",
      "  _warn_prf(average, modifier, msg_start, len(result))\n",
      "/opt/conda/lib/python3.9/site-packages/sklearn/metrics/_classification.py:1318: UndefinedMetricWarning: Precision is ill-defined and being set to 0.0 in labels with no predicted samples. Use `zero_division` parameter to control this behavior.\n",
      "  _warn_prf(average, modifier, msg_start, len(result))\n",
      "/opt/conda/lib/python3.9/site-packages/sklearn/metrics/_classification.py:1318: UndefinedMetricWarning: Precision is ill-defined and being set to 0.0 in labels with no predicted samples. Use `zero_division` parameter to control this behavior.\n",
      "  _warn_prf(average, modifier, msg_start, len(result))\n",
      "/opt/conda/lib/python3.9/site-packages/sklearn/metrics/_classification.py:1318: UndefinedMetricWarning: Precision is ill-defined and being set to 0.0 in labels with no predicted samples. Use `zero_division` parameter to control this behavior.\n",
      "  _warn_prf(average, modifier, msg_start, len(result))\n",
      "/opt/conda/lib/python3.9/site-packages/sklearn/metrics/_classification.py:1318: UndefinedMetricWarning: Precision is ill-defined and being set to 0.0 in labels with no predicted samples. Use `zero_division` parameter to control this behavior.\n",
      "  _warn_prf(average, modifier, msg_start, len(result))\n",
      "Saving model checkpoint to content/drive/MyDrive/output_DistilRoBerta/fold3/checkpoint-4775\n",
      "Configuration saved in content/drive/MyDrive/output_DistilRoBerta/fold3/checkpoint-4775/config.json\n",
      "Model weights saved in content/drive/MyDrive/output_DistilRoBerta/fold3/checkpoint-4775/pytorch_model.bin\n",
      "***** Running Evaluation *****\n",
      "  Num examples = 11225\n",
      "  Batch size = 8\n",
      "/opt/conda/lib/python3.9/site-packages/sklearn/metrics/_classification.py:1318: UndefinedMetricWarning: Precision is ill-defined and being set to 0.0 in labels with no predicted samples. Use `zero_division` parameter to control this behavior.\n",
      "  _warn_prf(average, modifier, msg_start, len(result))\n",
      "/opt/conda/lib/python3.9/site-packages/sklearn/metrics/_classification.py:1318: UndefinedMetricWarning: Precision is ill-defined and being set to 0.0 in labels with no predicted samples. Use `zero_division` parameter to control this behavior.\n",
      "  _warn_prf(average, modifier, msg_start, len(result))\n",
      "/opt/conda/lib/python3.9/site-packages/sklearn/metrics/_classification.py:1318: UndefinedMetricWarning: Precision is ill-defined and being set to 0.0 in labels with no predicted samples. Use `zero_division` parameter to control this behavior.\n",
      "  _warn_prf(average, modifier, msg_start, len(result))\n",
      "/opt/conda/lib/python3.9/site-packages/sklearn/metrics/_classification.py:1318: UndefinedMetricWarning: Precision is ill-defined and being set to 0.0 in labels with no predicted samples. Use `zero_division` parameter to control this behavior.\n",
      "  _warn_prf(average, modifier, msg_start, len(result))\n",
      "/opt/conda/lib/python3.9/site-packages/sklearn/metrics/_classification.py:1318: UndefinedMetricWarning: Precision is ill-defined and being set to 0.0 in labels with no predicted samples. Use `zero_division` parameter to control this behavior.\n",
      "  _warn_prf(average, modifier, msg_start, len(result))\n",
      "Saving model checkpoint to content/drive/MyDrive/output_DistilRoBerta/fold3/checkpoint-9550\n",
      "Configuration saved in content/drive/MyDrive/output_DistilRoBerta/fold3/checkpoint-9550/config.json\n",
      "Model weights saved in content/drive/MyDrive/output_DistilRoBerta/fold3/checkpoint-9550/pytorch_model.bin\n",
      "***** Running Evaluation *****\n",
      "  Num examples = 11225\n",
      "  Batch size = 8\n",
      "/opt/conda/lib/python3.9/site-packages/sklearn/metrics/_classification.py:1318: UndefinedMetricWarning: Precision is ill-defined and being set to 0.0 in labels with no predicted samples. Use `zero_division` parameter to control this behavior.\n",
      "  _warn_prf(average, modifier, msg_start, len(result))\n",
      "/opt/conda/lib/python3.9/site-packages/sklearn/metrics/_classification.py:1318: UndefinedMetricWarning: Precision is ill-defined and being set to 0.0 in labels with no predicted samples. Use `zero_division` parameter to control this behavior.\n",
      "  _warn_prf(average, modifier, msg_start, len(result))\n",
      "/opt/conda/lib/python3.9/site-packages/sklearn/metrics/_classification.py:1318: UndefinedMetricWarning: Precision is ill-defined and being set to 0.0 in labels with no predicted samples. Use `zero_division` parameter to control this behavior.\n",
      "  _warn_prf(average, modifier, msg_start, len(result))\n",
      "/opt/conda/lib/python3.9/site-packages/sklearn/metrics/_classification.py:1318: UndefinedMetricWarning: Precision is ill-defined and being set to 0.0 in labels with no predicted samples. Use `zero_division` parameter to control this behavior.\n",
      "  _warn_prf(average, modifier, msg_start, len(result))\n",
      "/opt/conda/lib/python3.9/site-packages/sklearn/metrics/_classification.py:1318: UndefinedMetricWarning: Precision is ill-defined and being set to 0.0 in labels with no predicted samples. Use `zero_division` parameter to control this behavior.\n",
      "  _warn_prf(average, modifier, msg_start, len(result))\n",
      "Saving model checkpoint to content/drive/MyDrive/output_DistilRoBerta/fold3/checkpoint-14325\n",
      "Configuration saved in content/drive/MyDrive/output_DistilRoBerta/fold3/checkpoint-14325/config.json\n",
      "Model weights saved in content/drive/MyDrive/output_DistilRoBerta/fold3/checkpoint-14325/pytorch_model.bin\n",
      "***** Running Evaluation *****\n",
      "  Num examples = 11225\n",
      "  Batch size = 8\n",
      "Saving model checkpoint to content/drive/MyDrive/output_DistilRoBerta/fold3/checkpoint-19100\n",
      "Configuration saved in content/drive/MyDrive/output_DistilRoBerta/fold3/checkpoint-19100/config.json\n",
      "Model weights saved in content/drive/MyDrive/output_DistilRoBerta/fold3/checkpoint-19100/pytorch_model.bin\n",
      "\n",
      "\n",
      "Training completed. Do not forget to share your model on huggingface.co/models =)\n",
      "\n",
      "\n",
      "Loading best model from content/drive/MyDrive/output_DistilRoBerta/fold3/checkpoint-9550 (score: 0.1470034271478653).\n",
      "3it [1:11:28, 1951.95s/it]"
     ]
    },
    {
     "name": "stdout",
     "output_type": "stream",
     "text": [
      "Complete for fold 3\n",
      "Running for Fold:  4\n",
      "38200\n",
      "Counter({0: 106872, 1: 3596, 2: 1354, 3: 425})\n",
      "Counter({0: 96185, 1: 3236, 2: 1219, 3: 382})\n",
      "Counter({0: 33363, 1: 3236, 2: 1219, 3: 382})\n",
      "Counter({0: 33363, 1: 3236, 2: 1219, 3: 382})\n"
     ]
    },
    {
     "name": "stderr",
     "output_type": "stream",
     "text": [
      "PyTorch: setting up devices\n",
      "The default value for the training argument `--report_to` will change in v5 (from all installed integrations to none). In v5, you will need to use `--report_to all` to get the same behavior as now. You should start updating your code and make this info disappear :-).\n",
      "/opt/conda/lib/python3.9/site-packages/transformers/optimization.py:306: FutureWarning: This implementation of AdamW is deprecated and will be removed in a future version. Use the PyTorch implementation torch.optim.AdamW instead, or set `no_deprecation_warning=True` to disable this warning\n",
      "  warnings.warn(\n",
      "***** Running training *****\n",
      "  Num examples = 38200\n",
      "  Num Epochs = 4\n",
      "  Instantaneous batch size per device = 8\n",
      "  Total train batch size (w. parallel, distributed & accumulation) = 8\n",
      "  Gradient Accumulation steps = 1\n",
      "  Total optimization steps = 19100\n"
     ]
    },
    {
     "data": {
      "text/html": [
       "\n",
       "    <div>\n",
       "      \n",
       "      <progress value='19100' max='19100' style='width:300px; height:20px; vertical-align: middle;'></progress>\n",
       "      [19100/19100 1:11:06, Epoch 4/4]\n",
       "    </div>\n",
       "    <table border=\"1\" class=\"dataframe\">\n",
       "  <thead>\n",
       " <tr style=\"text-align: left;\">\n",
       "      <th>Epoch</th>\n",
       "      <th>Training Loss</th>\n",
       "      <th>Validation Loss</th>\n",
       "      <th>Accuracy</th>\n",
       "      <th>Precision</th>\n",
       "      <th>Recall</th>\n",
       "      <th>F1</th>\n",
       "      <th>Precision Nonbully</th>\n",
       "      <th>Recall Nonbully</th>\n",
       "      <th>F1 Nonbully</th>\n",
       "      <th>Precision Harasser</th>\n",
       "      <th>Recall Harasser</th>\n",
       "      <th>F1 Harasser</th>\n",
       "      <th>Precision Victim</th>\n",
       "      <th>Recall Victim</th>\n",
       "      <th>F1 Victim</th>\n",
       "      <th>Precision Bydefender</th>\n",
       "      <th>Recall Bydefender</th>\n",
       "      <th>F1 Bydefender</th>\n",
       "    </tr>\n",
       "  </thead>\n",
       "  <tbody>\n",
       "    <tr>\n",
       "      <td>1</td>\n",
       "      <td>0.264200</td>\n",
       "      <td>0.114873</td>\n",
       "      <td>0.962138</td>\n",
       "      <td>0.508464</td>\n",
       "      <td>0.535499</td>\n",
       "      <td>0.510237</td>\n",
       "      <td>0.990184</td>\n",
       "      <td>0.981660</td>\n",
       "      <td>0.985904</td>\n",
       "      <td>0.546169</td>\n",
       "      <td>0.772222</td>\n",
       "      <td>0.639816</td>\n",
       "      <td>0.308824</td>\n",
       "      <td>0.155556</td>\n",
       "      <td>0.206897</td>\n",
       "      <td>0.188679</td>\n",
       "      <td>0.232558</td>\n",
       "      <td>0.208333</td>\n",
       "    </tr>\n",
       "    <tr>\n",
       "      <td>2</td>\n",
       "      <td>0.233400</td>\n",
       "      <td>0.140036</td>\n",
       "      <td>0.958040</td>\n",
       "      <td>0.506393</td>\n",
       "      <td>0.595873</td>\n",
       "      <td>0.539735</td>\n",
       "      <td>0.992660</td>\n",
       "      <td>0.974361</td>\n",
       "      <td>0.983425</td>\n",
       "      <td>0.532374</td>\n",
       "      <td>0.822222</td>\n",
       "      <td>0.646288</td>\n",
       "      <td>0.254386</td>\n",
       "      <td>0.214815</td>\n",
       "      <td>0.232932</td>\n",
       "      <td>0.246154</td>\n",
       "      <td>0.372093</td>\n",
       "      <td>0.296296</td>\n",
       "    </tr>\n",
       "    <tr>\n",
       "      <td>3</td>\n",
       "      <td>0.187500</td>\n",
       "      <td>0.134538</td>\n",
       "      <td>0.964187</td>\n",
       "      <td>0.590433</td>\n",
       "      <td>0.618263</td>\n",
       "      <td>0.599331</td>\n",
       "      <td>0.990647</td>\n",
       "      <td>0.981192</td>\n",
       "      <td>0.985897</td>\n",
       "      <td>0.574338</td>\n",
       "      <td>0.783333</td>\n",
       "      <td>0.662750</td>\n",
       "      <td>0.333333</td>\n",
       "      <td>0.266667</td>\n",
       "      <td>0.296296</td>\n",
       "      <td>0.463415</td>\n",
       "      <td>0.441860</td>\n",
       "      <td>0.452381</td>\n",
       "    </tr>\n",
       "    <tr>\n",
       "      <td>4</td>\n",
       "      <td>0.159200</td>\n",
       "      <td>0.149112</td>\n",
       "      <td>0.962049</td>\n",
       "      <td>0.598163</td>\n",
       "      <td>0.637208</td>\n",
       "      <td>0.610950</td>\n",
       "      <td>0.991929</td>\n",
       "      <td>0.977449</td>\n",
       "      <td>0.984636</td>\n",
       "      <td>0.578629</td>\n",
       "      <td>0.797222</td>\n",
       "      <td>0.670561</td>\n",
       "      <td>0.292683</td>\n",
       "      <td>0.355556</td>\n",
       "      <td>0.321070</td>\n",
       "      <td>0.529412</td>\n",
       "      <td>0.418605</td>\n",
       "      <td>0.467532</td>\n",
       "    </tr>\n",
       "  </tbody>\n",
       "</table><p>"
      ],
      "text/plain": [
       "<IPython.core.display.HTML object>"
      ]
     },
     "metadata": {},
     "output_type": "display_data"
    },
    {
     "name": "stderr",
     "output_type": "stream",
     "text": [
      "***** Running Evaluation *****\n",
      "  Num examples = 11225\n",
      "  Batch size = 8\n",
      "Saving model checkpoint to content/drive/MyDrive/output_DistilRoBerta/fold4/checkpoint-4775\n",
      "Configuration saved in content/drive/MyDrive/output_DistilRoBerta/fold4/checkpoint-4775/config.json\n",
      "Model weights saved in content/drive/MyDrive/output_DistilRoBerta/fold4/checkpoint-4775/pytorch_model.bin\n",
      "***** Running Evaluation *****\n",
      "  Num examples = 11225\n",
      "  Batch size = 8\n",
      "Saving model checkpoint to content/drive/MyDrive/output_DistilRoBerta/fold4/checkpoint-9550\n",
      "Configuration saved in content/drive/MyDrive/output_DistilRoBerta/fold4/checkpoint-9550/config.json\n",
      "Model weights saved in content/drive/MyDrive/output_DistilRoBerta/fold4/checkpoint-9550/pytorch_model.bin\n",
      "***** Running Evaluation *****\n",
      "  Num examples = 11225\n",
      "  Batch size = 8\n",
      "Saving model checkpoint to content/drive/MyDrive/output_DistilRoBerta/fold4/checkpoint-14325\n",
      "Configuration saved in content/drive/MyDrive/output_DistilRoBerta/fold4/checkpoint-14325/config.json\n",
      "Model weights saved in content/drive/MyDrive/output_DistilRoBerta/fold4/checkpoint-14325/pytorch_model.bin\n",
      "***** Running Evaluation *****\n",
      "  Num examples = 11225\n",
      "  Batch size = 8\n",
      "Saving model checkpoint to content/drive/MyDrive/output_DistilRoBerta/fold4/checkpoint-19100\n",
      "Configuration saved in content/drive/MyDrive/output_DistilRoBerta/fold4/checkpoint-19100/config.json\n",
      "Model weights saved in content/drive/MyDrive/output_DistilRoBerta/fold4/checkpoint-19100/pytorch_model.bin\n",
      "\n",
      "\n",
      "Training completed. Do not forget to share your model on huggingface.co/models =)\n",
      "\n",
      "\n",
      "Loading best model from content/drive/MyDrive/output_DistilRoBerta/fold4/checkpoint-4775 (score: 0.11487334966659546).\n",
      "4it [2:22:41, 2868.29s/it]"
     ]
    },
    {
     "name": "stdout",
     "output_type": "stream",
     "text": [
      "Complete for fold 4\n",
      "Running for Fold:  5\n",
      "38200\n",
      "Counter({0: 106872, 1: 3596, 2: 1354, 3: 425})\n",
      "Counter({0: 96185, 1: 3236, 2: 1219, 3: 382})\n",
      "Counter({0: 33363, 1: 3236, 2: 1219, 3: 382})\n",
      "Counter({0: 33363, 1: 3236, 2: 1219, 3: 382})\n"
     ]
    },
    {
     "name": "stderr",
     "output_type": "stream",
     "text": [
      "PyTorch: setting up devices\n",
      "The default value for the training argument `--report_to` will change in v5 (from all installed integrations to none). In v5, you will need to use `--report_to all` to get the same behavior as now. You should start updating your code and make this info disappear :-).\n",
      "/opt/conda/lib/python3.9/site-packages/transformers/optimization.py:306: FutureWarning: This implementation of AdamW is deprecated and will be removed in a future version. Use the PyTorch implementation torch.optim.AdamW instead, or set `no_deprecation_warning=True` to disable this warning\n",
      "  warnings.warn(\n",
      "***** Running training *****\n",
      "  Num examples = 38200\n",
      "  Num Epochs = 4\n",
      "  Instantaneous batch size per device = 8\n",
      "  Total train batch size (w. parallel, distributed & accumulation) = 8\n",
      "  Gradient Accumulation steps = 1\n",
      "  Total optimization steps = 19100\n"
     ]
    },
    {
     "data": {
      "text/html": [
       "\n",
       "    <div>\n",
       "      \n",
       "      <progress value='19100' max='19100' style='width:300px; height:20px; vertical-align: middle;'></progress>\n",
       "      [19100/19100 1:27:53, Epoch 4/4]\n",
       "    </div>\n",
       "    <table border=\"1\" class=\"dataframe\">\n",
       "  <thead>\n",
       " <tr style=\"text-align: left;\">\n",
       "      <th>Epoch</th>\n",
       "      <th>Training Loss</th>\n",
       "      <th>Validation Loss</th>\n",
       "      <th>Accuracy</th>\n",
       "      <th>Precision</th>\n",
       "      <th>Recall</th>\n",
       "      <th>F1</th>\n",
       "      <th>Precision Nonbully</th>\n",
       "      <th>Recall Nonbully</th>\n",
       "      <th>F1 Nonbully</th>\n",
       "      <th>Precision Harasser</th>\n",
       "      <th>Recall Harasser</th>\n",
       "      <th>F1 Harasser</th>\n",
       "      <th>Precision Victim</th>\n",
       "      <th>Recall Victim</th>\n",
       "      <th>F1 Victim</th>\n",
       "      <th>Precision Bydefender</th>\n",
       "      <th>Recall Bydefender</th>\n",
       "      <th>F1 Bydefender</th>\n",
       "    </tr>\n",
       "  </thead>\n",
       "  <tbody>\n",
       "    <tr>\n",
       "      <td>1</td>\n",
       "      <td>0.259600</td>\n",
       "      <td>0.131883</td>\n",
       "      <td>0.961336</td>\n",
       "      <td>0.521147</td>\n",
       "      <td>0.556876</td>\n",
       "      <td>0.530622</td>\n",
       "      <td>0.991560</td>\n",
       "      <td>0.978385</td>\n",
       "      <td>0.984928</td>\n",
       "      <td>0.555140</td>\n",
       "      <td>0.825000</td>\n",
       "      <td>0.663687</td>\n",
       "      <td>0.256637</td>\n",
       "      <td>0.214815</td>\n",
       "      <td>0.233871</td>\n",
       "      <td>0.281250</td>\n",
       "      <td>0.209302</td>\n",
       "      <td>0.240000</td>\n",
       "    </tr>\n",
       "    <tr>\n",
       "      <td>2</td>\n",
       "      <td>0.219900</td>\n",
       "      <td>0.132526</td>\n",
       "      <td>0.963653</td>\n",
       "      <td>0.568018</td>\n",
       "      <td>0.525850</td>\n",
       "      <td>0.513734</td>\n",
       "      <td>0.990370</td>\n",
       "      <td>0.981566</td>\n",
       "      <td>0.985949</td>\n",
       "      <td>0.538879</td>\n",
       "      <td>0.827778</td>\n",
       "      <td>0.652793</td>\n",
       "      <td>0.358209</td>\n",
       "      <td>0.177778</td>\n",
       "      <td>0.237624</td>\n",
       "      <td>0.384615</td>\n",
       "      <td>0.116279</td>\n",
       "      <td>0.178571</td>\n",
       "    </tr>\n",
       "    <tr>\n",
       "      <td>3</td>\n",
       "      <td>0.171300</td>\n",
       "      <td>0.139252</td>\n",
       "      <td>0.961514</td>\n",
       "      <td>0.668493</td>\n",
       "      <td>0.583926</td>\n",
       "      <td>0.582716</td>\n",
       "      <td>0.991555</td>\n",
       "      <td>0.977824</td>\n",
       "      <td>0.984641</td>\n",
       "      <td>0.530035</td>\n",
       "      <td>0.833333</td>\n",
       "      <td>0.647948</td>\n",
       "      <td>0.285714</td>\n",
       "      <td>0.222222</td>\n",
       "      <td>0.250000</td>\n",
       "      <td>0.866667</td>\n",
       "      <td>0.302326</td>\n",
       "      <td>0.448276</td>\n",
       "    </tr>\n",
       "    <tr>\n",
       "      <td>4</td>\n",
       "      <td>0.148200</td>\n",
       "      <td>0.145213</td>\n",
       "      <td>0.964276</td>\n",
       "      <td>0.644039</td>\n",
       "      <td>0.635904</td>\n",
       "      <td>0.629588</td>\n",
       "      <td>0.991483</td>\n",
       "      <td>0.980350</td>\n",
       "      <td>0.985885</td>\n",
       "      <td>0.593361</td>\n",
       "      <td>0.794444</td>\n",
       "      <td>0.679335</td>\n",
       "      <td>0.277027</td>\n",
       "      <td>0.303704</td>\n",
       "      <td>0.289753</td>\n",
       "      <td>0.714286</td>\n",
       "      <td>0.465116</td>\n",
       "      <td>0.563380</td>\n",
       "    </tr>\n",
       "  </tbody>\n",
       "</table><p>"
      ],
      "text/plain": [
       "<IPython.core.display.HTML object>"
      ]
     },
     "metadata": {},
     "output_type": "display_data"
    },
    {
     "name": "stderr",
     "output_type": "stream",
     "text": [
      "***** Running Evaluation *****\n",
      "  Num examples = 11225\n",
      "  Batch size = 8\n",
      "Saving model checkpoint to content/drive/MyDrive/output_DistilRoBerta/fold5/checkpoint-4775\n",
      "Configuration saved in content/drive/MyDrive/output_DistilRoBerta/fold5/checkpoint-4775/config.json\n",
      "Model weights saved in content/drive/MyDrive/output_DistilRoBerta/fold5/checkpoint-4775/pytorch_model.bin\n",
      "***** Running Evaluation *****\n",
      "  Num examples = 11225\n",
      "  Batch size = 8\n",
      "Saving model checkpoint to content/drive/MyDrive/output_DistilRoBerta/fold5/checkpoint-9550\n",
      "Configuration saved in content/drive/MyDrive/output_DistilRoBerta/fold5/checkpoint-9550/config.json\n",
      "Model weights saved in content/drive/MyDrive/output_DistilRoBerta/fold5/checkpoint-9550/pytorch_model.bin\n",
      "***** Running Evaluation *****\n",
      "  Num examples = 11225\n",
      "  Batch size = 8\n",
      "Saving model checkpoint to content/drive/MyDrive/output_DistilRoBerta/fold5/checkpoint-14325\n",
      "Configuration saved in content/drive/MyDrive/output_DistilRoBerta/fold5/checkpoint-14325/config.json\n",
      "Model weights saved in content/drive/MyDrive/output_DistilRoBerta/fold5/checkpoint-14325/pytorch_model.bin\n",
      "***** Running Evaluation *****\n",
      "  Num examples = 11225\n",
      "  Batch size = 8\n",
      "Saving model checkpoint to content/drive/MyDrive/output_DistilRoBerta/fold5/checkpoint-19100\n",
      "Configuration saved in content/drive/MyDrive/output_DistilRoBerta/fold5/checkpoint-19100/config.json\n",
      "Model weights saved in content/drive/MyDrive/output_DistilRoBerta/fold5/checkpoint-19100/pytorch_model.bin\n",
      "\n",
      "\n",
      "Training completed. Do not forget to share your model on huggingface.co/models =)\n",
      "\n",
      "\n",
      "Loading best model from content/drive/MyDrive/output_DistilRoBerta/fold5/checkpoint-4775 (score: 0.13188298046588898).\n",
      "5it [3:50:42, 2768.44s/it]"
     ]
    },
    {
     "name": "stdout",
     "output_type": "stream",
     "text": [
      "Complete for fold 5\n"
     ]
    },
    {
     "name": "stderr",
     "output_type": "stream",
     "text": [
      "\n"
     ]
    }
   ],
   "source": [
    "run_cross_validation(model_name='DistilRoBerta',\n",
    "                         X=X,\n",
    "                         y=y, \n",
    "                         splits=5,\n",
    "                         epoch=4,\n",
    "                         checkpoint=True)"
   ]
  },
  {
   "cell_type": "markdown",
   "id": "bcf802b6-b1f3-435b-bb76-904f660998be",
   "metadata": {},
   "source": [
    "### [Continue] Cross Validation (K = 5)"
   ]
  },
  {
   "cell_type": "code",
   "execution_count": 9,
   "id": "219d8553-1982-43bf-90d3-335ae34a8cbf",
   "metadata": {},
   "outputs": [
    {
     "name": "stdout",
     "output_type": "stream",
     "text": [
      "Developing Model with Cross validation for: DistilRoBerta\n"
     ]
    },
    {
     "name": "stderr",
     "output_type": "stream",
     "text": [
      "0it [00:00, ?it/s]"
     ]
    },
    {
     "name": "stdout",
     "output_type": "stream",
     "text": [
      "Running for Fold:  1\n",
      "38200\n",
      "Counter({0: 106872, 1: 3596, 2: 1354, 3: 425})\n",
      "Counter({0: 96185, 1: 3236, 2: 1219, 3: 382})\n",
      "Counter({0: 33363, 1: 3236, 2: 1219, 3: 382})\n",
      "Counter({0: 33363, 1: 3236, 2: 1219, 3: 382})\n"
     ]
    },
    {
     "name": "stderr",
     "output_type": "stream",
     "text": [
      "Loading model from content/drive/MyDrive/output_DistilRoBerta/fold1/checkpoint-19100).\n",
      "/opt/conda/lib/python3.9/site-packages/transformers/optimization.py:306: FutureWarning: This implementation of AdamW is deprecated and will be removed in a future version. Use the PyTorch implementation torch.optim.AdamW instead, or set `no_deprecation_warning=True` to disable this warning\n",
      "  warnings.warn(\n",
      "***** Running training *****\n",
      "  Num examples = 38200\n",
      "  Num Epochs = 8\n",
      "  Instantaneous batch size per device = 8\n",
      "  Total train batch size (w. parallel, distributed & accumulation) = 8\n",
      "  Gradient Accumulation steps = 1\n",
      "  Total optimization steps = 38200\n",
      "  Continuing training from checkpoint, will skip to saved global_step\n",
      "  Continuing training from epoch 4\n",
      "  Continuing training from global step 19100\n",
      "  Will skip the first 4 epochs then the first 0 batches in the first epoch. If this takes a lot of time, you can add the `--ignore_data_skip` flag to your launch command, but you will resume the training on data already seen by your model.\n"
     ]
    },
    {
     "data": {
      "application/vnd.jupyter.widget-view+json": {
       "model_id": "a6b23cab6d4442c0bac9bd73cf072733",
       "version_major": 2,
       "version_minor": 0
      },
      "text/plain": [
       "0it [00:00, ?it/s]"
      ]
     },
     "metadata": {},
     "output_type": "display_data"
    },
    {
     "data": {
      "text/html": [
       "\n",
       "    <div>\n",
       "      \n",
       "      <progress value='33425' max='38200' style='width:300px; height:20px; vertical-align: middle;'></progress>\n",
       "      [33425/38200 53:27 < 17:49, 4.47 it/s, Epoch 7/8]\n",
       "    </div>\n",
       "    <table border=\"1\" class=\"dataframe\">\n",
       "  <thead>\n",
       " <tr style=\"text-align: left;\">\n",
       "      <th>Epoch</th>\n",
       "      <th>Training Loss</th>\n",
       "      <th>Validation Loss</th>\n",
       "      <th>Accuracy</th>\n",
       "      <th>Precision</th>\n",
       "      <th>Recall</th>\n",
       "      <th>F1</th>\n",
       "      <th>Precision Nonbully</th>\n",
       "      <th>Recall Nonbully</th>\n",
       "      <th>F1 Nonbully</th>\n",
       "      <th>Precision Harasser</th>\n",
       "      <th>Recall Harasser</th>\n",
       "      <th>F1 Harasser</th>\n",
       "      <th>Precision Victim</th>\n",
       "      <th>Recall Victim</th>\n",
       "      <th>F1 Victim</th>\n",
       "      <th>Precision Bydefender</th>\n",
       "      <th>Recall Bydefender</th>\n",
       "      <th>F1 Bydefender</th>\n",
       "    </tr>\n",
       "  </thead>\n",
       "  <tbody>\n",
       "    <tr>\n",
       "      <td>5</td>\n",
       "      <td>0.226200</td>\n",
       "      <td>0.188010</td>\n",
       "      <td>0.945212</td>\n",
       "      <td>0.535039</td>\n",
       "      <td>0.479609</td>\n",
       "      <td>0.450243</td>\n",
       "      <td>0.985113</td>\n",
       "      <td>0.965940</td>\n",
       "      <td>0.975432</td>\n",
       "      <td>0.395954</td>\n",
       "      <td>0.761111</td>\n",
       "      <td>0.520913</td>\n",
       "      <td>0.159091</td>\n",
       "      <td>0.051852</td>\n",
       "      <td>0.078212</td>\n",
       "      <td>0.600000</td>\n",
       "      <td>0.139535</td>\n",
       "      <td>0.226415</td>\n",
       "    </tr>\n",
       "    <tr>\n",
       "      <td>6</td>\n",
       "      <td>0.195700</td>\n",
       "      <td>0.203962</td>\n",
       "      <td>0.937906</td>\n",
       "      <td>0.462706</td>\n",
       "      <td>0.502407</td>\n",
       "      <td>0.470329</td>\n",
       "      <td>0.985408</td>\n",
       "      <td>0.960513</td>\n",
       "      <td>0.972801</td>\n",
       "      <td>0.391304</td>\n",
       "      <td>0.625000</td>\n",
       "      <td>0.481283</td>\n",
       "      <td>0.140777</td>\n",
       "      <td>0.214815</td>\n",
       "      <td>0.170088</td>\n",
       "      <td>0.333333</td>\n",
       "      <td>0.209302</td>\n",
       "      <td>0.257143</td>\n",
       "    </tr>\n",
       "    <tr>\n",
       "      <td>7</td>\n",
       "      <td>0.197500</td>\n",
       "      <td>0.230034</td>\n",
       "      <td>0.944766</td>\n",
       "      <td>0.488285</td>\n",
       "      <td>0.525053</td>\n",
       "      <td>0.500762</td>\n",
       "      <td>0.984198</td>\n",
       "      <td>0.967437</td>\n",
       "      <td>0.975746</td>\n",
       "      <td>0.447581</td>\n",
       "      <td>0.616667</td>\n",
       "      <td>0.518692</td>\n",
       "      <td>0.168421</td>\n",
       "      <td>0.237037</td>\n",
       "      <td>0.196923</td>\n",
       "      <td>0.352941</td>\n",
       "      <td>0.279070</td>\n",
       "      <td>0.311688</td>\n",
       "    </tr>\n",
       "  </tbody>\n",
       "</table><p>"
      ],
      "text/plain": [
       "<IPython.core.display.HTML object>"
      ]
     },
     "metadata": {},
     "output_type": "display_data"
    },
    {
     "name": "stderr",
     "output_type": "stream",
     "text": [
      "***** Running Evaluation *****\n",
      "  Num examples = 11225\n",
      "  Batch size = 8\n",
      "Saving model checkpoint to content/drive/MyDrive/output_DistilRoBerta/fold1/checkpoint-23875\n",
      "Configuration saved in content/drive/MyDrive/output_DistilRoBerta/fold1/checkpoint-23875/config.json\n",
      "Model weights saved in content/drive/MyDrive/output_DistilRoBerta/fold1/checkpoint-23875/pytorch_model.bin\n",
      "***** Running Evaluation *****\n",
      "  Num examples = 11225\n",
      "  Batch size = 8\n",
      "Saving model checkpoint to content/drive/MyDrive/output_DistilRoBerta/fold1/checkpoint-28650\n",
      "Configuration saved in content/drive/MyDrive/output_DistilRoBerta/fold1/checkpoint-28650/config.json\n",
      "Model weights saved in content/drive/MyDrive/output_DistilRoBerta/fold1/checkpoint-28650/pytorch_model.bin\n",
      "***** Running Evaluation *****\n",
      "  Num examples = 11225\n",
      "  Batch size = 8\n",
      "Saving model checkpoint to content/drive/MyDrive/output_DistilRoBerta/fold1/checkpoint-33425\n",
      "Configuration saved in content/drive/MyDrive/output_DistilRoBerta/fold1/checkpoint-33425/config.json\n",
      "Model weights saved in content/drive/MyDrive/output_DistilRoBerta/fold1/checkpoint-33425/pytorch_model.bin\n",
      "\n",
      "\n",
      "Training completed. Do not forget to share your model on huggingface.co/models =)\n",
      "\n",
      "\n",
      "Loading best model from content/drive/MyDrive/output_DistilRoBerta/fold1/checkpoint-14325 (score: 0.14869321882724762).\n",
      "1it [54:20, 3260.24s/it]"
     ]
    },
    {
     "name": "stdout",
     "output_type": "stream",
     "text": [
      "Complete for fold 1\n",
      "Running for Fold:  2\n",
      "38200\n",
      "Counter({0: 106872, 1: 3596, 2: 1354, 3: 425})\n",
      "Counter({0: 96185, 1: 3236, 2: 1219, 3: 382})\n",
      "Counter({0: 33363, 1: 3236, 2: 1219, 3: 382})\n",
      "Counter({0: 33363, 1: 3236, 2: 1219, 3: 382})\n"
     ]
    },
    {
     "name": "stderr",
     "output_type": "stream",
     "text": [
      "PyTorch: setting up devices\n",
      "The default value for the training argument `--report_to` will change in v5 (from all installed integrations to none). In v5, you will need to use `--report_to all` to get the same behavior as now. You should start updating your code and make this info disappear :-).\n",
      "Loading model from content/drive/MyDrive/output_DistilRoBerta/fold2/checkpoint-19100).\n",
      "/opt/conda/lib/python3.9/site-packages/transformers/optimization.py:306: FutureWarning: This implementation of AdamW is deprecated and will be removed in a future version. Use the PyTorch implementation torch.optim.AdamW instead, or set `no_deprecation_warning=True` to disable this warning\n",
      "  warnings.warn(\n",
      "***** Running training *****\n",
      "  Num examples = 38200\n",
      "  Num Epochs = 8\n",
      "  Instantaneous batch size per device = 8\n",
      "  Total train batch size (w. parallel, distributed & accumulation) = 8\n",
      "  Gradient Accumulation steps = 1\n",
      "  Total optimization steps = 38200\n",
      "  Continuing training from checkpoint, will skip to saved global_step\n",
      "  Continuing training from epoch 4\n",
      "  Continuing training from global step 19100\n",
      "  Will skip the first 4 epochs then the first 0 batches in the first epoch. If this takes a lot of time, you can add the `--ignore_data_skip` flag to your launch command, but you will resume the training on data already seen by your model.\n"
     ]
    },
    {
     "data": {
      "application/vnd.jupyter.widget-view+json": {
       "model_id": "f414c66271844a62ba8741485297a0cc",
       "version_major": 2,
       "version_minor": 0
      },
      "text/plain": [
       "0it [00:00, ?it/s]"
      ]
     },
     "metadata": {},
     "output_type": "display_data"
    },
    {
     "data": {
      "text/html": [
       "\n",
       "    <div>\n",
       "      \n",
       "      <progress value='33425' max='38200' style='width:300px; height:20px; vertical-align: middle;'></progress>\n",
       "      [33425/38200 52:41 < 17:33, 4.53 it/s, Epoch 7/8]\n",
       "    </div>\n",
       "    <table border=\"1\" class=\"dataframe\">\n",
       "  <thead>\n",
       " <tr style=\"text-align: left;\">\n",
       "      <th>Epoch</th>\n",
       "      <th>Training Loss</th>\n",
       "      <th>Validation Loss</th>\n",
       "      <th>Accuracy</th>\n",
       "      <th>Precision</th>\n",
       "      <th>Recall</th>\n",
       "      <th>F1</th>\n",
       "      <th>Precision Nonbully</th>\n",
       "      <th>Recall Nonbully</th>\n",
       "      <th>F1 Nonbully</th>\n",
       "      <th>Precision Harasser</th>\n",
       "      <th>Recall Harasser</th>\n",
       "      <th>F1 Harasser</th>\n",
       "      <th>Precision Victim</th>\n",
       "      <th>Recall Victim</th>\n",
       "      <th>F1 Victim</th>\n",
       "      <th>Precision Bydefender</th>\n",
       "      <th>Recall Bydefender</th>\n",
       "      <th>F1 Bydefender</th>\n",
       "    </tr>\n",
       "  </thead>\n",
       "  <tbody>\n",
       "    <tr>\n",
       "      <td>5</td>\n",
       "      <td>0.190800</td>\n",
       "      <td>0.169493</td>\n",
       "      <td>0.955100</td>\n",
       "      <td>0.534687</td>\n",
       "      <td>0.526500</td>\n",
       "      <td>0.520004</td>\n",
       "      <td>0.985269</td>\n",
       "      <td>0.976326</td>\n",
       "      <td>0.980777</td>\n",
       "      <td>0.532468</td>\n",
       "      <td>0.683333</td>\n",
       "      <td>0.598540</td>\n",
       "      <td>0.211921</td>\n",
       "      <td>0.237037</td>\n",
       "      <td>0.223776</td>\n",
       "      <td>0.409091</td>\n",
       "      <td>0.209302</td>\n",
       "      <td>0.276923</td>\n",
       "    </tr>\n",
       "    <tr>\n",
       "      <td>6</td>\n",
       "      <td>0.184100</td>\n",
       "      <td>0.194782</td>\n",
       "      <td>0.953229</td>\n",
       "      <td>0.534348</td>\n",
       "      <td>0.556186</td>\n",
       "      <td>0.538694</td>\n",
       "      <td>0.986251</td>\n",
       "      <td>0.973239</td>\n",
       "      <td>0.979701</td>\n",
       "      <td>0.501961</td>\n",
       "      <td>0.711111</td>\n",
       "      <td>0.588506</td>\n",
       "      <td>0.211679</td>\n",
       "      <td>0.214815</td>\n",
       "      <td>0.213235</td>\n",
       "      <td>0.437500</td>\n",
       "      <td>0.325581</td>\n",
       "      <td>0.373333</td>\n",
       "    </tr>\n",
       "    <tr>\n",
       "      <td>7</td>\n",
       "      <td>0.158200</td>\n",
       "      <td>0.202358</td>\n",
       "      <td>0.951893</td>\n",
       "      <td>0.530791</td>\n",
       "      <td>0.567225</td>\n",
       "      <td>0.543247</td>\n",
       "      <td>0.986702</td>\n",
       "      <td>0.972022</td>\n",
       "      <td>0.979307</td>\n",
       "      <td>0.507307</td>\n",
       "      <td>0.675000</td>\n",
       "      <td>0.579261</td>\n",
       "      <td>0.217391</td>\n",
       "      <td>0.296296</td>\n",
       "      <td>0.250784</td>\n",
       "      <td>0.411765</td>\n",
       "      <td>0.325581</td>\n",
       "      <td>0.363636</td>\n",
       "    </tr>\n",
       "  </tbody>\n",
       "</table><p>"
      ],
      "text/plain": [
       "<IPython.core.display.HTML object>"
      ]
     },
     "metadata": {},
     "output_type": "display_data"
    },
    {
     "name": "stderr",
     "output_type": "stream",
     "text": [
      "***** Running Evaluation *****\n",
      "  Num examples = 11225\n",
      "  Batch size = 8\n",
      "Saving model checkpoint to content/drive/MyDrive/output_DistilRoBerta/fold2/checkpoint-23875\n",
      "Configuration saved in content/drive/MyDrive/output_DistilRoBerta/fold2/checkpoint-23875/config.json\n",
      "Model weights saved in content/drive/MyDrive/output_DistilRoBerta/fold2/checkpoint-23875/pytorch_model.bin\n",
      "***** Running Evaluation *****\n",
      "  Num examples = 11225\n",
      "  Batch size = 8\n",
      "Saving model checkpoint to content/drive/MyDrive/output_DistilRoBerta/fold2/checkpoint-28650\n",
      "Configuration saved in content/drive/MyDrive/output_DistilRoBerta/fold2/checkpoint-28650/config.json\n",
      "Model weights saved in content/drive/MyDrive/output_DistilRoBerta/fold2/checkpoint-28650/pytorch_model.bin\n",
      "***** Running Evaluation *****\n",
      "  Num examples = 11225\n",
      "  Batch size = 8\n",
      "Saving model checkpoint to content/drive/MyDrive/output_DistilRoBerta/fold2/checkpoint-33425\n",
      "Configuration saved in content/drive/MyDrive/output_DistilRoBerta/fold2/checkpoint-33425/config.json\n",
      "Model weights saved in content/drive/MyDrive/output_DistilRoBerta/fold2/checkpoint-33425/pytorch_model.bin\n",
      "\n",
      "\n",
      "Training completed. Do not forget to share your model on huggingface.co/models =)\n",
      "\n",
      "\n",
      "Loading best model from content/drive/MyDrive/output_DistilRoBerta/fold2/checkpoint-4775 (score: 0.14023877680301666).\n",
      "2it [1:47:52, 3231.85s/it]"
     ]
    },
    {
     "name": "stdout",
     "output_type": "stream",
     "text": [
      "Complete for fold 2\n",
      "Running for Fold:  3\n",
      "38200\n",
      "Counter({0: 106872, 1: 3596, 2: 1354, 3: 425})\n",
      "Counter({0: 96185, 1: 3236, 2: 1219, 3: 382})\n",
      "Counter({0: 33363, 1: 3236, 2: 1219, 3: 382})\n",
      "Counter({0: 33363, 1: 3236, 2: 1219, 3: 382})\n"
     ]
    },
    {
     "name": "stderr",
     "output_type": "stream",
     "text": [
      "PyTorch: setting up devices\n",
      "The default value for the training argument `--report_to` will change in v5 (from all installed integrations to none). In v5, you will need to use `--report_to all` to get the same behavior as now. You should start updating your code and make this info disappear :-).\n",
      "Loading model from content/drive/MyDrive/output_DistilRoBerta/fold3/checkpoint-19100).\n",
      "/opt/conda/lib/python3.9/site-packages/transformers/optimization.py:306: FutureWarning: This implementation of AdamW is deprecated and will be removed in a future version. Use the PyTorch implementation torch.optim.AdamW instead, or set `no_deprecation_warning=True` to disable this warning\n",
      "  warnings.warn(\n",
      "***** Running training *****\n",
      "  Num examples = 38200\n",
      "  Num Epochs = 8\n",
      "  Instantaneous batch size per device = 8\n",
      "  Total train batch size (w. parallel, distributed & accumulation) = 8\n",
      "  Gradient Accumulation steps = 1\n",
      "  Total optimization steps = 38200\n",
      "  Continuing training from checkpoint, will skip to saved global_step\n",
      "  Continuing training from epoch 4\n",
      "  Continuing training from global step 19100\n",
      "  Will skip the first 4 epochs then the first 0 batches in the first epoch. If this takes a lot of time, you can add the `--ignore_data_skip` flag to your launch command, but you will resume the training on data already seen by your model.\n"
     ]
    },
    {
     "data": {
      "application/vnd.jupyter.widget-view+json": {
       "model_id": "c731ebeeaea04620953b957b987cee35",
       "version_major": 2,
       "version_minor": 0
      },
      "text/plain": [
       "0it [00:00, ?it/s]"
      ]
     },
     "metadata": {},
     "output_type": "display_data"
    },
    {
     "data": {
      "text/html": [
       "\n",
       "    <div>\n",
       "      \n",
       "      <progress value='33425' max='38200' style='width:300px; height:20px; vertical-align: middle;'></progress>\n",
       "      [33425/38200 53:24 < 17:48, 4.47 it/s, Epoch 7/8]\n",
       "    </div>\n",
       "    <table border=\"1\" class=\"dataframe\">\n",
       "  <thead>\n",
       " <tr style=\"text-align: left;\">\n",
       "      <th>Epoch</th>\n",
       "      <th>Training Loss</th>\n",
       "      <th>Validation Loss</th>\n",
       "      <th>Accuracy</th>\n",
       "      <th>Precision</th>\n",
       "      <th>Recall</th>\n",
       "      <th>F1</th>\n",
       "      <th>Precision Nonbully</th>\n",
       "      <th>Recall Nonbully</th>\n",
       "      <th>F1 Nonbully</th>\n",
       "      <th>Precision Harasser</th>\n",
       "      <th>Recall Harasser</th>\n",
       "      <th>F1 Harasser</th>\n",
       "      <th>Precision Victim</th>\n",
       "      <th>Recall Victim</th>\n",
       "      <th>F1 Victim</th>\n",
       "      <th>Precision Bydefender</th>\n",
       "      <th>Recall Bydefender</th>\n",
       "      <th>F1 Bydefender</th>\n",
       "    </tr>\n",
       "  </thead>\n",
       "  <tbody>\n",
       "    <tr>\n",
       "      <td>5</td>\n",
       "      <td>0.174600</td>\n",
       "      <td>0.164296</td>\n",
       "      <td>0.955991</td>\n",
       "      <td>0.430036</td>\n",
       "      <td>0.494682</td>\n",
       "      <td>0.456855</td>\n",
       "      <td>0.989282</td>\n",
       "      <td>0.975952</td>\n",
       "      <td>0.982572</td>\n",
       "      <td>0.554393</td>\n",
       "      <td>0.736111</td>\n",
       "      <td>0.632458</td>\n",
       "      <td>0.176471</td>\n",
       "      <td>0.266667</td>\n",
       "      <td>0.212389</td>\n",
       "      <td>0.000000</td>\n",
       "      <td>0.000000</td>\n",
       "      <td>0.000000</td>\n",
       "    </tr>\n",
       "    <tr>\n",
       "      <td>6</td>\n",
       "      <td>0.169300</td>\n",
       "      <td>0.179875</td>\n",
       "      <td>0.954031</td>\n",
       "      <td>0.492330</td>\n",
       "      <td>0.588829</td>\n",
       "      <td>0.530521</td>\n",
       "      <td>0.989349</td>\n",
       "      <td>0.973426</td>\n",
       "      <td>0.981323</td>\n",
       "      <td>0.527054</td>\n",
       "      <td>0.730556</td>\n",
       "      <td>0.612340</td>\n",
       "      <td>0.157143</td>\n",
       "      <td>0.162963</td>\n",
       "      <td>0.160000</td>\n",
       "      <td>0.295775</td>\n",
       "      <td>0.488372</td>\n",
       "      <td>0.368421</td>\n",
       "    </tr>\n",
       "    <tr>\n",
       "      <td>7</td>\n",
       "      <td>0.158100</td>\n",
       "      <td>0.175135</td>\n",
       "      <td>0.957238</td>\n",
       "      <td>0.530245</td>\n",
       "      <td>0.590757</td>\n",
       "      <td>0.557189</td>\n",
       "      <td>0.988737</td>\n",
       "      <td>0.977543</td>\n",
       "      <td>0.983108</td>\n",
       "      <td>0.576112</td>\n",
       "      <td>0.683333</td>\n",
       "      <td>0.625159</td>\n",
       "      <td>0.178771</td>\n",
       "      <td>0.237037</td>\n",
       "      <td>0.203822</td>\n",
       "      <td>0.377358</td>\n",
       "      <td>0.465116</td>\n",
       "      <td>0.416667</td>\n",
       "    </tr>\n",
       "  </tbody>\n",
       "</table><p>"
      ],
      "text/plain": [
       "<IPython.core.display.HTML object>"
      ]
     },
     "metadata": {},
     "output_type": "display_data"
    },
    {
     "name": "stderr",
     "output_type": "stream",
     "text": [
      "***** Running Evaluation *****\n",
      "  Num examples = 11225\n",
      "  Batch size = 8\n",
      "/opt/conda/lib/python3.9/site-packages/sklearn/metrics/_classification.py:1318: UndefinedMetricWarning: Precision is ill-defined and being set to 0.0 in labels with no predicted samples. Use `zero_division` parameter to control this behavior.\n",
      "  _warn_prf(average, modifier, msg_start, len(result))\n",
      "/opt/conda/lib/python3.9/site-packages/sklearn/metrics/_classification.py:1318: UndefinedMetricWarning: Precision is ill-defined and being set to 0.0 in labels with no predicted samples. Use `zero_division` parameter to control this behavior.\n",
      "  _warn_prf(average, modifier, msg_start, len(result))\n",
      "/opt/conda/lib/python3.9/site-packages/sklearn/metrics/_classification.py:1318: UndefinedMetricWarning: Precision is ill-defined and being set to 0.0 in labels with no predicted samples. Use `zero_division` parameter to control this behavior.\n",
      "  _warn_prf(average, modifier, msg_start, len(result))\n",
      "/opt/conda/lib/python3.9/site-packages/sklearn/metrics/_classification.py:1318: UndefinedMetricWarning: Precision is ill-defined and being set to 0.0 in labels with no predicted samples. Use `zero_division` parameter to control this behavior.\n",
      "  _warn_prf(average, modifier, msg_start, len(result))\n",
      "/opt/conda/lib/python3.9/site-packages/sklearn/metrics/_classification.py:1318: UndefinedMetricWarning: Precision is ill-defined and being set to 0.0 in labels with no predicted samples. Use `zero_division` parameter to control this behavior.\n",
      "  _warn_prf(average, modifier, msg_start, len(result))\n",
      "Saving model checkpoint to content/drive/MyDrive/output_DistilRoBerta/fold3/checkpoint-23875\n",
      "Configuration saved in content/drive/MyDrive/output_DistilRoBerta/fold3/checkpoint-23875/config.json\n",
      "Model weights saved in content/drive/MyDrive/output_DistilRoBerta/fold3/checkpoint-23875/pytorch_model.bin\n",
      "***** Running Evaluation *****\n",
      "  Num examples = 11225\n",
      "  Batch size = 8\n",
      "Saving model checkpoint to content/drive/MyDrive/output_DistilRoBerta/fold3/checkpoint-28650\n",
      "Configuration saved in content/drive/MyDrive/output_DistilRoBerta/fold3/checkpoint-28650/config.json\n",
      "Model weights saved in content/drive/MyDrive/output_DistilRoBerta/fold3/checkpoint-28650/pytorch_model.bin\n",
      "***** Running Evaluation *****\n",
      "  Num examples = 11225\n",
      "  Batch size = 8\n",
      "Saving model checkpoint to content/drive/MyDrive/output_DistilRoBerta/fold3/checkpoint-33425\n",
      "Configuration saved in content/drive/MyDrive/output_DistilRoBerta/fold3/checkpoint-33425/config.json\n",
      "Model weights saved in content/drive/MyDrive/output_DistilRoBerta/fold3/checkpoint-33425/pytorch_model.bin\n",
      "\n",
      "\n",
      "Training completed. Do not forget to share your model on huggingface.co/models =)\n",
      "\n",
      "\n",
      "Loading best model from content/drive/MyDrive/output_DistilRoBerta/fold3/checkpoint-9550 (score: 0.1470034271478653).\n",
      "3it [2:42:52, 3262.93s/it]"
     ]
    },
    {
     "name": "stdout",
     "output_type": "stream",
     "text": [
      "Complete for fold 3\n",
      "Running for Fold:  4\n",
      "38200\n",
      "Counter({0: 106872, 1: 3596, 2: 1354, 3: 425})\n",
      "Counter({0: 96185, 1: 3236, 2: 1219, 3: 382})\n",
      "Counter({0: 33363, 1: 3236, 2: 1219, 3: 382})\n",
      "Counter({0: 33363, 1: 3236, 2: 1219, 3: 382})\n"
     ]
    },
    {
     "name": "stderr",
     "output_type": "stream",
     "text": [
      "PyTorch: setting up devices\n",
      "The default value for the training argument `--report_to` will change in v5 (from all installed integrations to none). In v5, you will need to use `--report_to all` to get the same behavior as now. You should start updating your code and make this info disappear :-).\n",
      "Loading model from content/drive/MyDrive/output_DistilRoBerta/fold4/checkpoint-19100).\n",
      "/opt/conda/lib/python3.9/site-packages/transformers/optimization.py:306: FutureWarning: This implementation of AdamW is deprecated and will be removed in a future version. Use the PyTorch implementation torch.optim.AdamW instead, or set `no_deprecation_warning=True` to disable this warning\n",
      "  warnings.warn(\n",
      "***** Running training *****\n",
      "  Num examples = 38200\n",
      "  Num Epochs = 8\n",
      "  Instantaneous batch size per device = 8\n",
      "  Total train batch size (w. parallel, distributed & accumulation) = 8\n",
      "  Gradient Accumulation steps = 1\n",
      "  Total optimization steps = 38200\n",
      "  Continuing training from checkpoint, will skip to saved global_step\n",
      "  Continuing training from epoch 4\n",
      "  Continuing training from global step 19100\n",
      "  Will skip the first 4 epochs then the first 0 batches in the first epoch. If this takes a lot of time, you can add the `--ignore_data_skip` flag to your launch command, but you will resume the training on data already seen by your model.\n"
     ]
    },
    {
     "data": {
      "application/vnd.jupyter.widget-view+json": {
       "model_id": "cd6a8753674348778e87774fed2a6bda",
       "version_major": 2,
       "version_minor": 0
      },
      "text/plain": [
       "0it [00:00, ?it/s]"
      ]
     },
     "metadata": {},
     "output_type": "display_data"
    },
    {
     "data": {
      "text/html": [
       "\n",
       "    <div>\n",
       "      \n",
       "      <progress value='33425' max='38200' style='width:300px; height:20px; vertical-align: middle;'></progress>\n",
       "      [33425/38200 53:25 < 17:48, 4.47 it/s, Epoch 7/8]\n",
       "    </div>\n",
       "    <table border=\"1\" class=\"dataframe\">\n",
       "  <thead>\n",
       " <tr style=\"text-align: left;\">\n",
       "      <th>Epoch</th>\n",
       "      <th>Training Loss</th>\n",
       "      <th>Validation Loss</th>\n",
       "      <th>Accuracy</th>\n",
       "      <th>Precision</th>\n",
       "      <th>Recall</th>\n",
       "      <th>F1</th>\n",
       "      <th>Precision Nonbully</th>\n",
       "      <th>Recall Nonbully</th>\n",
       "      <th>F1 Nonbully</th>\n",
       "      <th>Precision Harasser</th>\n",
       "      <th>Recall Harasser</th>\n",
       "      <th>F1 Harasser</th>\n",
       "      <th>Precision Victim</th>\n",
       "      <th>Recall Victim</th>\n",
       "      <th>F1 Victim</th>\n",
       "      <th>Precision Bydefender</th>\n",
       "      <th>Recall Bydefender</th>\n",
       "      <th>F1 Bydefender</th>\n",
       "    </tr>\n",
       "  </thead>\n",
       "  <tbody>\n",
       "    <tr>\n",
       "      <td>5</td>\n",
       "      <td>0.157400</td>\n",
       "      <td>0.135673</td>\n",
       "      <td>0.962851</td>\n",
       "      <td>0.607593</td>\n",
       "      <td>0.624982</td>\n",
       "      <td>0.607525</td>\n",
       "      <td>0.991469</td>\n",
       "      <td>0.978759</td>\n",
       "      <td>0.985073</td>\n",
       "      <td>0.584711</td>\n",
       "      <td>0.786111</td>\n",
       "      <td>0.670616</td>\n",
       "      <td>0.302469</td>\n",
       "      <td>0.362963</td>\n",
       "      <td>0.329966</td>\n",
       "      <td>0.551724</td>\n",
       "      <td>0.372093</td>\n",
       "      <td>0.444444</td>\n",
       "    </tr>\n",
       "    <tr>\n",
       "      <td>6</td>\n",
       "      <td>0.158800</td>\n",
       "      <td>0.156267</td>\n",
       "      <td>0.964543</td>\n",
       "      <td>0.618620</td>\n",
       "      <td>0.627865</td>\n",
       "      <td>0.617232</td>\n",
       "      <td>0.990269</td>\n",
       "      <td>0.980818</td>\n",
       "      <td>0.985521</td>\n",
       "      <td>0.578732</td>\n",
       "      <td>0.786111</td>\n",
       "      <td>0.666667</td>\n",
       "      <td>0.376068</td>\n",
       "      <td>0.325926</td>\n",
       "      <td>0.349206</td>\n",
       "      <td>0.529412</td>\n",
       "      <td>0.418605</td>\n",
       "      <td>0.467532</td>\n",
       "    </tr>\n",
       "    <tr>\n",
       "      <td>7</td>\n",
       "      <td>0.131000</td>\n",
       "      <td>0.163622</td>\n",
       "      <td>0.964276</td>\n",
       "      <td>0.603414</td>\n",
       "      <td>0.635285</td>\n",
       "      <td>0.617020</td>\n",
       "      <td>0.989808</td>\n",
       "      <td>0.981473</td>\n",
       "      <td>0.985623</td>\n",
       "      <td>0.595604</td>\n",
       "      <td>0.752778</td>\n",
       "      <td>0.665031</td>\n",
       "      <td>0.328244</td>\n",
       "      <td>0.318519</td>\n",
       "      <td>0.323308</td>\n",
       "      <td>0.500000</td>\n",
       "      <td>0.488372</td>\n",
       "      <td>0.494118</td>\n",
       "    </tr>\n",
       "  </tbody>\n",
       "</table><p>"
      ],
      "text/plain": [
       "<IPython.core.display.HTML object>"
      ]
     },
     "metadata": {},
     "output_type": "display_data"
    },
    {
     "name": "stderr",
     "output_type": "stream",
     "text": [
      "***** Running Evaluation *****\n",
      "  Num examples = 11225\n",
      "  Batch size = 8\n",
      "Saving model checkpoint to content/drive/MyDrive/output_DistilRoBerta/fold4/checkpoint-23875\n",
      "Configuration saved in content/drive/MyDrive/output_DistilRoBerta/fold4/checkpoint-23875/config.json\n",
      "Model weights saved in content/drive/MyDrive/output_DistilRoBerta/fold4/checkpoint-23875/pytorch_model.bin\n",
      "***** Running Evaluation *****\n",
      "  Num examples = 11225\n",
      "  Batch size = 8\n",
      "Saving model checkpoint to content/drive/MyDrive/output_DistilRoBerta/fold4/checkpoint-28650\n",
      "Configuration saved in content/drive/MyDrive/output_DistilRoBerta/fold4/checkpoint-28650/config.json\n",
      "Model weights saved in content/drive/MyDrive/output_DistilRoBerta/fold4/checkpoint-28650/pytorch_model.bin\n",
      "***** Running Evaluation *****\n",
      "  Num examples = 11225\n",
      "  Batch size = 8\n",
      "Saving model checkpoint to content/drive/MyDrive/output_DistilRoBerta/fold4/checkpoint-33425\n",
      "Configuration saved in content/drive/MyDrive/output_DistilRoBerta/fold4/checkpoint-33425/config.json\n",
      "Model weights saved in content/drive/MyDrive/output_DistilRoBerta/fold4/checkpoint-33425/pytorch_model.bin\n",
      "\n",
      "\n",
      "Training completed. Do not forget to share your model on huggingface.co/models =)\n",
      "\n",
      "\n",
      "Loading best model from content/drive/MyDrive/output_DistilRoBerta/fold4/checkpoint-4775 (score: 0.11487334966659546).\n",
      "4it [3:37:07, 3259.96s/it]"
     ]
    },
    {
     "name": "stdout",
     "output_type": "stream",
     "text": [
      "Complete for fold 4\n",
      "Running for Fold:  5\n",
      "38200\n",
      "Counter({0: 106872, 1: 3596, 2: 1354, 3: 425})\n",
      "Counter({0: 96185, 1: 3236, 2: 1219, 3: 382})\n",
      "Counter({0: 33363, 1: 3236, 2: 1219, 3: 382})\n",
      "Counter({0: 33363, 1: 3236, 2: 1219, 3: 382})\n"
     ]
    },
    {
     "name": "stderr",
     "output_type": "stream",
     "text": [
      "PyTorch: setting up devices\n",
      "The default value for the training argument `--report_to` will change in v5 (from all installed integrations to none). In v5, you will need to use `--report_to all` to get the same behavior as now. You should start updating your code and make this info disappear :-).\n",
      "Loading model from content/drive/MyDrive/output_DistilRoBerta/fold5/checkpoint-19100).\n",
      "/opt/conda/lib/python3.9/site-packages/transformers/optimization.py:306: FutureWarning: This implementation of AdamW is deprecated and will be removed in a future version. Use the PyTorch implementation torch.optim.AdamW instead, or set `no_deprecation_warning=True` to disable this warning\n",
      "  warnings.warn(\n",
      "***** Running training *****\n",
      "  Num examples = 38200\n",
      "  Num Epochs = 8\n",
      "  Instantaneous batch size per device = 8\n",
      "  Total train batch size (w. parallel, distributed & accumulation) = 8\n",
      "  Gradient Accumulation steps = 1\n",
      "  Total optimization steps = 38200\n",
      "  Continuing training from checkpoint, will skip to saved global_step\n",
      "  Continuing training from epoch 4\n",
      "  Continuing training from global step 19100\n",
      "  Will skip the first 4 epochs then the first 0 batches in the first epoch. If this takes a lot of time, you can add the `--ignore_data_skip` flag to your launch command, but you will resume the training on data already seen by your model.\n"
     ]
    },
    {
     "data": {
      "application/vnd.jupyter.widget-view+json": {
       "model_id": "449f69e4c66f43da9d349d5b4715e9a2",
       "version_major": 2,
       "version_minor": 0
      },
      "text/plain": [
       "0it [00:00, ?it/s]"
      ]
     },
     "metadata": {},
     "output_type": "display_data"
    },
    {
     "data": {
      "text/html": [
       "\n",
       "    <div>\n",
       "      \n",
       "      <progress value='33425' max='38200' style='width:300px; height:20px; vertical-align: middle;'></progress>\n",
       "      [33425/38200 52:42 < 17:34, 4.53 it/s, Epoch 7/8]\n",
       "    </div>\n",
       "    <table border=\"1\" class=\"dataframe\">\n",
       "  <thead>\n",
       " <tr style=\"text-align: left;\">\n",
       "      <th>Epoch</th>\n",
       "      <th>Training Loss</th>\n",
       "      <th>Validation Loss</th>\n",
       "      <th>Accuracy</th>\n",
       "      <th>Precision</th>\n",
       "      <th>Recall</th>\n",
       "      <th>F1</th>\n",
       "      <th>Precision Nonbully</th>\n",
       "      <th>Recall Nonbully</th>\n",
       "      <th>F1 Nonbully</th>\n",
       "      <th>Precision Harasser</th>\n",
       "      <th>Recall Harasser</th>\n",
       "      <th>F1 Harasser</th>\n",
       "      <th>Precision Victim</th>\n",
       "      <th>Recall Victim</th>\n",
       "      <th>F1 Victim</th>\n",
       "      <th>Precision Bydefender</th>\n",
       "      <th>Recall Bydefender</th>\n",
       "      <th>F1 Bydefender</th>\n",
       "    </tr>\n",
       "  </thead>\n",
       "  <tbody>\n",
       "    <tr>\n",
       "      <td>5</td>\n",
       "      <td>0.154600</td>\n",
       "      <td>0.153589</td>\n",
       "      <td>0.962049</td>\n",
       "      <td>0.604312</td>\n",
       "      <td>0.647567</td>\n",
       "      <td>0.620582</td>\n",
       "      <td>0.991838</td>\n",
       "      <td>0.977824</td>\n",
       "      <td>0.984781</td>\n",
       "      <td>0.579055</td>\n",
       "      <td>0.783333</td>\n",
       "      <td>0.665880</td>\n",
       "      <td>0.278788</td>\n",
       "      <td>0.340741</td>\n",
       "      <td>0.306667</td>\n",
       "      <td>0.567568</td>\n",
       "      <td>0.488372</td>\n",
       "      <td>0.525000</td>\n",
       "    </tr>\n",
       "    <tr>\n",
       "      <td>6</td>\n",
       "      <td>0.129700</td>\n",
       "      <td>0.150402</td>\n",
       "      <td>0.964543</td>\n",
       "      <td>0.669332</td>\n",
       "      <td>0.650775</td>\n",
       "      <td>0.650022</td>\n",
       "      <td>0.990367</td>\n",
       "      <td>0.981286</td>\n",
       "      <td>0.985806</td>\n",
       "      <td>0.621247</td>\n",
       "      <td>0.747222</td>\n",
       "      <td>0.678436</td>\n",
       "      <td>0.280000</td>\n",
       "      <td>0.362963</td>\n",
       "      <td>0.316129</td>\n",
       "      <td>0.785714</td>\n",
       "      <td>0.511628</td>\n",
       "      <td>0.619718</td>\n",
       "    </tr>\n",
       "    <tr>\n",
       "      <td>7</td>\n",
       "      <td>0.127000</td>\n",
       "      <td>0.180653</td>\n",
       "      <td>0.960891</td>\n",
       "      <td>0.592677</td>\n",
       "      <td>0.654332</td>\n",
       "      <td>0.618603</td>\n",
       "      <td>0.991924</td>\n",
       "      <td>0.976888</td>\n",
       "      <td>0.984348</td>\n",
       "      <td>0.585263</td>\n",
       "      <td>0.772222</td>\n",
       "      <td>0.665868</td>\n",
       "      <td>0.245902</td>\n",
       "      <td>0.333333</td>\n",
       "      <td>0.283019</td>\n",
       "      <td>0.547619</td>\n",
       "      <td>0.534884</td>\n",
       "      <td>0.541176</td>\n",
       "    </tr>\n",
       "  </tbody>\n",
       "</table><p>"
      ],
      "text/plain": [
       "<IPython.core.display.HTML object>"
      ]
     },
     "metadata": {},
     "output_type": "display_data"
    },
    {
     "name": "stderr",
     "output_type": "stream",
     "text": [
      "***** Running Evaluation *****\n",
      "  Num examples = 11225\n",
      "  Batch size = 8\n",
      "Saving model checkpoint to content/drive/MyDrive/output_DistilRoBerta/fold5/checkpoint-23875\n",
      "Configuration saved in content/drive/MyDrive/output_DistilRoBerta/fold5/checkpoint-23875/config.json\n",
      "Model weights saved in content/drive/MyDrive/output_DistilRoBerta/fold5/checkpoint-23875/pytorch_model.bin\n",
      "***** Running Evaluation *****\n",
      "  Num examples = 11225\n",
      "  Batch size = 8\n",
      "Saving model checkpoint to content/drive/MyDrive/output_DistilRoBerta/fold5/checkpoint-28650\n",
      "Configuration saved in content/drive/MyDrive/output_DistilRoBerta/fold5/checkpoint-28650/config.json\n",
      "Model weights saved in content/drive/MyDrive/output_DistilRoBerta/fold5/checkpoint-28650/pytorch_model.bin\n",
      "***** Running Evaluation *****\n",
      "  Num examples = 11225\n",
      "  Batch size = 8\n",
      "Saving model checkpoint to content/drive/MyDrive/output_DistilRoBerta/fold5/checkpoint-33425\n",
      "Configuration saved in content/drive/MyDrive/output_DistilRoBerta/fold5/checkpoint-33425/config.json\n",
      "Model weights saved in content/drive/MyDrive/output_DistilRoBerta/fold5/checkpoint-33425/pytorch_model.bin\n",
      "\n",
      "\n",
      "Training completed. Do not forget to share your model on huggingface.co/models =)\n",
      "\n",
      "\n",
      "Loading best model from content/drive/MyDrive/output_DistilRoBerta/fold5/checkpoint-4775 (score: 0.13188298046588898).\n",
      "5it [4:30:38, 3247.76s/it]"
     ]
    },
    {
     "name": "stdout",
     "output_type": "stream",
     "text": [
      "Complete for fold 5\n"
     ]
    },
    {
     "name": "stderr",
     "output_type": "stream",
     "text": [
      "\n"
     ]
    }
   ],
   "source": [
    "run_cross_validation(model_name='DistilRoBerta',\n",
    "                         X=X,\n",
    "                         y=y, \n",
    "                         splits=5,\n",
    "                         epoch=8,\n",
    "                         checkpoint=True)"
   ]
  },
  {
   "cell_type": "markdown",
   "id": "fd043406-9008-4e85-93bb-b6add893f724",
   "metadata": {},
   "source": [
    "### [Continue] Cross Validation (K = 5)"
   ]
  },
  {
   "cell_type": "code",
   "execution_count": null,
   "id": "6e95dc36-c120-43ad-8113-1b1a23d214e9",
   "metadata": {},
   "outputs": [
    {
     "name": "stdout",
     "output_type": "stream",
     "text": [
      "Developing Model with Cross validation for: DistilRoBerta\n"
     ]
    },
    {
     "name": "stderr",
     "output_type": "stream",
     "text": [
      "0it [00:00, ?it/s]"
     ]
    },
    {
     "name": "stdout",
     "output_type": "stream",
     "text": [
      "Running for Fold:  1\n",
      "38200\n",
      "Counter({0: 106872, 1: 3596, 2: 1354, 3: 425})\n",
      "Counter({0: 96185, 1: 3236, 2: 1219, 3: 382})\n",
      "Counter({0: 33363, 1: 3236, 2: 1219, 3: 382})\n",
      "Counter({0: 33363, 1: 3236, 2: 1219, 3: 382})\n"
     ]
    },
    {
     "name": "stderr",
     "output_type": "stream",
     "text": [
      "PyTorch: setting up devices\n",
      "The default value for the training argument `--report_to` will change in v5 (from all installed integrations to none). In v5, you will need to use `--report_to all` to get the same behavior as now. You should start updating your code and make this info disappear :-).\n",
      "Loading model from content/drive/MyDrive/output_DistilRoBerta/fold1/checkpoint-33425).\n",
      "/opt/conda/lib/python3.9/site-packages/transformers/optimization.py:306: FutureWarning: This implementation of AdamW is deprecated and will be removed in a future version. Use the PyTorch implementation torch.optim.AdamW instead, or set `no_deprecation_warning=True` to disable this warning\n",
      "  warnings.warn(\n",
      "***** Running training *****\n",
      "  Num examples = 38200\n",
      "  Num Epochs = 8\n",
      "  Instantaneous batch size per device = 8\n",
      "  Total train batch size (w. parallel, distributed & accumulation) = 8\n",
      "  Gradient Accumulation steps = 1\n",
      "  Total optimization steps = 38200\n",
      "  Continuing training from checkpoint, will skip to saved global_step\n",
      "  Continuing training from epoch 7\n",
      "  Continuing training from global step 33425\n",
      "  Will skip the first 7 epochs then the first 0 batches in the first epoch. If this takes a lot of time, you can add the `--ignore_data_skip` flag to your launch command, but you will resume the training on data already seen by your model.\n"
     ]
    },
    {
     "data": {
      "application/vnd.jupyter.widget-view+json": {
       "model_id": "203cc3a2bf924d0d88584c971a73c790",
       "version_major": 2,
       "version_minor": 0
      },
      "text/plain": [
       "0it [00:00, ?it/s]"
      ]
     },
     "metadata": {},
     "output_type": "display_data"
    },
    {
     "data": {
      "text/html": [
       "\n",
       "    <div>\n",
       "      \n",
       "      <progress value='38200' max='38200' style='width:300px; height:20px; vertical-align: middle;'></progress>\n",
       "      [38200/38200 17:40, Epoch 8/8]\n",
       "    </div>\n",
       "    <table border=\"1\" class=\"dataframe\">\n",
       "  <thead>\n",
       " <tr style=\"text-align: left;\">\n",
       "      <th>Epoch</th>\n",
       "      <th>Training Loss</th>\n",
       "      <th>Validation Loss</th>\n",
       "      <th>Accuracy</th>\n",
       "      <th>Precision</th>\n",
       "      <th>Recall</th>\n",
       "      <th>F1</th>\n",
       "      <th>Precision Nonbully</th>\n",
       "      <th>Recall Nonbully</th>\n",
       "      <th>F1 Nonbully</th>\n",
       "      <th>Precision Harasser</th>\n",
       "      <th>Recall Harasser</th>\n",
       "      <th>F1 Harasser</th>\n",
       "      <th>Precision Victim</th>\n",
       "      <th>Recall Victim</th>\n",
       "      <th>F1 Victim</th>\n",
       "      <th>Precision Bydefender</th>\n",
       "      <th>Recall Bydefender</th>\n",
       "      <th>F1 Bydefender</th>\n",
       "    </tr>\n",
       "  </thead>\n",
       "  <tbody>\n",
       "    <tr>\n",
       "      <td>8</td>\n",
       "      <td>0.181500</td>\n",
       "      <td>0.249435</td>\n",
       "      <td>0.941915</td>\n",
       "      <td>0.482355</td>\n",
       "      <td>0.550030</td>\n",
       "      <td>0.508891</td>\n",
       "      <td>0.985828</td>\n",
       "      <td>0.963320</td>\n",
       "      <td>0.974444</td>\n",
       "      <td>0.432075</td>\n",
       "      <td>0.636111</td>\n",
       "      <td>0.514607</td>\n",
       "      <td>0.162679</td>\n",
       "      <td>0.251852</td>\n",
       "      <td>0.197674</td>\n",
       "      <td>0.348837</td>\n",
       "      <td>0.348837</td>\n",
       "      <td>0.348837</td>\n",
       "    </tr>\n",
       "  </tbody>\n",
       "</table><p>"
      ],
      "text/plain": [
       "<IPython.core.display.HTML object>"
      ]
     },
     "metadata": {},
     "output_type": "display_data"
    },
    {
     "name": "stderr",
     "output_type": "stream",
     "text": [
      "***** Running Evaluation *****\n",
      "  Num examples = 11225\n",
      "  Batch size = 8\n",
      "Saving model checkpoint to content/drive/MyDrive/output_DistilRoBerta/fold1/checkpoint-38200\n",
      "Configuration saved in content/drive/MyDrive/output_DistilRoBerta/fold1/checkpoint-38200/config.json\n",
      "Model weights saved in content/drive/MyDrive/output_DistilRoBerta/fold1/checkpoint-38200/pytorch_model.bin\n",
      "\n",
      "\n",
      "Training completed. Do not forget to share your model on huggingface.co/models =)\n",
      "\n",
      "\n",
      "Loading best model from content/drive/MyDrive/output_DistilRoBerta/fold1/checkpoint-14325 (score: 0.14869321882724762).\n",
      "1it [19:14, 1154.42s/it]"
     ]
    },
    {
     "name": "stdout",
     "output_type": "stream",
     "text": [
      "Complete for fold 1\n",
      "Running for Fold:  2\n",
      "38200\n",
      "Counter({0: 106872, 1: 3596, 2: 1354, 3: 425})\n",
      "Counter({0: 96185, 1: 3236, 2: 1219, 3: 382})\n",
      "Counter({0: 33363, 1: 3236, 2: 1219, 3: 382})\n",
      "Counter({0: 33363, 1: 3236, 2: 1219, 3: 382})\n"
     ]
    },
    {
     "name": "stderr",
     "output_type": "stream",
     "text": [
      "PyTorch: setting up devices\n",
      "The default value for the training argument `--report_to` will change in v5 (from all installed integrations to none). In v5, you will need to use `--report_to all` to get the same behavior as now. You should start updating your code and make this info disappear :-).\n",
      "Loading model from content/drive/MyDrive/output_DistilRoBerta/fold2/checkpoint-33425).\n",
      "/opt/conda/lib/python3.9/site-packages/transformers/optimization.py:306: FutureWarning: This implementation of AdamW is deprecated and will be removed in a future version. Use the PyTorch implementation torch.optim.AdamW instead, or set `no_deprecation_warning=True` to disable this warning\n",
      "  warnings.warn(\n",
      "***** Running training *****\n",
      "  Num examples = 38200\n",
      "  Num Epochs = 8\n",
      "  Instantaneous batch size per device = 8\n",
      "  Total train batch size (w. parallel, distributed & accumulation) = 8\n",
      "  Gradient Accumulation steps = 1\n",
      "  Total optimization steps = 38200\n",
      "  Continuing training from checkpoint, will skip to saved global_step\n",
      "  Continuing training from epoch 7\n",
      "  Continuing training from global step 33425\n",
      "  Will skip the first 7 epochs then the first 0 batches in the first epoch. If this takes a lot of time, you can add the `--ignore_data_skip` flag to your launch command, but you will resume the training on data already seen by your model.\n"
     ]
    },
    {
     "data": {
      "application/vnd.jupyter.widget-view+json": {
       "model_id": "657de105f4bf4e789b1958b0f59afe8d",
       "version_major": 2,
       "version_minor": 0
      },
      "text/plain": [
       "0it [00:00, ?it/s]"
      ]
     },
     "metadata": {},
     "output_type": "display_data"
    },
    {
     "data": {
      "text/html": [
       "\n",
       "    <div>\n",
       "      \n",
       "      <progress value='38200' max='38200' style='width:300px; height:20px; vertical-align: middle;'></progress>\n",
       "      [38200/38200 17:40, Epoch 8/8]\n",
       "    </div>\n",
       "    <table border=\"1\" class=\"dataframe\">\n",
       "  <thead>\n",
       " <tr style=\"text-align: left;\">\n",
       "      <th>Epoch</th>\n",
       "      <th>Training Loss</th>\n",
       "      <th>Validation Loss</th>\n",
       "      <th>Accuracy</th>\n",
       "      <th>Precision</th>\n",
       "      <th>Recall</th>\n",
       "      <th>F1</th>\n",
       "      <th>Precision Nonbully</th>\n",
       "      <th>Recall Nonbully</th>\n",
       "      <th>F1 Nonbully</th>\n",
       "      <th>Precision Harasser</th>\n",
       "      <th>Recall Harasser</th>\n",
       "      <th>F1 Harasser</th>\n",
       "      <th>Precision Victim</th>\n",
       "      <th>Recall Victim</th>\n",
       "      <th>F1 Victim</th>\n",
       "      <th>Precision Bydefender</th>\n",
       "      <th>Recall Bydefender</th>\n",
       "      <th>F1 Bydefender</th>\n",
       "    </tr>\n",
       "  </thead>\n",
       "  <tbody>\n",
       "    <tr>\n",
       "      <td>8</td>\n",
       "      <td>0.135300</td>\n",
       "      <td>0.216560</td>\n",
       "      <td>0.951893</td>\n",
       "      <td>0.556443</td>\n",
       "      <td>0.574173</td>\n",
       "      <td>0.556325</td>\n",
       "      <td>0.986607</td>\n",
       "      <td>0.971929</td>\n",
       "      <td>0.979213</td>\n",
       "      <td>0.513800</td>\n",
       "      <td>0.672222</td>\n",
       "      <td>0.582431</td>\n",
       "      <td>0.208122</td>\n",
       "      <td>0.303704</td>\n",
       "      <td>0.246988</td>\n",
       "      <td>0.517241</td>\n",
       "      <td>0.348837</td>\n",
       "      <td>0.416667</td>\n",
       "    </tr>\n",
       "  </tbody>\n",
       "</table><p>"
      ],
      "text/plain": [
       "<IPython.core.display.HTML object>"
      ]
     },
     "metadata": {},
     "output_type": "display_data"
    },
    {
     "name": "stderr",
     "output_type": "stream",
     "text": [
      "***** Running Evaluation *****\n",
      "  Num examples = 11225\n",
      "  Batch size = 8\n",
      "Saving model checkpoint to content/drive/MyDrive/output_DistilRoBerta/fold2/checkpoint-38200\n",
      "Configuration saved in content/drive/MyDrive/output_DistilRoBerta/fold2/checkpoint-38200/config.json\n",
      "Model weights saved in content/drive/MyDrive/output_DistilRoBerta/fold2/checkpoint-38200/pytorch_model.bin\n",
      "\n",
      "\n",
      "Training completed. Do not forget to share your model on huggingface.co/models =)\n",
      "\n",
      "\n",
      "Loading best model from content/drive/MyDrive/output_DistilRoBerta/fold2/checkpoint-4775 (score: 0.14023877680301666).\n",
      "2it [38:29, 1154.85s/it]"
     ]
    },
    {
     "name": "stdout",
     "output_type": "stream",
     "text": [
      "Complete for fold 2\n",
      "Running for Fold:  3\n",
      "38200\n",
      "Counter({0: 106872, 1: 3596, 2: 1354, 3: 425})\n",
      "Counter({0: 96185, 1: 3236, 2: 1219, 3: 382})\n",
      "Counter({0: 33363, 1: 3236, 2: 1219, 3: 382})\n",
      "Counter({0: 33363, 1: 3236, 2: 1219, 3: 382})\n"
     ]
    },
    {
     "name": "stderr",
     "output_type": "stream",
     "text": [
      "PyTorch: setting up devices\n",
      "The default value for the training argument `--report_to` will change in v5 (from all installed integrations to none). In v5, you will need to use `--report_to all` to get the same behavior as now. You should start updating your code and make this info disappear :-).\n",
      "Loading model from content/drive/MyDrive/output_DistilRoBerta/fold3/checkpoint-33425).\n",
      "/opt/conda/lib/python3.9/site-packages/transformers/optimization.py:306: FutureWarning: This implementation of AdamW is deprecated and will be removed in a future version. Use the PyTorch implementation torch.optim.AdamW instead, or set `no_deprecation_warning=True` to disable this warning\n",
      "  warnings.warn(\n",
      "***** Running training *****\n",
      "  Num examples = 38200\n",
      "  Num Epochs = 8\n",
      "  Instantaneous batch size per device = 8\n",
      "  Total train batch size (w. parallel, distributed & accumulation) = 8\n",
      "  Gradient Accumulation steps = 1\n",
      "  Total optimization steps = 38200\n",
      "  Continuing training from checkpoint, will skip to saved global_step\n",
      "  Continuing training from epoch 7\n",
      "  Continuing training from global step 33425\n",
      "  Will skip the first 7 epochs then the first 0 batches in the first epoch. If this takes a lot of time, you can add the `--ignore_data_skip` flag to your launch command, but you will resume the training on data already seen by your model.\n"
     ]
    },
    {
     "data": {
      "application/vnd.jupyter.widget-view+json": {
       "model_id": "b5d80fa6a90b4140b99c32c472f2e0a7",
       "version_major": 2,
       "version_minor": 0
      },
      "text/plain": [
       "0it [00:00, ?it/s]"
      ]
     },
     "metadata": {},
     "output_type": "display_data"
    },
    {
     "data": {
      "text/html": [
       "\n",
       "    <div>\n",
       "      \n",
       "      <progress value='38200' max='38200' style='width:300px; height:20px; vertical-align: middle;'></progress>\n",
       "      [38200/38200 17:39, Epoch 8/8]\n",
       "    </div>\n",
       "    <table border=\"1\" class=\"dataframe\">\n",
       "  <thead>\n",
       " <tr style=\"text-align: left;\">\n",
       "      <th>Epoch</th>\n",
       "      <th>Training Loss</th>\n",
       "      <th>Validation Loss</th>\n",
       "      <th>Accuracy</th>\n",
       "      <th>Precision</th>\n",
       "      <th>Recall</th>\n",
       "      <th>F1</th>\n",
       "      <th>Precision Nonbully</th>\n",
       "      <th>Recall Nonbully</th>\n",
       "      <th>F1 Nonbully</th>\n",
       "      <th>Precision Harasser</th>\n",
       "      <th>Recall Harasser</th>\n",
       "      <th>F1 Harasser</th>\n",
       "      <th>Precision Victim</th>\n",
       "      <th>Recall Victim</th>\n",
       "      <th>F1 Victim</th>\n",
       "      <th>Precision Bydefender</th>\n",
       "      <th>Recall Bydefender</th>\n",
       "      <th>F1 Bydefender</th>\n",
       "    </tr>\n",
       "  </thead>\n",
       "  <tbody>\n",
       "    <tr>\n",
       "      <td>8</td>\n",
       "      <td>0.148800</td>\n",
       "      <td>0.192105</td>\n",
       "      <td>0.956615</td>\n",
       "      <td>0.525816</td>\n",
       "      <td>0.597914</td>\n",
       "      <td>0.557192</td>\n",
       "      <td>0.988817</td>\n",
       "      <td>0.976326</td>\n",
       "      <td>0.982532</td>\n",
       "      <td>0.550538</td>\n",
       "      <td>0.711111</td>\n",
       "      <td>0.620606</td>\n",
       "      <td>0.171053</td>\n",
       "      <td>0.192593</td>\n",
       "      <td>0.181185</td>\n",
       "      <td>0.392857</td>\n",
       "      <td>0.511628</td>\n",
       "      <td>0.444444</td>\n",
       "    </tr>\n",
       "  </tbody>\n",
       "</table><p>"
      ],
      "text/plain": [
       "<IPython.core.display.HTML object>"
      ]
     },
     "metadata": {},
     "output_type": "display_data"
    },
    {
     "name": "stderr",
     "output_type": "stream",
     "text": [
      "***** Running Evaluation *****\n",
      "  Num examples = 11225\n",
      "  Batch size = 8\n",
      "Saving model checkpoint to content/drive/MyDrive/output_DistilRoBerta/fold3/checkpoint-38200\n",
      "Configuration saved in content/drive/MyDrive/output_DistilRoBerta/fold3/checkpoint-38200/config.json\n",
      "Model weights saved in content/drive/MyDrive/output_DistilRoBerta/fold3/checkpoint-38200/pytorch_model.bin\n",
      "\n",
      "\n",
      "Training completed. Do not forget to share your model on huggingface.co/models =)\n",
      "\n",
      "\n",
      "Loading best model from content/drive/MyDrive/output_DistilRoBerta/fold3/checkpoint-9550 (score: 0.1470034271478653).\n",
      "3it [57:43, 1154.51s/it]"
     ]
    },
    {
     "name": "stdout",
     "output_type": "stream",
     "text": [
      "Complete for fold 3\n",
      "Running for Fold:  4\n",
      "38200\n",
      "Counter({0: 106872, 1: 3596, 2: 1354, 3: 425})\n",
      "Counter({0: 96185, 1: 3236, 2: 1219, 3: 382})\n",
      "Counter({0: 33363, 1: 3236, 2: 1219, 3: 382})\n",
      "Counter({0: 33363, 1: 3236, 2: 1219, 3: 382})\n"
     ]
    },
    {
     "name": "stderr",
     "output_type": "stream",
     "text": [
      "PyTorch: setting up devices\n",
      "The default value for the training argument `--report_to` will change in v5 (from all installed integrations to none). In v5, you will need to use `--report_to all` to get the same behavior as now. You should start updating your code and make this info disappear :-).\n",
      "Loading model from content/drive/MyDrive/output_DistilRoBerta/fold4/checkpoint-33425).\n",
      "/opt/conda/lib/python3.9/site-packages/transformers/optimization.py:306: FutureWarning: This implementation of AdamW is deprecated and will be removed in a future version. Use the PyTorch implementation torch.optim.AdamW instead, or set `no_deprecation_warning=True` to disable this warning\n",
      "  warnings.warn(\n",
      "***** Running training *****\n",
      "  Num examples = 38200\n",
      "  Num Epochs = 8\n",
      "  Instantaneous batch size per device = 8\n",
      "  Total train batch size (w. parallel, distributed & accumulation) = 8\n",
      "  Gradient Accumulation steps = 1\n",
      "  Total optimization steps = 38200\n",
      "  Continuing training from checkpoint, will skip to saved global_step\n",
      "  Continuing training from epoch 7\n",
      "  Continuing training from global step 33425\n",
      "  Will skip the first 7 epochs then the first 0 batches in the first epoch. If this takes a lot of time, you can add the `--ignore_data_skip` flag to your launch command, but you will resume the training on data already seen by your model.\n"
     ]
    },
    {
     "data": {
      "application/vnd.jupyter.widget-view+json": {
       "model_id": "1436874bf1ab4420903d460c29fecc0a",
       "version_major": 2,
       "version_minor": 0
      },
      "text/plain": [
       "0it [00:00, ?it/s]"
      ]
     },
     "metadata": {},
     "output_type": "display_data"
    },
    {
     "data": {
      "text/html": [
       "\n",
       "    <div>\n",
       "      \n",
       "      <progress value='38200' max='38200' style='width:300px; height:20px; vertical-align: middle;'></progress>\n",
       "      [38200/38200 17:27, Epoch 8/8]\n",
       "    </div>\n",
       "    <table border=\"1\" class=\"dataframe\">\n",
       "  <thead>\n",
       " <tr style=\"text-align: left;\">\n",
       "      <th>Epoch</th>\n",
       "      <th>Training Loss</th>\n",
       "      <th>Validation Loss</th>\n",
       "      <th>Accuracy</th>\n",
       "      <th>Precision</th>\n",
       "      <th>Recall</th>\n",
       "      <th>F1</th>\n",
       "      <th>Precision Nonbully</th>\n",
       "      <th>Recall Nonbully</th>\n",
       "      <th>F1 Nonbully</th>\n",
       "      <th>Precision Harasser</th>\n",
       "      <th>Recall Harasser</th>\n",
       "      <th>F1 Harasser</th>\n",
       "      <th>Precision Victim</th>\n",
       "      <th>Recall Victim</th>\n",
       "      <th>F1 Victim</th>\n",
       "      <th>Precision Bydefender</th>\n",
       "      <th>Recall Bydefender</th>\n",
       "      <th>F1 Bydefender</th>\n",
       "    </tr>\n",
       "  </thead>\n",
       "  <tbody>\n",
       "    <tr>\n",
       "      <td>8</td>\n",
       "      <td>0.133700</td>\n",
       "      <td>0.167409</td>\n",
       "      <td>0.962405</td>\n",
       "      <td>0.590826</td>\n",
       "      <td>0.637542</td>\n",
       "      <td>0.610145</td>\n",
       "      <td>0.990998</td>\n",
       "      <td>0.978572</td>\n",
       "      <td>0.984746</td>\n",
       "      <td>0.574642</td>\n",
       "      <td>0.780556</td>\n",
       "      <td>0.661955</td>\n",
       "      <td>0.309859</td>\n",
       "      <td>0.325926</td>\n",
       "      <td>0.317690</td>\n",
       "      <td>0.487805</td>\n",
       "      <td>0.465116</td>\n",
       "      <td>0.476190</td>\n",
       "    </tr>\n",
       "  </tbody>\n",
       "</table><p>"
      ],
      "text/plain": [
       "<IPython.core.display.HTML object>"
      ]
     },
     "metadata": {},
     "output_type": "display_data"
    },
    {
     "name": "stderr",
     "output_type": "stream",
     "text": [
      "***** Running Evaluation *****\n",
      "  Num examples = 11225\n",
      "  Batch size = 8\n",
      "Saving model checkpoint to content/drive/MyDrive/output_DistilRoBerta/fold4/checkpoint-38200\n",
      "Configuration saved in content/drive/MyDrive/output_DistilRoBerta/fold4/checkpoint-38200/config.json\n",
      "Model weights saved in content/drive/MyDrive/output_DistilRoBerta/fold4/checkpoint-38200/pytorch_model.bin\n",
      "\n",
      "\n",
      "Training completed. Do not forget to share your model on huggingface.co/models =)\n",
      "\n",
      "\n",
      "Loading best model from content/drive/MyDrive/output_DistilRoBerta/fold4/checkpoint-4775 (score: 0.11487334966659546).\n",
      "4it [1:15:19, 1115.63s/it]"
     ]
    },
    {
     "name": "stdout",
     "output_type": "stream",
     "text": [
      "Complete for fold 4\n",
      "Running for Fold:  5\n",
      "38200\n",
      "Counter({0: 106872, 1: 3596, 2: 1354, 3: 425})\n",
      "Counter({0: 96185, 1: 3236, 2: 1219, 3: 382})\n",
      "Counter({0: 33363, 1: 3236, 2: 1219, 3: 382})\n",
      "Counter({0: 33363, 1: 3236, 2: 1219, 3: 382})\n"
     ]
    },
    {
     "name": "stderr",
     "output_type": "stream",
     "text": [
      "PyTorch: setting up devices\n",
      "The default value for the training argument `--report_to` will change in v5 (from all installed integrations to none). In v5, you will need to use `--report_to all` to get the same behavior as now. You should start updating your code and make this info disappear :-).\n",
      "Loading model from content/drive/MyDrive/output_DistilRoBerta/fold5/checkpoint-33425).\n",
      "/opt/conda/lib/python3.9/site-packages/transformers/optimization.py:306: FutureWarning: This implementation of AdamW is deprecated and will be removed in a future version. Use the PyTorch implementation torch.optim.AdamW instead, or set `no_deprecation_warning=True` to disable this warning\n",
      "  warnings.warn(\n",
      "***** Running training *****\n",
      "  Num examples = 38200\n",
      "  Num Epochs = 8\n",
      "  Instantaneous batch size per device = 8\n",
      "  Total train batch size (w. parallel, distributed & accumulation) = 8\n",
      "  Gradient Accumulation steps = 1\n",
      "  Total optimization steps = 38200\n",
      "  Continuing training from checkpoint, will skip to saved global_step\n",
      "  Continuing training from epoch 7\n",
      "  Continuing training from global step 33425\n",
      "  Will skip the first 7 epochs then the first 0 batches in the first epoch. If this takes a lot of time, you can add the `--ignore_data_skip` flag to your launch command, but you will resume the training on data already seen by your model.\n"
     ]
    },
    {
     "data": {
      "application/vnd.jupyter.widget-view+json": {
       "model_id": "698b341003b9469496bc18e461af73b1",
       "version_major": 2,
       "version_minor": 0
      },
      "text/plain": [
       "0it [00:00, ?it/s]"
      ]
     },
     "metadata": {},
     "output_type": "display_data"
    },
    {
     "data": {
      "text/html": [
       "\n",
       "    <div>\n",
       "      \n",
       "      <progress value='36355' max='38200' style='width:300px; height:20px; vertical-align: middle;'></progress>\n",
       "      [36355/38200 09:47 < 06:10, 4.98 it/s, Epoch 7.61/8]\n",
       "    </div>\n",
       "    <table border=\"1\" class=\"dataframe\">\n",
       "  <thead>\n",
       " <tr style=\"text-align: left;\">\n",
       "      <th>Epoch</th>\n",
       "      <th>Training Loss</th>\n",
       "      <th>Validation Loss</th>\n",
       "    </tr>\n",
       "  </thead>\n",
       "  <tbody>\n",
       "  </tbody>\n",
       "</table><p>"
      ],
      "text/plain": [
       "<IPython.core.display.HTML object>"
      ]
     },
     "metadata": {},
     "output_type": "display_data"
    }
   ],
   "source": [
    "run_cross_validation(model_name='DistilRoBerta',\n",
    "                         X=X,\n",
    "                         y=y, \n",
    "                         splits=5,\n",
    "                         epoch=8,\n",
    "                         checkpoint=True)"
   ]
  },
  {
   "cell_type": "markdown",
   "id": "e3f3e732-1faa-49ee-bfbd-d954ea31e95f",
   "metadata": {},
   "source": [
    "### [Continue] Cross Validation (K = 5)"
   ]
  },
  {
   "cell_type": "code",
   "execution_count": 9,
   "id": "aa9fd720-06c2-4bee-905c-2a807acfb14e",
   "metadata": {},
   "outputs": [
    {
     "name": "stdout",
     "output_type": "stream",
     "text": [
      "Developing Model with Cross validation for: DistilRoBerta\n"
     ]
    },
    {
     "name": "stderr",
     "output_type": "stream",
     "text": [
      "0it [00:00, ?it/s]"
     ]
    },
    {
     "name": "stdout",
     "output_type": "stream",
     "text": [
      "Running for Fold:  1\n",
      "38200\n",
      "Counter({0: 106872, 1: 3596, 2: 1354, 3: 425})\n",
      "Counter({0: 96185, 1: 3236, 2: 1219, 3: 382})\n",
      "Counter({0: 33363, 1: 3236, 2: 1219, 3: 382})\n",
      "Counter({0: 33363, 1: 3236, 2: 1219, 3: 382})\n"
     ]
    },
    {
     "name": "stderr",
     "output_type": "stream",
     "text": [
      "Loading model from content/drive/MyDrive/output_DistilRoBerta/fold1/checkpoint-38200).\n",
      "/opt/conda/lib/python3.9/site-packages/transformers/optimization.py:306: FutureWarning: This implementation of AdamW is deprecated and will be removed in a future version. Use the PyTorch implementation torch.optim.AdamW instead, or set `no_deprecation_warning=True` to disable this warning\n",
      "  warnings.warn(\n",
      "***** Running training *****\n",
      "  Num examples = 38200\n",
      "  Num Epochs = 8\n",
      "  Instantaneous batch size per device = 8\n",
      "  Total train batch size (w. parallel, distributed & accumulation) = 8\n",
      "  Gradient Accumulation steps = 1\n",
      "  Total optimization steps = 38200\n",
      "  Continuing training from checkpoint, will skip to saved global_step\n",
      "  Continuing training from epoch 8\n",
      "  Continuing training from global step 38200\n",
      "  Will skip the first 8 epochs then the first 0 batches in the first epoch. If this takes a lot of time, you can add the `--ignore_data_skip` flag to your launch command, but you will resume the training on data already seen by your model.\n"
     ]
    },
    {
     "data": {
      "application/vnd.jupyter.widget-view+json": {
       "model_id": "bde2bd6284dd4a319d8566e4c03d26e1",
       "version_major": 2,
       "version_minor": 0
      },
      "text/plain": [
       "0it [00:00, ?it/s]"
      ]
     },
     "metadata": {},
     "output_type": "display_data"
    },
    {
     "name": "stderr",
     "output_type": "stream",
     "text": [
      "\n",
      "\n",
      "Training completed. Do not forget to share your model on huggingface.co/models =)\n",
      "\n",
      "\n",
      "Loading best model from content/drive/MyDrive/output_DistilRoBerta/fold1/checkpoint-14325 (score: 0.14869321882724762).\n"
     ]
    },
    {
     "data": {
      "text/html": [
       "\n",
       "    <div>\n",
       "      \n",
       "      <progress value='38200' max='38200' style='width:300px; height:20px; vertical-align: middle;'></progress>\n",
       "      [38200/38200 : < :, Epoch 8/8]\n",
       "    </div>\n",
       "    <table border=\"1\" class=\"dataframe\">\n",
       "  <thead>\n",
       " <tr style=\"text-align: left;\">\n",
       "      <th>Epoch</th>\n",
       "      <th>Training Loss</th>\n",
       "      <th>Validation Loss</th>\n",
       "    </tr>\n",
       "  </thead>\n",
       "  <tbody>\n",
       "  </tbody>\n",
       "</table><p>"
      ],
      "text/plain": [
       "<IPython.core.display.HTML object>"
      ]
     },
     "metadata": {},
     "output_type": "display_data"
    },
    {
     "name": "stderr",
     "output_type": "stream",
     "text": [
      "1it [01:08, 68.42s/it]"
     ]
    },
    {
     "name": "stdout",
     "output_type": "stream",
     "text": [
      "Complete for fold 1\n",
      "Running for Fold:  2\n",
      "38200\n",
      "Counter({0: 106872, 1: 3596, 2: 1354, 3: 425})\n",
      "Counter({0: 96185, 1: 3236, 2: 1219, 3: 382})\n",
      "Counter({0: 33363, 1: 3236, 2: 1219, 3: 382})\n",
      "Counter({0: 33363, 1: 3236, 2: 1219, 3: 382})\n"
     ]
    },
    {
     "name": "stderr",
     "output_type": "stream",
     "text": [
      "PyTorch: setting up devices\n",
      "The default value for the training argument `--report_to` will change in v5 (from all installed integrations to none). In v5, you will need to use `--report_to all` to get the same behavior as now. You should start updating your code and make this info disappear :-).\n",
      "Loading model from content/drive/MyDrive/output_DistilRoBerta/fold2/checkpoint-38200).\n",
      "/opt/conda/lib/python3.9/site-packages/transformers/optimization.py:306: FutureWarning: This implementation of AdamW is deprecated and will be removed in a future version. Use the PyTorch implementation torch.optim.AdamW instead, or set `no_deprecation_warning=True` to disable this warning\n",
      "  warnings.warn(\n",
      "***** Running training *****\n",
      "  Num examples = 38200\n",
      "  Num Epochs = 8\n",
      "  Instantaneous batch size per device = 8\n",
      "  Total train batch size (w. parallel, distributed & accumulation) = 8\n",
      "  Gradient Accumulation steps = 1\n",
      "  Total optimization steps = 38200\n",
      "  Continuing training from checkpoint, will skip to saved global_step\n",
      "  Continuing training from epoch 8\n",
      "  Continuing training from global step 38200\n",
      "  Will skip the first 8 epochs then the first 0 batches in the first epoch. If this takes a lot of time, you can add the `--ignore_data_skip` flag to your launch command, but you will resume the training on data already seen by your model.\n"
     ]
    },
    {
     "data": {
      "application/vnd.jupyter.widget-view+json": {
       "model_id": "489e7670935d4994a9380d0b0913dad7",
       "version_major": 2,
       "version_minor": 0
      },
      "text/plain": [
       "0it [00:00, ?it/s]"
      ]
     },
     "metadata": {},
     "output_type": "display_data"
    },
    {
     "name": "stderr",
     "output_type": "stream",
     "text": [
      "\n",
      "\n",
      "Training completed. Do not forget to share your model on huggingface.co/models =)\n",
      "\n",
      "\n",
      "Loading best model from content/drive/MyDrive/output_DistilRoBerta/fold2/checkpoint-4775 (score: 0.14023877680301666).\n"
     ]
    },
    {
     "data": {
      "text/html": [
       "\n",
       "    <div>\n",
       "      \n",
       "      <progress value='38200' max='38200' style='width:300px; height:20px; vertical-align: middle;'></progress>\n",
       "      [38200/38200 : < :, Epoch 8/8]\n",
       "    </div>\n",
       "    <table border=\"1\" class=\"dataframe\">\n",
       "  <thead>\n",
       " <tr style=\"text-align: left;\">\n",
       "      <th>Epoch</th>\n",
       "      <th>Training Loss</th>\n",
       "      <th>Validation Loss</th>\n",
       "    </tr>\n",
       "  </thead>\n",
       "  <tbody>\n",
       "  </tbody>\n",
       "</table><p>"
      ],
      "text/plain": [
       "<IPython.core.display.HTML object>"
      ]
     },
     "metadata": {},
     "output_type": "display_data"
    },
    {
     "name": "stderr",
     "output_type": "stream",
     "text": [
      "2it [02:13, 66.58s/it]"
     ]
    },
    {
     "name": "stdout",
     "output_type": "stream",
     "text": [
      "Complete for fold 2\n",
      "Running for Fold:  3\n",
      "38200\n",
      "Counter({0: 106872, 1: 3596, 2: 1354, 3: 425})\n",
      "Counter({0: 96185, 1: 3236, 2: 1219, 3: 382})\n",
      "Counter({0: 33363, 1: 3236, 2: 1219, 3: 382})\n",
      "Counter({0: 33363, 1: 3236, 2: 1219, 3: 382})\n"
     ]
    },
    {
     "name": "stderr",
     "output_type": "stream",
     "text": [
      "PyTorch: setting up devices\n",
      "The default value for the training argument `--report_to` will change in v5 (from all installed integrations to none). In v5, you will need to use `--report_to all` to get the same behavior as now. You should start updating your code and make this info disappear :-).\n",
      "Loading model from content/drive/MyDrive/output_DistilRoBerta/fold3/checkpoint-38200).\n",
      "/opt/conda/lib/python3.9/site-packages/transformers/optimization.py:306: FutureWarning: This implementation of AdamW is deprecated and will be removed in a future version. Use the PyTorch implementation torch.optim.AdamW instead, or set `no_deprecation_warning=True` to disable this warning\n",
      "  warnings.warn(\n",
      "***** Running training *****\n",
      "  Num examples = 38200\n",
      "  Num Epochs = 8\n",
      "  Instantaneous batch size per device = 8\n",
      "  Total train batch size (w. parallel, distributed & accumulation) = 8\n",
      "  Gradient Accumulation steps = 1\n",
      "  Total optimization steps = 38200\n",
      "  Continuing training from checkpoint, will skip to saved global_step\n",
      "  Continuing training from epoch 8\n",
      "  Continuing training from global step 38200\n",
      "  Will skip the first 8 epochs then the first 0 batches in the first epoch. If this takes a lot of time, you can add the `--ignore_data_skip` flag to your launch command, but you will resume the training on data already seen by your model.\n"
     ]
    },
    {
     "data": {
      "application/vnd.jupyter.widget-view+json": {
       "model_id": "76f62ef59016489fb3ab21ceb95e82f3",
       "version_major": 2,
       "version_minor": 0
      },
      "text/plain": [
       "0it [00:00, ?it/s]"
      ]
     },
     "metadata": {},
     "output_type": "display_data"
    },
    {
     "name": "stderr",
     "output_type": "stream",
     "text": [
      "\n",
      "\n",
      "Training completed. Do not forget to share your model on huggingface.co/models =)\n",
      "\n",
      "\n",
      "Loading best model from content/drive/MyDrive/output_DistilRoBerta/fold3/checkpoint-9550 (score: 0.1470034271478653).\n"
     ]
    },
    {
     "data": {
      "text/html": [
       "\n",
       "    <div>\n",
       "      \n",
       "      <progress value='38200' max='38200' style='width:300px; height:20px; vertical-align: middle;'></progress>\n",
       "      [38200/38200 : < :, Epoch 8/8]\n",
       "    </div>\n",
       "    <table border=\"1\" class=\"dataframe\">\n",
       "  <thead>\n",
       " <tr style=\"text-align: left;\">\n",
       "      <th>Epoch</th>\n",
       "      <th>Training Loss</th>\n",
       "      <th>Validation Loss</th>\n",
       "    </tr>\n",
       "  </thead>\n",
       "  <tbody>\n",
       "  </tbody>\n",
       "</table><p>"
      ],
      "text/plain": [
       "<IPython.core.display.HTML object>"
      ]
     },
     "metadata": {},
     "output_type": "display_data"
    },
    {
     "name": "stderr",
     "output_type": "stream",
     "text": [
      "3it [03:21, 67.30s/it]"
     ]
    },
    {
     "name": "stdout",
     "output_type": "stream",
     "text": [
      "Complete for fold 3\n",
      "Running for Fold:  4\n",
      "38200\n",
      "Counter({0: 106872, 1: 3596, 2: 1354, 3: 425})\n",
      "Counter({0: 96185, 1: 3236, 2: 1219, 3: 382})\n",
      "Counter({0: 33363, 1: 3236, 2: 1219, 3: 382})\n",
      "Counter({0: 33363, 1: 3236, 2: 1219, 3: 382})\n"
     ]
    },
    {
     "name": "stderr",
     "output_type": "stream",
     "text": [
      "PyTorch: setting up devices\n",
      "The default value for the training argument `--report_to` will change in v5 (from all installed integrations to none). In v5, you will need to use `--report_to all` to get the same behavior as now. You should start updating your code and make this info disappear :-).\n",
      "Loading model from content/drive/MyDrive/output_DistilRoBerta/fold4/checkpoint-38200).\n",
      "/opt/conda/lib/python3.9/site-packages/transformers/optimization.py:306: FutureWarning: This implementation of AdamW is deprecated and will be removed in a future version. Use the PyTorch implementation torch.optim.AdamW instead, or set `no_deprecation_warning=True` to disable this warning\n",
      "  warnings.warn(\n",
      "***** Running training *****\n",
      "  Num examples = 38200\n",
      "  Num Epochs = 8\n",
      "  Instantaneous batch size per device = 8\n",
      "  Total train batch size (w. parallel, distributed & accumulation) = 8\n",
      "  Gradient Accumulation steps = 1\n",
      "  Total optimization steps = 38200\n",
      "  Continuing training from checkpoint, will skip to saved global_step\n",
      "  Continuing training from epoch 8\n",
      "  Continuing training from global step 38200\n",
      "  Will skip the first 8 epochs then the first 0 batches in the first epoch. If this takes a lot of time, you can add the `--ignore_data_skip` flag to your launch command, but you will resume the training on data already seen by your model.\n"
     ]
    },
    {
     "data": {
      "application/vnd.jupyter.widget-view+json": {
       "model_id": "c54bb8adc829429fa47d25805a6b6f48",
       "version_major": 2,
       "version_minor": 0
      },
      "text/plain": [
       "0it [00:00, ?it/s]"
      ]
     },
     "metadata": {},
     "output_type": "display_data"
    },
    {
     "name": "stderr",
     "output_type": "stream",
     "text": [
      "\n",
      "\n",
      "Training completed. Do not forget to share your model on huggingface.co/models =)\n",
      "\n",
      "\n",
      "Loading best model from content/drive/MyDrive/output_DistilRoBerta/fold4/checkpoint-4775 (score: 0.11487334966659546).\n"
     ]
    },
    {
     "data": {
      "text/html": [
       "\n",
       "    <div>\n",
       "      \n",
       "      <progress value='38200' max='38200' style='width:300px; height:20px; vertical-align: middle;'></progress>\n",
       "      [38200/38200 : < :, Epoch 8/8]\n",
       "    </div>\n",
       "    <table border=\"1\" class=\"dataframe\">\n",
       "  <thead>\n",
       " <tr style=\"text-align: left;\">\n",
       "      <th>Epoch</th>\n",
       "      <th>Training Loss</th>\n",
       "      <th>Validation Loss</th>\n",
       "    </tr>\n",
       "  </thead>\n",
       "  <tbody>\n",
       "  </tbody>\n",
       "</table><p>"
      ],
      "text/plain": [
       "<IPython.core.display.HTML object>"
      ]
     },
     "metadata": {},
     "output_type": "display_data"
    },
    {
     "name": "stderr",
     "output_type": "stream",
     "text": [
      "4it [04:26, 66.27s/it]"
     ]
    },
    {
     "name": "stdout",
     "output_type": "stream",
     "text": [
      "Complete for fold 4\n",
      "Running for Fold:  5\n",
      "38200\n",
      "Counter({0: 106872, 1: 3596, 2: 1354, 3: 425})\n",
      "Counter({0: 96185, 1: 3236, 2: 1219, 3: 382})\n",
      "Counter({0: 33363, 1: 3236, 2: 1219, 3: 382})\n",
      "Counter({0: 33363, 1: 3236, 2: 1219, 3: 382})\n"
     ]
    },
    {
     "name": "stderr",
     "output_type": "stream",
     "text": [
      "PyTorch: setting up devices\n",
      "The default value for the training argument `--report_to` will change in v5 (from all installed integrations to none). In v5, you will need to use `--report_to all` to get the same behavior as now. You should start updating your code and make this info disappear :-).\n",
      "Loading model from content/drive/MyDrive/output_DistilRoBerta/fold5/checkpoint-33425).\n",
      "/opt/conda/lib/python3.9/site-packages/transformers/optimization.py:306: FutureWarning: This implementation of AdamW is deprecated and will be removed in a future version. Use the PyTorch implementation torch.optim.AdamW instead, or set `no_deprecation_warning=True` to disable this warning\n",
      "  warnings.warn(\n",
      "***** Running training *****\n",
      "  Num examples = 38200\n",
      "  Num Epochs = 8\n",
      "  Instantaneous batch size per device = 8\n",
      "  Total train batch size (w. parallel, distributed & accumulation) = 8\n",
      "  Gradient Accumulation steps = 1\n",
      "  Total optimization steps = 38200\n",
      "  Continuing training from checkpoint, will skip to saved global_step\n",
      "  Continuing training from epoch 7\n",
      "  Continuing training from global step 33425\n",
      "  Will skip the first 7 epochs then the first 0 batches in the first epoch. If this takes a lot of time, you can add the `--ignore_data_skip` flag to your launch command, but you will resume the training on data already seen by your model.\n"
     ]
    },
    {
     "data": {
      "application/vnd.jupyter.widget-view+json": {
       "model_id": "e6f64e4d85814e81b2aebe516c78eaf2",
       "version_major": 2,
       "version_minor": 0
      },
      "text/plain": [
       "0it [00:00, ?it/s]"
      ]
     },
     "metadata": {},
     "output_type": "display_data"
    },
    {
     "data": {
      "text/html": [
       "\n",
       "    <div>\n",
       "      \n",
       "      <progress value='38200' max='38200' style='width:300px; height:20px; vertical-align: middle;'></progress>\n",
       "      [38200/38200 18:26, Epoch 8/8]\n",
       "    </div>\n",
       "    <table border=\"1\" class=\"dataframe\">\n",
       "  <thead>\n",
       " <tr style=\"text-align: left;\">\n",
       "      <th>Epoch</th>\n",
       "      <th>Training Loss</th>\n",
       "      <th>Validation Loss</th>\n",
       "      <th>Accuracy</th>\n",
       "      <th>Precision</th>\n",
       "      <th>Recall</th>\n",
       "      <th>F1</th>\n",
       "      <th>Precision Nonbully</th>\n",
       "      <th>Recall Nonbully</th>\n",
       "      <th>F1 Nonbully</th>\n",
       "      <th>Precision Harasser</th>\n",
       "      <th>Recall Harasser</th>\n",
       "      <th>F1 Harasser</th>\n",
       "      <th>Precision Victim</th>\n",
       "      <th>Recall Victim</th>\n",
       "      <th>F1 Victim</th>\n",
       "      <th>Precision Bydefender</th>\n",
       "      <th>Recall Bydefender</th>\n",
       "      <th>F1 Bydefender</th>\n",
       "    </tr>\n",
       "  </thead>\n",
       "  <tbody>\n",
       "    <tr>\n",
       "      <td>8</td>\n",
       "      <td>0.124200</td>\n",
       "      <td>0.169398</td>\n",
       "      <td>0.964454</td>\n",
       "      <td>0.626049</td>\n",
       "      <td>0.663742</td>\n",
       "      <td>0.641271</td>\n",
       "      <td>0.991481</td>\n",
       "      <td>0.980163</td>\n",
       "      <td>0.985790</td>\n",
       "      <td>0.601279</td>\n",
       "      <td>0.783333</td>\n",
       "      <td>0.680338</td>\n",
       "      <td>0.296053</td>\n",
       "      <td>0.333333</td>\n",
       "      <td>0.313589</td>\n",
       "      <td>0.615385</td>\n",
       "      <td>0.558140</td>\n",
       "      <td>0.585366</td>\n",
       "    </tr>\n",
       "  </tbody>\n",
       "</table><p>"
      ],
      "text/plain": [
       "<IPython.core.display.HTML object>"
      ]
     },
     "metadata": {},
     "output_type": "display_data"
    },
    {
     "name": "stderr",
     "output_type": "stream",
     "text": [
      "***** Running Evaluation *****\n",
      "  Num examples = 11225\n",
      "  Batch size = 8\n",
      "Saving model checkpoint to content/drive/MyDrive/output_DistilRoBerta/fold5/checkpoint-38200\n",
      "Configuration saved in content/drive/MyDrive/output_DistilRoBerta/fold5/checkpoint-38200/config.json\n",
      "Model weights saved in content/drive/MyDrive/output_DistilRoBerta/fold5/checkpoint-38200/pytorch_model.bin\n",
      "\n",
      "\n",
      "Training completed. Do not forget to share your model on huggingface.co/models =)\n",
      "\n",
      "\n",
      "Loading best model from content/drive/MyDrive/output_DistilRoBerta/fold5/checkpoint-4775 (score: 0.13188298046588898).\n",
      "5it [24:00, 288.00s/it]"
     ]
    },
    {
     "name": "stdout",
     "output_type": "stream",
     "text": [
      "Complete for fold 5\n"
     ]
    },
    {
     "name": "stderr",
     "output_type": "stream",
     "text": [
      "\n"
     ]
    }
   ],
   "source": [
    "run_cross_validation(model_name='DistilRoBerta',\n",
    "                         X=X,\n",
    "                         y=y, \n",
    "                         splits=5,\n",
    "                         epoch=8,\n",
    "                         checkpoint=True)"
   ]
  },
  {
   "cell_type": "markdown",
   "id": "eb5cbb41-9c80-4f2f-97e5-eefaa9553228",
   "metadata": {},
   "source": [
    "### [Continue] Cross Validation (K = 5)"
   ]
  },
  {
   "cell_type": "code",
   "execution_count": null,
   "id": "72058b8b-a01d-4e79-a749-bd84cae3da66",
   "metadata": {},
   "outputs": [
    {
     "name": "stdout",
     "output_type": "stream",
     "text": [
      "Developing Model with Cross validation for: DistilRoBerta\n"
     ]
    },
    {
     "name": "stderr",
     "output_type": "stream",
     "text": [
      "0it [00:00, ?it/s]"
     ]
    },
    {
     "name": "stdout",
     "output_type": "stream",
     "text": [
      "Running for Fold:  1\n",
      "38200\n",
      "Counter({0: 106872, 1: 3596, 2: 1354, 3: 425})\n",
      "Counter({0: 96185, 1: 3236, 2: 1219, 3: 382})\n",
      "Counter({0: 33363, 1: 3236, 2: 1219, 3: 382})\n",
      "Counter({0: 33363, 1: 3236, 2: 1219, 3: 382})\n"
     ]
    },
    {
     "name": "stderr",
     "output_type": "stream",
     "text": [
      "PyTorch: setting up devices\n",
      "The default value for the training argument `--report_to` will change in v5 (from all installed integrations to none). In v5, you will need to use `--report_to all` to get the same behavior as now. You should start updating your code and make this info disappear :-).\n",
      "Loading model from content/drive/MyDrive/output_DistilRoBerta/fold1/checkpoint-38200).\n",
      "/opt/conda/lib/python3.9/site-packages/transformers/optimization.py:306: FutureWarning: This implementation of AdamW is deprecated and will be removed in a future version. Use the PyTorch implementation torch.optim.AdamW instead, or set `no_deprecation_warning=True` to disable this warning\n",
      "  warnings.warn(\n",
      "***** Running training *****\n",
      "  Num examples = 38200\n",
      "  Num Epochs = 10\n",
      "  Instantaneous batch size per device = 8\n",
      "  Total train batch size (w. parallel, distributed & accumulation) = 8\n",
      "  Gradient Accumulation steps = 1\n",
      "  Total optimization steps = 47750\n",
      "  Continuing training from checkpoint, will skip to saved global_step\n",
      "  Continuing training from epoch 8\n",
      "  Continuing training from global step 38200\n",
      "  Will skip the first 8 epochs then the first 0 batches in the first epoch. If this takes a lot of time, you can add the `--ignore_data_skip` flag to your launch command, but you will resume the training on data already seen by your model.\n"
     ]
    },
    {
     "data": {
      "application/vnd.jupyter.widget-view+json": {
       "model_id": "ca271274a8294367b8d5985635f03b02",
       "version_major": 2,
       "version_minor": 0
      },
      "text/plain": [
       "0it [00:00, ?it/s]"
      ]
     },
     "metadata": {},
     "output_type": "display_data"
    },
    {
     "data": {
      "text/html": [
       "\n",
       "    <div>\n",
       "      \n",
       "      <progress value='47750' max='47750' style='width:300px; height:20px; vertical-align: middle;'></progress>\n",
       "      [47750/47750 35:29, Epoch 10/10]\n",
       "    </div>\n",
       "    <table border=\"1\" class=\"dataframe\">\n",
       "  <thead>\n",
       " <tr style=\"text-align: left;\">\n",
       "      <th>Epoch</th>\n",
       "      <th>Training Loss</th>\n",
       "      <th>Validation Loss</th>\n",
       "      <th>Accuracy</th>\n",
       "      <th>Precision</th>\n",
       "      <th>Recall</th>\n",
       "      <th>F1</th>\n",
       "      <th>Precision Nonbully</th>\n",
       "      <th>Recall Nonbully</th>\n",
       "      <th>F1 Nonbully</th>\n",
       "      <th>Precision Harasser</th>\n",
       "      <th>Recall Harasser</th>\n",
       "      <th>F1 Harasser</th>\n",
       "      <th>Precision Victim</th>\n",
       "      <th>Recall Victim</th>\n",
       "      <th>F1 Victim</th>\n",
       "      <th>Precision Bydefender</th>\n",
       "      <th>Recall Bydefender</th>\n",
       "      <th>F1 Bydefender</th>\n",
       "    </tr>\n",
       "  </thead>\n",
       "  <tbody>\n",
       "    <tr>\n",
       "      <td>9</td>\n",
       "      <td>0.197400</td>\n",
       "      <td>0.243385</td>\n",
       "      <td>0.944588</td>\n",
       "      <td>0.523385</td>\n",
       "      <td>0.537759</td>\n",
       "      <td>0.516755</td>\n",
       "      <td>0.985199</td>\n",
       "      <td>0.965378</td>\n",
       "      <td>0.975188</td>\n",
       "      <td>0.423408</td>\n",
       "      <td>0.683333</td>\n",
       "      <td>0.522848</td>\n",
       "      <td>0.184932</td>\n",
       "      <td>0.200000</td>\n",
       "      <td>0.192171</td>\n",
       "      <td>0.500000</td>\n",
       "      <td>0.302326</td>\n",
       "      <td>0.376812</td>\n",
       "    </tr>\n",
       "    <tr>\n",
       "      <td>10</td>\n",
       "      <td>0.137300</td>\n",
       "      <td>0.269377</td>\n",
       "      <td>0.939510</td>\n",
       "      <td>0.486641</td>\n",
       "      <td>0.541176</td>\n",
       "      <td>0.503749</td>\n",
       "      <td>0.985786</td>\n",
       "      <td>0.960419</td>\n",
       "      <td>0.972937</td>\n",
       "      <td>0.399666</td>\n",
       "      <td>0.663889</td>\n",
       "      <td>0.498956</td>\n",
       "      <td>0.161111</td>\n",
       "      <td>0.214815</td>\n",
       "      <td>0.184127</td>\n",
       "      <td>0.400000</td>\n",
       "      <td>0.325581</td>\n",
       "      <td>0.358974</td>\n",
       "    </tr>\n",
       "  </tbody>\n",
       "</table><p>"
      ],
      "text/plain": [
       "<IPython.core.display.HTML object>"
      ]
     },
     "metadata": {},
     "output_type": "display_data"
    },
    {
     "name": "stderr",
     "output_type": "stream",
     "text": [
      "***** Running Evaluation *****\n",
      "  Num examples = 11225\n",
      "  Batch size = 8\n",
      "Saving model checkpoint to content/drive/MyDrive/output_DistilRoBerta/fold1/checkpoint-42975\n",
      "Configuration saved in content/drive/MyDrive/output_DistilRoBerta/fold1/checkpoint-42975/config.json\n",
      "Model weights saved in content/drive/MyDrive/output_DistilRoBerta/fold1/checkpoint-42975/pytorch_model.bin\n",
      "***** Running Evaluation *****\n",
      "  Num examples = 11225\n",
      "  Batch size = 8\n",
      "Saving model checkpoint to content/drive/MyDrive/output_DistilRoBerta/fold1/checkpoint-47750\n",
      "Configuration saved in content/drive/MyDrive/output_DistilRoBerta/fold1/checkpoint-47750/config.json\n",
      "Model weights saved in content/drive/MyDrive/output_DistilRoBerta/fold1/checkpoint-47750/pytorch_model.bin\n",
      "\n",
      "\n",
      "Training completed. Do not forget to share your model on huggingface.co/models =)\n",
      "\n",
      "\n",
      "Loading best model from content/drive/MyDrive/output_DistilRoBerta/fold1/checkpoint-14325 (score: 0.14869321882724762).\n",
      "1it [36:15, 2175.43s/it]"
     ]
    },
    {
     "name": "stdout",
     "output_type": "stream",
     "text": [
      "Complete for fold 1\n",
      "Running for Fold:  2\n",
      "38200\n",
      "Counter({0: 106872, 1: 3596, 2: 1354, 3: 425})\n",
      "Counter({0: 96185, 1: 3236, 2: 1219, 3: 382})\n",
      "Counter({0: 33363, 1: 3236, 2: 1219, 3: 382})\n",
      "Counter({0: 33363, 1: 3236, 2: 1219, 3: 382})\n"
     ]
    },
    {
     "name": "stderr",
     "output_type": "stream",
     "text": [
      "PyTorch: setting up devices\n",
      "The default value for the training argument `--report_to` will change in v5 (from all installed integrations to none). In v5, you will need to use `--report_to all` to get the same behavior as now. You should start updating your code and make this info disappear :-).\n",
      "Loading model from content/drive/MyDrive/output_DistilRoBerta/fold2/checkpoint-38200).\n",
      "/opt/conda/lib/python3.9/site-packages/transformers/optimization.py:306: FutureWarning: This implementation of AdamW is deprecated and will be removed in a future version. Use the PyTorch implementation torch.optim.AdamW instead, or set `no_deprecation_warning=True` to disable this warning\n",
      "  warnings.warn(\n",
      "***** Running training *****\n",
      "  Num examples = 38200\n",
      "  Num Epochs = 10\n",
      "  Instantaneous batch size per device = 8\n",
      "  Total train batch size (w. parallel, distributed & accumulation) = 8\n",
      "  Gradient Accumulation steps = 1\n",
      "  Total optimization steps = 47750\n",
      "  Continuing training from checkpoint, will skip to saved global_step\n",
      "  Continuing training from epoch 8\n",
      "  Continuing training from global step 38200\n",
      "  Will skip the first 8 epochs then the first 0 batches in the first epoch. If this takes a lot of time, you can add the `--ignore_data_skip` flag to your launch command, but you will resume the training on data already seen by your model.\n"
     ]
    },
    {
     "data": {
      "application/vnd.jupyter.widget-view+json": {
       "model_id": "d5d72d67a9e543a1a54b4acedfc9a838",
       "version_major": 2,
       "version_minor": 0
      },
      "text/plain": [
       "0it [00:00, ?it/s]"
      ]
     },
     "metadata": {},
     "output_type": "display_data"
    },
    {
     "data": {
      "text/html": [
       "\n",
       "    <div>\n",
       "      \n",
       "      <progress value='47750' max='47750' style='width:300px; height:20px; vertical-align: middle;'></progress>\n",
       "      [47750/47750 35:17, Epoch 10/10]\n",
       "    </div>\n",
       "    <table border=\"1\" class=\"dataframe\">\n",
       "  <thead>\n",
       " <tr style=\"text-align: left;\">\n",
       "      <th>Epoch</th>\n",
       "      <th>Training Loss</th>\n",
       "      <th>Validation Loss</th>\n",
       "      <th>Accuracy</th>\n",
       "      <th>Precision</th>\n",
       "      <th>Recall</th>\n",
       "      <th>F1</th>\n",
       "      <th>Precision Nonbully</th>\n",
       "      <th>Recall Nonbully</th>\n",
       "      <th>F1 Nonbully</th>\n",
       "      <th>Precision Harasser</th>\n",
       "      <th>Recall Harasser</th>\n",
       "      <th>F1 Harasser</th>\n",
       "      <th>Precision Victim</th>\n",
       "      <th>Recall Victim</th>\n",
       "      <th>F1 Victim</th>\n",
       "      <th>Precision Bydefender</th>\n",
       "      <th>Recall Bydefender</th>\n",
       "      <th>F1 Bydefender</th>\n",
       "    </tr>\n",
       "  </thead>\n",
       "  <tbody>\n",
       "    <tr>\n",
       "      <td>9</td>\n",
       "      <td>0.165000</td>\n",
       "      <td>0.222621</td>\n",
       "      <td>0.953229</td>\n",
       "      <td>0.575081</td>\n",
       "      <td>0.571602</td>\n",
       "      <td>0.561455</td>\n",
       "      <td>0.985778</td>\n",
       "      <td>0.972864</td>\n",
       "      <td>0.979279</td>\n",
       "      <td>0.506098</td>\n",
       "      <td>0.691667</td>\n",
       "      <td>0.584507</td>\n",
       "      <td>0.248447</td>\n",
       "      <td>0.296296</td>\n",
       "      <td>0.270270</td>\n",
       "      <td>0.560000</td>\n",
       "      <td>0.325581</td>\n",
       "      <td>0.411765</td>\n",
       "    </tr>\n",
       "    <tr>\n",
       "      <td>10</td>\n",
       "      <td>0.103200</td>\n",
       "      <td>0.237398</td>\n",
       "      <td>0.952428</td>\n",
       "      <td>0.562411</td>\n",
       "      <td>0.574377</td>\n",
       "      <td>0.558149</td>\n",
       "      <td>0.986326</td>\n",
       "      <td>0.971929</td>\n",
       "      <td>0.979074</td>\n",
       "      <td>0.502024</td>\n",
       "      <td>0.688889</td>\n",
       "      <td>0.580796</td>\n",
       "      <td>0.242775</td>\n",
       "      <td>0.311111</td>\n",
       "      <td>0.272727</td>\n",
       "      <td>0.518519</td>\n",
       "      <td>0.325581</td>\n",
       "      <td>0.400000</td>\n",
       "    </tr>\n",
       "  </tbody>\n",
       "</table><p>"
      ],
      "text/plain": [
       "<IPython.core.display.HTML object>"
      ]
     },
     "metadata": {},
     "output_type": "display_data"
    },
    {
     "name": "stderr",
     "output_type": "stream",
     "text": [
      "***** Running Evaluation *****\n",
      "  Num examples = 11225\n",
      "  Batch size = 8\n",
      "Saving model checkpoint to content/drive/MyDrive/output_DistilRoBerta/fold2/checkpoint-42975\n",
      "Configuration saved in content/drive/MyDrive/output_DistilRoBerta/fold2/checkpoint-42975/config.json\n",
      "Model weights saved in content/drive/MyDrive/output_DistilRoBerta/fold2/checkpoint-42975/pytorch_model.bin\n",
      "***** Running Evaluation *****\n",
      "  Num examples = 11225\n",
      "  Batch size = 8\n",
      "Saving model checkpoint to content/drive/MyDrive/output_DistilRoBerta/fold2/checkpoint-47750\n",
      "Configuration saved in content/drive/MyDrive/output_DistilRoBerta/fold2/checkpoint-47750/config.json\n",
      "Model weights saved in content/drive/MyDrive/output_DistilRoBerta/fold2/checkpoint-47750/pytorch_model.bin\n",
      "\n",
      "\n",
      "Training completed. Do not forget to share your model on huggingface.co/models =)\n",
      "\n",
      "\n",
      "Loading best model from content/drive/MyDrive/output_DistilRoBerta/fold2/checkpoint-4775 (score: 0.14023877680301666).\n",
      "2it [1:13:10, 2198.73s/it]"
     ]
    },
    {
     "name": "stdout",
     "output_type": "stream",
     "text": [
      "Complete for fold 2\n",
      "Running for Fold:  3\n",
      "38200\n",
      "Counter({0: 106872, 1: 3596, 2: 1354, 3: 425})\n",
      "Counter({0: 96185, 1: 3236, 2: 1219, 3: 382})\n",
      "Counter({0: 33363, 1: 3236, 2: 1219, 3: 382})\n",
      "Counter({0: 33363, 1: 3236, 2: 1219, 3: 382})\n"
     ]
    },
    {
     "name": "stderr",
     "output_type": "stream",
     "text": [
      "PyTorch: setting up devices\n",
      "The default value for the training argument `--report_to` will change in v5 (from all installed integrations to none). In v5, you will need to use `--report_to all` to get the same behavior as now. You should start updating your code and make this info disappear :-).\n",
      "Loading model from content/drive/MyDrive/output_DistilRoBerta/fold3/checkpoint-38200).\n",
      "/opt/conda/lib/python3.9/site-packages/transformers/optimization.py:306: FutureWarning: This implementation of AdamW is deprecated and will be removed in a future version. Use the PyTorch implementation torch.optim.AdamW instead, or set `no_deprecation_warning=True` to disable this warning\n",
      "  warnings.warn(\n",
      "***** Running training *****\n",
      "  Num examples = 38200\n",
      "  Num Epochs = 10\n",
      "  Instantaneous batch size per device = 8\n",
      "  Total train batch size (w. parallel, distributed & accumulation) = 8\n",
      "  Gradient Accumulation steps = 1\n",
      "  Total optimization steps = 47750\n",
      "  Continuing training from checkpoint, will skip to saved global_step\n",
      "  Continuing training from epoch 8\n",
      "  Continuing training from global step 38200\n",
      "  Will skip the first 8 epochs then the first 0 batches in the first epoch. If this takes a lot of time, you can add the `--ignore_data_skip` flag to your launch command, but you will resume the training on data already seen by your model.\n"
     ]
    },
    {
     "data": {
      "application/vnd.jupyter.widget-view+json": {
       "model_id": "534c1fd8bc974d6ea685341ceca555f5",
       "version_major": 2,
       "version_minor": 0
      },
      "text/plain": [
       "0it [00:00, ?it/s]"
      ]
     },
     "metadata": {},
     "output_type": "display_data"
    },
    {
     "data": {
      "text/html": [
       "\n",
       "    <div>\n",
       "      \n",
       "      <progress value='47750' max='47750' style='width:300px; height:20px; vertical-align: middle;'></progress>\n",
       "      [47750/47750 35:17, Epoch 10/10]\n",
       "    </div>\n",
       "    <table border=\"1\" class=\"dataframe\">\n",
       "  <thead>\n",
       " <tr style=\"text-align: left;\">\n",
       "      <th>Epoch</th>\n",
       "      <th>Training Loss</th>\n",
       "      <th>Validation Loss</th>\n",
       "      <th>Accuracy</th>\n",
       "      <th>Precision</th>\n",
       "      <th>Recall</th>\n",
       "      <th>F1</th>\n",
       "      <th>Precision Nonbully</th>\n",
       "      <th>Recall Nonbully</th>\n",
       "      <th>F1 Nonbully</th>\n",
       "      <th>Precision Harasser</th>\n",
       "      <th>Recall Harasser</th>\n",
       "      <th>F1 Harasser</th>\n",
       "      <th>Precision Victim</th>\n",
       "      <th>Recall Victim</th>\n",
       "      <th>F1 Victim</th>\n",
       "      <th>Precision Bydefender</th>\n",
       "      <th>Recall Bydefender</th>\n",
       "      <th>F1 Bydefender</th>\n",
       "    </tr>\n",
       "  </thead>\n",
       "  <tbody>\n",
       "    <tr>\n",
       "      <td>9</td>\n",
       "      <td>0.156300</td>\n",
       "      <td>0.200860</td>\n",
       "      <td>0.954477</td>\n",
       "      <td>0.540614</td>\n",
       "      <td>0.624719</td>\n",
       "      <td>0.576600</td>\n",
       "      <td>0.989534</td>\n",
       "      <td>0.973145</td>\n",
       "      <td>0.981271</td>\n",
       "      <td>0.554348</td>\n",
       "      <td>0.708333</td>\n",
       "      <td>0.621951</td>\n",
       "      <td>0.174129</td>\n",
       "      <td>0.259259</td>\n",
       "      <td>0.208333</td>\n",
       "      <td>0.444444</td>\n",
       "      <td>0.558140</td>\n",
       "      <td>0.494845</td>\n",
       "    </tr>\n",
       "    <tr>\n",
       "      <td>10</td>\n",
       "      <td>0.118700</td>\n",
       "      <td>0.207949</td>\n",
       "      <td>0.956169</td>\n",
       "      <td>0.547340</td>\n",
       "      <td>0.620229</td>\n",
       "      <td>0.579202</td>\n",
       "      <td>0.989081</td>\n",
       "      <td>0.974736</td>\n",
       "      <td>0.981856</td>\n",
       "      <td>0.540710</td>\n",
       "      <td>0.719444</td>\n",
       "      <td>0.617402</td>\n",
       "      <td>0.208589</td>\n",
       "      <td>0.251852</td>\n",
       "      <td>0.228188</td>\n",
       "      <td>0.450980</td>\n",
       "      <td>0.534884</td>\n",
       "      <td>0.489362</td>\n",
       "    </tr>\n",
       "  </tbody>\n",
       "</table><p>"
      ],
      "text/plain": [
       "<IPython.core.display.HTML object>"
      ]
     },
     "metadata": {},
     "output_type": "display_data"
    },
    {
     "name": "stderr",
     "output_type": "stream",
     "text": [
      "***** Running Evaluation *****\n",
      "  Num examples = 11225\n",
      "  Batch size = 8\n",
      "Saving model checkpoint to content/drive/MyDrive/output_DistilRoBerta/fold3/checkpoint-42975\n",
      "Configuration saved in content/drive/MyDrive/output_DistilRoBerta/fold3/checkpoint-42975/config.json\n",
      "Model weights saved in content/drive/MyDrive/output_DistilRoBerta/fold3/checkpoint-42975/pytorch_model.bin\n",
      "***** Running Evaluation *****\n",
      "  Num examples = 11225\n",
      "  Batch size = 8\n",
      "Saving model checkpoint to content/drive/MyDrive/output_DistilRoBerta/fold3/checkpoint-47750\n",
      "Configuration saved in content/drive/MyDrive/output_DistilRoBerta/fold3/checkpoint-47750/config.json\n",
      "Model weights saved in content/drive/MyDrive/output_DistilRoBerta/fold3/checkpoint-47750/pytorch_model.bin\n",
      "\n",
      "\n",
      "Training completed. Do not forget to share your model on huggingface.co/models =)\n",
      "\n",
      "\n",
      "Loading best model from content/drive/MyDrive/output_DistilRoBerta/fold3/checkpoint-9550 (score: 0.1470034271478653).\n",
      "3it [1:49:52, 2200.04s/it]"
     ]
    },
    {
     "name": "stdout",
     "output_type": "stream",
     "text": [
      "Complete for fold 3\n",
      "Running for Fold:  4\n",
      "38200\n",
      "Counter({0: 106872, 1: 3596, 2: 1354, 3: 425})\n",
      "Counter({0: 96185, 1: 3236, 2: 1219, 3: 382})\n",
      "Counter({0: 33363, 1: 3236, 2: 1219, 3: 382})\n",
      "Counter({0: 33363, 1: 3236, 2: 1219, 3: 382})\n"
     ]
    },
    {
     "name": "stderr",
     "output_type": "stream",
     "text": [
      "PyTorch: setting up devices\n",
      "The default value for the training argument `--report_to` will change in v5 (from all installed integrations to none). In v5, you will need to use `--report_to all` to get the same behavior as now. You should start updating your code and make this info disappear :-).\n",
      "Loading model from content/drive/MyDrive/output_DistilRoBerta/fold4/checkpoint-38200).\n",
      "/opt/conda/lib/python3.9/site-packages/transformers/optimization.py:306: FutureWarning: This implementation of AdamW is deprecated and will be removed in a future version. Use the PyTorch implementation torch.optim.AdamW instead, or set `no_deprecation_warning=True` to disable this warning\n",
      "  warnings.warn(\n",
      "***** Running training *****\n",
      "  Num examples = 38200\n",
      "  Num Epochs = 10\n",
      "  Instantaneous batch size per device = 8\n",
      "  Total train batch size (w. parallel, distributed & accumulation) = 8\n",
      "  Gradient Accumulation steps = 1\n",
      "  Total optimization steps = 47750\n",
      "  Continuing training from checkpoint, will skip to saved global_step\n",
      "  Continuing training from epoch 8\n",
      "  Continuing training from global step 38200\n",
      "  Will skip the first 8 epochs then the first 0 batches in the first epoch. If this takes a lot of time, you can add the `--ignore_data_skip` flag to your launch command, but you will resume the training on data already seen by your model.\n"
     ]
    },
    {
     "data": {
      "application/vnd.jupyter.widget-view+json": {
       "model_id": "b6ff59c9c2104440bb2e431c472174f4",
       "version_major": 2,
       "version_minor": 0
      },
      "text/plain": [
       "0it [00:00, ?it/s]"
      ]
     },
     "metadata": {},
     "output_type": "display_data"
    },
    {
     "data": {
      "text/html": [
       "\n",
       "    <div>\n",
       "      \n",
       "      <progress value='47750' max='47750' style='width:300px; height:20px; vertical-align: middle;'></progress>\n",
       "      [47750/47750 35:17, Epoch 10/10]\n",
       "    </div>\n",
       "    <table border=\"1\" class=\"dataframe\">\n",
       "  <thead>\n",
       " <tr style=\"text-align: left;\">\n",
       "      <th>Epoch</th>\n",
       "      <th>Training Loss</th>\n",
       "      <th>Validation Loss</th>\n",
       "      <th>Accuracy</th>\n",
       "      <th>Precision</th>\n",
       "      <th>Recall</th>\n",
       "      <th>F1</th>\n",
       "      <th>Precision Nonbully</th>\n",
       "      <th>Recall Nonbully</th>\n",
       "      <th>F1 Nonbully</th>\n",
       "      <th>Precision Harasser</th>\n",
       "      <th>Recall Harasser</th>\n",
       "      <th>F1 Harasser</th>\n",
       "      <th>Precision Victim</th>\n",
       "      <th>Recall Victim</th>\n",
       "      <th>F1 Victim</th>\n",
       "      <th>Precision Bydefender</th>\n",
       "      <th>Recall Bydefender</th>\n",
       "      <th>F1 Bydefender</th>\n",
       "    </tr>\n",
       "  </thead>\n",
       "  <tbody>\n",
       "    <tr>\n",
       "      <td>9</td>\n",
       "      <td>0.101100</td>\n",
       "      <td>0.166990</td>\n",
       "      <td>0.963920</td>\n",
       "      <td>0.605225</td>\n",
       "      <td>0.648847</td>\n",
       "      <td>0.624148</td>\n",
       "      <td>0.990825</td>\n",
       "      <td>0.980163</td>\n",
       "      <td>0.985465</td>\n",
       "      <td>0.601751</td>\n",
       "      <td>0.763889</td>\n",
       "      <td>0.673195</td>\n",
       "      <td>0.316129</td>\n",
       "      <td>0.362963</td>\n",
       "      <td>0.337931</td>\n",
       "      <td>0.512195</td>\n",
       "      <td>0.488372</td>\n",
       "      <td>0.500000</td>\n",
       "    </tr>\n",
       "    <tr>\n",
       "      <td>10</td>\n",
       "      <td>0.093400</td>\n",
       "      <td>0.175933</td>\n",
       "      <td>0.963296</td>\n",
       "      <td>0.624043</td>\n",
       "      <td>0.643567</td>\n",
       "      <td>0.628348</td>\n",
       "      <td>0.990537</td>\n",
       "      <td>0.979414</td>\n",
       "      <td>0.984944</td>\n",
       "      <td>0.572301</td>\n",
       "      <td>0.780556</td>\n",
       "      <td>0.660400</td>\n",
       "      <td>0.333333</td>\n",
       "      <td>0.325926</td>\n",
       "      <td>0.329588</td>\n",
       "      <td>0.600000</td>\n",
       "      <td>0.488372</td>\n",
       "      <td>0.538462</td>\n",
       "    </tr>\n",
       "  </tbody>\n",
       "</table><p>"
      ],
      "text/plain": [
       "<IPython.core.display.HTML object>"
      ]
     },
     "metadata": {},
     "output_type": "display_data"
    },
    {
     "name": "stderr",
     "output_type": "stream",
     "text": [
      "***** Running Evaluation *****\n",
      "  Num examples = 11225\n",
      "  Batch size = 8\n",
      "Saving model checkpoint to content/drive/MyDrive/output_DistilRoBerta/fold4/checkpoint-42975\n",
      "Configuration saved in content/drive/MyDrive/output_DistilRoBerta/fold4/checkpoint-42975/config.json\n",
      "Model weights saved in content/drive/MyDrive/output_DistilRoBerta/fold4/checkpoint-42975/pytorch_model.bin\n",
      "***** Running Evaluation *****\n",
      "  Num examples = 11225\n",
      "  Batch size = 8\n",
      "Saving model checkpoint to content/drive/MyDrive/output_DistilRoBerta/fold4/checkpoint-47750\n",
      "Configuration saved in content/drive/MyDrive/output_DistilRoBerta/fold4/checkpoint-47750/config.json\n",
      "Model weights saved in content/drive/MyDrive/output_DistilRoBerta/fold4/checkpoint-47750/pytorch_model.bin\n",
      "\n",
      "\n",
      "Training completed. Do not forget to share your model on huggingface.co/models =)\n",
      "\n",
      "\n",
      "Loading best model from content/drive/MyDrive/output_DistilRoBerta/fold4/checkpoint-4775 (score: 0.11487334966659546).\n",
      "4it [2:26:41, 2203.63s/it]"
     ]
    },
    {
     "name": "stdout",
     "output_type": "stream",
     "text": [
      "Complete for fold 4\n",
      "Running for Fold:  5\n",
      "38200\n",
      "Counter({0: 106872, 1: 3596, 2: 1354, 3: 425})\n",
      "Counter({0: 96185, 1: 3236, 2: 1219, 3: 382})\n",
      "Counter({0: 33363, 1: 3236, 2: 1219, 3: 382})\n",
      "Counter({0: 33363, 1: 3236, 2: 1219, 3: 382})\n"
     ]
    },
    {
     "name": "stderr",
     "output_type": "stream",
     "text": [
      "PyTorch: setting up devices\n",
      "The default value for the training argument `--report_to` will change in v5 (from all installed integrations to none). In v5, you will need to use `--report_to all` to get the same behavior as now. You should start updating your code and make this info disappear :-).\n",
      "Loading model from content/drive/MyDrive/output_DistilRoBerta/fold5/checkpoint-38200).\n",
      "/opt/conda/lib/python3.9/site-packages/transformers/optimization.py:306: FutureWarning: This implementation of AdamW is deprecated and will be removed in a future version. Use the PyTorch implementation torch.optim.AdamW instead, or set `no_deprecation_warning=True` to disable this warning\n",
      "  warnings.warn(\n",
      "***** Running training *****\n",
      "  Num examples = 38200\n",
      "  Num Epochs = 10\n",
      "  Instantaneous batch size per device = 8\n",
      "  Total train batch size (w. parallel, distributed & accumulation) = 8\n",
      "  Gradient Accumulation steps = 1\n",
      "  Total optimization steps = 47750\n",
      "  Continuing training from checkpoint, will skip to saved global_step\n",
      "  Continuing training from epoch 8\n",
      "  Continuing training from global step 38200\n",
      "  Will skip the first 8 epochs then the first 0 batches in the first epoch. If this takes a lot of time, you can add the `--ignore_data_skip` flag to your launch command, but you will resume the training on data already seen by your model.\n"
     ]
    },
    {
     "data": {
      "application/vnd.jupyter.widget-view+json": {
       "model_id": "b41c79c5a365462694af54b3a9d8a8f7",
       "version_major": 2,
       "version_minor": 0
      },
      "text/plain": [
       "0it [00:00, ?it/s]"
      ]
     },
     "metadata": {},
     "output_type": "display_data"
    },
    {
     "data": {
      "text/html": [
       "\n",
       "    <div>\n",
       "      \n",
       "      <progress value='47224' max='47750' style='width:300px; height:20px; vertical-align: middle;'></progress>\n",
       "      [47224/47750 31:49 < 01:51, 4.73 it/s, Epoch 9.89/10]\n",
       "    </div>\n",
       "    <table border=\"1\" class=\"dataframe\">\n",
       "  <thead>\n",
       " <tr style=\"text-align: left;\">\n",
       "      <th>Epoch</th>\n",
       "      <th>Training Loss</th>\n",
       "      <th>Validation Loss</th>\n",
       "      <th>Accuracy</th>\n",
       "      <th>Precision</th>\n",
       "      <th>Recall</th>\n",
       "      <th>F1</th>\n",
       "      <th>Precision Nonbully</th>\n",
       "      <th>Recall Nonbully</th>\n",
       "      <th>F1 Nonbully</th>\n",
       "      <th>Precision Harasser</th>\n",
       "      <th>Recall Harasser</th>\n",
       "      <th>F1 Harasser</th>\n",
       "      <th>Precision Victim</th>\n",
       "      <th>Recall Victim</th>\n",
       "      <th>F1 Victim</th>\n",
       "      <th>Precision Bydefender</th>\n",
       "      <th>Recall Bydefender</th>\n",
       "      <th>F1 Bydefender</th>\n",
       "    </tr>\n",
       "  </thead>\n",
       "  <tbody>\n",
       "    <tr>\n",
       "      <td>9</td>\n",
       "      <td>0.143400</td>\n",
       "      <td>0.175430</td>\n",
       "      <td>0.962584</td>\n",
       "      <td>0.676147</td>\n",
       "      <td>0.639667</td>\n",
       "      <td>0.635431</td>\n",
       "      <td>0.991932</td>\n",
       "      <td>0.977917</td>\n",
       "      <td>0.984875</td>\n",
       "      <td>0.581162</td>\n",
       "      <td>0.805556</td>\n",
       "      <td>0.675204</td>\n",
       "      <td>0.267857</td>\n",
       "      <td>0.333333</td>\n",
       "      <td>0.297030</td>\n",
       "      <td>0.863636</td>\n",
       "      <td>0.441860</td>\n",
       "      <td>0.584615</td>\n",
       "    </tr>\n",
       "  </tbody>\n",
       "</table><p>"
      ],
      "text/plain": [
       "<IPython.core.display.HTML object>"
      ]
     },
     "metadata": {},
     "output_type": "display_data"
    },
    {
     "name": "stderr",
     "output_type": "stream",
     "text": [
      "***** Running Evaluation *****\n",
      "  Num examples = 11225\n",
      "  Batch size = 8\n",
      "Saving model checkpoint to content/drive/MyDrive/output_DistilRoBerta/fold5/checkpoint-42975\n",
      "Configuration saved in content/drive/MyDrive/output_DistilRoBerta/fold5/checkpoint-42975/config.json\n",
      "Model weights saved in content/drive/MyDrive/output_DistilRoBerta/fold5/checkpoint-42975/pytorch_model.bin\n"
     ]
    }
   ],
   "source": [
    "run_cross_validation(model_name='DistilRoBerta',\n",
    "                         X=X,\n",
    "                         y=y, \n",
    "                         splits=5,\n",
    "                         epoch=10,\n",
    "                         checkpoint=True)"
   ]
  },
  {
   "cell_type": "markdown",
   "id": "9ea881f5-09a1-4af4-a8a6-97f1bf645b67",
   "metadata": {},
   "source": [
    "### [Continue] Cross Validation (K = 5)"
   ]
  },
  {
   "cell_type": "code",
   "execution_count": 9,
   "id": "c027fdc1-9502-49b3-bb3e-c5d8449d5795",
   "metadata": {},
   "outputs": [
    {
     "name": "stdout",
     "output_type": "stream",
     "text": [
      "Developing Model with Cross validation for: DistilRoBerta\n"
     ]
    },
    {
     "name": "stderr",
     "output_type": "stream",
     "text": [
      "0it [00:00, ?it/s]"
     ]
    },
    {
     "name": "stdout",
     "output_type": "stream",
     "text": [
      "Running for Fold:  1\n",
      "38200\n",
      "Counter({0: 106872, 1: 3596, 2: 1354, 3: 425})\n",
      "Counter({0: 96185, 1: 3236, 2: 1219, 3: 382})\n",
      "Counter({0: 33363, 1: 3236, 2: 1219, 3: 382})\n",
      "Counter({0: 33363, 1: 3236, 2: 1219, 3: 382})\n"
     ]
    },
    {
     "name": "stderr",
     "output_type": "stream",
     "text": [
      "Loading model from content/drive/MyDrive/output_DistilRoBerta/fold1/checkpoint-47750).\n",
      "/opt/conda/lib/python3.9/site-packages/transformers/optimization.py:306: FutureWarning: This implementation of AdamW is deprecated and will be removed in a future version. Use the PyTorch implementation torch.optim.AdamW instead, or set `no_deprecation_warning=True` to disable this warning\n",
      "  warnings.warn(\n",
      "***** Running training *****\n",
      "  Num examples = 38200\n",
      "  Num Epochs = 10\n",
      "  Instantaneous batch size per device = 8\n",
      "  Total train batch size (w. parallel, distributed & accumulation) = 8\n",
      "  Gradient Accumulation steps = 1\n",
      "  Total optimization steps = 47750\n",
      "  Continuing training from checkpoint, will skip to saved global_step\n",
      "  Continuing training from epoch 10\n",
      "  Continuing training from global step 47750\n",
      "  Will skip the first 10 epochs then the first 0 batches in the first epoch. If this takes a lot of time, you can add the `--ignore_data_skip` flag to your launch command, but you will resume the training on data already seen by your model.\n"
     ]
    },
    {
     "data": {
      "application/vnd.jupyter.widget-view+json": {
       "model_id": "18f1a0b88b5c495faa22908cb1d507f1",
       "version_major": 2,
       "version_minor": 0
      },
      "text/plain": [
       "0it [00:00, ?it/s]"
      ]
     },
     "metadata": {},
     "output_type": "display_data"
    },
    {
     "name": "stderr",
     "output_type": "stream",
     "text": [
      "\n",
      "\n",
      "Training completed. Do not forget to share your model on huggingface.co/models =)\n",
      "\n",
      "\n",
      "Loading best model from content/drive/MyDrive/output_DistilRoBerta/fold1/checkpoint-14325 (score: 0.14869321882724762).\n"
     ]
    },
    {
     "data": {
      "text/html": [
       "\n",
       "    <div>\n",
       "      \n",
       "      <progress value='47750' max='47750' style='width:300px; height:20px; vertical-align: middle;'></progress>\n",
       "      [47750/47750 : < :, Epoch 10/10]\n",
       "    </div>\n",
       "    <table border=\"1\" class=\"dataframe\">\n",
       "  <thead>\n",
       " <tr style=\"text-align: left;\">\n",
       "      <th>Epoch</th>\n",
       "      <th>Training Loss</th>\n",
       "      <th>Validation Loss</th>\n",
       "    </tr>\n",
       "  </thead>\n",
       "  <tbody>\n",
       "  </tbody>\n",
       "</table><p>"
      ],
      "text/plain": [
       "<IPython.core.display.HTML object>"
      ]
     },
     "metadata": {},
     "output_type": "display_data"
    },
    {
     "name": "stderr",
     "output_type": "stream",
     "text": [
      "1it [00:30, 30.15s/it]"
     ]
    },
    {
     "name": "stdout",
     "output_type": "stream",
     "text": [
      "Complete for fold 1\n",
      "Running for Fold:  2\n",
      "38200\n",
      "Counter({0: 106872, 1: 3596, 2: 1354, 3: 425})\n",
      "Counter({0: 96185, 1: 3236, 2: 1219, 3: 382})\n",
      "Counter({0: 33363, 1: 3236, 2: 1219, 3: 382})\n",
      "Counter({0: 33363, 1: 3236, 2: 1219, 3: 382})\n"
     ]
    },
    {
     "name": "stderr",
     "output_type": "stream",
     "text": [
      "PyTorch: setting up devices\n",
      "The default value for the training argument `--report_to` will change in v5 (from all installed integrations to none). In v5, you will need to use `--report_to all` to get the same behavior as now. You should start updating your code and make this info disappear :-).\n",
      "Loading model from content/drive/MyDrive/output_DistilRoBerta/fold2/checkpoint-47750).\n",
      "/opt/conda/lib/python3.9/site-packages/transformers/optimization.py:306: FutureWarning: This implementation of AdamW is deprecated and will be removed in a future version. Use the PyTorch implementation torch.optim.AdamW instead, or set `no_deprecation_warning=True` to disable this warning\n",
      "  warnings.warn(\n",
      "***** Running training *****\n",
      "  Num examples = 38200\n",
      "  Num Epochs = 10\n",
      "  Instantaneous batch size per device = 8\n",
      "  Total train batch size (w. parallel, distributed & accumulation) = 8\n",
      "  Gradient Accumulation steps = 1\n",
      "  Total optimization steps = 47750\n",
      "  Continuing training from checkpoint, will skip to saved global_step\n",
      "  Continuing training from epoch 10\n",
      "  Continuing training from global step 47750\n",
      "  Will skip the first 10 epochs then the first 0 batches in the first epoch. If this takes a lot of time, you can add the `--ignore_data_skip` flag to your launch command, but you will resume the training on data already seen by your model.\n"
     ]
    },
    {
     "data": {
      "application/vnd.jupyter.widget-view+json": {
       "model_id": "e8bcc9ea0e554c81ae090951b0927b33",
       "version_major": 2,
       "version_minor": 0
      },
      "text/plain": [
       "0it [00:00, ?it/s]"
      ]
     },
     "metadata": {},
     "output_type": "display_data"
    },
    {
     "name": "stderr",
     "output_type": "stream",
     "text": [
      "\n",
      "\n",
      "Training completed. Do not forget to share your model on huggingface.co/models =)\n",
      "\n",
      "\n",
      "Loading best model from content/drive/MyDrive/output_DistilRoBerta/fold2/checkpoint-4775 (score: 0.14023877680301666).\n"
     ]
    },
    {
     "data": {
      "text/html": [
       "\n",
       "    <div>\n",
       "      \n",
       "      <progress value='47750' max='47750' style='width:300px; height:20px; vertical-align: middle;'></progress>\n",
       "      [47750/47750 : < :, Epoch 10/10]\n",
       "    </div>\n",
       "    <table border=\"1\" class=\"dataframe\">\n",
       "  <thead>\n",
       " <tr style=\"text-align: left;\">\n",
       "      <th>Epoch</th>\n",
       "      <th>Training Loss</th>\n",
       "      <th>Validation Loss</th>\n",
       "    </tr>\n",
       "  </thead>\n",
       "  <tbody>\n",
       "  </tbody>\n",
       "</table><p>"
      ],
      "text/plain": [
       "<IPython.core.display.HTML object>"
      ]
     },
     "metadata": {},
     "output_type": "display_data"
    },
    {
     "name": "stderr",
     "output_type": "stream",
     "text": [
      "2it [00:44, 20.64s/it]"
     ]
    },
    {
     "name": "stdout",
     "output_type": "stream",
     "text": [
      "Complete for fold 2\n",
      "Running for Fold:  3\n",
      "38200\n",
      "Counter({0: 106872, 1: 3596, 2: 1354, 3: 425})\n",
      "Counter({0: 96185, 1: 3236, 2: 1219, 3: 382})\n",
      "Counter({0: 33363, 1: 3236, 2: 1219, 3: 382})\n",
      "Counter({0: 33363, 1: 3236, 2: 1219, 3: 382})\n"
     ]
    },
    {
     "name": "stderr",
     "output_type": "stream",
     "text": [
      "PyTorch: setting up devices\n",
      "The default value for the training argument `--report_to` will change in v5 (from all installed integrations to none). In v5, you will need to use `--report_to all` to get the same behavior as now. You should start updating your code and make this info disappear :-).\n",
      "Loading model from content/drive/MyDrive/output_DistilRoBerta/fold3/checkpoint-47750).\n",
      "/opt/conda/lib/python3.9/site-packages/transformers/optimization.py:306: FutureWarning: This implementation of AdamW is deprecated and will be removed in a future version. Use the PyTorch implementation torch.optim.AdamW instead, or set `no_deprecation_warning=True` to disable this warning\n",
      "  warnings.warn(\n",
      "***** Running training *****\n",
      "  Num examples = 38200\n",
      "  Num Epochs = 10\n",
      "  Instantaneous batch size per device = 8\n",
      "  Total train batch size (w. parallel, distributed & accumulation) = 8\n",
      "  Gradient Accumulation steps = 1\n",
      "  Total optimization steps = 47750\n",
      "  Continuing training from checkpoint, will skip to saved global_step\n",
      "  Continuing training from epoch 10\n",
      "  Continuing training from global step 47750\n",
      "  Will skip the first 10 epochs then the first 0 batches in the first epoch. If this takes a lot of time, you can add the `--ignore_data_skip` flag to your launch command, but you will resume the training on data already seen by your model.\n"
     ]
    },
    {
     "data": {
      "application/vnd.jupyter.widget-view+json": {
       "model_id": "93a6e4d8d22f4ee28432620c31d61115",
       "version_major": 2,
       "version_minor": 0
      },
      "text/plain": [
       "0it [00:00, ?it/s]"
      ]
     },
     "metadata": {},
     "output_type": "display_data"
    },
    {
     "name": "stderr",
     "output_type": "stream",
     "text": [
      "\n",
      "\n",
      "Training completed. Do not forget to share your model on huggingface.co/models =)\n",
      "\n",
      "\n",
      "Loading best model from content/drive/MyDrive/output_DistilRoBerta/fold3/checkpoint-9550 (score: 0.1470034271478653).\n"
     ]
    },
    {
     "data": {
      "text/html": [
       "\n",
       "    <div>\n",
       "      \n",
       "      <progress value='47750' max='47750' style='width:300px; height:20px; vertical-align: middle;'></progress>\n",
       "      [47750/47750 : < :, Epoch 10/10]\n",
       "    </div>\n",
       "    <table border=\"1\" class=\"dataframe\">\n",
       "  <thead>\n",
       " <tr style=\"text-align: left;\">\n",
       "      <th>Epoch</th>\n",
       "      <th>Training Loss</th>\n",
       "      <th>Validation Loss</th>\n",
       "    </tr>\n",
       "  </thead>\n",
       "  <tbody>\n",
       "  </tbody>\n",
       "</table><p>"
      ],
      "text/plain": [
       "<IPython.core.display.HTML object>"
      ]
     },
     "metadata": {},
     "output_type": "display_data"
    },
    {
     "name": "stderr",
     "output_type": "stream",
     "text": [
      "3it [01:20, 27.79s/it]"
     ]
    },
    {
     "name": "stdout",
     "output_type": "stream",
     "text": [
      "Complete for fold 3\n",
      "Running for Fold:  4\n",
      "38200\n",
      "Counter({0: 106872, 1: 3596, 2: 1354, 3: 425})\n",
      "Counter({0: 96185, 1: 3236, 2: 1219, 3: 382})\n",
      "Counter({0: 33363, 1: 3236, 2: 1219, 3: 382})\n",
      "Counter({0: 33363, 1: 3236, 2: 1219, 3: 382})\n"
     ]
    },
    {
     "name": "stderr",
     "output_type": "stream",
     "text": [
      "PyTorch: setting up devices\n",
      "The default value for the training argument `--report_to` will change in v5 (from all installed integrations to none). In v5, you will need to use `--report_to all` to get the same behavior as now. You should start updating your code and make this info disappear :-).\n",
      "Loading model from content/drive/MyDrive/output_DistilRoBerta/fold4/checkpoint-47750).\n",
      "/opt/conda/lib/python3.9/site-packages/transformers/optimization.py:306: FutureWarning: This implementation of AdamW is deprecated and will be removed in a future version. Use the PyTorch implementation torch.optim.AdamW instead, or set `no_deprecation_warning=True` to disable this warning\n",
      "  warnings.warn(\n",
      "***** Running training *****\n",
      "  Num examples = 38200\n",
      "  Num Epochs = 10\n",
      "  Instantaneous batch size per device = 8\n",
      "  Total train batch size (w. parallel, distributed & accumulation) = 8\n",
      "  Gradient Accumulation steps = 1\n",
      "  Total optimization steps = 47750\n",
      "  Continuing training from checkpoint, will skip to saved global_step\n",
      "  Continuing training from epoch 10\n",
      "  Continuing training from global step 47750\n",
      "  Will skip the first 10 epochs then the first 0 batches in the first epoch. If this takes a lot of time, you can add the `--ignore_data_skip` flag to your launch command, but you will resume the training on data already seen by your model.\n"
     ]
    },
    {
     "data": {
      "application/vnd.jupyter.widget-view+json": {
       "model_id": "bf89e6c9bb46468aa41e1a0327f52d50",
       "version_major": 2,
       "version_minor": 0
      },
      "text/plain": [
       "0it [00:00, ?it/s]"
      ]
     },
     "metadata": {},
     "output_type": "display_data"
    },
    {
     "name": "stderr",
     "output_type": "stream",
     "text": [
      "\n",
      "\n",
      "Training completed. Do not forget to share your model on huggingface.co/models =)\n",
      "\n",
      "\n",
      "Loading best model from content/drive/MyDrive/output_DistilRoBerta/fold4/checkpoint-4775 (score: 0.11487334966659546).\n"
     ]
    },
    {
     "data": {
      "text/html": [
       "\n",
       "    <div>\n",
       "      \n",
       "      <progress value='47750' max='47750' style='width:300px; height:20px; vertical-align: middle;'></progress>\n",
       "      [47750/47750 : < :, Epoch 10/10]\n",
       "    </div>\n",
       "    <table border=\"1\" class=\"dataframe\">\n",
       "  <thead>\n",
       " <tr style=\"text-align: left;\">\n",
       "      <th>Epoch</th>\n",
       "      <th>Training Loss</th>\n",
       "      <th>Validation Loss</th>\n",
       "    </tr>\n",
       "  </thead>\n",
       "  <tbody>\n",
       "  </tbody>\n",
       "</table><p>"
      ],
      "text/plain": [
       "<IPython.core.display.HTML object>"
      ]
     },
     "metadata": {},
     "output_type": "display_data"
    },
    {
     "name": "stderr",
     "output_type": "stream",
     "text": [
      "4it [01:32, 21.61s/it]"
     ]
    },
    {
     "name": "stdout",
     "output_type": "stream",
     "text": [
      "Complete for fold 4\n",
      "Running for Fold:  5\n",
      "38200\n",
      "Counter({0: 106872, 1: 3596, 2: 1354, 3: 425})\n",
      "Counter({0: 96185, 1: 3236, 2: 1219, 3: 382})\n",
      "Counter({0: 33363, 1: 3236, 2: 1219, 3: 382})\n",
      "Counter({0: 33363, 1: 3236, 2: 1219, 3: 382})\n"
     ]
    },
    {
     "name": "stderr",
     "output_type": "stream",
     "text": [
      "PyTorch: setting up devices\n",
      "The default value for the training argument `--report_to` will change in v5 (from all installed integrations to none). In v5, you will need to use `--report_to all` to get the same behavior as now. You should start updating your code and make this info disappear :-).\n",
      "Loading model from content/drive/MyDrive/output_DistilRoBerta/fold5/checkpoint-42975).\n",
      "/opt/conda/lib/python3.9/site-packages/transformers/optimization.py:306: FutureWarning: This implementation of AdamW is deprecated and will be removed in a future version. Use the PyTorch implementation torch.optim.AdamW instead, or set `no_deprecation_warning=True` to disable this warning\n",
      "  warnings.warn(\n",
      "***** Running training *****\n",
      "  Num examples = 38200\n",
      "  Num Epochs = 10\n",
      "  Instantaneous batch size per device = 8\n",
      "  Total train batch size (w. parallel, distributed & accumulation) = 8\n",
      "  Gradient Accumulation steps = 1\n",
      "  Total optimization steps = 47750\n",
      "  Continuing training from checkpoint, will skip to saved global_step\n",
      "  Continuing training from epoch 9\n",
      "  Continuing training from global step 42975\n",
      "  Will skip the first 9 epochs then the first 0 batches in the first epoch. If this takes a lot of time, you can add the `--ignore_data_skip` flag to your launch command, but you will resume the training on data already seen by your model.\n"
     ]
    },
    {
     "data": {
      "application/vnd.jupyter.widget-view+json": {
       "model_id": "3f2335b25d564504bc4413181db96daa",
       "version_major": 2,
       "version_minor": 0
      },
      "text/plain": [
       "0it [00:00, ?it/s]"
      ]
     },
     "metadata": {},
     "output_type": "display_data"
    },
    {
     "data": {
      "text/html": [
       "\n",
       "    <div>\n",
       "      \n",
       "      <progress value='47750' max='47750' style='width:300px; height:20px; vertical-align: middle;'></progress>\n",
       "      [47750/47750 17:53, Epoch 10/10]\n",
       "    </div>\n",
       "    <table border=\"1\" class=\"dataframe\">\n",
       "  <thead>\n",
       " <tr style=\"text-align: left;\">\n",
       "      <th>Epoch</th>\n",
       "      <th>Training Loss</th>\n",
       "      <th>Validation Loss</th>\n",
       "      <th>Accuracy</th>\n",
       "      <th>Precision</th>\n",
       "      <th>Recall</th>\n",
       "      <th>F1</th>\n",
       "      <th>Precision Nonbully</th>\n",
       "      <th>Recall Nonbully</th>\n",
       "      <th>F1 Nonbully</th>\n",
       "      <th>Precision Harasser</th>\n",
       "      <th>Recall Harasser</th>\n",
       "      <th>F1 Harasser</th>\n",
       "      <th>Precision Victim</th>\n",
       "      <th>Recall Victim</th>\n",
       "      <th>F1 Victim</th>\n",
       "      <th>Precision Bydefender</th>\n",
       "      <th>Recall Bydefender</th>\n",
       "      <th>F1 Bydefender</th>\n",
       "    </tr>\n",
       "  </thead>\n",
       "  <tbody>\n",
       "    <tr>\n",
       "      <td>10</td>\n",
       "      <td>0.113200</td>\n",
       "      <td>0.184196</td>\n",
       "      <td>0.962138</td>\n",
       "      <td>0.603547</td>\n",
       "      <td>0.646739</td>\n",
       "      <td>0.620333</td>\n",
       "      <td>0.991652</td>\n",
       "      <td>0.978104</td>\n",
       "      <td>0.984831</td>\n",
       "      <td>0.585921</td>\n",
       "      <td>0.786111</td>\n",
       "      <td>0.671412</td>\n",
       "      <td>0.257669</td>\n",
       "      <td>0.311111</td>\n",
       "      <td>0.281879</td>\n",
       "      <td>0.578947</td>\n",
       "      <td>0.511628</td>\n",
       "      <td>0.543210</td>\n",
       "    </tr>\n",
       "  </tbody>\n",
       "</table><p>"
      ],
      "text/plain": [
       "<IPython.core.display.HTML object>"
      ]
     },
     "metadata": {},
     "output_type": "display_data"
    },
    {
     "name": "stderr",
     "output_type": "stream",
     "text": [
      "***** Running Evaluation *****\n",
      "  Num examples = 11225\n",
      "  Batch size = 8\n",
      "Saving model checkpoint to content/drive/MyDrive/output_DistilRoBerta/fold5/checkpoint-47750\n",
      "Configuration saved in content/drive/MyDrive/output_DistilRoBerta/fold5/checkpoint-47750/config.json\n",
      "Model weights saved in content/drive/MyDrive/output_DistilRoBerta/fold5/checkpoint-47750/pytorch_model.bin\n",
      "\n",
      "\n",
      "Training completed. Do not forget to share your model on huggingface.co/models =)\n",
      "\n",
      "\n",
      "Loading best model from content/drive/MyDrive/output_DistilRoBerta/fold5/checkpoint-4775 (score: 0.13188298046588898).\n",
      "5it [19:36, 235.28s/it]"
     ]
    },
    {
     "name": "stdout",
     "output_type": "stream",
     "text": [
      "Complete for fold 5\n"
     ]
    },
    {
     "name": "stderr",
     "output_type": "stream",
     "text": [
      "\n"
     ]
    }
   ],
   "source": [
    "run_cross_validation(model_name='DistilRoBerta',\n",
    "                         X=X,\n",
    "                         y=y, \n",
    "                         splits=5,\n",
    "                         epoch=10,\n",
    "                         checkpoint=True)"
   ]
  },
  {
   "cell_type": "markdown",
   "id": "ciW5Qivdn8TA",
   "metadata": {
    "id": "ciW5Qivdn8TA"
   },
   "source": [
    "<div class=\"alert alert-info\" style=\"background-color:#5d3a8e; color:white; padding:0px 10px; border-radius:5px;\"><h2 style='margin:10px 5px'>Hold Out Split</h2>\n",
    "</div>"
   ]
  },
  {
   "cell_type": "code",
   "execution_count": 10,
   "id": "Gn8AQ9mEghkM",
   "metadata": {
    "id": "Gn8AQ9mEghkM"
   },
   "outputs": [
    {
     "name": "stderr",
     "output_type": "stream",
     "text": [
      "PyTorch: setting up devices\n",
      "The default value for the training argument `--report_to` will change in v5 (from all installed integrations to none). In v5, you will need to use `--report_to all` to get the same behavior as now. You should start updating your code and make this info disappear :-).\n",
      "/opt/conda/lib/python3.9/site-packages/transformers/optimization.py:306: FutureWarning: This implementation of AdamW is deprecated and will be removed in a future version. Use the PyTorch implementation torch.optim.AdamW instead, or set `no_deprecation_warning=True` to disable this warning\n",
      "  warnings.warn(\n",
      "***** Running training *****\n",
      "  Num examples = 38200\n",
      "  Num Epochs = 8\n",
      "  Instantaneous batch size per device = 8\n",
      "  Total train batch size (w. parallel, distributed & accumulation) = 8\n",
      "  Gradient Accumulation steps = 1\n",
      "  Total optimization steps = 38200\n"
     ]
    },
    {
     "name": "stdout",
     "output_type": "stream",
     "text": [
      "Developing Model with Hold Out Splits for: DistilRoBerta\n"
     ]
    },
    {
     "data": {
      "text/html": [
       "\n",
       "    <div>\n",
       "      \n",
       "      <progress value='28650' max='38200' style='width:300px; height:20px; vertical-align: middle;'></progress>\n",
       "      [28650/38200 1:45:03 < 35:01, 4.54 it/s, Epoch 6/8]\n",
       "    </div>\n",
       "    <table border=\"1\" class=\"dataframe\">\n",
       "  <thead>\n",
       " <tr style=\"text-align: left;\">\n",
       "      <th>Epoch</th>\n",
       "      <th>Training Loss</th>\n",
       "      <th>Validation Loss</th>\n",
       "      <th>Accuracy</th>\n",
       "      <th>Precision</th>\n",
       "      <th>Recall</th>\n",
       "      <th>F1</th>\n",
       "      <th>Precision Nonbully</th>\n",
       "      <th>Recall Nonbully</th>\n",
       "      <th>F1 Nonbully</th>\n",
       "      <th>Precision Harasser</th>\n",
       "      <th>Recall Harasser</th>\n",
       "      <th>F1 Harasser</th>\n",
       "      <th>Precision Victim</th>\n",
       "      <th>Recall Victim</th>\n",
       "      <th>F1 Victim</th>\n",
       "      <th>Precision Bydefender</th>\n",
       "      <th>Recall Bydefender</th>\n",
       "      <th>F1 Bydefender</th>\n",
       "    </tr>\n",
       "  </thead>\n",
       "  <tbody>\n",
       "    <tr>\n",
       "      <td>1</td>\n",
       "      <td>0.208700</td>\n",
       "      <td>0.135040</td>\n",
       "      <td>0.967929</td>\n",
       "      <td>0.616003</td>\n",
       "      <td>0.523723</td>\n",
       "      <td>0.543996</td>\n",
       "      <td>0.985909</td>\n",
       "      <td>0.988584</td>\n",
       "      <td>0.987245</td>\n",
       "      <td>0.644769</td>\n",
       "      <td>0.736111</td>\n",
       "      <td>0.687419</td>\n",
       "      <td>0.333333</td>\n",
       "      <td>0.207407</td>\n",
       "      <td>0.255708</td>\n",
       "      <td>0.500000</td>\n",
       "      <td>0.162791</td>\n",
       "      <td>0.245614</td>\n",
       "    </tr>\n",
       "    <tr>\n",
       "      <td>2</td>\n",
       "      <td>0.201300</td>\n",
       "      <td>0.141712</td>\n",
       "      <td>0.958396</td>\n",
       "      <td>0.552808</td>\n",
       "      <td>0.648927</td>\n",
       "      <td>0.593584</td>\n",
       "      <td>0.991805</td>\n",
       "      <td>0.973894</td>\n",
       "      <td>0.982768</td>\n",
       "      <td>0.575758</td>\n",
       "      <td>0.791667</td>\n",
       "      <td>0.666667</td>\n",
       "      <td>0.236264</td>\n",
       "      <td>0.318519</td>\n",
       "      <td>0.271293</td>\n",
       "      <td>0.407407</td>\n",
       "      <td>0.511628</td>\n",
       "      <td>0.453608</td>\n",
       "    </tr>\n",
       "    <tr>\n",
       "      <td>3</td>\n",
       "      <td>0.165000</td>\n",
       "      <td>0.144944</td>\n",
       "      <td>0.962851</td>\n",
       "      <td>0.592758</td>\n",
       "      <td>0.616336</td>\n",
       "      <td>0.597159</td>\n",
       "      <td>0.990345</td>\n",
       "      <td>0.979040</td>\n",
       "      <td>0.984660</td>\n",
       "      <td>0.572534</td>\n",
       "      <td>0.822222</td>\n",
       "      <td>0.675029</td>\n",
       "      <td>0.280374</td>\n",
       "      <td>0.222222</td>\n",
       "      <td>0.247934</td>\n",
       "      <td>0.527778</td>\n",
       "      <td>0.441860</td>\n",
       "      <td>0.481013</td>\n",
       "    </tr>\n",
       "    <tr>\n",
       "      <td>4</td>\n",
       "      <td>0.139200</td>\n",
       "      <td>0.145127</td>\n",
       "      <td>0.967572</td>\n",
       "      <td>0.625242</td>\n",
       "      <td>0.660731</td>\n",
       "      <td>0.639611</td>\n",
       "      <td>0.990750</td>\n",
       "      <td>0.982221</td>\n",
       "      <td>0.986467</td>\n",
       "      <td>0.640257</td>\n",
       "      <td>0.830556</td>\n",
       "      <td>0.723096</td>\n",
       "      <td>0.358333</td>\n",
       "      <td>0.318519</td>\n",
       "      <td>0.337255</td>\n",
       "      <td>0.511628</td>\n",
       "      <td>0.511628</td>\n",
       "      <td>0.511628</td>\n",
       "    </tr>\n",
       "    <tr>\n",
       "      <td>5</td>\n",
       "      <td>0.123800</td>\n",
       "      <td>0.167419</td>\n",
       "      <td>0.964722</td>\n",
       "      <td>0.625743</td>\n",
       "      <td>0.648706</td>\n",
       "      <td>0.629242</td>\n",
       "      <td>0.990351</td>\n",
       "      <td>0.979601</td>\n",
       "      <td>0.984947</td>\n",
       "      <td>0.579457</td>\n",
       "      <td>0.830556</td>\n",
       "      <td>0.682648</td>\n",
       "      <td>0.408163</td>\n",
       "      <td>0.296296</td>\n",
       "      <td>0.343348</td>\n",
       "      <td>0.525000</td>\n",
       "      <td>0.488372</td>\n",
       "      <td>0.506024</td>\n",
       "    </tr>\n",
       "    <tr>\n",
       "      <td>6</td>\n",
       "      <td>0.119100</td>\n",
       "      <td>0.155277</td>\n",
       "      <td>0.964900</td>\n",
       "      <td>0.634926</td>\n",
       "      <td>0.639423</td>\n",
       "      <td>0.629835</td>\n",
       "      <td>0.989705</td>\n",
       "      <td>0.980537</td>\n",
       "      <td>0.985100</td>\n",
       "      <td>0.584337</td>\n",
       "      <td>0.808333</td>\n",
       "      <td>0.678322</td>\n",
       "      <td>0.394231</td>\n",
       "      <td>0.303704</td>\n",
       "      <td>0.343096</td>\n",
       "      <td>0.571429</td>\n",
       "      <td>0.465116</td>\n",
       "      <td>0.512821</td>\n",
       "    </tr>\n",
       "  </tbody>\n",
       "</table><p>"
      ],
      "text/plain": [
       "<IPython.core.display.HTML object>"
      ]
     },
     "metadata": {},
     "output_type": "display_data"
    },
    {
     "name": "stderr",
     "output_type": "stream",
     "text": [
      "***** Running Evaluation *****\n",
      "  Num examples = 11225\n",
      "  Batch size = 8\n",
      "Saving model checkpoint to content/drive/MyDrive/output_DistilRoBerta/holdout/checkpoint-4775\n",
      "Configuration saved in content/drive/MyDrive/output_DistilRoBerta/holdout/checkpoint-4775/config.json\n",
      "Model weights saved in content/drive/MyDrive/output_DistilRoBerta/holdout/checkpoint-4775/pytorch_model.bin\n",
      "***** Running Evaluation *****\n",
      "  Num examples = 11225\n",
      "  Batch size = 8\n",
      "Saving model checkpoint to content/drive/MyDrive/output_DistilRoBerta/holdout/checkpoint-9550\n",
      "Configuration saved in content/drive/MyDrive/output_DistilRoBerta/holdout/checkpoint-9550/config.json\n",
      "Model weights saved in content/drive/MyDrive/output_DistilRoBerta/holdout/checkpoint-9550/pytorch_model.bin\n",
      "***** Running Evaluation *****\n",
      "  Num examples = 11225\n",
      "  Batch size = 8\n",
      "Saving model checkpoint to content/drive/MyDrive/output_DistilRoBerta/holdout/checkpoint-14325\n",
      "Configuration saved in content/drive/MyDrive/output_DistilRoBerta/holdout/checkpoint-14325/config.json\n",
      "Model weights saved in content/drive/MyDrive/output_DistilRoBerta/holdout/checkpoint-14325/pytorch_model.bin\n",
      "***** Running Evaluation *****\n",
      "  Num examples = 11225\n",
      "  Batch size = 8\n",
      "Saving model checkpoint to content/drive/MyDrive/output_DistilRoBerta/holdout/checkpoint-19100\n",
      "Configuration saved in content/drive/MyDrive/output_DistilRoBerta/holdout/checkpoint-19100/config.json\n",
      "Model weights saved in content/drive/MyDrive/output_DistilRoBerta/holdout/checkpoint-19100/pytorch_model.bin\n",
      "***** Running Evaluation *****\n",
      "  Num examples = 11225\n",
      "  Batch size = 8\n",
      "Saving model checkpoint to content/drive/MyDrive/output_DistilRoBerta/holdout/checkpoint-23875\n",
      "Configuration saved in content/drive/MyDrive/output_DistilRoBerta/holdout/checkpoint-23875/config.json\n",
      "Model weights saved in content/drive/MyDrive/output_DistilRoBerta/holdout/checkpoint-23875/pytorch_model.bin\n",
      "***** Running Evaluation *****\n",
      "  Num examples = 11225\n",
      "  Batch size = 8\n",
      "Saving model checkpoint to content/drive/MyDrive/output_DistilRoBerta/holdout/checkpoint-28650\n",
      "Configuration saved in content/drive/MyDrive/output_DistilRoBerta/holdout/checkpoint-28650/config.json\n",
      "Model weights saved in content/drive/MyDrive/output_DistilRoBerta/holdout/checkpoint-28650/pytorch_model.bin\n",
      "\n",
      "\n",
      "Training completed. Do not forget to share your model on huggingface.co/models =)\n",
      "\n",
      "\n",
      "Loading best model from content/drive/MyDrive/output_DistilRoBerta/holdout/checkpoint-4775 (score: 0.13504023849964142).\n"
     ]
    },
    {
     "name": "stdout",
     "output_type": "stream",
     "text": [
      "Complete for hold-out validate set\n"
     ]
    }
   ],
   "source": [
    "run_hold_out_split(model_name='DistilRoBerta',\n",
    "                       epoch=8,\n",
    "                       train_dataset=train_dataset,\n",
    "                       eval_dataset=val_dataset,\n",
    "                       checkpoint=False)"
   ]
  },
  {
   "cell_type": "code",
   "execution_count": 11,
   "id": "d821449d-47d8-4593-be09-92018a27b746",
   "metadata": {},
   "outputs": [
    {
     "name": "stderr",
     "output_type": "stream",
     "text": [
      "PyTorch: setting up devices\n",
      "The default value for the training argument `--report_to` will change in v5 (from all installed integrations to none). In v5, you will need to use `--report_to all` to get the same behavior as now. You should start updating your code and make this info disappear :-).\n",
      "Loading model from content/drive/MyDrive/output_DistilRoBerta/holdout/checkpoint-28650).\n"
     ]
    },
    {
     "name": "stdout",
     "output_type": "stream",
     "text": [
      "Developing Model with Hold Out Splits for: DistilRoBerta\n"
     ]
    },
    {
     "name": "stderr",
     "output_type": "stream",
     "text": [
      "/opt/conda/lib/python3.9/site-packages/transformers/optimization.py:306: FutureWarning: This implementation of AdamW is deprecated and will be removed in a future version. Use the PyTorch implementation torch.optim.AdamW instead, or set `no_deprecation_warning=True` to disable this warning\n",
      "  warnings.warn(\n",
      "***** Running training *****\n",
      "  Num examples = 38200\n",
      "  Num Epochs = 8\n",
      "  Instantaneous batch size per device = 8\n",
      "  Total train batch size (w. parallel, distributed & accumulation) = 8\n",
      "  Gradient Accumulation steps = 1\n",
      "  Total optimization steps = 38200\n",
      "  Continuing training from checkpoint, will skip to saved global_step\n",
      "  Continuing training from epoch 6\n",
      "  Continuing training from global step 28650\n",
      "  Will skip the first 6 epochs then the first 0 batches in the first epoch. If this takes a lot of time, you can add the `--ignore_data_skip` flag to your launch command, but you will resume the training on data already seen by your model.\n"
     ]
    },
    {
     "data": {
      "application/vnd.jupyter.widget-view+json": {
       "model_id": "8662053891f54ba8b1815d838d5392f8",
       "version_major": 2,
       "version_minor": 0
      },
      "text/plain": [
       "0it [00:00, ?it/s]"
      ]
     },
     "metadata": {},
     "output_type": "display_data"
    },
    {
     "data": {
      "text/html": [
       "\n",
       "    <div>\n",
       "      \n",
       "      <progress value='38200' max='38200' style='width:300px; height:20px; vertical-align: middle;'></progress>\n",
       "      [38200/38200 34:56, Epoch 8/8]\n",
       "    </div>\n",
       "    <table border=\"1\" class=\"dataframe\">\n",
       "  <thead>\n",
       " <tr style=\"text-align: left;\">\n",
       "      <th>Epoch</th>\n",
       "      <th>Training Loss</th>\n",
       "      <th>Validation Loss</th>\n",
       "      <th>Accuracy</th>\n",
       "      <th>Precision</th>\n",
       "      <th>Recall</th>\n",
       "      <th>F1</th>\n",
       "      <th>Precision Nonbully</th>\n",
       "      <th>Recall Nonbully</th>\n",
       "      <th>F1 Nonbully</th>\n",
       "      <th>Precision Harasser</th>\n",
       "      <th>Recall Harasser</th>\n",
       "      <th>F1 Harasser</th>\n",
       "      <th>Precision Victim</th>\n",
       "      <th>Recall Victim</th>\n",
       "      <th>F1 Victim</th>\n",
       "      <th>Precision Bydefender</th>\n",
       "      <th>Recall Bydefender</th>\n",
       "      <th>F1 Bydefender</th>\n",
       "    </tr>\n",
       "  </thead>\n",
       "  <tbody>\n",
       "    <tr>\n",
       "      <td>7</td>\n",
       "      <td>0.106300</td>\n",
       "      <td>0.166425</td>\n",
       "      <td>0.964365</td>\n",
       "      <td>0.629725</td>\n",
       "      <td>0.643912</td>\n",
       "      <td>0.630822</td>\n",
       "      <td>0.989980</td>\n",
       "      <td>0.979976</td>\n",
       "      <td>0.984953</td>\n",
       "      <td>0.578629</td>\n",
       "      <td>0.797222</td>\n",
       "      <td>0.670561</td>\n",
       "      <td>0.394737</td>\n",
       "      <td>0.333333</td>\n",
       "      <td>0.361446</td>\n",
       "      <td>0.555556</td>\n",
       "      <td>0.465116</td>\n",
       "      <td>0.506329</td>\n",
       "    </tr>\n",
       "    <tr>\n",
       "      <td>8</td>\n",
       "      <td>0.101600</td>\n",
       "      <td>0.179318</td>\n",
       "      <td>0.962494</td>\n",
       "      <td>0.607452</td>\n",
       "      <td>0.662685</td>\n",
       "      <td>0.629532</td>\n",
       "      <td>0.990796</td>\n",
       "      <td>0.977075</td>\n",
       "      <td>0.983888</td>\n",
       "      <td>0.568932</td>\n",
       "      <td>0.813889</td>\n",
       "      <td>0.669714</td>\n",
       "      <td>0.370079</td>\n",
       "      <td>0.348148</td>\n",
       "      <td>0.358779</td>\n",
       "      <td>0.500000</td>\n",
       "      <td>0.511628</td>\n",
       "      <td>0.505747</td>\n",
       "    </tr>\n",
       "  </tbody>\n",
       "</table><p>"
      ],
      "text/plain": [
       "<IPython.core.display.HTML object>"
      ]
     },
     "metadata": {},
     "output_type": "display_data"
    },
    {
     "name": "stderr",
     "output_type": "stream",
     "text": [
      "***** Running Evaluation *****\n",
      "  Num examples = 11225\n",
      "  Batch size = 8\n",
      "Saving model checkpoint to content/drive/MyDrive/output_DistilRoBerta/holdout/checkpoint-33425\n",
      "Configuration saved in content/drive/MyDrive/output_DistilRoBerta/holdout/checkpoint-33425/config.json\n",
      "Model weights saved in content/drive/MyDrive/output_DistilRoBerta/holdout/checkpoint-33425/pytorch_model.bin\n",
      "***** Running Evaluation *****\n",
      "  Num examples = 11225\n",
      "  Batch size = 8\n",
      "Saving model checkpoint to content/drive/MyDrive/output_DistilRoBerta/holdout/checkpoint-38200\n",
      "Configuration saved in content/drive/MyDrive/output_DistilRoBerta/holdout/checkpoint-38200/config.json\n",
      "Model weights saved in content/drive/MyDrive/output_DistilRoBerta/holdout/checkpoint-38200/pytorch_model.bin\n",
      "\n",
      "\n",
      "Training completed. Do not forget to share your model on huggingface.co/models =)\n",
      "\n",
      "\n",
      "Loading best model from content/drive/MyDrive/output_DistilRoBerta/holdout/checkpoint-4775 (score: 0.13504023849964142).\n"
     ]
    },
    {
     "name": "stdout",
     "output_type": "stream",
     "text": [
      "Complete for hold-out validate set\n"
     ]
    }
   ],
   "source": [
    "run_hold_out_split(model_name='DistilRoBerta',\n",
    "                       epoch=8,\n",
    "                       train_dataset=train_dataset,\n",
    "                       eval_dataset=val_dataset,\n",
    "                       checkpoint=True)"
   ]
  },
  {
   "cell_type": "code",
   "execution_count": 10,
   "id": "bd3e57df-16de-41d7-92e2-cc1701c6377e",
   "metadata": {},
   "outputs": [
    {
     "name": "stderr",
     "output_type": "stream",
     "text": [
      "PyTorch: setting up devices\n",
      "The default value for the training argument `--report_to` will change in v5 (from all installed integrations to none). In v5, you will need to use `--report_to all` to get the same behavior as now. You should start updating your code and make this info disappear :-).\n",
      "Loading model from content/drive/MyDrive/output_DistilRoBerta/holdout/checkpoint-38200).\n"
     ]
    },
    {
     "name": "stdout",
     "output_type": "stream",
     "text": [
      "Developing Model with Hold Out Splits for: DistilRoBerta\n"
     ]
    },
    {
     "name": "stderr",
     "output_type": "stream",
     "text": [
      "/opt/conda/lib/python3.9/site-packages/transformers/optimization.py:306: FutureWarning: This implementation of AdamW is deprecated and will be removed in a future version. Use the PyTorch implementation torch.optim.AdamW instead, or set `no_deprecation_warning=True` to disable this warning\n",
      "  warnings.warn(\n",
      "***** Running training *****\n",
      "  Num examples = 38200\n",
      "  Num Epochs = 10\n",
      "  Instantaneous batch size per device = 8\n",
      "  Total train batch size (w. parallel, distributed & accumulation) = 8\n",
      "  Gradient Accumulation steps = 1\n",
      "  Total optimization steps = 47750\n",
      "  Continuing training from checkpoint, will skip to saved global_step\n",
      "  Continuing training from epoch 8\n",
      "  Continuing training from global step 38200\n",
      "  Will skip the first 8 epochs then the first 0 batches in the first epoch. If this takes a lot of time, you can add the `--ignore_data_skip` flag to your launch command, but you will resume the training on data already seen by your model.\n"
     ]
    },
    {
     "data": {
      "application/vnd.jupyter.widget-view+json": {
       "model_id": "ec0d9390033d4625b2e9e12b3742a14f",
       "version_major": 2,
       "version_minor": 0
      },
      "text/plain": [
       "0it [00:00, ?it/s]"
      ]
     },
     "metadata": {},
     "output_type": "display_data"
    },
    {
     "data": {
      "text/html": [
       "\n",
       "    <div>\n",
       "      \n",
       "      <progress value='47750' max='47750' style='width:300px; height:20px; vertical-align: middle;'></progress>\n",
       "      [47750/47750 35:28, Epoch 10/10]\n",
       "    </div>\n",
       "    <table border=\"1\" class=\"dataframe\">\n",
       "  <thead>\n",
       " <tr style=\"text-align: left;\">\n",
       "      <th>Epoch</th>\n",
       "      <th>Training Loss</th>\n",
       "      <th>Validation Loss</th>\n",
       "      <th>Accuracy</th>\n",
       "      <th>Precision</th>\n",
       "      <th>Recall</th>\n",
       "      <th>F1</th>\n",
       "      <th>Precision Nonbully</th>\n",
       "      <th>Recall Nonbully</th>\n",
       "      <th>F1 Nonbully</th>\n",
       "      <th>Precision Harasser</th>\n",
       "      <th>Recall Harasser</th>\n",
       "      <th>F1 Harasser</th>\n",
       "      <th>Precision Victim</th>\n",
       "      <th>Recall Victim</th>\n",
       "      <th>F1 Victim</th>\n",
       "      <th>Precision Bydefender</th>\n",
       "      <th>Recall Bydefender</th>\n",
       "      <th>F1 Bydefender</th>\n",
       "    </tr>\n",
       "  </thead>\n",
       "  <tbody>\n",
       "    <tr>\n",
       "      <td>9</td>\n",
       "      <td>0.121100</td>\n",
       "      <td>0.174069</td>\n",
       "      <td>0.963920</td>\n",
       "      <td>0.619617</td>\n",
       "      <td>0.660744</td>\n",
       "      <td>0.635233</td>\n",
       "      <td>0.990810</td>\n",
       "      <td>0.978572</td>\n",
       "      <td>0.984653</td>\n",
       "      <td>0.588822</td>\n",
       "      <td>0.819444</td>\n",
       "      <td>0.685250</td>\n",
       "      <td>0.348837</td>\n",
       "      <td>0.333333</td>\n",
       "      <td>0.340909</td>\n",
       "      <td>0.550000</td>\n",
       "      <td>0.511628</td>\n",
       "      <td>0.530120</td>\n",
       "    </tr>\n",
       "    <tr>\n",
       "      <td>10</td>\n",
       "      <td>0.086200</td>\n",
       "      <td>0.185111</td>\n",
       "      <td>0.962762</td>\n",
       "      <td>0.607988</td>\n",
       "      <td>0.676165</td>\n",
       "      <td>0.636997</td>\n",
       "      <td>0.990984</td>\n",
       "      <td>0.977075</td>\n",
       "      <td>0.983980</td>\n",
       "      <td>0.582505</td>\n",
       "      <td>0.813889</td>\n",
       "      <td>0.679027</td>\n",
       "      <td>0.347826</td>\n",
       "      <td>0.355556</td>\n",
       "      <td>0.351648</td>\n",
       "      <td>0.510638</td>\n",
       "      <td>0.558140</td>\n",
       "      <td>0.533333</td>\n",
       "    </tr>\n",
       "  </tbody>\n",
       "</table><p>"
      ],
      "text/plain": [
       "<IPython.core.display.HTML object>"
      ]
     },
     "metadata": {},
     "output_type": "display_data"
    },
    {
     "name": "stderr",
     "output_type": "stream",
     "text": [
      "***** Running Evaluation *****\n",
      "  Num examples = 11225\n",
      "  Batch size = 8\n",
      "Saving model checkpoint to content/drive/MyDrive/output_DistilRoBerta/holdout/checkpoint-42975\n",
      "Configuration saved in content/drive/MyDrive/output_DistilRoBerta/holdout/checkpoint-42975/config.json\n",
      "Model weights saved in content/drive/MyDrive/output_DistilRoBerta/holdout/checkpoint-42975/pytorch_model.bin\n",
      "***** Running Evaluation *****\n",
      "  Num examples = 11225\n",
      "  Batch size = 8\n",
      "Saving model checkpoint to content/drive/MyDrive/output_DistilRoBerta/holdout/checkpoint-47750\n",
      "Configuration saved in content/drive/MyDrive/output_DistilRoBerta/holdout/checkpoint-47750/config.json\n",
      "Model weights saved in content/drive/MyDrive/output_DistilRoBerta/holdout/checkpoint-47750/pytorch_model.bin\n",
      "\n",
      "\n",
      "Training completed. Do not forget to share your model on huggingface.co/models =)\n",
      "\n",
      "\n",
      "Loading best model from content/drive/MyDrive/output_DistilRoBerta/holdout/checkpoint-4775 (score: 0.13504023849964142).\n"
     ]
    },
    {
     "name": "stdout",
     "output_type": "stream",
     "text": [
      "Complete for hold-out validate set\n"
     ]
    }
   ],
   "source": [
    "run_hold_out_split(model_name='DistilRoBerta',\n",
    "                       epoch=10,\n",
    "                       train_dataset=train_dataset,\n",
    "                       eval_dataset=val_dataset,\n",
    "                       checkpoint=True)"
   ]
  },
  {
   "cell_type": "markdown",
   "id": "aLWx6bXFkG5y",
   "metadata": {
    "id": "aLWx6bXFkG5y"
   },
   "source": [
    "### Test Split Cross Validation"
   ]
  },
  {
   "cell_type": "markdown",
   "id": "QDcKJB-xpELh",
   "metadata": {
    "id": "QDcKJB-xpELh",
    "tags": []
   },
   "source": [
    "#### Epoch 1"
   ]
  },
  {
   "cell_type": "code",
   "execution_count": null,
   "id": "tVxy16Oqj4qa",
   "metadata": {
    "id": "tVxy16Oqj4qa"
   },
   "outputs": [
    {
     "name": "stderr",
     "output_type": "stream",
     "text": [
      "loading configuration file content/drive/MyDrive/output_DistilRoBerta/holdout/checkpoint-4775/config.json\n",
      "Model config RobertaConfig {\n",
      "  \"_name_or_path\": \"content/drive/MyDrive/output_DistilRoBerta/holdout/checkpoint-4775\",\n",
      "  \"architectures\": [\n",
      "    \"RobertaForSequenceClassification\"\n",
      "  ],\n",
      "  \"attention_probs_dropout_prob\": 0.1,\n",
      "  \"bos_token_id\": 0,\n",
      "  \"classifier_dropout\": null,\n",
      "  \"eos_token_id\": 2,\n",
      "  \"hidden_act\": \"gelu\",\n",
      "  \"hidden_dropout_prob\": 0.1,\n",
      "  \"hidden_size\": 768,\n",
      "  \"id2label\": {\n",
      "    \"0\": \"LABEL_0\",\n",
      "    \"1\": \"LABEL_1\",\n",
      "    \"2\": \"LABEL_2\",\n",
      "    \"3\": \"LABEL_3\"\n",
      "  },\n",
      "  \"initializer_range\": 0.02,\n",
      "  \"intermediate_size\": 3072,\n",
      "  \"label2id\": {\n",
      "    \"LABEL_0\": 0,\n",
      "    \"LABEL_1\": 1,\n",
      "    \"LABEL_2\": 2,\n",
      "    \"LABEL_3\": 3\n",
      "  },\n",
      "  \"layer_norm_eps\": 1e-05,\n",
      "  \"max_position_embeddings\": 514,\n",
      "  \"model_type\": \"roberta\",\n",
      "  \"num_attention_heads\": 12,\n",
      "  \"num_hidden_layers\": 6,\n",
      "  \"pad_token_id\": 1,\n",
      "  \"position_embedding_type\": \"absolute\",\n",
      "  \"problem_type\": \"single_label_classification\",\n",
      "  \"torch_dtype\": \"float32\",\n",
      "  \"transformers_version\": \"4.18.0\",\n",
      "  \"type_vocab_size\": 1,\n",
      "  \"use_cache\": true,\n",
      "  \"vocab_size\": 50265\n",
      "}\n",
      "\n",
      "loading weights file content/drive/MyDrive/output_DistilRoBerta/holdout/checkpoint-4775/pytorch_model.bin\n",
      "All model checkpoint weights were used when initializing RobertaForSequenceClassification.\n",
      "\n",
      "All the weights of RobertaForSequenceClassification were initialized from the model checkpoint at content/drive/MyDrive/output_DistilRoBerta/holdout/checkpoint-4775.\n",
      "If your task is similar to the task the model of the checkpoint was trained on, you can already use RobertaForSequenceClassification for predictions without further training.\n",
      "No `TrainingArguments` passed, using `output_dir=tmp_trainer`.\n",
      "PyTorch: setting up devices\n",
      "The default value for the training argument `--report_to` will change in v5 (from all installed integrations to none). In v5, you will need to use `--report_to all` to get the same behavior as now. You should start updating your code and make this info disappear :-).\n",
      "***** Running Prediction *****\n",
      "  Num examples = 11225\n",
      "  Batch size = 8\n"
     ]
    },
    {
     "data": {
      "text/html": [
       "\n",
       "    <div>\n",
       "      \n",
       "      <progress value='1404' max='1404' style='width:300px; height:20px; vertical-align: middle;'></progress>\n",
       "      [1404/1404 01:27]\n",
       "    </div>\n",
       "    "
      ],
      "text/plain": [
       "<IPython.core.display.HTML object>"
      ]
     },
     "metadata": {},
     "output_type": "display_data"
    },
    {
     "name": "stdout",
     "output_type": "stream",
     "text": [
      "Classification Report:\n",
      "              precision    recall  f1-score   support\n",
      "\n",
      "           0       0.99      0.99      0.99     10687\n",
      "           1       0.64      0.74      0.69       360\n",
      "           2       0.33      0.21      0.26       135\n",
      "           3       0.50      0.16      0.25        43\n",
      "\n",
      "    accuracy                           0.97     11225\n",
      "   macro avg       0.62      0.52      0.54     11225\n",
      "weighted avg       0.97      0.97      0.97     11225\n",
      "\n",
      "\n",
      "Macro Metrics:\n",
      "Precision:  0.6160027777550725\n",
      "Recall:  0.5237233693612314\n",
      "F-measure:  0.5439963782150755\n",
      "\n",
      "Label 0: Non-bully\n",
      "Precision:  0.9859089212392684\n",
      "Recall:  0.9885842612519884\n",
      "F-measure:  0.9872447787693315\n",
      "\n",
      "Label 1: Harasser\n",
      "Precision:  0.6447688564476886\n",
      "Recall:  0.7361111111111112\n",
      "F-measure:  0.6874189364461738\n",
      "\n",
      "Label 2: Victim\n",
      "Precision:  0.3333333333333333\n",
      "Recall:  0.2074074074074074\n",
      "F-measure:  0.2557077625570776\n",
      "\n",
      "Label 3: Bystander-defender\n",
      "Precision:  0.5\n",
      "Recall:  0.16279069767441862\n",
      "F-measure:  0.24561403508771928\n",
      "\n"
     ]
    },
    {
     "data": {
      "image/png": "[encoded data removed]",
      "text/plain": [
       "<Figure size 864x576 with 2 Axes>"
      ]
     },
     "metadata": {
      "needs_background": "light"
     },
     "output_type": "display_data"
    }
   ],
   "source": [
    "compute_metrics_holdout(model_name='DistilRoBerta',\n",
    "                        model_path='content/drive/MyDrive/output_DistilRoBerta/holdout/checkpoint-4775', \n",
    "                        average_method='macro',\n",
    "                        X_test=X_test)"
   ]
  },
  {
   "cell_type": "markdown",
   "id": "vHPsS5ygoKsl",
   "metadata": {
    "id": "vHPsS5ygoKsl"
   },
   "source": [
    "#### Epoch 2"
   ]
  },
  {
   "cell_type": "code",
   "execution_count": null,
   "id": "jOxijXVBoKsm",
   "metadata": {
    "id": "jOxijXVBoKsm"
   },
   "outputs": [
    {
     "name": "stderr",
     "output_type": "stream",
     "text": [
      "loading configuration file content/drive/MyDrive/output_DistilRoBerta/holdout/checkpoint-9550/config.json\n",
      "Model config RobertaConfig {\n",
      "  \"_name_or_path\": \"content/drive/MyDrive/output_DistilRoBerta/holdout/checkpoint-9550\",\n",
      "  \"architectures\": [\n",
      "    \"RobertaForSequenceClassification\"\n",
      "  ],\n",
      "  \"attention_probs_dropout_prob\": 0.1,\n",
      "  \"bos_token_id\": 0,\n",
      "  \"classifier_dropout\": null,\n",
      "  \"eos_token_id\": 2,\n",
      "  \"hidden_act\": \"gelu\",\n",
      "  \"hidden_dropout_prob\": 0.1,\n",
      "  \"hidden_size\": 768,\n",
      "  \"id2label\": {\n",
      "    \"0\": \"LABEL_0\",\n",
      "    \"1\": \"LABEL_1\",\n",
      "    \"2\": \"LABEL_2\",\n",
      "    \"3\": \"LABEL_3\"\n",
      "  },\n",
      "  \"initializer_range\": 0.02,\n",
      "  \"intermediate_size\": 3072,\n",
      "  \"label2id\": {\n",
      "    \"LABEL_0\": 0,\n",
      "    \"LABEL_1\": 1,\n",
      "    \"LABEL_2\": 2,\n",
      "    \"LABEL_3\": 3\n",
      "  },\n",
      "  \"layer_norm_eps\": 1e-05,\n",
      "  \"max_position_embeddings\": 514,\n",
      "  \"model_type\": \"roberta\",\n",
      "  \"num_attention_heads\": 12,\n",
      "  \"num_hidden_layers\": 6,\n",
      "  \"pad_token_id\": 1,\n",
      "  \"position_embedding_type\": \"absolute\",\n",
      "  \"problem_type\": \"single_label_classification\",\n",
      "  \"torch_dtype\": \"float32\",\n",
      "  \"transformers_version\": \"4.18.0\",\n",
      "  \"type_vocab_size\": 1,\n",
      "  \"use_cache\": true,\n",
      "  \"vocab_size\": 50265\n",
      "}\n",
      "\n",
      "loading weights file content/drive/MyDrive/output_DistilRoBerta/holdout/checkpoint-9550/pytorch_model.bin\n",
      "All model checkpoint weights were used when initializing RobertaForSequenceClassification.\n",
      "\n",
      "All the weights of RobertaForSequenceClassification were initialized from the model checkpoint at content/drive/MyDrive/output_DistilRoBerta/holdout/checkpoint-9550.\n",
      "If your task is similar to the task the model of the checkpoint was trained on, you can already use RobertaForSequenceClassification for predictions without further training.\n",
      "No `TrainingArguments` passed, using `output_dir=tmp_trainer`.\n",
      "PyTorch: setting up devices\n",
      "The default value for the training argument `--report_to` will change in v5 (from all installed integrations to none). In v5, you will need to use `--report_to all` to get the same behavior as now. You should start updating your code and make this info disappear :-).\n",
      "***** Running Prediction *****\n",
      "  Num examples = 11225\n",
      "  Batch size = 8\n"
     ]
    },
    {
     "data": {
      "text/html": [
       "\n",
       "    <div>\n",
       "      \n",
       "      <progress value='1404' max='1404' style='width:300px; height:20px; vertical-align: middle;'></progress>\n",
       "      [1404/1404 01:27]\n",
       "    </div>\n",
       "    "
      ],
      "text/plain": [
       "<IPython.core.display.HTML object>"
      ]
     },
     "metadata": {},
     "output_type": "display_data"
    },
    {
     "name": "stdout",
     "output_type": "stream",
     "text": [
      "Classification Report:\n",
      "              precision    recall  f1-score   support\n",
      "\n",
      "           0       0.99      0.97      0.98     10687\n",
      "           1       0.58      0.79      0.67       360\n",
      "           2       0.24      0.32      0.27       135\n",
      "           3       0.41      0.51      0.45        43\n",
      "\n",
      "    accuracy                           0.96     11225\n",
      "   macro avg       0.55      0.65      0.59     11225\n",
      "weighted avg       0.97      0.96      0.96     11225\n",
      "\n",
      "\n",
      "Macro Metrics:\n",
      "Precision:  0.552808390072541\n",
      "Recall:  0.6489266519120085\n",
      "F-measure:  0.5935839660492138\n",
      "\n",
      "Label 0: Non-bully\n",
      "Precision:  0.9918048408614446\n",
      "Recall:  0.9738935154861046\n",
      "F-measure:  0.9827675747131863\n",
      "\n",
      "Label 1: Harasser\n",
      "Precision:  0.5757575757575758\n",
      "Recall:  0.7916666666666666\n",
      "F-measure:  0.6666666666666667\n",
      "\n",
      "Label 2: Victim\n",
      "Precision:  0.23626373626373626\n",
      "Recall:  0.31851851851851853\n",
      "F-measure:  0.2712933753943218\n",
      "\n",
      "Label 3: Bystander-defender\n",
      "Precision:  0.4074074074074074\n",
      "Recall:  0.5116279069767442\n",
      "F-measure:  0.4536082474226804\n",
      "\n"
     ]
    },
    {
     "data": {
      "image/png": "[encoded data removed]",
      "text/plain": [
       "<Figure size 864x576 with 2 Axes>"
      ]
     },
     "metadata": {
      "needs_background": "light"
     },
     "output_type": "display_data"
    }
   ],
   "source": [
    "compute_metrics_holdout(model_name='DistilRoBerta',\n",
    "                        model_path='content/drive/MyDrive/output_DistilRoBerta/holdout/checkpoint-9550', \n",
    "                        average_method='macro',\n",
    "                        X_test=X_test)"
   ]
  },
  {
   "cell_type": "markdown",
   "id": "b2vwnX1CoK65",
   "metadata": {
    "id": "b2vwnX1CoK65"
   },
   "source": [
    "#### Epoch 3"
   ]
  },
  {
   "cell_type": "code",
   "execution_count": null,
   "id": "oQRlv9GqoK65",
   "metadata": {
    "id": "oQRlv9GqoK65"
   },
   "outputs": [
    {
     "name": "stderr",
     "output_type": "stream",
     "text": [
      "loading configuration file content/drive/MyDrive/output_DistilRoBerta/holdout/checkpoint-14325/config.json\n",
      "Model config RobertaConfig {\n",
      "  \"_name_or_path\": \"content/drive/MyDrive/output_DistilRoBerta/holdout/checkpoint-14325\",\n",
      "  \"architectures\": [\n",
      "    \"RobertaForSequenceClassification\"\n",
      "  ],\n",
      "  \"attention_probs_dropout_prob\": 0.1,\n",
      "  \"bos_token_id\": 0,\n",
      "  \"classifier_dropout\": null,\n",
      "  \"eos_token_id\": 2,\n",
      "  \"hidden_act\": \"gelu\",\n",
      "  \"hidden_dropout_prob\": 0.1,\n",
      "  \"hidden_size\": 768,\n",
      "  \"id2label\": {\n",
      "    \"0\": \"LABEL_0\",\n",
      "    \"1\": \"LABEL_1\",\n",
      "    \"2\": \"LABEL_2\",\n",
      "    \"3\": \"LABEL_3\"\n",
      "  },\n",
      "  \"initializer_range\": 0.02,\n",
      "  \"intermediate_size\": 3072,\n",
      "  \"label2id\": {\n",
      "    \"LABEL_0\": 0,\n",
      "    \"LABEL_1\": 1,\n",
      "    \"LABEL_2\": 2,\n",
      "    \"LABEL_3\": 3\n",
      "  },\n",
      "  \"layer_norm_eps\": 1e-05,\n",
      "  \"max_position_embeddings\": 514,\n",
      "  \"model_type\": \"roberta\",\n",
      "  \"num_attention_heads\": 12,\n",
      "  \"num_hidden_layers\": 6,\n",
      "  \"pad_token_id\": 1,\n",
      "  \"position_embedding_type\": \"absolute\",\n",
      "  \"problem_type\": \"single_label_classification\",\n",
      "  \"torch_dtype\": \"float32\",\n",
      "  \"transformers_version\": \"4.18.0\",\n",
      "  \"type_vocab_size\": 1,\n",
      "  \"use_cache\": true,\n",
      "  \"vocab_size\": 50265\n",
      "}\n",
      "\n",
      "loading weights file content/drive/MyDrive/output_DistilRoBerta/holdout/checkpoint-14325/pytorch_model.bin\n",
      "All model checkpoint weights were used when initializing RobertaForSequenceClassification.\n",
      "\n",
      "All the weights of RobertaForSequenceClassification were initialized from the model checkpoint at content/drive/MyDrive/output_DistilRoBerta/holdout/checkpoint-14325.\n",
      "If your task is similar to the task the model of the checkpoint was trained on, you can already use RobertaForSequenceClassification for predictions without further training.\n",
      "No `TrainingArguments` passed, using `output_dir=tmp_trainer`.\n",
      "PyTorch: setting up devices\n",
      "The default value for the training argument `--report_to` will change in v5 (from all installed integrations to none). In v5, you will need to use `--report_to all` to get the same behavior as now. You should start updating your code and make this info disappear :-).\n",
      "***** Running Prediction *****\n",
      "  Num examples = 11225\n",
      "  Batch size = 8\n"
     ]
    },
    {
     "data": {
      "text/html": [
       "\n",
       "    <div>\n",
       "      \n",
       "      <progress value='1404' max='1404' style='width:300px; height:20px; vertical-align: middle;'></progress>\n",
       "      [1404/1404 01:27]\n",
       "    </div>\n",
       "    "
      ],
      "text/plain": [
       "<IPython.core.display.HTML object>"
      ]
     },
     "metadata": {},
     "output_type": "display_data"
    },
    {
     "name": "stdout",
     "output_type": "stream",
     "text": [
      "Classification Report:\n",
      "              precision    recall  f1-score   support\n",
      "\n",
      "           0       0.99      0.98      0.98     10687\n",
      "           1       0.57      0.82      0.68       360\n",
      "           2       0.28      0.22      0.25       135\n",
      "           3       0.53      0.44      0.48        43\n",
      "\n",
      "    accuracy                           0.96     11225\n",
      "   macro avg       0.59      0.62      0.60     11225\n",
      "weighted avg       0.97      0.96      0.96     11225\n",
      "\n",
      "\n",
      "Macro Metrics:\n",
      "Precision:  0.5927577347606877\n",
      "Recall:  0.6163362161615854\n",
      "F-measure:  0.5971588290164278\n",
      "\n",
      "Label 0: Non-bully\n",
      "Precision:  0.9903454803596782\n",
      "Recall:  0.979039955085618\n",
      "F-measure:  0.9846602672689628\n",
      "\n",
      "Label 1: Harasser\n",
      "Precision:  0.5725338491295938\n",
      "Recall:  0.8222222222222222\n",
      "F-measure:  0.6750285062713796\n",
      "\n",
      "Label 2: Victim\n",
      "Precision:  0.2803738317757009\n",
      "Recall:  0.2222222222222222\n",
      "F-measure:  0.24793388429752067\n",
      "\n",
      "Label 3: Bystander-defender\n",
      "Precision:  0.5277777777777778\n",
      "Recall:  0.4418604651162791\n",
      "F-measure:  0.4810126582278481\n",
      "\n"
     ]
    },
    {
     "data": {
      "image/png": "[encoded data removed]",
      "text/plain": [
       "<Figure size 864x576 with 2 Axes>"
      ]
     },
     "metadata": {
      "needs_background": "light"
     },
     "output_type": "display_data"
    }
   ],
   "source": [
    "compute_metrics_holdout(model_name='DistilRoBerta',\n",
    "                        model_path='content/drive/MyDrive/output_DistilRoBerta/holdout/checkpoint-14325', \n",
    "                        average_method='macro',\n",
    "                        X_test=X_test)"
   ]
  },
  {
   "cell_type": "markdown",
   "id": "2i5rAbFSoLHp",
   "metadata": {
    "id": "2i5rAbFSoLHp",
    "tags": []
   },
   "source": [
    "#### Epoch 4"
   ]
  },
  {
   "cell_type": "code",
   "execution_count": null,
   "id": "_dX4I2MGoLHp",
   "metadata": {
    "id": "_dX4I2MGoLHp"
   },
   "outputs": [
    {
     "name": "stderr",
     "output_type": "stream",
     "text": [
      "loading configuration file content/drive/MyDrive/output_DistilRoBerta/holdout/checkpoint-19100/config.json\n",
      "Model config RobertaConfig {\n",
      "  \"_name_or_path\": \"content/drive/MyDrive/output_DistilRoBerta/holdout/checkpoint-19100\",\n",
      "  \"architectures\": [\n",
      "    \"RobertaForSequenceClassification\"\n",
      "  ],\n",
      "  \"attention_probs_dropout_prob\": 0.1,\n",
      "  \"bos_token_id\": 0,\n",
      "  \"classifier_dropout\": null,\n",
      "  \"eos_token_id\": 2,\n",
      "  \"hidden_act\": \"gelu\",\n",
      "  \"hidden_dropout_prob\": 0.1,\n",
      "  \"hidden_size\": 768,\n",
      "  \"id2label\": {\n",
      "    \"0\": \"LABEL_0\",\n",
      "    \"1\": \"LABEL_1\",\n",
      "    \"2\": \"LABEL_2\",\n",
      "    \"3\": \"LABEL_3\"\n",
      "  },\n",
      "  \"initializer_range\": 0.02,\n",
      "  \"intermediate_size\": 3072,\n",
      "  \"label2id\": {\n",
      "    \"LABEL_0\": 0,\n",
      "    \"LABEL_1\": 1,\n",
      "    \"LABEL_2\": 2,\n",
      "    \"LABEL_3\": 3\n",
      "  },\n",
      "  \"layer_norm_eps\": 1e-05,\n",
      "  \"max_position_embeddings\": 514,\n",
      "  \"model_type\": \"roberta\",\n",
      "  \"num_attention_heads\": 12,\n",
      "  \"num_hidden_layers\": 6,\n",
      "  \"pad_token_id\": 1,\n",
      "  \"position_embedding_type\": \"absolute\",\n",
      "  \"problem_type\": \"single_label_classification\",\n",
      "  \"torch_dtype\": \"float32\",\n",
      "  \"transformers_version\": \"4.18.0\",\n",
      "  \"type_vocab_size\": 1,\n",
      "  \"use_cache\": true,\n",
      "  \"vocab_size\": 50265\n",
      "}\n",
      "\n",
      "loading weights file content/drive/MyDrive/output_DistilRoBerta/holdout/checkpoint-19100/pytorch_model.bin\n",
      "All model checkpoint weights were used when initializing RobertaForSequenceClassification.\n",
      "\n",
      "All the weights of RobertaForSequenceClassification were initialized from the model checkpoint at content/drive/MyDrive/output_DistilRoBerta/holdout/checkpoint-19100.\n",
      "If your task is similar to the task the model of the checkpoint was trained on, you can already use RobertaForSequenceClassification for predictions without further training.\n",
      "No `TrainingArguments` passed, using `output_dir=tmp_trainer`.\n",
      "PyTorch: setting up devices\n",
      "The default value for the training argument `--report_to` will change in v5 (from all installed integrations to none). In v5, you will need to use `--report_to all` to get the same behavior as now. You should start updating your code and make this info disappear :-).\n",
      "***** Running Prediction *****\n",
      "  Num examples = 11225\n",
      "  Batch size = 8\n"
     ]
    },
    {
     "data": {
      "text/html": [
       "\n",
       "    <div>\n",
       "      \n",
       "      <progress value='1404' max='1404' style='width:300px; height:20px; vertical-align: middle;'></progress>\n",
       "      [1404/1404 01:27]\n",
       "    </div>\n",
       "    "
      ],
      "text/plain": [
       "<IPython.core.display.HTML object>"
      ]
     },
     "metadata": {},
     "output_type": "display_data"
    },
    {
     "name": "stdout",
     "output_type": "stream",
     "text": [
      "Classification Report:\n",
      "              precision    recall  f1-score   support\n",
      "\n",
      "           0       0.99      0.98      0.99     10687\n",
      "           1       0.64      0.83      0.72       360\n",
      "           2       0.36      0.32      0.34       135\n",
      "           3       0.51      0.51      0.51        43\n",
      "\n",
      "    accuracy                           0.97     11225\n",
      "   macro avg       0.63      0.66      0.64     11225\n",
      "weighted avg       0.97      0.97      0.97     11225\n",
      "\n",
      "\n",
      "Macro Metrics:\n",
      "Precision:  0.6252421383913477\n",
      "Recall:  0.6607308428813066\n",
      "F-measure:  0.6396114430515109\n",
      "\n",
      "Label 0: Non-bully\n",
      "Precision:  0.990750353940538\n",
      "Recall:  0.9822213904744082\n",
      "F-measure:  0.9864674372709332\n",
      "\n",
      "Label 1: Harasser\n",
      "Precision:  0.6402569593147751\n",
      "Recall:  0.8305555555555556\n",
      "F-measure:  0.7230955259975815\n",
      "\n",
      "Label 2: Victim\n",
      "Precision:  0.35833333333333334\n",
      "Recall:  0.31851851851851853\n",
      "F-measure:  0.33725490196078434\n",
      "\n",
      "Label 3: Bystander-defender\n",
      "Precision:  0.5116279069767442\n",
      "Recall:  0.5116279069767442\n",
      "F-measure:  0.5116279069767442\n",
      "\n"
     ]
    },
    {
     "data": {
      "image/png": "[encoded data removed]",
      "text/plain": [
       "<Figure size 864x576 with 2 Axes>"
      ]
     },
     "metadata": {
      "needs_background": "light"
     },
     "output_type": "display_data"
    }
   ],
   "source": [
    "compute_metrics_holdout(model_name='DistilRoBerta',\n",
    "                        model_path='content/drive/MyDrive/output_DistilRoBerta/holdout/checkpoint-19100', \n",
    "                        average_method='macro',\n",
    "                        X_test=X_test)"
   ]
  },
  {
   "cell_type": "markdown",
   "id": "SYBy_9KLoLWP",
   "metadata": {
    "id": "SYBy_9KLoLWP",
    "tags": []
   },
   "source": [
    "#### Epoch 5"
   ]
  },
  {
   "cell_type": "code",
   "execution_count": null,
   "id": "wpGHwymKoLWP",
   "metadata": {
    "id": "wpGHwymKoLWP"
   },
   "outputs": [
    {
     "name": "stderr",
     "output_type": "stream",
     "text": [
      "loading configuration file content/drive/MyDrive/output_DistilRoBerta/holdout/checkpoint-23875/config.json\n",
      "Model config RobertaConfig {\n",
      "  \"_name_or_path\": \"content/drive/MyDrive/output_DistilRoBerta/holdout/checkpoint-23875\",\n",
      "  \"architectures\": [\n",
      "    \"RobertaForSequenceClassification\"\n",
      "  ],\n",
      "  \"attention_probs_dropout_prob\": 0.1,\n",
      "  \"bos_token_id\": 0,\n",
      "  \"classifier_dropout\": null,\n",
      "  \"eos_token_id\": 2,\n",
      "  \"hidden_act\": \"gelu\",\n",
      "  \"hidden_dropout_prob\": 0.1,\n",
      "  \"hidden_size\": 768,\n",
      "  \"id2label\": {\n",
      "    \"0\": \"LABEL_0\",\n",
      "    \"1\": \"LABEL_1\",\n",
      "    \"2\": \"LABEL_2\",\n",
      "    \"3\": \"LABEL_3\"\n",
      "  },\n",
      "  \"initializer_range\": 0.02,\n",
      "  \"intermediate_size\": 3072,\n",
      "  \"label2id\": {\n",
      "    \"LABEL_0\": 0,\n",
      "    \"LABEL_1\": 1,\n",
      "    \"LABEL_2\": 2,\n",
      "    \"LABEL_3\": 3\n",
      "  },\n",
      "  \"layer_norm_eps\": 1e-05,\n",
      "  \"max_position_embeddings\": 514,\n",
      "  \"model_type\": \"roberta\",\n",
      "  \"num_attention_heads\": 12,\n",
      "  \"num_hidden_layers\": 6,\n",
      "  \"pad_token_id\": 1,\n",
      "  \"position_embedding_type\": \"absolute\",\n",
      "  \"problem_type\": \"single_label_classification\",\n",
      "  \"torch_dtype\": \"float32\",\n",
      "  \"transformers_version\": \"4.18.0\",\n",
      "  \"type_vocab_size\": 1,\n",
      "  \"use_cache\": true,\n",
      "  \"vocab_size\": 50265\n",
      "}\n",
      "\n",
      "loading weights file content/drive/MyDrive/output_DistilRoBerta/holdout/checkpoint-23875/pytorch_model.bin\n",
      "All model checkpoint weights were used when initializing RobertaForSequenceClassification.\n",
      "\n",
      "All the weights of RobertaForSequenceClassification were initialized from the model checkpoint at content/drive/MyDrive/output_DistilRoBerta/holdout/checkpoint-23875.\n",
      "If your task is similar to the task the model of the checkpoint was trained on, you can already use RobertaForSequenceClassification for predictions without further training.\n",
      "No `TrainingArguments` passed, using `output_dir=tmp_trainer`.\n",
      "PyTorch: setting up devices\n",
      "The default value for the training argument `--report_to` will change in v5 (from all installed integrations to none). In v5, you will need to use `--report_to all` to get the same behavior as now. You should start updating your code and make this info disappear :-).\n",
      "***** Running Prediction *****\n",
      "  Num examples = 11225\n",
      "  Batch size = 8\n"
     ]
    },
    {
     "data": {
      "text/html": [
       "\n",
       "    <div>\n",
       "      \n",
       "      <progress value='1404' max='1404' style='width:300px; height:20px; vertical-align: middle;'></progress>\n",
       "      [1404/1404 01:27]\n",
       "    </div>\n",
       "    "
      ],
      "text/plain": [
       "<IPython.core.display.HTML object>"
      ]
     },
     "metadata": {},
     "output_type": "display_data"
    },
    {
     "name": "stdout",
     "output_type": "stream",
     "text": [
      "Classification Report:\n",
      "              precision    recall  f1-score   support\n",
      "\n",
      "           0       0.99      0.98      0.98     10687\n",
      "           1       0.58      0.83      0.68       360\n",
      "           2       0.41      0.30      0.34       135\n",
      "           3       0.53      0.49      0.51        43\n",
      "\n",
      "    accuracy                           0.96     11225\n",
      "   macro avg       0.63      0.65      0.63     11225\n",
      "weighted avg       0.97      0.96      0.97     11225\n",
      "\n",
      "\n",
      "Macro Metrics:\n",
      "Precision:  0.6257428974553172\n",
      "Recall:  0.6487063324338045\n",
      "F-measure:  0.6292417453095649\n",
      "\n",
      "Label 0: Non-bully\n",
      "Precision:  0.9903509601740611\n",
      "Recall:  0.9796013848601104\n",
      "F-measure:  0.984946843541255\n",
      "\n",
      "Label 1: Harasser\n",
      "Precision:  0.5794573643410853\n",
      "Recall:  0.8305555555555556\n",
      "F-measure:  0.682648401826484\n",
      "\n",
      "Label 2: Victim\n",
      "Precision:  0.40816326530612246\n",
      "Recall:  0.2962962962962963\n",
      "F-measure:  0.34334763948497854\n",
      "\n",
      "Label 3: Bystander-defender\n",
      "Precision:  0.525\n",
      "Recall:  0.4883720930232558\n",
      "F-measure:  0.5060240963855422\n",
      "\n"
     ]
    },
    {
     "data": {
      "image/png": "[encoded data removed]",
      "text/plain": [
       "<Figure size 864x576 with 2 Axes>"
      ]
     },
     "metadata": {
      "needs_background": "light"
     },
     "output_type": "display_data"
    }
   ],
   "source": [
    "compute_metrics_holdout(model_name='DistilRoBerta',\n",
    "                        model_path='content/drive/MyDrive/output_DistilRoBerta/holdout/checkpoint-23875', \n",
    "                        average_method='macro',\n",
    "                        X_test=X_test)"
   ]
  },
  {
   "cell_type": "markdown",
   "id": "Cu90yLCeoLkg",
   "metadata": {
    "id": "Cu90yLCeoLkg",
    "tags": []
   },
   "source": [
    "#### Epoch 6"
   ]
  },
  {
   "cell_type": "code",
   "execution_count": null,
   "id": "aYM9zqSioLkg",
   "metadata": {
    "id": "aYM9zqSioLkg"
   },
   "outputs": [
    {
     "name": "stderr",
     "output_type": "stream",
     "text": [
      "loading configuration file content/drive/MyDrive/output_DistilRoBerta/holdout/checkpoint-28650/config.json\n",
      "Model config RobertaConfig {\n",
      "  \"_name_or_path\": \"content/drive/MyDrive/output_DistilRoBerta/holdout/checkpoint-28650\",\n",
      "  \"architectures\": [\n",
      "    \"RobertaForSequenceClassification\"\n",
      "  ],\n",
      "  \"attention_probs_dropout_prob\": 0.1,\n",
      "  \"bos_token_id\": 0,\n",
      "  \"classifier_dropout\": null,\n",
      "  \"eos_token_id\": 2,\n",
      "  \"hidden_act\": \"gelu\",\n",
      "  \"hidden_dropout_prob\": 0.1,\n",
      "  \"hidden_size\": 768,\n",
      "  \"id2label\": {\n",
      "    \"0\": \"LABEL_0\",\n",
      "    \"1\": \"LABEL_1\",\n",
      "    \"2\": \"LABEL_2\",\n",
      "    \"3\": \"LABEL_3\"\n",
      "  },\n",
      "  \"initializer_range\": 0.02,\n",
      "  \"intermediate_size\": 3072,\n",
      "  \"label2id\": {\n",
      "    \"LABEL_0\": 0,\n",
      "    \"LABEL_1\": 1,\n",
      "    \"LABEL_2\": 2,\n",
      "    \"LABEL_3\": 3\n",
      "  },\n",
      "  \"layer_norm_eps\": 1e-05,\n",
      "  \"max_position_embeddings\": 514,\n",
      "  \"model_type\": \"roberta\",\n",
      "  \"num_attention_heads\": 12,\n",
      "  \"num_hidden_layers\": 6,\n",
      "  \"pad_token_id\": 1,\n",
      "  \"position_embedding_type\": \"absolute\",\n",
      "  \"problem_type\": \"single_label_classification\",\n",
      "  \"torch_dtype\": \"float32\",\n",
      "  \"transformers_version\": \"4.18.0\",\n",
      "  \"type_vocab_size\": 1,\n",
      "  \"use_cache\": true,\n",
      "  \"vocab_size\": 50265\n",
      "}\n",
      "\n",
      "loading weights file content/drive/MyDrive/output_DistilRoBerta/holdout/checkpoint-28650/pytorch_model.bin\n",
      "All model checkpoint weights were used when initializing RobertaForSequenceClassification.\n",
      "\n",
      "All the weights of RobertaForSequenceClassification were initialized from the model checkpoint at content/drive/MyDrive/output_DistilRoBerta/holdout/checkpoint-28650.\n",
      "If your task is similar to the task the model of the checkpoint was trained on, you can already use RobertaForSequenceClassification for predictions without further training.\n",
      "No `TrainingArguments` passed, using `output_dir=tmp_trainer`.\n",
      "PyTorch: setting up devices\n",
      "The default value for the training argument `--report_to` will change in v5 (from all installed integrations to none). In v5, you will need to use `--report_to all` to get the same behavior as now. You should start updating your code and make this info disappear :-).\n",
      "***** Running Prediction *****\n",
      "  Num examples = 11225\n",
      "  Batch size = 8\n"
     ]
    },
    {
     "data": {
      "text/html": [
       "\n",
       "    <div>\n",
       "      \n",
       "      <progress value='1404' max='1404' style='width:300px; height:20px; vertical-align: middle;'></progress>\n",
       "      [1404/1404 01:27]\n",
       "    </div>\n",
       "    "
      ],
      "text/plain": [
       "<IPython.core.display.HTML object>"
      ]
     },
     "metadata": {},
     "output_type": "display_data"
    },
    {
     "name": "stdout",
     "output_type": "stream",
     "text": [
      "Classification Report:\n",
      "              precision    recall  f1-score   support\n",
      "\n",
      "           0       0.99      0.98      0.99     10687\n",
      "           1       0.58      0.81      0.68       360\n",
      "           2       0.39      0.30      0.34       135\n",
      "           3       0.57      0.47      0.51        43\n",
      "\n",
      "    accuracy                           0.96     11225\n",
      "   macro avg       0.63      0.64      0.63     11225\n",
      "weighted avg       0.97      0.96      0.97     11225\n",
      "\n",
      "\n",
      "Macro Metrics:\n",
      "Precision:  0.6349255042104927\n",
      "Recall:  0.6394226043144339\n",
      "F-measure:  0.6298345769857504\n",
      "\n",
      "Label 0: Non-bully\n",
      "Precision:  0.9897053267850396\n",
      "Recall:  0.9805371011509311\n",
      "F-measure:  0.9850998824911869\n",
      "\n",
      "Label 1: Harasser\n",
      "Precision:  0.5843373493975904\n",
      "Recall:  0.8083333333333333\n",
      "F-measure:  0.6783216783216784\n",
      "\n",
      "Label 2: Victim\n",
      "Precision:  0.3942307692307692\n",
      "Recall:  0.3037037037037037\n",
      "F-measure:  0.3430962343096234\n",
      "\n",
      "Label 3: Bystander-defender\n",
      "Precision:  0.5714285714285714\n",
      "Recall:  0.46511627906976744\n",
      "F-measure:  0.5128205128205128\n",
      "\n"
     ]
    },
    {
     "data": {
      "image/png": "[encoded data removed]",
      "text/plain": [
       "<Figure size 864x576 with 2 Axes>"
      ]
     },
     "metadata": {
      "needs_background": "light"
     },
     "output_type": "display_data"
    }
   ],
   "source": [
    "compute_metrics_holdout(model_name='DistilRoBerta',\n",
    "                        model_path='content/drive/MyDrive/output_DistilRoBerta/holdout/checkpoint-28650', \n",
    "                        average_method='macro',\n",
    "                        X_test=X_test)"
   ]
  },
  {
   "cell_type": "markdown",
   "id": "OK-hp0pSoLyC",
   "metadata": {
    "id": "OK-hp0pSoLyC",
    "tags": []
   },
   "source": [
    "#### Epoch 7"
   ]
  },
  {
   "cell_type": "code",
   "execution_count": null,
   "id": "dQ9nE9xBoLyC",
   "metadata": {
    "id": "dQ9nE9xBoLyC"
   },
   "outputs": [
    {
     "name": "stderr",
     "output_type": "stream",
     "text": [
      "loading configuration file content/drive/MyDrive/output_DistilRoBerta/holdout/checkpoint-33425/config.json\n",
      "Model config RobertaConfig {\n",
      "  \"_name_or_path\": \"content/drive/MyDrive/output_DistilRoBerta/holdout/checkpoint-33425\",\n",
      "  \"architectures\": [\n",
      "    \"RobertaForSequenceClassification\"\n",
      "  ],\n",
      "  \"attention_probs_dropout_prob\": 0.1,\n",
      "  \"bos_token_id\": 0,\n",
      "  \"classifier_dropout\": null,\n",
      "  \"eos_token_id\": 2,\n",
      "  \"hidden_act\": \"gelu\",\n",
      "  \"hidden_dropout_prob\": 0.1,\n",
      "  \"hidden_size\": 768,\n",
      "  \"id2label\": {\n",
      "    \"0\": \"LABEL_0\",\n",
      "    \"1\": \"LABEL_1\",\n",
      "    \"2\": \"LABEL_2\",\n",
      "    \"3\": \"LABEL_3\"\n",
      "  },\n",
      "  \"initializer_range\": 0.02,\n",
      "  \"intermediate_size\": 3072,\n",
      "  \"label2id\": {\n",
      "    \"LABEL_0\": 0,\n",
      "    \"LABEL_1\": 1,\n",
      "    \"LABEL_2\": 2,\n",
      "    \"LABEL_3\": 3\n",
      "  },\n",
      "  \"layer_norm_eps\": 1e-05,\n",
      "  \"max_position_embeddings\": 514,\n",
      "  \"model_type\": \"roberta\",\n",
      "  \"num_attention_heads\": 12,\n",
      "  \"num_hidden_layers\": 6,\n",
      "  \"pad_token_id\": 1,\n",
      "  \"position_embedding_type\": \"absolute\",\n",
      "  \"problem_type\": \"single_label_classification\",\n",
      "  \"torch_dtype\": \"float32\",\n",
      "  \"transformers_version\": \"4.18.0\",\n",
      "  \"type_vocab_size\": 1,\n",
      "  \"use_cache\": true,\n",
      "  \"vocab_size\": 50265\n",
      "}\n",
      "\n",
      "loading weights file content/drive/MyDrive/output_DistilRoBerta/holdout/checkpoint-33425/pytorch_model.bin\n",
      "All model checkpoint weights were used when initializing RobertaForSequenceClassification.\n",
      "\n",
      "All the weights of RobertaForSequenceClassification were initialized from the model checkpoint at content/drive/MyDrive/output_DistilRoBerta/holdout/checkpoint-33425.\n",
      "If your task is similar to the task the model of the checkpoint was trained on, you can already use RobertaForSequenceClassification for predictions without further training.\n",
      "No `TrainingArguments` passed, using `output_dir=tmp_trainer`.\n",
      "PyTorch: setting up devices\n",
      "The default value for the training argument `--report_to` will change in v5 (from all installed integrations to none). In v5, you will need to use `--report_to all` to get the same behavior as now. You should start updating your code and make this info disappear :-).\n",
      "***** Running Prediction *****\n",
      "  Num examples = 11225\n",
      "  Batch size = 8\n"
     ]
    },
    {
     "data": {
      "text/html": [
       "\n",
       "    <div>\n",
       "      \n",
       "      <progress value='1404' max='1404' style='width:300px; height:20px; vertical-align: middle;'></progress>\n",
       "      [1404/1404 01:27]\n",
       "    </div>\n",
       "    "
      ],
      "text/plain": [
       "<IPython.core.display.HTML object>"
      ]
     },
     "metadata": {},
     "output_type": "display_data"
    },
    {
     "name": "stdout",
     "output_type": "stream",
     "text": [
      "Classification Report:\n",
      "              precision    recall  f1-score   support\n",
      "\n",
      "           0       0.99      0.98      0.98     10687\n",
      "           1       0.58      0.80      0.67       360\n",
      "           2       0.39      0.33      0.36       135\n",
      "           3       0.56      0.47      0.51        43\n",
      "\n",
      "    accuracy                           0.96     11225\n",
      "   macro avg       0.63      0.64      0.63     11225\n",
      "weighted avg       0.97      0.96      0.97     11225\n",
      "\n",
      "\n",
      "Macro Metrics:\n",
      "Precision:  0.6297253948178436\n",
      "Recall:  0.6439118765004405\n",
      "F-measure:  0.6308220377670735\n",
      "\n",
      "Label 0: Non-bully\n",
      "Precision:  0.9899801493524908\n",
      "Recall:  0.9799756713764387\n",
      "F-measure:  0.9849525063481614\n",
      "\n",
      "Label 1: Harasser\n",
      "Precision:  0.5786290322580645\n",
      "Recall:  0.7972222222222223\n",
      "F-measure:  0.6705607476635514\n",
      "\n",
      "Label 2: Victim\n",
      "Precision:  0.39473684210526316\n",
      "Recall:  0.3333333333333333\n",
      "F-measure:  0.36144578313253006\n",
      "\n",
      "Label 3: Bystander-defender\n",
      "Precision:  0.5555555555555556\n",
      "Recall:  0.46511627906976744\n",
      "F-measure:  0.5063291139240507\n",
      "\n"
     ]
    },
    {
     "data": {
      "image/png": "[encoded data removed]",
      "text/plain": [
       "<Figure size 864x576 with 2 Axes>"
      ]
     },
     "metadata": {
      "needs_background": "light"
     },
     "output_type": "display_data"
    }
   ],
   "source": [
    "compute_metrics_holdout(model_name='DistilRoBerta',\n",
    "                        model_path='content/drive/MyDrive/output_DistilRoBerta/holdout/checkpoint-33425', \n",
    "                        average_method='macro',\n",
    "                        X_test=X_test)"
   ]
  },
  {
   "cell_type": "markdown",
   "id": "JIrTxiy0oL_9",
   "metadata": {
    "id": "JIrTxiy0oL_9",
    "tags": []
   },
   "source": [
    "#### Epoch 8"
   ]
  },
  {
   "cell_type": "code",
   "execution_count": null,
   "id": "tZwpcUnJoL_9",
   "metadata": {
    "id": "tZwpcUnJoL_9"
   },
   "outputs": [
    {
     "name": "stderr",
     "output_type": "stream",
     "text": [
      "loading configuration file content/drive/MyDrive/output_DistilRoBerta/holdout/checkpoint-38200/config.json\n",
      "Model config RobertaConfig {\n",
      "  \"_name_or_path\": \"content/drive/MyDrive/output_DistilRoBerta/holdout/checkpoint-38200\",\n",
      "  \"architectures\": [\n",
      "    \"RobertaForSequenceClassification\"\n",
      "  ],\n",
      "  \"attention_probs_dropout_prob\": 0.1,\n",
      "  \"bos_token_id\": 0,\n",
      "  \"classifier_dropout\": null,\n",
      "  \"eos_token_id\": 2,\n",
      "  \"hidden_act\": \"gelu\",\n",
      "  \"hidden_dropout_prob\": 0.1,\n",
      "  \"hidden_size\": 768,\n",
      "  \"id2label\": {\n",
      "    \"0\": \"LABEL_0\",\n",
      "    \"1\": \"LABEL_1\",\n",
      "    \"2\": \"LABEL_2\",\n",
      "    \"3\": \"LABEL_3\"\n",
      "  },\n",
      "  \"initializer_range\": 0.02,\n",
      "  \"intermediate_size\": 3072,\n",
      "  \"label2id\": {\n",
      "    \"LABEL_0\": 0,\n",
      "    \"LABEL_1\": 1,\n",
      "    \"LABEL_2\": 2,\n",
      "    \"LABEL_3\": 3\n",
      "  },\n",
      "  \"layer_norm_eps\": 1e-05,\n",
      "  \"max_position_embeddings\": 514,\n",
      "  \"model_type\": \"roberta\",\n",
      "  \"num_attention_heads\": 12,\n",
      "  \"num_hidden_layers\": 6,\n",
      "  \"pad_token_id\": 1,\n",
      "  \"position_embedding_type\": \"absolute\",\n",
      "  \"problem_type\": \"single_label_classification\",\n",
      "  \"torch_dtype\": \"float32\",\n",
      "  \"transformers_version\": \"4.18.0\",\n",
      "  \"type_vocab_size\": 1,\n",
      "  \"use_cache\": true,\n",
      "  \"vocab_size\": 50265\n",
      "}\n",
      "\n",
      "loading weights file content/drive/MyDrive/output_DistilRoBerta/holdout/checkpoint-38200/pytorch_model.bin\n",
      "All model checkpoint weights were used when initializing RobertaForSequenceClassification.\n",
      "\n",
      "All the weights of RobertaForSequenceClassification were initialized from the model checkpoint at content/drive/MyDrive/output_DistilRoBerta/holdout/checkpoint-38200.\n",
      "If your task is similar to the task the model of the checkpoint was trained on, you can already use RobertaForSequenceClassification for predictions without further training.\n",
      "No `TrainingArguments` passed, using `output_dir=tmp_trainer`.\n",
      "PyTorch: setting up devices\n",
      "The default value for the training argument `--report_to` will change in v5 (from all installed integrations to none). In v5, you will need to use `--report_to all` to get the same behavior as now. You should start updating your code and make this info disappear :-).\n",
      "***** Running Prediction *****\n",
      "  Num examples = 11225\n",
      "  Batch size = 8\n"
     ]
    },
    {
     "data": {
      "text/html": [
       "\n",
       "    <div>\n",
       "      \n",
       "      <progress value='1404' max='1404' style='width:300px; height:20px; vertical-align: middle;'></progress>\n",
       "      [1404/1404 01:27]\n",
       "    </div>\n",
       "    "
      ],
      "text/plain": [
       "<IPython.core.display.HTML object>"
      ]
     },
     "metadata": {},
     "output_type": "display_data"
    },
    {
     "name": "stdout",
     "output_type": "stream",
     "text": [
      "Classification Report:\n",
      "              precision    recall  f1-score   support\n",
      "\n",
      "           0       0.99      0.98      0.98     10687\n",
      "           1       0.57      0.81      0.67       360\n",
      "           2       0.37      0.35      0.36       135\n",
      "           3       0.50      0.51      0.51        43\n",
      "\n",
      "    accuracy                           0.96     11225\n",
      "   macro avg       0.61      0.66      0.63     11225\n",
      "weighted avg       0.97      0.96      0.96     11225\n",
      "\n",
      "\n",
      "Macro Metrics:\n",
      "Precision:  0.6074517174257814\n",
      "Recall:  0.662684973722169\n",
      "F-measure:  0.6295319307549982\n",
      "\n",
      "Label 0: Non-bully\n",
      "Precision:  0.9907960907106936\n",
      "Recall:  0.9770749508748947\n",
      "F-measure:  0.9838876849147271\n",
      "\n",
      "Label 1: Harasser\n",
      "Precision:  0.5689320388349515\n",
      "Recall:  0.8138888888888889\n",
      "F-measure:  0.6697142857142857\n",
      "\n",
      "Label 2: Victim\n",
      "Precision:  0.3700787401574803\n",
      "Recall:  0.34814814814814815\n",
      "F-measure:  0.3587786259541985\n",
      "\n",
      "Label 3: Bystander-defender\n",
      "Precision:  0.5\n",
      "Recall:  0.5116279069767442\n",
      "F-measure:  0.5057471264367817\n",
      "\n"
     ]
    },
    {
     "data": {
      "image/png": "[encoded data removed]",
      "text/plain": [
       "<Figure size 864x576 with 2 Axes>"
      ]
     },
     "metadata": {
      "needs_background": "light"
     },
     "output_type": "display_data"
    }
   ],
   "source": [
    "compute_metrics_holdout(model_name='DistilRoBerta',\n",
    "                        model_path='content/drive/MyDrive/output_DistilRoBerta/holdout/checkpoint-38200', \n",
    "                        average_method='macro',\n",
    "                        X_test=X_test)"
   ]
  },
  {
   "cell_type": "markdown",
   "id": "IQV79SfdoMNk",
   "metadata": {
    "id": "IQV79SfdoMNk",
    "tags": []
   },
   "source": [
    "#### Epoch 9"
   ]
  },
  {
   "cell_type": "code",
   "execution_count": 11,
   "id": "pXBg40f3oMNm",
   "metadata": {
    "id": "pXBg40f3oMNm"
   },
   "outputs": [
    {
     "name": "stderr",
     "output_type": "stream",
     "text": [
      "loading configuration file content/drive/MyDrive/output_DistilRoBerta/holdout/checkpoint-42975/config.json\n",
      "Model config RobertaConfig {\n",
      "  \"_name_or_path\": \"content/drive/MyDrive/output_DistilRoBerta/holdout/checkpoint-42975\",\n",
      "  \"architectures\": [\n",
      "    \"RobertaForSequenceClassification\"\n",
      "  ],\n",
      "  \"attention_probs_dropout_prob\": 0.1,\n",
      "  \"bos_token_id\": 0,\n",
      "  \"classifier_dropout\": null,\n",
      "  \"eos_token_id\": 2,\n",
      "  \"hidden_act\": \"gelu\",\n",
      "  \"hidden_dropout_prob\": 0.1,\n",
      "  \"hidden_size\": 768,\n",
      "  \"id2label\": {\n",
      "    \"0\": \"LABEL_0\",\n",
      "    \"1\": \"LABEL_1\",\n",
      "    \"2\": \"LABEL_2\",\n",
      "    \"3\": \"LABEL_3\"\n",
      "  },\n",
      "  \"initializer_range\": 0.02,\n",
      "  \"intermediate_size\": 3072,\n",
      "  \"label2id\": {\n",
      "    \"LABEL_0\": 0,\n",
      "    \"LABEL_1\": 1,\n",
      "    \"LABEL_2\": 2,\n",
      "    \"LABEL_3\": 3\n",
      "  },\n",
      "  \"layer_norm_eps\": 1e-05,\n",
      "  \"max_position_embeddings\": 514,\n",
      "  \"model_type\": \"roberta\",\n",
      "  \"num_attention_heads\": 12,\n",
      "  \"num_hidden_layers\": 6,\n",
      "  \"pad_token_id\": 1,\n",
      "  \"position_embedding_type\": \"absolute\",\n",
      "  \"problem_type\": \"single_label_classification\",\n",
      "  \"torch_dtype\": \"float32\",\n",
      "  \"transformers_version\": \"4.18.0\",\n",
      "  \"type_vocab_size\": 1,\n",
      "  \"use_cache\": true,\n",
      "  \"vocab_size\": 50265\n",
      "}\n",
      "\n",
      "loading weights file content/drive/MyDrive/output_DistilRoBerta/holdout/checkpoint-42975/pytorch_model.bin\n",
      "All model checkpoint weights were used when initializing RobertaForSequenceClassification.\n",
      "\n",
      "All the weights of RobertaForSequenceClassification were initialized from the model checkpoint at content/drive/MyDrive/output_DistilRoBerta/holdout/checkpoint-42975.\n",
      "If your task is similar to the task the model of the checkpoint was trained on, you can already use RobertaForSequenceClassification for predictions without further training.\n",
      "No `TrainingArguments` passed, using `output_dir=tmp_trainer`.\n",
      "PyTorch: setting up devices\n",
      "The default value for the training argument `--report_to` will change in v5 (from all installed integrations to none). In v5, you will need to use `--report_to all` to get the same behavior as now. You should start updating your code and make this info disappear :-).\n",
      "***** Running Prediction *****\n",
      "  Num examples = 11225\n",
      "  Batch size = 8\n"
     ]
    },
    {
     "data": {
      "text/html": [
       "\n",
       "    <div>\n",
       "      \n",
       "      <progress value='1404' max='1404' style='width:300px; height:20px; vertical-align: middle;'></progress>\n",
       "      [1404/1404 01:28]\n",
       "    </div>\n",
       "    "
      ],
      "text/plain": [
       "<IPython.core.display.HTML object>"
      ]
     },
     "metadata": {},
     "output_type": "display_data"
    },
    {
     "name": "stdout",
     "output_type": "stream",
     "text": [
      "Classification Report:\n",
      "              precision    recall  f1-score   support\n",
      "\n",
      "           0       0.99      0.98      0.98     10687\n",
      "           1       0.59      0.82      0.69       360\n",
      "           2       0.35      0.33      0.34       135\n",
      "           3       0.55      0.51      0.53        43\n",
      "\n",
      "    accuracy                           0.96     11225\n",
      "   macro avg       0.62      0.66      0.64     11225\n",
      "weighted avg       0.97      0.96      0.97     11225\n",
      "\n",
      "\n",
      "Macro Metrics:\n",
      "Precision:  0.6196174018063925\n",
      "Recall:  0.6607444454236825\n",
      "F-measure:  0.6352330820823279\n",
      "\n",
      "Label 0: Non-bully\n",
      "Precision:  0.9908100426338229\n",
      "Recall:  0.9785720969402077\n",
      "F-measure:  0.9846530458525563\n",
      "\n",
      "Label 1: Harasser\n",
      "Precision:  0.5888223552894212\n",
      "Recall:  0.8194444444444444\n",
      "F-measure:  0.6852497096399536\n",
      "\n",
      "Label 2: Victim\n",
      "Precision:  0.3488372093023256\n",
      "Recall:  0.3333333333333333\n",
      "F-measure:  0.3409090909090909\n",
      "\n",
      "Label 3: Bystander-defender\n",
      "Precision:  0.55\n",
      "Recall:  0.5116279069767442\n",
      "F-measure:  0.5301204819277109\n",
      "\n"
     ]
    },
    {
     "data": {
      "image/png": "[encoded data removed]",
      "text/plain": [
       "<Figure size 864x576 with 2 Axes>"
      ]
     },
     "metadata": {
      "needs_background": "light"
     },
     "output_type": "display_data"
    }
   ],
   "source": [
    "compute_metrics_holdout(model_name='DistilRoBerta',\n",
    "                        model_path='content/drive/MyDrive/output_DistilRoBerta/holdout/checkpoint-42975', \n",
    "                        average_method='macro',\n",
    "                        X_test=X_test)"
   ]
  },
  {
   "cell_type": "markdown",
   "id": "U8k35H3XoMZ6",
   "metadata": {
    "id": "U8k35H3XoMZ6",
    "tags": []
   },
   "source": [
    "#### Epoch 10"
   ]
  },
  {
   "cell_type": "code",
   "execution_count": 12,
   "id": "SSCUzWssoMZ6",
   "metadata": {
    "id": "SSCUzWssoMZ6"
   },
   "outputs": [
    {
     "name": "stderr",
     "output_type": "stream",
     "text": [
      "loading configuration file content/drive/MyDrive/output_DistilRoBerta/holdout/checkpoint-47750/config.json\n",
      "Model config RobertaConfig {\n",
      "  \"_name_or_path\": \"content/drive/MyDrive/output_DistilRoBerta/holdout/checkpoint-47750\",\n",
      "  \"architectures\": [\n",
      "    \"RobertaForSequenceClassification\"\n",
      "  ],\n",
      "  \"attention_probs_dropout_prob\": 0.1,\n",
      "  \"bos_token_id\": 0,\n",
      "  \"classifier_dropout\": null,\n",
      "  \"eos_token_id\": 2,\n",
      "  \"hidden_act\": \"gelu\",\n",
      "  \"hidden_dropout_prob\": 0.1,\n",
      "  \"hidden_size\": 768,\n",
      "  \"id2label\": {\n",
      "    \"0\": \"LABEL_0\",\n",
      "    \"1\": \"LABEL_1\",\n",
      "    \"2\": \"LABEL_2\",\n",
      "    \"3\": \"LABEL_3\"\n",
      "  },\n",
      "  \"initializer_range\": 0.02,\n",
      "  \"intermediate_size\": 3072,\n",
      "  \"label2id\": {\n",
      "    \"LABEL_0\": 0,\n",
      "    \"LABEL_1\": 1,\n",
      "    \"LABEL_2\": 2,\n",
      "    \"LABEL_3\": 3\n",
      "  },\n",
      "  \"layer_norm_eps\": 1e-05,\n",
      "  \"max_position_embeddings\": 514,\n",
      "  \"model_type\": \"roberta\",\n",
      "  \"num_attention_heads\": 12,\n",
      "  \"num_hidden_layers\": 6,\n",
      "  \"pad_token_id\": 1,\n",
      "  \"position_embedding_type\": \"absolute\",\n",
      "  \"problem_type\": \"single_label_classification\",\n",
      "  \"torch_dtype\": \"float32\",\n",
      "  \"transformers_version\": \"4.18.0\",\n",
      "  \"type_vocab_size\": 1,\n",
      "  \"use_cache\": true,\n",
      "  \"vocab_size\": 50265\n",
      "}\n",
      "\n",
      "loading weights file content/drive/MyDrive/output_DistilRoBerta/holdout/checkpoint-47750/pytorch_model.bin\n",
      "All model checkpoint weights were used when initializing RobertaForSequenceClassification.\n",
      "\n",
      "All the weights of RobertaForSequenceClassification were initialized from the model checkpoint at content/drive/MyDrive/output_DistilRoBerta/holdout/checkpoint-47750.\n",
      "If your task is similar to the task the model of the checkpoint was trained on, you can already use RobertaForSequenceClassification for predictions without further training.\n",
      "No `TrainingArguments` passed, using `output_dir=tmp_trainer`.\n",
      "PyTorch: setting up devices\n",
      "The default value for the training argument `--report_to` will change in v5 (from all installed integrations to none). In v5, you will need to use `--report_to all` to get the same behavior as now. You should start updating your code and make this info disappear :-).\n",
      "***** Running Prediction *****\n",
      "  Num examples = 11225\n",
      "  Batch size = 8\n"
     ]
    },
    {
     "data": {
      "text/html": [
       "\n",
       "    <div>\n",
       "      \n",
       "      <progress value='1404' max='1404' style='width:300px; height:20px; vertical-align: middle;'></progress>\n",
       "      [1404/1404 01:29]\n",
       "    </div>\n",
       "    "
      ],
      "text/plain": [
       "<IPython.core.display.HTML object>"
      ]
     },
     "metadata": {},
     "output_type": "display_data"
    },
    {
     "name": "stdout",
     "output_type": "stream",
     "text": [
      "Classification Report:\n",
      "              precision    recall  f1-score   support\n",
      "\n",
      "           0       0.99      0.98      0.98     10687\n",
      "           1       0.58      0.81      0.68       360\n",
      "           2       0.35      0.36      0.35       135\n",
      "           3       0.51      0.56      0.53        43\n",
      "\n",
      "    accuracy                           0.96     11225\n",
      "   macro avg       0.61      0.68      0.64     11225\n",
      "weighted avg       0.97      0.96      0.96     11225\n",
      "\n",
      "\n",
      "Macro Metrics:\n",
      "Precision:  0.6079883765236089\n",
      "Recall:  0.676164732550765\n",
      "F-measure:  0.6369971839365132\n",
      "\n",
      "Label 0: Non-bully\n",
      "Precision:  0.9909841510866471\n",
      "Recall:  0.9770749508748947\n",
      "F-measure:  0.9839803995476819\n",
      "\n",
      "Label 1: Harasser\n",
      "Precision:  0.5825049701789264\n",
      "Recall:  0.8138888888888889\n",
      "F-measure:  0.679026651216686\n",
      "\n",
      "Label 2: Victim\n",
      "Precision:  0.34782608695652173\n",
      "Recall:  0.35555555555555557\n",
      "F-measure:  0.3516483516483516\n",
      "\n",
      "Label 3: Bystander-defender\n",
      "Precision:  0.5106382978723404\n",
      "Recall:  0.5581395348837209\n",
      "F-measure:  0.5333333333333333\n",
      "\n"
     ]
    },
    {
     "data": {
      "image/png": "[encoded data removed]",
      "text/plain": [
       "<Figure size 864x576 with 2 Axes>"
      ]
     },
     "metadata": {
      "needs_background": "light"
     },
     "output_type": "display_data"
    }
   ],
   "source": [
    "compute_metrics_holdout(model_name='DistilRoBerta',\n",
    "                        model_path='content/drive/MyDrive/output_DistilRoBerta/holdout/checkpoint-47750', \n",
    "                        average_method='macro',\n",
    "                        X_test=X_test)"
   ]
  },
  {
   "cell_type": "markdown",
   "id": "thmj2fO9opmo",
   "metadata": {
    "id": "thmj2fO9opmo"
   },
   "source": [
    "#### Epoch 1"
   ]
  },
  {
   "cell_type": "code",
   "execution_count": null,
   "id": "TLCcXIoBopmo",
   "metadata": {
    "id": "TLCcXIoBopmo"
   },
   "outputs": [],
   "source": [
    "compute_metrics_holdout(model_name='DistilRoBerta',\n",
    "                        model_path='content/drive/MyDrive/output_DistilRoBerta/holdout/checkpoint-3820', \n",
    "                        average_method='macro',\n",
    "                        X_test=X_val)"
   ]
  },
  {
   "cell_type": "markdown",
   "id": "NA9L5rR1oupA",
   "metadata": {
    "id": "NA9L5rR1oupA"
   },
   "source": [
    "#### Epoch 2"
   ]
  },
  {
   "cell_type": "code",
   "execution_count": null,
   "id": "oAQ-mzyToupB",
   "metadata": {
    "id": "oAQ-mzyToupB"
   },
   "outputs": [],
   "source": [
    "compute_metrics_holdout(model_name='DistilRoBerta',\n",
    "                        model_path='content/drive/MyDrive/output_DistilRoBerta/holdout/checkpoint-3820', \n",
    "                        average_method='macro',\n",
    "                        X_test=X_val)"
   ]
  },
  {
   "cell_type": "markdown",
   "id": "KSAu4IZKou1F",
   "metadata": {
    "id": "KSAu4IZKou1F"
   },
   "source": [
    "#### Epoch 3"
   ]
  },
  {
   "cell_type": "code",
   "execution_count": null,
   "id": "aJhRls6Nou1F",
   "metadata": {
    "id": "aJhRls6Nou1F"
   },
   "outputs": [],
   "source": [
    "compute_metrics_holdout(model_name='DistilRoBerta',\n",
    "                        model_path='content/drive/MyDrive/output_DistilRoBerta/holdout/checkpoint-3820', \n",
    "                        average_method='macro',\n",
    "                        X_test=X_val)"
   ]
  },
  {
   "cell_type": "markdown",
   "id": "fXix2ZxJovAV",
   "metadata": {
    "id": "fXix2ZxJovAV"
   },
   "source": [
    "#### Epoch 4"
   ]
  },
  {
   "cell_type": "code",
   "execution_count": null,
   "id": "Y9eJWOgxovAW",
   "metadata": {
    "id": "Y9eJWOgxovAW"
   },
   "outputs": [],
   "source": [
    "compute_metrics_holdout(model_name='DistilRoBerta',\n",
    "                        model_path='content/drive/MyDrive/output_DistilRoBerta/holdout/checkpoint-3820', \n",
    "                        average_method='macro',\n",
    "                        X_test=X_val)"
   ]
  },
  {
   "cell_type": "markdown",
   "id": "IIlNer1novK0",
   "metadata": {
    "id": "IIlNer1novK0"
   },
   "source": [
    "#### Epoch 5"
   ]
  },
  {
   "cell_type": "code",
   "execution_count": null,
   "id": "ye5R6jzAovK0",
   "metadata": {
    "id": "ye5R6jzAovK0"
   },
   "outputs": [],
   "source": [
    "compute_metrics_holdout(model_name='DistilRoBerta',\n",
    "                        model_path='content/drive/MyDrive/output_DistilRoBerta/holdout/checkpoint-3820', \n",
    "                        average_method='macro',\n",
    "                        X_test=X_val)"
   ]
  },
  {
   "cell_type": "markdown",
   "id": "KBLqUiQ1ovVZ",
   "metadata": {
    "id": "KBLqUiQ1ovVZ"
   },
   "source": [
    "#### Epoch 6"
   ]
  },
  {
   "cell_type": "code",
   "execution_count": null,
   "id": "O-apa-TLovVZ",
   "metadata": {
    "id": "O-apa-TLovVZ"
   },
   "outputs": [],
   "source": [
    "compute_metrics_holdout(model_name='DistilRoBerta',\n",
    "                        model_path='content/drive/MyDrive/output_DistilRoBerta/holdout/checkpoint-3820', \n",
    "                        average_method='macro',\n",
    "                        X_test=X_val)"
   ]
  },
  {
   "cell_type": "markdown",
   "id": "L7EmY1j1ovfu",
   "metadata": {
    "id": "L7EmY1j1ovfu"
   },
   "source": [
    "#### Epoch 7"
   ]
  },
  {
   "cell_type": "code",
   "execution_count": null,
   "id": "_wAQnS0movfv",
   "metadata": {
    "id": "_wAQnS0movfv"
   },
   "outputs": [],
   "source": [
    "compute_metrics_holdout(model_name='DistilRoBerta',\n",
    "                        model_path='content/drive/MyDrive/output_DistilRoBerta/holdout/checkpoint-3820', \n",
    "                        average_method='macro',\n",
    "                        X_test=X_val)"
   ]
  },
  {
   "cell_type": "markdown",
   "id": "4z8pT4GNovqG",
   "metadata": {
    "id": "4z8pT4GNovqG"
   },
   "source": [
    "#### Epoch 8"
   ]
  },
  {
   "cell_type": "code",
   "execution_count": null,
   "id": "fTUNu3oGovqG",
   "metadata": {
    "id": "fTUNu3oGovqG"
   },
   "outputs": [],
   "source": [
    "compute_metrics_holdout(model_name='DistilRoBerta',\n",
    "                        model_path='content/drive/MyDrive/output_DistilRoBerta/holdout/checkpoint-3820', \n",
    "                        average_method='macro',\n",
    "                        X_test=X_val)"
   ]
  },
  {
   "cell_type": "markdown",
   "id": "kNI_yrqsov0D",
   "metadata": {
    "id": "kNI_yrqsov0D"
   },
   "source": [
    "#### Epoch 9"
   ]
  },
  {
   "cell_type": "code",
   "execution_count": null,
   "id": "hjCXHg0iov0E",
   "metadata": {
    "id": "hjCXHg0iov0E"
   },
   "outputs": [],
   "source": [
    "compute_metrics_holdout(model_name='DistilRoBerta',\n",
    "                        model_path='content/drive/MyDrive/output_DistilRoBerta/holdout/checkpoint-3820', \n",
    "                        average_method='macro',\n",
    "                        X_test=X_val)"
   ]
  },
  {
   "cell_type": "markdown",
   "id": "lzcPyw53ov-h",
   "metadata": {
    "id": "lzcPyw53ov-h"
   },
   "source": [
    "#### Epoch 10"
   ]
  },
  {
   "cell_type": "code",
   "execution_count": null,
   "id": "dRvzYMDWov-i",
   "metadata": {
    "id": "dRvzYMDWov-i"
   },
   "outputs": [],
   "source": [
    "compute_metrics_holdout(model_name='DistilRoBerta',\n",
    "                        model_path='content/drive/MyDrive/output_DistilRoBerta/holdout/checkpoint-3820', \n",
    "                        average_method='macro',\n",
    "                        X_test=X_val)"
   ]
  }
 ],
 "metadata": {
  "accelerator": "GPU",
  "colab": {
   "collapsed_sections": [
    "QDcKJB-xpELh",
    "vHPsS5ygoKsl",
    "b2vwnX1CoK65",
    "2i5rAbFSoLHp",
    "SYBy_9KLoLWP",
    "Cu90yLCeoLkg",
    "OK-hp0pSoLyC",
    "JIrTxiy0oL_9",
    "IQV79SfdoMNk",
    "U8k35H3XoMZ6",
    "thmj2fO9opmo",
    "NA9L5rR1oupA",
    "KSAu4IZKou1F",
    "fXix2ZxJovAV",
    "IIlNer1novK0",
    "KBLqUiQ1ovVZ",
    "L7EmY1j1ovfu",
    "4z8pT4GNovqG",
    "kNI_yrqsov0D",
    "lzcPyw53ov-h"
   ],
   "name": "Fine Tune Transformers from HuggingFace - Distilbert (Participant Role Sample).ipynb",
   "provenance": []
  },
  "kernelspec": {
   "display_name": "Python 3 (ipykernel)",
   "language": "python",
   "name": "python3"
  },
  "language_info": {
   "codemirror_mode": {
    "name": "ipython",
    "version": 3
   },
   "file_extension": ".py",
   "mimetype": "text/x-python",
   "name": "python",
   "nbconvert_exporter": "python",
   "pygments_lexer": "ipython3",
   "version": "3.9.7"
  }
 },
 "nbformat": 4,
 "nbformat_minor": 5
}
